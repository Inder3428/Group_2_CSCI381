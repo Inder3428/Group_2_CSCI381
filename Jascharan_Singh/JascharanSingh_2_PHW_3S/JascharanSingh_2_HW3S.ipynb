{
    "metadata": {
        "kernelspec": {
            "name": "SQL",
            "display_name": "SQL",
            "language": "sql"
        },
        "language_info": {
            "name": "sql",
            "version": ""
        }
    },
    "nbformat_minor": 2,
    "nbformat": 4,
    "cells": [
        {
            "cell_type": "markdown",
            "source": [
                "## ![](data:image/png;base64,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)  \n",
                "\n",
                "## Proposition\n",
                "\n",
                "Retrieve all customers along with their total number of orders, ensuring customers with zero orders are also listed. Filter to include only customers whose total order amount exceeds 50,000.\n",
                "\n",
                "* * *\n",
                "\n",
                "## Functional Specification\n",
                "\n",
                "### Query Name:\n",
                "\n",
                "`CustomerOrderCountWithTotalFilter`\n",
                "\n",
                "### Description:\n",
                "\n",
                "The query combines customers with orders and customers with no orders, and filters out those whose total order amount is less than or equal to 50,000.\n",
                "\n",
                "### Inputs:\n",
                "\n",
                "- **Sales.Customer**: Contains customer details.\n",
                "- **Sales.SalesOrderHeader**: Contains sales order details.\n",
                "\n",
                "### Outputs:\n",
                "\n",
                "- **CustomerID**: Unique identifier for the customer.\n",
                "- **OrderCount**: Number of orders placed by the customer (0 if no orders exist).\n",
                "\n",
                "### Steps:\n",
                "\n",
                "1. Perform a `JOIN` between `Sales.Customer` and `Sales.SalesOrderHeader` to count the total orders per customer.\n",
                "2. Use `UNION` to include customers with no orders by selecting from `Sales.Customer` where `CustomerID` is not in the sales header.\n",
                "3. Apply the `HAVING` clause to ensure only customers with total purchase amounts exceeding 50,000 are included.\n",
                "\n",
                "### Assumptions:\n",
                "\n",
                "- Every customer should be listed, even if they haven't placed an order.\n",
                "- Only customers whose total order amount exceeds 50,000 are relevant to this query.\n",
                "\n",
                "### Example Output:\n",
                "\n",
                "| CustomerID | OrderCount |\n",
                "| --- | --- |\n",
                "| 1001 | 5 |\n",
                "| 1002 | 0 |\n",
                "| 1003 | 3 |"
            ],
            "metadata": {
                "azdata_cell_guid": "2323e1a2-9410-452b-95c5-effbd4bf9b82"
            },
            "attachments": {}
        },
        {
            "cell_type": "code",
            "source": [
                "use NewAdventureWorks2019;\n",
                "go\n",
                "SELECT c.CustomerID, COUNT(soh.SalesOrderID) AS OrderCount\n",
                "FROM Sales.Customer c\n",
                "JOIN Sales.SalesOrderHeader soh\n",
                "    ON c.CustomerID = soh.CustomerID\n",
                "GROUP BY c.CustomerID\n",
                "\n",
                "UNION\n",
                "\n",
                "SELECT CustomerID, 0 AS OrderCount\n",
                "FROM Sales.Customer\n",
                "WHERE CustomerID NOT IN (SELECT CustomerID FROM Sales.SalesOrderHeader);"
            ],
            "metadata": {
                "azdata_cell_guid": "2a000a9a-28f6-480e-a2e3-b613ba35342c",
                "language": "sql"
            },
            "outputs": [],
            "execution_count": null
        },
        {
            "cell_type": "markdown",
            "source": [
                "## Proposition\n",
                "Find all customers who do not have any associated sales orders.\n",
                "\n",
                "## Functional Specification\n",
                "\n",
                "### Query Name\n",
                "`CustomersWithoutSalesOrders`\n",
                "\n",
                "### Description\n",
                "This query retrieves the customer IDs and account numbers of all customers who do not have any matching records in the sales orders table.\n",
                "\n",
                "### Inputs\n",
                "- **Sales.Customer**: Contains customer details such as `CustomerID` and `AccountNumber`.\n",
                "- **Sales.SalesOrderHeader**: Contains order-related data linked to customers via `CustomerID`.\n",
                "\n",
                "### Outputs\n",
                "- **CustomerID**: Unique identifier for each customer without a sales order.\n",
                "- **AccountNumber**: Account number associated with the customer.\n",
                "\n",
                "### Steps\n",
                "1. Retrieve all `CustomerID` and `AccountNumber` pairs from the **Sales.Customer** table.\n",
                "2. Retrieve all `CustomerID` and `AccountNumber` pairs from the **Sales.SalesOrderHeader** table.\n",
                "3. Use the `EXCEPT` operator to return only the customers from the **Sales.Customer** table who do not have matching records in the **SalesOrderHeader** table.\n",
                "\n",
                "### Assumptions\n",
                "- Every customer without a sales order should still exist in the **Sales.Customer** table.\n",
                "- Both tables share the same data types for `CustomerID` and `AccountNumber`.\n",
                "\n",
                "### Example Output\n",
                "| CustomerID | AccountNumber |\n",
                "|------------|---------------|\n",
                "| 1001       | AW00011001    |\n",
                "| 1002       | AW00011002    |\n",
                ""
            ],
            "metadata": {
                "azdata_cell_guid": "d4b41f6d-4f75-42b4-b175-7b55888d90ff"
            },
            "attachments": {}
        },
        {
            "cell_type": "code",
            "source": [
                "SELECT CustomerID, AccountNumber\n",
                "FROM Sales.Customer\n",
                "\n",
                "EXCEPT\n",
                "\n",
                "SELECT CustomerID, AccountNumber\n",
                "FROM Sales.SalesOrderHeader;"
            ],
            "metadata": {
                "azdata_cell_guid": "6722200e-62dd-44ff-b11e-4c173446bbe7",
                "language": "sql"
            },
            "outputs": [],
            "execution_count": null
        },
        {
            "cell_type": "markdown",
            "source": [
                "# Proposition\n",
                "Retrieve the business entity IDs, first and last names, and modified dates of individuals from the `Person.Person` table who have been modified after January 1, 2015. The results should include only those whose `BusinessEntityID` falls between 100 and 200 or whose last name starts with the letter 'S'.\n",
                "\n",
                "## Functional Specification\n",
                "\n",
                "### Query Name\n",
                "`FilteredPersonRecords`\n",
                "\n",
                "### Description\n",
                "This query retrieves records from the `Person.Person` table based on two criteria:\n",
                "1. The `ModifiedDate` is later than January 1, 2015.\n",
                "2. Either the `BusinessEntityID` is between 100 and 200 **or** the last name starts with 'S'.\n",
                "\n",
                "### Inputs\n",
                "- No input parameters.\n",
                "\n",
                "### Outputs\n",
                "- `BusinessEntityID` (INT): Unique identifier for each person.\n",
                "- `FirstName` (VARCHAR): Person’s first name.\n",
                "- `LastName` (VARCHAR): Person’s last name.\n",
                "- `ModifiedDate` (DATE): The date when the record was last modified.\n",
                "\n",
                "### Steps\n",
                "1. Query the `Person.Person` table.\n",
                "2. Filter records where `ModifiedDate` is greater than `'2015-01-01'`.\n",
                "3. Include only those records where:\n",
                "   - `BusinessEntityID` is between 100 and 200, **or**\n",
                "   - `LastName` starts with 'S'.\n",
                "\n",
                "### Assumptions\n",
                "- The `Person.Person` table exists in the database.\n",
                "- The `ModifiedDate` field is formatted as a valid date.\n",
                "- The filtering conditions (`BETWEEN` and `LIKE`) are applied as expected.\n",
                "\n",
                "### Example Output\n",
                "| BusinessEntityID | FirstName | LastName | ModifiedDate |\n",
                "|------------------|-----------|----------|--------------|\n",
                "| 150              | John      | Smith    | 2016-03-15   |\n",
                "| 180              | Sarah     | Sanders  | 2017-07-10   |\n",
                "| 105              | Mike      | Stone    | 2015-08-25   |\n",
                ""
            ],
            "metadata": {
                "azdata_cell_guid": "6b0b3de7-5c6e-478e-9598-93b2eeb72140"
            },
            "attachments": {}
        },
        {
            "cell_type": "code",
            "source": [
                "SELECT BusinessEntityID, FirstName, LastName, ModifiedDate\n",
                "FROM Person.Person\n",
                "WHERE ModifiedDate > '2015-01-01'\n",
                "  AND (BusinessEntityID BETWEEN 100 AND 200 OR LastName LIKE 'S%');"
            ],
            "metadata": {
                "azdata_cell_guid": "205a365f-5f5e-450f-8bf5-61f719755621",
                "language": "sql"
            },
            "outputs": [],
            "execution_count": null
        },
        {
            "cell_type": "markdown",
            "source": [
                "## Proposition\n",
                "Find the product categories where the average list price of products matches in both:  \n",
                "1. All products within the category.\n",
                "2. Products within the category whose list prices are above the overall average product price.\n",
                "\n",
                "---\n",
                "\n",
                "## Functional Specification\n",
                "\n",
                "### Query Name\n",
                "`Intersected_Category_AvgPrices`\n",
                "\n",
                "### Description\n",
                "This query identifies product categories where the average price remains the same under two conditions: (1) all products within the category, and (2) only products with prices above the average list price across all products.\n",
                "\n",
                "### Inputs\n",
                "- `Production.Product`: Contains product details, including `ListPrice` and `ProductSubcategoryID`.\n",
                "- `Production.ProductSubcategory`: Links products to their respective subcategories using `ProductSubcategoryID`.\n",
                "- `Production.ProductCategory`: Links subcategories to product categories using `ProductCategoryID`.\n",
                "\n",
                "### Outputs\n",
                "- `Category`: Name of the product category.\n",
                "- `AvgPrice`: Average list price of products in the matching categories.\n",
                "\n",
                "### Steps\n",
                "1. **Join Tables**: Join `Product`, `ProductSubcategory`, and `ProductCategory` to link products with their categories.\n",
                "2. **Calculate Average Prices for All Products**: Group by category and calculate the average list price.\n",
                "3. **Filter by Above-Average Prices**: Use a subquery to filter products with a list price above the overall average.\n",
                "4. **Intersection**: Use `INTERSECT` to find the categories where the average price is consistent between all products and those with above-average prices.\n",
                "\n",
                "### Assumptions\n",
                "- Every product belongs to a subcategory, and every subcategory belongs to a category.\n",
                "- Product list prices are non-null and valid for calculation.\n",
                "- There are no duplicate product-category relationships.\n",
                "\n",
                "### Example Output\n",
                "| Category        | AvgPrice |\n",
                "|----------------|----------|\n",
                "| Clothing       | 45.99    |\n",
                "| Electronics    | 399.00   |\n",
                "| Home Supplies  | 25.75    |"
            ],
            "metadata": {
                "azdata_cell_guid": "57a8ddcb-0b02-4d9d-a7bd-1e94e15f6892"
            },
            "attachments": {}
        },
        {
            "cell_type": "code",
            "source": [
                "SELECT pc.Name AS Category, AVG(p.ListPrice) AS AvgPrice\n",
                "FROM Production.Product p\n",
                "JOIN Production.ProductSubcategory ps\n",
                "    ON p.ProductSubcategoryID = ps.ProductSubcategoryID\n",
                "JOIN Production.ProductCategory pc\n",
                "    ON ps.ProductCategoryID = pc.ProductCategoryID\n",
                "GROUP BY pc.Name\n",
                "\n",
                "INTERSECT\n",
                "\n",
                "SELECT pc.Name AS Category, AVG(p.ListPrice) AS AvgPrice\n",
                "FROM Production.Product p\n",
                "JOIN Production.ProductSubcategory ps\n",
                "    ON p.ProductSubcategoryID = ps.ProductSubcategoryID\n",
                "JOIN Production.ProductCategory pc\n",
                "    ON ps.ProductCategoryID = pc.ProductCategoryID\n",
                "WHERE p.ListPrice > (SELECT AVG(ListPrice) FROM Production.Product)\n",
                "GROUP BY pc.Name;"
            ],
            "metadata": {
                "azdata_cell_guid": "26ed670e-8fce-4b70-9a6c-01885f327193",
                "language": "sql"
            },
            "outputs": [],
            "execution_count": null
        },
        {
            "cell_type": "markdown",
            "source": [
                "## Proposition\n",
                "\n",
                "Find all products that exist in the Production.Product table but are not part of any sales order, and also filter those that belong to a product category with an average list price above the overall product average.\n",
                "\n",
                "---\n",
                "\n",
                "## Functional Specification\n",
                "\n",
                "### Query Name:\n",
                "Find Non-Sold Products with Above-Average Category Prices\n",
                "\n",
                "### Description:\n",
                "This query identifies products that are not sold in any sales order and whose category’s average price is higher than the overall average price of all products.\n",
                "\n",
                "### Inputs:\n",
                "- **Production.Product**: Contains details about all products.\n",
                "- **Sales.SalesOrderDetail**: Contains details about products included in sales orders.\n",
                "- **Production.ProductCategory**: Contains product categories.\n",
                "- **Production.ProductSubcategory**: Contains product subcategories.\n",
                "\n",
                "### Outputs:\n",
                "- **ProductID**: The ID of the product.\n",
                "- **Name**: The name of the product.\n",
                "\n",
                "### Steps:\n",
                "1. **Identify unsold products**: Use `EXCEPT` to find products listed in the `Production.Product` table but not present in any sales order.\n",
                "2. **Intersect with above-average priced categories**: Use `INTERSECT` to filter products that belong to categories with an average price above the overall product average.\n",
                "3. **Join relevant tables**: Use joins to retrieve necessary product, category, and subcategory details.\n",
                "4. **Calculate average price**: Perform a nested query to compute the overall product average, and group by category to get their average prices.\n",
                "\n",
                "### Assumptions:\n",
                "- Only products listed in the `Production.Product` table and not in any sales orders are considered.\n",
                "- Categories with an average price above the global product average are relevant.\n",
                "\n",
                "### Example Output:\n",
                "| ProductID | Name            |\n",
                "|-----------|-----------------|\n",
                "| 101       | Mountain Bike   |\n",
                "| 203       | Road Helmet     |\n",
                "| 305       | Touring Pedals  |"
            ],
            "metadata": {
                "azdata_cell_guid": "f19d2d3c-0e23-484e-9474-c145b55b876b"
            },
            "attachments": {}
        },
        {
            "cell_type": "code",
            "source": [
                "SELECT p.ProductID, p.Name\n",
                "FROM Production.Product p\n",
                "\n",
                "EXCEPT\n",
                "\n",
                "SELECT sod.ProductID, p.Name\n",
                "FROM Sales.SalesOrderDetail sod\n",
                "JOIN Production.Product p ON p.ProductID = sod.ProductID;"
            ],
            "metadata": {
                "azdata_cell_guid": "5164a01c-b89d-41f0-89a5-34ab3f3b1e87",
                "language": "sql"
            },
            "outputs": [],
            "execution_count": null
        },
        {
            "cell_type": "markdown",
            "source": [
                "## Proposition\n",
                "Find the number of orders placed each month in 2020 and the total number of orders placed each year.\n",
                "\n",
                "---\n",
                "\n",
                "## Functional Specification\n",
                "\n",
                "### Query Name:\n",
                "Monthly and Yearly Order Counts\n",
                "\n",
                "### Description:\n",
                "This query retrieves:\n",
                "1. The total number of orders grouped by each month for the year 2020.\n",
                "2. The total number of orders grouped by each year across all data available.\n",
                "\n",
                "### Inputs:\n",
                "- **Table:** `Sales.SalesOrderHeader`\n",
                "- **Columns:**\n",
                "  - `OrderDate`\n",
                "\n",
                "### Outputs:\n",
                "- **OrderMonth:** Month of the order (for 2020 data).\n",
                "- **OrderYear:** Year of the order (for all years).\n",
                "- **OrdersCount:** Number of orders placed.\n",
                "\n",
                "### Query Steps:\n",
                "1. **First part (Monthly Orders for 2020):**\n",
                "   - Select the month from `OrderDate`.\n",
                "   - Count the number of orders.\n",
                "   - Filter for orders only in the year 2020.\n",
                "   - Group results by month.\n",
                "\n",
                "2. **Second part (Yearly Orders):**\n",
                "   - Select the year from `OrderDate`.\n",
                "   - Count the total number of orders.\n",
                "   - Group results by year.\n",
                "\n",
                "3. **Union:** \n",
                "   - Combine the results of both queries to show monthly order counts for 2020 and yearly order counts for all years.\n",
                "\n",
                "### Assumptions:\n",
                "- There are valid records in the `Sales.SalesOrderHeader` table with non-null `OrderDate` values.\n",
                "\n",
                "### Example Output:\n",
                "| OrderMonth | OrdersCount |\n",
                "|------------|-------------|\n",
                "| 1          | 100         |\n",
                "| 2          | 150         |\n",
                "\n",
                "| OrderYear  | OrdersCount |\n",
                "|------------|-------------|\n",
                "| 2019       | 1200        |\n",
                "| 2020       | 1400        |\n",
                "| 2021       | 1100        |"
            ],
            "metadata": {
                "azdata_cell_guid": "0dae4af4-849b-4df2-b719-ddd48b4391df"
            },
            "attachments": {}
        },
        {
            "cell_type": "code",
            "source": [
                "SELECT MONTH(OrderDate) AS OrderMonth, COUNT(*) AS OrdersCount\n",
                "FROM Sales.SalesOrderHeader\n",
                "WHERE YEAR(OrderDate) = 2020\n",
                "GROUP BY MONTH(OrderDate)\n",
                "\n",
                "UNION\n",
                "\n",
                "SELECT YEAR(OrderDate) AS OrderYear, COUNT(*) AS OrdersCount\n",
                "FROM Sales.SalesOrderHeader\n",
                "GROUP BY YEAR(OrderDate);"
            ],
            "metadata": {
                "azdata_cell_guid": "3d2d090d-57b1-481a-804c-e83555c683a4",
                "language": "sql"
            },
            "outputs": [],
            "execution_count": null
        },
        {
            "cell_type": "markdown",
            "source": [
                "## Proposition\n",
                "\n",
                "Find all products with a list price above the average and that either have a product ID between 100 and 500 or contain \"Bike\" in their name.\n",
                "\n",
                "## Functional Specification\n",
                "\n",
                "### Query Name:\n",
                "Products with Above-Average Price and Specific Conditions\n",
                "\n",
                "### Description:\n",
                "This query retrieves products from the `Production.Product` table where the list price is higher than the average list price of all products. Additionally, the products must either have a `ProductID` between 100 and 500 or their name must include the word \"Bike\".\n",
                "\n",
                "### Inputs:\n",
                "- **Table:** `Production.Product`\n",
                "- **Columns:** \n",
                "  - `ProductID`: The product's unique identifier.\n",
                "  - `Name`: The product's name.\n",
                "  - `ListPrice`: The product's list price.\n",
                "\n",
                "### Outputs:\n",
                "- `ProductID`: The product's ID.\n",
                "- `Name`: The product's name.\n",
                "- `ListPrice`: The product's list price.\n",
                "\n",
                "### Steps:\n",
                "1. **Filter by ListPrice:** Select products where `ListPrice` is greater than the average list price of all products.\n",
                "2. **Filter by ProductID or Name:** From the filtered products, include only those with:\n",
                "   - A `ProductID` between 100 and 500.\n",
                "   - OR a name containing the word \"Bike\".\n",
                "\n",
                "### Assumptions:\n",
                "- The `ListPrice` column contains numeric values.\n",
                "- Product names are stored in the `Name` column, and the search for \"Bike\" is case-insensitive.\n",
                "- Average calculation includes all products in the `Production.Product` table.\n",
                "\n",
                "### Example Output:\n",
                "| ProductID | Name              | ListPrice |\n",
                "|-----------|-------------------|-----------|\n",
                "| 120       | Mountain Bike     | 800.00    |\n",
                "| 240       | Road Bike         | 1200.00   |\n",
                "| 105       | Touring Bike Frame | 400.00   |"
            ],
            "metadata": {
                "azdata_cell_guid": "64d275e0-3f34-44de-acb3-dc5ca7eaa1eb"
            },
            "attachments": {}
        },
        {
            "cell_type": "code",
            "source": [
                "SELECT ProductID, Name, ListPrice\n",
                "FROM Production.Product\n",
                "WHERE ListPrice > (SELECT AVG(ListPrice) FROM Production.Product)\n",
                "  AND (ProductID BETWEEN 100 AND 500 OR Name LIKE '%Bike%');"
            ],
            "metadata": {
                "azdata_cell_guid": "c14a2b3a-d664-4eb9-87da-87bcd5fe9fdf",
                "language": "sql"
            },
            "outputs": [],
            "execution_count": null
        },
        {
            "cell_type": "markdown",
            "source": [
                "## Proposition\n",
                "Find product categories that have more than 10 products and ensure that these categories also appear in a list of all product categories.\n",
                "\n",
                "---\n",
                "\n",
                "## Functional Specification\n",
                "\n",
                "### Query Name\n",
                "Product Categories with More than 10 Products (Intersection Query)\n",
                "\n",
                "### Description\n",
                "This query identifies product categories from the `Production` schema that contain more than 10 products. It ensures that the categories appear in both the complete list of all product categories and the list of categories with more than 10 products using the `INTERSECT` operator.\n",
                "\n",
                "### Inputs\n",
                "- **Production.Product**: Table containing product details.\n",
                "- **Production.ProductSubcategory**: Table mapping products to subcategories.\n",
                "- **Production.ProductCategory**: Table containing product category names.\n",
                "\n",
                "### Outputs\n",
                "- **Category**: Name of the product category.\n",
                "- **TotalProducts**: Number of products in the category.\n",
                "\n",
                "### Steps\n",
                "1. Perform a `JOIN` between `Product`, `ProductSubcategory`, and `ProductCategory` to list all categories with their total products.\n",
                "2. Group products by category and count the number of products in each category.\n",
                "3. Use the `INTERSECT` operator to find categories that appear in both:\n",
                "   - The complete list of product categories with product counts.\n",
                "   - The list of categories having more than 10 products.\n",
                "\n",
                "### Assumptions\n",
                "- Product categories with no products will not appear in the results.\n",
                "- Each product belongs to a valid subcategory and category.\n",
                "- Only categories with more than 10 products will be displayed in the final result.\n",
                "\n",
                "### Example Output\n",
                "| Category        | TotalProducts |\n",
                "|----------------|---------------|\n",
                "| Bikes          | 15            |\n",
                "| Accessories    | 12            |\n",
                ""
            ],
            "metadata": {
                "azdata_cell_guid": "5395ef67-6c07-4cf5-8e68-d79b695a700a"
            },
            "attachments": {}
        },
        {
            "cell_type": "code",
            "source": [
                "SELECT pc.Name AS Category, COUNT(p.ProductID) AS TotalProducts\n",
                "FROM Production.Product p\n",
                "JOIN Production.ProductSubcategory ps\n",
                "    ON p.ProductSubcategoryID = ps.ProductSubcategoryID\n",
                "JOIN Production.ProductCategory pc\n",
                "    ON ps.ProductCategoryID = pc.ProductCategoryID\n",
                "GROUP BY pc.Name\n",
                "\n",
                "INTERSECT\n",
                "\n",
                "SELECT pc.Name AS Category, COUNT(p.ProductID) AS TotalProducts\n",
                "FROM Production.Product p\n",
                "JOIN Production.ProductSubcategory ps\n",
                "    ON p.ProductSubcategoryID = ps.ProductSubcategoryID\n",
                "JOIN Production.ProductCategory pc\n",
                "    ON ps.ProductCategoryID = pc.ProductCategoryID\n",
                "GROUP BY pc.Name\n",
                "HAVING COUNT(p.ProductID) > 10;"
            ],
            "metadata": {
                "azdata_cell_guid": "de243c5d-ffd6-4433-9ce6-678407accbc7",
                "language": "sql"
            },
            "outputs": [],
            "execution_count": null
        },
        {
            "cell_type": "markdown",
            "source": [
                "# Proposition\n",
                "\n",
                "Find the product categories where the total number of products exceeds 10, intersected with all product categories and their product counts.\n",
                "\n",
                "## Functional Specification\n",
                "\n",
                "### Query Name\n",
                "`ProductCategoriesWithMoreThanTenProducts`\n",
                "\n",
                "### Description\n",
                "This query returns a list of product categories along with their total product counts. It filters the categories to include only those with more than 10 products by using the `INTERSECT` clause to compare with the list of all product categories.\n",
                "\n",
                "### Inputs\n",
                "- **Production.Product**: Contains product details.\n",
                "- **Production.ProductSubcategory**: Contains product subcategory details.\n",
                "- **Production.ProductCategory**: Contains product category details.\n",
                "\n",
                "### Outputs\n",
                "- **Category**: Name of the product category.\n",
                "- **TotalProducts**: Total number of products in the category.\n",
                "\n",
                "### Steps\n",
                "1. Join `Production.Product` with `Production.ProductSubcategory` on `ProductSubcategoryID`.\n",
                "2. Join `Production.ProductSubcategory` with `Production.ProductCategory` on `ProductCategoryID`.\n",
                "3. Group by product category name to count the total products.\n",
                "4. Use `INTERSECT` to find categories appearing in both the complete list and the list of categories having more than 10 products.\n",
                "\n",
                "### Assumptions\n",
                "- All products belong to valid subcategories and categories.\n",
                "- The dataset may contain categories with zero products, but they are not included unless they meet the conditions of the intersection.\n",
                "\n",
                "### Example Output\n",
                "| Category        | TotalProducts |\n",
                "|-----------------|---------------|\n",
                "| Bikes           | 15            |\n",
                "| Accessories     | 12            |"
            ],
            "metadata": {
                "azdata_cell_guid": "a3d7488d-f816-43b3-af03-64542fcf24de"
            },
            "attachments": {}
        },
        {
            "cell_type": "code",
            "source": [
                "SELECT v.BusinessEntityID, v.Name, SUM(pod.LineTotal) AS TotalOrderValue\n",
                "FROM Purchasing.Vendor v\n",
                "JOIN Purchasing.PurchaseOrderHeader poh\n",
                "    ON v.BusinessEntityID = poh.VendorID\n",
                "JOIN Purchasing.PurchaseOrderDetail pod\n",
                "    ON poh.PurchaseOrderID = pod.PurchaseOrderID\n",
                "GROUP BY v.BusinessEntityID, v.Name\n",
                "HAVING SUM(pod.LineTotal) > 50000\n",
                "    AND (v.BusinessEntityID < 500 OR v.Name LIKE '%Supply%');"
            ],
            "metadata": {
                "azdata_cell_guid": "e0fc3ba2-c41e-4949-8f29-d6ac25e9c2b3",
                "language": "sql"
            },
            "outputs": [],
            "execution_count": null
        },
        {
            "cell_type": "markdown",
            "source": [
                "## Proposition\n",
                "Find all customers who have purchased the 'Mountain Bike' product.\n",
                "\n",
                "## Functional Specification\n",
                "\n",
                "### Query Name\n",
                "`Customers_Who_Purchased_Mountain_Bike`\n",
                "\n",
                "### Description\n",
                "This query identifies distinct customers who have bought the 'Mountain Bike' product from the company's sales records.\n",
                "\n",
                "### Inputs\n",
                "- None (Static product name: 'Mountain Bike')\n",
                "\n",
                "### Outputs\n",
                "- **CustomerID**: Unique identifier of the customer.\n",
                "- **ProductName**: Name of the purchased product (specifically 'Mountain Bike').\n",
                "\n",
                "### Steps\n",
                "1. **Join `Sales.Customer` and `Sales.SalesOrderHeader`**: Match each customer's orders based on `CustomerID`.\n",
                "2. **Join `Sales.SalesOrderHeader` and `Sales.SalesOrderDetail`**: Get order details linked to the orders by `SalesOrderID`.\n",
                "3. **Join `Sales.SalesOrderDetail` with `Production.Product`**: Match the ordered products based on `ProductID`.\n",
                "4. **Filter by Product Name**: Retrieve only records where the product name is 'Mountain Bike'.\n",
                "5. **Select Distinct Customers**: Ensure no duplicate customer records are returned.\n",
                "\n",
                "### Assumptions\n",
                "- Each product has a unique name.\n",
                "- A customer may purchase the same product multiple times, but each customer should appear only once in the result.\n",
                "\n",
                "### Example Output\n",
                "| CustomerID | ProductName   |\n",
                "|------------|---------------|\n",
                "| 12345      | Mountain Bike |\n",
                "| 67890      | Mountain Bike |\n",
                "\n",
                ""
            ],
            "metadata": {
                "azdata_cell_guid": "d64f01e3-6433-4d4e-b989-9e47d1a57205"
            },
            "attachments": {}
        },
        {
            "cell_type": "code",
            "source": [
                "SELECT DISTINCT c.CustomerID, p.Name AS ProductName\n",
                "FROM Sales.Customer c\n",
                "JOIN Sales.SalesOrderHeader soh\n",
                "    ON c.CustomerID = soh.CustomerID\n",
                "JOIN Sales.SalesOrderDetail sod\n",
                "    ON soh.SalesOrderID = sod.SalesOrderID\n",
                "JOIN Production.Product p\n",
                "    ON sod.ProductID = p.ProductID\n",
                "WHERE p.Name = 'Mountain Bike';"
            ],
            "metadata": {
                "azdata_cell_guid": "500272a4-7f31-4837-a7c6-0157d04e42f4",
                "language": "sql"
            },
            "outputs": [
                {
                    "output_type": "display_data",
                    "data": {
                        "text/html": "(0 rows affected)"
                    },
                    "metadata": {}
                },
                {
                    "output_type": "display_data",
                    "data": {
                        "text/html": "Total execution time: 00:00:00.031"
                    },
                    "metadata": {}
                },
                {
                    "output_type": "execute_result",
                    "metadata": {},
                    "execution_count": 11,
                    "data": {
                        "application/vnd.dataresource+json": {
                            "schema": {
                                "fields": [
                                    {
                                        "name": "CustomerID"
                                    },
                                    {
                                        "name": "ProductName"
                                    }
                                ]
                            },
                            "data": []
                        },
                        "text/html": [
                            "<table>",
                            "<tr><th>CustomerID</th><th>ProductName</th></tr>",
                            "</table>"
                        ]
                    }
                }
            ],
            "execution_count": 11
        }
    ]
}