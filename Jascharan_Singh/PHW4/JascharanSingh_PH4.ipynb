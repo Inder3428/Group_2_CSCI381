{
    "metadata": {
        "kernelspec": {
            "name": "SQL",
            "display_name": "SQL",
            "language": "sql"
        },
        "language_info": {
            "name": "sql",
            "version": ""
        }
    },
    "nbformat_minor": 2,
    "nbformat": 4,
    "cells": [
        {
            "cell_type": "markdown",
            "source": [
                "# ![](data:image/png;base64,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)\n",
                "\n",
                "# Proposition and Functional Specification\n",
                "\n",
                "## Proposition:\n",
                "\n",
                "Insert a new order line entry into the `Sales.OrderLines` table to capture details about the sale of a specific product.\n",
                "\n",
                "## Functional Specification\n",
                "\n",
                "### Query Name:\n",
                "\n",
                "`Insert_New_OrderLine`\n",
                "\n",
                "### Description:\n",
                "\n",
                "This query inserts a new row into the `Sales.OrderLines` table for an order containing details about a newly added product, including its ID, description, quantity, price, and other relevant attributes.\n",
                "\n",
                "### Inputs:\n",
                "\n",
                "- **OrderID**: 1001\n",
                "- **StockItemID**: 23\n",
                "- **Description**: 'New Product A'\n",
                "- **Quantity**: 5\n",
                "- **UnitPrice**: 99.99\n",
                "- **PackageTypeID**: 2\n",
                "- **TaxRate**: 5.0\n",
                "- **PickedQuantity**: 5\n",
                "- **LastEditedBy**: 1\n",
                "\n",
                "### Outputs:\n",
                "\n",
                "A new row is successfully inserted into the `Sales.OrderLines` table. No output is returned directly from the query unless monitored through an `INSERT` confirmation.\n",
                "\n",
                "### Steps:\n",
                "\n",
                "1. Verify that the `OrderID` (1001) exists in the `Sales.Orders` table to ensure data integrity.\n",
                "2. Ensure that the `StockItemID` (23) refers to a valid product in the `StockItems` table.\n",
                "3. Confirm that `PackageTypeID` (2) exists within the `PackageTypes` reference table.\n",
                "4. Validate that the `LastEditedBy` value (1) corresponds to a valid employee in the system.\n",
                "5. Execute the `INSERT` query to add the new order line.\n",
                "\n",
                "### Assumptions:\n",
                "\n",
                "- The `OrderID` exists and is valid.\n",
                "- The `LastEditedBy` value corresponds to an active employee.\n",
                "- The stock item and package type IDs are correctly mapped in the system.\n",
                "\n",
                "### Example Output:\n",
                "\n",
                "The following row is added to the `Sales.OrderLines` table:\n",
                "\n",
                "| OrderID | StockItemID | Description | Quantity | UnitPrice | PackageTypeID | TaxRate | PickedQuantity | LastEditedBy |\n",
                "| --- | --- | --- | --- | --- | --- | --- | --- | --- |\n",
                "| 1001 | 23 | New Product A | 5 | 99.99 | 2 | 5.0 | 5 | 1 |"
            ],
            "metadata": {
                "azdata_cell_guid": "bc488928-2c7f-4230-8650-93c2f8e014db"
            },
            "attachments": {}
        },
        {
            "cell_type": "code",
            "source": [
                "UPDATE Sales.Invoices\n",
                "SET IsCreditNote = 1, CreditNoteReason = 'Customer returned product'\n",
                "WHERE InvoiceID = 101;"
            ],
            "metadata": {
                "azdata_cell_guid": "ab77d0fb-b961-446d-9c94-38915d24628c",
                "language": "sql"
            },
            "outputs": [
                {
                    "output_type": "display_data",
                    "data": {
                        "text/html": "(1 row affected)"
                    },
                    "metadata": {}
                },
                {
                    "output_type": "display_data",
                    "data": {
                        "text/html": "Total execution time: 00:00:00.005"
                    },
                    "metadata": {}
                }
            ],
            "execution_count": 4
        },
        {
            "cell_type": "markdown",
            "source": [
                "# Proposition and Functional Specification\n",
                "\n",
                "## Proposition:\n",
                "Update the `Sales.Invoices` table to mark an invoice as a credit note due to a product return.\n",
                "\n",
                "## Functional Specification\n",
                "\n",
                "### Query Name:\n",
                "`Update_Invoice_CreditNote`\n",
                "\n",
                "### Description:\n",
                "This query updates the `Sales.Invoices` table to reflect that a specific invoice has been converted to a credit note due to a customer's product return.\n",
                "\n",
                "### Inputs:\n",
                "- **InvoiceID**: 101  \n",
                "- **IsCreditNote**: 1  \n",
                "- **CreditNoteReason**: 'Customer returned product'\n",
                "\n",
                "### Outputs:\n",
                "- The `IsCreditNote` field is set to 1 for the specified invoice.\n",
                "- The `CreditNoteReason` is updated to 'Customer returned product' for the same invoice.\n",
                "\n",
                "### Steps:\n",
                "1. Identify the invoice with `InvoiceID` 101 in the `Sales.Invoices` table.\n",
                "2. Set the `IsCreditNote` field to 1, indicating that it is now a credit note.\n",
                "3. Update the `CreditNoteReason` field to 'Customer returned product' to provide context for the credit note.\n",
                "4. Verify that the update affects exactly one row to ensure data accuracy.\n",
                "\n",
                "### Assumptions:\n",
                "- Invoice with `InvoiceID` 101 exists in the `Sales.Invoices` table.\n",
                "- No other updates or triggers interfere with this operation.\n",
                "\n",
                "### Example Output:\n",
                "The following row is updated in the `Sales.Invoices` table:\n",
                "\n",
                "| InvoiceID | IsCreditNote | CreditNoteReason           |\n",
                "|-----------|--------------|----------------------------|\n",
                "| 101       | 1            | Customer returned product  |\n",
                "\n",
                "# Proposition and Functional Specification\n",
                "\n",
                "## Proposition:\n",
                "Update the `Sales.Invoices` table to mark an invoice as a credit note due to a product return.\n",
                "\n",
                "## Functional Specification\n",
                "\n",
                "### Query Name:\n",
                "`Update_Invoice_CreditNote`\n",
                "\n",
                "### Description:\n",
                "This query updates the `Sales.Invoices` table to reflect that a specific invoice has been converted to a credit note due to a customer's product return.\n",
                "\n",
                "### Inputs:\n",
                "- **InvoiceID**: 101  \n",
                "- **IsCreditNote**: 1  \n",
                "- **CreditNoteReason**: 'Customer returned product'\n",
                "\n",
                "### Outputs:\n",
                "- The `IsCreditNote` field is set to 1 for the specified invoice.\n",
                "- The `CreditNoteReason` is updated to 'Customer returned product' for the same invoice.\n",
                "\n",
                "### Steps:\n",
                "1. Identify the invoice with `InvoiceID` 101 in the `Sales.Invoices` table.\n",
                "2. Set the `IsCreditNote` field to 1, indicating that it is now a credit note.\n",
                "3. Update the `CreditNoteReason` field to 'Customer returned product' to provide context for the credit note.\n",
                "4. Verify that the update affects exactly one row to ensure data accuracy.\n",
                "\n",
                "### Assumptions:\n",
                "- Invoice with `InvoiceID` 101 exists in the `Sales.Invoices` table.\n",
                "- No other updates or triggers interfere with this operation.\n",
                "\n",
                "### Example Output:\n",
                "The following row is updated in the `Sales.Invoices` table:\n",
                "\n",
                "| InvoiceID | IsCreditNote | CreditNoteReason           |\n",
                "|-----------|--------------|----------------------------|\n",
                "| 101       | 1            | Customer returned product  |\n",
                "\n",
                ""
            ],
            "metadata": {
                "azdata_cell_guid": "b2cd2253-0497-4b32-82c8-76c350498960"
            },
            "attachments": {}
        },
        {
            "cell_type": "code",
            "source": [
                "INSERT INTO Sales.OrderLines \n",
                "(OrderID, StockItemID, Description, Quantity, UnitPrice, PackageTypeID, TaxRate, PickedQuantity, LastEditedBy) \n",
                "VALUES \n",
                "(1001, 23, 'New Product A', 5, 99.99, 2, 5.0, 5, 1);  -- Ensure LastEditedBy value is valid."
            ],
            "metadata": {
                "azdata_cell_guid": "ba2d64cb-dd38-47b9-8e05-384026868445",
                "language": "sql"
            },
            "outputs": [
                {
                    "output_type": "display_data",
                    "data": {
                        "text/html": "(1 row affected)"
                    },
                    "metadata": {}
                },
                {
                    "output_type": "display_data",
                    "data": {
                        "text/html": "Total execution time: 00:00:00.018"
                    },
                    "metadata": {}
                }
            ],
            "execution_count": 5
        },
        {
            "cell_type": "markdown",
            "source": [
                "# Proposition and Functional Specification\n",
                "\n",
                "## Proposition:\n",
                "\n",
                "Modify the foreign key constraint on the `Sales.OrderLines` table to enforce cascading deletes from the `Sales.Orders` table, then delete old orders placed before January 1, 2023.\n",
                "\n",
                "## Functional Specification\n",
                "\n",
                "### Query Name:\n",
                "\n",
                "`Modify_Constraint_And_Delete_Old_Orders`\n",
                "\n",
                "### Description:\n",
                "\n",
                "This operation first alters the `Sales.OrderLines` table to modify the foreign key constraint for `OrderID` with a `CASCADE` delete rule. It ensures that when an order is deleted from the `Sales.Orders` table, all related order lines are automatically removed. After modifying the constraint, it deletes all orders placed before January 1, 2023.\n",
                "\n",
                "### Steps:\n",
                "\n",
                "1. **Drop the existing foreign key constraint**:\n",
                "    - `FK_Sales_OrderLines_OrderID_Sales_Orders` is removed from the `Sales.OrderLines` table.\n",
                "2. **Add the new foreign key constraint**:\n",
                "    - A new constraint with `ON DELETE CASCADE` is added to `OrderID` in `Sales.OrderLines`, ensuring that related order lines are automatically deleted when their corresponding order is deleted.\n",
                "3. **Delete orders placed before 2023**:\n",
                "    - All orders with an `OrderDate` earlier than '2023-01-01' are deleted from `Sales.Orders`.\n",
                "    - The related rows in `Sales.OrderLines` will also be deleted due to the cascading rule.\n",
                "\n",
                "### Inputs:\n",
                "\n",
                "- **OrderDate**: '2023-01-01'\n",
                "- **OrderID**: Referenced in both `Sales.Orders` and `Sales.OrderLines`.\n",
                "\n",
                "### Outputs:\n",
                "\n",
                "- All orders older than January 1, 2023, are removed.\n",
                "- Related order lines for these orders are deleted automatically due to the cascade constraint.\n",
                "\n",
                "### Example:\n",
                "\n",
                "If the following orders existed:\n",
                "\n",
                "| OrderID | OrderDate |\n",
                "| --- | --- |\n",
                "| 1001 | 2022-12-25 |\n",
                "| 1002 | 2023-01-05 |"
            ],
            "metadata": {
                "azdata_cell_guid": "710aa43d-1fe7-4e95-af23-89cd2671d1e9"
            },
            "attachments": {}
        },
        {
            "cell_type": "code",
            "source": [
                "ALTER TABLE Sales.OrderLines\n",
                "DROP CONSTRAINT FK_Sales_OrderLines_OrderID_Sales_Orders;\n",
                "\n",
                "ALTER TABLE Sales.OrderLines\n",
                "ADD CONSTRAINT FK_Sales_OrderLines_OrderID_Sales_Orders\n",
                "FOREIGN KEY (OrderID) REFERENCES Sales.Orders(OrderID)\n",
                "ON DELETE CASCADE;\n",
                "\n",
                "DELETE FROM Sales.Orders\n",
                "WHERE OrderDate < '2023-01-01';"
            ],
            "metadata": {
                "azdata_cell_guid": "e4827e14-85e9-4470-9b21-b3144b3ab944",
                "language": "sql"
            },
            "outputs": [
                {
                    "output_type": "error",
                    "evalue": "Msg 547, Level 16, State 0, Line 9\nThe DELETE statement conflicted with the REFERENCE constraint \"FK_Sales_Invoices_OrderID_Sales_Orders\". The conflict occurred in database \"NewWideWorldImporters\", table \"Sales.Invoices\", column 'OrderID'.",
                    "ename": "",
                    "traceback": []
                },
                {
                    "output_type": "display_data",
                    "data": {
                        "text/html": "The statement has been terminated."
                    },
                    "metadata": {}
                },
                {
                    "output_type": "display_data",
                    "data": {
                        "text/html": "Total execution time: 00:00:09.599"
                    },
                    "metadata": {}
                }
            ],
            "execution_count": 6
        },
        {
            "cell_type": "markdown",
            "source": [
                "# Proposition and Functional Specification\n",
                "\n",
                "## Proposition:\n",
                "Retrieve the names and populations of cities with a population greater than 1 million.\n",
                "\n",
                "## Functional Specification\n",
                "\n",
                "### Query Name:\n",
                "`Select_Cities_With_High_Population`\n",
                "\n",
                "### Description:\n",
                "This query retrieves the `CityName` and `LatestRecordedPopulation` from the `Application.Cities` table for cities where the population exceeds 1 million.\n",
                "\n",
                "### Inputs:\n",
                "- **LatestRecordedPopulation**: Population threshold of 1,000,000.\n",
                "\n",
                "### Outputs:\n",
                "- **CityName**: Name of the city.\n",
                "- **LatestRecordedPopulation**: Population of the city.\n",
                "\n",
                "### Steps:\n",
                "1. Query the `Application.Cities` table.\n",
                "2. Filter results to include only cities with a `LatestRecordedPopulation` greater than 1,000,000.\n",
                "3. Return the `CityName` and `LatestRecordedPopulation` for qualifying cities.\n",
                "\n",
                "### Assumptions:\n",
                "- The `LatestRecordedPopulation` values are accurate and up-to-date.\n",
                "- The population data is not null or contains no negative values.\n",
                "\n",
                "### Example Output:\n",
                "| CityName       | LatestRecordedPopulation |\n",
                "|----------------|--------------------------|\n",
                "| New York       | 8,336,817                |\n",
                "| Los Angeles    | 3,979,576                |\n",
                "| Tokyo          | 13,515,271               |\n",
                "\n",
                ""
            ],
            "metadata": {
                "azdata_cell_guid": "7d4a47b6-10e8-4590-b7db-1d9fc32ba4bb"
            },
            "attachments": {}
        },
        {
            "cell_type": "code",
            "source": [
                "SELECT CityName, LatestRecordedPopulation\n",
                "FROM Application.Cities\n",
                "WHERE LatestRecordedPopulation > 1000000"
            ],
            "metadata": {
                "azdata_cell_guid": "58230e94-fba7-4c7e-8036-327b28ba0266",
                "language": "sql"
            },
            "outputs": [
                {
                    "output_type": "display_data",
                    "data": {
                        "text/html": "(13 rows affected)"
                    },
                    "metadata": {}
                },
                {
                    "output_type": "display_data",
                    "data": {
                        "text/html": "Total execution time: 00:00:00.023"
                    },
                    "metadata": {}
                },
                {
                    "output_type": "execute_result",
                    "metadata": {},
                    "execution_count": 7,
                    "data": {
                        "application/vnd.dataresource+json": {
                            "schema": {
                                "fields": [
                                    {
                                        "name": "CityName"
                                    },
                                    {
                                        "name": "LatestRecordedPopulation"
                                    }
                                ]
                            },
                            "data": [
                                {
                                    "CityName": "Brooklyn",
                                    "LatestRecordedPopulation": "2565635"
                                },
                                {
                                    "CityName": "Chicago",
                                    "LatestRecordedPopulation": "2695598"
                                },
                                {
                                    "CityName": "Dallas",
                                    "LatestRecordedPopulation": "1197816"
                                },
                                {
                                    "CityName": "Houston",
                                    "LatestRecordedPopulation": "2099451"
                                },
                                {
                                    "CityName": "Los Angeles",
                                    "LatestRecordedPopulation": "3792621"
                                },
                                {
                                    "CityName": "Manhattan",
                                    "LatestRecordedPopulation": "1619090"
                                },
                                {
                                    "CityName": "New York",
                                    "LatestRecordedPopulation": "8175133"
                                },
                                {
                                    "CityName": "Philadelphia",
                                    "LatestRecordedPopulation": "1526006"
                                },
                                {
                                    "CityName": "Phoenix",
                                    "LatestRecordedPopulation": "1445632"
                                },
                                {
                                    "CityName": "Queens",
                                    "LatestRecordedPopulation": "2272771"
                                },
                                {
                                    "CityName": "San Antonio",
                                    "LatestRecordedPopulation": "1327407"
                                },
                                {
                                    "CityName": "San Diego",
                                    "LatestRecordedPopulation": "1307402"
                                },
                                {
                                    "CityName": "The Bronx",
                                    "LatestRecordedPopulation": "1408473"
                                }
                            ]
                        },
                        "text/html": [
                            "<table>",
                            "<tr><th>CityName</th><th>LatestRecordedPopulation</th></tr>",
                            "<tr><td>Brooklyn</td><td>2565635</td></tr>",
                            "<tr><td>Chicago</td><td>2695598</td></tr>",
                            "<tr><td>Dallas</td><td>1197816</td></tr>",
                            "<tr><td>Houston</td><td>2099451</td></tr>",
                            "<tr><td>Los Angeles</td><td>3792621</td></tr>",
                            "<tr><td>Manhattan</td><td>1619090</td></tr>",
                            "<tr><td>New York</td><td>8175133</td></tr>",
                            "<tr><td>Philadelphia</td><td>1526006</td></tr>",
                            "<tr><td>Phoenix</td><td>1445632</td></tr>",
                            "<tr><td>Queens</td><td>2272771</td></tr>",
                            "<tr><td>San Antonio</td><td>1327407</td></tr>",
                            "<tr><td>San Diego</td><td>1307402</td></tr>",
                            "<tr><td>The Bronx</td><td>1408473</td></tr>",
                            "</table>"
                        ]
                    }
                }
            ],
            "execution_count": 7
        },
        {
            "cell_type": "markdown",
            "source": [
                "# Proposition and Functional Specification\n",
                "\n",
                "## Proposition:\n",
                "Synchronize new customer transactions from the `Sales.CustomerTransactions` table to the `Sales.CustomerTransactions_Archive` table by inserting any transactions that do not already exist in the archive.\n",
                "\n",
                "## Functional Specification\n",
                "\n",
                "### Query Name:\n",
                "`Merge_CustomerTransactions_To_Archive`\n",
                "\n",
                "### Description:\n",
                "This query merges data from the `Sales.CustomerTransactions` table into the `Sales.CustomerTransactions_Archive` table. If a transaction from the source table (`Sales.CustomerTransactions`) does not exist in the target table (`Sales.CustomerTransactions_Archive`), it will be inserted into the archive.\n",
                "\n",
                "### Inputs:\n",
                "- **CustomerTransactionID**: Unique identifier of each transaction.\n",
                "- **CustomerID**: ID of the customer involved.\n",
                "- **TransactionTypeID**: Type of transaction (purchase, refund, etc.).\n",
                "- **InvoiceID**: Reference to the related invoice.\n",
                "- **PaymentMethodID**: Payment method used.\n",
                "- **TransactionDate**: Date of the transaction.\n",
                "- **AmountExcludingTax**: Amount without tax.\n",
                "- **TaxAmount**: Tax amount for the transaction.\n",
                "- **TransactionAmount**: Total amount including tax.\n",
                "- **OutstandingBalance**: Any remaining balance.\n",
                "- **FinalizationDate**: Date the transaction was finalized.\n",
                "- **IsFinalized**: Status indicating if the transaction is finalized.\n",
                "- **LastEditedBy**: User who last edited the transaction.\n",
                "- **LastEditedWhen**: Timestamp of the last edit.\n",
                "\n",
                "### Outputs:\n",
                "- New transactions from the `Sales.CustomerTransactions` table that do not exist in the archive are inserted into the `Sales.CustomerTransactions_Archive` table.\n",
                "\n",
                "### Steps:\n",
                "1. Use the `MERGE` statement to compare transactions between `Sales.CustomerTransactions` (source) and `Sales.CustomerTransactions_Archive` (target).\n",
                "2. For transactions not found in the archive (`WHEN NOT MATCHED`), insert the corresponding rows.\n",
                "3. Preserve all relevant columns during the insertion to maintain the integrity of the archived data.\n",
                "\n",
                "### Assumptions:\n",
                "- There are no duplicate `CustomerTransactionID` values in either table.\n",
                "- Both source and target tables have identical schemas for relevant columns.\n",
                "- The source table contains up-to-date transaction information."
            ],
            "metadata": {
                "azdata_cell_guid": "a846af74-9bde-4af9-9ced-9104d7f58d48"
            },
            "attachments": {}
        },
        {
            "cell_type": "code",
            "source": [
                "MERGE Sales.CustomerTransactions_Archive AS TGT\n",
                "USING Sales.CustomerTransactions AS SRC\n",
                "ON TGT.CustomerTransactionID = SRC.CustomerTransactionID\n",
                "WHEN NOT MATCHED THEN\n",
                "    INSERT (CustomerTransactionID, CustomerID, TransactionTypeID, InvoiceID, PaymentMethodID, \n",
                "            TransactionDate, AmountExcludingTax, TaxAmount, TransactionAmount, \n",
                "            OutstandingBalance, FinalizationDate, IsFinalized, LastEditedBy, LastEditedWhen)\n",
                "    VALUES (SRC.CustomerTransactionID, SRC.CustomerID, SRC.TransactionTypeID, SRC.InvoiceID, \n",
                "            SRC.PaymentMethodID, SRC.TransactionDate, SRC.AmountExcludingTax, \n",
                "            SRC.TaxAmount, SRC.TransactionAmount, SRC.OutstandingBalance, \n",
                "            SRC.FinalizationDate, SRC.IsFinalized, SRC.LastEditedBy, SRC.LastEditedWhen);"
            ],
            "metadata": {
                "azdata_cell_guid": "4ab8d75c-d387-4f61-85e7-e784d871e6ba",
                "language": "sql"
            },
            "outputs": [
                {
                    "output_type": "display_data",
                    "data": {
                        "text/html": "(0 rows affected)"
                    },
                    "metadata": {}
                },
                {
                    "output_type": "display_data",
                    "data": {
                        "text/html": "Total execution time: 00:00:00.121"
                    },
                    "metadata": {}
                }
            ],
            "execution_count": 8
        },
        {
            "cell_type": "markdown",
            "source": [
                "# Proposition and Functional Specification\n",
                "\n",
                "## Proposition:\n",
                "Insert a new special deal into the `Sales.SpecialDeals` table and return the newly inserted `SpecialDealID` and `DealDescription`.\n",
                "\n",
                "## Functional Specification\n",
                "\n",
                "### Query Name:\n",
                "`Insert_Special_Deal_With_Output`\n",
                "\n",
                "### Description:\n",
                "This query adds a new special deal for the holiday season to the `Sales.SpecialDeals` table. It uses the `OUTPUT` clause to return the `SpecialDealID` and `DealDescription` of the inserted row.\n",
                "\n",
                "### Inputs:\n",
                "- **DealDescription**: 'Holiday Discount'  \n",
                "- **StartDate**: '2024-12-01'  \n",
                "- **EndDate**: '2024-12-31'  \n",
                "- **DiscountPercentage**: 15.0  \n",
                "\n",
                "### Outputs:\n",
                "- **SpecialDealID**: The ID of the newly inserted deal.\n",
                "- **DealDescription**: The description of the new deal.\n",
                "\n",
                "### Steps:\n",
                "1. Insert a new row into the `Sales.SpecialDeals` table with the provided values.\n",
                "2. Use the `OUTPUT` clause to retrieve the `SpecialDealID` and `DealDescription` of the newly added deal.\n",
                "\n",
                "### Assumptions:\n",
                "- The table has an auto-incrementing `SpecialDealID`.\n",
                "- The dates and percentage values are valid and align with the table's constraints."
            ],
            "metadata": {
                "azdata_cell_guid": "9668e8a8-e0d7-46e9-ad02-74a3f915a001"
            },
            "attachments": {}
        },
        {
            "cell_type": "code",
            "source": [
                "INSERT INTO Sales.SpecialDeals (DealDescription, StartDate, EndDate, DiscountPercentage)\n",
                "OUTPUT INSERTED.SpecialDealID, INSERTED.DealDescription\n",
                "VALUES ('Holiday Discount', '2024-12-01', '2024-12-31', 15.0);"
            ],
            "metadata": {
                "azdata_cell_guid": "cb00b164-7527-4231-af29-0d4d9a825b8d",
                "language": "sql"
            },
            "outputs": [
                {
                    "output_type": "display_data",
                    "data": {
                        "text/html": "The statement has been terminated."
                    },
                    "metadata": {}
                },
                {
                    "output_type": "display_data",
                    "data": {
                        "text/html": "Total execution time: 00:00:00.016"
                    },
                    "metadata": {}
                },
                {
                    "output_type": "execute_result",
                    "metadata": {},
                    "execution_count": 9,
                    "data": {
                        "application/vnd.dataresource+json": {
                            "schema": {
                                "fields": [
                                    {
                                        "name": "SpecialDealID"
                                    },
                                    {
                                        "name": "DealDescription"
                                    }
                                ]
                            },
                            "data": []
                        },
                        "text/html": [
                            "<table>",
                            "<tr><th>SpecialDealID</th><th>DealDescription</th></tr>",
                            "</table>"
                        ]
                    }
                },
                {
                    "output_type": "error",
                    "evalue": "Msg 515, Level 16, State 2, Line 1\nCannot insert the value NULL into column 'LastEditedBy', table 'NewWideWorldImporters.Sales.SpecialDeals'; column does not allow nulls. INSERT fails.",
                    "ename": "",
                    "traceback": []
                }
            ],
            "execution_count": 9
        },
        {
            "cell_type": "markdown",
            "source": [
                "# Proposition and Functional Specification\n",
                "\n",
                "## Proposition:\n",
                "Update the `LastEditedBy` field for specific cities in the `Application.Cities` table.\n",
                "\n",
                "## Functional Specification\n",
                "\n",
                "### Query Name:\n",
                "`Update_Cities_LastEditedBy`\n",
                "\n",
                "### Description:\n",
                "This query updates the `LastEditedBy` field for cities with `CityID` values 1, 2, and 3, setting it to a specified user ID.\n",
                "\n",
                "### Inputs:\n",
                "- **CityID**: 1, 2, 3  \n",
                "- **LastEditedBy**: 10  \n",
                "\n",
                "### Outputs:\n",
                "- The `LastEditedBy` field for the specified cities is updated to 10.\n",
                "\n",
                "### Steps:\n",
                "1. Identify the cities with `CityID` values of 1, 2, and 3.\n",
                "2. Update their `LastEditedBy` field to 10, indicating they were last edited by this user.\n",
                "3. Verify that the correct rows are updated without any errors.\n",
                "\n",
                "### Assumptions:\n",
                "- The `CityID` values (1, 2, 3) exist in the `Application.Cities` table.\n",
                "- User ID 10 is a valid reference to an editor."
            ],
            "metadata": {
                "azdata_cell_guid": "09ad6259-ce70-4de5-bccd-aed8c15af26a"
            },
            "attachments": {}
        },
        {
            "cell_type": "code",
            "source": [
                "UPDATE Application.Cities\n",
                "SET LastEditedBy = 10\n",
                "WHERE CityID IN (1, 2, 3);"
            ],
            "metadata": {
                "azdata_cell_guid": "a75ad531-d61a-426a-8b2e-3e351b2d963e",
                "language": "sql"
            },
            "outputs": [
                {
                    "output_type": "display_data",
                    "data": {
                        "text/html": "(2 rows affected)"
                    },
                    "metadata": {}
                },
                {
                    "output_type": "display_data",
                    "data": {
                        "text/html": "Total execution time: 00:00:00.023"
                    },
                    "metadata": {}
                }
            ],
            "execution_count": 10
        },
        {
            "cell_type": "markdown",
            "source": [
                "# Proposition and Functional Specification\n",
                "\n",
                "## Proposition:\n",
                "Insert a new invoice line into the `Sales.InvoiceLines` table to capture the details of a service provided.\n",
                "\n",
                "## Functional Specification\n",
                "\n",
                "### Query Name:\n",
                "`Insert_New_InvoiceLine`\n",
                "\n",
                "### Description:\n",
                "This query adds a new row to the `Sales.InvoiceLines` table, recording details about a service offered, including the invoice, stock item, description, quantity, and unit price.\n",
                "\n",
                "### Inputs:\n",
                "- **InvoiceID**: 101  \n",
                "- **StockItemID**: 12  \n",
                "- **Description**: 'New Service'  \n",
                "- **Quantity**: 2  \n",
                "- **UnitPrice**: 499.99  \n",
                "\n",
                "### Outputs:\n",
                "- A new invoice line capturing the details of the provided service is added to the `Sales.InvoiceLines` table.\n",
                "\n",
                "### Steps:\n",
                "1. Ensure the `InvoiceID` (101) and `StockItemID` (12) are valid and exist in their respective tables.\n",
                "2. Insert the new invoice line with the provided values.\n",
                "3. Confirm that the correct values are stored, ensuring data consistency.\n",
                "\n",
                "### Assumptions:\n",
                "- `InvoiceID` 101 refers to a valid invoice.\n",
                "- `StockItemID` 12 corresponds to an existing product or service.\n",
                "- There are no constraints preventing the insertion (e.g., referential integrity violations).\n",
                ""
            ],
            "metadata": {
                "azdata_cell_guid": "38813c93-3f90-4596-a208-4e7fd1b9a1ab"
            },
            "attachments": {}
        },
        {
            "cell_type": "code",
            "source": [
                "INSERT INTO Sales.InvoiceLines (InvoiceID, StockItemID, Description, Quantity, UnitPrice)\n",
                "VALUES (101, 12, 'New Service', 2, 499.99);"
            ],
            "metadata": {
                "azdata_cell_guid": "59bb8184-48cf-4af8-a9dd-7b3eaa5c0446",
                "language": "sql"
            },
            "outputs": [
                {
                    "output_type": "error",
                    "evalue": "Msg 515, Level 16, State 2, Line 1\nCannot insert the value NULL into column 'PackageTypeID', table 'NewWideWorldImporters.Sales.InvoiceLines'; column does not allow nulls. INSERT fails.",
                    "ename": "",
                    "traceback": []
                },
                {
                    "output_type": "display_data",
                    "data": {
                        "text/html": "The statement has been terminated."
                    },
                    "metadata": {}
                },
                {
                    "output_type": "display_data",
                    "data": {
                        "text/html": "Total execution time: 00:00:00.007"
                    },
                    "metadata": {}
                }
            ],
            "execution_count": 11
        },
        {
            "cell_type": "markdown",
            "source": [
                "# Proposition and Functional Specification\n",
                "\n",
                "## Proposition:\n",
                "Update the `PickingCompletedWhen` field for orders where the expected delivery date has already passed.\n",
                "\n",
                "## Functional Specification\n",
                "\n",
                "### Query Name:\n",
                "`Update_Picking_Completed_Orders`\n",
                "\n",
                "### Description:\n",
                "This query updates the `PickingCompletedWhen` field for all orders whose `ExpectedDeliveryDate` is earlier than the current date. It sets the completion time to the current system date and time using `GETDATE()`.\n",
                "\n",
                "### Inputs:\n",
                "- **ExpectedDeliveryDate**: Orders with dates earlier than the current date.\n",
                "- **PickingCompletedWhen**: Set to the current date and time (`GETDATE()`).\n",
                "\n",
                "### Outputs:\n",
                "- The `PickingCompletedWhen` field is updated for all applicable orders.\n",
                "\n",
                "### Steps:\n",
                "1. Identify all orders with an `ExpectedDeliveryDate` less than the current date using a subquery.\n",
                "2. Update the `PickingCompletedWhen` field to the current date and time for these orders.\n",
                "3. Verify that the correct rows are updated without conflicts or errors.\n",
                "\n",
                "### Assumptions:\n",
                "- The `Sales.Orders` table allows updates on the `PickingCompletedWhen` field.\n",
                "- No constraints or triggers prevent updating the field with `GETDATE()`."
            ],
            "metadata": {
                "azdata_cell_guid": "3c8885b0-de7b-4ffd-adee-5eecea95314c"
            },
            "attachments": {}
        },
        {
            "cell_type": "code",
            "source": [
                "UPDATE Sales.Orders\n",
                "SET PickingCompletedWhen = GETDATE()\n",
                "WHERE OrderID IN (\n",
                "    SELECT OrderID FROM Sales.Orders WHERE ExpectedDeliveryDate < GETDATE()\n",
                ");"
            ],
            "metadata": {
                "azdata_cell_guid": "d70d9260-240f-4e97-8282-dbe1148f7acb",
                "language": "sql"
            },
            "outputs": [
                {
                    "output_type": "display_data",
                    "data": {
                        "text/html": "(73595 rows affected)"
                    },
                    "metadata": {}
                },
                {
                    "output_type": "display_data",
                    "data": {
                        "text/html": "Total execution time: 00:00:00.323"
                    },
                    "metadata": {}
                }
            ],
            "execution_count": 12
        },
        {
            "cell_type": "markdown",
            "source": [
                "# Proposition and Functional Specification\n",
                "\n",
                "## Proposition:\n",
                "Retrieve the total sales amount for each customer by aggregating their invoice line totals and list the results in descending order of total sales.\n",
                "\n",
                "## Functional Specification\n",
                "\n",
                "### Query Name:\n",
                "`Select_Total_Sales_Per_Customer`\n",
                "\n",
                "### Description:\n",
                "This query calculates the total sales amount for each customer by multiplying the quantity and unit price of all invoice lines and summing them up. It joins the `Sales.Customers`, `Sales.Invoices`, and `Sales.InvoiceLines` tables to retrieve the necessary data and orders the results by total sales in descending order.\n",
                "\n",
                "### Inputs:\n",
                "- **CustomerID**: Unique identifier for each customer.\n",
                "- **CustomerName**: Name of the customer.\n",
                "- **Quantity**: Quantity of each item on the invoice line.\n",
                "- **UnitPrice**: Price per unit of each item.\n",
                "\n",
                "### Outputs:\n",
                "- **CustomerID**: ID of the customer.\n",
                "- **CustomerName**: Name of the customer.\n",
                "- **TotalSalesAmount**: Total sales amount calculated by multiplying quantity by unit price and summing across all invoices for the customer.\n",
                "\n",
                "### Steps:\n",
                "1. Join `Sales.Customers` with `Sales.Invoices` on `CustomerID`.\n",
                "2. Join `Sales.Invoices` with `Sales.InvoiceLines` on `InvoiceID`.\n",
                "3. Calculate the total sales amount by multiplying `Quantity` by `UnitPrice` and summing the result for each customer.\n",
                "4. Group the results by `CustomerID` and `CustomerName`.\n",
                "5. Order the results by `TotalSalesAmount` in descending order.\n",
                "\n",
                "### Assumptions:\n",
                "- Each invoice and invoice line is correctly associated with a customer.\n",
                "- Quantity and UnitPrice are valid numeric values."
            ],
            "metadata": {
                "azdata_cell_guid": "25927bfb-7400-4442-8df1-0f5aca8200c4"
            },
            "attachments": {}
        },
        {
            "cell_type": "code",
            "source": [
                "SELECT \n",
                "    C.CustomerID, \n",
                "    C.CustomerName, \n",
                "    SUM(IL.Quantity * IL.UnitPrice) AS TotalSalesAmount\n",
                "FROM \n",
                "    Sales.Customers C\n",
                "JOIN \n",
                "    Sales.Invoices I ON C.CustomerID = I.CustomerID\n",
                "JOIN \n",
                "    Sales.InvoiceLines IL ON I.InvoiceID = IL.InvoiceID\n",
                "GROUP BY \n",
                "    C.CustomerID, C.CustomerName\n",
                "ORDER BY \n",
                "    TotalSalesAmount DESC;"
            ],
            "metadata": {
                "azdata_cell_guid": "8131ded0-71b3-4a6e-8370-74bbc4d26fb2",
                "language": "sql"
            },
            "outputs": [
                {
                    "output_type": "display_data",
                    "data": {
                        "text/html": "(663 rows affected)"
                    },
                    "metadata": {}
                },
                {
                    "output_type": "display_data",
                    "data": {
                        "text/html": "Total execution time: 00:00:00.093"
                    },
                    "metadata": {}
                },
                {
                    "output_type": "execute_result",
                    "metadata": {},
                    "execution_count": 3,
                    "data": {
                        "application/vnd.dataresource+json": {
                            "schema": {
                                "fields": [
                                    {
                                        "name": "CustomerID"
                                    },
                                    {
                                        "name": "CustomerName"
                                    },
                                    {
                                        "name": "TotalSalesAmount"
                                    }
                                ]
                            },
                            "data": [
                                {
                                    "CustomerID": "149",
                                    "CustomerName": "Tailspin Toys (Inguadona, MN)",
                                    "TotalSalesAmount": "381585.35"
                                },
                                {
                                    "CustomerID": "132",
                                    "CustomerName": "Tailspin Toys (Minidoka, ID)",
                                    "TotalSalesAmount": "371822.30"
                                },
                                {
                                    "CustomerID": "977",
                                    "CustomerName": "Mauno Laurila",
                                    "TotalSalesAmount": "369058.30"
                                },
                                {
                                    "CustomerID": "580",
                                    "CustomerName": "Wingtip Toys (Sarversville, PA)",
                                    "TotalSalesAmount": "365427.00"
                                },
                                {
                                    "CustomerID": "954",
                                    "CustomerName": "Nasrin Omidzadeh",
                                    "TotalSalesAmount": "361939.75"
                                },
                                {
                                    "CustomerID": "14",
                                    "CustomerName": "Tailspin Toys (Long Meadow, MD)",
                                    "TotalSalesAmount": "360901.50"
                                },
                                {
                                    "CustomerID": "964",
                                    "CustomerName": "Ingrida Zeltina",
                                    "TotalSalesAmount": "359859.45"
                                },
                                {
                                    "CustomerID": "472",
                                    "CustomerName": "Wingtip Toys (San Jacinto, CA)",
                                    "TotalSalesAmount": "355293.35"
                                },
                                {
                                    "CustomerID": "996",
                                    "CustomerName": "Laszlo Gardenier",
                                    "TotalSalesAmount": "354680.80"
                                },
                                {
                                    "CustomerID": "841",
                                    "CustomerName": "Camille Authier",
                                    "TotalSalesAmount": "353499.15"
                                },
                                {
                                    "CustomerID": "1001",
                                    "CustomerName": "Dinh Mai",
                                    "TotalSalesAmount": "353177.75"
                                },
                                {
                                    "CustomerID": "593",
                                    "CustomerName": "Wingtip Toys (Cuyamungue, NM)",
                                    "TotalSalesAmount": "353046.95"
                                },
                                {
                                    "CustomerID": "550",
                                    "CustomerName": "Wingtip Toys (Morrison Bluff, AR)",
                                    "TotalSalesAmount": "352287.20"
                                },
                                {
                                    "CustomerID": "510",
                                    "CustomerName": "Wingtip Toys (Grabill, IN)",
                                    "TotalSalesAmount": "351138.65"
                                },
                                {
                                    "CustomerID": "569",
                                    "CustomerName": "Wingtip Toys (West Frostproof, FL)",
                                    "TotalSalesAmount": "346621.45"
                                },
                                {
                                    "CustomerID": "874",
                                    "CustomerName": "Daniel Martensson",
                                    "TotalSalesAmount": "346062.20"
                                },
                                {
                                    "CustomerID": "856",
                                    "CustomerName": "Satish Mittal",
                                    "TotalSalesAmount": "345839.10"
                                },
                                {
                                    "CustomerID": "861",
                                    "CustomerName": "Amarasimha Vinjamuri",
                                    "TotalSalesAmount": "344208.65"
                                },
                                {
                                    "CustomerID": "102",
                                    "CustomerName": "Tailspin Toys (Fieldbrook, CA)",
                                    "TotalSalesAmount": "344005.05"
                                },
                                {
                                    "CustomerID": "480",
                                    "CustomerName": "Wingtip Toys (Wapinitia, OR)",
                                    "TotalSalesAmount": "343236.10"
                                },
                                {
                                    "CustomerID": "949",
                                    "CustomerName": "Seo-yun Paik",
                                    "TotalSalesAmount": "342138.85"
                                },
                                {
                                    "CustomerID": "185",
                                    "CustomerName": "Tailspin Toys (Vidrine, LA)",
                                    "TotalSalesAmount": "340163.80"
                                },
                                {
                                    "CustomerID": "71",
                                    "CustomerName": "Tailspin Toys (Good Hart, MI)",
                                    "TotalSalesAmount": "339867.35"
                                },
                                {
                                    "CustomerID": "32",
                                    "CustomerName": "Tailspin Toys (Maypearl, TX)",
                                    "TotalSalesAmount": "339721.90"
                                },
                                {
                                    "CustomerID": "198",
                                    "CustomerName": "Tailspin Toys (Buell, MO)",
                                    "TotalSalesAmount": "337822.05"
                                },
                                {
                                    "CustomerID": "565",
                                    "CustomerName": "Wingtip Toys (Wapiti, WY)",
                                    "TotalSalesAmount": "336411.00"
                                },
                                {
                                    "CustomerID": "546",
                                    "CustomerName": "Wingtip Toys (Key Biscayne, FL)",
                                    "TotalSalesAmount": "335053.55"
                                },
                                {
                                    "CustomerID": "67",
                                    "CustomerName": "Tailspin Toys (Sentinel Butte, ND)",
                                    "TotalSalesAmount": "334970.00"
                                },
                                {
                                    "CustomerID": "81",
                                    "CustomerName": "Tailspin Toys (Big Moose, NY)",
                                    "TotalSalesAmount": "334587.15"
                                },
                                {
                                    "CustomerID": "541",
                                    "CustomerName": "Wingtip Toys (Mickleton, NJ)",
                                    "TotalSalesAmount": "332515.15"
                                },
                                {
                                    "CustomerID": "558",
                                    "CustomerName": "Wingtip Toys (Bourneville, OH)",
                                    "TotalSalesAmount": "332283.15"
                                },
                                {
                                    "CustomerID": "478",
                                    "CustomerName": "Wingtip Toys (Stoneboro, PA)",
                                    "TotalSalesAmount": "331986.50"
                                },
                                {
                                    "CustomerID": "834",
                                    "CustomerName": "Cong Hoa",
                                    "TotalSalesAmount": "331512.10"
                                },
                                {
                                    "CustomerID": "982",
                                    "CustomerName": "Yves Belisle",
                                    "TotalSalesAmount": "330437.35"
                                },
                                {
                                    "CustomerID": "586",
                                    "CustomerName": "Wingtip Toys (Lynne, FL)",
                                    "TotalSalesAmount": "328532.85"
                                },
                                {
                                    "CustomerID": "442",
                                    "CustomerName": "Wingtip Toys (Homer City, PA)",
                                    "TotalSalesAmount": "328526.40"
                                },
                                {
                                    "CustomerID": "474",
                                    "CustomerName": "Wingtip Toys (Bokeelia, FL)",
                                    "TotalSalesAmount": "328375.45"
                                },
                                {
                                    "CustomerID": "804",
                                    "CustomerName": "Aleksandrs Riekstins",
                                    "TotalSalesAmount": "328332.15"
                                },
                                {
                                    "CustomerID": "413",
                                    "CustomerName": "Wingtip Toys (Truscott, TX)",
                                    "TotalSalesAmount": "328241.20"
                                },
                                {
                                    "CustomerID": "597",
                                    "CustomerName": "Wingtip Toys (Haycock, AK)",
                                    "TotalSalesAmount": "328237.65"
                                },
                                {
                                    "CustomerID": "94",
                                    "CustomerName": "Tailspin Toys (Cheyenne Wells, CO)",
                                    "TotalSalesAmount": "327692.10"
                                },
                                {
                                    "CustomerID": "583",
                                    "CustomerName": "Wingtip Toys (Knights Landing, CA)",
                                    "TotalSalesAmount": "327417.20"
                                },
                                {
                                    "CustomerID": "588",
                                    "CustomerName": "Wingtip Toys (Oak Point, TX)",
                                    "TotalSalesAmount": "327253.55"
                                },
                                {
                                    "CustomerID": "65",
                                    "CustomerName": "Tailspin Toys (North Cowden, TX)",
                                    "TotalSalesAmount": "327184.80"
                                },
                                {
                                    "CustomerID": "38",
                                    "CustomerName": "Tailspin Toys (Airport Drive, MO)",
                                    "TotalSalesAmount": "325895.15"
                                },
                                {
                                    "CustomerID": "930",
                                    "CustomerName": "Shantanu Huq",
                                    "TotalSalesAmount": "325743.95"
                                },
                                {
                                    "CustomerID": "941",
                                    "CustomerName": "Bishwa Chatterjee",
                                    "TotalSalesAmount": "325480.55"
                                },
                                {
                                    "CustomerID": "7",
                                    "CustomerName": "Tailspin Toys (Frankewing, TN)",
                                    "TotalSalesAmount": "325415.75"
                                },
                                {
                                    "CustomerID": "870",
                                    "CustomerName": "In-Su Bae",
                                    "TotalSalesAmount": "325301.35"
                                },
                                {
                                    "CustomerID": "195",
                                    "CustomerName": "Tailspin Toys (Lesslie, SC)",
                                    "TotalSalesAmount": "325239.95"
                                },
                                {
                                    "CustomerID": "170",
                                    "CustomerName": "Tailspin Toys (Eastchester, NY)",
                                    "TotalSalesAmount": "323930.80"
                                },
                                {
                                    "CustomerID": "928",
                                    "CustomerName": "Arijit Bhuiyan",
                                    "TotalSalesAmount": "323854.25"
                                },
                                {
                                    "CustomerID": "947",
                                    "CustomerName": "Svetlana Todorovic",
                                    "TotalSalesAmount": "322725.15"
                                },
                                {
                                    "CustomerID": "980",
                                    "CustomerName": "Om Yadav",
                                    "TotalSalesAmount": "321544.65"
                                },
                                {
                                    "CustomerID": "186",
                                    "CustomerName": "Tailspin Toys (Placer, OR)",
                                    "TotalSalesAmount": "321476.10"
                                },
                                {
                                    "CustomerID": "115",
                                    "CustomerName": "Tailspin Toys (Bethania, NC)",
                                    "TotalSalesAmount": "321225.95"
                                },
                                {
                                    "CustomerID": "40",
                                    "CustomerName": "Tailspin Toys (Impact, TX)",
                                    "TotalSalesAmount": "321163.95"
                                },
                                {
                                    "CustomerID": "831",
                                    "CustomerName": "Bhaavan Rai",
                                    "TotalSalesAmount": "321163.00"
                                },
                                {
                                    "CustomerID": "813",
                                    "CustomerName": "Shyam Poddar",
                                    "TotalSalesAmount": "321098.05"
                                },
                                {
                                    "CustomerID": "991",
                                    "CustomerName": "Valter Viiding",
                                    "TotalSalesAmount": "320851.25"
                                },
                                {
                                    "CustomerID": "489",
                                    "CustomerName": "Wingtip Toys (Sayner, WI)",
                                    "TotalSalesAmount": "320848.80"
                                },
                                {
                                    "CustomerID": "187",
                                    "CustomerName": "Tailspin Toys (Brown City, MI)",
                                    "TotalSalesAmount": "320102.15"
                                },
                                {
                                    "CustomerID": "86",
                                    "CustomerName": "Tailspin Toys (New Lexington, OH)",
                                    "TotalSalesAmount": "319743.25"
                                },
                                {
                                    "CustomerID": "545",
                                    "CustomerName": "Wingtip Toys (Jamison, IA)",
                                    "TotalSalesAmount": "319174.50"
                                },
                                {
                                    "CustomerID": "975",
                                    "CustomerName": "Prabodh Nair",
                                    "TotalSalesAmount": "318585.65"
                                },
                                {
                                    "CustomerID": "531",
                                    "CustomerName": "Wingtip Toys (Omer, MI)",
                                    "TotalSalesAmount": "318424.95"
                                },
                                {
                                    "CustomerID": "506",
                                    "CustomerName": "Wingtip Toys (North Beach Haven, NJ)",
                                    "TotalSalesAmount": "318193.35"
                                },
                                {
                                    "CustomerID": "958",
                                    "CustomerName": "Valentin Tirlea",
                                    "TotalSalesAmount": "318103.20"
                                },
                                {
                                    "CustomerID": "892",
                                    "CustomerName": "Bahaar Asef zade",
                                    "TotalSalesAmount": "318047.05"
                                },
                                {
                                    "CustomerID": "528",
                                    "CustomerName": "Wingtip Toys (Rich Creek, VA)",
                                    "TotalSalesAmount": "317716.45"
                                },
                                {
                                    "CustomerID": "582",
                                    "CustomerName": "Wingtip Toys (Montoya, NM)",
                                    "TotalSalesAmount": "317535.80"
                                },
                                {
                                    "CustomerID": "10",
                                    "CustomerName": "Tailspin Toys (Wimbledon, ND)",
                                    "TotalSalesAmount": "317126.45"
                                },
                                {
                                    "CustomerID": "89",
                                    "CustomerName": "Tailspin Toys (Victory Gardens, NJ)",
                                    "TotalSalesAmount": "317019.70"
                                },
                                {
                                    "CustomerID": "598",
                                    "CustomerName": "Wingtip Toys (Kapa'a, HI)",
                                    "TotalSalesAmount": "316857.85"
                                },
                                {
                                    "CustomerID": "534",
                                    "CustomerName": "Wingtip Toys (Plaquemine, LA)",
                                    "TotalSalesAmount": "316819.75"
                                },
                                {
                                    "CustomerID": "182",
                                    "CustomerName": "Tailspin Toys (Hayes Center, NE)",
                                    "TotalSalesAmount": "316337.10"
                                },
                                {
                                    "CustomerID": "133",
                                    "CustomerName": "Tailspin Toys (Lake Erie Beach, NY)",
                                    "TotalSalesAmount": "315942.65"
                                },
                                {
                                    "CustomerID": "415",
                                    "CustomerName": "Wingtip Toys (Leathersville, GA)",
                                    "TotalSalesAmount": "315810.55"
                                },
                                {
                                    "CustomerID": "579",
                                    "CustomerName": "Wingtip Toys (Connoquenessing, PA)",
                                    "TotalSalesAmount": "315660.30"
                                },
                                {
                                    "CustomerID": "807",
                                    "CustomerName": "Gunnar Lohmus",
                                    "TotalSalesAmount": "315028.35"
                                },
                                {
                                    "CustomerID": "548",
                                    "CustomerName": "Wingtip Toys (Indian Creek, IL)",
                                    "TotalSalesAmount": "314993.70"
                                },
                                {
                                    "CustomerID": "78",
                                    "CustomerName": "Tailspin Toys (Sekiu, WA)",
                                    "TotalSalesAmount": "314765.10"
                                },
                                {
                                    "CustomerID": "109",
                                    "CustomerName": "Tailspin Toys (South Laguna, CA)",
                                    "TotalSalesAmount": "314652.70"
                                },
                                {
                                    "CustomerID": "110",
                                    "CustomerName": "Tailspin Toys (North Crows Nest, IN)",
                                    "TotalSalesAmount": "313999.50"
                                },
                                {
                                    "CustomerID": "192",
                                    "CustomerName": "Tailspin Toys (Optimo, NM)",
                                    "TotalSalesAmount": "313846.50"
                                },
                                {
                                    "CustomerID": "538",
                                    "CustomerName": "Wingtip Toys (Deeson, MS)",
                                    "TotalSalesAmount": "313276.20"
                                },
                                {
                                    "CustomerID": "884",
                                    "CustomerName": "Anindya Ghatak",
                                    "TotalSalesAmount": "313143.60"
                                },
                                {
                                    "CustomerID": "429",
                                    "CustomerName": "Wingtip Toys (Lilbourn, MO)",
                                    "TotalSalesAmount": "313093.60"
                                },
                                {
                                    "CustomerID": "516",
                                    "CustomerName": "Wingtip Toys (Harkers Island, NC)",
                                    "TotalSalesAmount": "313081.05"
                                },
                                {
                                    "CustomerID": "815",
                                    "CustomerName": "Libuse Valentova",
                                    "TotalSalesAmount": "313044.50"
                                },
                                {
                                    "CustomerID": "906",
                                    "CustomerName": "Ajitaab Pakalapati",
                                    "TotalSalesAmount": "312882.65"
                                },
                                {
                                    "CustomerID": "527",
                                    "CustomerName": "Wingtip Toys (Islip Terrace, NY)",
                                    "TotalSalesAmount": "312878.90"
                                },
                                {
                                    "CustomerID": "542",
                                    "CustomerName": "Wingtip Toys (Schererville, IN)",
                                    "TotalSalesAmount": "312478.05"
                                },
                                {
                                    "CustomerID": "867",
                                    "CustomerName": "Jasna Cerkez",
                                    "TotalSalesAmount": "312376.70"
                                },
                                {
                                    "CustomerID": "99",
                                    "CustomerName": "Tailspin Toys (Guin, AL)",
                                    "TotalSalesAmount": "311705.15"
                                },
                                {
                                    "CustomerID": "988",
                                    "CustomerName": "Maksims Krastins",
                                    "TotalSalesAmount": "310332.60"
                                },
                                {
                                    "CustomerID": "549",
                                    "CustomerName": "Wingtip Toys (Lake Ronkonkoma, NY)",
                                    "TotalSalesAmount": "310172.20"
                                },
                                {
                                    "CustomerID": "140",
                                    "CustomerName": "Tailspin Toys (Furley, KS)",
                                    "TotalSalesAmount": "309778.30"
                                },
                                {
                                    "CustomerID": "877",
                                    "CustomerName": "Leyla Siavashi",
                                    "TotalSalesAmount": "309614.75"
                                },
                                {
                                    "CustomerID": "907",
                                    "CustomerName": "Eugen Agafitei",
                                    "TotalSalesAmount": "309498.85"
                                },
                                {
                                    "CustomerID": "434",
                                    "CustomerName": "Wingtip Toys (Lime Lake, NY)",
                                    "TotalSalesAmount": "308925.80"
                                },
                                {
                                    "CustomerID": "405",
                                    "CustomerName": "Wingtip Toys (Bourbonnais, IL)",
                                    "TotalSalesAmount": "308060.10"
                                },
                                {
                                    "CustomerID": "876",
                                    "CustomerName": "Marie LeBatelier",
                                    "TotalSalesAmount": "307822.50"
                                },
                                {
                                    "CustomerID": "406",
                                    "CustomerName": "Wingtip Toys (Tuscaloosa, AL)",
                                    "TotalSalesAmount": "307647.15"
                                },
                                {
                                    "CustomerID": "403",
                                    "CustomerName": "Wingtip Toys (Queen Valley, AZ)",
                                    "TotalSalesAmount": "307532.65"
                                },
                                {
                                    "CustomerID": "3",
                                    "CustomerName": "Tailspin Toys (Peeples Valley, AZ)",
                                    "TotalSalesAmount": "307461.05"
                                },
                                {
                                    "CustomerID": "177",
                                    "CustomerName": "Tailspin Toys (Orrtanna, PA)",
                                    "TotalSalesAmount": "307244.80"
                                },
                                {
                                    "CustomerID": "176",
                                    "CustomerName": "Tailspin Toys (Malott, WA)",
                                    "TotalSalesAmount": "307146.35"
                                },
                                {
                                    "CustomerID": "27",
                                    "CustomerName": "Tailspin Toys (Bowlus, MN)",
                                    "TotalSalesAmount": "306954.45"
                                },
                                {
                                    "CustomerID": "11",
                                    "CustomerName": "Tailspin Toys (Devault, PA)",
                                    "TotalSalesAmount": "306800.80"
                                },
                                {
                                    "CustomerID": "944",
                                    "CustomerName": "Ida Celma",
                                    "TotalSalesAmount": "306775.20"
                                },
                                {
                                    "CustomerID": "900",
                                    "CustomerName": "Lilli Sokk",
                                    "TotalSalesAmount": "306514.55"
                                },
                                {
                                    "CustomerID": "909",
                                    "CustomerName": "Dena Glissen",
                                    "TotalSalesAmount": "305914.90"
                                },
                                {
                                    "CustomerID": "444",
                                    "CustomerName": "Wingtip Toys (Tea, SD)",
                                    "TotalSalesAmount": "305870.05"
                                },
                                {
                                    "CustomerID": "87",
                                    "CustomerName": "Tailspin Toys (Sauquoit, NY)",
                                    "TotalSalesAmount": "305855.35"
                                },
                                {
                                    "CustomerID": "945",
                                    "CustomerName": "Hoc Tran",
                                    "TotalSalesAmount": "305701.70"
                                },
                                {
                                    "CustomerID": "1",
                                    "CustomerName": "Tailspin Toys (Head Office)",
                                    "TotalSalesAmount": "305494.40"
                                },
                                {
                                    "CustomerID": "452",
                                    "CustomerName": "Wingtip Toys (Lake Davis, CA)",
                                    "TotalSalesAmount": "305447.65"
                                },
                                {
                                    "CustomerID": "43",
                                    "CustomerName": "Tailspin Toys (Upper Preston, WA)",
                                    "TotalSalesAmount": "305167.85"
                                },
                                {
                                    "CustomerID": "973",
                                    "CustomerName": "Kumar Kamei",
                                    "TotalSalesAmount": "304738.50"
                                },
                                {
                                    "CustomerID": "885",
                                    "CustomerName": "Chandrashekhar Dasgupta",
                                    "TotalSalesAmount": "304489.85"
                                },
                                {
                                    "CustomerID": "153",
                                    "CustomerName": "Tailspin Toys (Marcell, MN)",
                                    "TotalSalesAmount": "303860.15"
                                },
                                {
                                    "CustomerID": "1006",
                                    "CustomerName": "Taj Syme",
                                    "TotalSalesAmount": "303719.10"
                                },
                                {
                                    "CustomerID": "37",
                                    "CustomerName": "Tailspin Toys (Kerby, OR)",
                                    "TotalSalesAmount": "303590.50"
                                },
                                {
                                    "CustomerID": "829",
                                    "CustomerName": "Jack Walker",
                                    "TotalSalesAmount": "303241.95"
                                },
                                {
                                    "CustomerID": "882",
                                    "CustomerName": "Maryann Huddleston",
                                    "TotalSalesAmount": "303014.05"
                                },
                                {
                                    "CustomerID": "96",
                                    "CustomerName": "Tailspin Toys (South La Paloma, TX)",
                                    "TotalSalesAmount": "302863.60"
                                },
                                {
                                    "CustomerID": "430",
                                    "CustomerName": "Wingtip Toys (Lost River, ID)",
                                    "TotalSalesAmount": "302375.80"
                                },
                                {
                                    "CustomerID": "485",
                                    "CustomerName": "Wingtip Toys (Bonner Springs, KS)",
                                    "TotalSalesAmount": "302303.75"
                                },
                                {
                                    "CustomerID": "830",
                                    "CustomerName": "Jana Fialova",
                                    "TotalSalesAmount": "302139.20"
                                },
                                {
                                    "CustomerID": "875",
                                    "CustomerName": "Philip Walker",
                                    "TotalSalesAmount": "301491.30"
                                },
                                {
                                    "CustomerID": "848",
                                    "CustomerName": "Alvin Bollinger",
                                    "TotalSalesAmount": "301431.35"
                                },
                                {
                                    "CustomerID": "523",
                                    "CustomerName": "Wingtip Toys (Bruceton Mills, WV)",
                                    "TotalSalesAmount": "301277.05"
                                },
                                {
                                    "CustomerID": "910",
                                    "CustomerName": "Elina Kaleja",
                                    "TotalSalesAmount": "301015.00"
                                },
                                {
                                    "CustomerID": "494",
                                    "CustomerName": "Wingtip Toys (Pikeview, CO)",
                                    "TotalSalesAmount": "300733.05"
                                },
                                {
                                    "CustomerID": "118",
                                    "CustomerName": "Tailspin Toys (Vassalboro, ME)",
                                    "TotalSalesAmount": "300693.80"
                                },
                                {
                                    "CustomerID": "595",
                                    "CustomerName": "Wingtip Toys (Accomac, VA)",
                                    "TotalSalesAmount": "300565.00"
                                },
                                {
                                    "CustomerID": "508",
                                    "CustomerName": "Wingtip Toys (Branson West, MO)",
                                    "TotalSalesAmount": "300315.60"
                                },
                                {
                                    "CustomerID": "410",
                                    "CustomerName": "Wingtip Toys (Bernstein, TX)",
                                    "TotalSalesAmount": "299908.30"
                                },
                                {
                                    "CustomerID": "908",
                                    "CustomerName": "Sumati Bhat",
                                    "TotalSalesAmount": "299667.45"
                                },
                                {
                                    "CustomerID": "983",
                                    "CustomerName": "Sabine Alksne",
                                    "TotalSalesAmount": "299644.00"
                                },
                                {
                                    "CustomerID": "138",
                                    "CustomerName": "Tailspin Toys (Navassa, NC)",
                                    "TotalSalesAmount": "299557.65"
                                },
                                {
                                    "CustomerID": "30",
                                    "CustomerName": "Tailspin Toys (Koontzville, WA)",
                                    "TotalSalesAmount": "299367.25"
                                },
                                {
                                    "CustomerID": "933",
                                    "CustomerName": "Joel Carrillo",
                                    "TotalSalesAmount": "299267.25"
                                },
                                {
                                    "CustomerID": "4",
                                    "CustomerName": "Tailspin Toys (Medicine Lodge, KS)",
                                    "TotalSalesAmount": "299127.85"
                                },
                                {
                                    "CustomerID": "899",
                                    "CustomerName": "Chin-Sun Chang",
                                    "TotalSalesAmount": "298970.80"
                                },
                                {
                                    "CustomerID": "98",
                                    "CustomerName": "Tailspin Toys (El Centro, CA)",
                                    "TotalSalesAmount": "298878.40"
                                },
                                {
                                    "CustomerID": "146",
                                    "CustomerName": "Tailspin Toys (Belgreen, AL)",
                                    "TotalSalesAmount": "298816.40"
                                },
                                {
                                    "CustomerID": "960",
                                    "CustomerName": "Edgar Jogi",
                                    "TotalSalesAmount": "298236.25"
                                },
                                {
                                    "CustomerID": "455",
                                    "CustomerName": "Wingtip Toys (Taft Heights, CA)",
                                    "TotalSalesAmount": "298219.95"
                                },
                                {
                                    "CustomerID": "178",
                                    "CustomerName": "Tailspin Toys (Armstrong Creek, WI)",
                                    "TotalSalesAmount": "298173.15"
                                },
                                {
                                    "CustomerID": "166",
                                    "CustomerName": "Tailspin Toys (McCamey, TX)",
                                    "TotalSalesAmount": "297965.55"
                                },
                                {
                                    "CustomerID": "572",
                                    "CustomerName": "Wingtip Toys (Trout Run, PA)",
                                    "TotalSalesAmount": "297738.65"
                                },
                                {
                                    "CustomerID": "55",
                                    "CustomerName": "Tailspin Toys (Gum Branch, GA)",
                                    "TotalSalesAmount": "297657.70"
                                },
                                {
                                    "CustomerID": "849",
                                    "CustomerName": "Sabine Zalite",
                                    "TotalSalesAmount": "296871.70"
                                },
                                {
                                    "CustomerID": "961",
                                    "CustomerName": "Rani Ganguly",
                                    "TotalSalesAmount": "296634.45"
                                },
                                {
                                    "CustomerID": "15",
                                    "CustomerName": "Tailspin Toys (Batson, TX)",
                                    "TotalSalesAmount": "296487.50"
                                },
                                {
                                    "CustomerID": "479",
                                    "CustomerName": "Wingtip Toys (Mier, IN)",
                                    "TotalSalesAmount": "296464.05"
                                },
                                {
                                    "CustomerID": "850",
                                    "CustomerName": "Daakshaayaani Sankaramanchi",
                                    "TotalSalesAmount": "296183.95"
                                },
                                {
                                    "CustomerID": "591",
                                    "CustomerName": "Wingtip Toys (Idaho City, ID)",
                                    "TotalSalesAmount": "295808.15"
                                },
                                {
                                    "CustomerID": "496",
                                    "CustomerName": "Wingtip Toys (Port Hueneme, CA)",
                                    "TotalSalesAmount": "295793.25"
                                },
                                {
                                    "CustomerID": "183",
                                    "CustomerName": "Tailspin Toys (Tierra Verde, FL)",
                                    "TotalSalesAmount": "295667.10"
                                },
                                {
                                    "CustomerID": "16",
                                    "CustomerName": "Tailspin Toys (Coney Island, MO)",
                                    "TotalSalesAmount": "295607.25"
                                },
                                {
                                    "CustomerID": "460",
                                    "CustomerName": "Wingtip Toys (Mayhill, NM)",
                                    "TotalSalesAmount": "295360.15"
                                },
                                {
                                    "CustomerID": "832",
                                    "CustomerName": "Aakriti Byrraju",
                                    "TotalSalesAmount": "295345.40"
                                },
                                {
                                    "CustomerID": "90",
                                    "CustomerName": "Tailspin Toys (Tolna, ND)",
                                    "TotalSalesAmount": "294759.10"
                                },
                                {
                                    "CustomerID": "134",
                                    "CustomerName": "Tailspin Toys (Tavares, FL)",
                                    "TotalSalesAmount": "294563.40"
                                },
                                {
                                    "CustomerID": "820",
                                    "CustomerName": "Knut Svensson",
                                    "TotalSalesAmount": "294542.70"
                                },
                                {
                                    "CustomerID": "488",
                                    "CustomerName": "Wingtip Toys (Isabela, PR)",
                                    "TotalSalesAmount": "294022.25"
                                },
                                {
                                    "CustomerID": "981",
                                    "CustomerName": "Mahmut ozbek",
                                    "TotalSalesAmount": "293795.50"
                                },
                                {
                                    "CustomerID": "483",
                                    "CustomerName": "Wingtip Toys (Plum Branch, SC)",
                                    "TotalSalesAmount": "293793.50"
                                },
                                {
                                    "CustomerID": "939",
                                    "CustomerName": "Ioana Florea",
                                    "TotalSalesAmount": "293589.65"
                                },
                                {
                                    "CustomerID": "157",
                                    "CustomerName": "Tailspin Toys (Saks, AL)",
                                    "TotalSalesAmount": "293489.85"
                                },
                                {
                                    "CustomerID": "467",
                                    "CustomerName": "Wingtip Toys (Mahaffey, PA)",
                                    "TotalSalesAmount": "293471.65"
                                },
                                {
                                    "CustomerID": "70",
                                    "CustomerName": "Tailspin Toys (New Baden, IL)",
                                    "TotalSalesAmount": "293442.25"
                                },
                                {
                                    "CustomerID": "74",
                                    "CustomerName": "Tailspin Toys (Indios, PR)",
                                    "TotalSalesAmount": "293438.05"
                                },
                                {
                                    "CustomerID": "492",
                                    "CustomerName": "Wingtip Toys (Birds, IL)",
                                    "TotalSalesAmount": "293388.90"
                                },
                                {
                                    "CustomerID": "953",
                                    "CustomerName": "Linh Dao",
                                    "TotalSalesAmount": "293343.70"
                                },
                                {
                                    "CustomerID": "447",
                                    "CustomerName": "Wingtip Toys (Coin, IA)",
                                    "TotalSalesAmount": "292807.50"
                                },
                                {
                                    "CustomerID": "122",
                                    "CustomerName": "Tailspin Toys (McClave, CO)",
                                    "TotalSalesAmount": "292416.60"
                                },
                                {
                                    "CustomerID": "80",
                                    "CustomerName": "Tailspin Toys (Valdese, NC)",
                                    "TotalSalesAmount": "292032.70"
                                },
                                {
                                    "CustomerID": "562",
                                    "CustomerName": "Wingtip Toys (Ware Shoals, SC)",
                                    "TotalSalesAmount": "292022.10"
                                },
                                {
                                    "CustomerID": "587",
                                    "CustomerName": "Wingtip Toys (Plata, TX)",
                                    "TotalSalesAmount": "292006.50"
                                },
                                {
                                    "CustomerID": "916",
                                    "CustomerName": "Pinja Jantunen",
                                    "TotalSalesAmount": "291213.10"
                                },
                                {
                                    "CustomerID": "137",
                                    "CustomerName": "Tailspin Toys (Carbonville, UT)",
                                    "TotalSalesAmount": "290743.75"
                                },
                                {
                                    "CustomerID": "942",
                                    "CustomerName": "Chaayaadaevi Sonti",
                                    "TotalSalesAmount": "290649.40"
                                },
                                {
                                    "CustomerID": "888",
                                    "CustomerName": "Jai Lamble",
                                    "TotalSalesAmount": "290061.80"
                                },
                                {
                                    "CustomerID": "130",
                                    "CustomerName": "Tailspin Toys (Maple Shade, NJ)",
                                    "TotalSalesAmount": "289932.95"
                                },
                                {
                                    "CustomerID": "125",
                                    "CustomerName": "Tailspin Toys (Annamoriah, WV)",
                                    "TotalSalesAmount": "289425.10"
                                },
                                {
                                    "CustomerID": "28",
                                    "CustomerName": "Tailspin Toys (North Ridge, NY)",
                                    "TotalSalesAmount": "288928.75"
                                },
                                {
                                    "CustomerID": "431",
                                    "CustomerName": "Wingtip Toys (Rosa Sánchez, PR)",
                                    "TotalSalesAmount": "288866.35"
                                },
                                {
                                    "CustomerID": "35",
                                    "CustomerName": "Tailspin Toys (Slanesville, WV)",
                                    "TotalSalesAmount": "288831.40"
                                },
                                {
                                    "CustomerID": "934",
                                    "CustomerName": "Ivan Sepulveda",
                                    "TotalSalesAmount": "288797.30"
                                },
                                {
                                    "CustomerID": "42",
                                    "CustomerName": "Tailspin Toys (Arietta, NY)",
                                    "TotalSalesAmount": "288764.75"
                                },
                                {
                                    "CustomerID": "915",
                                    "CustomerName": "Ana Florea",
                                    "TotalSalesAmount": "288716.35"
                                },
                                {
                                    "CustomerID": "967",
                                    "CustomerName": "Meera Patel",
                                    "TotalSalesAmount": "288683.15"
                                },
                                {
                                    "CustomerID": "1007",
                                    "CustomerName": "Irma Berzina",
                                    "TotalSalesAmount": "288334.30"
                                },
                                {
                                    "CustomerID": "890",
                                    "CustomerName": "Olya Izmaylov",
                                    "TotalSalesAmount": "288259.85"
                                },
                                {
                                    "CustomerID": "481",
                                    "CustomerName": "Wingtip Toys (White Church, MO)",
                                    "TotalSalesAmount": "288173.40"
                                },
                                {
                                    "CustomerID": "123",
                                    "CustomerName": "Tailspin Toys (Roe Park, NY)",
                                    "TotalSalesAmount": "288051.70"
                                },
                                {
                                    "CustomerID": "918",
                                    "CustomerName": "Isidora Morales",
                                    "TotalSalesAmount": "287988.30"
                                },
                                {
                                    "CustomerID": "407",
                                    "CustomerName": "Wingtip Toys (Mooringsport, LA)",
                                    "TotalSalesAmount": "287662.10"
                                },
                                {
                                    "CustomerID": "826",
                                    "CustomerName": "Leila Carvalho",
                                    "TotalSalesAmount": "287074.15"
                                },
                                {
                                    "CustomerID": "509",
                                    "CustomerName": "Wingtip Toys (Bergen Park, CO)",
                                    "TotalSalesAmount": "286997.65"
                                },
                                {
                                    "CustomerID": "101",
                                    "CustomerName": "Tailspin Toys (Cundiyo, NM)",
                                    "TotalSalesAmount": "286858.05"
                                },
                                {
                                    "CustomerID": "143",
                                    "CustomerName": "Tailspin Toys (Ashtabula, OH)",
                                    "TotalSalesAmount": "286361.60"
                                },
                                {
                                    "CustomerID": "976",
                                    "CustomerName": "Alinne Matos",
                                    "TotalSalesAmount": "286296.05"
                                },
                                {
                                    "CustomerID": "173",
                                    "CustomerName": "Tailspin Toys (Wappingers Falls, NY)",
                                    "TotalSalesAmount": "286277.50"
                                },
                                {
                                    "CustomerID": "806",
                                    "CustomerName": "Shi Tu",
                                    "TotalSalesAmount": "286260.40"
                                },
                                {
                                    "CustomerID": "437",
                                    "CustomerName": "Wingtip Toys (Cadogan, PA)",
                                    "TotalSalesAmount": "285998.05"
                                },
                                {
                                    "CustomerID": "418",
                                    "CustomerName": "Wingtip Toys (Yaak, MT)",
                                    "TotalSalesAmount": "285884.50"
                                },
                                {
                                    "CustomerID": "448",
                                    "CustomerName": "Wingtip Toys (Salt Wells, NV)",
                                    "TotalSalesAmount": "285546.25"
                                },
                                {
                                    "CustomerID": "26",
                                    "CustomerName": "Tailspin Toys (Hedrick, IA)",
                                    "TotalSalesAmount": "285242.95"
                                },
                                {
                                    "CustomerID": "97",
                                    "CustomerName": "Tailspin Toys (Manchester Center, VT)",
                                    "TotalSalesAmount": "284880.65"
                                },
                                {
                                    "CustomerID": "498",
                                    "CustomerName": "Wingtip Toys (Obetz, OH)",
                                    "TotalSalesAmount": "284860.30"
                                },
                                {
                                    "CustomerID": "17",
                                    "CustomerName": "Tailspin Toys (East Fultonham, OH)",
                                    "TotalSalesAmount": "284844.25"
                                },
                                {
                                    "CustomerID": "505",
                                    "CustomerName": "Wingtip Toys (Silver Plume, CO)",
                                    "TotalSalesAmount": "284816.50"
                                },
                                {
                                    "CustomerID": "816",
                                    "CustomerName": "Harsha Huq",
                                    "TotalSalesAmount": "284646.55"
                                },
                                {
                                    "CustomerID": "425",
                                    "CustomerName": "Wingtip Toys (Bethel Acres, OK)",
                                    "TotalSalesAmount": "284494.75"
                                },
                                {
                                    "CustomerID": "810",
                                    "CustomerName": "Alena Kellnerova",
                                    "TotalSalesAmount": "284405.45"
                                },
                                {
                                    "CustomerID": "911",
                                    "CustomerName": "Liidia Lepp",
                                    "TotalSalesAmount": "284305.95"
                                },
                                {
                                    "CustomerID": "984",
                                    "CustomerName": "Kamala Nishad",
                                    "TotalSalesAmount": "284235.15"
                                },
                                {
                                    "CustomerID": "533",
                                    "CustomerName": "Wingtip Toys (Nichols Hills, OK)",
                                    "TotalSalesAmount": "284220.50"
                                },
                                {
                                    "CustomerID": "33",
                                    "CustomerName": "Tailspin Toys (Boyden Arbor, SC)",
                                    "TotalSalesAmount": "283838.30"
                                },
                                {
                                    "CustomerID": "894",
                                    "CustomerName": "Gabriela Hernandes",
                                    "TotalSalesAmount": "283713.50"
                                },
                                {
                                    "CustomerID": "943",
                                    "CustomerName": "Drazenka Jelic",
                                    "TotalSalesAmount": "283419.20"
                                },
                                {
                                    "CustomerID": "9",
                                    "CustomerName": "Tailspin Toys (Netcong, NJ)",
                                    "TotalSalesAmount": "283113.75"
                                },
                                {
                                    "CustomerID": "428",
                                    "CustomerName": "Wingtip Toys (Paw Paw Lake, MI)",
                                    "TotalSalesAmount": "283064.65"
                                },
                                {
                                    "CustomerID": "824",
                                    "CustomerName": "Risto Valbe",
                                    "TotalSalesAmount": "283051.15"
                                },
                                {
                                    "CustomerID": "972",
                                    "CustomerName": "Lakshmi Benipal",
                                    "TotalSalesAmount": "282651.55"
                                },
                                {
                                    "CustomerID": "421",
                                    "CustomerName": "Wingtip Toys (Highland Home, AL)",
                                    "TotalSalesAmount": "281875.50"
                                },
                                {
                                    "CustomerID": "151",
                                    "CustomerName": "Tailspin Toys (Antares, AZ)",
                                    "TotalSalesAmount": "281855.95"
                                },
                                {
                                    "CustomerID": "103",
                                    "CustomerName": "Tailspin Toys (Kalvesta, KS)",
                                    "TotalSalesAmount": "281847.85"
                                },
                                {
                                    "CustomerID": "855",
                                    "CustomerName": "Anna Mazzanti",
                                    "TotalSalesAmount": "281741.80"
                                },
                                {
                                    "CustomerID": "601",
                                    "CustomerName": "Wingtip Toys (Ruthsburg, MD)",
                                    "TotalSalesAmount": "281714.00"
                                },
                                {
                                    "CustomerID": "106",
                                    "CustomerName": "Tailspin Toys (Tumacacori, AZ)",
                                    "TotalSalesAmount": "281664.30"
                                },
                                {
                                    "CustomerID": "414",
                                    "CustomerName": "Wingtip Toys (Rose Tree, PA)",
                                    "TotalSalesAmount": "281575.55"
                                },
                                {
                                    "CustomerID": "401",
                                    "CustomerName": "Wingtip Toys (Head Office)",
                                    "TotalSalesAmount": "281212.00"
                                },
                                {
                                    "CustomerID": "117",
                                    "CustomerName": "Tailspin Toys (Scofield, UT)",
                                    "TotalSalesAmount": "281031.40"
                                },
                                {
                                    "CustomerID": "107",
                                    "CustomerName": "Tailspin Toys (Glen Avon, CA)",
                                    "TotalSalesAmount": "280891.30"
                                },
                                {
                                    "CustomerID": "828",
                                    "CustomerName": "Sercan Celik",
                                    "TotalSalesAmount": "280679.65"
                                },
                                {
                                    "CustomerID": "978",
                                    "CustomerName": "Baalaamjali Devulapalli",
                                    "TotalSalesAmount": "280652.35"
                                },
                                {
                                    "CustomerID": "880",
                                    "CustomerName": "Edmee Glissen",
                                    "TotalSalesAmount": "280544.80"
                                },
                                {
                                    "CustomerID": "495",
                                    "CustomerName": "Wingtip Toys (Boalsburg, PA)",
                                    "TotalSalesAmount": "280466.25"
                                },
                                {
                                    "CustomerID": "142",
                                    "CustomerName": "Tailspin Toys (King Cove, AK)",
                                    "TotalSalesAmount": "280430.65"
                                },
                                {
                                    "CustomerID": "529",
                                    "CustomerName": "Wingtip Toys (Griswoldville, GA)",
                                    "TotalSalesAmount": "280211.75"
                                },
                                {
                                    "CustomerID": "466",
                                    "CustomerName": "Wingtip Toys (Lytle, TX)",
                                    "TotalSalesAmount": "280066.35"
                                },
                                {
                                    "CustomerID": "564",
                                    "CustomerName": "Wingtip Toys (Tilleda, WI)",
                                    "TotalSalesAmount": "280049.15"
                                },
                                {
                                    "CustomerID": "31",
                                    "CustomerName": "Tailspin Toys (Lake Stevens, WA)",
                                    "TotalSalesAmount": "279973.05"
                                },
                                {
                                    "CustomerID": "891",
                                    "CustomerName": "Taneli Riutta",
                                    "TotalSalesAmount": "279938.35"
                                },
                                {
                                    "CustomerID": "537",
                                    "CustomerName": "Wingtip Toys (Akhiok, AK)",
                                    "TotalSalesAmount": "279931.90"
                                },
                                {
                                    "CustomerID": "190",
                                    "CustomerName": "Tailspin Toys (Teutopolis, IL)",
                                    "TotalSalesAmount": "279824.15"
                                },
                                {
                                    "CustomerID": "191",
                                    "CustomerName": "Tailspin Toys (Orchard Hill, GA)",
                                    "TotalSalesAmount": "279790.30"
                                },
                                {
                                    "CustomerID": "857",
                                    "CustomerName": "Clarissa Manfrin",
                                    "TotalSalesAmount": "279608.35"
                                },
                                {
                                    "CustomerID": "92",
                                    "CustomerName": "Tailspin Toys (Sans Souci, SC)",
                                    "TotalSalesAmount": "279129.60"
                                },
                                {
                                    "CustomerID": "127",
                                    "CustomerName": "Tailspin Toys (Point Roberts, WA)",
                                    "TotalSalesAmount": "279041.60"
                                },
                                {
                                    "CustomerID": "501",
                                    "CustomerName": "Wingtip Toys (Cavendish, VT)",
                                    "TotalSalesAmount": "279033.05"
                                },
                                {
                                    "CustomerID": "592",
                                    "CustomerName": "Wingtip Toys (Dunkerton, IA)",
                                    "TotalSalesAmount": "278980.20"
                                },
                                {
                                    "CustomerID": "924",
                                    "CustomerName": "Eva Schulteisz",
                                    "TotalSalesAmount": "278857.70"
                                },
                                {
                                    "CustomerID": "912",
                                    "CustomerName": "Volkan senturk",
                                    "TotalSalesAmount": "278546.75"
                                },
                                {
                                    "CustomerID": "1000",
                                    "CustomerName": "Krishnam Allu",
                                    "TotalSalesAmount": "278463.80"
                                },
                                {
                                    "CustomerID": "475",
                                    "CustomerName": "Wingtip Toys (Cale, AR)",
                                    "TotalSalesAmount": "278443.90"
                                },
                                {
                                    "CustomerID": "169",
                                    "CustomerName": "Tailspin Toys (Sinclair, WY)",
                                    "TotalSalesAmount": "278238.30"
                                },
                                {
                                    "CustomerID": "872",
                                    "CustomerName": "Katerina Hadrabova",
                                    "TotalSalesAmount": "277983.65"
                                },
                                {
                                    "CustomerID": "162",
                                    "CustomerName": "Tailspin Toys (Glen Park, NY)",
                                    "TotalSalesAmount": "277845.75"
                                },
                                {
                                    "CustomerID": "432",
                                    "CustomerName": "Wingtip Toys (Vamo, FL)",
                                    "TotalSalesAmount": "277594.10"
                                },
                                {
                                    "CustomerID": "863",
                                    "CustomerName": "Jakub Lukes",
                                    "TotalSalesAmount": "277582.25"
                                },
                                {
                                    "CustomerID": "507",
                                    "CustomerName": "Wingtip Toys (Downingtown, PA)",
                                    "TotalSalesAmount": "277421.75"
                                },
                                {
                                    "CustomerID": "821",
                                    "CustomerName": "Kwanjai Saowaluk",
                                    "TotalSalesAmount": "277323.20"
                                },
                                {
                                    "CustomerID": "955",
                                    "CustomerName": "Raghu Sandhu",
                                    "TotalSalesAmount": "277220.20"
                                },
                                {
                                    "CustomerID": "1009",
                                    "CustomerName": "Bhagavateeprasaad Malladi",
                                    "TotalSalesAmount": "277030.15"
                                },
                                {
                                    "CustomerID": "68",
                                    "CustomerName": "Tailspin Toys (Gardere, LA)",
                                    "TotalSalesAmount": "276960.75"
                                },
                                {
                                    "CustomerID": "25",
                                    "CustomerName": "Tailspin Toys (Avenal, CA)",
                                    "TotalSalesAmount": "276939.90"
                                },
                                {
                                    "CustomerID": "532",
                                    "CustomerName": "Wingtip Toys (Waycross, GA)",
                                    "TotalSalesAmount": "276841.25"
                                },
                                {
                                    "CustomerID": "476",
                                    "CustomerName": "Wingtip Toys (Karthaus, PA)",
                                    "TotalSalesAmount": "276754.60"
                                },
                                {
                                    "CustomerID": "566",
                                    "CustomerName": "Wingtip Toys (Amado, AZ)",
                                    "TotalSalesAmount": "276729.05"
                                },
                                {
                                    "CustomerID": "50",
                                    "CustomerName": "Tailspin Toys (Hambleton, WV)",
                                    "TotalSalesAmount": "276603.25"
                                },
                                {
                                    "CustomerID": "427",
                                    "CustomerName": "Wingtip Toys (Athol Springs, NY)",
                                    "TotalSalesAmount": "276429.00"
                                },
                                {
                                    "CustomerID": "968",
                                    "CustomerName": "Anca Gogean",
                                    "TotalSalesAmount": "276384.70"
                                },
                                {
                                    "CustomerID": "805",
                                    "CustomerName": "Ratan Poddar",
                                    "TotalSalesAmount": "276355.65"
                                },
                                {
                                    "CustomerID": "435",
                                    "CustomerName": "Wingtip Toys (Teutopolis, IL)",
                                    "TotalSalesAmount": "276349.00"
                                },
                                {
                                    "CustomerID": "801",
                                    "CustomerName": "Eric Torres",
                                    "TotalSalesAmount": "276267.50"
                                },
                                {
                                    "CustomerID": "862",
                                    "CustomerName": "Lana Goransson",
                                    "TotalSalesAmount": "276159.05"
                                },
                                {
                                    "CustomerID": "144",
                                    "CustomerName": "Tailspin Toys (Larose, LA)",
                                    "TotalSalesAmount": "275968.10"
                                },
                                {
                                    "CustomerID": "559",
                                    "CustomerName": "Wingtip Toys (Mendoza, TX)",
                                    "TotalSalesAmount": "275879.95"
                                },
                                {
                                    "CustomerID": "889",
                                    "CustomerName": "Sointu Savonheimo",
                                    "TotalSalesAmount": "275372.45"
                                },
                                {
                                    "CustomerID": "995",
                                    "CustomerName": "Kumar Naicker",
                                    "TotalSalesAmount": "275039.15"
                                },
                                {
                                    "CustomerID": "584",
                                    "CustomerName": "Wingtip Toys (Cache, OK)",
                                    "TotalSalesAmount": "274941.00"
                                },
                                {
                                    "CustomerID": "827",
                                    "CustomerName": "Crina Grasu",
                                    "TotalSalesAmount": "274483.15"
                                },
                                {
                                    "CustomerID": "128",
                                    "CustomerName": "Tailspin Toys (East Portal, CO)",
                                    "TotalSalesAmount": "274426.35"
                                },
                                {
                                    "CustomerID": "75",
                                    "CustomerName": "Tailspin Toys (Windsor Locks, CT)",
                                    "TotalSalesAmount": "274199.60"
                                },
                                {
                                    "CustomerID": "838",
                                    "CustomerName": "Pavel Bogdanov",
                                    "TotalSalesAmount": "274184.35"
                                },
                                {
                                    "CustomerID": "986",
                                    "CustomerName": "Neil Farrelly",
                                    "TotalSalesAmount": "274096.25"
                                },
                                {
                                    "CustomerID": "416",
                                    "CustomerName": "Wingtip Toys (Necedah, WI)",
                                    "TotalSalesAmount": "273703.05"
                                },
                                {
                                    "CustomerID": "950",
                                    "CustomerName": "Emily Whittle",
                                    "TotalSalesAmount": "273698.70"
                                },
                                {
                                    "CustomerID": "172",
                                    "CustomerName": "Tailspin Toys (Madrone, NM)",
                                    "TotalSalesAmount": "273493.10"
                                },
                                {
                                    "CustomerID": "402",
                                    "CustomerName": "Wingtip Toys (Black Lick, PA)",
                                    "TotalSalesAmount": "273419.45"
                                },
                                {
                                    "CustomerID": "171",
                                    "CustomerName": "Tailspin Toys (Ortley Beach, NJ)",
                                    "TotalSalesAmount": "272880.80"
                                },
                                {
                                    "CustomerID": "936",
                                    "CustomerName": "Ludmila Smidova",
                                    "TotalSalesAmount": "272793.60"
                                },
                                {
                                    "CustomerID": "1003",
                                    "CustomerName": "Hue Ton",
                                    "TotalSalesAmount": "272767.85"
                                },
                                {
                                    "CustomerID": "45",
                                    "CustomerName": "Tailspin Toys (Severna Park, MD)",
                                    "TotalSalesAmount": "272426.75"
                                },
                                {
                                    "CustomerID": "82",
                                    "CustomerName": "Tailspin Toys (La Cueva, NM)",
                                    "TotalSalesAmount": "272242.05"
                                },
                                {
                                    "CustomerID": "842",
                                    "CustomerName": "Biju Deb",
                                    "TotalSalesAmount": "272219.70"
                                },
                                {
                                    "CustomerID": "997",
                                    "CustomerName": "Nada Ana Slosar",
                                    "TotalSalesAmount": "272120.30"
                                },
                                {
                                    "CustomerID": "473",
                                    "CustomerName": "Wingtip Toys (Floriston, CA)",
                                    "TotalSalesAmount": "272013.00"
                                },
                                {
                                    "CustomerID": "905",
                                    "CustomerName": "Sara Huiting",
                                    "TotalSalesAmount": "271909.95"
                                },
                                {
                                    "CustomerID": "145",
                                    "CustomerName": "Tailspin Toys (Manahawkin, NJ)",
                                    "TotalSalesAmount": "271732.65"
                                },
                                {
                                    "CustomerID": "121",
                                    "CustomerName": "Tailspin Toys (Elrosa, MN)",
                                    "TotalSalesAmount": "271541.45"
                                },
                                {
                                    "CustomerID": "200",
                                    "CustomerName": "Tailspin Toys (Tooele, UT)",
                                    "TotalSalesAmount": "271341.25"
                                },
                                {
                                    "CustomerID": "72",
                                    "CustomerName": "Tailspin Toys (Cortaro, AZ)",
                                    "TotalSalesAmount": "271254.45"
                                },
                                {
                                    "CustomerID": "578",
                                    "CustomerName": "Wingtip Toys (Bell Acres, PA)",
                                    "TotalSalesAmount": "271219.55"
                                },
                                {
                                    "CustomerID": "439",
                                    "CustomerName": "Wingtip Toys (Cylon, WI)",
                                    "TotalSalesAmount": "271213.25"
                                },
                                {
                                    "CustomerID": "923",
                                    "CustomerName": "Tai Bach",
                                    "TotalSalesAmount": "271161.45"
                                },
                                {
                                    "CustomerID": "48",
                                    "CustomerName": "Tailspin Toys (Trentwood, WA)",
                                    "TotalSalesAmount": "271109.80"
                                },
                                {
                                    "CustomerID": "124",
                                    "CustomerName": "Tailspin Toys (Hanoverton, OH)",
                                    "TotalSalesAmount": "270666.80"
                                },
                                {
                                    "CustomerID": "860",
                                    "CustomerName": "Marcela Lucescu",
                                    "TotalSalesAmount": "270530.10"
                                },
                                {
                                    "CustomerID": "524",
                                    "CustomerName": "Wingtip Toys (Cloquet, MN)",
                                    "TotalSalesAmount": "270461.85"
                                },
                                {
                                    "CustomerID": "53",
                                    "CustomerName": "Tailspin Toys (Nanafalia, AL)",
                                    "TotalSalesAmount": "269706.25"
                                },
                                {
                                    "CustomerID": "135",
                                    "CustomerName": "Tailspin Toys (Terre du Lac, MO)",
                                    "TotalSalesAmount": "269384.00"
                                },
                                {
                                    "CustomerID": "825",
                                    "CustomerName": "Jayanta Thakur",
                                    "TotalSalesAmount": "269355.90"
                                },
                                {
                                    "CustomerID": "420",
                                    "CustomerName": "Wingtip Toys (Herlong, CA)",
                                    "TotalSalesAmount": "269009.60"
                                },
                                {
                                    "CustomerID": "517",
                                    "CustomerName": "Wingtip Toys (Licking, MO)",
                                    "TotalSalesAmount": "268922.55"
                                },
                                {
                                    "CustomerID": "465",
                                    "CustomerName": "Wingtip Toys (Oologah, OK)",
                                    "TotalSalesAmount": "268761.30"
                                },
                                {
                                    "CustomerID": "119",
                                    "CustomerName": "Tailspin Toys (Statenville, GA)",
                                    "TotalSalesAmount": "268750.45"
                                },
                                {
                                    "CustomerID": "64",
                                    "CustomerName": "Tailspin Toys (Hodgdon, ME)",
                                    "TotalSalesAmount": "268675.50"
                                },
                                {
                                    "CustomerID": "463",
                                    "CustomerName": "Wingtip Toys (Cowlington, OK)",
                                    "TotalSalesAmount": "268663.50"
                                },
                                {
                                    "CustomerID": "803",
                                    "CustomerName": "Bala Dixit",
                                    "TotalSalesAmount": "268565.25"
                                },
                                {
                                    "CustomerID": "902",
                                    "CustomerName": "Kamila Michnova",
                                    "TotalSalesAmount": "268517.90"
                                },
                                {
                                    "CustomerID": "886",
                                    "CustomerName": "Debbie Molina",
                                    "TotalSalesAmount": "268494.70"
                                },
                                {
                                    "CustomerID": "992",
                                    "CustomerName": "Amarakumaar Gadiyaram",
                                    "TotalSalesAmount": "268328.00"
                                },
                                {
                                    "CustomerID": "1002",
                                    "CustomerName": "Stefan Selezeanu",
                                    "TotalSalesAmount": "268285.55"
                                },
                                {
                                    "CustomerID": "129",
                                    "CustomerName": "Tailspin Toys (Mineral Hills, MI)",
                                    "TotalSalesAmount": "268024.10"
                                },
                                {
                                    "CustomerID": "901",
                                    "CustomerName": "Adrian Andreasson",
                                    "TotalSalesAmount": "268013.45"
                                },
                                {
                                    "CustomerID": "887",
                                    "CustomerName": "Baran Jonsson",
                                    "TotalSalesAmount": "267390.65"
                                },
                                {
                                    "CustomerID": "468",
                                    "CustomerName": "Wingtip Toys (Sunburg, MN)",
                                    "TotalSalesAmount": "267108.05"
                                },
                                {
                                    "CustomerID": "69",
                                    "CustomerName": "Tailspin Toys (Lytle Creek, CA)",
                                    "TotalSalesAmount": "266743.35"
                                },
                                {
                                    "CustomerID": "116",
                                    "CustomerName": "Tailspin Toys (Rafael Capó, PR)",
                                    "TotalSalesAmount": "266658.70"
                                },
                                {
                                    "CustomerID": "155",
                                    "CustomerName": "Tailspin Toys (Arbor Vitae, WI)",
                                    "TotalSalesAmount": "266619.15"
                                },
                                {
                                    "CustomerID": "817",
                                    "CustomerName": "Agrita Kanepa",
                                    "TotalSalesAmount": "266379.15"
                                },
                                {
                                    "CustomerID": "131",
                                    "CustomerName": "Tailspin Toys (Kwethluk, AK)",
                                    "TotalSalesAmount": "266262.40"
                                },
                                {
                                    "CustomerID": "469",
                                    "CustomerName": "Wingtip Toys (Johnetta, KY)",
                                    "TotalSalesAmount": "265796.10"
                                },
                                {
                                    "CustomerID": "519",
                                    "CustomerName": "Wingtip Toys (Boynton, OK)",
                                    "TotalSalesAmount": "265773.20"
                                },
                                {
                                    "CustomerID": "879",
                                    "CustomerName": "Jitka Necesana",
                                    "TotalSalesAmount": "265730.85"
                                },
                                {
                                    "CustomerID": "962",
                                    "CustomerName": "Bhagavati Vinjamuri",
                                    "TotalSalesAmount": "265677.40"
                                },
                                {
                                    "CustomerID": "1011",
                                    "CustomerName": "Rajeev Sandhu",
                                    "TotalSalesAmount": "265650.00"
                                },
                                {
                                    "CustomerID": "167",
                                    "CustomerName": "Tailspin Toys (Rockwall, TX)",
                                    "TotalSalesAmount": "265393.65"
                                },
                                {
                                    "CustomerID": "88",
                                    "CustomerName": "Tailspin Toys (Dracut, MA)",
                                    "TotalSalesAmount": "265375.70"
                                },
                                {
                                    "CustomerID": "441",
                                    "CustomerName": "Wingtip Toys (Keosauqua, IA)",
                                    "TotalSalesAmount": "265308.40"
                                },
                                {
                                    "CustomerID": "521",
                                    "CustomerName": "Wingtip Toys (Robertsdale, AL)",
                                    "TotalSalesAmount": "265300.55"
                                },
                                {
                                    "CustomerID": "946",
                                    "CustomerName": "David safranek",
                                    "TotalSalesAmount": "265195.25"
                                },
                                {
                                    "CustomerID": "594",
                                    "CustomerName": "Wingtip Toys (Marfa, TX)",
                                    "TotalSalesAmount": "265107.65"
                                },
                                {
                                    "CustomerID": "139",
                                    "CustomerName": "Tailspin Toys (Hardeeville, SC)",
                                    "TotalSalesAmount": "265076.25"
                                },
                                {
                                    "CustomerID": "858",
                                    "CustomerName": "Bimla PrabhupÄda",
                                    "TotalSalesAmount": "264768.95"
                                },
                                {
                                    "CustomerID": "471",
                                    "CustomerName": "Wingtip Toys (Ridgemark, CA)",
                                    "TotalSalesAmount": "264477.95"
                                },
                                {
                                    "CustomerID": "52",
                                    "CustomerName": "Tailspin Toys (Idria, CA)",
                                    "TotalSalesAmount": "264406.75"
                                },
                                {
                                    "CustomerID": "520",
                                    "CustomerName": "Wingtip Toys (Frenchburg, KY)",
                                    "TotalSalesAmount": "264316.80"
                                },
                                {
                                    "CustomerID": "896",
                                    "CustomerName": "Leonardo Folliero",
                                    "TotalSalesAmount": "264111.20"
                                },
                                {
                                    "CustomerID": "589",
                                    "CustomerName": "Wingtip Toys (Alcester, SD)",
                                    "TotalSalesAmount": "263725.40"
                                },
                                {
                                    "CustomerID": "871",
                                    "CustomerName": "Darshana Madhunapantula",
                                    "TotalSalesAmount": "263636.75"
                                },
                                {
                                    "CustomerID": "85",
                                    "CustomerName": "Tailspin Toys (Andrix, CO)",
                                    "TotalSalesAmount": "263083.15"
                                },
                                {
                                    "CustomerID": "853",
                                    "CustomerName": "Caterina Pinto",
                                    "TotalSalesAmount": "262801.30"
                                },
                                {
                                    "CustomerID": "535",
                                    "CustomerName": "Wingtip Toys (Triadelphia, WV)",
                                    "TotalSalesAmount": "262634.85"
                                },
                                {
                                    "CustomerID": "514",
                                    "CustomerName": "Wingtip Toys (Gilford, NH)",
                                    "TotalSalesAmount": "262606.40"
                                },
                                {
                                    "CustomerID": "58",
                                    "CustomerName": "Tailspin Toys (Mappsburg, VA)",
                                    "TotalSalesAmount": "262498.95"
                                },
                                {
                                    "CustomerID": "161",
                                    "CustomerName": "Tailspin Toys (Aspen Park, CO)",
                                    "TotalSalesAmount": "262322.00"
                                },
                                {
                                    "CustomerID": "459",
                                    "CustomerName": "Wingtip Toys (Haydenville, OH)",
                                    "TotalSalesAmount": "262286.00"
                                },
                                {
                                    "CustomerID": "499",
                                    "CustomerName": "Wingtip Toys (East Fultonham, OH)",
                                    "TotalSalesAmount": "262070.00"
                                },
                                {
                                    "CustomerID": "458",
                                    "CustomerName": "Wingtip Toys (Coker, AL)",
                                    "TotalSalesAmount": "262022.55"
                                },
                                {
                                    "CustomerID": "575",
                                    "CustomerName": "Wingtip Toys (Trumansburg, NY)",
                                    "TotalSalesAmount": "261619.55"
                                },
                                {
                                    "CustomerID": "464",
                                    "CustomerName": "Wingtip Toys (Glen Ullin, ND)",
                                    "TotalSalesAmount": "261590.90"
                                },
                                {
                                    "CustomerID": "512",
                                    "CustomerName": "Wingtip Toys (Philip, SD)",
                                    "TotalSalesAmount": "261544.15"
                                },
                                {
                                    "CustomerID": "18",
                                    "CustomerName": "Tailspin Toys (Goffstown, NH)",
                                    "TotalSalesAmount": "261427.85"
                                },
                                {
                                    "CustomerID": "561",
                                    "CustomerName": "Wingtip Toys (Marion Junction, AL)",
                                    "TotalSalesAmount": "260944.85"
                                },
                                {
                                    "CustomerID": "83",
                                    "CustomerName": "Tailspin Toys (Absecon, NJ)",
                                    "TotalSalesAmount": "260721.05"
                                },
                                {
                                    "CustomerID": "970",
                                    "CustomerName": "Isidora Urias",
                                    "TotalSalesAmount": "260546.65"
                                },
                                {
                                    "CustomerID": "963",
                                    "CustomerName": "Be Trang",
                                    "TotalSalesAmount": "260400.65"
                                },
                                {
                                    "CustomerID": "497",
                                    "CustomerName": "Wingtip Toys (Verdery, SC)",
                                    "TotalSalesAmount": "260248.40"
                                },
                                {
                                    "CustomerID": "802",
                                    "CustomerName": "Cosmina Vlad",
                                    "TotalSalesAmount": "259917.30"
                                },
                                {
                                    "CustomerID": "959",
                                    "CustomerName": "Dhaatri Chavva",
                                    "TotalSalesAmount": "259902.05"
                                },
                                {
                                    "CustomerID": "854",
                                    "CustomerName": "Daakshaayaani Kommineni",
                                    "TotalSalesAmount": "259878.95"
                                },
                                {
                                    "CustomerID": "487",
                                    "CustomerName": "Wingtip Toys (Elverson, PA)",
                                    "TotalSalesAmount": "259757.40"
                                },
                                {
                                    "CustomerID": "440",
                                    "CustomerName": "Wingtip Toys (Asher, OK)",
                                    "TotalSalesAmount": "259500.50"
                                },
                                {
                                    "CustomerID": "79",
                                    "CustomerName": "Tailspin Toys (Page City, KS)",
                                    "TotalSalesAmount": "259307.35"
                                },
                                {
                                    "CustomerID": "93",
                                    "CustomerName": "Tailspin Toys (Clewiston, FL)",
                                    "TotalSalesAmount": "259270.50"
                                },
                                {
                                    "CustomerID": "164",
                                    "CustomerName": "Tailspin Toys (Rothsville, PA)",
                                    "TotalSalesAmount": "259013.60"
                                },
                                {
                                    "CustomerID": "585",
                                    "CustomerName": "Wingtip Toys (Towaco, NJ)",
                                    "TotalSalesAmount": "259003.85"
                                },
                                {
                                    "CustomerID": "436",
                                    "CustomerName": "Wingtip Toys (Gargatha, VA)",
                                    "TotalSalesAmount": "258731.15"
                                },
                                {
                                    "CustomerID": "897",
                                    "CustomerName": "Allan Mannik",
                                    "TotalSalesAmount": "258212.55"
                                },
                                {
                                    "CustomerID": "554",
                                    "CustomerName": "Wingtip Toys (Hollandsburg, IN)",
                                    "TotalSalesAmount": "257552.70"
                                },
                                {
                                    "CustomerID": "971",
                                    "CustomerName": "Dhanishta Mokkapati",
                                    "TotalSalesAmount": "257335.00"
                                },
                                {
                                    "CustomerID": "938",
                                    "CustomerName": "Anna Gyarmathi",
                                    "TotalSalesAmount": "257293.45"
                                },
                                {
                                    "CustomerID": "5",
                                    "CustomerName": "Tailspin Toys (Gasport, NY)",
                                    "TotalSalesAmount": "257129.40"
                                },
                                {
                                    "CustomerID": "596",
                                    "CustomerName": "Wingtip Toys (Cos Cob, CT)",
                                    "TotalSalesAmount": "256897.20"
                                },
                                {
                                    "CustomerID": "6",
                                    "CustomerName": "Tailspin Toys (Jessie, ND)",
                                    "TotalSalesAmount": "256737.60"
                                },
                                {
                                    "CustomerID": "196",
                                    "CustomerName": "Tailspin Toys (Howells, NE)",
                                    "TotalSalesAmount": "256584.40"
                                },
                                {
                                    "CustomerID": "993",
                                    "CustomerName": "Gasper Havzija",
                                    "TotalSalesAmount": "255947.80"
                                },
                                {
                                    "CustomerID": "1010",
                                    "CustomerName": "Serdar ozCelik",
                                    "TotalSalesAmount": "255831.15"
                                },
                                {
                                    "CustomerID": "835",
                                    "CustomerName": "Dominic Davignon",
                                    "TotalSalesAmount": "255476.65"
                                },
                                {
                                    "CustomerID": "822",
                                    "CustomerName": "Suparna Bhattacharya",
                                    "TotalSalesAmount": "255233.60"
                                },
                                {
                                    "CustomerID": "811",
                                    "CustomerName": "Surendra Sahu",
                                    "TotalSalesAmount": "255202.15"
                                },
                                {
                                    "CustomerID": "168",
                                    "CustomerName": "Tailspin Toys (Seagraves, TX)",
                                    "TotalSalesAmount": "255144.55"
                                },
                                {
                                    "CustomerID": "552",
                                    "CustomerName": "Wingtip Toys (Shay, PA)",
                                    "TotalSalesAmount": "254836.65"
                                },
                                {
                                    "CustomerID": "493",
                                    "CustomerName": "Wingtip Toys (Federalsburg, MD)",
                                    "TotalSalesAmount": "254436.65"
                                },
                                {
                                    "CustomerID": "836",
                                    "CustomerName": "Abel Spirlea",
                                    "TotalSalesAmount": "254272.20"
                                },
                                {
                                    "CustomerID": "1016",
                                    "CustomerName": "Aive Petrov",
                                    "TotalSalesAmount": "254225.80"
                                },
                                {
                                    "CustomerID": "543",
                                    "CustomerName": "Wingtip Toys (Lexington Heights, MI)",
                                    "TotalSalesAmount": "254123.50"
                                },
                                {
                                    "CustomerID": "51",
                                    "CustomerName": "Tailspin Toys (Imlaystown, NJ)",
                                    "TotalSalesAmount": "253988.30"
                                },
                                {
                                    "CustomerID": "412",
                                    "CustomerName": "Wingtip Toys (Bozeman Hot Springs, MT)",
                                    "TotalSalesAmount": "253958.30"
                                },
                                {
                                    "CustomerID": "500",
                                    "CustomerName": "Wingtip Toys (Obion, TN)",
                                    "TotalSalesAmount": "253868.45"
                                },
                                {
                                    "CustomerID": "979",
                                    "CustomerName": "Melani Ravlen",
                                    "TotalSalesAmount": "253732.55"
                                },
                                {
                                    "CustomerID": "518",
                                    "CustomerName": "Wingtip Toys (Raton, NM)",
                                    "TotalSalesAmount": "252961.90"
                                },
                                {
                                    "CustomerID": "12",
                                    "CustomerName": "Tailspin Toys (Biscay, MN)",
                                    "TotalSalesAmount": "252931.60"
                                },
                                {
                                    "CustomerID": "965",
                                    "CustomerName": "Phoung Cu",
                                    "TotalSalesAmount": "252829.35"
                                },
                                {
                                    "CustomerID": "443",
                                    "CustomerName": "Wingtip Toys (Berville, MI)",
                                    "TotalSalesAmount": "252762.70"
                                },
                                {
                                    "CustomerID": "570",
                                    "CustomerName": "Wingtip Toys (Flomaton, AL)",
                                    "TotalSalesAmount": "252327.70"
                                },
                                {
                                    "CustomerID": "551",
                                    "CustomerName": "Wingtip Toys (Huntingburg, IN)",
                                    "TotalSalesAmount": "252002.35"
                                },
                                {
                                    "CustomerID": "1008",
                                    "CustomerName": "Vedrana Kovacevic",
                                    "TotalSalesAmount": "251394.40"
                                },
                                {
                                    "CustomerID": "948",
                                    "CustomerName": "Richard Zahradnicek",
                                    "TotalSalesAmount": "251206.45"
                                },
                                {
                                    "CustomerID": "893",
                                    "CustomerName": "Leyla Asef zade",
                                    "TotalSalesAmount": "251205.45"
                                },
                                {
                                    "CustomerID": "526",
                                    "CustomerName": "Wingtip Toys (Beekmantown, NY)",
                                    "TotalSalesAmount": "251048.55"
                                },
                                {
                                    "CustomerID": "974",
                                    "CustomerName": "Emil Roman",
                                    "TotalSalesAmount": "250738.60"
                                },
                                {
                                    "CustomerID": "952",
                                    "CustomerName": "Chuan Wattanasin",
                                    "TotalSalesAmount": "250647.85"
                                },
                                {
                                    "CustomerID": "193",
                                    "CustomerName": "Tailspin Toys (Knifley, KY)",
                                    "TotalSalesAmount": "250605.85"
                                },
                                {
                                    "CustomerID": "920",
                                    "CustomerName": "Gayatri Gajula",
                                    "TotalSalesAmount": "250533.95"
                                },
                                {
                                    "CustomerID": "150",
                                    "CustomerName": "Tailspin Toys (Corfu, NY)",
                                    "TotalSalesAmount": "250500.30"
                                },
                                {
                                    "CustomerID": "113",
                                    "CustomerName": "Tailspin Toys (Dahlia, NM)",
                                    "TotalSalesAmount": "249913.80"
                                },
                                {
                                    "CustomerID": "844",
                                    "CustomerName": "Durdanah Abbasi",
                                    "TotalSalesAmount": "249823.75"
                                },
                                {
                                    "CustomerID": "994",
                                    "CustomerName": "Libuse Kuchtova",
                                    "TotalSalesAmount": "249628.20"
                                },
                                {
                                    "CustomerID": "985",
                                    "CustomerName": "Roko Ilic",
                                    "TotalSalesAmount": "249572.20"
                                },
                                {
                                    "CustomerID": "913",
                                    "CustomerName": "Violetta KlanCisar",
                                    "TotalSalesAmount": "249390.40"
                                },
                                {
                                    "CustomerID": "600",
                                    "CustomerName": "Wingtip Toys (Caro, MI)",
                                    "TotalSalesAmount": "249373.35"
                                },
                                {
                                    "CustomerID": "935",
                                    "CustomerName": "Daevasree Samavedam",
                                    "TotalSalesAmount": "248994.15"
                                },
                                {
                                    "CustomerID": "180",
                                    "CustomerName": "Tailspin Toys (Caselton, NV)",
                                    "TotalSalesAmount": "248937.90"
                                },
                                {
                                    "CustomerID": "445",
                                    "CustomerName": "Wingtip Toys (Dacono, CO)",
                                    "TotalSalesAmount": "248690.10"
                                },
                                {
                                    "CustomerID": "174",
                                    "CustomerName": "Tailspin Toys (Astor Park, FL)",
                                    "TotalSalesAmount": "248327.25"
                                },
                                {
                                    "CustomerID": "544",
                                    "CustomerName": "Wingtip Toys (Broomtown, AL)",
                                    "TotalSalesAmount": "248285.00"
                                },
                                {
                                    "CustomerID": "574",
                                    "CustomerName": "Wingtip Toys (Molalla, OR)",
                                    "TotalSalesAmount": "248275.20"
                                },
                                {
                                    "CustomerID": "868",
                                    "CustomerName": "Laura Sykorova",
                                    "TotalSalesAmount": "248253.45"
                                },
                                {
                                    "CustomerID": "44",
                                    "CustomerName": "Tailspin Toys (Amanda Park, WA)",
                                    "TotalSalesAmount": "248011.75"
                                },
                                {
                                    "CustomerID": "59",
                                    "CustomerName": "Tailspin Toys (Edgartown, MA)",
                                    "TotalSalesAmount": "247751.15"
                                },
                                {
                                    "CustomerID": "898",
                                    "CustomerName": "Gopalgobinda Sikdar",
                                    "TotalSalesAmount": "246963.60"
                                },
                                {
                                    "CustomerID": "878",
                                    "CustomerName": "Miriam House",
                                    "TotalSalesAmount": "246832.50"
                                },
                                {
                                    "CustomerID": "540",
                                    "CustomerName": "Wingtip Toys (Weld, ME)",
                                    "TotalSalesAmount": "246642.90"
                                },
                                {
                                    "CustomerID": "957",
                                    "CustomerName": "Hee-Young Suh",
                                    "TotalSalesAmount": "246560.00"
                                },
                                {
                                    "CustomerID": "108",
                                    "CustomerName": "Tailspin Toys (Bernie, MO)",
                                    "TotalSalesAmount": "246233.10"
                                },
                                {
                                    "CustomerID": "840",
                                    "CustomerName": "Rodrigo Figueiredo",
                                    "TotalSalesAmount": "245995.90"
                                },
                                {
                                    "CustomerID": "46",
                                    "CustomerName": "Tailspin Toys (Jemison, AL)",
                                    "TotalSalesAmount": "245926.60"
                                },
                                {
                                    "CustomerID": "812",
                                    "CustomerName": "Celica Barajas",
                                    "TotalSalesAmount": "245707.60"
                                },
                                {
                                    "CustomerID": "165",
                                    "CustomerName": "Tailspin Toys (Topstone, CT)",
                                    "TotalSalesAmount": "245280.75"
                                },
                                {
                                    "CustomerID": "29",
                                    "CustomerName": "Tailspin Toys (Eulaton, AL)",
                                    "TotalSalesAmount": "245220.20"
                                },
                                {
                                    "CustomerID": "484",
                                    "CustomerName": "Wingtip Toys (Mauldin, SC)",
                                    "TotalSalesAmount": "244942.75"
                                },
                                {
                                    "CustomerID": "160",
                                    "CustomerName": "Tailspin Toys (Crary, ND)",
                                    "TotalSalesAmount": "244766.80"
                                },
                                {
                                    "CustomerID": "966",
                                    "CustomerName": "Sara Walkky",
                                    "TotalSalesAmount": "244464.75"
                                },
                                {
                                    "CustomerID": "188",
                                    "CustomerName": "Tailspin Toys (Premont, TX)",
                                    "TotalSalesAmount": "244444.65"
                                },
                                {
                                    "CustomerID": "201",
                                    "CustomerName": "Tailspin Toys (Skyway, WA)",
                                    "TotalSalesAmount": "244442.65"
                                },
                                {
                                    "CustomerID": "449",
                                    "CustomerName": "Wingtip Toys (Delray, WV)",
                                    "TotalSalesAmount": "244099.60"
                                },
                                {
                                    "CustomerID": "456",
                                    "CustomerName": "Wingtip Toys (West Hempstead, NY)",
                                    "TotalSalesAmount": "243848.20"
                                },
                                {
                                    "CustomerID": "114",
                                    "CustomerName": "Tailspin Toys (Cherry Grove Beach, SC)",
                                    "TotalSalesAmount": "243201.95"
                                },
                                {
                                    "CustomerID": "136",
                                    "CustomerName": "Tailspin Toys (Mount Montgomery, NV)",
                                    "TotalSalesAmount": "243054.45"
                                },
                                {
                                    "CustomerID": "34",
                                    "CustomerName": "Tailspin Toys (Dallardsville, TX)",
                                    "TotalSalesAmount": "242269.05"
                                },
                                {
                                    "CustomerID": "998",
                                    "CustomerName": "Mahavir Sonkar",
                                    "TotalSalesAmount": "242218.85"
                                },
                                {
                                    "CustomerID": "408",
                                    "CustomerName": "Wingtip Toys (Rockwall, TX)",
                                    "TotalSalesAmount": "241539.45"
                                },
                                {
                                    "CustomerID": "158",
                                    "CustomerName": "Tailspin Toys (Donner, LA)",
                                    "TotalSalesAmount": "241300.95"
                                },
                                {
                                    "CustomerID": "163",
                                    "CustomerName": "Tailspin Toys (Panaca, NV)",
                                    "TotalSalesAmount": "241171.30"
                                },
                                {
                                    "CustomerID": "922",
                                    "CustomerName": "Sumati Chatterjee",
                                    "TotalSalesAmount": "240875.95"
                                },
                                {
                                    "CustomerID": "571",
                                    "CustomerName": "Wingtip Toys (Pawlet, VT)",
                                    "TotalSalesAmount": "240809.10"
                                },
                                {
                                    "CustomerID": "409",
                                    "CustomerName": "Wingtip Toys (Orick, CA)",
                                    "TotalSalesAmount": "240664.40"
                                },
                                {
                                    "CustomerID": "73",
                                    "CustomerName": "Tailspin Toys (Cokato, MN)",
                                    "TotalSalesAmount": "240469.80"
                                },
                                {
                                    "CustomerID": "932",
                                    "CustomerName": "Nicolo Cattaneo",
                                    "TotalSalesAmount": "240414.80"
                                },
                                {
                                    "CustomerID": "76",
                                    "CustomerName": "Tailspin Toys (Yewed, OK)",
                                    "TotalSalesAmount": "240270.20"
                                },
                                {
                                    "CustomerID": "112",
                                    "CustomerName": "Tailspin Toys (Sallyards, KS)",
                                    "TotalSalesAmount": "240177.15"
                                },
                                {
                                    "CustomerID": "422",
                                    "CustomerName": "Wingtip Toys (Naches, WA)",
                                    "TotalSalesAmount": "240031.70"
                                },
                                {
                                    "CustomerID": "555",
                                    "CustomerName": "Wingtip Toys (Liberty Grove, MD)",
                                    "TotalSalesAmount": "239421.30"
                                },
                                {
                                    "CustomerID": "181",
                                    "CustomerName": "Tailspin Toys (Heilwood, PA)",
                                    "TotalSalesAmount": "239126.30"
                                },
                                {
                                    "CustomerID": "120",
                                    "CustomerName": "Tailspin Toys (Bratenahl, OH)",
                                    "TotalSalesAmount": "239072.80"
                                },
                                {
                                    "CustomerID": "560",
                                    "CustomerName": "Wingtip Toys (Palmas del Mar, PR)",
                                    "TotalSalesAmount": "238680.80"
                                },
                                {
                                    "CustomerID": "931",
                                    "CustomerName": "Nada Jovanovic",
                                    "TotalSalesAmount": "238362.05"
                                },
                                {
                                    "CustomerID": "819",
                                    "CustomerName": "Santiago Vera",
                                    "TotalSalesAmount": "238253.20"
                                },
                                {
                                    "CustomerID": "903",
                                    "CustomerName": "Bing Han",
                                    "TotalSalesAmount": "237976.50"
                                },
                                {
                                    "CustomerID": "84",
                                    "CustomerName": "Tailspin Toys (Aceitunas, PR)",
                                    "TotalSalesAmount": "237639.40"
                                },
                                {
                                    "CustomerID": "851",
                                    "CustomerName": "Ebru Erdogan",
                                    "TotalSalesAmount": "237546.60"
                                },
                                {
                                    "CustomerID": "21",
                                    "CustomerName": "Tailspin Toys (Tresckow, PA)",
                                    "TotalSalesAmount": "237369.95"
                                },
                                {
                                    "CustomerID": "525",
                                    "CustomerName": "Wingtip Toys (Claycomo, MO)",
                                    "TotalSalesAmount": "237356.80"
                                },
                                {
                                    "CustomerID": "843",
                                    "CustomerName": "Marija Justina Pasek",
                                    "TotalSalesAmount": "237314.85"
                                },
                                {
                                    "CustomerID": "873",
                                    "CustomerName": "Hana Hlouskova",
                                    "TotalSalesAmount": "237125.65"
                                },
                                {
                                    "CustomerID": "987",
                                    "CustomerName": "Akhil Nadar",
                                    "TotalSalesAmount": "236926.40"
                                },
                                {
                                    "CustomerID": "184",
                                    "CustomerName": "Tailspin Toys (South Euclid, OH)",
                                    "TotalSalesAmount": "236871.15"
                                },
                                {
                                    "CustomerID": "159",
                                    "CustomerName": "Tailspin Toys (Saint Louis Park, MN)",
                                    "TotalSalesAmount": "236715.80"
                                },
                                {
                                    "CustomerID": "486",
                                    "CustomerName": "Wingtip Toys (Lowellville, OH)",
                                    "TotalSalesAmount": "236712.70"
                                },
                                {
                                    "CustomerID": "451",
                                    "CustomerName": "Wingtip Toys (Smoot, WY)",
                                    "TotalSalesAmount": "236386.85"
                                },
                                {
                                    "CustomerID": "47",
                                    "CustomerName": "Tailspin Toys (Lake Hughes, CA)",
                                    "TotalSalesAmount": "236025.70"
                                },
                                {
                                    "CustomerID": "77",
                                    "CustomerName": "Tailspin Toys (Hahira, GA)",
                                    "TotalSalesAmount": "236024.00"
                                },
                                {
                                    "CustomerID": "453",
                                    "CustomerName": "Wingtip Toys (Stanardsville, VA)",
                                    "TotalSalesAmount": "235997.20"
                                },
                                {
                                    "CustomerID": "852",
                                    "CustomerName": "Bhagavaan Atluri",
                                    "TotalSalesAmount": "235987.80"
                                },
                                {
                                    "CustomerID": "536",
                                    "CustomerName": "Wingtip Toys (Ferney, SD)",
                                    "TotalSalesAmount": "235874.85"
                                },
                                {
                                    "CustomerID": "56",
                                    "CustomerName": "Tailspin Toys (Royal City, WA)",
                                    "TotalSalesAmount": "235867.80"
                                },
                                {
                                    "CustomerID": "461",
                                    "CustomerName": "Wingtip Toys (Vair, TX)",
                                    "TotalSalesAmount": "235767.90"
                                },
                                {
                                    "CustomerID": "156",
                                    "CustomerName": "Tailspin Toys (Hollywood Park, TX)",
                                    "TotalSalesAmount": "235737.90"
                                },
                                {
                                    "CustomerID": "1018",
                                    "CustomerName": "Nils Kaulins",
                                    "TotalSalesAmount": "235643.20"
                                },
                                {
                                    "CustomerID": "63",
                                    "CustomerName": "Tailspin Toys (Stallion Springs, CA)",
                                    "TotalSalesAmount": "235544.85"
                                },
                                {
                                    "CustomerID": "503",
                                    "CustomerName": "Wingtip Toys (Valhalla, NC)",
                                    "TotalSalesAmount": "235322.25"
                                },
                                {
                                    "CustomerID": "95",
                                    "CustomerName": "Tailspin Toys (Lavon, TX)",
                                    "TotalSalesAmount": "234831.65"
                                },
                                {
                                    "CustomerID": "433",
                                    "CustomerName": "Wingtip Toys (Balko, OK)",
                                    "TotalSalesAmount": "234411.65"
                                },
                                {
                                    "CustomerID": "846",
                                    "CustomerName": "Malorie Bousquet",
                                    "TotalSalesAmount": "234283.25"
                                },
                                {
                                    "CustomerID": "919",
                                    "CustomerName": "Kertu Sokk",
                                    "TotalSalesAmount": "233878.10"
                                },
                                {
                                    "CustomerID": "926",
                                    "CustomerName": "Richard Friar",
                                    "TotalSalesAmount": "233644.15"
                                },
                                {
                                    "CustomerID": "1004",
                                    "CustomerName": "Drishti Bose",
                                    "TotalSalesAmount": "233599.65"
                                },
                                {
                                    "CustomerID": "470",
                                    "CustomerName": "Wingtip Toys (Universal City, TX)",
                                    "TotalSalesAmount": "233430.20"
                                },
                                {
                                    "CustomerID": "148",
                                    "CustomerName": "Tailspin Toys (Baraboo, WI)",
                                    "TotalSalesAmount": "233162.90"
                                },
                                {
                                    "CustomerID": "881",
                                    "CustomerName": "Magdalena Michnova",
                                    "TotalSalesAmount": "232871.75"
                                },
                                {
                                    "CustomerID": "1024",
                                    "CustomerName": "Arka Chatterjee",
                                    "TotalSalesAmount": "232820.40"
                                },
                                {
                                    "CustomerID": "438",
                                    "CustomerName": "Wingtip Toys (Lucasville, OH)",
                                    "TotalSalesAmount": "232562.45"
                                },
                                {
                                    "CustomerID": "482",
                                    "CustomerName": "Wingtip Toys (Caton, NY)",
                                    "TotalSalesAmount": "232555.25"
                                },
                                {
                                    "CustomerID": "999",
                                    "CustomerName": "Kristi Part",
                                    "TotalSalesAmount": "232519.95"
                                },
                                {
                                    "CustomerID": "41",
                                    "CustomerName": "Tailspin Toys (Olivette, MO)",
                                    "TotalSalesAmount": "231534.35"
                                },
                                {
                                    "CustomerID": "154",
                                    "CustomerName": "Tailspin Toys (Eden Valley, MN)",
                                    "TotalSalesAmount": "231484.40"
                                },
                                {
                                    "CustomerID": "576",
                                    "CustomerName": "Wingtip Toys (Goodings Grove, IL)",
                                    "TotalSalesAmount": "231466.50"
                                },
                                {
                                    "CustomerID": "54",
                                    "CustomerName": "Tailspin Toys (Railroad, PA)",
                                    "TotalSalesAmount": "231444.90"
                                },
                                {
                                    "CustomerID": "883",
                                    "CustomerName": "Radha Barua",
                                    "TotalSalesAmount": "230998.55"
                                },
                                {
                                    "CustomerID": "8",
                                    "CustomerName": "Tailspin Toys (Bow Mar, CO)",
                                    "TotalSalesAmount": "230582.20"
                                },
                                {
                                    "CustomerID": "147",
                                    "CustomerName": "Tailspin Toys (Fishtail, MT)",
                                    "TotalSalesAmount": "230475.80"
                                },
                                {
                                    "CustomerID": "809",
                                    "CustomerName": "Madhu Dwivedi",
                                    "TotalSalesAmount": "229780.45"
                                },
                                {
                                    "CustomerID": "189",
                                    "CustomerName": "Tailspin Toys (Wilkes-Barre, PA)",
                                    "TotalSalesAmount": "229246.60"
                                },
                                {
                                    "CustomerID": "199",
                                    "CustomerName": "Tailspin Toys (Antonito, CO)",
                                    "TotalSalesAmount": "229154.75"
                                },
                                {
                                    "CustomerID": "141",
                                    "CustomerName": "Tailspin Toys (Arrow Rock, MO)",
                                    "TotalSalesAmount": "229153.60"
                                },
                                {
                                    "CustomerID": "2",
                                    "CustomerName": "Tailspin Toys (Sylvanite, MT)",
                                    "TotalSalesAmount": "229142.90"
                                },
                                {
                                    "CustomerID": "895",
                                    "CustomerName": "Geza Roman",
                                    "TotalSalesAmount": "229132.80"
                                },
                                {
                                    "CustomerID": "417",
                                    "CustomerName": "Wingtip Toys (Chetek, WI)",
                                    "TotalSalesAmount": "228982.60"
                                },
                                {
                                    "CustomerID": "513",
                                    "CustomerName": "Wingtip Toys (Straughn, IN)",
                                    "TotalSalesAmount": "228763.45"
                                },
                                {
                                    "CustomerID": "530",
                                    "CustomerName": "Wingtip Toys (East Mountain, TX)",
                                    "TotalSalesAmount": "228570.55"
                                },
                                {
                                    "CustomerID": "845",
                                    "CustomerName": "Emilie Hrdlickova",
                                    "TotalSalesAmount": "228507.25"
                                },
                                {
                                    "CustomerID": "462",
                                    "CustomerName": "Wingtip Toys (Crossroads, NM)",
                                    "TotalSalesAmount": "228006.95"
                                },
                                {
                                    "CustomerID": "837",
                                    "CustomerName": "Anil Sarkar",
                                    "TotalSalesAmount": "227744.40"
                                },
                                {
                                    "CustomerID": "553",
                                    "CustomerName": "Wingtip Toys (Helotes, TX)",
                                    "TotalSalesAmount": "226371.30"
                                },
                                {
                                    "CustomerID": "179",
                                    "CustomerName": "Tailspin Toys (Hiteman, IA)",
                                    "TotalSalesAmount": "226338.70"
                                },
                                {
                                    "CustomerID": "152",
                                    "CustomerName": "Tailspin Toys (Sun River, MT)",
                                    "TotalSalesAmount": "225900.20"
                                },
                                {
                                    "CustomerID": "914",
                                    "CustomerName": "Chandana Shasthri",
                                    "TotalSalesAmount": "225728.15"
                                },
                                {
                                    "CustomerID": "818",
                                    "CustomerName": "Liia Orav",
                                    "TotalSalesAmount": "225702.00"
                                },
                                {
                                    "CustomerID": "599",
                                    "CustomerName": "Wingtip Toys (Dickworsham, TX)",
                                    "TotalSalesAmount": "225505.25"
                                },
                                {
                                    "CustomerID": "100",
                                    "CustomerName": "Tailspin Toys (Tunnelhill, PA)",
                                    "TotalSalesAmount": "225476.75"
                                },
                                {
                                    "CustomerID": "49",
                                    "CustomerName": "Tailspin Toys (Muir, MI)",
                                    "TotalSalesAmount": "224952.55"
                                },
                                {
                                    "CustomerID": "590",
                                    "CustomerName": "Wingtip Toys (McAdenville, NC)",
                                    "TotalSalesAmount": "224921.85"
                                },
                                {
                                    "CustomerID": "20",
                                    "CustomerName": "Tailspin Toys (College Place, WA)",
                                    "TotalSalesAmount": "224535.60"
                                },
                                {
                                    "CustomerID": "62",
                                    "CustomerName": "Tailspin Toys (Great Neck Estates, NY)",
                                    "TotalSalesAmount": "224520.70"
                                },
                                {
                                    "CustomerID": "39",
                                    "CustomerName": "Tailspin Toys (Diablock, KY)",
                                    "TotalSalesAmount": "223984.10"
                                },
                                {
                                    "CustomerID": "194",
                                    "CustomerName": "Tailspin Toys (Naples Park, FL)",
                                    "TotalSalesAmount": "223973.60"
                                },
                                {
                                    "CustomerID": "490",
                                    "CustomerName": "Wingtip Toys (Beals, ME)",
                                    "TotalSalesAmount": "223930.00"
                                },
                                {
                                    "CustomerID": "904",
                                    "CustomerName": "Olafs Rozitis",
                                    "TotalSalesAmount": "223716.80"
                                },
                                {
                                    "CustomerID": "60",
                                    "CustomerName": "Tailspin Toys (East Dailey, WV)",
                                    "TotalSalesAmount": "223541.75"
                                },
                                {
                                    "CustomerID": "19",
                                    "CustomerName": "Tailspin Toys (Lemeta, AK)",
                                    "TotalSalesAmount": "223326.00"
                                },
                                {
                                    "CustomerID": "404",
                                    "CustomerName": "Wingtip Toys (Penns Creek, PA)",
                                    "TotalSalesAmount": "222959.40"
                                },
                                {
                                    "CustomerID": "454",
                                    "CustomerName": "Wingtip Toys (Corcovado, PR)",
                                    "TotalSalesAmount": "222637.20"
                                },
                                {
                                    "CustomerID": "511",
                                    "CustomerName": "Wingtip Toys (North Manitou, MI)",
                                    "TotalSalesAmount": "222407.70"
                                },
                                {
                                    "CustomerID": "104",
                                    "CustomerName": "Tailspin Toys (Wallagrass, ME)",
                                    "TotalSalesAmount": "221635.65"
                                },
                                {
                                    "CustomerID": "57",
                                    "CustomerName": "Tailspin Toys (Lakemore, OH)",
                                    "TotalSalesAmount": "221619.80"
                                },
                                {
                                    "CustomerID": "940",
                                    "CustomerName": "Lorin Astrom",
                                    "TotalSalesAmount": "221607.40"
                                },
                                {
                                    "CustomerID": "864",
                                    "CustomerName": "Mikhail Degtyarev",
                                    "TotalSalesAmount": "221558.30"
                                },
                                {
                                    "CustomerID": "522",
                                    "CustomerName": "Wingtip Toys (Dickerson, MD)",
                                    "TotalSalesAmount": "221539.75"
                                },
                                {
                                    "CustomerID": "808",
                                    "CustomerName": "Jackson Kolios",
                                    "TotalSalesAmount": "221482.90"
                                },
                                {
                                    "CustomerID": "105",
                                    "CustomerName": "Tailspin Toys (Tomnolen, MS)",
                                    "TotalSalesAmount": "221267.60"
                                },
                                {
                                    "CustomerID": "839",
                                    "CustomerName": "Juan Morse",
                                    "TotalSalesAmount": "220690.65"
                                },
                                {
                                    "CustomerID": "927",
                                    "CustomerName": "Matyas Sedlar",
                                    "TotalSalesAmount": "220227.05"
                                },
                                {
                                    "CustomerID": "446",
                                    "CustomerName": "Wingtip Toys (Saint Landry, LA)",
                                    "TotalSalesAmount": "220213.35"
                                },
                                {
                                    "CustomerID": "1005",
                                    "CustomerName": "Bhadram Kamasamudram",
                                    "TotalSalesAmount": "220033.70"
                                },
                                {
                                    "CustomerID": "477",
                                    "CustomerName": "Wingtip Toys (Glancy, MS)",
                                    "TotalSalesAmount": "219391.80"
                                },
                                {
                                    "CustomerID": "13",
                                    "CustomerName": "Tailspin Toys (Stonefort, IL)",
                                    "TotalSalesAmount": "218424.25"
                                },
                                {
                                    "CustomerID": "23",
                                    "CustomerName": "Tailspin Toys (Ikatan, AK)",
                                    "TotalSalesAmount": "218302.00"
                                },
                                {
                                    "CustomerID": "419",
                                    "CustomerName": "Wingtip Toys (Compass Lake, FL)",
                                    "TotalSalesAmount": "217217.75"
                                },
                                {
                                    "CustomerID": "917",
                                    "CustomerName": "Pari Hosseini",
                                    "TotalSalesAmount": "217076.50"
                                },
                                {
                                    "CustomerID": "1014",
                                    "CustomerName": "Narendra Tickoo",
                                    "TotalSalesAmount": "216863.65"
                                },
                                {
                                    "CustomerID": "823",
                                    "CustomerName": "Francisca Laureano",
                                    "TotalSalesAmount": "216495.00"
                                },
                                {
                                    "CustomerID": "22",
                                    "CustomerName": "Tailspin Toys (Ward Ridge, FL)",
                                    "TotalSalesAmount": "215637.50"
                                },
                                {
                                    "CustomerID": "921",
                                    "CustomerName": "Victoria Lacusta",
                                    "TotalSalesAmount": "215557.30"
                                },
                                {
                                    "CustomerID": "581",
                                    "CustomerName": "Wingtip Toys (Munich, ND)",
                                    "TotalSalesAmount": "215245.90"
                                },
                                {
                                    "CustomerID": "847",
                                    "CustomerName": "Kristiina Ivanov",
                                    "TotalSalesAmount": "215241.10"
                                },
                                {
                                    "CustomerID": "515",
                                    "CustomerName": "Wingtip Toys (Del Valle, TX)",
                                    "TotalSalesAmount": "214600.15"
                                },
                                {
                                    "CustomerID": "411",
                                    "CustomerName": "Wingtip Toys (Edmund, WI)",
                                    "TotalSalesAmount": "214568.75"
                                },
                                {
                                    "CustomerID": "556",
                                    "CustomerName": "Wingtip Toys (Morita, TX)",
                                    "TotalSalesAmount": "213406.40"
                                },
                                {
                                    "CustomerID": "563",
                                    "CustomerName": "Wingtip Toys (Lostine, OR)",
                                    "TotalSalesAmount": "213146.70"
                                },
                                {
                                    "CustomerID": "423",
                                    "CustomerName": "Wingtip Toys (Baldwin City, KS)",
                                    "TotalSalesAmount": "212613.55"
                                },
                                {
                                    "CustomerID": "61",
                                    "CustomerName": "Tailspin Toys (Fairfield Glade, TN)",
                                    "TotalSalesAmount": "211994.90"
                                },
                                {
                                    "CustomerID": "36",
                                    "CustomerName": "Tailspin Toys (Ekron, KY)",
                                    "TotalSalesAmount": "211211.35"
                                },
                                {
                                    "CustomerID": "866",
                                    "CustomerName": "Jay Bhuiyan",
                                    "TotalSalesAmount": "210812.95"
                                },
                                {
                                    "CustomerID": "567",
                                    "CustomerName": "Wingtip Toys (Jeromesville, OH)",
                                    "TotalSalesAmount": "208914.20"
                                },
                                {
                                    "CustomerID": "951",
                                    "CustomerName": "Eliza Persson",
                                    "TotalSalesAmount": "207641.10"
                                },
                                {
                                    "CustomerID": "859",
                                    "CustomerName": "Shah Alizadeh",
                                    "TotalSalesAmount": "207615.15"
                                },
                                {
                                    "CustomerID": "175",
                                    "CustomerName": "Tailspin Toys (San Acacia, NM)",
                                    "TotalSalesAmount": "207512.50"
                                },
                                {
                                    "CustomerID": "1017",
                                    "CustomerName": "David Novacek ",
                                    "TotalSalesAmount": "206994.75"
                                },
                                {
                                    "CustomerID": "929",
                                    "CustomerName": "Vladimir Henzl",
                                    "TotalSalesAmount": "206859.15"
                                },
                                {
                                    "CustomerID": "24",
                                    "CustomerName": "Tailspin Toys (Dundarrach, NC)",
                                    "TotalSalesAmount": "206388.85"
                                },
                                {
                                    "CustomerID": "969",
                                    "CustomerName": "Staffan Persson",
                                    "TotalSalesAmount": "205319.40"
                                },
                                {
                                    "CustomerID": "502",
                                    "CustomerName": "Wingtip Toys (Miesville, MN)",
                                    "TotalSalesAmount": "205312.55"
                                },
                                {
                                    "CustomerID": "547",
                                    "CustomerName": "Wingtip Toys (Chaseley, ND)",
                                    "TotalSalesAmount": "204815.50"
                                },
                                {
                                    "CustomerID": "925",
                                    "CustomerName": "Can ozcan",
                                    "TotalSalesAmount": "204612.80"
                                },
                                {
                                    "CustomerID": "91",
                                    "CustomerName": "Tailspin Toys (Alstead, NH)",
                                    "TotalSalesAmount": "204303.60"
                                },
                                {
                                    "CustomerID": "126",
                                    "CustomerName": "Tailspin Toys (Francis Mills, NJ)",
                                    "TotalSalesAmount": "203960.40"
                                },
                                {
                                    "CustomerID": "450",
                                    "CustomerName": "Wingtip Toys (Mount Summit, IN)",
                                    "TotalSalesAmount": "203346.30"
                                },
                                {
                                    "CustomerID": "1012",
                                    "CustomerName": "Urve Kasesalu",
                                    "TotalSalesAmount": "203067.60"
                                },
                                {
                                    "CustomerID": "990",
                                    "CustomerName": "Andris Saulitis",
                                    "TotalSalesAmount": "201982.85"
                                },
                                {
                                    "CustomerID": "1020",
                                    "CustomerName": "Hai Banh",
                                    "TotalSalesAmount": "201418.45"
                                },
                                {
                                    "CustomerID": "557",
                                    "CustomerName": "Wingtip Toys (New Laguna, NM)",
                                    "TotalSalesAmount": "201364.45"
                                },
                                {
                                    "CustomerID": "568",
                                    "CustomerName": "Wingtip Toys (Ovilla, TX)",
                                    "TotalSalesAmount": "199441.80"
                                },
                                {
                                    "CustomerID": "424",
                                    "CustomerName": "Wingtip Toys (Heartwell, NE)",
                                    "TotalSalesAmount": "198555.45"
                                },
                                {
                                    "CustomerID": "457",
                                    "CustomerName": "Wingtip Toys (Portales, NM)",
                                    "TotalSalesAmount": "197314.45"
                                },
                                {
                                    "CustomerID": "1025",
                                    "CustomerName": "Tuulikki Linna",
                                    "TotalSalesAmount": "196163.80"
                                },
                                {
                                    "CustomerID": "504",
                                    "CustomerName": "Wingtip Toys (Cape Neddick, ME)",
                                    "TotalSalesAmount": "195208.05"
                                },
                                {
                                    "CustomerID": "865",
                                    "CustomerName": "Bijoya Thakur",
                                    "TotalSalesAmount": "195044.65"
                                },
                                {
                                    "CustomerID": "833",
                                    "CustomerName": "Devraj Rao",
                                    "TotalSalesAmount": "194911.90"
                                },
                                {
                                    "CustomerID": "956",
                                    "CustomerName": "Nhung Thach",
                                    "TotalSalesAmount": "194043.80"
                                },
                                {
                                    "CustomerID": "937",
                                    "CustomerName": "Manca Hrastovsek",
                                    "TotalSalesAmount": "193333.00"
                                },
                                {
                                    "CustomerID": "491",
                                    "CustomerName": "Wingtip Toys (Morton Grove, IL)",
                                    "TotalSalesAmount": "190017.30"
                                },
                                {
                                    "CustomerID": "1029",
                                    "CustomerName": "Veronika Necesana",
                                    "TotalSalesAmount": "189479.95"
                                },
                                {
                                    "CustomerID": "66",
                                    "CustomerName": "Tailspin Toys (Madaket, MA)",
                                    "TotalSalesAmount": "188680.45"
                                },
                                {
                                    "CustomerID": "539",
                                    "CustomerName": "Wingtip Toys (Nuangola, PA)",
                                    "TotalSalesAmount": "185707.00"
                                },
                                {
                                    "CustomerID": "426",
                                    "CustomerName": "Wingtip Toys (Willow Valley, AZ)",
                                    "TotalSalesAmount": "183321.40"
                                },
                                {
                                    "CustomerID": "197",
                                    "CustomerName": "Tailspin Toys (Magalia, CA)",
                                    "TotalSalesAmount": "183277.70"
                                },
                                {
                                    "CustomerID": "814",
                                    "CustomerName": "Johanna Hoornstra",
                                    "TotalSalesAmount": "182335.85"
                                },
                                {
                                    "CustomerID": "1023",
                                    "CustomerName": "Farzana Habibi",
                                    "TotalSalesAmount": "181007.95"
                                },
                                {
                                    "CustomerID": "111",
                                    "CustomerName": "Tailspin Toys (Oriole Beach, FL)",
                                    "TotalSalesAmount": "181002.15"
                                },
                                {
                                    "CustomerID": "989",
                                    "CustomerName": "Milinka Zujovic",
                                    "TotalSalesAmount": "180203.30"
                                },
                                {
                                    "CustomerID": "1037",
                                    "CustomerName": "David Jaramillo",
                                    "TotalSalesAmount": "179704.90"
                                },
                                {
                                    "CustomerID": "1019",
                                    "CustomerName": "Dhanishta Pullela",
                                    "TotalSalesAmount": "177206.70"
                                },
                                {
                                    "CustomerID": "1013",
                                    "CustomerName": "Annette  Hetu",
                                    "TotalSalesAmount": "175221.40"
                                },
                                {
                                    "CustomerID": "1015",
                                    "CustomerName": "Isa Hulsegge",
                                    "TotalSalesAmount": "173963.20"
                                },
                                {
                                    "CustomerID": "1033",
                                    "CustomerName": "Cuneyt Arslan",
                                    "TotalSalesAmount": "173816.50"
                                },
                                {
                                    "CustomerID": "573",
                                    "CustomerName": "Wingtip Toys (Marin City, CA)",
                                    "TotalSalesAmount": "169931.60"
                                },
                                {
                                    "CustomerID": "1022",
                                    "CustomerName": "Nadir Seddigh",
                                    "TotalSalesAmount": "169357.35"
                                },
                                {
                                    "CustomerID": "1032",
                                    "CustomerName": "Som Mukherjee",
                                    "TotalSalesAmount": "166189.70"
                                },
                                {
                                    "CustomerID": "1034",
                                    "CustomerName": "Aishwarya Dantuluri",
                                    "TotalSalesAmount": "165909.10"
                                },
                                {
                                    "CustomerID": "1027",
                                    "CustomerName": "Serdar ozden",
                                    "TotalSalesAmount": "162660.00"
                                },
                                {
                                    "CustomerID": "1036",
                                    "CustomerName": "Erik Malk",
                                    "TotalSalesAmount": "160249.00"
                                },
                                {
                                    "CustomerID": "577",
                                    "CustomerName": "Wingtip Toys (Cherryplain, NY)",
                                    "TotalSalesAmount": "154555.45"
                                },
                                {
                                    "CustomerID": "1021",
                                    "CustomerName": "Fabrice Cloutier",
                                    "TotalSalesAmount": "153963.15"
                                },
                                {
                                    "CustomerID": "869",
                                    "CustomerName": "Abel Tatarescu",
                                    "TotalSalesAmount": "153664.05"
                                },
                                {
                                    "CustomerID": "1026",
                                    "CustomerName": "Daniella Cavalcante",
                                    "TotalSalesAmount": "146813.35"
                                },
                                {
                                    "CustomerID": "1043",
                                    "CustomerName": "Raj Verma",
                                    "TotalSalesAmount": "145724.40"
                                },
                                {
                                    "CustomerID": "1045",
                                    "CustomerName": "Matteo Cattaneo",
                                    "TotalSalesAmount": "144951.40"
                                },
                                {
                                    "CustomerID": "1031",
                                    "CustomerName": "Dipti Shah",
                                    "TotalSalesAmount": "140446.35"
                                },
                                {
                                    "CustomerID": "1030",
                                    "CustomerName": "Chompoo Atitarn",
                                    "TotalSalesAmount": "138137.40"
                                },
                                {
                                    "CustomerID": "1035",
                                    "CustomerName": "Manjunatha Karnik",
                                    "TotalSalesAmount": "136118.00"
                                },
                                {
                                    "CustomerID": "1028",
                                    "CustomerName": "Emma Van Zant",
                                    "TotalSalesAmount": "134261.00"
                                },
                                {
                                    "CustomerID": "1040",
                                    "CustomerName": "Damodar Shenoy",
                                    "TotalSalesAmount": "131871.90"
                                },
                                {
                                    "CustomerID": "1042",
                                    "CustomerName": "Nguyen Banh",
                                    "TotalSalesAmount": "111939.50"
                                },
                                {
                                    "CustomerID": "1041",
                                    "CustomerName": "Tomo Vidovic",
                                    "TotalSalesAmount": "108959.40"
                                },
                                {
                                    "CustomerID": "1038",
                                    "CustomerName": "Damodara Trivedi",
                                    "TotalSalesAmount": "106879.45"
                                },
                                {
                                    "CustomerID": "1046",
                                    "CustomerName": "Christian Couet",
                                    "TotalSalesAmount": "97806.65"
                                },
                                {
                                    "CustomerID": "1039",
                                    "CustomerName": "Bhaamini Palagummi",
                                    "TotalSalesAmount": "93465.40"
                                },
                                {
                                    "CustomerID": "1044",
                                    "CustomerName": "Hanita Nookala",
                                    "TotalSalesAmount": "92791.65"
                                },
                                {
                                    "CustomerID": "1052",
                                    "CustomerName": "Ian Olofsson",
                                    "TotalSalesAmount": "66913.85"
                                },
                                {
                                    "CustomerID": "1048",
                                    "CustomerName": "Abhra Ganguly",
                                    "TotalSalesAmount": "58243.35"
                                },
                                {
                                    "CustomerID": "1055",
                                    "CustomerName": "Adriana Pena",
                                    "TotalSalesAmount": "55629.05"
                                },
                                {
                                    "CustomerID": "1058",
                                    "CustomerName": "Jaroslav Fisar",
                                    "TotalSalesAmount": "54552.40"
                                },
                                {
                                    "CustomerID": "1054",
                                    "CustomerName": "Emma Salpa",
                                    "TotalSalesAmount": "51439.35"
                                },
                                {
                                    "CustomerID": "1047",
                                    "CustomerName": "Ivana Hadrabova",
                                    "TotalSalesAmount": "49336.95"
                                },
                                {
                                    "CustomerID": "1049",
                                    "CustomerName": "Amet Shergill",
                                    "TotalSalesAmount": "48685.80"
                                },
                                {
                                    "CustomerID": "1057",
                                    "CustomerName": "Ganesh Majumdar",
                                    "TotalSalesAmount": "46772.25"
                                },
                                {
                                    "CustomerID": "1056",
                                    "CustomerName": "Kalyani Benjaree",
                                    "TotalSalesAmount": "44808.45"
                                },
                                {
                                    "CustomerID": "1050",
                                    "CustomerName": "Amrita Ganguly",
                                    "TotalSalesAmount": "42138.15"
                                },
                                {
                                    "CustomerID": "1053",
                                    "CustomerName": "Luis Saucedo",
                                    "TotalSalesAmount": "40036.80"
                                },
                                {
                                    "CustomerID": "1051",
                                    "CustomerName": "Sylvie Laramee",
                                    "TotalSalesAmount": "38734.50"
                                },
                                {
                                    "CustomerID": "1061",
                                    "CustomerName": "Agrita Abele",
                                    "TotalSalesAmount": "22829.65"
                                },
                                {
                                    "CustomerID": "1059",
                                    "CustomerName": "Jibek Juniskyzy",
                                    "TotalSalesAmount": "13208.10"
                                },
                                {
                                    "CustomerID": "1060",
                                    "CustomerName": "Anand Mudaliyar",
                                    "TotalSalesAmount": "7240.20"
                                }
                            ]
                        },
                        "text/html": [
                            "<table>",
                            "<tr><th>CustomerID</th><th>CustomerName</th><th>TotalSalesAmount</th></tr>",
                            "<tr><td>149</td><td>Tailspin Toys (Inguadona, MN)</td><td>381585.35</td></tr>",
                            "<tr><td>132</td><td>Tailspin Toys (Minidoka, ID)</td><td>371822.30</td></tr>",
                            "<tr><td>977</td><td>Mauno Laurila</td><td>369058.30</td></tr>",
                            "<tr><td>580</td><td>Wingtip Toys (Sarversville, PA)</td><td>365427.00</td></tr>",
                            "<tr><td>954</td><td>Nasrin Omidzadeh</td><td>361939.75</td></tr>",
                            "<tr><td>14</td><td>Tailspin Toys (Long Meadow, MD)</td><td>360901.50</td></tr>",
                            "<tr><td>964</td><td>Ingrida Zeltina</td><td>359859.45</td></tr>",
                            "<tr><td>472</td><td>Wingtip Toys (San Jacinto, CA)</td><td>355293.35</td></tr>",
                            "<tr><td>996</td><td>Laszlo Gardenier</td><td>354680.80</td></tr>",
                            "<tr><td>841</td><td>Camille Authier</td><td>353499.15</td></tr>",
                            "<tr><td>1001</td><td>Dinh Mai</td><td>353177.75</td></tr>",
                            "<tr><td>593</td><td>Wingtip Toys (Cuyamungue, NM)</td><td>353046.95</td></tr>",
                            "<tr><td>550</td><td>Wingtip Toys (Morrison Bluff, AR)</td><td>352287.20</td></tr>",
                            "<tr><td>510</td><td>Wingtip Toys (Grabill, IN)</td><td>351138.65</td></tr>",
                            "<tr><td>569</td><td>Wingtip Toys (West Frostproof, FL)</td><td>346621.45</td></tr>",
                            "<tr><td>874</td><td>Daniel Martensson</td><td>346062.20</td></tr>",
                            "<tr><td>856</td><td>Satish Mittal</td><td>345839.10</td></tr>",
                            "<tr><td>861</td><td>Amarasimha Vinjamuri</td><td>344208.65</td></tr>",
                            "<tr><td>102</td><td>Tailspin Toys (Fieldbrook, CA)</td><td>344005.05</td></tr>",
                            "<tr><td>480</td><td>Wingtip Toys (Wapinitia, OR)</td><td>343236.10</td></tr>",
                            "<tr><td>949</td><td>Seo-yun Paik</td><td>342138.85</td></tr>",
                            "<tr><td>185</td><td>Tailspin Toys (Vidrine, LA)</td><td>340163.80</td></tr>",
                            "<tr><td>71</td><td>Tailspin Toys (Good Hart, MI)</td><td>339867.35</td></tr>",
                            "<tr><td>32</td><td>Tailspin Toys (Maypearl, TX)</td><td>339721.90</td></tr>",
                            "<tr><td>198</td><td>Tailspin Toys (Buell, MO)</td><td>337822.05</td></tr>",
                            "<tr><td>565</td><td>Wingtip Toys (Wapiti, WY)</td><td>336411.00</td></tr>",
                            "<tr><td>546</td><td>Wingtip Toys (Key Biscayne, FL)</td><td>335053.55</td></tr>",
                            "<tr><td>67</td><td>Tailspin Toys (Sentinel Butte, ND)</td><td>334970.00</td></tr>",
                            "<tr><td>81</td><td>Tailspin Toys (Big Moose, NY)</td><td>334587.15</td></tr>",
                            "<tr><td>541</td><td>Wingtip Toys (Mickleton, NJ)</td><td>332515.15</td></tr>",
                            "<tr><td>558</td><td>Wingtip Toys (Bourneville, OH)</td><td>332283.15</td></tr>",
                            "<tr><td>478</td><td>Wingtip Toys (Stoneboro, PA)</td><td>331986.50</td></tr>",
                            "<tr><td>834</td><td>Cong Hoa</td><td>331512.10</td></tr>",
                            "<tr><td>982</td><td>Yves Belisle</td><td>330437.35</td></tr>",
                            "<tr><td>586</td><td>Wingtip Toys (Lynne, FL)</td><td>328532.85</td></tr>",
                            "<tr><td>442</td><td>Wingtip Toys (Homer City, PA)</td><td>328526.40</td></tr>",
                            "<tr><td>474</td><td>Wingtip Toys (Bokeelia, FL)</td><td>328375.45</td></tr>",
                            "<tr><td>804</td><td>Aleksandrs Riekstins</td><td>328332.15</td></tr>",
                            "<tr><td>413</td><td>Wingtip Toys (Truscott, TX)</td><td>328241.20</td></tr>",
                            "<tr><td>597</td><td>Wingtip Toys (Haycock, AK)</td><td>328237.65</td></tr>",
                            "<tr><td>94</td><td>Tailspin Toys (Cheyenne Wells, CO)</td><td>327692.10</td></tr>",
                            "<tr><td>583</td><td>Wingtip Toys (Knights Landing, CA)</td><td>327417.20</td></tr>",
                            "<tr><td>588</td><td>Wingtip Toys (Oak Point, TX)</td><td>327253.55</td></tr>",
                            "<tr><td>65</td><td>Tailspin Toys (North Cowden, TX)</td><td>327184.80</td></tr>",
                            "<tr><td>38</td><td>Tailspin Toys (Airport Drive, MO)</td><td>325895.15</td></tr>",
                            "<tr><td>930</td><td>Shantanu Huq</td><td>325743.95</td></tr>",
                            "<tr><td>941</td><td>Bishwa Chatterjee</td><td>325480.55</td></tr>",
                            "<tr><td>7</td><td>Tailspin Toys (Frankewing, TN)</td><td>325415.75</td></tr>",
                            "<tr><td>870</td><td>In-Su Bae</td><td>325301.35</td></tr>",
                            "<tr><td>195</td><td>Tailspin Toys (Lesslie, SC)</td><td>325239.95</td></tr>",
                            "<tr><td>170</td><td>Tailspin Toys (Eastchester, NY)</td><td>323930.80</td></tr>",
                            "<tr><td>928</td><td>Arijit Bhuiyan</td><td>323854.25</td></tr>",
                            "<tr><td>947</td><td>Svetlana Todorovic</td><td>322725.15</td></tr>",
                            "<tr><td>980</td><td>Om Yadav</td><td>321544.65</td></tr>",
                            "<tr><td>186</td><td>Tailspin Toys (Placer, OR)</td><td>321476.10</td></tr>",
                            "<tr><td>115</td><td>Tailspin Toys (Bethania, NC)</td><td>321225.95</td></tr>",
                            "<tr><td>40</td><td>Tailspin Toys (Impact, TX)</td><td>321163.95</td></tr>",
                            "<tr><td>831</td><td>Bhaavan Rai</td><td>321163.00</td></tr>",
                            "<tr><td>813</td><td>Shyam Poddar</td><td>321098.05</td></tr>",
                            "<tr><td>991</td><td>Valter Viiding</td><td>320851.25</td></tr>",
                            "<tr><td>489</td><td>Wingtip Toys (Sayner, WI)</td><td>320848.80</td></tr>",
                            "<tr><td>187</td><td>Tailspin Toys (Brown City, MI)</td><td>320102.15</td></tr>",
                            "<tr><td>86</td><td>Tailspin Toys (New Lexington, OH)</td><td>319743.25</td></tr>",
                            "<tr><td>545</td><td>Wingtip Toys (Jamison, IA)</td><td>319174.50</td></tr>",
                            "<tr><td>975</td><td>Prabodh Nair</td><td>318585.65</td></tr>",
                            "<tr><td>531</td><td>Wingtip Toys (Omer, MI)</td><td>318424.95</td></tr>",
                            "<tr><td>506</td><td>Wingtip Toys (North Beach Haven, NJ)</td><td>318193.35</td></tr>",
                            "<tr><td>958</td><td>Valentin Tirlea</td><td>318103.20</td></tr>",
                            "<tr><td>892</td><td>Bahaar Asef zade</td><td>318047.05</td></tr>",
                            "<tr><td>528</td><td>Wingtip Toys (Rich Creek, VA)</td><td>317716.45</td></tr>",
                            "<tr><td>582</td><td>Wingtip Toys (Montoya, NM)</td><td>317535.80</td></tr>",
                            "<tr><td>10</td><td>Tailspin Toys (Wimbledon, ND)</td><td>317126.45</td></tr>",
                            "<tr><td>89</td><td>Tailspin Toys (Victory Gardens, NJ)</td><td>317019.70</td></tr>",
                            "<tr><td>598</td><td>Wingtip Toys (Kapa&#39;a, HI)</td><td>316857.85</td></tr>",
                            "<tr><td>534</td><td>Wingtip Toys (Plaquemine, LA)</td><td>316819.75</td></tr>",
                            "<tr><td>182</td><td>Tailspin Toys (Hayes Center, NE)</td><td>316337.10</td></tr>",
                            "<tr><td>133</td><td>Tailspin Toys (Lake Erie Beach, NY)</td><td>315942.65</td></tr>",
                            "<tr><td>415</td><td>Wingtip Toys (Leathersville, GA)</td><td>315810.55</td></tr>",
                            "<tr><td>579</td><td>Wingtip Toys (Connoquenessing, PA)</td><td>315660.30</td></tr>",
                            "<tr><td>807</td><td>Gunnar Lohmus</td><td>315028.35</td></tr>",
                            "<tr><td>548</td><td>Wingtip Toys (Indian Creek, IL)</td><td>314993.70</td></tr>",
                            "<tr><td>78</td><td>Tailspin Toys (Sekiu, WA)</td><td>314765.10</td></tr>",
                            "<tr><td>109</td><td>Tailspin Toys (South Laguna, CA)</td><td>314652.70</td></tr>",
                            "<tr><td>110</td><td>Tailspin Toys (North Crows Nest, IN)</td><td>313999.50</td></tr>",
                            "<tr><td>192</td><td>Tailspin Toys (Optimo, NM)</td><td>313846.50</td></tr>",
                            "<tr><td>538</td><td>Wingtip Toys (Deeson, MS)</td><td>313276.20</td></tr>",
                            "<tr><td>884</td><td>Anindya Ghatak</td><td>313143.60</td></tr>",
                            "<tr><td>429</td><td>Wingtip Toys (Lilbourn, MO)</td><td>313093.60</td></tr>",
                            "<tr><td>516</td><td>Wingtip Toys (Harkers Island, NC)</td><td>313081.05</td></tr>",
                            "<tr><td>815</td><td>Libuse Valentova</td><td>313044.50</td></tr>",
                            "<tr><td>906</td><td>Ajitaab Pakalapati</td><td>312882.65</td></tr>",
                            "<tr><td>527</td><td>Wingtip Toys (Islip Terrace, NY)</td><td>312878.90</td></tr>",
                            "<tr><td>542</td><td>Wingtip Toys (Schererville, IN)</td><td>312478.05</td></tr>",
                            "<tr><td>867</td><td>Jasna Cerkez</td><td>312376.70</td></tr>",
                            "<tr><td>99</td><td>Tailspin Toys (Guin, AL)</td><td>311705.15</td></tr>",
                            "<tr><td>988</td><td>Maksims Krastins</td><td>310332.60</td></tr>",
                            "<tr><td>549</td><td>Wingtip Toys (Lake Ronkonkoma, NY)</td><td>310172.20</td></tr>",
                            "<tr><td>140</td><td>Tailspin Toys (Furley, KS)</td><td>309778.30</td></tr>",
                            "<tr><td>877</td><td>Leyla Siavashi</td><td>309614.75</td></tr>",
                            "<tr><td>907</td><td>Eugen Agafitei</td><td>309498.85</td></tr>",
                            "<tr><td>434</td><td>Wingtip Toys (Lime Lake, NY)</td><td>308925.80</td></tr>",
                            "<tr><td>405</td><td>Wingtip Toys (Bourbonnais, IL)</td><td>308060.10</td></tr>",
                            "<tr><td>876</td><td>Marie LeBatelier</td><td>307822.50</td></tr>",
                            "<tr><td>406</td><td>Wingtip Toys (Tuscaloosa, AL)</td><td>307647.15</td></tr>",
                            "<tr><td>403</td><td>Wingtip Toys (Queen Valley, AZ)</td><td>307532.65</td></tr>",
                            "<tr><td>3</td><td>Tailspin Toys (Peeples Valley, AZ)</td><td>307461.05</td></tr>",
                            "<tr><td>177</td><td>Tailspin Toys (Orrtanna, PA)</td><td>307244.80</td></tr>",
                            "<tr><td>176</td><td>Tailspin Toys (Malott, WA)</td><td>307146.35</td></tr>",
                            "<tr><td>27</td><td>Tailspin Toys (Bowlus, MN)</td><td>306954.45</td></tr>",
                            "<tr><td>11</td><td>Tailspin Toys (Devault, PA)</td><td>306800.80</td></tr>",
                            "<tr><td>944</td><td>Ida Celma</td><td>306775.20</td></tr>",
                            "<tr><td>900</td><td>Lilli Sokk</td><td>306514.55</td></tr>",
                            "<tr><td>909</td><td>Dena Glissen</td><td>305914.90</td></tr>",
                            "<tr><td>444</td><td>Wingtip Toys (Tea, SD)</td><td>305870.05</td></tr>",
                            "<tr><td>87</td><td>Tailspin Toys (Sauquoit, NY)</td><td>305855.35</td></tr>",
                            "<tr><td>945</td><td>Hoc Tran</td><td>305701.70</td></tr>",
                            "<tr><td>1</td><td>Tailspin Toys (Head Office)</td><td>305494.40</td></tr>",
                            "<tr><td>452</td><td>Wingtip Toys (Lake Davis, CA)</td><td>305447.65</td></tr>",
                            "<tr><td>43</td><td>Tailspin Toys (Upper Preston, WA)</td><td>305167.85</td></tr>",
                            "<tr><td>973</td><td>Kumar Kamei</td><td>304738.50</td></tr>",
                            "<tr><td>885</td><td>Chandrashekhar Dasgupta</td><td>304489.85</td></tr>",
                            "<tr><td>153</td><td>Tailspin Toys (Marcell, MN)</td><td>303860.15</td></tr>",
                            "<tr><td>1006</td><td>Taj Syme</td><td>303719.10</td></tr>",
                            "<tr><td>37</td><td>Tailspin Toys (Kerby, OR)</td><td>303590.50</td></tr>",
                            "<tr><td>829</td><td>Jack Walker</td><td>303241.95</td></tr>",
                            "<tr><td>882</td><td>Maryann Huddleston</td><td>303014.05</td></tr>",
                            "<tr><td>96</td><td>Tailspin Toys (South La Paloma, TX)</td><td>302863.60</td></tr>",
                            "<tr><td>430</td><td>Wingtip Toys (Lost River, ID)</td><td>302375.80</td></tr>",
                            "<tr><td>485</td><td>Wingtip Toys (Bonner Springs, KS)</td><td>302303.75</td></tr>",
                            "<tr><td>830</td><td>Jana Fialova</td><td>302139.20</td></tr>",
                            "<tr><td>875</td><td>Philip Walker</td><td>301491.30</td></tr>",
                            "<tr><td>848</td><td>Alvin Bollinger</td><td>301431.35</td></tr>",
                            "<tr><td>523</td><td>Wingtip Toys (Bruceton Mills, WV)</td><td>301277.05</td></tr>",
                            "<tr><td>910</td><td>Elina Kaleja</td><td>301015.00</td></tr>",
                            "<tr><td>494</td><td>Wingtip Toys (Pikeview, CO)</td><td>300733.05</td></tr>",
                            "<tr><td>118</td><td>Tailspin Toys (Vassalboro, ME)</td><td>300693.80</td></tr>",
                            "<tr><td>595</td><td>Wingtip Toys (Accomac, VA)</td><td>300565.00</td></tr>",
                            "<tr><td>508</td><td>Wingtip Toys (Branson West, MO)</td><td>300315.60</td></tr>",
                            "<tr><td>410</td><td>Wingtip Toys (Bernstein, TX)</td><td>299908.30</td></tr>",
                            "<tr><td>908</td><td>Sumati Bhat</td><td>299667.45</td></tr>",
                            "<tr><td>983</td><td>Sabine Alksne</td><td>299644.00</td></tr>",
                            "<tr><td>138</td><td>Tailspin Toys (Navassa, NC)</td><td>299557.65</td></tr>",
                            "<tr><td>30</td><td>Tailspin Toys (Koontzville, WA)</td><td>299367.25</td></tr>",
                            "<tr><td>933</td><td>Joel Carrillo</td><td>299267.25</td></tr>",
                            "<tr><td>4</td><td>Tailspin Toys (Medicine Lodge, KS)</td><td>299127.85</td></tr>",
                            "<tr><td>899</td><td>Chin-Sun Chang</td><td>298970.80</td></tr>",
                            "<tr><td>98</td><td>Tailspin Toys (El Centro, CA)</td><td>298878.40</td></tr>",
                            "<tr><td>146</td><td>Tailspin Toys (Belgreen, AL)</td><td>298816.40</td></tr>",
                            "<tr><td>960</td><td>Edgar Jogi</td><td>298236.25</td></tr>",
                            "<tr><td>455</td><td>Wingtip Toys (Taft Heights, CA)</td><td>298219.95</td></tr>",
                            "<tr><td>178</td><td>Tailspin Toys (Armstrong Creek, WI)</td><td>298173.15</td></tr>",
                            "<tr><td>166</td><td>Tailspin Toys (McCamey, TX)</td><td>297965.55</td></tr>",
                            "<tr><td>572</td><td>Wingtip Toys (Trout Run, PA)</td><td>297738.65</td></tr>",
                            "<tr><td>55</td><td>Tailspin Toys (Gum Branch, GA)</td><td>297657.70</td></tr>",
                            "<tr><td>849</td><td>Sabine Zalite</td><td>296871.70</td></tr>",
                            "<tr><td>961</td><td>Rani Ganguly</td><td>296634.45</td></tr>",
                            "<tr><td>15</td><td>Tailspin Toys (Batson, TX)</td><td>296487.50</td></tr>",
                            "<tr><td>479</td><td>Wingtip Toys (Mier, IN)</td><td>296464.05</td></tr>",
                            "<tr><td>850</td><td>Daakshaayaani Sankaramanchi</td><td>296183.95</td></tr>",
                            "<tr><td>591</td><td>Wingtip Toys (Idaho City, ID)</td><td>295808.15</td></tr>",
                            "<tr><td>496</td><td>Wingtip Toys (Port Hueneme, CA)</td><td>295793.25</td></tr>",
                            "<tr><td>183</td><td>Tailspin Toys (Tierra Verde, FL)</td><td>295667.10</td></tr>",
                            "<tr><td>16</td><td>Tailspin Toys (Coney Island, MO)</td><td>295607.25</td></tr>",
                            "<tr><td>460</td><td>Wingtip Toys (Mayhill, NM)</td><td>295360.15</td></tr>",
                            "<tr><td>832</td><td>Aakriti Byrraju</td><td>295345.40</td></tr>",
                            "<tr><td>90</td><td>Tailspin Toys (Tolna, ND)</td><td>294759.10</td></tr>",
                            "<tr><td>134</td><td>Tailspin Toys (Tavares, FL)</td><td>294563.40</td></tr>",
                            "<tr><td>820</td><td>Knut Svensson</td><td>294542.70</td></tr>",
                            "<tr><td>488</td><td>Wingtip Toys (Isabela, PR)</td><td>294022.25</td></tr>",
                            "<tr><td>981</td><td>Mahmut ozbek</td><td>293795.50</td></tr>",
                            "<tr><td>483</td><td>Wingtip Toys (Plum Branch, SC)</td><td>293793.50</td></tr>",
                            "<tr><td>939</td><td>Ioana Florea</td><td>293589.65</td></tr>",
                            "<tr><td>157</td><td>Tailspin Toys (Saks, AL)</td><td>293489.85</td></tr>",
                            "<tr><td>467</td><td>Wingtip Toys (Mahaffey, PA)</td><td>293471.65</td></tr>",
                            "<tr><td>70</td><td>Tailspin Toys (New Baden, IL)</td><td>293442.25</td></tr>",
                            "<tr><td>74</td><td>Tailspin Toys (Indios, PR)</td><td>293438.05</td></tr>",
                            "<tr><td>492</td><td>Wingtip Toys (Birds, IL)</td><td>293388.90</td></tr>",
                            "<tr><td>953</td><td>Linh Dao</td><td>293343.70</td></tr>",
                            "<tr><td>447</td><td>Wingtip Toys (Coin, IA)</td><td>292807.50</td></tr>",
                            "<tr><td>122</td><td>Tailspin Toys (McClave, CO)</td><td>292416.60</td></tr>",
                            "<tr><td>80</td><td>Tailspin Toys (Valdese, NC)</td><td>292032.70</td></tr>",
                            "<tr><td>562</td><td>Wingtip Toys (Ware Shoals, SC)</td><td>292022.10</td></tr>",
                            "<tr><td>587</td><td>Wingtip Toys (Plata, TX)</td><td>292006.50</td></tr>",
                            "<tr><td>916</td><td>Pinja Jantunen</td><td>291213.10</td></tr>",
                            "<tr><td>137</td><td>Tailspin Toys (Carbonville, UT)</td><td>290743.75</td></tr>",
                            "<tr><td>942</td><td>Chaayaadaevi Sonti</td><td>290649.40</td></tr>",
                            "<tr><td>888</td><td>Jai Lamble</td><td>290061.80</td></tr>",
                            "<tr><td>130</td><td>Tailspin Toys (Maple Shade, NJ)</td><td>289932.95</td></tr>",
                            "<tr><td>125</td><td>Tailspin Toys (Annamoriah, WV)</td><td>289425.10</td></tr>",
                            "<tr><td>28</td><td>Tailspin Toys (North Ridge, NY)</td><td>288928.75</td></tr>",
                            "<tr><td>431</td><td>Wingtip Toys (Rosa Sánchez, PR)</td><td>288866.35</td></tr>",
                            "<tr><td>35</td><td>Tailspin Toys (Slanesville, WV)</td><td>288831.40</td></tr>",
                            "<tr><td>934</td><td>Ivan Sepulveda</td><td>288797.30</td></tr>",
                            "<tr><td>42</td><td>Tailspin Toys (Arietta, NY)</td><td>288764.75</td></tr>",
                            "<tr><td>915</td><td>Ana Florea</td><td>288716.35</td></tr>",
                            "<tr><td>967</td><td>Meera Patel</td><td>288683.15</td></tr>",
                            "<tr><td>1007</td><td>Irma Berzina</td><td>288334.30</td></tr>",
                            "<tr><td>890</td><td>Olya Izmaylov</td><td>288259.85</td></tr>",
                            "<tr><td>481</td><td>Wingtip Toys (White Church, MO)</td><td>288173.40</td></tr>",
                            "<tr><td>123</td><td>Tailspin Toys (Roe Park, NY)</td><td>288051.70</td></tr>",
                            "<tr><td>918</td><td>Isidora Morales</td><td>287988.30</td></tr>",
                            "<tr><td>407</td><td>Wingtip Toys (Mooringsport, LA)</td><td>287662.10</td></tr>",
                            "<tr><td>826</td><td>Leila Carvalho</td><td>287074.15</td></tr>",
                            "<tr><td>509</td><td>Wingtip Toys (Bergen Park, CO)</td><td>286997.65</td></tr>",
                            "<tr><td>101</td><td>Tailspin Toys (Cundiyo, NM)</td><td>286858.05</td></tr>",
                            "<tr><td>143</td><td>Tailspin Toys (Ashtabula, OH)</td><td>286361.60</td></tr>",
                            "<tr><td>976</td><td>Alinne Matos</td><td>286296.05</td></tr>",
                            "<tr><td>173</td><td>Tailspin Toys (Wappingers Falls, NY)</td><td>286277.50</td></tr>",
                            "<tr><td>806</td><td>Shi Tu</td><td>286260.40</td></tr>",
                            "<tr><td>437</td><td>Wingtip Toys (Cadogan, PA)</td><td>285998.05</td></tr>",
                            "<tr><td>418</td><td>Wingtip Toys (Yaak, MT)</td><td>285884.50</td></tr>",
                            "<tr><td>448</td><td>Wingtip Toys (Salt Wells, NV)</td><td>285546.25</td></tr>",
                            "<tr><td>26</td><td>Tailspin Toys (Hedrick, IA)</td><td>285242.95</td></tr>",
                            "<tr><td>97</td><td>Tailspin Toys (Manchester Center, VT)</td><td>284880.65</td></tr>",
                            "<tr><td>498</td><td>Wingtip Toys (Obetz, OH)</td><td>284860.30</td></tr>",
                            "<tr><td>17</td><td>Tailspin Toys (East Fultonham, OH)</td><td>284844.25</td></tr>",
                            "<tr><td>505</td><td>Wingtip Toys (Silver Plume, CO)</td><td>284816.50</td></tr>",
                            "<tr><td>816</td><td>Harsha Huq</td><td>284646.55</td></tr>",
                            "<tr><td>425</td><td>Wingtip Toys (Bethel Acres, OK)</td><td>284494.75</td></tr>",
                            "<tr><td>810</td><td>Alena Kellnerova</td><td>284405.45</td></tr>",
                            "<tr><td>911</td><td>Liidia Lepp</td><td>284305.95</td></tr>",
                            "<tr><td>984</td><td>Kamala Nishad</td><td>284235.15</td></tr>",
                            "<tr><td>533</td><td>Wingtip Toys (Nichols Hills, OK)</td><td>284220.50</td></tr>",
                            "<tr><td>33</td><td>Tailspin Toys (Boyden Arbor, SC)</td><td>283838.30</td></tr>",
                            "<tr><td>894</td><td>Gabriela Hernandes</td><td>283713.50</td></tr>",
                            "<tr><td>943</td><td>Drazenka Jelic</td><td>283419.20</td></tr>",
                            "<tr><td>9</td><td>Tailspin Toys (Netcong, NJ)</td><td>283113.75</td></tr>",
                            "<tr><td>428</td><td>Wingtip Toys (Paw Paw Lake, MI)</td><td>283064.65</td></tr>",
                            "<tr><td>824</td><td>Risto Valbe</td><td>283051.15</td></tr>",
                            "<tr><td>972</td><td>Lakshmi Benipal</td><td>282651.55</td></tr>",
                            "<tr><td>421</td><td>Wingtip Toys (Highland Home, AL)</td><td>281875.50</td></tr>",
                            "<tr><td>151</td><td>Tailspin Toys (Antares, AZ)</td><td>281855.95</td></tr>",
                            "<tr><td>103</td><td>Tailspin Toys (Kalvesta, KS)</td><td>281847.85</td></tr>",
                            "<tr><td>855</td><td>Anna Mazzanti</td><td>281741.80</td></tr>",
                            "<tr><td>601</td><td>Wingtip Toys (Ruthsburg, MD)</td><td>281714.00</td></tr>",
                            "<tr><td>106</td><td>Tailspin Toys (Tumacacori, AZ)</td><td>281664.30</td></tr>",
                            "<tr><td>414</td><td>Wingtip Toys (Rose Tree, PA)</td><td>281575.55</td></tr>",
                            "<tr><td>401</td><td>Wingtip Toys (Head Office)</td><td>281212.00</td></tr>",
                            "<tr><td>117</td><td>Tailspin Toys (Scofield, UT)</td><td>281031.40</td></tr>",
                            "<tr><td>107</td><td>Tailspin Toys (Glen Avon, CA)</td><td>280891.30</td></tr>",
                            "<tr><td>828</td><td>Sercan Celik</td><td>280679.65</td></tr>",
                            "<tr><td>978</td><td>Baalaamjali Devulapalli</td><td>280652.35</td></tr>",
                            "<tr><td>880</td><td>Edmee Glissen</td><td>280544.80</td></tr>",
                            "<tr><td>495</td><td>Wingtip Toys (Boalsburg, PA)</td><td>280466.25</td></tr>",
                            "<tr><td>142</td><td>Tailspin Toys (King Cove, AK)</td><td>280430.65</td></tr>",
                            "<tr><td>529</td><td>Wingtip Toys (Griswoldville, GA)</td><td>280211.75</td></tr>",
                            "<tr><td>466</td><td>Wingtip Toys (Lytle, TX)</td><td>280066.35</td></tr>",
                            "<tr><td>564</td><td>Wingtip Toys (Tilleda, WI)</td><td>280049.15</td></tr>",
                            "<tr><td>31</td><td>Tailspin Toys (Lake Stevens, WA)</td><td>279973.05</td></tr>",
                            "<tr><td>891</td><td>Taneli Riutta</td><td>279938.35</td></tr>",
                            "<tr><td>537</td><td>Wingtip Toys (Akhiok, AK)</td><td>279931.90</td></tr>",
                            "<tr><td>190</td><td>Tailspin Toys (Teutopolis, IL)</td><td>279824.15</td></tr>",
                            "<tr><td>191</td><td>Tailspin Toys (Orchard Hill, GA)</td><td>279790.30</td></tr>",
                            "<tr><td>857</td><td>Clarissa Manfrin</td><td>279608.35</td></tr>",
                            "<tr><td>92</td><td>Tailspin Toys (Sans Souci, SC)</td><td>279129.60</td></tr>",
                            "<tr><td>127</td><td>Tailspin Toys (Point Roberts, WA)</td><td>279041.60</td></tr>",
                            "<tr><td>501</td><td>Wingtip Toys (Cavendish, VT)</td><td>279033.05</td></tr>",
                            "<tr><td>592</td><td>Wingtip Toys (Dunkerton, IA)</td><td>278980.20</td></tr>",
                            "<tr><td>924</td><td>Eva Schulteisz</td><td>278857.70</td></tr>",
                            "<tr><td>912</td><td>Volkan senturk</td><td>278546.75</td></tr>",
                            "<tr><td>1000</td><td>Krishnam Allu</td><td>278463.80</td></tr>",
                            "<tr><td>475</td><td>Wingtip Toys (Cale, AR)</td><td>278443.90</td></tr>",
                            "<tr><td>169</td><td>Tailspin Toys (Sinclair, WY)</td><td>278238.30</td></tr>",
                            "<tr><td>872</td><td>Katerina Hadrabova</td><td>277983.65</td></tr>",
                            "<tr><td>162</td><td>Tailspin Toys (Glen Park, NY)</td><td>277845.75</td></tr>",
                            "<tr><td>432</td><td>Wingtip Toys (Vamo, FL)</td><td>277594.10</td></tr>",
                            "<tr><td>863</td><td>Jakub Lukes</td><td>277582.25</td></tr>",
                            "<tr><td>507</td><td>Wingtip Toys (Downingtown, PA)</td><td>277421.75</td></tr>",
                            "<tr><td>821</td><td>Kwanjai Saowaluk</td><td>277323.20</td></tr>",
                            "<tr><td>955</td><td>Raghu Sandhu</td><td>277220.20</td></tr>",
                            "<tr><td>1009</td><td>Bhagavateeprasaad Malladi</td><td>277030.15</td></tr>",
                            "<tr><td>68</td><td>Tailspin Toys (Gardere, LA)</td><td>276960.75</td></tr>",
                            "<tr><td>25</td><td>Tailspin Toys (Avenal, CA)</td><td>276939.90</td></tr>",
                            "<tr><td>532</td><td>Wingtip Toys (Waycross, GA)</td><td>276841.25</td></tr>",
                            "<tr><td>476</td><td>Wingtip Toys (Karthaus, PA)</td><td>276754.60</td></tr>",
                            "<tr><td>566</td><td>Wingtip Toys (Amado, AZ)</td><td>276729.05</td></tr>",
                            "<tr><td>50</td><td>Tailspin Toys (Hambleton, WV)</td><td>276603.25</td></tr>",
                            "<tr><td>427</td><td>Wingtip Toys (Athol Springs, NY)</td><td>276429.00</td></tr>",
                            "<tr><td>968</td><td>Anca Gogean</td><td>276384.70</td></tr>",
                            "<tr><td>805</td><td>Ratan Poddar</td><td>276355.65</td></tr>",
                            "<tr><td>435</td><td>Wingtip Toys (Teutopolis, IL)</td><td>276349.00</td></tr>",
                            "<tr><td>801</td><td>Eric Torres</td><td>276267.50</td></tr>",
                            "<tr><td>862</td><td>Lana Goransson</td><td>276159.05</td></tr>",
                            "<tr><td>144</td><td>Tailspin Toys (Larose, LA)</td><td>275968.10</td></tr>",
                            "<tr><td>559</td><td>Wingtip Toys (Mendoza, TX)</td><td>275879.95</td></tr>",
                            "<tr><td>889</td><td>Sointu Savonheimo</td><td>275372.45</td></tr>",
                            "<tr><td>995</td><td>Kumar Naicker</td><td>275039.15</td></tr>",
                            "<tr><td>584</td><td>Wingtip Toys (Cache, OK)</td><td>274941.00</td></tr>",
                            "<tr><td>827</td><td>Crina Grasu</td><td>274483.15</td></tr>",
                            "<tr><td>128</td><td>Tailspin Toys (East Portal, CO)</td><td>274426.35</td></tr>",
                            "<tr><td>75</td><td>Tailspin Toys (Windsor Locks, CT)</td><td>274199.60</td></tr>",
                            "<tr><td>838</td><td>Pavel Bogdanov</td><td>274184.35</td></tr>",
                            "<tr><td>986</td><td>Neil Farrelly</td><td>274096.25</td></tr>",
                            "<tr><td>416</td><td>Wingtip Toys (Necedah, WI)</td><td>273703.05</td></tr>",
                            "<tr><td>950</td><td>Emily Whittle</td><td>273698.70</td></tr>",
                            "<tr><td>172</td><td>Tailspin Toys (Madrone, NM)</td><td>273493.10</td></tr>",
                            "<tr><td>402</td><td>Wingtip Toys (Black Lick, PA)</td><td>273419.45</td></tr>",
                            "<tr><td>171</td><td>Tailspin Toys (Ortley Beach, NJ)</td><td>272880.80</td></tr>",
                            "<tr><td>936</td><td>Ludmila Smidova</td><td>272793.60</td></tr>",
                            "<tr><td>1003</td><td>Hue Ton</td><td>272767.85</td></tr>",
                            "<tr><td>45</td><td>Tailspin Toys (Severna Park, MD)</td><td>272426.75</td></tr>",
                            "<tr><td>82</td><td>Tailspin Toys (La Cueva, NM)</td><td>272242.05</td></tr>",
                            "<tr><td>842</td><td>Biju Deb</td><td>272219.70</td></tr>",
                            "<tr><td>997</td><td>Nada Ana Slosar</td><td>272120.30</td></tr>",
                            "<tr><td>473</td><td>Wingtip Toys (Floriston, CA)</td><td>272013.00</td></tr>",
                            "<tr><td>905</td><td>Sara Huiting</td><td>271909.95</td></tr>",
                            "<tr><td>145</td><td>Tailspin Toys (Manahawkin, NJ)</td><td>271732.65</td></tr>",
                            "<tr><td>121</td><td>Tailspin Toys (Elrosa, MN)</td><td>271541.45</td></tr>",
                            "<tr><td>200</td><td>Tailspin Toys (Tooele, UT)</td><td>271341.25</td></tr>",
                            "<tr><td>72</td><td>Tailspin Toys (Cortaro, AZ)</td><td>271254.45</td></tr>",
                            "<tr><td>578</td><td>Wingtip Toys (Bell Acres, PA)</td><td>271219.55</td></tr>",
                            "<tr><td>439</td><td>Wingtip Toys (Cylon, WI)</td><td>271213.25</td></tr>",
                            "<tr><td>923</td><td>Tai Bach</td><td>271161.45</td></tr>",
                            "<tr><td>48</td><td>Tailspin Toys (Trentwood, WA)</td><td>271109.80</td></tr>",
                            "<tr><td>124</td><td>Tailspin Toys (Hanoverton, OH)</td><td>270666.80</td></tr>",
                            "<tr><td>860</td><td>Marcela Lucescu</td><td>270530.10</td></tr>",
                            "<tr><td>524</td><td>Wingtip Toys (Cloquet, MN)</td><td>270461.85</td></tr>",
                            "<tr><td>53</td><td>Tailspin Toys (Nanafalia, AL)</td><td>269706.25</td></tr>",
                            "<tr><td>135</td><td>Tailspin Toys (Terre du Lac, MO)</td><td>269384.00</td></tr>",
                            "<tr><td>825</td><td>Jayanta Thakur</td><td>269355.90</td></tr>",
                            "<tr><td>420</td><td>Wingtip Toys (Herlong, CA)</td><td>269009.60</td></tr>",
                            "<tr><td>517</td><td>Wingtip Toys (Licking, MO)</td><td>268922.55</td></tr>",
                            "<tr><td>465</td><td>Wingtip Toys (Oologah, OK)</td><td>268761.30</td></tr>",
                            "<tr><td>119</td><td>Tailspin Toys (Statenville, GA)</td><td>268750.45</td></tr>",
                            "<tr><td>64</td><td>Tailspin Toys (Hodgdon, ME)</td><td>268675.50</td></tr>",
                            "<tr><td>463</td><td>Wingtip Toys (Cowlington, OK)</td><td>268663.50</td></tr>",
                            "<tr><td>803</td><td>Bala Dixit</td><td>268565.25</td></tr>",
                            "<tr><td>902</td><td>Kamila Michnova</td><td>268517.90</td></tr>",
                            "<tr><td>886</td><td>Debbie Molina</td><td>268494.70</td></tr>",
                            "<tr><td>992</td><td>Amarakumaar Gadiyaram</td><td>268328.00</td></tr>",
                            "<tr><td>1002</td><td>Stefan Selezeanu</td><td>268285.55</td></tr>",
                            "<tr><td>129</td><td>Tailspin Toys (Mineral Hills, MI)</td><td>268024.10</td></tr>",
                            "<tr><td>901</td><td>Adrian Andreasson</td><td>268013.45</td></tr>",
                            "<tr><td>887</td><td>Baran Jonsson</td><td>267390.65</td></tr>",
                            "<tr><td>468</td><td>Wingtip Toys (Sunburg, MN)</td><td>267108.05</td></tr>",
                            "<tr><td>69</td><td>Tailspin Toys (Lytle Creek, CA)</td><td>266743.35</td></tr>",
                            "<tr><td>116</td><td>Tailspin Toys (Rafael Capó, PR)</td><td>266658.70</td></tr>",
                            "<tr><td>155</td><td>Tailspin Toys (Arbor Vitae, WI)</td><td>266619.15</td></tr>",
                            "<tr><td>817</td><td>Agrita Kanepa</td><td>266379.15</td></tr>",
                            "<tr><td>131</td><td>Tailspin Toys (Kwethluk, AK)</td><td>266262.40</td></tr>",
                            "<tr><td>469</td><td>Wingtip Toys (Johnetta, KY)</td><td>265796.10</td></tr>",
                            "<tr><td>519</td><td>Wingtip Toys (Boynton, OK)</td><td>265773.20</td></tr>",
                            "<tr><td>879</td><td>Jitka Necesana</td><td>265730.85</td></tr>",
                            "<tr><td>962</td><td>Bhagavati Vinjamuri</td><td>265677.40</td></tr>",
                            "<tr><td>1011</td><td>Rajeev Sandhu</td><td>265650.00</td></tr>",
                            "<tr><td>167</td><td>Tailspin Toys (Rockwall, TX)</td><td>265393.65</td></tr>",
                            "<tr><td>88</td><td>Tailspin Toys (Dracut, MA)</td><td>265375.70</td></tr>",
                            "<tr><td>441</td><td>Wingtip Toys (Keosauqua, IA)</td><td>265308.40</td></tr>",
                            "<tr><td>521</td><td>Wingtip Toys (Robertsdale, AL)</td><td>265300.55</td></tr>",
                            "<tr><td>946</td><td>David safranek</td><td>265195.25</td></tr>",
                            "<tr><td>594</td><td>Wingtip Toys (Marfa, TX)</td><td>265107.65</td></tr>",
                            "<tr><td>139</td><td>Tailspin Toys (Hardeeville, SC)</td><td>265076.25</td></tr>",
                            "<tr><td>858</td><td>Bimla PrabhupÄda</td><td>264768.95</td></tr>",
                            "<tr><td>471</td><td>Wingtip Toys (Ridgemark, CA)</td><td>264477.95</td></tr>",
                            "<tr><td>52</td><td>Tailspin Toys (Idria, CA)</td><td>264406.75</td></tr>",
                            "<tr><td>520</td><td>Wingtip Toys (Frenchburg, KY)</td><td>264316.80</td></tr>",
                            "<tr><td>896</td><td>Leonardo Folliero</td><td>264111.20</td></tr>",
                            "<tr><td>589</td><td>Wingtip Toys (Alcester, SD)</td><td>263725.40</td></tr>",
                            "<tr><td>871</td><td>Darshana Madhunapantula</td><td>263636.75</td></tr>",
                            "<tr><td>85</td><td>Tailspin Toys (Andrix, CO)</td><td>263083.15</td></tr>",
                            "<tr><td>853</td><td>Caterina Pinto</td><td>262801.30</td></tr>",
                            "<tr><td>535</td><td>Wingtip Toys (Triadelphia, WV)</td><td>262634.85</td></tr>",
                            "<tr><td>514</td><td>Wingtip Toys (Gilford, NH)</td><td>262606.40</td></tr>",
                            "<tr><td>58</td><td>Tailspin Toys (Mappsburg, VA)</td><td>262498.95</td></tr>",
                            "<tr><td>161</td><td>Tailspin Toys (Aspen Park, CO)</td><td>262322.00</td></tr>",
                            "<tr><td>459</td><td>Wingtip Toys (Haydenville, OH)</td><td>262286.00</td></tr>",
                            "<tr><td>499</td><td>Wingtip Toys (East Fultonham, OH)</td><td>262070.00</td></tr>",
                            "<tr><td>458</td><td>Wingtip Toys (Coker, AL)</td><td>262022.55</td></tr>",
                            "<tr><td>575</td><td>Wingtip Toys (Trumansburg, NY)</td><td>261619.55</td></tr>",
                            "<tr><td>464</td><td>Wingtip Toys (Glen Ullin, ND)</td><td>261590.90</td></tr>",
                            "<tr><td>512</td><td>Wingtip Toys (Philip, SD)</td><td>261544.15</td></tr>",
                            "<tr><td>18</td><td>Tailspin Toys (Goffstown, NH)</td><td>261427.85</td></tr>",
                            "<tr><td>561</td><td>Wingtip Toys (Marion Junction, AL)</td><td>260944.85</td></tr>",
                            "<tr><td>83</td><td>Tailspin Toys (Absecon, NJ)</td><td>260721.05</td></tr>",
                            "<tr><td>970</td><td>Isidora Urias</td><td>260546.65</td></tr>",
                            "<tr><td>963</td><td>Be Trang</td><td>260400.65</td></tr>",
                            "<tr><td>497</td><td>Wingtip Toys (Verdery, SC)</td><td>260248.40</td></tr>",
                            "<tr><td>802</td><td>Cosmina Vlad</td><td>259917.30</td></tr>",
                            "<tr><td>959</td><td>Dhaatri Chavva</td><td>259902.05</td></tr>",
                            "<tr><td>854</td><td>Daakshaayaani Kommineni</td><td>259878.95</td></tr>",
                            "<tr><td>487</td><td>Wingtip Toys (Elverson, PA)</td><td>259757.40</td></tr>",
                            "<tr><td>440</td><td>Wingtip Toys (Asher, OK)</td><td>259500.50</td></tr>",
                            "<tr><td>79</td><td>Tailspin Toys (Page City, KS)</td><td>259307.35</td></tr>",
                            "<tr><td>93</td><td>Tailspin Toys (Clewiston, FL)</td><td>259270.50</td></tr>",
                            "<tr><td>164</td><td>Tailspin Toys (Rothsville, PA)</td><td>259013.60</td></tr>",
                            "<tr><td>585</td><td>Wingtip Toys (Towaco, NJ)</td><td>259003.85</td></tr>",
                            "<tr><td>436</td><td>Wingtip Toys (Gargatha, VA)</td><td>258731.15</td></tr>",
                            "<tr><td>897</td><td>Allan Mannik</td><td>258212.55</td></tr>",
                            "<tr><td>554</td><td>Wingtip Toys (Hollandsburg, IN)</td><td>257552.70</td></tr>",
                            "<tr><td>971</td><td>Dhanishta Mokkapati</td><td>257335.00</td></tr>",
                            "<tr><td>938</td><td>Anna Gyarmathi</td><td>257293.45</td></tr>",
                            "<tr><td>5</td><td>Tailspin Toys (Gasport, NY)</td><td>257129.40</td></tr>",
                            "<tr><td>596</td><td>Wingtip Toys (Cos Cob, CT)</td><td>256897.20</td></tr>",
                            "<tr><td>6</td><td>Tailspin Toys (Jessie, ND)</td><td>256737.60</td></tr>",
                            "<tr><td>196</td><td>Tailspin Toys (Howells, NE)</td><td>256584.40</td></tr>",
                            "<tr><td>993</td><td>Gasper Havzija</td><td>255947.80</td></tr>",
                            "<tr><td>1010</td><td>Serdar ozCelik</td><td>255831.15</td></tr>",
                            "<tr><td>835</td><td>Dominic Davignon</td><td>255476.65</td></tr>",
                            "<tr><td>822</td><td>Suparna Bhattacharya</td><td>255233.60</td></tr>",
                            "<tr><td>811</td><td>Surendra Sahu</td><td>255202.15</td></tr>",
                            "<tr><td>168</td><td>Tailspin Toys (Seagraves, TX)</td><td>255144.55</td></tr>",
                            "<tr><td>552</td><td>Wingtip Toys (Shay, PA)</td><td>254836.65</td></tr>",
                            "<tr><td>493</td><td>Wingtip Toys (Federalsburg, MD)</td><td>254436.65</td></tr>",
                            "<tr><td>836</td><td>Abel Spirlea</td><td>254272.20</td></tr>",
                            "<tr><td>1016</td><td>Aive Petrov</td><td>254225.80</td></tr>",
                            "<tr><td>543</td><td>Wingtip Toys (Lexington Heights, MI)</td><td>254123.50</td></tr>",
                            "<tr><td>51</td><td>Tailspin Toys (Imlaystown, NJ)</td><td>253988.30</td></tr>",
                            "<tr><td>412</td><td>Wingtip Toys (Bozeman Hot Springs, MT)</td><td>253958.30</td></tr>",
                            "<tr><td>500</td><td>Wingtip Toys (Obion, TN)</td><td>253868.45</td></tr>",
                            "<tr><td>979</td><td>Melani Ravlen</td><td>253732.55</td></tr>",
                            "<tr><td>518</td><td>Wingtip Toys (Raton, NM)</td><td>252961.90</td></tr>",
                            "<tr><td>12</td><td>Tailspin Toys (Biscay, MN)</td><td>252931.60</td></tr>",
                            "<tr><td>965</td><td>Phoung Cu</td><td>252829.35</td></tr>",
                            "<tr><td>443</td><td>Wingtip Toys (Berville, MI)</td><td>252762.70</td></tr>",
                            "<tr><td>570</td><td>Wingtip Toys (Flomaton, AL)</td><td>252327.70</td></tr>",
                            "<tr><td>551</td><td>Wingtip Toys (Huntingburg, IN)</td><td>252002.35</td></tr>",
                            "<tr><td>1008</td><td>Vedrana Kovacevic</td><td>251394.40</td></tr>",
                            "<tr><td>948</td><td>Richard Zahradnicek</td><td>251206.45</td></tr>",
                            "<tr><td>893</td><td>Leyla Asef zade</td><td>251205.45</td></tr>",
                            "<tr><td>526</td><td>Wingtip Toys (Beekmantown, NY)</td><td>251048.55</td></tr>",
                            "<tr><td>974</td><td>Emil Roman</td><td>250738.60</td></tr>",
                            "<tr><td>952</td><td>Chuan Wattanasin</td><td>250647.85</td></tr>",
                            "<tr><td>193</td><td>Tailspin Toys (Knifley, KY)</td><td>250605.85</td></tr>",
                            "<tr><td>920</td><td>Gayatri Gajula</td><td>250533.95</td></tr>",
                            "<tr><td>150</td><td>Tailspin Toys (Corfu, NY)</td><td>250500.30</td></tr>",
                            "<tr><td>113</td><td>Tailspin Toys (Dahlia, NM)</td><td>249913.80</td></tr>",
                            "<tr><td>844</td><td>Durdanah Abbasi</td><td>249823.75</td></tr>",
                            "<tr><td>994</td><td>Libuse Kuchtova</td><td>249628.20</td></tr>",
                            "<tr><td>985</td><td>Roko Ilic</td><td>249572.20</td></tr>",
                            "<tr><td>913</td><td>Violetta KlanCisar</td><td>249390.40</td></tr>",
                            "<tr><td>600</td><td>Wingtip Toys (Caro, MI)</td><td>249373.35</td></tr>",
                            "<tr><td>935</td><td>Daevasree Samavedam</td><td>248994.15</td></tr>",
                            "<tr><td>180</td><td>Tailspin Toys (Caselton, NV)</td><td>248937.90</td></tr>",
                            "<tr><td>445</td><td>Wingtip Toys (Dacono, CO)</td><td>248690.10</td></tr>",
                            "<tr><td>174</td><td>Tailspin Toys (Astor Park, FL)</td><td>248327.25</td></tr>",
                            "<tr><td>544</td><td>Wingtip Toys (Broomtown, AL)</td><td>248285.00</td></tr>",
                            "<tr><td>574</td><td>Wingtip Toys (Molalla, OR)</td><td>248275.20</td></tr>",
                            "<tr><td>868</td><td>Laura Sykorova</td><td>248253.45</td></tr>",
                            "<tr><td>44</td><td>Tailspin Toys (Amanda Park, WA)</td><td>248011.75</td></tr>",
                            "<tr><td>59</td><td>Tailspin Toys (Edgartown, MA)</td><td>247751.15</td></tr>",
                            "<tr><td>898</td><td>Gopalgobinda Sikdar</td><td>246963.60</td></tr>",
                            "<tr><td>878</td><td>Miriam House</td><td>246832.50</td></tr>",
                            "<tr><td>540</td><td>Wingtip Toys (Weld, ME)</td><td>246642.90</td></tr>",
                            "<tr><td>957</td><td>Hee-Young Suh</td><td>246560.00</td></tr>",
                            "<tr><td>108</td><td>Tailspin Toys (Bernie, MO)</td><td>246233.10</td></tr>",
                            "<tr><td>840</td><td>Rodrigo Figueiredo</td><td>245995.90</td></tr>",
                            "<tr><td>46</td><td>Tailspin Toys (Jemison, AL)</td><td>245926.60</td></tr>",
                            "<tr><td>812</td><td>Celica Barajas</td><td>245707.60</td></tr>",
                            "<tr><td>165</td><td>Tailspin Toys (Topstone, CT)</td><td>245280.75</td></tr>",
                            "<tr><td>29</td><td>Tailspin Toys (Eulaton, AL)</td><td>245220.20</td></tr>",
                            "<tr><td>484</td><td>Wingtip Toys (Mauldin, SC)</td><td>244942.75</td></tr>",
                            "<tr><td>160</td><td>Tailspin Toys (Crary, ND)</td><td>244766.80</td></tr>",
                            "<tr><td>966</td><td>Sara Walkky</td><td>244464.75</td></tr>",
                            "<tr><td>188</td><td>Tailspin Toys (Premont, TX)</td><td>244444.65</td></tr>",
                            "<tr><td>201</td><td>Tailspin Toys (Skyway, WA)</td><td>244442.65</td></tr>",
                            "<tr><td>449</td><td>Wingtip Toys (Delray, WV)</td><td>244099.60</td></tr>",
                            "<tr><td>456</td><td>Wingtip Toys (West Hempstead, NY)</td><td>243848.20</td></tr>",
                            "<tr><td>114</td><td>Tailspin Toys (Cherry Grove Beach, SC)</td><td>243201.95</td></tr>",
                            "<tr><td>136</td><td>Tailspin Toys (Mount Montgomery, NV)</td><td>243054.45</td></tr>",
                            "<tr><td>34</td><td>Tailspin Toys (Dallardsville, TX)</td><td>242269.05</td></tr>",
                            "<tr><td>998</td><td>Mahavir Sonkar</td><td>242218.85</td></tr>",
                            "<tr><td>408</td><td>Wingtip Toys (Rockwall, TX)</td><td>241539.45</td></tr>",
                            "<tr><td>158</td><td>Tailspin Toys (Donner, LA)</td><td>241300.95</td></tr>",
                            "<tr><td>163</td><td>Tailspin Toys (Panaca, NV)</td><td>241171.30</td></tr>",
                            "<tr><td>922</td><td>Sumati Chatterjee</td><td>240875.95</td></tr>",
                            "<tr><td>571</td><td>Wingtip Toys (Pawlet, VT)</td><td>240809.10</td></tr>",
                            "<tr><td>409</td><td>Wingtip Toys (Orick, CA)</td><td>240664.40</td></tr>",
                            "<tr><td>73</td><td>Tailspin Toys (Cokato, MN)</td><td>240469.80</td></tr>",
                            "<tr><td>932</td><td>Nicolo Cattaneo</td><td>240414.80</td></tr>",
                            "<tr><td>76</td><td>Tailspin Toys (Yewed, OK)</td><td>240270.20</td></tr>",
                            "<tr><td>112</td><td>Tailspin Toys (Sallyards, KS)</td><td>240177.15</td></tr>",
                            "<tr><td>422</td><td>Wingtip Toys (Naches, WA)</td><td>240031.70</td></tr>",
                            "<tr><td>555</td><td>Wingtip Toys (Liberty Grove, MD)</td><td>239421.30</td></tr>",
                            "<tr><td>181</td><td>Tailspin Toys (Heilwood, PA)</td><td>239126.30</td></tr>",
                            "<tr><td>120</td><td>Tailspin Toys (Bratenahl, OH)</td><td>239072.80</td></tr>",
                            "<tr><td>560</td><td>Wingtip Toys (Palmas del Mar, PR)</td><td>238680.80</td></tr>",
                            "<tr><td>931</td><td>Nada Jovanovic</td><td>238362.05</td></tr>",
                            "<tr><td>819</td><td>Santiago Vera</td><td>238253.20</td></tr>",
                            "<tr><td>903</td><td>Bing Han</td><td>237976.50</td></tr>",
                            "<tr><td>84</td><td>Tailspin Toys (Aceitunas, PR)</td><td>237639.40</td></tr>",
                            "<tr><td>851</td><td>Ebru Erdogan</td><td>237546.60</td></tr>",
                            "<tr><td>21</td><td>Tailspin Toys (Tresckow, PA)</td><td>237369.95</td></tr>",
                            "<tr><td>525</td><td>Wingtip Toys (Claycomo, MO)</td><td>237356.80</td></tr>",
                            "<tr><td>843</td><td>Marija Justina Pasek</td><td>237314.85</td></tr>",
                            "<tr><td>873</td><td>Hana Hlouskova</td><td>237125.65</td></tr>",
                            "<tr><td>987</td><td>Akhil Nadar</td><td>236926.40</td></tr>",
                            "<tr><td>184</td><td>Tailspin Toys (South Euclid, OH)</td><td>236871.15</td></tr>",
                            "<tr><td>159</td><td>Tailspin Toys (Saint Louis Park, MN)</td><td>236715.80</td></tr>",
                            "<tr><td>486</td><td>Wingtip Toys (Lowellville, OH)</td><td>236712.70</td></tr>",
                            "<tr><td>451</td><td>Wingtip Toys (Smoot, WY)</td><td>236386.85</td></tr>",
                            "<tr><td>47</td><td>Tailspin Toys (Lake Hughes, CA)</td><td>236025.70</td></tr>",
                            "<tr><td>77</td><td>Tailspin Toys (Hahira, GA)</td><td>236024.00</td></tr>",
                            "<tr><td>453</td><td>Wingtip Toys (Stanardsville, VA)</td><td>235997.20</td></tr>",
                            "<tr><td>852</td><td>Bhagavaan Atluri</td><td>235987.80</td></tr>",
                            "<tr><td>536</td><td>Wingtip Toys (Ferney, SD)</td><td>235874.85</td></tr>",
                            "<tr><td>56</td><td>Tailspin Toys (Royal City, WA)</td><td>235867.80</td></tr>",
                            "<tr><td>461</td><td>Wingtip Toys (Vair, TX)</td><td>235767.90</td></tr>",
                            "<tr><td>156</td><td>Tailspin Toys (Hollywood Park, TX)</td><td>235737.90</td></tr>",
                            "<tr><td>1018</td><td>Nils Kaulins</td><td>235643.20</td></tr>",
                            "<tr><td>63</td><td>Tailspin Toys (Stallion Springs, CA)</td><td>235544.85</td></tr>",
                            "<tr><td>503</td><td>Wingtip Toys (Valhalla, NC)</td><td>235322.25</td></tr>",
                            "<tr><td>95</td><td>Tailspin Toys (Lavon, TX)</td><td>234831.65</td></tr>",
                            "<tr><td>433</td><td>Wingtip Toys (Balko, OK)</td><td>234411.65</td></tr>",
                            "<tr><td>846</td><td>Malorie Bousquet</td><td>234283.25</td></tr>",
                            "<tr><td>919</td><td>Kertu Sokk</td><td>233878.10</td></tr>",
                            "<tr><td>926</td><td>Richard Friar</td><td>233644.15</td></tr>",
                            "<tr><td>1004</td><td>Drishti Bose</td><td>233599.65</td></tr>",
                            "<tr><td>470</td><td>Wingtip Toys (Universal City, TX)</td><td>233430.20</td></tr>",
                            "<tr><td>148</td><td>Tailspin Toys (Baraboo, WI)</td><td>233162.90</td></tr>",
                            "<tr><td>881</td><td>Magdalena Michnova</td><td>232871.75</td></tr>",
                            "<tr><td>1024</td><td>Arka Chatterjee</td><td>232820.40</td></tr>",
                            "<tr><td>438</td><td>Wingtip Toys (Lucasville, OH)</td><td>232562.45</td></tr>",
                            "<tr><td>482</td><td>Wingtip Toys (Caton, NY)</td><td>232555.25</td></tr>",
                            "<tr><td>999</td><td>Kristi Part</td><td>232519.95</td></tr>",
                            "<tr><td>41</td><td>Tailspin Toys (Olivette, MO)</td><td>231534.35</td></tr>",
                            "<tr><td>154</td><td>Tailspin Toys (Eden Valley, MN)</td><td>231484.40</td></tr>",
                            "<tr><td>576</td><td>Wingtip Toys (Goodings Grove, IL)</td><td>231466.50</td></tr>",
                            "<tr><td>54</td><td>Tailspin Toys (Railroad, PA)</td><td>231444.90</td></tr>",
                            "<tr><td>883</td><td>Radha Barua</td><td>230998.55</td></tr>",
                            "<tr><td>8</td><td>Tailspin Toys (Bow Mar, CO)</td><td>230582.20</td></tr>",
                            "<tr><td>147</td><td>Tailspin Toys (Fishtail, MT)</td><td>230475.80</td></tr>",
                            "<tr><td>809</td><td>Madhu Dwivedi</td><td>229780.45</td></tr>",
                            "<tr><td>189</td><td>Tailspin Toys (Wilkes-Barre, PA)</td><td>229246.60</td></tr>",
                            "<tr><td>199</td><td>Tailspin Toys (Antonito, CO)</td><td>229154.75</td></tr>",
                            "<tr><td>141</td><td>Tailspin Toys (Arrow Rock, MO)</td><td>229153.60</td></tr>",
                            "<tr><td>2</td><td>Tailspin Toys (Sylvanite, MT)</td><td>229142.90</td></tr>",
                            "<tr><td>895</td><td>Geza Roman</td><td>229132.80</td></tr>",
                            "<tr><td>417</td><td>Wingtip Toys (Chetek, WI)</td><td>228982.60</td></tr>",
                            "<tr><td>513</td><td>Wingtip Toys (Straughn, IN)</td><td>228763.45</td></tr>",
                            "<tr><td>530</td><td>Wingtip Toys (East Mountain, TX)</td><td>228570.55</td></tr>",
                            "<tr><td>845</td><td>Emilie Hrdlickova</td><td>228507.25</td></tr>",
                            "<tr><td>462</td><td>Wingtip Toys (Crossroads, NM)</td><td>228006.95</td></tr>",
                            "<tr><td>837</td><td>Anil Sarkar</td><td>227744.40</td></tr>",
                            "<tr><td>553</td><td>Wingtip Toys (Helotes, TX)</td><td>226371.30</td></tr>",
                            "<tr><td>179</td><td>Tailspin Toys (Hiteman, IA)</td><td>226338.70</td></tr>",
                            "<tr><td>152</td><td>Tailspin Toys (Sun River, MT)</td><td>225900.20</td></tr>",
                            "<tr><td>914</td><td>Chandana Shasthri</td><td>225728.15</td></tr>",
                            "<tr><td>818</td><td>Liia Orav</td><td>225702.00</td></tr>",
                            "<tr><td>599</td><td>Wingtip Toys (Dickworsham, TX)</td><td>225505.25</td></tr>",
                            "<tr><td>100</td><td>Tailspin Toys (Tunnelhill, PA)</td><td>225476.75</td></tr>",
                            "<tr><td>49</td><td>Tailspin Toys (Muir, MI)</td><td>224952.55</td></tr>",
                            "<tr><td>590</td><td>Wingtip Toys (McAdenville, NC)</td><td>224921.85</td></tr>",
                            "<tr><td>20</td><td>Tailspin Toys (College Place, WA)</td><td>224535.60</td></tr>",
                            "<tr><td>62</td><td>Tailspin Toys (Great Neck Estates, NY)</td><td>224520.70</td></tr>",
                            "<tr><td>39</td><td>Tailspin Toys (Diablock, KY)</td><td>223984.10</td></tr>",
                            "<tr><td>194</td><td>Tailspin Toys (Naples Park, FL)</td><td>223973.60</td></tr>",
                            "<tr><td>490</td><td>Wingtip Toys (Beals, ME)</td><td>223930.00</td></tr>",
                            "<tr><td>904</td><td>Olafs Rozitis</td><td>223716.80</td></tr>",
                            "<tr><td>60</td><td>Tailspin Toys (East Dailey, WV)</td><td>223541.75</td></tr>",
                            "<tr><td>19</td><td>Tailspin Toys (Lemeta, AK)</td><td>223326.00</td></tr>",
                            "<tr><td>404</td><td>Wingtip Toys (Penns Creek, PA)</td><td>222959.40</td></tr>",
                            "<tr><td>454</td><td>Wingtip Toys (Corcovado, PR)</td><td>222637.20</td></tr>",
                            "<tr><td>511</td><td>Wingtip Toys (North Manitou, MI)</td><td>222407.70</td></tr>",
                            "<tr><td>104</td><td>Tailspin Toys (Wallagrass, ME)</td><td>221635.65</td></tr>",
                            "<tr><td>57</td><td>Tailspin Toys (Lakemore, OH)</td><td>221619.80</td></tr>",
                            "<tr><td>940</td><td>Lorin Astrom</td><td>221607.40</td></tr>",
                            "<tr><td>864</td><td>Mikhail Degtyarev</td><td>221558.30</td></tr>",
                            "<tr><td>522</td><td>Wingtip Toys (Dickerson, MD)</td><td>221539.75</td></tr>",
                            "<tr><td>808</td><td>Jackson Kolios</td><td>221482.90</td></tr>",
                            "<tr><td>105</td><td>Tailspin Toys (Tomnolen, MS)</td><td>221267.60</td></tr>",
                            "<tr><td>839</td><td>Juan Morse</td><td>220690.65</td></tr>",
                            "<tr><td>927</td><td>Matyas Sedlar</td><td>220227.05</td></tr>",
                            "<tr><td>446</td><td>Wingtip Toys (Saint Landry, LA)</td><td>220213.35</td></tr>",
                            "<tr><td>1005</td><td>Bhadram Kamasamudram</td><td>220033.70</td></tr>",
                            "<tr><td>477</td><td>Wingtip Toys (Glancy, MS)</td><td>219391.80</td></tr>",
                            "<tr><td>13</td><td>Tailspin Toys (Stonefort, IL)</td><td>218424.25</td></tr>",
                            "<tr><td>23</td><td>Tailspin Toys (Ikatan, AK)</td><td>218302.00</td></tr>",
                            "<tr><td>419</td><td>Wingtip Toys (Compass Lake, FL)</td><td>217217.75</td></tr>",
                            "<tr><td>917</td><td>Pari Hosseini</td><td>217076.50</td></tr>",
                            "<tr><td>1014</td><td>Narendra Tickoo</td><td>216863.65</td></tr>",
                            "<tr><td>823</td><td>Francisca Laureano</td><td>216495.00</td></tr>",
                            "<tr><td>22</td><td>Tailspin Toys (Ward Ridge, FL)</td><td>215637.50</td></tr>",
                            "<tr><td>921</td><td>Victoria Lacusta</td><td>215557.30</td></tr>",
                            "<tr><td>581</td><td>Wingtip Toys (Munich, ND)</td><td>215245.90</td></tr>",
                            "<tr><td>847</td><td>Kristiina Ivanov</td><td>215241.10</td></tr>",
                            "<tr><td>515</td><td>Wingtip Toys (Del Valle, TX)</td><td>214600.15</td></tr>",
                            "<tr><td>411</td><td>Wingtip Toys (Edmund, WI)</td><td>214568.75</td></tr>",
                            "<tr><td>556</td><td>Wingtip Toys (Morita, TX)</td><td>213406.40</td></tr>",
                            "<tr><td>563</td><td>Wingtip Toys (Lostine, OR)</td><td>213146.70</td></tr>",
                            "<tr><td>423</td><td>Wingtip Toys (Baldwin City, KS)</td><td>212613.55</td></tr>",
                            "<tr><td>61</td><td>Tailspin Toys (Fairfield Glade, TN)</td><td>211994.90</td></tr>",
                            "<tr><td>36</td><td>Tailspin Toys (Ekron, KY)</td><td>211211.35</td></tr>",
                            "<tr><td>866</td><td>Jay Bhuiyan</td><td>210812.95</td></tr>",
                            "<tr><td>567</td><td>Wingtip Toys (Jeromesville, OH)</td><td>208914.20</td></tr>",
                            "<tr><td>951</td><td>Eliza Persson</td><td>207641.10</td></tr>",
                            "<tr><td>859</td><td>Shah Alizadeh</td><td>207615.15</td></tr>",
                            "<tr><td>175</td><td>Tailspin Toys (San Acacia, NM)</td><td>207512.50</td></tr>",
                            "<tr><td>1017</td><td>David Novacek </td><td>206994.75</td></tr>",
                            "<tr><td>929</td><td>Vladimir Henzl</td><td>206859.15</td></tr>",
                            "<tr><td>24</td><td>Tailspin Toys (Dundarrach, NC)</td><td>206388.85</td></tr>",
                            "<tr><td>969</td><td>Staffan Persson</td><td>205319.40</td></tr>",
                            "<tr><td>502</td><td>Wingtip Toys (Miesville, MN)</td><td>205312.55</td></tr>",
                            "<tr><td>547</td><td>Wingtip Toys (Chaseley, ND)</td><td>204815.50</td></tr>",
                            "<tr><td>925</td><td>Can ozcan</td><td>204612.80</td></tr>",
                            "<tr><td>91</td><td>Tailspin Toys (Alstead, NH)</td><td>204303.60</td></tr>",
                            "<tr><td>126</td><td>Tailspin Toys (Francis Mills, NJ)</td><td>203960.40</td></tr>",
                            "<tr><td>450</td><td>Wingtip Toys (Mount Summit, IN)</td><td>203346.30</td></tr>",
                            "<tr><td>1012</td><td>Urve Kasesalu</td><td>203067.60</td></tr>",
                            "<tr><td>990</td><td>Andris Saulitis</td><td>201982.85</td></tr>",
                            "<tr><td>1020</td><td>Hai Banh</td><td>201418.45</td></tr>",
                            "<tr><td>557</td><td>Wingtip Toys (New Laguna, NM)</td><td>201364.45</td></tr>",
                            "<tr><td>568</td><td>Wingtip Toys (Ovilla, TX)</td><td>199441.80</td></tr>",
                            "<tr><td>424</td><td>Wingtip Toys (Heartwell, NE)</td><td>198555.45</td></tr>",
                            "<tr><td>457</td><td>Wingtip Toys (Portales, NM)</td><td>197314.45</td></tr>",
                            "<tr><td>1025</td><td>Tuulikki Linna</td><td>196163.80</td></tr>",
                            "<tr><td>504</td><td>Wingtip Toys (Cape Neddick, ME)</td><td>195208.05</td></tr>",
                            "<tr><td>865</td><td>Bijoya Thakur</td><td>195044.65</td></tr>",
                            "<tr><td>833</td><td>Devraj Rao</td><td>194911.90</td></tr>",
                            "<tr><td>956</td><td>Nhung Thach</td><td>194043.80</td></tr>",
                            "<tr><td>937</td><td>Manca Hrastovsek</td><td>193333.00</td></tr>",
                            "<tr><td>491</td><td>Wingtip Toys (Morton Grove, IL)</td><td>190017.30</td></tr>",
                            "<tr><td>1029</td><td>Veronika Necesana</td><td>189479.95</td></tr>",
                            "<tr><td>66</td><td>Tailspin Toys (Madaket, MA)</td><td>188680.45</td></tr>",
                            "<tr><td>539</td><td>Wingtip Toys (Nuangola, PA)</td><td>185707.00</td></tr>",
                            "<tr><td>426</td><td>Wingtip Toys (Willow Valley, AZ)</td><td>183321.40</td></tr>",
                            "<tr><td>197</td><td>Tailspin Toys (Magalia, CA)</td><td>183277.70</td></tr>",
                            "<tr><td>814</td><td>Johanna Hoornstra</td><td>182335.85</td></tr>",
                            "<tr><td>1023</td><td>Farzana Habibi</td><td>181007.95</td></tr>",
                            "<tr><td>111</td><td>Tailspin Toys (Oriole Beach, FL)</td><td>181002.15</td></tr>",
                            "<tr><td>989</td><td>Milinka Zujovic</td><td>180203.30</td></tr>",
                            "<tr><td>1037</td><td>David Jaramillo</td><td>179704.90</td></tr>",
                            "<tr><td>1019</td><td>Dhanishta Pullela</td><td>177206.70</td></tr>",
                            "<tr><td>1013</td><td>Annette  Hetu</td><td>175221.40</td></tr>",
                            "<tr><td>1015</td><td>Isa Hulsegge</td><td>173963.20</td></tr>",
                            "<tr><td>1033</td><td>Cuneyt Arslan</td><td>173816.50</td></tr>",
                            "<tr><td>573</td><td>Wingtip Toys (Marin City, CA)</td><td>169931.60</td></tr>",
                            "<tr><td>1022</td><td>Nadir Seddigh</td><td>169357.35</td></tr>",
                            "<tr><td>1032</td><td>Som Mukherjee</td><td>166189.70</td></tr>",
                            "<tr><td>1034</td><td>Aishwarya Dantuluri</td><td>165909.10</td></tr>",
                            "<tr><td>1027</td><td>Serdar ozden</td><td>162660.00</td></tr>",
                            "<tr><td>1036</td><td>Erik Malk</td><td>160249.00</td></tr>",
                            "<tr><td>577</td><td>Wingtip Toys (Cherryplain, NY)</td><td>154555.45</td></tr>",
                            "<tr><td>1021</td><td>Fabrice Cloutier</td><td>153963.15</td></tr>",
                            "<tr><td>869</td><td>Abel Tatarescu</td><td>153664.05</td></tr>",
                            "<tr><td>1026</td><td>Daniella Cavalcante</td><td>146813.35</td></tr>",
                            "<tr><td>1043</td><td>Raj Verma</td><td>145724.40</td></tr>",
                            "<tr><td>1045</td><td>Matteo Cattaneo</td><td>144951.40</td></tr>",
                            "<tr><td>1031</td><td>Dipti Shah</td><td>140446.35</td></tr>",
                            "<tr><td>1030</td><td>Chompoo Atitarn</td><td>138137.40</td></tr>",
                            "<tr><td>1035</td><td>Manjunatha Karnik</td><td>136118.00</td></tr>",
                            "<tr><td>1028</td><td>Emma Van Zant</td><td>134261.00</td></tr>",
                            "<tr><td>1040</td><td>Damodar Shenoy</td><td>131871.90</td></tr>",
                            "<tr><td>1042</td><td>Nguyen Banh</td><td>111939.50</td></tr>",
                            "<tr><td>1041</td><td>Tomo Vidovic</td><td>108959.40</td></tr>",
                            "<tr><td>1038</td><td>Damodara Trivedi</td><td>106879.45</td></tr>",
                            "<tr><td>1046</td><td>Christian Couet</td><td>97806.65</td></tr>",
                            "<tr><td>1039</td><td>Bhaamini Palagummi</td><td>93465.40</td></tr>",
                            "<tr><td>1044</td><td>Hanita Nookala</td><td>92791.65</td></tr>",
                            "<tr><td>1052</td><td>Ian Olofsson</td><td>66913.85</td></tr>",
                            "<tr><td>1048</td><td>Abhra Ganguly</td><td>58243.35</td></tr>",
                            "<tr><td>1055</td><td>Adriana Pena</td><td>55629.05</td></tr>",
                            "<tr><td>1058</td><td>Jaroslav Fisar</td><td>54552.40</td></tr>",
                            "<tr><td>1054</td><td>Emma Salpa</td><td>51439.35</td></tr>",
                            "<tr><td>1047</td><td>Ivana Hadrabova</td><td>49336.95</td></tr>",
                            "<tr><td>1049</td><td>Amet Shergill</td><td>48685.80</td></tr>",
                            "<tr><td>1057</td><td>Ganesh Majumdar</td><td>46772.25</td></tr>",
                            "<tr><td>1056</td><td>Kalyani Benjaree</td><td>44808.45</td></tr>",
                            "<tr><td>1050</td><td>Amrita Ganguly</td><td>42138.15</td></tr>",
                            "<tr><td>1053</td><td>Luis Saucedo</td><td>40036.80</td></tr>",
                            "<tr><td>1051</td><td>Sylvie Laramee</td><td>38734.50</td></tr>",
                            "<tr><td>1061</td><td>Agrita Abele</td><td>22829.65</td></tr>",
                            "<tr><td>1059</td><td>Jibek Juniskyzy</td><td>13208.10</td></tr>",
                            "<tr><td>1060</td><td>Anand Mudaliyar</td><td>7240.20</td></tr>",
                            "</table>"
                        ]
                    }
                }
            ],
            "execution_count": 3
        }
    ]
}