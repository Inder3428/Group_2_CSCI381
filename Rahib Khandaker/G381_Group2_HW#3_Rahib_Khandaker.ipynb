{
    "metadata": {
        "kernelspec": {
            "name": "SQL",
            "display_name": "SQL",
            "language": "sql"
        },
        "language_info": {
            "name": "sql",
            "version": ""
        }
    },
    "nbformat_minor": 2,
    "nbformat": 4,
    "cells": [
        {
            "cell_type": "markdown",
            "source": [
                "# Rahib Khandaker PHW3\n"
                "# Chapter 4 Exercise 2\n",
                "- ## Write a query that returns all orders placed by the customer(s) who placed the highest number of orders\n",
                "- ## Table involved: Sales.Order\n",
                "\n",
                "### Desired Output:\n",
                "| custid | orderid | orderdate  | empid |\n",
                "|--------|---------|------------|-------|\n",
                "| 71     | 10324   | 2014-10-08 | 9     |\n",
                "| 71     | 10393   | 2014-12-25 | 1     |\n",
                "| 71     | 10398   | 2014-12-30 | 2     |\n",
                "| 71     | 10440   | 2015-02-10 | 4     |\n",
                "| 71     | 10452   | 2015-02-20 | 8     |\n",
                "| 71     | 10510   | 2015-04-18 | 6     |\n",
                "| 71     | 10555   | 2015-06-02 | 6     |\n",
                "| 71     | 10603   | 2015-07-18 | 8     |\n",
                "| 71     | 10607   | 2015-07-22 | 5     |\n",
                "| 71     | 10612   | 2015-07-28 | 1     |\n",
                "| 71     | 10627   | 2015-08-11 | 8     |\n",
                "| 71     | 10657   | 2015-09-04 | 2     |\n",
                "| 71     | 10678   | 2015-09-23 | 7     |\n",
                "| 71     | 10700   | 2015-10-10 | 3     |\n",
                "| 71     | 10711   | 2015-10-21 | 5     |\n",
                "| 71     | 10713   | 2015-10-22 | 1     |\n",
                "| 71     | 10714   | 2015-10-22 | 5     |\n",
                "| 71     | 10722   | 2015-10-29 | 8     |\n",
                "| 71     | 10748   | 2015-11-20 | 3     |\n",
                "| 71     | 10757   | 2015-11-27 | 6     |\n",
                "| 71     | 10815   | 2016-01-05 | 2     |\n",
                "| 71     | 10847   | 2016-01-22 | 4     |\n",
                "| 71     | 10882   | 2016-02-11 | 4     |\n",
                "| 71     | 10894   | 2016-02-18 | 1     |\n",
                "| 71     | 10941   | 2016-03-11 | 7     |\n",
                "| 71     | 10983   | 2016-03-27 | 2     |\n",
                "| 71     | 10984   | 2016-03-30 | 1     |\n",
                "| 71     | 11002   | 2016-04-06 | 4     |\n",
                "| 71     | 11030   | 2016-04-17 | 7     |\n",
                "| 71     | 11031   | 2016-04-17 | 6     |\n",
                "| 71     | 11064   | 2016-05-01 | 1     |\n",
                "\n",
                "(31 row(s) affected)"
            ],
            "metadata": {
                "azdata_cell_guid": "9028ae0f-73e9-4072-ba0f-d21d02e80536"
            },
            "attachments": {}
        },
        {
            "cell_type": "code",
            "source": [
                "USE Northwinds2022TSQLV7\n",
                "\n",
                "select CustomerId, OrderId, OrderDate, EmployeeId\n",
                "from Sales.[order]\n",
                "where customerid in \n",
                "(SELECT TOP (1) WITH TIES           -- Subquery that retrieves the customer with the most orders\n",
                "    O.CustomerId\n",
                "FROM Sales.[Order] AS O\n",
                "GROUP BY O.CustomerId\n",
                "ORDER BY COUNT(*) DESC)"
            ],
            "metadata": {
                "azdata_cell_guid": "2a187fea-4463-4a8b-afbb-575bd643d926",
                "language": "sql"
            },
            "outputs": [],
            "execution_count": null
        },
        {
            "cell_type": "markdown",
            "source": [
                "# Chapter 4 Exercise 9\n",
                "## - Explain the difference between IN and EXISTS.\n",
                "\n",
                "### Explanation: \n",
                "The IN operator is used to find multiple values from a list or set matching one-to-many relationships, such as in a book made by multiple authors. The EXISTS operator, on the other hand, detects the presence or absence of a row, regardless of whether it returns a null value or not ie it will consider both null and non-null values of each row. EXISTS requires a subquery to function and can be used within correlated subqueries while the IN operator does not require subqueries but cannot be used within correlated subqueries. The EXISTS operator is generally more efficient as it only detects the existence of a row and stops evaluating once it finds at least one match returning faster results, unlike the IN operator which continues evaluating and comparing all values in the list."
            ],
            "metadata": {
                "language": "sql",
                "azdata_cell_guid": "ee4f6dc4-f890-44ab-9557-c923ccab5466"
            },
            "attachments": {}
        },
        {
            "cell_type": "markdown",
            "source": [
                "# Chapter 9 Exercise 4\n",
                "- ## Write a solution using a recursive CTE that returns the management chain leading to Patricia Doyle (employee ID 9):\n",
                "- ## Table involved: HumanResources.Employee\n",
                "\n",
                "### Desired Output:\n",
                "empid| mgrid |firstname |lastname\n",
                "-----------| -----------| ---------- |--------------------\n",
                "9| 5 |Patricia| Doyle\n",
                "5 |2 |Sven |Mortensen\n",
                "2 |1 |Don |Funk\n",
                "1 |NULL| Sara| Davis\n",
                "\n",
                "(4 row(s) affected)"
            ],
            "metadata": {
                "language": "sql",
                "azdata_cell_guid": "3fafebdf-7c67-4dfd-b3b1-131597da4b0f"
            },
            "attachments": {}
        },
        {
            "cell_type": "code",
            "source": [
                "USE Northwinds2022TSQLV7;\n",
                "\n",
                "WITH\n",
                "    EmpCTE\n",
                "    AS\n",
                "    (\n",
                "                    SELECT EmployeeId, EmployeeManagerId, EmployeeFirstName, EmployeeLastName\n",
                "            FROM HumanResources.Employee\n",
                "            WHERE EmployeeId = 9\n",
                "        UNION ALL\n",
                "            SELECT E.EmployeeId, E.EmployeeManagerId, E.EmployeeFirstName, E.EmployeeLastName\n",
                "            FROM EmpCTE AS C\n",
                "                INNER JOIN HumanResources.Employee AS E\n",
                "                ON C.EmployeeManagerId = E.EmployeeId\n",
                "    )\n",
                "\n",
                "SELECT EmployeeId, EmployeeManagerId, EmployeeFirstName, EmployeeLastName\n",
                "FROM EmpCTE;"
            ],
            "metadata": {
                "language": "sql",
                "azdata_cell_guid": "b9764e0b-1e9e-4053-83f3-6fc910e9f6f6"
            },
            "outputs": [],
            "execution_count": null
        },
        {
            "cell_type": "markdown",
            "source": [
                "# Proposition 1\n",
                "- ##  Find all orders where the total order value is greater than the average order value\n",
                "## Tables Involved: Sales.Orders, Sales.OrderLines"
            ],
            "metadata": {
                "language": "sql",
                "azdata_cell_guid": "de32e6d7-4322-4977-857d-54a18dcdf06d"
            },
            "attachments": {}
        },
        {
            "cell_type": "code",
            "source": [
                "USE WideWorldImporters\n",
                "\n",
                "SELECT O.OrderID, CustomerID, OrderDate, Quantity* UnitPrice as TotalValue, (SELECT round(AVG(Quantity*UnitPrice), 2)\n",
                "    FROM Sales.OrderLines) as AverageValue\n",
                "FROM Sales.Orders as O\n",
                "    JOIN Sales.OrderLines as OL on Ol.OrderID = O.OrderID\n",
                "WHERE  Quantity* UnitPrice > (\n",
                "    SELECT AVG(Quantity*UnitPrice)\n",
                "FROM Sales.OrderLines\n",
                ");\n",
                ""
            ],
            "metadata": {
                "language": "sql",
                "azdata_cell_guid": "8e66d022-a36a-4230-ba36-47210a243c76"
            },
            "outputs": [],
            "execution_count": null
        },
        {
            "cell_type": "markdown",
            "source": [
                "# Proposition 2\n",
                "- ##  Find stock items that are below average price but have been ordered more than twice\n",
                "## Tables Involved: Warehouse.StockItems, Sales.OrderLines"
            ],
            "metadata": {
                "azdata_cell_guid": "fc418a72-c84a-45e0-9139-f9665543605e"
            },
            "attachments": {}
        },
        {
            "cell_type": "code",
            "source": [
                "USE WideWorldImporters\n",
                "\n",
                "SELECT StockItemID, StockItemName, UnitPrice\n",
                "FROM Warehouse.StockItems\n",
                "WHERE UnitPrice < (\n",
                "    SELECT AVG(UnitPrice)\n",
                "    FROM Warehouse.StockItems\n",
                ")\n",
                "    AND StockItemID IN (\n",
                "    SELECT StockItemID\n",
                "    FROM Sales.OrderLines\n",
                "    GROUP BY StockItemID\n",
                "    HAVING COUNT(OrderID) > 1000\n",
                ")\n",
                "group by StockItemID, StockItemName, UnitPrice"
            ],
            "metadata": {
                "language": "sql",
                "azdata_cell_guid": "1eb15ac1-7542-4a90-9378-2bed2ddb8c1c"
            },
            "outputs": [],
            "execution_count": null
        },
        {
            "cell_type": "markdown",
            "source": [
                "# Proposition 3\n",
                "- ##  Find suppliers that provide products with a price higher than the average price across all suppliers\n",
                "## Tables Involved: Purchasing.Suppliers, Warehouse.StockItems"
            ],
            "metadata": {
                "language": "sql",
                "azdata_cell_guid": "8d4ed1e4-c0f9-43ca-8872-b4d099237900"
            },
            "attachments": {}
        },
        {
            "cell_type": "code",
            "source": [
                "USE WideWorldImporters\n",
                "\n",
                "SELECT SupplierID, SupplierName\n",
                "FROM Purchasing.Suppliers\n",
                "WHERE SupplierID IN (\n",
                "    SELECT SupplierID\n",
                "    FROM Warehouse.StockItems\n",
                "    WHERE UnitPrice > (\n",
                "        SELECT AVG(UnitPrice)\n",
                "        FROM Warehouse.StockItems\n",
                "    )\n",
                ");"
            ],
            "metadata": {
                "language": "sql",
                "azdata_cell_guid": "91fbc4b2-d0c6-426e-a51c-51efd0206b86"
            },
            "outputs": [],
            "execution_count": null
        },
        {
            "cell_type": "markdown",
            "source": [
                "# Proposition 4\n",
                "- ##  Find orders that contain the least expensive product\n",
                "## Tables Involved: Sales.Orders, Warehouse.StockItems\n",
                ""
            ],
            "metadata": {
                "language": "sql",
                "azdata_cell_guid": "85e8a1c0-ffa8-49ea-8af7-cb2da83ae227"
            },
            "attachments": {}
        },
        {
            "cell_type": "code",
            "source": [
                "USE WideWorldImporters\n",
                "\n",
                "SELECT OrderID, OrderDate, CustomerID\n",
                "FROM Sales.Orders\n",
                "WHERE OrderID IN (\n",
                "    SELECT DISTINCT OrderID\n",
                "FROM Sales.OrderLines\n",
                "WHERE StockItemID = (\n",
                "        SELECT StockItemID\n",
                "FROM Warehouse.StockItems\n",
                "WHERE UnitPrice = (\n",
                "            SELECT MIN(UnitPrice)\n",
                "FROM Warehouse.StockItems\n",
                "        )\n",
                "    )\n",
                ");"
            ],
            "metadata": {
                "language": "sql",
                "azdata_cell_guid": "dcdaacfa-53bd-4a64-ac9b-051e534e1661"
            },
            "outputs": [],
            "execution_count": null
        },
        {
            "cell_type": "markdown",
            "source": [
                "# Proposition 5\n",
                "- ## Find the suppliers with the most stock items that are ordered more than 1000 times\n",
                "## Tables Involved: Purchasing.Suppliers, Sales.OrdersLines, Warehouse.StockItems\n",
                ""
            ],
            "metadata": {
                "azdata_cell_guid": "001f91dd-71ee-435f-8844-5fd4f0f9cb16"
            },
            "attachments": {}
        },
        {
            "cell_type": "code",
            "source": [
                "USE WideWorldImporters\n",
                "\n",
                "SELECT SupplierID, SupplierName\n",
                "FROM Purchasing.Suppliers\n",
                "WHERE SupplierID IN (\n",
                "    SELECT SupplierID\n",
                "FROM Warehouse.StockItems\n",
                "WHERE StockItemID IN (\n",
                "        SELECT StockItemID\n",
                "FROM Sales.OrderLines\n",
                "GROUP BY StockItemID\n",
                "HAVING COUNT(OrderID) > 1000\n",
                "    )\n",
                ");\n",
                ""
            ],
            "metadata": {
                "azdata_cell_guid": "0efef681-214e-4649-b217-a03fed7dcab3",
                "language": "sql"
            },
            "outputs": [],
            "execution_count": null
        },
        {
            "cell_type": "markdown",
            "source": [
                "# Proposition 6\n",
                "- ## Top 5 Customers by Sales in 2015\n",
                "## Tables Involved: Sales.Invoices, Sales.OrdersLines, Sales.Customers\n",
                ""
            ],
            "metadata": {
                "language": "sql",
                "azdata_cell_guid": "cdad5e00-b570-4bcf-94fb-8b467eabc226"
            },
            "attachments": {}
        },
        {
            "cell_type": "code",
            "source": [
                "USE WideWorldImporters;\n",
                "\n",
                "WITH\n",
                "    CustomerSalesCTE\n",
                "    AS\n",
                "    (\n",
                "        SELECT\n",
                "            c.CustomerID,\n",
                "            c.CustomerName,\n",
                "            SUM(Quantity*UnitPrice) AS TotalSales\n",
                "        FROM Sales.Invoices i\n",
                "            INNER JOIN Sales.Customers c ON i.CustomerID = c.CustomerID\n",
                "            join Sales.OrderLines ol on i.OrderID = ol.OrderID\n",
                "        WHERE YEAR(i.InvoiceDate) = 2015\n",
                "        GROUP BY c.CustomerID, c.CustomerName\n",
                "    )\n",
                "SELECT top 5\n",
                "    CustomerID,\n",
                "    CustomerName,\n",
                "    TotalSales\n",
                "FROM CustomerSalesCTE\n",
                "ORDER BY TotalSales DESC\n",
                ""
            ],
            "metadata": {
                "language": "sql",
                "azdata_cell_guid": "cb9509c9-2f57-4593-99c8-b81cac046996"
            },
            "outputs": [],
            "execution_count": null
        },
        {
            "cell_type": "markdown",
            "source": [
                "# Proposition 7\n",
                "- ## Find Products with the Highest Profit Margin\n",
                "## Tables Involved: Warehouse.StockItems\n",
                ""
            ],
            "metadata": {
                "language": "sql",
                "azdata_cell_guid": "1c01831a-3778-4d12-b8cc-1e9ca3b780d3"
            },
            "attachments": {}
        },
        {
            "cell_type": "code",
            "source": [
                "USE WideWorldImporters;\n",
                "\n",
                "WITH\n",
                "    ProductMarginCTE\n",
                "    AS\n",
                "    (\n",
                "        SELECT\n",
                "            w.StockItemID,\n",
                "            w.StockItemName, RecommendedRetailPrice, UnitPrice, TaxRate,\n",
                "            (w.RecommendedRetailPrice - w.UnitPrice * (1+(w.TaxRate/100))) AS ProfitMargin\n",
                "        FROM Warehouse.StockItems w\n",
                "    )\n",
                "SELECT\n",
                "    StockItemID,\n",
                "    StockItemName,\n",
                "    ProfitMargin\n",
                "FROM ProductMarginCTE\n",
                "ORDER BY ProfitMargin DESC\n",
                "\n",
                ""
            ],
            "metadata": {
                "language": "sql",
                "azdata_cell_guid": "79d5cc52-fc51-4627-b3b4-8290ada4a70a"
            },
            "outputs": [],
            "execution_count": null
        },
        {
            "cell_type": "markdown",
            "source": [
                "# Proposition 8\n",
                "- ## Identify Suppliers with the Most Products\n",
                "## Tables Involved: Warehouse.StockItems, Purchasing.Suppliers\n",
                ""
            ],
            "metadata": {
                "language": "sql",
                "azdata_cell_guid": "058904bb-8673-426a-afae-d5f325c43226"
            },
            "attachments": {}
        },
        {
            "cell_type": "code",
            "source": [
                "USE WideWorldImporters;\n",
                "\n",
                "WITH SupplierProductCount AS (\n",
                "    SELECT \n",
                "        s.SupplierID,\n",
                "        s.SupplierName,\n",
                "        COUNT(si.StockItemID) AS ProductCount\n",
                "    FROM Warehouse.StockItems si\n",
                "    INNER JOIN Purchasing.Suppliers s ON si.SupplierID = s.SupplierID\n",
                "    GROUP BY s.SupplierID, s.SupplierName\n",
                ")\n",
                "SELECT \n",
                "    SupplierID,\n",
                "    SupplierName,\n",
                "    ProductCount\n",
                "FROM SupplierProductCount\n",
                "ORDER BY ProductCount DESC;\n",
                ""
            ],
            "metadata": {
                "language": "sql",
                "azdata_cell_guid": "14211881-8e92-41dc-8370-0a50f5b42fde"
            },
            "outputs": [],
            "execution_count": null
        },
        {
            "cell_type": "markdown",
            "source": [
                "# Proposition 9\n",
                "- ## Identify Products with Total Sales amount over $100000\n",
                "## Tables Involved: Warehouse.StockItems, Sales.OrderLines\n",
                ""
            ],
            "metadata": {
                "language": "sql",
                "azdata_cell_guid": "1821cf47-84e6-4e58-83f0-8b27be0df476"
            },
            "attachments": {}
        },
        {
            "cell_type": "code",
            "source": [
                "USE WideworldImporters;\n",
                "\n",
                "WITH\n",
                "    ProductSales\n",
                "    AS\n",
                "    (\n",
                "        SELECT p.StockItemID, p.StockItemName, SUM(od.Quantity * od.UnitPrice) AS TotalSales\n",
                "        FROM Sales.OrderLines od\n",
                "            JOIN Warehouse.StockItems p ON od.StockItemID = p.StockItemID\n",
                "        GROUP BY p.StockItemID, p.StockItemName\n",
                "    )\n",
                "SELECT *\n",
                "FROM ProductSales\n",
                "WHERE TotalSales > 100000\n",
                "ORDER BY TotalSales DESC;\n",
                ""
            ],
            "metadata": {
                "language": "sql",
                "azdata_cell_guid": "20d4a69e-7136-4925-84d3-ab1dbbcd11d1"
            },
            "outputs": [],
            "execution_count": null
        },
        {
            "cell_type": "markdown",
            "source": [
                "# Proposition 10\n",
                "- ## Identify Orders that are delivered in a Different Month than its Order Date\n",
                "## Tables Involved: Sales.Orders\n",
                ""
            ],
            "metadata": {
                "language": "sql",
                "azdata_cell_guid": "3c695814-d0a9-455a-aba9-72a828bd5e93"
            },
            "attachments": {}
        },
        {
            "cell_type": "code",
            "source": [
                "USE WideWorldImporters;\n",
                "\n",
                "WITH\n",
                "    OrderDeliveryTime\n",
                "    AS\n",
                "    (\n",
                "        SELECT OrderID, CustomerID, OrderDate, ExpectedDeliveryDate,\n",
                "            DATEDIFF(DAY, OrderDate, ExpectedDeliveryDate) AS DeliveryDays\n",
                "        FROM Sales.Orders\n",
                "    )\n",
                "SELECT OrderID, CustomerID, OrderDate, ExpectedDeliveryDate, DeliveryDays\n",
                "FROM OrderDeliveryTime\n",
                "WHERE MONTH(OrderDate) + 1 = MONTH(ExpectedDeliveryDate)\n",
                "ORDER BY DeliveryDays \n",
                ""
            ],
            "metadata": {
                "language": "sql",
                "azdata_cell_guid": "26f3f883-565a-45ca-a32e-612543ea56e0"
            },
            "outputs": [],
            "execution_count": null
        }
    ]
}
