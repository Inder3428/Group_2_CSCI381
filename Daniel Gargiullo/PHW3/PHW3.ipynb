{
    "metadata": {
        "kernelspec": {
            "name": "SQL",
            "display_name": "SQL",
            "language": "sql"
        },
        "language_info": {
            "name": "sql",
            "version": ""
        }
    },
    "nbformat_minor": 2,
    "nbformat": 4,
    "cells": [
        {
            "cell_type": "markdown",
            "source": [
                "# 1. `Customers_With_More_Than_10_Orders.sql`\r\n",
                "\r\n",
                "## Proposition\r\n",
                "This query retrieves customers who have placed more than 10 orders, displaying their `CustomerID`, `CustomerName`, and the total number of orders.\r\n",
                "\r\n",
                "## Tables\r\n",
                "- `Sales.Customers`: Contains customer details.\r\n",
                "- `Sales.Orders`: Contains information about orders placed by customers.\r\n",
                "\r\n",
                "## Columns\r\n",
                "- `c.CustomerID`: Unique identifier for each customer from the `Sales.Customers` table.\r\n",
                "- `c.CustomerName`: Name of the customer from the `Sales.Customers` table.\r\n",
                "- `CustomerOrderCounts.CustomerID`: The identifier of customers with order counts, retrieved from a subquery that counts the number of orders per customer in the `Sales.Orders` table.\r\n",
                "- `CustomerOrderCounts.TotalOrders`: The total number of orders for each customer, filtered to show only those with more than 10 orders."
            ],
            "metadata": {
                "azdata_cell_guid": "5b535243-8546-4dc5-b8f6-d69cf1f58890"
            },
            "attachments": {}
        },
        {
            "cell_type": "code",
            "source": [
                "USE WideWorldImporters\n",
                "\n",
                "SELECT c.CustomerID, c.CustomerName, TotalOrders\n",
                "FROM Sales.Customers c\n",
                "JOIN (\n",
                "    SELECT CustomerID, COUNT(OrderID) AS TotalOrders\n",
                "    FROM Sales.Orders\n",
                "    GROUP BY CustomerID\n",
                ") AS CustomerOrderCounts ON c.CustomerID = CustomerOrderCounts.CustomerID\n",
                "WHERE TotalOrders > 10;"
            ],
            "metadata": {
                "azdata_cell_guid": "ed46459a-f817-4c25-a5ea-41d58b95a35e",
                "language": "sql",
                "tags": []
            },
            "outputs": [],
            "execution_count": null
        },
        {
            "cell_type": "markdown",
            "source": [
                "___\r\n",
                "___\r\n",
                "___"
            ],
            "metadata": {
                "language": "sql",
                "azdata_cell_guid": "43631100-4c3e-4cff-9f8e-9c3000aa627a"
            },
            "attachments": {}
        },
        {
            "cell_type": "markdown",
            "source": [
                "# 2. `Latest_Customer_Orders.sql`\r\n",
                "\r\n",
                "## Proposition\r\n",
                "This query retrieves the most recent order for each customer, displaying their `CustomerID`, `CustomerName`, `OrderID`, and `OrderDate`.\r\n",
                "\r\n",
                "## Tables\r\n",
                "- `Sales.Customers`: Contains customer details.\r\n",
                "- `Sales.Orders`: Contains information about customer orders.\r\n",
                "\r\n",
                "## Columns\r\n",
                "- `c.CustomerID`: Unique identifier for each customer from the `Sales.Customers` table.\r\n",
                "- `c.CustomerName`: Name of the customer from the `Sales.Customers` table.\r\n",
                "- `LastOrders.CustomerID`: The identifier of customers who have made orders, retrieved from a subquery that selects the latest order date for each customer.\r\n",
                "- `LastOrders.LastOrderDate`: The most recent order date for each customer, from the subquery.\r\n",
                "- `o.OrderID`: The unique identifier of the most recent order from the `Sales.Orders` table.\r\n",
                "- `o.OrderDate`: The date of the most recent order from the `Sales.Orders` table.\r\n",
                ""
            ],
            "metadata": {
                "language": "sql",
                "azdata_cell_guid": "2e2b217e-b005-47e6-ac8f-9f00f2f1a7db"
            },
            "attachments": {}
        },
        {
            "cell_type": "code",
            "source": [
                "USE WideWorldImporters\r\n",
                "\r\n",
                "SELECT c.CustomerID, CustomerName, OrderID, OrderDate\r\n",
                "FROM Sales.Customers c\r\n",
                "JOIN (\r\n",
                "    SELECT CustomerID, MAX(OrderDate) AS LastOrderDate\r\n",
                "    FROM Sales.Orders\r\n",
                "    GROUP BY CustomerID\r\n",
                ") AS LastOrders ON c.CustomerID = LastOrders.CustomerID\r\n",
                "JOIN Sales.Orders o ON o.CustomerID = LastOrders.CustomerID AND o.OrderDate = LastOrders.LastOrderDate;\r\n",
                ""
            ],
            "metadata": {
                "language": "sql",
                "azdata_cell_guid": "9d42e6b1-2030-4ca5-9c55-3a5f85e9af84",
                "tags": []
            },
            "outputs": [],
            "execution_count": null
        },
        {
            "cell_type": "markdown",
            "source": [
                "___\r\n",
                "___\r\n",
                "___"
            ],
            "metadata": {
                "language": "sql",
                "azdata_cell_guid": "59e82521-0ebd-44ac-90a0-f879f07cac14"
            },
            "attachments": {}
        },
        {
            "cell_type": "markdown",
            "source": [
                "# 3. `StockItems_Not_Ordered.sql`\r\n",
                "\r\n",
                "## Proposition\r\n",
                "This query retrieves stock items that have never been ordered, displaying their `StockItemID` and `StockItemName`.\r\n",
                "\r\n",
                "## Tables\r\n",
                "- `Warehouse.StockItems`: Contains details about stock items available in the warehouse.\r\n",
                "- `Sales.OrderLines`: Contains information about items included in customer orders.\r\n",
                "\r\n",
                "## Columns\r\n",
                "- `si.StockItemID`: Unique identifier for each stock item from the `Warehouse.StockItems` table.\r\n",
                "- `si.StockItemName`: Name of the stock item from the `Warehouse.StockItems` table.\r\n",
                "- `ol.StockItemID`: The identifier of stock items that have been ordered, used in the subquery to filter out stock items that appear in `Sales.OrderLines`.\r\n",
                ""
            ],
            "metadata": {
                "language": "sql",
                "azdata_cell_guid": "8c997968-8f3a-45ee-8ad2-29f349441f66"
            },
            "attachments": {}
        },
        {
            "cell_type": "code",
            "source": [
                "USE WideWorldImporters\r\n",
                "\r\n",
                "SELECT StockItemID, StockItemName\r\n",
                "FROM Warehouse.StockItems si\r\n",
                "WHERE NOT EXISTS (\r\n",
                "    SELECT 1\r\n",
                "    FROM Sales.OrderLines ol\r\n",
                "    WHERE ol.StockItemID = si.StockItemID\r\n",
                ");"
            ],
            "metadata": {
                "language": "sql",
                "azdata_cell_guid": "8c31c88a-b11a-491d-a762-63de6b191f80",
                "tags": []
            },
            "outputs": [],
            "execution_count": null
        },
        {
            "cell_type": "markdown",
            "source": [
                "___\r\n",
                "___\r\n",
                "___"
            ],
            "metadata": {
                "language": "sql",
                "azdata_cell_guid": "df480f1b-c59d-4337-b172-10e82ed05573"
            },
            "attachments": {}
        },
        {
            "cell_type": "markdown",
            "source": [
                "# 4. `Customers_Total_Order_Above_10000.sql`\r\n",
                "\r\n",
                "## Proposition\r\n",
                "This query retrieves customers who have placed orders with a total order value exceeding **$10,000**, displaying their `CustomerID`, `CustomerName`, and `TotalOrderValue`.\r\n",
                "\r\n",
                "## Tables\r\n",
                "- `Sales.Customers`: Contains customer details.\r\n",
                "- `Sales.Orders`: Contains information about customer orders.\r\n",
                "- `Sales.OrderLines`: Contains details about the specific items ordered within each order.\r\n",
                "\r\n",
                "## Columns\r\n",
                "- `c.CustomerID`: Unique identifier for each customer from the Sales.Customers table.\r\n",
                "- `c.CustomerName`: Name of the customer from the Sales.Customers table.\r\n",
                "- `CustomerOrderTotals.CustomerID`: The identifier of customers, used to join with `Sales.Customers` and calculated from the inner subquery.\r\n",
                "- `CustomerOrderTotals.TotalOrderValue`: The total value of all orders for each customer, calculated by multiplying the quantity of items ordered by their unit price, and summed across all orders for that customer.\r\n",
                "- `ol.Quantity`: The quantity of each item ordered, used in the calculation of the total order value.\r\n",
                "- `ol.UnitPrice`: The price of each unit of an item ordered, used in the calculation of the total order value.\r\n",
                ""
            ],
            "metadata": {
                "language": "sql",
                "azdata_cell_guid": "02ca37c3-1a61-4c3e-ab4b-1ac0db84cd39"
            },
            "attachments": {}
        },
        {
            "cell_type": "code",
            "source": [
                "USE WideWorldImporters\r\n",
                "\r\n",
                "SELECT c.CustomerID, CustomerName, TotalOrderValue\r\n",
                "FROM Sales.Customers c\r\n",
                "JOIN (\r\n",
                "    SELECT CustomerID, SUM(Quantity * UnitPrice) AS TotalOrderValue\r\n",
                "    FROM Sales.OrderLines ol\r\n",
                "    JOIN Sales.Orders o ON ol.OrderID = o.OrderID\r\n",
                "    GROUP BY CustomerID\r\n",
                ") AS CustomerOrderTotals ON c.CustomerID = CustomerOrderTotals.CustomerID\r\n",
                "WHERE TotalOrderValue > 10000;"
            ],
            "metadata": {
                "language": "sql",
                "azdata_cell_guid": "9f8022bf-7c5d-407d-b942-6880ad844f26",
                "tags": []
            },
            "outputs": [],
            "execution_count": null
        },
        {
            "cell_type": "markdown",
            "source": [
                "___\r\n",
                "___\r\n",
                "___"
            ],
            "metadata": {
                "language": "sql",
                "azdata_cell_guid": "a9bbcba5-48c0-47f0-b910-d7cc47b5de5b"
            },
            "attachments": {}
        },
        {
            "cell_type": "markdown",
            "source": [
                "# 5. `Top_5_Suppliers_By_Products_Supplied.sql`\r\n",
                "\r\n",
                "## Proposition\r\n",
                "This query retrieves the top 5 suppliers based on the total number of products they supply, displaying their `SupplierID`, `SupplierName`, and the total number of products supplied.\r\n",
                "\r\n",
                "## Tables\r\n",
                "- `Purchasing.Suppliers`: Contains details about suppliers.\r\n",
                "- `Warehouse.StockItems`: Contains details about stock items supplied by each supplier.\r\n",
                "\r\n",
                "## Columns\r\n",
                "- `s.SupplierID`: Unique identifier for each supplier from the `Purchasing.Suppliers` table.\r\n",
                "- `s.SupplierName`: Name of the supplier from the `Purchasing.Suppliers` table.\r\n",
                "- `SupplierProductCounts.SupplierID`: The identifier of suppliers, used to join with the `Purchasing.Suppliers` table and retrieved from a subquery that counts the number of stock items supplied by each supplier.\r\n",
                "- `SupplierProductCounts.TotalProductsSupplied`: The total number of products supplied by each supplier, calculated by counting the `StockItemID` from the `Warehouse.StockItems` table.\r\n",
                "- `StockItemID`: Unique identifier of stock items, used in the subquery to count the total number of products supplied by each supplier."
            ],
            "metadata": {
                "language": "sql",
                "azdata_cell_guid": "cb7c0d69-9558-44b2-8ced-26b7b0530bce"
            },
            "attachments": {}
        },
        {
            "cell_type": "code",
            "source": [
                "USE WideWorldImporters\r\n",
                "\r\n",
                "SELECT s.SupplierID, SupplierName, TotalProductsSupplied\r\n",
                "FROM Purchasing.Suppliers s\r\n",
                "JOIN (\r\n",
                "    SELECT SupplierID, COUNT(StockItemID) AS TotalProductsSupplied\r\n",
                "    FROM Warehouse.StockItems\r\n",
                "    GROUP BY SupplierID\r\n",
                ") AS SupplierProductCounts ON s.SupplierID = SupplierProductCounts.SupplierID\r\n",
                "ORDER BY TotalProductsSupplied DESC\r\n",
                "OFFSET 0 ROWS FETCH NEXT 5 ROWS ONLY;"
            ],
            "metadata": {
                "language": "sql",
                "azdata_cell_guid": "6c5fa11c-05f4-40e1-8c6e-a6543e66116f",
                "tags": []
            },
            "outputs": [],
            "execution_count": null
        },
        {
            "cell_type": "markdown",
            "source": [
                "___\r\n",
                "___\r\n",
                "___"
            ],
            "metadata": {
                "language": "sql",
                "azdata_cell_guid": "b3847e5c-51f5-473a-9658-73fff770821d"
            },
            "attachments": {}
        },
        {
            "cell_type": "markdown",
            "source": [
                "# 6. `StockItems_With_Avg_Order_Quantity_Above_50.sql`\r\n",
                "\r\n",
                "## Proposition\r\n",
                "This query retrieves stock items with an average order quantity greater than **50**, displaying their `StockItemID`, `StockItemName`, and the average order quantity.\r\n",
                "\r\n",
                "## Tables\r\n",
                "- `Warehouse.StockItems`: Contains details about stock items available in the warehouse.\r\n",
                "- `Sales.OrderLines`: Contains details about the specific items ordered within each order.\r\n",
                "\r\n",
                "## Columns\r\n",
                "- `si.StockItemID`: Unique identifier for each stock item from the `Warehouse.StockItems` table.\r\n",
                "- `si.StockItemName`: Name of the stock item from the `Warehouse.StockItems` table.\r\n",
                "- `ProductOrderAverages.StockItemID`: The identifier of stock items, used to join with the `Warehouse.StockItems` table and retrieved from a subquery that calculates the average quantity ordered for each stock item.\r\n",
                "- `ProductOrderAverages.AvgOrderQuantity`: The average quantity of each item ordered, calculated from the `Sales.OrderLines` table.\r\n",
                "- `Quantity`: The number of units ordered for each stock item, used in the subquery to calculate the average order quantity."
            ],
            "metadata": {
                "language": "sql",
                "azdata_cell_guid": "9151fd00-6c93-47eb-8d59-137d4659380e"
            },
            "attachments": {}
        },
        {
            "cell_type": "code",
            "source": [
                "USE WideWorldImporters\r\n",
                "\r\n",
                "SELECT si.StockItemID, StockItemName, AvgOrderQuantity\r\n",
                "FROM Warehouse.StockItems si\r\n",
                "JOIN (\r\n",
                "    SELECT StockItemID, AVG(Quantity) AS AvgOrderQuantity\r\n",
                "    FROM Sales.OrderLines\r\n",
                "    GROUP BY StockItemID\r\n",
                ") AS ProductOrderAverages ON si.StockItemID = ProductOrderAverages.StockItemID\r\n",
                "WHERE AvgOrderQuantity > 50;"
            ],
            "metadata": {
                "language": "sql",
                "azdata_cell_guid": "767a9451-470e-44cd-895d-521d57f0a8b7",
                "tags": []
            },
            "outputs": [],
            "execution_count": null
        },
        {
            "cell_type": "markdown",
            "source": [
                "___\r\n",
                "___\r\n",
                "___"
            ],
            "metadata": {
                "language": "sql",
                "azdata_cell_guid": "7094154c-3e2a-4ef8-8fb0-a645662f9c90"
            },
            "attachments": {}
        },
        {
            "cell_type": "markdown",
            "source": [
                "# 7. `Employees_With_Over_100_Orders.sql`\r\n",
                "\r\n",
                "## Proposition\r\n",
                "This query retrieves employees who have processed more than **100** orders, displaying their `EmployeeID`, `FullName`, and the total number of orders they processed.\r\n",
                "\r\n",
                "## Tables\r\n",
                "- `Application.People`: Contains personal information about employees.\r\n",
                "- `Sales.Orders`: Contains details about customer orders, including the salesperson responsible for each order.\r\n",
                "\r\n",
                "## Columns\r\n",
                "- `p.EmployeeID`: Unique identifier for each employee from the `Application.People` table (retrieved as `SalespersonPersonID` in the subquery).\r\n",
                "- `p.FullName`: The full name of the employee from the `Application.People` table.\r\n",
                "- `EmployeeOrderCounts.EmployeeID`: The identifier of employees who processed orders, retrieved from a subquery that counts the number of orders processed by each salesperson.\r\n",
                "- `EmployeeOrderCounts.OrdersProcessed`: The total number of orders processed by each employee, calculated from the `Sales.Orders` table.\r\n",
                "- `SalespersonPersonID`: The ID of the employee (salesperson) associated with processing an order, used in the subquery to count the total number of orders for each employee.\r\n",
                "- `OrderID`: The unique identifier for each order, used to count the number of orders processed by each employee."
            ],
            "metadata": {
                "language": "sql",
                "azdata_cell_guid": "95422574-a540-4b89-9365-af0c8414c3b0"
            },
            "attachments": {}
        },
        {
            "cell_type": "code",
            "source": [
                "USE WideWorldImporters\r\n",
                "\r\n",
                "SELECT EmployeeID, FullName, OrdersProcessed\r\n",
                "FROM Application.People p\r\n",
                "JOIN (\r\n",
                "    SELECT SalespersonPersonID AS EmployeeID, COUNT(OrderID) AS OrdersProcessed\r\n",
                "    FROM Sales.Orders\r\n",
                "    GROUP BY SalespersonPersonID\r\n",
                ") AS EmployeeOrderCounts ON p.PersonID = EmployeeOrderCounts.EmployeeID\r\n",
                "WHERE OrdersProcessed > 100;"
            ],
            "metadata": {
                "language": "sql",
                "azdata_cell_guid": "88c171eb-2b84-474d-8fa9-ddfad277629e",
                "tags": []
            },
            "outputs": [],
            "execution_count": null
        },
        {
            "cell_type": "markdown",
            "source": [
                "___\r\n",
                "___\r\n",
                "___"
            ],
            "metadata": {
                "language": "sql",
                "azdata_cell_guid": "e85e2903-66b5-4fb2-90f1-74504d859093"
            },
            "attachments": {}
        },
        {
            "cell_type": "markdown",
            "source": [
                "# 8. `Customers_With_No_Transactions.sql`\r\n",
                "\r\n",
                "## Proposition\r\n",
                "This query retrieves customers who have never made a transaction, displaying their `CustomerID` and `CustomerName`.\r\n",
                "\r\n",
                "## Tables\r\n",
                "- `Sales.Customers`: Contains customer details.\r\n",
                "- `Sales.CustomerTransactions`: Contains records of transactions made by customers.\r\n",
                "\r\n",
                "## Columns\r\n",
                "- `CustomerID`: Unique identifier for each customer from the `Sales.Customers` table.\r\n",
                "- `CustomerName`: Name of the customer from the `Sales.Customers` table.\r\n",
                "- `Sales.CustomerTransactions.CustomerID`: The identifier of customers who have made transactions, used in the subquery to exclude customers with any recorded transactions."
            ],
            "metadata": {
                "language": "sql",
                "azdata_cell_guid": "860bb878-863f-4fed-b43d-f725d6f4f957"
            },
            "attachments": {}
        },
        {
            "cell_type": "code",
            "source": [
                "USE WideWorldImporters\r\n",
                "\r\n",
                "SELECT CustomerID, CustomerName\r\n",
                "FROM Sales.Customers\r\n",
                "WHERE CustomerID NOT IN (\r\n",
                "    SELECT DISTINCT CustomerID\r\n",
                "    FROM Sales.CustomerTransactions\r\n",
                ");"
            ],
            "metadata": {
                "language": "sql",
                "azdata_cell_guid": "54c9590d-fc54-41c7-869c-6a341f6a352b",
                "tags": []
            },
            "outputs": [],
            "execution_count": null
        },
        {
            "cell_type": "markdown",
            "source": [
                "___\r\n",
                "___\r\n",
                "___"
            ],
            "metadata": {
                "language": "sql",
                "azdata_cell_guid": "bdb571f9-d8db-4ee3-b4ab-3d28950c628c"
            },
            "attachments": {}
        },
        {
            "cell_type": "markdown",
            "source": [
                "# 9. `StockItems_With_Total_Qty_Ordered_Above_100.sql`\r\n",
                "\r\n",
                "## Proposition\r\n",
                "This query retrieves stock items that have been ordered in a total quantity greater than **100**, displaying their `StockItemID`, `StockItemName`, and the total quantity ordered.\r\n",
                "\r\n",
                "## Tables\r\n",
                "- `Warehouse.StockItems`: Contains details about stock items in the warehouse.\r\n",
                "- `Sales.OrderLines`: Contains records of items included in customer orders.\r\n",
                "\r\n",
                "## Columns\r\n",
                "- `si.StockItemID`: Unique identifier for each stock item from the `Warehouse.StockItems` table.\r\n",
                "- `si.StockItemName`: Name of the stock item from the `Warehouse.StockItems` table.\r\n",
                "- `OrderTotals.StockItemID`: The identifier of stock items that have been ordered, used to join with the `Warehouse.StockItems` table and retrieved from a subquery that calculates the total quantity ordered for each stock item.\r\n",
                "- `OrderTotals.TotalQuantityOrdered`: The total quantity of each stock item ordered, calculated by summing the `Quantity` from the `Sales.OrderLines` table.\r\n",
                "- `Quantity`: The number of units ordered for each stock item, used in the subquery to calculate the total quantity ordered.\r\n",
                ""
            ],
            "metadata": {
                "language": "sql",
                "azdata_cell_guid": "30d436a2-fea8-4c6b-9119-bf9f5a0c88c9"
            },
            "attachments": {}
        },
        {
            "cell_type": "code",
            "source": [
                "USE WideWorldImporters\r\n",
                "\r\n",
                "SELECT si.StockItemID, StockItemName, TotalQuantityOrdered\r\n",
                "FROM Warehouse.StockItems si\r\n",
                "JOIN (\r\n",
                "    SELECT StockItemID, SUM(Quantity) AS TotalQuantityOrdered\r\n",
                "    FROM Sales.OrderLines\r\n",
                "    GROUP BY StockItemID\r\n",
                ") AS OrderTotals ON si.StockItemID = OrderTotals.StockItemID\r\n",
                "WHERE TotalQuantityOrdered > 100;"
            ],
            "metadata": {
                "language": "sql",
                "azdata_cell_guid": "d6350ae4-3371-421c-b4e4-b54e2464e3d7",
                "tags": []
            },
            "outputs": [],
            "execution_count": null
        },
        {
            "cell_type": "markdown",
            "source": [
                "___\r\n",
                "___\r\n",
                "___"
            ],
            "metadata": {
                "language": "sql",
                "azdata_cell_guid": "7a51dcb9-1a3d-46c6-a40a-f2ee9cca7e2d"
            },
            "attachments": {}
        },
        {
            "cell_type": "markdown",
            "source": [
                "# 10. `Cust_Above_Avg_Transaction_Amounts.sql`\r\n",
                "\r\n",
                "## Proposition\r\n",
                "This query retrieves customers whose total transaction amounts exceed the average total transaction amounts across all customers, displaying their `CustomerID`, `CustomerName`, and `TotalPayments`.\r\n",
                "\r\n",
                "## Tables\r\n",
                "- `Sales.Customers`: Contains customer details.\r\n",
                "- `Sales.CustomerTransactions`: Contains records of transactions made by customers.\r\n",
                "\r\n",
                "## Columns\r\n",
                "- `c.CustomerID`: Unique identifier for each customer from the `Sales.Customers` table.\r\n",
                "- `c.CustomerName`: Name of the customer from the `Sales.Customers` table.\r\n",
                "- `CustomerPaymentTotals.CustomerID`: The identifier of customers, retrieved from a subquery that sums the total transaction amounts for each customer.\r\n",
                "- `CustomerPaymentTotals.TotalPayments`: The total amount of transactions for each customer, calculated by summing the `TransactionAmount` from the `Sales.CustomerTransactions` table.\r\n",
                "- `TransactionAmount`: The amount associated with each customer transaction, used to calculate the total payments for each customer in the subquery.\r\n",
                "- `PaymentAverages.TotalPayments`: The average of the total payments made by all customers, used in the outer query to filter customers whose total payments exceed the average."
            ],
            "metadata": {
                "language": "sql",
                "azdata_cell_guid": "3d948e82-6cc3-425a-b333-147ba36db74d"
            },
            "attachments": {}
        },
        {
            "cell_type": "code",
            "source": [
                "USE WideWorldImporters\r\n",
                "\r\n",
                "SELECT c.CustomerID, CustomerName, TotalPayments\r\n",
                "FROM Sales.Customers c\r\n",
                "JOIN (\r\n",
                "    SELECT CustomerID, SUM(TransactionAmount) AS TotalPayments\r\n",
                "    FROM Sales.CustomerTransactions\r\n",
                "    GROUP BY CustomerID\r\n",
                ") AS CustomerPaymentTotals ON c.CustomerID = CustomerPaymentTotals.CustomerID\r\n",
                "WHERE TotalPayments > (\r\n",
                "    SELECT AVG(TotalPayments)\r\n",
                "    FROM (\r\n",
                "        SELECT SUM(TransactionAmount) AS TotalPayments\r\n",
                "        FROM Sales.CustomerTransactions\r\n",
                "        GROUP BY CustomerID\r\n",
                "    ) AS PaymentAverages\r\n",
                ");"
            ],
            "metadata": {
                "language": "sql",
                "azdata_cell_guid": "a7b142d2-eead-4c57-9d92-3170f48da665",
                "tags": []
            },
            "outputs": [],
            "execution_count": null
        }
    ]
}