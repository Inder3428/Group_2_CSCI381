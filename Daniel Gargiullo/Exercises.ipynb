{
    "metadata": {
        "kernelspec": {
            "name": "SQL",
            "display_name": "SQL",
            "language": "sql"
        },
        "language_info": {
            "name": "sql",
            "version": ""
        }
    },
    "nbformat_minor": 2,
    "nbformat": 4,
    "cells": [
        {
            "cell_type": "markdown",
            "source": [
                "# Q1"
            ],
            "metadata": {
                "azdata_cell_guid": "1c9db48d-7456-4bd0-908b-abb233750661"
            },
            "attachments": {}
        },
        {
            "cell_type": "code",
            "source": [
                "USE TSQLV6\r\n",
                "\r\n",
                "SELECT orderid, orderdate, custid, empid\r\n",
                "FROM Sales.Orders\r\n",
                "WHERE orderdate = (\r\n",
                "    SELECT MAX(orderdate)\r\n",
                "    FROM Sales.Orders\r\n",
                ");"
            ],
            "metadata": {
                "azdata_cell_guid": "d9eb03eb-b367-4a17-9e5d-66678b16c55f",
                "language": "sql"
            },
            "outputs": [
                {
                    "output_type": "display_data",
                    "data": {
                        "text/html": "(4 rows affected)"
                    },
                    "metadata": {}
                },
                {
                    "output_type": "display_data",
                    "data": {
                        "text/html": "Total execution time: 00:00:00.009"
                    },
                    "metadata": {}
                },
                {
                    "output_type": "execute_result",
                    "metadata": {},
                    "execution_count": 4,
                    "data": {
                        "application/vnd.dataresource+json": {
                            "schema": {
                                "fields": [
                                    {
                                        "name": "orderid"
                                    },
                                    {
                                        "name": "orderdate"
                                    },
                                    {
                                        "name": "custid"
                                    },
                                    {
                                        "name": "empid"
                                    }
                                ]
                            },
                            "data": [
                                {
                                    "orderid": "11077",
                                    "orderdate": "2022-05-06",
                                    "custid": "65",
                                    "empid": "1"
                                },
                                {
                                    "orderid": "11076",
                                    "orderdate": "2022-05-06",
                                    "custid": "9",
                                    "empid": "4"
                                },
                                {
                                    "orderid": "11075",
                                    "orderdate": "2022-05-06",
                                    "custid": "68",
                                    "empid": "8"
                                },
                                {
                                    "orderid": "11074",
                                    "orderdate": "2022-05-06",
                                    "custid": "73",
                                    "empid": "7"
                                }
                            ]
                        },
                        "text/html": [
                            "<table>",
                            "<tr><th>orderid</th><th>orderdate</th><th>custid</th><th>empid</th></tr>",
                            "<tr><td>11077</td><td>2022-05-06</td><td>65</td><td>1</td></tr>",
                            "<tr><td>11076</td><td>2022-05-06</td><td>9</td><td>4</td></tr>",
                            "<tr><td>11075</td><td>2022-05-06</td><td>68</td><td>8</td></tr>",
                            "<tr><td>11074</td><td>2022-05-06</td><td>73</td><td>7</td></tr>",
                            "</table>"
                        ]
                    }
                }
            ],
            "execution_count": 4
        },
        {
            "cell_type": "markdown",
            "source": [
                "# Q2"
            ],
            "metadata": {
                "azdata_cell_guid": "06e15375-7926-4e19-b2c4-4eba77d06121"
            },
            "attachments": {}
        },
        {
            "cell_type": "code",
            "source": [
                "USE TSQLV6\r\n",
                "\r\n",
                "SELECT\r\n",
                "    custid,\r\n",
                "    FORMAT(orderdate, 'yyyy-MM') AS order_month,\r\n",
                "    SUM(orderid) OVER (\r\n",
                "        PARTITION BY custid, FORMAT(orderdate, 'yyyy-MM')\r\n",
                "        ORDER BY orderdate\r\n",
                "        ROWS UNBOUNDED PRECEDING\r\n",
                "    ) AS running_total_quantity\r\n",
                "FROM Sales.Orders\r\n",
                "ORDER BY custid, order_month, orderdate;"
            ],
            "metadata": {
                "azdata_cell_guid": "f8ddee29-c1d8-44dc-9df9-8b70dce2c6ea",
                "language": "sql",
                "tags": [
                    "hide_input"
                ]
            },
            "outputs": [
                {
                    "output_type": "display_data",
                    "data": {
                        "text/html": "(830 rows affected)"
                    },
                    "metadata": {}
                },
                {
                    "output_type": "display_data",
                    "data": {
                        "text/html": "Total execution time: 00:00:00.712"
                    },
                    "metadata": {}
                },
                {
                    "output_type": "execute_result",
                    "metadata": {},
                    "execution_count": 5,
                    "data": {
                        "application/vnd.dataresource+json": {
                            "schema": {
                                "fields": [
                                    {
                                        "name": "custid"
                                    },
                                    {
                                        "name": "order_month"
                                    },
                                    {
                                        "name": "running_total_quantity"
                                    }
                                ]
                            },
                            "data": [
                                {
                                    "custid": "1",
                                    "order_month": "2021-08",
                                    "running_total_quantity": "10643"
                                },
                                {
                                    "custid": "1",
                                    "order_month": "2021-10",
                                    "running_total_quantity": "10692"
                                },
                                {
                                    "custid": "1",
                                    "order_month": "2021-10",
                                    "running_total_quantity": "21394"
                                },
                                {
                                    "custid": "1",
                                    "order_month": "2022-01",
                                    "running_total_quantity": "10835"
                                },
                                {
                                    "custid": "1",
                                    "order_month": "2022-03",
                                    "running_total_quantity": "10952"
                                },
                                {
                                    "custid": "1",
                                    "order_month": "2022-04",
                                    "running_total_quantity": "11011"
                                },
                                {
                                    "custid": "2",
                                    "order_month": "2020-09",
                                    "running_total_quantity": "10308"
                                },
                                {
                                    "custid": "2",
                                    "order_month": "2021-08",
                                    "running_total_quantity": "10625"
                                },
                                {
                                    "custid": "2",
                                    "order_month": "2021-11",
                                    "running_total_quantity": "10759"
                                },
                                {
                                    "custid": "2",
                                    "order_month": "2022-03",
                                    "running_total_quantity": "10926"
                                },
                                {
                                    "custid": "3",
                                    "order_month": "2020-11",
                                    "running_total_quantity": "10365"
                                },
                                {
                                    "custid": "3",
                                    "order_month": "2021-04",
                                    "running_total_quantity": "10507"
                                },
                                {
                                    "custid": "3",
                                    "order_month": "2021-05",
                                    "running_total_quantity": "10535"
                                },
                                {
                                    "custid": "3",
                                    "order_month": "2021-06",
                                    "running_total_quantity": "10573"
                                },
                                {
                                    "custid": "3",
                                    "order_month": "2021-09",
                                    "running_total_quantity": "10677"
                                },
                                {
                                    "custid": "3",
                                    "order_month": "2021-09",
                                    "running_total_quantity": "21359"
                                },
                                {
                                    "custid": "3",
                                    "order_month": "2022-01",
                                    "running_total_quantity": "10856"
                                },
                                {
                                    "custid": "4",
                                    "order_month": "2020-11",
                                    "running_total_quantity": "10355"
                                },
                                {
                                    "custid": "4",
                                    "order_month": "2020-12",
                                    "running_total_quantity": "10383"
                                },
                                {
                                    "custid": "4",
                                    "order_month": "2021-02",
                                    "running_total_quantity": "10453"
                                },
                                {
                                    "custid": "4",
                                    "order_month": "2021-06",
                                    "running_total_quantity": "10558"
                                },
                                {
                                    "custid": "4",
                                    "order_month": "2021-10",
                                    "running_total_quantity": "10707"
                                },
                                {
                                    "custid": "4",
                                    "order_month": "2021-11",
                                    "running_total_quantity": "10741"
                                },
                                {
                                    "custid": "4",
                                    "order_month": "2021-11",
                                    "running_total_quantity": "21484"
                                },
                                {
                                    "custid": "4",
                                    "order_month": "2021-12",
                                    "running_total_quantity": "10768"
                                },
                                {
                                    "custid": "4",
                                    "order_month": "2021-12",
                                    "running_total_quantity": "21561"
                                },
                                {
                                    "custid": "4",
                                    "order_month": "2022-02",
                                    "running_total_quantity": "10864"
                                },
                                {
                                    "custid": "4",
                                    "order_month": "2022-03",
                                    "running_total_quantity": "10920"
                                },
                                {
                                    "custid": "4",
                                    "order_month": "2022-03",
                                    "running_total_quantity": "21873"
                                },
                                {
                                    "custid": "4",
                                    "order_month": "2022-04",
                                    "running_total_quantity": "11016"
                                },
                                {
                                    "custid": "5",
                                    "order_month": "2020-08",
                                    "running_total_quantity": "10278"
                                },
                                {
                                    "custid": "5",
                                    "order_month": "2020-08",
                                    "running_total_quantity": "20558"
                                },
                                {
                                    "custid": "5",
                                    "order_month": "2020-12",
                                    "running_total_quantity": "10384"
                                },
                                {
                                    "custid": "5",
                                    "order_month": "2021-02",
                                    "running_total_quantity": "10444"
                                },
                                {
                                    "custid": "5",
                                    "order_month": "2021-02",
                                    "running_total_quantity": "20889"
                                },
                                {
                                    "custid": "5",
                                    "order_month": "2021-05",
                                    "running_total_quantity": "10524"
                                },
                                {
                                    "custid": "5",
                                    "order_month": "2021-06",
                                    "running_total_quantity": "10572"
                                },
                                {
                                    "custid": "5",
                                    "order_month": "2021-08",
                                    "running_total_quantity": "10626"
                                },
                                {
                                    "custid": "5",
                                    "order_month": "2021-09",
                                    "running_total_quantity": "10654"
                                },
                                {
                                    "custid": "5",
                                    "order_month": "2021-09",
                                    "running_total_quantity": "21326"
                                },
                                {
                                    "custid": "5",
                                    "order_month": "2021-10",
                                    "running_total_quantity": "10689"
                                },
                                {
                                    "custid": "5",
                                    "order_month": "2021-11",
                                    "running_total_quantity": "10733"
                                },
                                {
                                    "custid": "5",
                                    "order_month": "2021-12",
                                    "running_total_quantity": "10778"
                                },
                                {
                                    "custid": "5",
                                    "order_month": "2022-01",
                                    "running_total_quantity": "10837"
                                },
                                {
                                    "custid": "5",
                                    "order_month": "2022-01",
                                    "running_total_quantity": "21694"
                                },
                                {
                                    "custid": "5",
                                    "order_month": "2022-02",
                                    "running_total_quantity": "10866"
                                },
                                {
                                    "custid": "5",
                                    "order_month": "2022-02",
                                    "running_total_quantity": "21741"
                                },
                                {
                                    "custid": "5",
                                    "order_month": "2022-03",
                                    "running_total_quantity": "10924"
                                },
                                {
                                    "custid": "6",
                                    "order_month": "2021-04",
                                    "running_total_quantity": "10501"
                                },
                                {
                                    "custid": "6",
                                    "order_month": "2021-04",
                                    "running_total_quantity": "21010"
                                },
                                {
                                    "custid": "6",
                                    "order_month": "2021-06",
                                    "running_total_quantity": "10582"
                                },
                                {
                                    "custid": "6",
                                    "order_month": "2021-07",
                                    "running_total_quantity": "10614"
                                },
                                {
                                    "custid": "6",
                                    "order_month": "2022-01",
                                    "running_total_quantity": "10853"
                                },
                                {
                                    "custid": "6",
                                    "order_month": "2022-03",
                                    "running_total_quantity": "10956"
                                },
                                {
                                    "custid": "6",
                                    "order_month": "2022-04",
                                    "running_total_quantity": "11058"
                                },
                                {
                                    "custid": "7",
                                    "order_month": "2020-07",
                                    "running_total_quantity": "10265"
                                },
                                {
                                    "custid": "7",
                                    "order_month": "2020-09",
                                    "running_total_quantity": "10297"
                                },
                                {
                                    "custid": "7",
                                    "order_month": "2020-11",
                                    "running_total_quantity": "10360"
                                },
                                {
                                    "custid": "7",
                                    "order_month": "2021-02",
                                    "running_total_quantity": "10436"
                                },
                                {
                                    "custid": "7",
                                    "order_month": "2021-02",
                                    "running_total_quantity": "20885"
                                },
                                {
                                    "custid": "7",
                                    "order_month": "2021-06",
                                    "running_total_quantity": "10559"
                                },
                                {
                                    "custid": "7",
                                    "order_month": "2021-06",
                                    "running_total_quantity": "21125"
                                },
                                {
                                    "custid": "7",
                                    "order_month": "2021-06",
                                    "running_total_quantity": "31709"
                                },
                                {
                                    "custid": "7",
                                    "order_month": "2021-08",
                                    "running_total_quantity": "10628"
                                },
                                {
                                    "custid": "7",
                                    "order_month": "2021-09",
                                    "running_total_quantity": "10679"
                                },
                                {
                                    "custid": "7",
                                    "order_month": "2022-01",
                                    "running_total_quantity": "10826"
                                },
                                {
                                    "custid": "8",
                                    "order_month": "2020-10",
                                    "running_total_quantity": "10326"
                                },
                                {
                                    "custid": "8",
                                    "order_month": "2021-12",
                                    "running_total_quantity": "10801"
                                },
                                {
                                    "custid": "8",
                                    "order_month": "2022-03",
                                    "running_total_quantity": "10970"
                                },
                                {
                                    "custid": "9",
                                    "order_month": "2020-10",
                                    "running_total_quantity": "10331"
                                },
                                {
                                    "custid": "9",
                                    "order_month": "2020-10",
                                    "running_total_quantity": "20671"
                                },
                                {
                                    "custid": "9",
                                    "order_month": "2020-11",
                                    "running_total_quantity": "10362"
                                },
                                {
                                    "custid": "9",
                                    "order_month": "2021-03",
                                    "running_total_quantity": "10470"
                                },
                                {
                                    "custid": "9",
                                    "order_month": "2021-04",
                                    "running_total_quantity": "10511"
                                },
                                {
                                    "custid": "9",
                                    "order_month": "2021-05",
                                    "running_total_quantity": "10525"
                                },
                                {
                                    "custid": "9",
                                    "order_month": "2021-09",
                                    "running_total_quantity": "10663"
                                },
                                {
                                    "custid": "9",
                                    "order_month": "2021-10",
                                    "running_total_quantity": "10715"
                                },
                                {
                                    "custid": "9",
                                    "order_month": "2021-11",
                                    "running_total_quantity": "10730"
                                },
                                {
                                    "custid": "9",
                                    "order_month": "2021-11",
                                    "running_total_quantity": "21462"
                                },
                                {
                                    "custid": "9",
                                    "order_month": "2021-11",
                                    "running_total_quantity": "32217"
                                },
                                {
                                    "custid": "9",
                                    "order_month": "2022-01",
                                    "running_total_quantity": "10827"
                                },
                                {
                                    "custid": "9",
                                    "order_month": "2022-02",
                                    "running_total_quantity": "10871"
                                },
                                {
                                    "custid": "9",
                                    "order_month": "2022-02",
                                    "running_total_quantity": "21747"
                                },
                                {
                                    "custid": "9",
                                    "order_month": "2022-03",
                                    "running_total_quantity": "10932"
                                },
                                {
                                    "custid": "9",
                                    "order_month": "2022-03",
                                    "running_total_quantity": "21872"
                                },
                                {
                                    "custid": "9",
                                    "order_month": "2022-05",
                                    "running_total_quantity": "11076"
                                },
                                {
                                    "custid": "10",
                                    "order_month": "2020-12",
                                    "running_total_quantity": "10389"
                                },
                                {
                                    "custid": "10",
                                    "order_month": "2021-01",
                                    "running_total_quantity": "10410"
                                },
                                {
                                    "custid": "10",
                                    "order_month": "2021-01",
                                    "running_total_quantity": "20821"
                                },
                                {
                                    "custid": "10",
                                    "order_month": "2021-01",
                                    "running_total_quantity": "31252"
                                },
                                {
                                    "custid": "10",
                                    "order_month": "2021-04",
                                    "running_total_quantity": "10492"
                                },
                                {
                                    "custid": "10",
                                    "order_month": "2021-11",
                                    "running_total_quantity": "10742"
                                },
                                {
                                    "custid": "10",
                                    "order_month": "2022-03",
                                    "running_total_quantity": "10918"
                                },
                                {
                                    "custid": "10",
                                    "order_month": "2022-03",
                                    "running_total_quantity": "21862"
                                },
                                {
                                    "custid": "10",
                                    "order_month": "2022-03",
                                    "running_total_quantity": "32811"
                                },
                                {
                                    "custid": "10",
                                    "order_month": "2022-03",
                                    "running_total_quantity": "43786"
                                },
                                {
                                    "custid": "10",
                                    "order_month": "2022-03",
                                    "running_total_quantity": "54768"
                                },
                                {
                                    "custid": "10",
                                    "order_month": "2022-04",
                                    "running_total_quantity": "11027"
                                },
                                {
                                    "custid": "10",
                                    "order_month": "2022-04",
                                    "running_total_quantity": "22072"
                                },
                                {
                                    "custid": "10",
                                    "order_month": "2022-04",
                                    "running_total_quantity": "33120"
                                },
                                {
                                    "custid": "11",
                                    "order_month": "2020-08",
                                    "running_total_quantity": "10289"
                                },
                                {
                                    "custid": "11",
                                    "order_month": "2021-03",
                                    "running_total_quantity": "10471"
                                },
                                {
                                    "custid": "11",
                                    "order_month": "2021-03",
                                    "running_total_quantity": "20955"
                                },
                                {
                                    "custid": "11",
                                    "order_month": "2021-05",
                                    "running_total_quantity": "10538"
                                },
                                {
                                    "custid": "11",
                                    "order_month": "2021-05",
                                    "running_total_quantity": "21077"
                                },
                                {
                                    "custid": "11",
                                    "order_month": "2021-06",
                                    "running_total_quantity": "10578"
                                },
                                {
                                    "custid": "11",
                                    "order_month": "2021-07",
                                    "running_total_quantity": "10599"
                                },
                                {
                                    "custid": "11",
                                    "order_month": "2022-03",
                                    "running_total_quantity": "10943"
                                },
                                {
                                    "custid": "11",
                                    "order_month": "2022-03",
                                    "running_total_quantity": "21890"
                                },
                                {
                                    "custid": "11",
                                    "order_month": "2022-04",
                                    "running_total_quantity": "11023"
                                },
                                {
                                    "custid": "12",
                                    "order_month": "2021-04",
                                    "running_total_quantity": "10521"
                                },
                                {
                                    "custid": "12",
                                    "order_month": "2021-12",
                                    "running_total_quantity": "10782"
                                },
                                {
                                    "custid": "12",
                                    "order_month": "2022-01",
                                    "running_total_quantity": "10819"
                                },
                                {
                                    "custid": "12",
                                    "order_month": "2022-02",
                                    "running_total_quantity": "10881"
                                },
                                {
                                    "custid": "12",
                                    "order_month": "2022-03",
                                    "running_total_quantity": "10937"
                                },
                                {
                                    "custid": "12",
                                    "order_month": "2022-04",
                                    "running_total_quantity": "11054"
                                },
                                {
                                    "custid": "13",
                                    "order_month": "2020-07",
                                    "running_total_quantity": "10259"
                                },
                                {
                                    "custid": "14",
                                    "order_month": "2020-07",
                                    "running_total_quantity": "10254"
                                },
                                {
                                    "custid": "14",
                                    "order_month": "2020-12",
                                    "running_total_quantity": "10370"
                                },
                                {
                                    "custid": "14",
                                    "order_month": "2021-04",
                                    "running_total_quantity": "10519"
                                },
                                {
                                    "custid": "14",
                                    "order_month": "2021-11",
                                    "running_total_quantity": "10731"
                                },
                                {
                                    "custid": "14",
                                    "order_month": "2021-11",
                                    "running_total_quantity": "21477"
                                },
                                {
                                    "custid": "14",
                                    "order_month": "2022-03",
                                    "running_total_quantity": "10966"
                                },
                                {
                                    "custid": "14",
                                    "order_month": "2022-04",
                                    "running_total_quantity": "11029"
                                },
                                {
                                    "custid": "14",
                                    "order_month": "2022-04",
                                    "running_total_quantity": "22070"
                                },
                                {
                                    "custid": "15",
                                    "order_month": "2020-08",
                                    "running_total_quantity": "10290"
                                },
                                {
                                    "custid": "15",
                                    "order_month": "2021-03",
                                    "running_total_quantity": "10466"
                                },
                                {
                                    "custid": "15",
                                    "order_month": "2021-04",
                                    "running_total_quantity": "10494"
                                },
                                {
                                    "custid": "15",
                                    "order_month": "2022-03",
                                    "running_total_quantity": "10969"
                                },
                                {
                                    "custid": "15",
                                    "order_month": "2022-04",
                                    "running_total_quantity": "11042"
                                },
                                {
                                    "custid": "16",
                                    "order_month": "2021-02",
                                    "running_total_quantity": "10435"
                                },
                                {
                                    "custid": "16",
                                    "order_month": "2021-03",
                                    "running_total_quantity": "10462"
                                },
                                {
                                    "custid": "16",
                                    "order_month": "2022-01",
                                    "running_total_quantity": "10848"
                                },
                                {
                                    "custid": "17",
                                    "order_month": "2020-11",
                                    "running_total_quantity": "10363"
                                },
                                {
                                    "custid": "17",
                                    "order_month": "2020-12",
                                    "running_total_quantity": "10391"
                                },
                                {
                                    "custid": "17",
                                    "order_month": "2021-12",
                                    "running_total_quantity": "10797"
                                },
                                {
                                    "custid": "17",
                                    "order_month": "2022-01",
                                    "running_total_quantity": "10825"
                                },
                                {
                                    "custid": "17",
                                    "order_month": "2022-04",
                                    "running_total_quantity": "11036"
                                },
                                {
                                    "custid": "17",
                                    "order_month": "2022-05",
                                    "running_total_quantity": "11067"
                                },
                                {
                                    "custid": "18",
                                    "order_month": "2020-09",
                                    "running_total_quantity": "10311"
                                },
                                {
                                    "custid": "18",
                                    "order_month": "2021-07",
                                    "running_total_quantity": "10609"
                                },
                                {
                                    "custid": "18",
                                    "order_month": "2021-09",
                                    "running_total_quantity": "10683"
                                },
                                {
                                    "custid": "18",
                                    "order_month": "2022-02",
                                    "running_total_quantity": "10890"
                                },
                                {
                                    "custid": "19",
                                    "order_month": "2020-11",
                                    "running_total_quantity": "10364"
                                },
                                {
                                    "custid": "19",
                                    "order_month": "2021-01",
                                    "running_total_quantity": "10400"
                                },
                                {
                                    "custid": "19",
                                    "order_month": "2021-05",
                                    "running_total_quantity": "10532"
                                },
                                {
                                    "custid": "19",
                                    "order_month": "2021-11",
                                    "running_total_quantity": "10726"
                                },
                                {
                                    "custid": "19",
                                    "order_month": "2022-03",
                                    "running_total_quantity": "10987"
                                },
                                {
                                    "custid": "19",
                                    "order_month": "2022-04",
                                    "running_total_quantity": "11024"
                                },
                                {
                                    "custid": "19",
                                    "order_month": "2022-04",
                                    "running_total_quantity": "22071"
                                },
                                {
                                    "custid": "19",
                                    "order_month": "2022-04",
                                    "running_total_quantity": "33127"
                                },
                                {
                                    "custid": "20",
                                    "order_month": "2020-07",
                                    "running_total_quantity": "10258"
                                },
                                {
                                    "custid": "20",
                                    "order_month": "2020-07",
                                    "running_total_quantity": "20521"
                                },
                                {
                                    "custid": "20",
                                    "order_month": "2020-11",
                                    "running_total_quantity": "10351"
                                },
                                {
                                    "custid": "20",
                                    "order_month": "2020-11",
                                    "running_total_quantity": "20719"
                                },
                                {
                                    "custid": "20",
                                    "order_month": "2020-12",
                                    "running_total_quantity": "10382"
                                },
                                {
                                    "custid": "20",
                                    "order_month": "2020-12",
                                    "running_total_quantity": "20772"
                                },
                                {
                                    "custid": "20",
                                    "order_month": "2021-01",
                                    "running_total_quantity": "10402"
                                },
                                {
                                    "custid": "20",
                                    "order_month": "2021-01",
                                    "running_total_quantity": "20805"
                                },
                                {
                                    "custid": "20",
                                    "order_month": "2021-01",
                                    "running_total_quantity": "31235"
                                },
                                {
                                    "custid": "20",
                                    "order_month": "2021-02",
                                    "running_total_quantity": "10442"
                                },
                                {
                                    "custid": "20",
                                    "order_month": "2021-04",
                                    "running_total_quantity": "10514"
                                },
                                {
                                    "custid": "20",
                                    "order_month": "2021-06",
                                    "running_total_quantity": "10571"
                                },
                                {
                                    "custid": "20",
                                    "order_month": "2021-07",
                                    "running_total_quantity": "10595"
                                },
                                {
                                    "custid": "20",
                                    "order_month": "2021-08",
                                    "running_total_quantity": "10633"
                                },
                                {
                                    "custid": "20",
                                    "order_month": "2021-09",
                                    "running_total_quantity": "10667"
                                },
                                {
                                    "custid": "20",
                                    "order_month": "2021-10",
                                    "running_total_quantity": "10698"
                                },
                                {
                                    "custid": "20",
                                    "order_month": "2021-12",
                                    "running_total_quantity": "10764"
                                },
                                {
                                    "custid": "20",
                                    "order_month": "2021-12",
                                    "running_total_quantity": "21535"
                                },
                                {
                                    "custid": "20",
                                    "order_month": "2021-12",
                                    "running_total_quantity": "32308"
                                },
                                {
                                    "custid": "20",
                                    "order_month": "2021-12",
                                    "running_total_quantity": "43084"
                                },
                                {
                                    "custid": "20",
                                    "order_month": "2021-12",
                                    "running_total_quantity": "53879"
                                },
                                {
                                    "custid": "20",
                                    "order_month": "2022-01",
                                    "running_total_quantity": "10836"
                                },
                                {
                                    "custid": "20",
                                    "order_month": "2022-01",
                                    "running_total_quantity": "21690"
                                },
                                {
                                    "custid": "20",
                                    "order_month": "2022-02",
                                    "running_total_quantity": "10895"
                                },
                                {
                                    "custid": "20",
                                    "order_month": "2022-03",
                                    "running_total_quantity": "10968"
                                },
                                {
                                    "custid": "20",
                                    "order_month": "2022-03",
                                    "running_total_quantity": "21947"
                                },
                                {
                                    "custid": "20",
                                    "order_month": "2022-04",
                                    "running_total_quantity": "10990"
                                },
                                {
                                    "custid": "20",
                                    "order_month": "2022-04",
                                    "running_total_quantity": "21998"
                                },
                                {
                                    "custid": "20",
                                    "order_month": "2022-04",
                                    "running_total_quantity": "33015"
                                },
                                {
                                    "custid": "20",
                                    "order_month": "2022-05",
                                    "running_total_quantity": "11072"
                                },
                                {
                                    "custid": "21",
                                    "order_month": "2020-11",
                                    "running_total_quantity": "10347"
                                },
                                {
                                    "custid": "21",
                                    "order_month": "2020-12",
                                    "running_total_quantity": "10386"
                                },
                                {
                                    "custid": "21",
                                    "order_month": "2021-01",
                                    "running_total_quantity": "10414"
                                },
                                {
                                    "custid": "21",
                                    "order_month": "2021-04",
                                    "running_total_quantity": "10512"
                                },
                                {
                                    "custid": "21",
                                    "order_month": "2021-06",
                                    "running_total_quantity": "10581"
                                },
                                {
                                    "custid": "21",
                                    "order_month": "2021-08",
                                    "running_total_quantity": "10650"
                                },
                                {
                                    "custid": "21",
                                    "order_month": "2021-10",
                                    "running_total_quantity": "10725"
                                },
                                {
                                    "custid": "23",
                                    "order_month": "2021-01",
                                    "running_total_quantity": "10408"
                                },
                                {
                                    "custid": "23",
                                    "order_month": "2021-03",
                                    "running_total_quantity": "10480"
                                },
                                {
                                    "custid": "23",
                                    "order_month": "2021-08",
                                    "running_total_quantity": "10634"
                                },
                                {
                                    "custid": "23",
                                    "order_month": "2021-12",
                                    "running_total_quantity": "10763"
                                },
                                {
                                    "custid": "23",
                                    "order_month": "2021-12",
                                    "running_total_quantity": "21552"
                                },
                                {
                                    "custid": "24",
                                    "order_month": "2020-07",
                                    "running_total_quantity": "10264"
                                },
                                {
                                    "custid": "24",
                                    "order_month": "2020-10",
                                    "running_total_quantity": "10327"
                                },
                                {
                                    "custid": "24",
                                    "order_month": "2020-12",
                                    "running_total_quantity": "10378"
                                },
                                {
                                    "custid": "24",
                                    "order_month": "2021-02",
                                    "running_total_quantity": "10434"
                                },
                                {
                                    "custid": "24",
                                    "order_month": "2021-02",
                                    "running_total_quantity": "20894"
                                },
                                {
                                    "custid": "24",
                                    "order_month": "2021-05",
                                    "running_total_quantity": "10533"
                                },
                                {
                                    "custid": "24",
                                    "order_month": "2021-06",
                                    "running_total_quantity": "10561"
                                },
                                {
                                    "custid": "24",
                                    "order_month": "2021-10",
                                    "running_total_quantity": "10703"
                                },
                                {
                                    "custid": "24",
                                    "order_month": "2021-12",
                                    "running_total_quantity": "10762"
                                },
                                {
                                    "custid": "24",
                                    "order_month": "2021-12",
                                    "running_total_quantity": "21536"
                                },
                                {
                                    "custid": "24",
                                    "order_month": "2022-01",
                                    "running_total_quantity": "10824"
                                },
                                {
                                    "custid": "24",
                                    "order_month": "2022-02",
                                    "running_total_quantity": "10880"
                                },
                                {
                                    "custid": "24",
                                    "order_month": "2022-02",
                                    "running_total_quantity": "21782"
                                },
                                {
                                    "custid": "24",
                                    "order_month": "2022-03",
                                    "running_total_quantity": "10955"
                                },
                                {
                                    "custid": "24",
                                    "order_month": "2022-03",
                                    "running_total_quantity": "21932"
                                },
                                {
                                    "custid": "24",
                                    "order_month": "2022-03",
                                    "running_total_quantity": "32912"
                                },
                                {
                                    "custid": "24",
                                    "order_month": "2022-04",
                                    "running_total_quantity": "10993"
                                },
                                {
                                    "custid": "24",
                                    "order_month": "2022-04",
                                    "running_total_quantity": "21994"
                                },
                                {
                                    "custid": "24",
                                    "order_month": "2022-04",
                                    "running_total_quantity": "33044"
                                },
                                {
                                    "custid": "25",
                                    "order_month": "2020-07",
                                    "running_total_quantity": "10267"
                                },
                                {
                                    "custid": "25",
                                    "order_month": "2020-10",
                                    "running_total_quantity": "10337"
                                },
                                {
                                    "custid": "25",
                                    "order_month": "2020-10",
                                    "running_total_quantity": "20679"
                                },
                                {
                                    "custid": "25",
                                    "order_month": "2020-12",
                                    "running_total_quantity": "10396"
                                },
                                {
                                    "custid": "25",
                                    "order_month": "2021-03",
                                    "running_total_quantity": "10488"
                                },
                                {
                                    "custid": "25",
                                    "order_month": "2021-06",
                                    "running_total_quantity": "10560"
                                },
                                {
                                    "custid": "25",
                                    "order_month": "2021-08",
                                    "running_total_quantity": "10623"
                                },
                                {
                                    "custid": "25",
                                    "order_month": "2021-09",
                                    "running_total_quantity": "10653"
                                },
                                {
                                    "custid": "25",
                                    "order_month": "2021-09",
                                    "running_total_quantity": "21323"
                                },
                                {
                                    "custid": "25",
                                    "order_month": "2021-09",
                                    "running_total_quantity": "31998"
                                },
                                {
                                    "custid": "25",
                                    "order_month": "2021-10",
                                    "running_total_quantity": "10717"
                                },
                                {
                                    "custid": "25",
                                    "order_month": "2021-12",
                                    "running_total_quantity": "10791"
                                },
                                {
                                    "custid": "25",
                                    "order_month": "2022-01",
                                    "running_total_quantity": "10859"
                                },
                                {
                                    "custid": "25",
                                    "order_month": "2022-03",
                                    "running_total_quantity": "10929"
                                },
                                {
                                    "custid": "25",
                                    "order_month": "2022-04",
                                    "running_total_quantity": "11012"
                                },
                                {
                                    "custid": "26",
                                    "order_month": "2021-09",
                                    "running_total_quantity": "10671"
                                },
                                {
                                    "custid": "26",
                                    "order_month": "2022-01",
                                    "running_total_quantity": "10860"
                                },
                                {
                                    "custid": "26",
                                    "order_month": "2022-03",
                                    "running_total_quantity": "10971"
                                },
                                {
                                    "custid": "27",
                                    "order_month": "2021-01",
                                    "running_total_quantity": "10422"
                                },
                                {
                                    "custid": "27",
                                    "order_month": "2021-10",
                                    "running_total_quantity": "10710"
                                },
                                {
                                    "custid": "27",
                                    "order_month": "2021-11",
                                    "running_total_quantity": "10753"
                                },
                                {
                                    "custid": "27",
                                    "order_month": "2021-12",
                                    "running_total_quantity": "10807"
                                },
                                {
                                    "custid": "27",
                                    "order_month": "2022-04",
                                    "running_total_quantity": "11026"
                                },
                                {
                                    "custid": "27",
                                    "order_month": "2022-04",
                                    "running_total_quantity": "22086"
                                },
                                {
                                    "custid": "28",
                                    "order_month": "2020-10",
                                    "running_total_quantity": "10328"
                                },
                                {
                                    "custid": "28",
                                    "order_month": "2020-11",
                                    "running_total_quantity": "10352"
                                },
                                {
                                    "custid": "28",
                                    "order_month": "2021-03",
                                    "running_total_quantity": "10464"
                                },
                                {
                                    "custid": "28",
                                    "order_month": "2021-03",
                                    "running_total_quantity": "20955"
                                },
                                {
                                    "custid": "28",
                                    "order_month": "2021-05",
                                    "running_total_quantity": "10551"
                                },
                                {
                                    "custid": "28",
                                    "order_month": "2021-07",
                                    "running_total_quantity": "10604"
                                },
                                {
                                    "custid": "28",
                                    "order_month": "2021-09",
                                    "running_total_quantity": "10664"
                                },
                                {
                                    "custid": "28",
                                    "order_month": "2022-03",
                                    "running_total_quantity": "10963"
                                },
                                {
                                    "custid": "29",
                                    "order_month": "2020-11",
                                    "running_total_quantity": "10366"
                                },
                                {
                                    "custid": "29",
                                    "order_month": "2021-01",
                                    "running_total_quantity": "10426"
                                },
                                {
                                    "custid": "29",
                                    "order_month": "2021-06",
                                    "running_total_quantity": "10568"
                                },
                                {
                                    "custid": "29",
                                    "order_month": "2022-02",
                                    "running_total_quantity": "10887"
                                },
                                {
                                    "custid": "29",
                                    "order_month": "2022-03",
                                    "running_total_quantity": "10928"
                                },
                                {
                                    "custid": "30",
                                    "order_month": "2020-09",
                                    "running_total_quantity": "10303"
                                },
                                {
                                    "custid": "30",
                                    "order_month": "2021-05",
                                    "running_total_quantity": "10550"
                                },
                                {
                                    "custid": "30",
                                    "order_month": "2021-08",
                                    "running_total_quantity": "10629"
                                },
                                {
                                    "custid": "30",
                                    "order_month": "2022-02",
                                    "running_total_quantity": "10872"
                                },
                                {
                                    "custid": "30",
                                    "order_month": "2022-02",
                                    "running_total_quantity": "21746"
                                },
                                {
                                    "custid": "30",
                                    "order_month": "2022-02",
                                    "running_total_quantity": "32634"
                                },
                                {
                                    "custid": "30",
                                    "order_month": "2022-02",
                                    "running_total_quantity": "43545"
                                },
                                {
                                    "custid": "30",
                                    "order_month": "2022-03",
                                    "running_total_quantity": "10948"
                                },
                                {
                                    "custid": "30",
                                    "order_month": "2022-04",
                                    "running_total_quantity": "11009"
                                },
                                {
                                    "custid": "30",
                                    "order_month": "2022-04",
                                    "running_total_quantity": "22046"
                                },
                                {
                                    "custid": "31",
                                    "order_month": "2021-01",
                                    "running_total_quantity": "10423"
                                },
                                {
                                    "custid": "31",
                                    "order_month": "2021-09",
                                    "running_total_quantity": "10652"
                                },
                                {
                                    "custid": "31",
                                    "order_month": "2021-09",
                                    "running_total_quantity": "21337"
                                },
                                {
                                    "custid": "31",
                                    "order_month": "2021-10",
                                    "running_total_quantity": "10709"
                                },
                                {
                                    "custid": "31",
                                    "order_month": "2021-11",
                                    "running_total_quantity": "10734"
                                },
                                {
                                    "custid": "31",
                                    "order_month": "2021-12",
                                    "running_total_quantity": "10777"
                                },
                                {
                                    "custid": "31",
                                    "order_month": "2021-12",
                                    "running_total_quantity": "21567"
                                },
                                {
                                    "custid": "31",
                                    "order_month": "2022-03",
                                    "running_total_quantity": "10959"
                                },
                                {
                                    "custid": "31",
                                    "order_month": "2022-04",
                                    "running_total_quantity": "11049"
                                },
                                {
                                    "custid": "32",
                                    "order_month": "2021-05",
                                    "running_total_quantity": "10528"
                                },
                                {
                                    "custid": "32",
                                    "order_month": "2021-07",
                                    "running_total_quantity": "10589"
                                },
                                {
                                    "custid": "32",
                                    "order_month": "2021-07",
                                    "running_total_quantity": "21205"
                                },
                                {
                                    "custid": "32",
                                    "order_month": "2021-07",
                                    "running_total_quantity": "31822"
                                },
                                {
                                    "custid": "32",
                                    "order_month": "2021-09",
                                    "running_total_quantity": "10656"
                                },
                                {
                                    "custid": "32",
                                    "order_month": "2021-09",
                                    "running_total_quantity": "21337"
                                },
                                {
                                    "custid": "32",
                                    "order_month": "2022-01",
                                    "running_total_quantity": "10816"
                                },
                                {
                                    "custid": "32",
                                    "order_month": "2022-03",
                                    "running_total_quantity": "10936"
                                },
                                {
                                    "custid": "32",
                                    "order_month": "2022-04",
                                    "running_total_quantity": "11006"
                                },
                                {
                                    "custid": "32",
                                    "order_month": "2022-04",
                                    "running_total_quantity": "22046"
                                },
                                {
                                    "custid": "32",
                                    "order_month": "2022-04",
                                    "running_total_quantity": "33107"
                                },
                                {
                                    "custid": "33",
                                    "order_month": "2020-07",
                                    "running_total_quantity": "10268"
                                },
                                {
                                    "custid": "33",
                                    "order_month": "2021-12",
                                    "running_total_quantity": "10785"
                                },
                                {
                                    "custid": "34",
                                    "order_month": "2020-07",
                                    "running_total_quantity": "10250"
                                },
                                {
                                    "custid": "34",
                                    "order_month": "2020-07",
                                    "running_total_quantity": "20503"
                                },
                                {
                                    "custid": "34",
                                    "order_month": "2021-05",
                                    "running_total_quantity": "10541"
                                },
                                {
                                    "custid": "34",
                                    "order_month": "2021-08",
                                    "running_total_quantity": "10645"
                                },
                                {
                                    "custid": "34",
                                    "order_month": "2021-10",
                                    "running_total_quantity": "10690"
                                },
                                {
                                    "custid": "34",
                                    "order_month": "2021-12",
                                    "running_total_quantity": "10770"
                                },
                                {
                                    "custid": "34",
                                    "order_month": "2021-12",
                                    "running_total_quantity": "21553"
                                },
                                {
                                    "custid": "34",
                                    "order_month": "2022-02",
                                    "running_total_quantity": "10886"
                                },
                                {
                                    "custid": "34",
                                    "order_month": "2022-02",
                                    "running_total_quantity": "21789"
                                },
                                {
                                    "custid": "34",
                                    "order_month": "2022-03",
                                    "running_total_quantity": "10922"
                                },
                                {
                                    "custid": "34",
                                    "order_month": "2022-03",
                                    "running_total_quantity": "21847"
                                },
                                {
                                    "custid": "34",
                                    "order_month": "2022-03",
                                    "running_total_quantity": "32828"
                                },
                                {
                                    "custid": "34",
                                    "order_month": "2022-04",
                                    "running_total_quantity": "11022"
                                },
                                {
                                    "custid": "34",
                                    "order_month": "2022-04",
                                    "running_total_quantity": "22074"
                                },
                                {
                                    "custid": "35",
                                    "order_month": "2020-07",
                                    "running_total_quantity": "10257"
                                },
                                {
                                    "custid": "35",
                                    "order_month": "2020-12",
                                    "running_total_quantity": "10395"
                                },
                                {
                                    "custid": "35",
                                    "order_month": "2021-03",
                                    "running_total_quantity": "10476"
                                },
                                {
                                    "custid": "35",
                                    "order_month": "2021-03",
                                    "running_total_quantity": "20962"
                                },
                                {
                                    "custid": "35",
                                    "order_month": "2021-03",
                                    "running_total_quantity": "31452"
                                },
                                {
                                    "custid": "35",
                                    "order_month": "2021-04",
                                    "running_total_quantity": "10498"
                                },
                                {
                                    "custid": "35",
                                    "order_month": "2021-05",
                                    "running_total_quantity": "10552"
                                },
                                {
                                    "custid": "35",
                                    "order_month": "2021-07",
                                    "running_total_quantity": "10601"
                                },
                                {
                                    "custid": "35",
                                    "order_month": "2021-07",
                                    "running_total_quantity": "21214"
                                },
                                {
                                    "custid": "35",
                                    "order_month": "2021-08",
                                    "running_total_quantity": "10641"
                                },
                                {
                                    "custid": "35",
                                    "order_month": "2021-10",
                                    "running_total_quantity": "10705"
                                },
                                {
                                    "custid": "35",
                                    "order_month": "2021-12",
                                    "running_total_quantity": "10796"
                                },
                                {
                                    "custid": "35",
                                    "order_month": "2022-02",
                                    "running_total_quantity": "10863"
                                },
                                {
                                    "custid": "35",
                                    "order_month": "2022-02",
                                    "running_total_quantity": "21764"
                                },
                                {
                                    "custid": "35",
                                    "order_month": "2022-03",
                                    "running_total_quantity": "10957"
                                },
                                {
                                    "custid": "35",
                                    "order_month": "2022-03",
                                    "running_total_quantity": "21917"
                                },
                                {
                                    "custid": "35",
                                    "order_month": "2022-03",
                                    "running_total_quantity": "32893"
                                },
                                {
                                    "custid": "35",
                                    "order_month": "2022-04",
                                    "running_total_quantity": "11055"
                                },
                                {
                                    "custid": "36",
                                    "order_month": "2020-12",
                                    "running_total_quantity": "10375"
                                },
                                {
                                    "custid": "36",
                                    "order_month": "2020-12",
                                    "running_total_quantity": "20769"
                                },
                                {
                                    "custid": "36",
                                    "order_month": "2021-01",
                                    "running_total_quantity": "10415"
                                },
                                {
                                    "custid": "36",
                                    "order_month": "2021-07",
                                    "running_total_quantity": "10600"
                                },
                                {
                                    "custid": "36",
                                    "order_month": "2021-09",
                                    "running_total_quantity": "10660"
                                },
                                {
                                    "custid": "37",
                                    "order_month": "2020-09",
                                    "running_total_quantity": "10298"
                                },
                                {
                                    "custid": "37",
                                    "order_month": "2020-09",
                                    "running_total_quantity": "20607"
                                },
                                {
                                    "custid": "37",
                                    "order_month": "2020-10",
                                    "running_total_quantity": "10335"
                                },
                                {
                                    "custid": "37",
                                    "order_month": "2020-12",
                                    "running_total_quantity": "10373"
                                },
                                {
                                    "custid": "37",
                                    "order_month": "2020-12",
                                    "running_total_quantity": "20753"
                                },
                                {
                                    "custid": "37",
                                    "order_month": "2021-01",
                                    "running_total_quantity": "10429"
                                },
                                {
                                    "custid": "37",
                                    "order_month": "2021-04",
                                    "running_total_quantity": "10503"
                                },
                                {
                                    "custid": "37",
                                    "order_month": "2021-04",
                                    "running_total_quantity": "21019"
                                },
                                {
                                    "custid": "37",
                                    "order_month": "2021-06",
                                    "running_total_quantity": "10567"
                                },
                                {
                                    "custid": "37",
                                    "order_month": "2021-08",
                                    "running_total_quantity": "10646"
                                },
                                {
                                    "custid": "37",
                                    "order_month": "2021-09",
                                    "running_total_quantity": "10661"
                                },
                                {
                                    "custid": "37",
                                    "order_month": "2021-09",
                                    "running_total_quantity": "21348"
                                },
                                {
                                    "custid": "37",
                                    "order_month": "2021-10",
                                    "running_total_quantity": "10701"
                                },
                                {
                                    "custid": "37",
                                    "order_month": "2021-10",
                                    "running_total_quantity": "21413"
                                },
                                {
                                    "custid": "37",
                                    "order_month": "2021-11",
                                    "running_total_quantity": "10736"
                                },
                                {
                                    "custid": "37",
                                    "order_month": "2022-02",
                                    "running_total_quantity": "10897"
                                },
                                {
                                    "custid": "37",
                                    "order_month": "2022-02",
                                    "running_total_quantity": "21809"
                                },
                                {
                                    "custid": "37",
                                    "order_month": "2022-03",
                                    "running_total_quantity": "10985"
                                },
                                {
                                    "custid": "37",
                                    "order_month": "2022-04",
                                    "running_total_quantity": "11063"
                                },
                                {
                                    "custid": "38",
                                    "order_month": "2020-09",
                                    "running_total_quantity": "10315"
                                },
                                {
                                    "custid": "38",
                                    "order_month": "2020-10",
                                    "running_total_quantity": "10318"
                                },
                                {
                                    "custid": "38",
                                    "order_month": "2020-10",
                                    "running_total_quantity": "20639"
                                },
                                {
                                    "custid": "38",
                                    "order_month": "2021-03",
                                    "running_total_quantity": "10473"
                                },
                                {
                                    "custid": "38",
                                    "order_month": "2021-08",
                                    "running_total_quantity": "10621"
                                },
                                {
                                    "custid": "38",
                                    "order_month": "2021-09",
                                    "running_total_quantity": "10674"
                                },
                                {
                                    "custid": "38",
                                    "order_month": "2021-11",
                                    "running_total_quantity": "10749"
                                },
                                {
                                    "custid": "38",
                                    "order_month": "2021-12",
                                    "running_total_quantity": "10798"
                                },
                                {
                                    "custid": "38",
                                    "order_month": "2022-01",
                                    "running_total_quantity": "10829"
                                },
                                {
                                    "custid": "38",
                                    "order_month": "2022-03",
                                    "running_total_quantity": "10933"
                                },
                                {
                                    "custid": "39",
                                    "order_month": "2020-10",
                                    "running_total_quantity": "10323"
                                },
                                {
                                    "custid": "39",
                                    "order_month": "2020-10",
                                    "running_total_quantity": "20648"
                                },
                                {
                                    "custid": "39",
                                    "order_month": "2021-02",
                                    "running_total_quantity": "10456"
                                },
                                {
                                    "custid": "39",
                                    "order_month": "2021-02",
                                    "running_total_quantity": "20913"
                                },
                                {
                                    "custid": "39",
                                    "order_month": "2021-03",
                                    "running_total_quantity": "10468"
                                },
                                {
                                    "custid": "39",
                                    "order_month": "2021-04",
                                    "running_total_quantity": "10506"
                                },
                                {
                                    "custid": "39",
                                    "order_month": "2021-05",
                                    "running_total_quantity": "10542"
                                },
                                {
                                    "custid": "39",
                                    "order_month": "2021-08",
                                    "running_total_quantity": "10630"
                                },
                                {
                                    "custid": "39",
                                    "order_month": "2021-10",
                                    "running_total_quantity": "10718"
                                },
                                {
                                    "custid": "39",
                                    "order_month": "2021-12",
                                    "running_total_quantity": "10799"
                                },
                                {
                                    "custid": "39",
                                    "order_month": "2022-01",
                                    "running_total_quantity": "10817"
                                },
                                {
                                    "custid": "39",
                                    "order_month": "2022-01",
                                    "running_total_quantity": "21666"
                                },
                                {
                                    "custid": "39",
                                    "order_month": "2022-02",
                                    "running_total_quantity": "10893"
                                },
                                {
                                    "custid": "39",
                                    "order_month": "2022-04",
                                    "running_total_quantity": "11028"
                                },
                                {
                                    "custid": "40",
                                    "order_month": "2022-01",
                                    "running_total_quantity": "10858"
                                },
                                {
                                    "custid": "40",
                                    "order_month": "2022-03",
                                    "running_total_quantity": "10927"
                                },
                                {
                                    "custid": "40",
                                    "order_month": "2022-03",
                                    "running_total_quantity": "21899"
                                },
                                {
                                    "custid": "40",
                                    "order_month": "2022-03",
                                    "running_total_quantity": "32872"
                                },
                                {
                                    "custid": "41",
                                    "order_month": "2020-11",
                                    "running_total_quantity": "10350"
                                },
                                {
                                    "custid": "41",
                                    "order_month": "2020-11",
                                    "running_total_quantity": "20708"
                                },
                                {
                                    "custid": "41",
                                    "order_month": "2020-12",
                                    "running_total_quantity": "10371"
                                },
                                {
                                    "custid": "41",
                                    "order_month": "2021-01",
                                    "running_total_quantity": "10413"
                                },
                                {
                                    "custid": "41",
                                    "order_month": "2021-01",
                                    "running_total_quantity": "20838"
                                },
                                {
                                    "custid": "41",
                                    "order_month": "2021-02",
                                    "running_total_quantity": "10454"
                                },
                                {
                                    "custid": "41",
                                    "order_month": "2021-04",
                                    "running_total_quantity": "10493"
                                },
                                {
                                    "custid": "41",
                                    "order_month": "2021-04",
                                    "running_total_quantity": "20993"
                                },
                                {
                                    "custid": "41",
                                    "order_month": "2021-07",
                                    "running_total_quantity": "10610"
                                },
                                {
                                    "custid": "41",
                                    "order_month": "2021-08",
                                    "running_total_quantity": "10631"
                                },
                                {
                                    "custid": "41",
                                    "order_month": "2021-12",
                                    "running_total_quantity": "10787"
                                },
                                {
                                    "custid": "41",
                                    "order_month": "2022-01",
                                    "running_total_quantity": "10832"
                                },
                                {
                                    "custid": "41",
                                    "order_month": "2022-03",
                                    "running_total_quantity": "10923"
                                },
                                {
                                    "custid": "41",
                                    "order_month": "2022-04",
                                    "running_total_quantity": "11051"
                                },
                                {
                                    "custid": "42",
                                    "order_month": "2021-04",
                                    "running_total_quantity": "10495"
                                },
                                {
                                    "custid": "42",
                                    "order_month": "2021-08",
                                    "running_total_quantity": "10620"
                                },
                                {
                                    "custid": "42",
                                    "order_month": "2022-01",
                                    "running_total_quantity": "10810"
                                },
                                {
                                    "custid": "43",
                                    "order_month": "2021-03",
                                    "running_total_quantity": "10482"
                                },
                                {
                                    "custid": "43",
                                    "order_month": "2021-05",
                                    "running_total_quantity": "10545"
                                },
                                {
                                    "custid": "44",
                                    "order_month": "2020-08",
                                    "running_total_quantity": "10279"
                                },
                                {
                                    "custid": "44",
                                    "order_month": "2020-08",
                                    "running_total_quantity": "20563"
                                },
                                {
                                    "custid": "44",
                                    "order_month": "2020-10",
                                    "running_total_quantity": "10343"
                                },
                                {
                                    "custid": "44",
                                    "order_month": "2021-04",
                                    "running_total_quantity": "10497"
                                },
                                {
                                    "custid": "44",
                                    "order_month": "2021-04",
                                    "running_total_quantity": "21019"
                                },
                                {
                                    "custid": "44",
                                    "order_month": "2021-05",
                                    "running_total_quantity": "10534"
                                },
                                {
                                    "custid": "44",
                                    "order_month": "2021-05",
                                    "running_total_quantity": "21070"
                                },
                                {
                                    "custid": "44",
                                    "order_month": "2021-06",
                                    "running_total_quantity": "10557"
                                },
                                {
                                    "custid": "44",
                                    "order_month": "2021-07",
                                    "running_total_quantity": "10592"
                                },
                                {
                                    "custid": "44",
                                    "order_month": "2021-07",
                                    "running_total_quantity": "21185"
                                },
                                {
                                    "custid": "44",
                                    "order_month": "2021-12",
                                    "running_total_quantity": "10772"
                                },
                                {
                                    "custid": "44",
                                    "order_month": "2022-01",
                                    "running_total_quantity": "10862"
                                },
                                {
                                    "custid": "44",
                                    "order_month": "2022-02",
                                    "running_total_quantity": "10891"
                                },
                                {
                                    "custid": "44",
                                    "order_month": "2022-03",
                                    "running_total_quantity": "10934"
                                },
                                {
                                    "custid": "44",
                                    "order_month": "2022-05",
                                    "running_total_quantity": "11070"
                                },
                                {
                                    "custid": "45",
                                    "order_month": "2021-06",
                                    "running_total_quantity": "10579"
                                },
                                {
                                    "custid": "45",
                                    "order_month": "2021-10",
                                    "running_total_quantity": "10719"
                                },
                                {
                                    "custid": "45",
                                    "order_month": "2021-11",
                                    "running_total_quantity": "10735"
                                },
                                {
                                    "custid": "45",
                                    "order_month": "2022-02",
                                    "running_total_quantity": "10884"
                                },
                                {
                                    "custid": "46",
                                    "order_month": "2020-08",
                                    "running_total_quantity": "10283"
                                },
                                {
                                    "custid": "46",
                                    "order_month": "2020-09",
                                    "running_total_quantity": "10296"
                                },
                                {
                                    "custid": "46",
                                    "order_month": "2020-10",
                                    "running_total_quantity": "10330"
                                },
                                {
                                    "custid": "46",
                                    "order_month": "2020-11",
                                    "running_total_quantity": "10357"
                                },
                                {
                                    "custid": "46",
                                    "order_month": "2020-12",
                                    "running_total_quantity": "10381"
                                },
                                {
                                    "custid": "46",
                                    "order_month": "2021-02",
                                    "running_total_quantity": "10461"
                                },
                                {
                                    "custid": "46",
                                    "order_month": "2021-04",
                                    "running_total_quantity": "10499"
                                },
                                {
                                    "custid": "46",
                                    "order_month": "2021-05",
                                    "running_total_quantity": "10543"
                                },
                                {
                                    "custid": "46",
                                    "order_month": "2021-12",
                                    "running_total_quantity": "10780"
                                },
                                {
                                    "custid": "46",
                                    "order_month": "2022-01",
                                    "running_total_quantity": "10823"
                                },
                                {
                                    "custid": "46",
                                    "order_month": "2022-02",
                                    "running_total_quantity": "10899"
                                },
                                {
                                    "custid": "46",
                                    "order_month": "2022-04",
                                    "running_total_quantity": "10997"
                                },
                                {
                                    "custid": "46",
                                    "order_month": "2022-05",
                                    "running_total_quantity": "11065"
                                },
                                {
                                    "custid": "46",
                                    "order_month": "2022-05",
                                    "running_total_quantity": "22136"
                                },
                                {
                                    "custid": "47",
                                    "order_month": "2021-01",
                                    "running_total_quantity": "10405"
                                },
                                {
                                    "custid": "47",
                                    "order_month": "2021-03",
                                    "running_total_quantity": "10485"
                                },
                                {
                                    "custid": "47",
                                    "order_month": "2021-08",
                                    "running_total_quantity": "10638"
                                },
                                {
                                    "custid": "47",
                                    "order_month": "2021-10",
                                    "running_total_quantity": "10697"
                                },
                                {
                                    "custid": "47",
                                    "order_month": "2021-11",
                                    "running_total_quantity": "10729"
                                },
                                {
                                    "custid": "47",
                                    "order_month": "2022-01",
                                    "running_total_quantity": "10811"
                                },
                                {
                                    "custid": "47",
                                    "order_month": "2022-01",
                                    "running_total_quantity": "21649"
                                },
                                {
                                    "custid": "47",
                                    "order_month": "2022-01",
                                    "running_total_quantity": "32489"
                                },
                                {
                                    "custid": "47",
                                    "order_month": "2022-03",
                                    "running_total_quantity": "10919"
                                },
                                {
                                    "custid": "47",
                                    "order_month": "2022-03",
                                    "running_total_quantity": "21873"
                                },
                                {
                                    "custid": "47",
                                    "order_month": "2022-04",
                                    "running_total_quantity": "11014"
                                },
                                {
                                    "custid": "47",
                                    "order_month": "2022-04",
                                    "running_total_quantity": "22053"
                                },
                                {
                                    "custid": "48",
                                    "order_month": "2020-09",
                                    "running_total_quantity": "10307"
                                },
                                {
                                    "custid": "48",
                                    "order_month": "2020-09",
                                    "running_total_quantity": "20624"
                                },
                                {
                                    "custid": "48",
                                    "order_month": "2021-05",
                                    "running_total_quantity": "10544"
                                },
                                {
                                    "custid": "48",
                                    "order_month": "2021-09",
                                    "running_total_quantity": "10662"
                                },
                                {
                                    "custid": "48",
                                    "order_month": "2021-09",
                                    "running_total_quantity": "21327"
                                },
                                {
                                    "custid": "48",
                                    "order_month": "2022-02",
                                    "running_total_quantity": "10867"
                                },
                                {
                                    "custid": "48",
                                    "order_month": "2022-02",
                                    "running_total_quantity": "21750"
                                },
                                {
                                    "custid": "48",
                                    "order_month": "2022-04",
                                    "running_total_quantity": "11018"
                                },
                                {
                                    "custid": "49",
                                    "order_month": "2020-08",
                                    "running_total_quantity": "10275"
                                },
                                {
                                    "custid": "49",
                                    "order_month": "2020-09",
                                    "running_total_quantity": "10300"
                                },
                                {
                                    "custid": "49",
                                    "order_month": "2021-01",
                                    "running_total_quantity": "10404"
                                },
                                {
                                    "custid": "49",
                                    "order_month": "2021-03",
                                    "running_total_quantity": "10467"
                                },
                                {
                                    "custid": "49",
                                    "order_month": "2021-08",
                                    "running_total_quantity": "10635"
                                },
                                {
                                    "custid": "49",
                                    "order_month": "2021-11",
                                    "running_total_quantity": "10754"
                                },
                                {
                                    "custid": "49",
                                    "order_month": "2021-12",
                                    "running_total_quantity": "10784"
                                },
                                {
                                    "custid": "49",
                                    "order_month": "2022-01",
                                    "running_total_quantity": "10818"
                                },
                                {
                                    "custid": "49",
                                    "order_month": "2022-03",
                                    "running_total_quantity": "10939"
                                },
                                {
                                    "custid": "49",
                                    "order_month": "2022-03",
                                    "running_total_quantity": "21889"
                                },
                                {
                                    "custid": "50",
                                    "order_month": "2021-05",
                                    "running_total_quantity": "10529"
                                },
                                {
                                    "custid": "50",
                                    "order_month": "2021-08",
                                    "running_total_quantity": "10649"
                                },
                                {
                                    "custid": "50",
                                    "order_month": "2021-12",
                                    "running_total_quantity": "10760"
                                },
                                {
                                    "custid": "50",
                                    "order_month": "2022-02",
                                    "running_total_quantity": "10892"
                                },
                                {
                                    "custid": "50",
                                    "order_month": "2022-02",
                                    "running_total_quantity": "21788"
                                },
                                {
                                    "custid": "50",
                                    "order_month": "2022-03",
                                    "running_total_quantity": "10978"
                                },
                                {
                                    "custid": "50",
                                    "order_month": "2022-04",
                                    "running_total_quantity": "11004"
                                },
                                {
                                    "custid": "51",
                                    "order_month": "2020-10",
                                    "running_total_quantity": "10332"
                                },
                                {
                                    "custid": "51",
                                    "order_month": "2020-10",
                                    "running_total_quantity": "20671"
                                },
                                {
                                    "custid": "51",
                                    "order_month": "2020-12",
                                    "running_total_quantity": "10376"
                                },
                                {
                                    "custid": "51",
                                    "order_month": "2021-01",
                                    "running_total_quantity": "10424"
                                },
                                {
                                    "custid": "51",
                                    "order_month": "2021-02",
                                    "running_total_quantity": "10439"
                                },
                                {
                                    "custid": "51",
                                    "order_month": "2021-04",
                                    "running_total_quantity": "10505"
                                },
                                {
                                    "custid": "51",
                                    "order_month": "2021-06",
                                    "running_total_quantity": "10565"
                                },
                                {
                                    "custid": "51",
                                    "order_month": "2021-06",
                                    "running_total_quantity": "21135"
                                },
                                {
                                    "custid": "51",
                                    "order_month": "2021-07",
                                    "running_total_quantity": "10590"
                                },
                                {
                                    "custid": "51",
                                    "order_month": "2021-07",
                                    "running_total_quantity": "21195"
                                },
                                {
                                    "custid": "51",
                                    "order_month": "2021-08",
                                    "running_total_quantity": "10618"
                                },
                                {
                                    "custid": "51",
                                    "order_month": "2021-08",
                                    "running_total_quantity": "21237"
                                },
                                {
                                    "custid": "51",
                                    "order_month": "2021-10",
                                    "running_total_quantity": "10724"
                                },
                                {
                                    "custid": "52",
                                    "order_month": "2020-08",
                                    "running_total_quantity": "10277"
                                },
                                {
                                    "custid": "52",
                                    "order_month": "2021-06",
                                    "running_total_quantity": "10575"
                                },
                                {
                                    "custid": "52",
                                    "order_month": "2021-10",
                                    "running_total_quantity": "10699"
                                },
                                {
                                    "custid": "52",
                                    "order_month": "2021-12",
                                    "running_total_quantity": "10779"
                                },
                                {
                                    "custid": "52",
                                    "order_month": "2022-03",
                                    "running_total_quantity": "10945"
                                },
                                {
                                    "custid": "53",
                                    "order_month": "2021-04",
                                    "running_total_quantity": "10517"
                                },
                                {
                                    "custid": "53",
                                    "order_month": "2021-11",
                                    "running_total_quantity": "10752"
                                },
                                {
                                    "custid": "53",
                                    "order_month": "2022-04",
                                    "running_total_quantity": "11057"
                                },
                                {
                                    "custid": "54",
                                    "order_month": "2021-01",
                                    "running_total_quantity": "10409"
                                },
                                {
                                    "custid": "54",
                                    "order_month": "2021-05",
                                    "running_total_quantity": "10531"
                                },
                                {
                                    "custid": "54",
                                    "order_month": "2022-02",
                                    "running_total_quantity": "10898"
                                },
                                {
                                    "custid": "54",
                                    "order_month": "2022-03",
                                    "running_total_quantity": "10958"
                                },
                                {
                                    "custid": "54",
                                    "order_month": "2022-03",
                                    "running_total_quantity": "21944"
                                },
                                {
                                    "custid": "55",
                                    "order_month": "2020-09",
                                    "running_total_quantity": "10305"
                                },
                                {
                                    "custid": "55",
                                    "order_month": "2020-10",
                                    "running_total_quantity": "10338"
                                },
                                {
                                    "custid": "55",
                                    "order_month": "2021-02",
                                    "running_total_quantity": "10441"
                                },
                                {
                                    "custid": "55",
                                    "order_month": "2021-07",
                                    "running_total_quantity": "10594"
                                },
                                {
                                    "custid": "55",
                                    "order_month": "2021-09",
                                    "running_total_quantity": "10680"
                                },
                                {
                                    "custid": "55",
                                    "order_month": "2021-10",
                                    "running_total_quantity": "10706"
                                },
                                {
                                    "custid": "55",
                                    "order_month": "2022-01",
                                    "running_total_quantity": "10808"
                                },
                                {
                                    "custid": "55",
                                    "order_month": "2022-01",
                                    "running_total_quantity": "21663"
                                },
                                {
                                    "custid": "55",
                                    "order_month": "2022-03",
                                    "running_total_quantity": "10965"
                                },
                                {
                                    "custid": "55",
                                    "order_month": "2022-04",
                                    "running_total_quantity": "11034"
                                },
                                {
                                    "custid": "56",
                                    "order_month": "2020-07",
                                    "running_total_quantity": "10260"
                                },
                                {
                                    "custid": "56",
                                    "order_month": "2021-01",
                                    "running_total_quantity": "10407"
                                },
                                {
                                    "custid": "56",
                                    "order_month": "2021-04",
                                    "running_total_quantity": "10508"
                                },
                                {
                                    "custid": "56",
                                    "order_month": "2021-05",
                                    "running_total_quantity": "10554"
                                },
                                {
                                    "custid": "56",
                                    "order_month": "2021-06",
                                    "running_total_quantity": "10580"
                                },
                                {
                                    "custid": "56",
                                    "order_month": "2021-09",
                                    "running_total_quantity": "10684"
                                },
                                {
                                    "custid": "56",
                                    "order_month": "2021-12",
                                    "running_total_quantity": "10766"
                                },
                                {
                                    "custid": "56",
                                    "order_month": "2022-01",
                                    "running_total_quantity": "10833"
                                },
                                {
                                    "custid": "56",
                                    "order_month": "2022-04",
                                    "running_total_quantity": "10999"
                                },
                                {
                                    "custid": "56",
                                    "order_month": "2022-04",
                                    "running_total_quantity": "22019"
                                },
                                {
                                    "custid": "58",
                                    "order_month": "2020-10",
                                    "running_total_quantity": "10322"
                                },
                                {
                                    "custid": "58",
                                    "order_month": "2020-11",
                                    "running_total_quantity": "10354"
                                },
                                {
                                    "custid": "58",
                                    "order_month": "2021-03",
                                    "running_total_quantity": "10474"
                                },
                                {
                                    "custid": "58",
                                    "order_month": "2021-04",
                                    "running_total_quantity": "10502"
                                },
                                {
                                    "custid": "58",
                                    "order_month": "2022-04",
                                    "running_total_quantity": "10995"
                                },
                                {
                                    "custid": "58",
                                    "order_month": "2022-05",
                                    "running_total_quantity": "11073"
                                },
                                {
                                    "custid": "59",
                                    "order_month": "2020-11",
                                    "running_total_quantity": "10353"
                                },
                                {
                                    "custid": "59",
                                    "order_month": "2020-12",
                                    "running_total_quantity": "10392"
                                },
                                {
                                    "custid": "59",
                                    "order_month": "2021-01",
                                    "running_total_quantity": "10427"
                                },
                                {
                                    "custid": "59",
                                    "order_month": "2021-03",
                                    "running_total_quantity": "10489"
                                },
                                {
                                    "custid": "59",
                                    "order_month": "2021-05",
                                    "running_total_quantity": "10530"
                                },
                                {
                                    "custid": "59",
                                    "order_month": "2021-07",
                                    "running_total_quantity": "10597"
                                },
                                {
                                    "custid": "59",
                                    "order_month": "2021-09",
                                    "running_total_quantity": "10686"
                                },
                                {
                                    "custid": "59",
                                    "order_month": "2021-11",
                                    "running_total_quantity": "10747"
                                },
                                {
                                    "custid": "59",
                                    "order_month": "2022-01",
                                    "running_total_quantity": "10844"
                                },
                                {
                                    "custid": "59",
                                    "order_month": "2022-04",
                                    "running_total_quantity": "11053"
                                },
                                {
                                    "custid": "60",
                                    "order_month": "2020-10",
                                    "running_total_quantity": "10336"
                                },
                                {
                                    "custid": "60",
                                    "order_month": "2020-12",
                                    "running_total_quantity": "10397"
                                },
                                {
                                    "custid": "60",
                                    "order_month": "2021-02",
                                    "running_total_quantity": "10433"
                                },
                                {
                                    "custid": "60",
                                    "order_month": "2021-03",
                                    "running_total_quantity": "10477"
                                },
                                {
                                    "custid": "60",
                                    "order_month": "2022-04",
                                    "running_total_quantity": "11007"
                                },
                                {
                                    "custid": "61",
                                    "order_month": "2020-07",
                                    "running_total_quantity": "10261"
                                },
                                {
                                    "custid": "61",
                                    "order_month": "2020-08",
                                    "running_total_quantity": "10291"
                                },
                                {
                                    "custid": "61",
                                    "order_month": "2020-12",
                                    "running_total_quantity": "10379"
                                },
                                {
                                    "custid": "61",
                                    "order_month": "2021-01",
                                    "running_total_quantity": "10421"
                                },
                                {
                                    "custid": "61",
                                    "order_month": "2021-07",
                                    "running_total_quantity": "10587"
                                },
                                {
                                    "custid": "61",
                                    "order_month": "2021-08",
                                    "running_total_quantity": "10647"
                                },
                                {
                                    "custid": "61",
                                    "order_month": "2021-10",
                                    "running_total_quantity": "10720"
                                },
                                {
                                    "custid": "61",
                                    "order_month": "2021-12",
                                    "running_total_quantity": "10794"
                                },
                                {
                                    "custid": "61",
                                    "order_month": "2022-03",
                                    "running_total_quantity": "10989"
                                },
                                {
                                    "custid": "62",
                                    "order_month": "2020-12",
                                    "running_total_quantity": "10372"
                                },
                                {
                                    "custid": "62",
                                    "order_month": "2021-01",
                                    "running_total_quantity": "10406"
                                },
                                {
                                    "custid": "62",
                                    "order_month": "2021-03",
                                    "running_total_quantity": "10487"
                                },
                                {
                                    "custid": "62",
                                    "order_month": "2021-08",
                                    "running_total_quantity": "10637"
                                },
                                {
                                    "custid": "62",
                                    "order_month": "2021-09",
                                    "running_total_quantity": "10659"
                                },
                                {
                                    "custid": "62",
                                    "order_month": "2021-10",
                                    "running_total_quantity": "10704"
                                },
                                {
                                    "custid": "62",
                                    "order_month": "2021-11",
                                    "running_total_quantity": "10728"
                                },
                                {
                                    "custid": "62",
                                    "order_month": "2021-12",
                                    "running_total_quantity": "10786"
                                },
                                {
                                    "custid": "62",
                                    "order_month": "2022-02",
                                    "running_total_quantity": "10868"
                                },
                                {
                                    "custid": "62",
                                    "order_month": "2022-02",
                                    "running_total_quantity": "21781"
                                },
                                {
                                    "custid": "62",
                                    "order_month": "2022-02",
                                    "running_total_quantity": "32695"
                                },
                                {
                                    "custid": "62",
                                    "order_month": "2022-03",
                                    "running_total_quantity": "10961"
                                },
                                {
                                    "custid": "62",
                                    "order_month": "2022-05",
                                    "running_total_quantity": "11068"
                                },
                                {
                                    "custid": "63",
                                    "order_month": "2020-08",
                                    "running_total_quantity": "10273"
                                },
                                {
                                    "custid": "63",
                                    "order_month": "2020-08",
                                    "running_total_quantity": "20558"
                                },
                                {
                                    "custid": "63",
                                    "order_month": "2020-08",
                                    "running_total_quantity": "30844"
                                },
                                {
                                    "custid": "63",
                                    "order_month": "2020-09",
                                    "running_total_quantity": "10313"
                                },
                                {
                                    "custid": "63",
                                    "order_month": "2020-11",
                                    "running_total_quantity": "10345"
                                },
                                {
                                    "custid": "63",
                                    "order_month": "2020-11",
                                    "running_total_quantity": "20706"
                                },
                                {
                                    "custid": "63",
                                    "order_month": "2021-01",
                                    "running_total_quantity": "10418"
                                },
                                {
                                    "custid": "63",
                                    "order_month": "2021-02",
                                    "running_total_quantity": "10451"
                                },
                                {
                                    "custid": "63",
                                    "order_month": "2021-04",
                                    "running_total_quantity": "10515"
                                },
                                {
                                    "custid": "63",
                                    "order_month": "2021-05",
                                    "running_total_quantity": "10527"
                                },
                                {
                                    "custid": "63",
                                    "order_month": "2021-05",
                                    "running_total_quantity": "21067"
                                },
                                {
                                    "custid": "63",
                                    "order_month": "2021-05",
                                    "running_total_quantity": "31616"
                                },
                                {
                                    "custid": "63",
                                    "order_month": "2021-07",
                                    "running_total_quantity": "10588"
                                },
                                {
                                    "custid": "63",
                                    "order_month": "2021-09",
                                    "running_total_quantity": "10658"
                                },
                                {
                                    "custid": "63",
                                    "order_month": "2021-10",
                                    "running_total_quantity": "10691"
                                },
                                {
                                    "custid": "63",
                                    "order_month": "2021-10",
                                    "running_total_quantity": "21385"
                                },
                                {
                                    "custid": "63",
                                    "order_month": "2021-10",
                                    "running_total_quantity": "32106"
                                },
                                {
                                    "custid": "63",
                                    "order_month": "2021-11",
                                    "running_total_quantity": "10745"
                                },
                                {
                                    "custid": "63",
                                    "order_month": "2021-12",
                                    "running_total_quantity": "10765"
                                },
                                {
                                    "custid": "63",
                                    "order_month": "2021-12",
                                    "running_total_quantity": "21553"
                                },
                                {
                                    "custid": "63",
                                    "order_month": "2022-01",
                                    "running_total_quantity": "10845"
                                },
                                {
                                    "custid": "63",
                                    "order_month": "2022-02",
                                    "running_total_quantity": "10865"
                                },
                                {
                                    "custid": "63",
                                    "order_month": "2022-02",
                                    "running_total_quantity": "21743"
                                },
                                {
                                    "custid": "63",
                                    "order_month": "2022-03",
                                    "running_total_quantity": "10938"
                                },
                                {
                                    "custid": "63",
                                    "order_month": "2022-03",
                                    "running_total_quantity": "21900"
                                },
                                {
                                    "custid": "63",
                                    "order_month": "2022-04",
                                    "running_total_quantity": "10991"
                                },
                                {
                                    "custid": "63",
                                    "order_month": "2022-04",
                                    "running_total_quantity": "21987"
                                },
                                {
                                    "custid": "63",
                                    "order_month": "2022-04",
                                    "running_total_quantity": "33008"
                                },
                                {
                                    "custid": "64",
                                    "order_month": "2021-02",
                                    "running_total_quantity": "10448"
                                },
                                {
                                    "custid": "64",
                                    "order_month": "2021-10",
                                    "running_total_quantity": "10716"
                                },
                                {
                                    "custid": "64",
                                    "order_month": "2022-01",
                                    "running_total_quantity": "10828"
                                },
                                {
                                    "custid": "64",
                                    "order_month": "2022-02",
                                    "running_total_quantity": "10916"
                                },
                                {
                                    "custid": "64",
                                    "order_month": "2022-04",
                                    "running_total_quantity": "11019"
                                },
                                {
                                    "custid": "65",
                                    "order_month": "2020-07",
                                    "running_total_quantity": "10262"
                                },
                                {
                                    "custid": "65",
                                    "order_month": "2020-08",
                                    "running_total_quantity": "10272"
                                },
                                {
                                    "custid": "65",
                                    "order_month": "2020-08",
                                    "running_total_quantity": "20566"
                                },
                                {
                                    "custid": "65",
                                    "order_month": "2020-09",
                                    "running_total_quantity": "10314"
                                },
                                {
                                    "custid": "65",
                                    "order_month": "2020-09",
                                    "running_total_quantity": "20630"
                                },
                                {
                                    "custid": "65",
                                    "order_month": "2020-11",
                                    "running_total_quantity": "10346"
                                },
                                {
                                    "custid": "65",
                                    "order_month": "2021-01",
                                    "running_total_quantity": "10401"
                                },
                                {
                                    "custid": "65",
                                    "order_month": "2021-03",
                                    "running_total_quantity": "10479"
                                },
                                {
                                    "custid": "65",
                                    "order_month": "2021-06",
                                    "running_total_quantity": "10564"
                                },
                                {
                                    "custid": "65",
                                    "order_month": "2021-06",
                                    "running_total_quantity": "21133"
                                },
                                {
                                    "custid": "65",
                                    "order_month": "2021-07",
                                    "running_total_quantity": "10598"
                                },
                                {
                                    "custid": "65",
                                    "order_month": "2021-12",
                                    "running_total_quantity": "10761"
                                },
                                {
                                    "custid": "65",
                                    "order_month": "2022-01",
                                    "running_total_quantity": "10820"
                                },
                                {
                                    "custid": "65",
                                    "order_month": "2022-01",
                                    "running_total_quantity": "21672"
                                },
                                {
                                    "custid": "65",
                                    "order_month": "2022-02",
                                    "running_total_quantity": "10889"
                                },
                                {
                                    "custid": "65",
                                    "order_month": "2022-03",
                                    "running_total_quantity": "10988"
                                },
                                {
                                    "custid": "65",
                                    "order_month": "2022-04",
                                    "running_total_quantity": "11000"
                                },
                                {
                                    "custid": "65",
                                    "order_month": "2022-05",
                                    "running_total_quantity": "11077"
                                },
                                {
                                    "custid": "66",
                                    "order_month": "2020-08",
                                    "running_total_quantity": "10288"
                                },
                                {
                                    "custid": "66",
                                    "order_month": "2021-01",
                                    "running_total_quantity": "10428"
                                },
                                {
                                    "custid": "66",
                                    "order_month": "2021-02",
                                    "running_total_quantity": "10443"
                                },
                                {
                                    "custid": "66",
                                    "order_month": "2021-06",
                                    "running_total_quantity": "10562"
                                },
                                {
                                    "custid": "66",
                                    "order_month": "2021-07",
                                    "running_total_quantity": "10586"
                                },
                                {
                                    "custid": "66",
                                    "order_month": "2021-09",
                                    "running_total_quantity": "10655"
                                },
                                {
                                    "custid": "66",
                                    "order_month": "2021-11",
                                    "running_total_quantity": "10727"
                                },
                                {
                                    "custid": "66",
                                    "order_month": "2022-01",
                                    "running_total_quantity": "10812"
                                },
                                {
                                    "custid": "66",
                                    "order_month": "2022-02",
                                    "running_total_quantity": "10908"
                                },
                                {
                                    "custid": "66",
                                    "order_month": "2022-03",
                                    "running_total_quantity": "10942"
                                },
                                {
                                    "custid": "66",
                                    "order_month": "2022-04",
                                    "running_total_quantity": "11010"
                                },
                                {
                                    "custid": "66",
                                    "order_month": "2022-04",
                                    "running_total_quantity": "22072"
                                },
                                {
                                    "custid": "67",
                                    "order_month": "2020-08",
                                    "running_total_quantity": "10287"
                                },
                                {
                                    "custid": "67",
                                    "order_month": "2020-09",
                                    "running_total_quantity": "10299"
                                },
                                {
                                    "custid": "67",
                                    "order_month": "2021-02",
                                    "running_total_quantity": "10447"
                                },
                                {
                                    "custid": "67",
                                    "order_month": "2021-03",
                                    "running_total_quantity": "10481"
                                },
                                {
                                    "custid": "67",
                                    "order_month": "2021-06",
                                    "running_total_quantity": "10563"
                                },
                                {
                                    "custid": "67",
                                    "order_month": "2021-08",
                                    "running_total_quantity": "10622"
                                },
                                {
                                    "custid": "67",
                                    "order_month": "2021-08",
                                    "running_total_quantity": "21270"
                                },
                                {
                                    "custid": "67",
                                    "order_month": "2022-01",
                                    "running_total_quantity": "10813"
                                },
                                {
                                    "custid": "67",
                                    "order_month": "2022-01",
                                    "running_total_quantity": "21664"
                                },
                                {
                                    "custid": "67",
                                    "order_month": "2022-02",
                                    "running_total_quantity": "10877"
                                },
                                {
                                    "custid": "67",
                                    "order_month": "2022-04",
                                    "running_total_quantity": "11059"
                                },
                                {
                                    "custid": "68",
                                    "order_month": "2020-07",
                                    "running_total_quantity": "10255"
                                },
                                {
                                    "custid": "68",
                                    "order_month": "2021-01",
                                    "running_total_quantity": "10419"
                                },
                                {
                                    "custid": "68",
                                    "order_month": "2021-05",
                                    "running_total_quantity": "10537"
                                },
                                {
                                    "custid": "68",
                                    "order_month": "2021-09",
                                    "running_total_quantity": "10666"
                                },
                                {
                                    "custid": "68",
                                    "order_month": "2021-11",
                                    "running_total_quantity": "10751"
                                },
                                {
                                    "custid": "68",
                                    "order_month": "2021-11",
                                    "running_total_quantity": "21509"
                                },
                                {
                                    "custid": "68",
                                    "order_month": "2022-03",
                                    "running_total_quantity": "10931"
                                },
                                {
                                    "custid": "68",
                                    "order_month": "2022-03",
                                    "running_total_quantity": "21882"
                                },
                                {
                                    "custid": "68",
                                    "order_month": "2022-04",
                                    "running_total_quantity": "11033"
                                },
                                {
                                    "custid": "68",
                                    "order_month": "2022-05",
                                    "running_total_quantity": "11075"
                                },
                                {
                                    "custid": "69",
                                    "order_month": "2020-08",
                                    "running_total_quantity": "10281"
                                },
                                {
                                    "custid": "69",
                                    "order_month": "2020-08",
                                    "running_total_quantity": "20563"
                                },
                                {
                                    "custid": "69",
                                    "order_month": "2020-09",
                                    "running_total_quantity": "10306"
                                },
                                {
                                    "custid": "69",
                                    "order_month": "2022-03",
                                    "running_total_quantity": "10917"
                                },
                                {
                                    "custid": "69",
                                    "order_month": "2022-04",
                                    "running_total_quantity": "11013"
                                },
                                {
                                    "custid": "70",
                                    "order_month": "2020-12",
                                    "running_total_quantity": "10387"
                                },
                                {
                                    "custid": "70",
                                    "order_month": "2021-04",
                                    "running_total_quantity": "10520"
                                },
                                {
                                    "custid": "70",
                                    "order_month": "2021-08",
                                    "running_total_quantity": "10639"
                                },
                                {
                                    "custid": "70",
                                    "order_month": "2022-01",
                                    "running_total_quantity": "10831"
                                },
                                {
                                    "custid": "70",
                                    "order_month": "2022-02",
                                    "running_total_quantity": "10909"
                                },
                                {
                                    "custid": "70",
                                    "order_month": "2022-04",
                                    "running_total_quantity": "11015"
                                },
                                {
                                    "custid": "71",
                                    "order_month": "2020-10",
                                    "running_total_quantity": "10324"
                                },
                                {
                                    "custid": "71",
                                    "order_month": "2020-12",
                                    "running_total_quantity": "10393"
                                },
                                {
                                    "custid": "71",
                                    "order_month": "2020-12",
                                    "running_total_quantity": "20791"
                                },
                                {
                                    "custid": "71",
                                    "order_month": "2021-02",
                                    "running_total_quantity": "10440"
                                },
                                {
                                    "custid": "71",
                                    "order_month": "2021-02",
                                    "running_total_quantity": "20892"
                                },
                                {
                                    "custid": "71",
                                    "order_month": "2021-04",
                                    "running_total_quantity": "10510"
                                },
                                {
                                    "custid": "71",
                                    "order_month": "2021-06",
                                    "running_total_quantity": "10555"
                                },
                                {
                                    "custid": "71",
                                    "order_month": "2021-07",
                                    "running_total_quantity": "10603"
                                },
                                {
                                    "custid": "71",
                                    "order_month": "2021-07",
                                    "running_total_quantity": "21210"
                                },
                                {
                                    "custid": "71",
                                    "order_month": "2021-07",
                                    "running_total_quantity": "31822"
                                },
                                {
                                    "custid": "71",
                                    "order_month": "2021-08",
                                    "running_total_quantity": "10627"
                                },
                                {
                                    "custid": "71",
                                    "order_month": "2021-09",
                                    "running_total_quantity": "10657"
                                },
                                {
                                    "custid": "71",
                                    "order_month": "2021-09",
                                    "running_total_quantity": "21335"
                                },
                                {
                                    "custid": "71",
                                    "order_month": "2021-10",
                                    "running_total_quantity": "10700"
                                },
                                {
                                    "custid": "71",
                                    "order_month": "2021-10",
                                    "running_total_quantity": "21411"
                                },
                                {
                                    "custid": "71",
                                    "order_month": "2021-10",
                                    "running_total_quantity": "32124"
                                },
                                {
                                    "custid": "71",
                                    "order_month": "2021-10",
                                    "running_total_quantity": "42838"
                                },
                                {
                                    "custid": "71",
                                    "order_month": "2021-10",
                                    "running_total_quantity": "53560"
                                },
                                {
                                    "custid": "71",
                                    "order_month": "2021-11",
                                    "running_total_quantity": "10748"
                                },
                                {
                                    "custid": "71",
                                    "order_month": "2021-11",
                                    "running_total_quantity": "21505"
                                },
                                {
                                    "custid": "71",
                                    "order_month": "2022-01",
                                    "running_total_quantity": "10815"
                                },
                                {
                                    "custid": "71",
                                    "order_month": "2022-01",
                                    "running_total_quantity": "21662"
                                },
                                {
                                    "custid": "71",
                                    "order_month": "2022-02",
                                    "running_total_quantity": "10882"
                                },
                                {
                                    "custid": "71",
                                    "order_month": "2022-02",
                                    "running_total_quantity": "21776"
                                },
                                {
                                    "custid": "71",
                                    "order_month": "2022-03",
                                    "running_total_quantity": "10941"
                                },
                                {
                                    "custid": "71",
                                    "order_month": "2022-03",
                                    "running_total_quantity": "21924"
                                },
                                {
                                    "custid": "71",
                                    "order_month": "2022-03",
                                    "running_total_quantity": "32908"
                                },
                                {
                                    "custid": "71",
                                    "order_month": "2022-04",
                                    "running_total_quantity": "11002"
                                },
                                {
                                    "custid": "71",
                                    "order_month": "2022-04",
                                    "running_total_quantity": "22032"
                                },
                                {
                                    "custid": "71",
                                    "order_month": "2022-04",
                                    "running_total_quantity": "33063"
                                },
                                {
                                    "custid": "71",
                                    "order_month": "2022-05",
                                    "running_total_quantity": "11064"
                                },
                                {
                                    "custid": "72",
                                    "order_month": "2020-11",
                                    "running_total_quantity": "10359"
                                },
                                {
                                    "custid": "72",
                                    "order_month": "2020-12",
                                    "running_total_quantity": "10377"
                                },
                                {
                                    "custid": "72",
                                    "order_month": "2020-12",
                                    "running_total_quantity": "20765"
                                },
                                {
                                    "custid": "72",
                                    "order_month": "2021-03",
                                    "running_total_quantity": "10472"
                                },
                                {
                                    "custid": "72",
                                    "order_month": "2021-05",
                                    "running_total_quantity": "10523"
                                },
                                {
                                    "custid": "72",
                                    "order_month": "2021-05",
                                    "running_total_quantity": "21070"
                                },
                                {
                                    "custid": "72",
                                    "order_month": "2021-12",
                                    "running_total_quantity": "10800"
                                },
                                {
                                    "custid": "72",
                                    "order_month": "2021-12",
                                    "running_total_quantity": "21604"
                                },
                                {
                                    "custid": "72",
                                    "order_month": "2022-02",
                                    "running_total_quantity": "10869"
                                },
                                {
                                    "custid": "73",
                                    "order_month": "2020-10",
                                    "running_total_quantity": "10341"
                                },
                                {
                                    "custid": "73",
                                    "order_month": "2021-01",
                                    "running_total_quantity": "10417"
                                },
                                {
                                    "custid": "73",
                                    "order_month": "2021-06",
                                    "running_total_quantity": "10556"
                                },
                                {
                                    "custid": "73",
                                    "order_month": "2021-08",
                                    "running_total_quantity": "10642"
                                },
                                {
                                    "custid": "73",
                                    "order_month": "2021-09",
                                    "running_total_quantity": "10669"
                                },
                                {
                                    "custid": "73",
                                    "order_month": "2021-12",
                                    "running_total_quantity": "10802"
                                },
                                {
                                    "custid": "73",
                                    "order_month": "2022-05",
                                    "running_total_quantity": "11074"
                                },
                                {
                                    "custid": "74",
                                    "order_month": "2021-11",
                                    "running_total_quantity": "10738"
                                },
                                {
                                    "custid": "74",
                                    "order_month": "2022-02",
                                    "running_total_quantity": "10907"
                                },
                                {
                                    "custid": "74",
                                    "order_month": "2022-03",
                                    "running_total_quantity": "10964"
                                },
                                {
                                    "custid": "74",
                                    "order_month": "2022-04",
                                    "running_total_quantity": "11043"
                                },
                                {
                                    "custid": "75",
                                    "order_month": "2020-08",
                                    "running_total_quantity": "10271"
                                },
                                {
                                    "custid": "75",
                                    "order_month": "2020-10",
                                    "running_total_quantity": "10329"
                                },
                                {
                                    "custid": "75",
                                    "order_month": "2020-11",
                                    "running_total_quantity": "10349"
                                },
                                {
                                    "custid": "75",
                                    "order_month": "2020-12",
                                    "running_total_quantity": "10369"
                                },
                                {
                                    "custid": "75",
                                    "order_month": "2020-12",
                                    "running_total_quantity": "20754"
                                },
                                {
                                    "custid": "75",
                                    "order_month": "2021-01",
                                    "running_total_quantity": "10432"
                                },
                                {
                                    "custid": "75",
                                    "order_month": "2021-11",
                                    "running_total_quantity": "10756"
                                },
                                {
                                    "custid": "75",
                                    "order_month": "2022-01",
                                    "running_total_quantity": "10821"
                                },
                                {
                                    "custid": "75",
                                    "order_month": "2022-03",
                                    "running_total_quantity": "10974"
                                },
                                {
                                    "custid": "76",
                                    "order_month": "2020-07",
                                    "running_total_quantity": "10252"
                                },
                                {
                                    "custid": "76",
                                    "order_month": "2020-09",
                                    "running_total_quantity": "10302"
                                },
                                {
                                    "custid": "76",
                                    "order_month": "2021-02",
                                    "running_total_quantity": "10458"
                                },
                                {
                                    "custid": "76",
                                    "order_month": "2021-03",
                                    "running_total_quantity": "10463"
                                },
                                {
                                    "custid": "76",
                                    "order_month": "2021-03",
                                    "running_total_quantity": "20938"
                                },
                                {
                                    "custid": "76",
                                    "order_month": "2021-12",
                                    "running_total_quantity": "10767"
                                },
                                {
                                    "custid": "76",
                                    "order_month": "2022-01",
                                    "running_total_quantity": "10841"
                                },
                                {
                                    "custid": "76",
                                    "order_month": "2022-01",
                                    "running_total_quantity": "21687"
                                },
                                {
                                    "custid": "76",
                                    "order_month": "2022-02",
                                    "running_total_quantity": "10885"
                                },
                                {
                                    "custid": "76",
                                    "order_month": "2022-03",
                                    "running_total_quantity": "10930"
                                },
                                {
                                    "custid": "76",
                                    "order_month": "2022-04",
                                    "running_total_quantity": "11035"
                                },
                                {
                                    "custid": "76",
                                    "order_month": "2022-04",
                                    "running_total_quantity": "22073"
                                },
                                {
                                    "custid": "77",
                                    "order_month": "2020-09",
                                    "running_total_quantity": "10310"
                                },
                                {
                                    "custid": "77",
                                    "order_month": "2021-10",
                                    "running_total_quantity": "10708"
                                },
                                {
                                    "custid": "77",
                                    "order_month": "2021-12",
                                    "running_total_quantity": "10805"
                                },
                                {
                                    "custid": "77",
                                    "order_month": "2022-04",
                                    "running_total_quantity": "10992"
                                },
                                {
                                    "custid": "78",
                                    "order_month": "2021-08",
                                    "running_total_quantity": "10624"
                                },
                                {
                                    "custid": "78",
                                    "order_month": "2021-12",
                                    "running_total_quantity": "10775"
                                },
                                {
                                    "custid": "78",
                                    "order_month": "2022-04",
                                    "running_total_quantity": "11003"
                                },
                                {
                                    "custid": "79",
                                    "order_month": "2020-07",
                                    "running_total_quantity": "10249"
                                },
                                {
                                    "custid": "79",
                                    "order_month": "2021-02",
                                    "running_total_quantity": "10438"
                                },
                                {
                                    "custid": "79",
                                    "order_month": "2021-02",
                                    "running_total_quantity": "20884"
                                },
                                {
                                    "custid": "79",
                                    "order_month": "2021-05",
                                    "running_total_quantity": "10548"
                                },
                                {
                                    "custid": "79",
                                    "order_month": "2021-07",
                                    "running_total_quantity": "10608"
                                },
                                {
                                    "custid": "79",
                                    "order_month": "2022-03",
                                    "running_total_quantity": "10967"
                                },
                                {
                                    "custid": "80",
                                    "order_month": "2020-08",
                                    "running_total_quantity": "10276"
                                },
                                {
                                    "custid": "80",
                                    "order_month": "2020-08",
                                    "running_total_quantity": "20569"
                                },
                                {
                                    "custid": "80",
                                    "order_month": "2020-09",
                                    "running_total_quantity": "10304"
                                },
                                {
                                    "custid": "80",
                                    "order_month": "2020-10",
                                    "running_total_quantity": "10319"
                                },
                                {
                                    "custid": "80",
                                    "order_month": "2021-04",
                                    "running_total_quantity": "10518"
                                },
                                {
                                    "custid": "80",
                                    "order_month": "2021-06",
                                    "running_total_quantity": "10576"
                                },
                                {
                                    "custid": "80",
                                    "order_month": "2021-09",
                                    "running_total_quantity": "10676"
                                },
                                {
                                    "custid": "80",
                                    "order_month": "2022-01",
                                    "running_total_quantity": "10842"
                                },
                                {
                                    "custid": "80",
                                    "order_month": "2022-02",
                                    "running_total_quantity": "10915"
                                },
                                {
                                    "custid": "80",
                                    "order_month": "2022-05",
                                    "running_total_quantity": "11069"
                                },
                                {
                                    "custid": "81",
                                    "order_month": "2020-08",
                                    "running_total_quantity": "10292"
                                },
                                {
                                    "custid": "81",
                                    "order_month": "2021-04",
                                    "running_total_quantity": "10496"
                                },
                                {
                                    "custid": "81",
                                    "order_month": "2021-07",
                                    "running_total_quantity": "10606"
                                },
                                {
                                    "custid": "81",
                                    "order_month": "2022-01",
                                    "running_total_quantity": "10830"
                                },
                                {
                                    "custid": "81",
                                    "order_month": "2022-01",
                                    "running_total_quantity": "21664"
                                },
                                {
                                    "custid": "81",
                                    "order_month": "2022-01",
                                    "running_total_quantity": "32503"
                                },
                                {
                                    "custid": "82",
                                    "order_month": "2021-06",
                                    "running_total_quantity": "10574"
                                },
                                {
                                    "custid": "82",
                                    "order_month": "2021-06",
                                    "running_total_quantity": "21151"
                                },
                                {
                                    "custid": "82",
                                    "order_month": "2022-01",
                                    "running_total_quantity": "10822"
                                },
                                {
                                    "custid": "83",
                                    "order_month": "2020-11",
                                    "running_total_quantity": "10367"
                                },
                                {
                                    "custid": "83",
                                    "order_month": "2020-12",
                                    "running_total_quantity": "10399"
                                },
                                {
                                    "custid": "83",
                                    "order_month": "2021-03",
                                    "running_total_quantity": "10465"
                                },
                                {
                                    "custid": "83",
                                    "order_month": "2021-07",
                                    "running_total_quantity": "10591"
                                },
                                {
                                    "custid": "83",
                                    "order_month": "2021-07",
                                    "running_total_quantity": "21193"
                                },
                                {
                                    "custid": "83",
                                    "order_month": "2021-10",
                                    "running_total_quantity": "10688"
                                },
                                {
                                    "custid": "83",
                                    "order_month": "2021-11",
                                    "running_total_quantity": "10744"
                                },
                                {
                                    "custid": "83",
                                    "order_month": "2021-12",
                                    "running_total_quantity": "10769"
                                },
                                {
                                    "custid": "83",
                                    "order_month": "2022-03",
                                    "running_total_quantity": "10921"
                                },
                                {
                                    "custid": "83",
                                    "order_month": "2022-03",
                                    "running_total_quantity": "21867"
                                },
                                {
                                    "custid": "83",
                                    "order_month": "2022-04",
                                    "running_total_quantity": "10994"
                                },
                                {
                                    "custid": "84",
                                    "order_month": "2020-07",
                                    "running_total_quantity": "10251"
                                },
                                {
                                    "custid": "84",
                                    "order_month": "2020-10",
                                    "running_total_quantity": "10334"
                                },
                                {
                                    "custid": "84",
                                    "order_month": "2021-02",
                                    "running_total_quantity": "10450"
                                },
                                {
                                    "custid": "84",
                                    "order_month": "2021-02",
                                    "running_total_quantity": "20909"
                                },
                                {
                                    "custid": "84",
                                    "order_month": "2021-03",
                                    "running_total_quantity": "10478"
                                },
                                {
                                    "custid": "84",
                                    "order_month": "2021-05",
                                    "running_total_quantity": "10546"
                                },
                                {
                                    "custid": "84",
                                    "order_month": "2021-12",
                                    "running_total_quantity": "10806"
                                },
                                {
                                    "custid": "84",
                                    "order_month": "2022-01",
                                    "running_total_quantity": "10814"
                                },
                                {
                                    "custid": "84",
                                    "order_month": "2022-01",
                                    "running_total_quantity": "21657"
                                },
                                {
                                    "custid": "84",
                                    "order_month": "2022-01",
                                    "running_total_quantity": "32507"
                                },
                                {
                                    "custid": "85",
                                    "order_month": "2020-07",
                                    "running_total_quantity": "10248"
                                },
                                {
                                    "custid": "85",
                                    "order_month": "2020-08",
                                    "running_total_quantity": "10274"
                                },
                                {
                                    "custid": "85",
                                    "order_month": "2020-09",
                                    "running_total_quantity": "10295"
                                },
                                {
                                    "custid": "85",
                                    "order_month": "2021-11",
                                    "running_total_quantity": "10737"
                                },
                                {
                                    "custid": "85",
                                    "order_month": "2021-11",
                                    "running_total_quantity": "21476"
                                },
                                {
                                    "custid": "86",
                                    "order_month": "2020-09",
                                    "running_total_quantity": "10301"
                                },
                                {
                                    "custid": "86",
                                    "order_month": "2020-09",
                                    "running_total_quantity": "20613"
                                },
                                {
                                    "custid": "86",
                                    "order_month": "2020-11",
                                    "running_total_quantity": "10348"
                                },
                                {
                                    "custid": "86",
                                    "order_month": "2020-11",
                                    "running_total_quantity": "20704"
                                },
                                {
                                    "custid": "86",
                                    "order_month": "2021-04",
                                    "running_total_quantity": "10513"
                                },
                                {
                                    "custid": "86",
                                    "order_month": "2021-08",
                                    "running_total_quantity": "10632"
                                },
                                {
                                    "custid": "86",
                                    "order_month": "2021-08",
                                    "running_total_quantity": "21272"
                                },
                                {
                                    "custid": "86",
                                    "order_month": "2021-09",
                                    "running_total_quantity": "10651"
                                },
                                {
                                    "custid": "86",
                                    "order_month": "2021-09",
                                    "running_total_quantity": "21319"
                                },
                                {
                                    "custid": "86",
                                    "order_month": "2022-04",
                                    "running_total_quantity": "11046"
                                },
                                {
                                    "custid": "87",
                                    "order_month": "2020-07",
                                    "running_total_quantity": "10266"
                                },
                                {
                                    "custid": "87",
                                    "order_month": "2020-08",
                                    "running_total_quantity": "10270"
                                },
                                {
                                    "custid": "87",
                                    "order_month": "2020-10",
                                    "running_total_quantity": "10320"
                                },
                                {
                                    "custid": "87",
                                    "order_month": "2020-10",
                                    "running_total_quantity": "20653"
                                },
                                {
                                    "custid": "87",
                                    "order_month": "2021-01",
                                    "running_total_quantity": "10412"
                                },
                                {
                                    "custid": "87",
                                    "order_month": "2021-01",
                                    "running_total_quantity": "20828"
                                },
                                {
                                    "custid": "87",
                                    "order_month": "2021-02",
                                    "running_total_quantity": "10437"
                                },
                                {
                                    "custid": "87",
                                    "order_month": "2021-02",
                                    "running_total_quantity": "20892"
                                },
                                {
                                    "custid": "87",
                                    "order_month": "2021-05",
                                    "running_total_quantity": "10526"
                                },
                                {
                                    "custid": "87",
                                    "order_month": "2021-05",
                                    "running_total_quantity": "21079"
                                },
                                {
                                    "custid": "87",
                                    "order_month": "2021-06",
                                    "running_total_quantity": "10583"
                                },
                                {
                                    "custid": "87",
                                    "order_month": "2021-08",
                                    "running_total_quantity": "10636"
                                },
                                {
                                    "custid": "87",
                                    "order_month": "2021-11",
                                    "running_total_quantity": "10750"
                                },
                                {
                                    "custid": "87",
                                    "order_month": "2021-12",
                                    "running_total_quantity": "10781"
                                },
                                {
                                    "custid": "87",
                                    "order_month": "2022-04",
                                    "running_total_quantity": "11025"
                                },
                                {
                                    "custid": "88",
                                    "order_month": "2020-07",
                                    "running_total_quantity": "10256"
                                },
                                {
                                    "custid": "88",
                                    "order_month": "2021-01",
                                    "running_total_quantity": "10420"
                                },
                                {
                                    "custid": "88",
                                    "order_month": "2021-07",
                                    "running_total_quantity": "10585"
                                },
                                {
                                    "custid": "88",
                                    "order_month": "2021-08",
                                    "running_total_quantity": "10644"
                                },
                                {
                                    "custid": "88",
                                    "order_month": "2021-12",
                                    "running_total_quantity": "10803"
                                },
                                {
                                    "custid": "88",
                                    "order_month": "2022-01",
                                    "running_total_quantity": "10809"
                                },
                                {
                                    "custid": "88",
                                    "order_month": "2022-02",
                                    "running_total_quantity": "10900"
                                },
                                {
                                    "custid": "88",
                                    "order_month": "2022-02",
                                    "running_total_quantity": "21805"
                                },
                                {
                                    "custid": "88",
                                    "order_month": "2022-03",
                                    "running_total_quantity": "10935"
                                },
                                {
                                    "custid": "89",
                                    "order_month": "2020-07",
                                    "running_total_quantity": "10269"
                                },
                                {
                                    "custid": "89",
                                    "order_month": "2020-11",
                                    "running_total_quantity": "10344"
                                },
                                {
                                    "custid": "89",
                                    "order_month": "2021-03",
                                    "running_total_quantity": "10469"
                                },
                                {
                                    "custid": "89",
                                    "order_month": "2021-03",
                                    "running_total_quantity": "20952"
                                },
                                {
                                    "custid": "89",
                                    "order_month": "2021-04",
                                    "running_total_quantity": "10504"
                                },
                                {
                                    "custid": "89",
                                    "order_month": "2021-07",
                                    "running_total_quantity": "10596"
                                },
                                {
                                    "custid": "89",
                                    "order_month": "2021-10",
                                    "running_total_quantity": "10693"
                                },
                                {
                                    "custid": "89",
                                    "order_month": "2021-10",
                                    "running_total_quantity": "21389"
                                },
                                {
                                    "custid": "89",
                                    "order_month": "2021-10",
                                    "running_total_quantity": "32112"
                                },
                                {
                                    "custid": "89",
                                    "order_month": "2021-11",
                                    "running_total_quantity": "10740"
                                },
                                {
                                    "custid": "89",
                                    "order_month": "2022-01",
                                    "running_total_quantity": "10861"
                                },
                                {
                                    "custid": "89",
                                    "order_month": "2022-02",
                                    "running_total_quantity": "10904"
                                },
                                {
                                    "custid": "89",
                                    "order_month": "2022-04",
                                    "running_total_quantity": "11032"
                                },
                                {
                                    "custid": "89",
                                    "order_month": "2022-05",
                                    "running_total_quantity": "11066"
                                },
                                {
                                    "custid": "90",
                                    "order_month": "2021-07",
                                    "running_total_quantity": "10615"
                                },
                                {
                                    "custid": "90",
                                    "order_month": "2021-09",
                                    "running_total_quantity": "10673"
                                },
                                {
                                    "custid": "90",
                                    "order_month": "2021-10",
                                    "running_total_quantity": "10695"
                                },
                                {
                                    "custid": "90",
                                    "order_month": "2022-02",
                                    "running_total_quantity": "10873"
                                },
                                {
                                    "custid": "90",
                                    "order_month": "2022-02",
                                    "running_total_quantity": "21752"
                                },
                                {
                                    "custid": "90",
                                    "order_month": "2022-02",
                                    "running_total_quantity": "32662"
                                },
                                {
                                    "custid": "90",
                                    "order_month": "2022-04",
                                    "running_total_quantity": "11005"
                                },
                                {
                                    "custid": "91",
                                    "order_month": "2020-12",
                                    "running_total_quantity": "10374"
                                },
                                {
                                    "custid": "91",
                                    "order_month": "2021-07",
                                    "running_total_quantity": "10611"
                                },
                                {
                                    "custid": "91",
                                    "order_month": "2021-12",
                                    "running_total_quantity": "10792"
                                },
                                {
                                    "custid": "91",
                                    "order_month": "2022-02",
                                    "running_total_quantity": "10870"
                                },
                                {
                                    "custid": "91",
                                    "order_month": "2022-02",
                                    "running_total_quantity": "21776"
                                },
                                {
                                    "custid": "91",
                                    "order_month": "2022-04",
                                    "running_total_quantity": "10998"
                                },
                                {
                                    "custid": "91",
                                    "order_month": "2022-04",
                                    "running_total_quantity": "22042"
                                }
                            ]
                        },
                        "text/html": [
                            "<table>",
                            "<tr><th>custid</th><th>order_month</th><th>running_total_quantity</th></tr>",
                            "<tr><td>1</td><td>2021-08</td><td>10643</td></tr>",
                            "<tr><td>1</td><td>2021-10</td><td>10692</td></tr>",
                            "<tr><td>1</td><td>2021-10</td><td>21394</td></tr>",
                            "<tr><td>1</td><td>2022-01</td><td>10835</td></tr>",
                            "<tr><td>1</td><td>2022-03</td><td>10952</td></tr>",
                            "<tr><td>1</td><td>2022-04</td><td>11011</td></tr>",
                            "<tr><td>2</td><td>2020-09</td><td>10308</td></tr>",
                            "<tr><td>2</td><td>2021-08</td><td>10625</td></tr>",
                            "<tr><td>2</td><td>2021-11</td><td>10759</td></tr>",
                            "<tr><td>2</td><td>2022-03</td><td>10926</td></tr>",
                            "<tr><td>3</td><td>2020-11</td><td>10365</td></tr>",
                            "<tr><td>3</td><td>2021-04</td><td>10507</td></tr>",
                            "<tr><td>3</td><td>2021-05</td><td>10535</td></tr>",
                            "<tr><td>3</td><td>2021-06</td><td>10573</td></tr>",
                            "<tr><td>3</td><td>2021-09</td><td>10677</td></tr>",
                            "<tr><td>3</td><td>2021-09</td><td>21359</td></tr>",
                            "<tr><td>3</td><td>2022-01</td><td>10856</td></tr>",
                            "<tr><td>4</td><td>2020-11</td><td>10355</td></tr>",
                            "<tr><td>4</td><td>2020-12</td><td>10383</td></tr>",
                            "<tr><td>4</td><td>2021-02</td><td>10453</td></tr>",
                            "<tr><td>4</td><td>2021-06</td><td>10558</td></tr>",
                            "<tr><td>4</td><td>2021-10</td><td>10707</td></tr>",
                            "<tr><td>4</td><td>2021-11</td><td>10741</td></tr>",
                            "<tr><td>4</td><td>2021-11</td><td>21484</td></tr>",
                            "<tr><td>4</td><td>2021-12</td><td>10768</td></tr>",
                            "<tr><td>4</td><td>2021-12</td><td>21561</td></tr>",
                            "<tr><td>4</td><td>2022-02</td><td>10864</td></tr>",
                            "<tr><td>4</td><td>2022-03</td><td>10920</td></tr>",
                            "<tr><td>4</td><td>2022-03</td><td>21873</td></tr>",
                            "<tr><td>4</td><td>2022-04</td><td>11016</td></tr>",
                            "<tr><td>5</td><td>2020-08</td><td>10278</td></tr>",
                            "<tr><td>5</td><td>2020-08</td><td>20558</td></tr>",
                            "<tr><td>5</td><td>2020-12</td><td>10384</td></tr>",
                            "<tr><td>5</td><td>2021-02</td><td>10444</td></tr>",
                            "<tr><td>5</td><td>2021-02</td><td>20889</td></tr>",
                            "<tr><td>5</td><td>2021-05</td><td>10524</td></tr>",
                            "<tr><td>5</td><td>2021-06</td><td>10572</td></tr>",
                            "<tr><td>5</td><td>2021-08</td><td>10626</td></tr>",
                            "<tr><td>5</td><td>2021-09</td><td>10654</td></tr>",
                            "<tr><td>5</td><td>2021-09</td><td>21326</td></tr>",
                            "<tr><td>5</td><td>2021-10</td><td>10689</td></tr>",
                            "<tr><td>5</td><td>2021-11</td><td>10733</td></tr>",
                            "<tr><td>5</td><td>2021-12</td><td>10778</td></tr>",
                            "<tr><td>5</td><td>2022-01</td><td>10837</td></tr>",
                            "<tr><td>5</td><td>2022-01</td><td>21694</td></tr>",
                            "<tr><td>5</td><td>2022-02</td><td>10866</td></tr>",
                            "<tr><td>5</td><td>2022-02</td><td>21741</td></tr>",
                            "<tr><td>5</td><td>2022-03</td><td>10924</td></tr>",
                            "<tr><td>6</td><td>2021-04</td><td>10501</td></tr>",
                            "<tr><td>6</td><td>2021-04</td><td>21010</td></tr>",
                            "<tr><td>6</td><td>2021-06</td><td>10582</td></tr>",
                            "<tr><td>6</td><td>2021-07</td><td>10614</td></tr>",
                            "<tr><td>6</td><td>2022-01</td><td>10853</td></tr>",
                            "<tr><td>6</td><td>2022-03</td><td>10956</td></tr>",
                            "<tr><td>6</td><td>2022-04</td><td>11058</td></tr>",
                            "<tr><td>7</td><td>2020-07</td><td>10265</td></tr>",
                            "<tr><td>7</td><td>2020-09</td><td>10297</td></tr>",
                            "<tr><td>7</td><td>2020-11</td><td>10360</td></tr>",
                            "<tr><td>7</td><td>2021-02</td><td>10436</td></tr>",
                            "<tr><td>7</td><td>2021-02</td><td>20885</td></tr>",
                            "<tr><td>7</td><td>2021-06</td><td>10559</td></tr>",
                            "<tr><td>7</td><td>2021-06</td><td>21125</td></tr>",
                            "<tr><td>7</td><td>2021-06</td><td>31709</td></tr>",
                            "<tr><td>7</td><td>2021-08</td><td>10628</td></tr>",
                            "<tr><td>7</td><td>2021-09</td><td>10679</td></tr>",
                            "<tr><td>7</td><td>2022-01</td><td>10826</td></tr>",
                            "<tr><td>8</td><td>2020-10</td><td>10326</td></tr>",
                            "<tr><td>8</td><td>2021-12</td><td>10801</td></tr>",
                            "<tr><td>8</td><td>2022-03</td><td>10970</td></tr>",
                            "<tr><td>9</td><td>2020-10</td><td>10331</td></tr>",
                            "<tr><td>9</td><td>2020-10</td><td>20671</td></tr>",
                            "<tr><td>9</td><td>2020-11</td><td>10362</td></tr>",
                            "<tr><td>9</td><td>2021-03</td><td>10470</td></tr>",
                            "<tr><td>9</td><td>2021-04</td><td>10511</td></tr>",
                            "<tr><td>9</td><td>2021-05</td><td>10525</td></tr>",
                            "<tr><td>9</td><td>2021-09</td><td>10663</td></tr>",
                            "<tr><td>9</td><td>2021-10</td><td>10715</td></tr>",
                            "<tr><td>9</td><td>2021-11</td><td>10730</td></tr>",
                            "<tr><td>9</td><td>2021-11</td><td>21462</td></tr>",
                            "<tr><td>9</td><td>2021-11</td><td>32217</td></tr>",
                            "<tr><td>9</td><td>2022-01</td><td>10827</td></tr>",
                            "<tr><td>9</td><td>2022-02</td><td>10871</td></tr>",
                            "<tr><td>9</td><td>2022-02</td><td>21747</td></tr>",
                            "<tr><td>9</td><td>2022-03</td><td>10932</td></tr>",
                            "<tr><td>9</td><td>2022-03</td><td>21872</td></tr>",
                            "<tr><td>9</td><td>2022-05</td><td>11076</td></tr>",
                            "<tr><td>10</td><td>2020-12</td><td>10389</td></tr>",
                            "<tr><td>10</td><td>2021-01</td><td>10410</td></tr>",
                            "<tr><td>10</td><td>2021-01</td><td>20821</td></tr>",
                            "<tr><td>10</td><td>2021-01</td><td>31252</td></tr>",
                            "<tr><td>10</td><td>2021-04</td><td>10492</td></tr>",
                            "<tr><td>10</td><td>2021-11</td><td>10742</td></tr>",
                            "<tr><td>10</td><td>2022-03</td><td>10918</td></tr>",
                            "<tr><td>10</td><td>2022-03</td><td>21862</td></tr>",
                            "<tr><td>10</td><td>2022-03</td><td>32811</td></tr>",
                            "<tr><td>10</td><td>2022-03</td><td>43786</td></tr>",
                            "<tr><td>10</td><td>2022-03</td><td>54768</td></tr>",
                            "<tr><td>10</td><td>2022-04</td><td>11027</td></tr>",
                            "<tr><td>10</td><td>2022-04</td><td>22072</td></tr>",
                            "<tr><td>10</td><td>2022-04</td><td>33120</td></tr>",
                            "<tr><td>11</td><td>2020-08</td><td>10289</td></tr>",
                            "<tr><td>11</td><td>2021-03</td><td>10471</td></tr>",
                            "<tr><td>11</td><td>2021-03</td><td>20955</td></tr>",
                            "<tr><td>11</td><td>2021-05</td><td>10538</td></tr>",
                            "<tr><td>11</td><td>2021-05</td><td>21077</td></tr>",
                            "<tr><td>11</td><td>2021-06</td><td>10578</td></tr>",
                            "<tr><td>11</td><td>2021-07</td><td>10599</td></tr>",
                            "<tr><td>11</td><td>2022-03</td><td>10943</td></tr>",
                            "<tr><td>11</td><td>2022-03</td><td>21890</td></tr>",
                            "<tr><td>11</td><td>2022-04</td><td>11023</td></tr>",
                            "<tr><td>12</td><td>2021-04</td><td>10521</td></tr>",
                            "<tr><td>12</td><td>2021-12</td><td>10782</td></tr>",
                            "<tr><td>12</td><td>2022-01</td><td>10819</td></tr>",
                            "<tr><td>12</td><td>2022-02</td><td>10881</td></tr>",
                            "<tr><td>12</td><td>2022-03</td><td>10937</td></tr>",
                            "<tr><td>12</td><td>2022-04</td><td>11054</td></tr>",
                            "<tr><td>13</td><td>2020-07</td><td>10259</td></tr>",
                            "<tr><td>14</td><td>2020-07</td><td>10254</td></tr>",
                            "<tr><td>14</td><td>2020-12</td><td>10370</td></tr>",
                            "<tr><td>14</td><td>2021-04</td><td>10519</td></tr>",
                            "<tr><td>14</td><td>2021-11</td><td>10731</td></tr>",
                            "<tr><td>14</td><td>2021-11</td><td>21477</td></tr>",
                            "<tr><td>14</td><td>2022-03</td><td>10966</td></tr>",
                            "<tr><td>14</td><td>2022-04</td><td>11029</td></tr>",
                            "<tr><td>14</td><td>2022-04</td><td>22070</td></tr>",
                            "<tr><td>15</td><td>2020-08</td><td>10290</td></tr>",
                            "<tr><td>15</td><td>2021-03</td><td>10466</td></tr>",
                            "<tr><td>15</td><td>2021-04</td><td>10494</td></tr>",
                            "<tr><td>15</td><td>2022-03</td><td>10969</td></tr>",
                            "<tr><td>15</td><td>2022-04</td><td>11042</td></tr>",
                            "<tr><td>16</td><td>2021-02</td><td>10435</td></tr>",
                            "<tr><td>16</td><td>2021-03</td><td>10462</td></tr>",
                            "<tr><td>16</td><td>2022-01</td><td>10848</td></tr>",
                            "<tr><td>17</td><td>2020-11</td><td>10363</td></tr>",
                            "<tr><td>17</td><td>2020-12</td><td>10391</td></tr>",
                            "<tr><td>17</td><td>2021-12</td><td>10797</td></tr>",
                            "<tr><td>17</td><td>2022-01</td><td>10825</td></tr>",
                            "<tr><td>17</td><td>2022-04</td><td>11036</td></tr>",
                            "<tr><td>17</td><td>2022-05</td><td>11067</td></tr>",
                            "<tr><td>18</td><td>2020-09</td><td>10311</td></tr>",
                            "<tr><td>18</td><td>2021-07</td><td>10609</td></tr>",
                            "<tr><td>18</td><td>2021-09</td><td>10683</td></tr>",
                            "<tr><td>18</td><td>2022-02</td><td>10890</td></tr>",
                            "<tr><td>19</td><td>2020-11</td><td>10364</td></tr>",
                            "<tr><td>19</td><td>2021-01</td><td>10400</td></tr>",
                            "<tr><td>19</td><td>2021-05</td><td>10532</td></tr>",
                            "<tr><td>19</td><td>2021-11</td><td>10726</td></tr>",
                            "<tr><td>19</td><td>2022-03</td><td>10987</td></tr>",
                            "<tr><td>19</td><td>2022-04</td><td>11024</td></tr>",
                            "<tr><td>19</td><td>2022-04</td><td>22071</td></tr>",
                            "<tr><td>19</td><td>2022-04</td><td>33127</td></tr>",
                            "<tr><td>20</td><td>2020-07</td><td>10258</td></tr>",
                            "<tr><td>20</td><td>2020-07</td><td>20521</td></tr>",
                            "<tr><td>20</td><td>2020-11</td><td>10351</td></tr>",
                            "<tr><td>20</td><td>2020-11</td><td>20719</td></tr>",
                            "<tr><td>20</td><td>2020-12</td><td>10382</td></tr>",
                            "<tr><td>20</td><td>2020-12</td><td>20772</td></tr>",
                            "<tr><td>20</td><td>2021-01</td><td>10402</td></tr>",
                            "<tr><td>20</td><td>2021-01</td><td>20805</td></tr>",
                            "<tr><td>20</td><td>2021-01</td><td>31235</td></tr>",
                            "<tr><td>20</td><td>2021-02</td><td>10442</td></tr>",
                            "<tr><td>20</td><td>2021-04</td><td>10514</td></tr>",
                            "<tr><td>20</td><td>2021-06</td><td>10571</td></tr>",
                            "<tr><td>20</td><td>2021-07</td><td>10595</td></tr>",
                            "<tr><td>20</td><td>2021-08</td><td>10633</td></tr>",
                            "<tr><td>20</td><td>2021-09</td><td>10667</td></tr>",
                            "<tr><td>20</td><td>2021-10</td><td>10698</td></tr>",
                            "<tr><td>20</td><td>2021-12</td><td>10764</td></tr>",
                            "<tr><td>20</td><td>2021-12</td><td>21535</td></tr>",
                            "<tr><td>20</td><td>2021-12</td><td>32308</td></tr>",
                            "<tr><td>20</td><td>2021-12</td><td>43084</td></tr>",
                            "<tr><td>20</td><td>2021-12</td><td>53879</td></tr>",
                            "<tr><td>20</td><td>2022-01</td><td>10836</td></tr>",
                            "<tr><td>20</td><td>2022-01</td><td>21690</td></tr>",
                            "<tr><td>20</td><td>2022-02</td><td>10895</td></tr>",
                            "<tr><td>20</td><td>2022-03</td><td>10968</td></tr>",
                            "<tr><td>20</td><td>2022-03</td><td>21947</td></tr>",
                            "<tr><td>20</td><td>2022-04</td><td>10990</td></tr>",
                            "<tr><td>20</td><td>2022-04</td><td>21998</td></tr>",
                            "<tr><td>20</td><td>2022-04</td><td>33015</td></tr>",
                            "<tr><td>20</td><td>2022-05</td><td>11072</td></tr>",
                            "<tr><td>21</td><td>2020-11</td><td>10347</td></tr>",
                            "<tr><td>21</td><td>2020-12</td><td>10386</td></tr>",
                            "<tr><td>21</td><td>2021-01</td><td>10414</td></tr>",
                            "<tr><td>21</td><td>2021-04</td><td>10512</td></tr>",
                            "<tr><td>21</td><td>2021-06</td><td>10581</td></tr>",
                            "<tr><td>21</td><td>2021-08</td><td>10650</td></tr>",
                            "<tr><td>21</td><td>2021-10</td><td>10725</td></tr>",
                            "<tr><td>23</td><td>2021-01</td><td>10408</td></tr>",
                            "<tr><td>23</td><td>2021-03</td><td>10480</td></tr>",
                            "<tr><td>23</td><td>2021-08</td><td>10634</td></tr>",
                            "<tr><td>23</td><td>2021-12</td><td>10763</td></tr>",
                            "<tr><td>23</td><td>2021-12</td><td>21552</td></tr>",
                            "<tr><td>24</td><td>2020-07</td><td>10264</td></tr>",
                            "<tr><td>24</td><td>2020-10</td><td>10327</td></tr>",
                            "<tr><td>24</td><td>2020-12</td><td>10378</td></tr>",
                            "<tr><td>24</td><td>2021-02</td><td>10434</td></tr>",
                            "<tr><td>24</td><td>2021-02</td><td>20894</td></tr>",
                            "<tr><td>24</td><td>2021-05</td><td>10533</td></tr>",
                            "<tr><td>24</td><td>2021-06</td><td>10561</td></tr>",
                            "<tr><td>24</td><td>2021-10</td><td>10703</td></tr>",
                            "<tr><td>24</td><td>2021-12</td><td>10762</td></tr>",
                            "<tr><td>24</td><td>2021-12</td><td>21536</td></tr>",
                            "<tr><td>24</td><td>2022-01</td><td>10824</td></tr>",
                            "<tr><td>24</td><td>2022-02</td><td>10880</td></tr>",
                            "<tr><td>24</td><td>2022-02</td><td>21782</td></tr>",
                            "<tr><td>24</td><td>2022-03</td><td>10955</td></tr>",
                            "<tr><td>24</td><td>2022-03</td><td>21932</td></tr>",
                            "<tr><td>24</td><td>2022-03</td><td>32912</td></tr>",
                            "<tr><td>24</td><td>2022-04</td><td>10993</td></tr>",
                            "<tr><td>24</td><td>2022-04</td><td>21994</td></tr>",
                            "<tr><td>24</td><td>2022-04</td><td>33044</td></tr>",
                            "<tr><td>25</td><td>2020-07</td><td>10267</td></tr>",
                            "<tr><td>25</td><td>2020-10</td><td>10337</td></tr>",
                            "<tr><td>25</td><td>2020-10</td><td>20679</td></tr>",
                            "<tr><td>25</td><td>2020-12</td><td>10396</td></tr>",
                            "<tr><td>25</td><td>2021-03</td><td>10488</td></tr>",
                            "<tr><td>25</td><td>2021-06</td><td>10560</td></tr>",
                            "<tr><td>25</td><td>2021-08</td><td>10623</td></tr>",
                            "<tr><td>25</td><td>2021-09</td><td>10653</td></tr>",
                            "<tr><td>25</td><td>2021-09</td><td>21323</td></tr>",
                            "<tr><td>25</td><td>2021-09</td><td>31998</td></tr>",
                            "<tr><td>25</td><td>2021-10</td><td>10717</td></tr>",
                            "<tr><td>25</td><td>2021-12</td><td>10791</td></tr>",
                            "<tr><td>25</td><td>2022-01</td><td>10859</td></tr>",
                            "<tr><td>25</td><td>2022-03</td><td>10929</td></tr>",
                            "<tr><td>25</td><td>2022-04</td><td>11012</td></tr>",
                            "<tr><td>26</td><td>2021-09</td><td>10671</td></tr>",
                            "<tr><td>26</td><td>2022-01</td><td>10860</td></tr>",
                            "<tr><td>26</td><td>2022-03</td><td>10971</td></tr>",
                            "<tr><td>27</td><td>2021-01</td><td>10422</td></tr>",
                            "<tr><td>27</td><td>2021-10</td><td>10710</td></tr>",
                            "<tr><td>27</td><td>2021-11</td><td>10753</td></tr>",
                            "<tr><td>27</td><td>2021-12</td><td>10807</td></tr>",
                            "<tr><td>27</td><td>2022-04</td><td>11026</td></tr>",
                            "<tr><td>27</td><td>2022-04</td><td>22086</td></tr>",
                            "<tr><td>28</td><td>2020-10</td><td>10328</td></tr>",
                            "<tr><td>28</td><td>2020-11</td><td>10352</td></tr>",
                            "<tr><td>28</td><td>2021-03</td><td>10464</td></tr>",
                            "<tr><td>28</td><td>2021-03</td><td>20955</td></tr>",
                            "<tr><td>28</td><td>2021-05</td><td>10551</td></tr>",
                            "<tr><td>28</td><td>2021-07</td><td>10604</td></tr>",
                            "<tr><td>28</td><td>2021-09</td><td>10664</td></tr>",
                            "<tr><td>28</td><td>2022-03</td><td>10963</td></tr>",
                            "<tr><td>29</td><td>2020-11</td><td>10366</td></tr>",
                            "<tr><td>29</td><td>2021-01</td><td>10426</td></tr>",
                            "<tr><td>29</td><td>2021-06</td><td>10568</td></tr>",
                            "<tr><td>29</td><td>2022-02</td><td>10887</td></tr>",
                            "<tr><td>29</td><td>2022-03</td><td>10928</td></tr>",
                            "<tr><td>30</td><td>2020-09</td><td>10303</td></tr>",
                            "<tr><td>30</td><td>2021-05</td><td>10550</td></tr>",
                            "<tr><td>30</td><td>2021-08</td><td>10629</td></tr>",
                            "<tr><td>30</td><td>2022-02</td><td>10872</td></tr>",
                            "<tr><td>30</td><td>2022-02</td><td>21746</td></tr>",
                            "<tr><td>30</td><td>2022-02</td><td>32634</td></tr>",
                            "<tr><td>30</td><td>2022-02</td><td>43545</td></tr>",
                            "<tr><td>30</td><td>2022-03</td><td>10948</td></tr>",
                            "<tr><td>30</td><td>2022-04</td><td>11009</td></tr>",
                            "<tr><td>30</td><td>2022-04</td><td>22046</td></tr>",
                            "<tr><td>31</td><td>2021-01</td><td>10423</td></tr>",
                            "<tr><td>31</td><td>2021-09</td><td>10652</td></tr>",
                            "<tr><td>31</td><td>2021-09</td><td>21337</td></tr>",
                            "<tr><td>31</td><td>2021-10</td><td>10709</td></tr>",
                            "<tr><td>31</td><td>2021-11</td><td>10734</td></tr>",
                            "<tr><td>31</td><td>2021-12</td><td>10777</td></tr>",
                            "<tr><td>31</td><td>2021-12</td><td>21567</td></tr>",
                            "<tr><td>31</td><td>2022-03</td><td>10959</td></tr>",
                            "<tr><td>31</td><td>2022-04</td><td>11049</td></tr>",
                            "<tr><td>32</td><td>2021-05</td><td>10528</td></tr>",
                            "<tr><td>32</td><td>2021-07</td><td>10589</td></tr>",
                            "<tr><td>32</td><td>2021-07</td><td>21205</td></tr>",
                            "<tr><td>32</td><td>2021-07</td><td>31822</td></tr>",
                            "<tr><td>32</td><td>2021-09</td><td>10656</td></tr>",
                            "<tr><td>32</td><td>2021-09</td><td>21337</td></tr>",
                            "<tr><td>32</td><td>2022-01</td><td>10816</td></tr>",
                            "<tr><td>32</td><td>2022-03</td><td>10936</td></tr>",
                            "<tr><td>32</td><td>2022-04</td><td>11006</td></tr>",
                            "<tr><td>32</td><td>2022-04</td><td>22046</td></tr>",
                            "<tr><td>32</td><td>2022-04</td><td>33107</td></tr>",
                            "<tr><td>33</td><td>2020-07</td><td>10268</td></tr>",
                            "<tr><td>33</td><td>2021-12</td><td>10785</td></tr>",
                            "<tr><td>34</td><td>2020-07</td><td>10250</td></tr>",
                            "<tr><td>34</td><td>2020-07</td><td>20503</td></tr>",
                            "<tr><td>34</td><td>2021-05</td><td>10541</td></tr>",
                            "<tr><td>34</td><td>2021-08</td><td>10645</td></tr>",
                            "<tr><td>34</td><td>2021-10</td><td>10690</td></tr>",
                            "<tr><td>34</td><td>2021-12</td><td>10770</td></tr>",
                            "<tr><td>34</td><td>2021-12</td><td>21553</td></tr>",
                            "<tr><td>34</td><td>2022-02</td><td>10886</td></tr>",
                            "<tr><td>34</td><td>2022-02</td><td>21789</td></tr>",
                            "<tr><td>34</td><td>2022-03</td><td>10922</td></tr>",
                            "<tr><td>34</td><td>2022-03</td><td>21847</td></tr>",
                            "<tr><td>34</td><td>2022-03</td><td>32828</td></tr>",
                            "<tr><td>34</td><td>2022-04</td><td>11022</td></tr>",
                            "<tr><td>34</td><td>2022-04</td><td>22074</td></tr>",
                            "<tr><td>35</td><td>2020-07</td><td>10257</td></tr>",
                            "<tr><td>35</td><td>2020-12</td><td>10395</td></tr>",
                            "<tr><td>35</td><td>2021-03</td><td>10476</td></tr>",
                            "<tr><td>35</td><td>2021-03</td><td>20962</td></tr>",
                            "<tr><td>35</td><td>2021-03</td><td>31452</td></tr>",
                            "<tr><td>35</td><td>2021-04</td><td>10498</td></tr>",
                            "<tr><td>35</td><td>2021-05</td><td>10552</td></tr>",
                            "<tr><td>35</td><td>2021-07</td><td>10601</td></tr>",
                            "<tr><td>35</td><td>2021-07</td><td>21214</td></tr>",
                            "<tr><td>35</td><td>2021-08</td><td>10641</td></tr>",
                            "<tr><td>35</td><td>2021-10</td><td>10705</td></tr>",
                            "<tr><td>35</td><td>2021-12</td><td>10796</td></tr>",
                            "<tr><td>35</td><td>2022-02</td><td>10863</td></tr>",
                            "<tr><td>35</td><td>2022-02</td><td>21764</td></tr>",
                            "<tr><td>35</td><td>2022-03</td><td>10957</td></tr>",
                            "<tr><td>35</td><td>2022-03</td><td>21917</td></tr>",
                            "<tr><td>35</td><td>2022-03</td><td>32893</td></tr>",
                            "<tr><td>35</td><td>2022-04</td><td>11055</td></tr>",
                            "<tr><td>36</td><td>2020-12</td><td>10375</td></tr>",
                            "<tr><td>36</td><td>2020-12</td><td>20769</td></tr>",
                            "<tr><td>36</td><td>2021-01</td><td>10415</td></tr>",
                            "<tr><td>36</td><td>2021-07</td><td>10600</td></tr>",
                            "<tr><td>36</td><td>2021-09</td><td>10660</td></tr>",
                            "<tr><td>37</td><td>2020-09</td><td>10298</td></tr>",
                            "<tr><td>37</td><td>2020-09</td><td>20607</td></tr>",
                            "<tr><td>37</td><td>2020-10</td><td>10335</td></tr>",
                            "<tr><td>37</td><td>2020-12</td><td>10373</td></tr>",
                            "<tr><td>37</td><td>2020-12</td><td>20753</td></tr>",
                            "<tr><td>37</td><td>2021-01</td><td>10429</td></tr>",
                            "<tr><td>37</td><td>2021-04</td><td>10503</td></tr>",
                            "<tr><td>37</td><td>2021-04</td><td>21019</td></tr>",
                            "<tr><td>37</td><td>2021-06</td><td>10567</td></tr>",
                            "<tr><td>37</td><td>2021-08</td><td>10646</td></tr>",
                            "<tr><td>37</td><td>2021-09</td><td>10661</td></tr>",
                            "<tr><td>37</td><td>2021-09</td><td>21348</td></tr>",
                            "<tr><td>37</td><td>2021-10</td><td>10701</td></tr>",
                            "<tr><td>37</td><td>2021-10</td><td>21413</td></tr>",
                            "<tr><td>37</td><td>2021-11</td><td>10736</td></tr>",
                            "<tr><td>37</td><td>2022-02</td><td>10897</td></tr>",
                            "<tr><td>37</td><td>2022-02</td><td>21809</td></tr>",
                            "<tr><td>37</td><td>2022-03</td><td>10985</td></tr>",
                            "<tr><td>37</td><td>2022-04</td><td>11063</td></tr>",
                            "<tr><td>38</td><td>2020-09</td><td>10315</td></tr>",
                            "<tr><td>38</td><td>2020-10</td><td>10318</td></tr>",
                            "<tr><td>38</td><td>2020-10</td><td>20639</td></tr>",
                            "<tr><td>38</td><td>2021-03</td><td>10473</td></tr>",
                            "<tr><td>38</td><td>2021-08</td><td>10621</td></tr>",
                            "<tr><td>38</td><td>2021-09</td><td>10674</td></tr>",
                            "<tr><td>38</td><td>2021-11</td><td>10749</td></tr>",
                            "<tr><td>38</td><td>2021-12</td><td>10798</td></tr>",
                            "<tr><td>38</td><td>2022-01</td><td>10829</td></tr>",
                            "<tr><td>38</td><td>2022-03</td><td>10933</td></tr>",
                            "<tr><td>39</td><td>2020-10</td><td>10323</td></tr>",
                            "<tr><td>39</td><td>2020-10</td><td>20648</td></tr>",
                            "<tr><td>39</td><td>2021-02</td><td>10456</td></tr>",
                            "<tr><td>39</td><td>2021-02</td><td>20913</td></tr>",
                            "<tr><td>39</td><td>2021-03</td><td>10468</td></tr>",
                            "<tr><td>39</td><td>2021-04</td><td>10506</td></tr>",
                            "<tr><td>39</td><td>2021-05</td><td>10542</td></tr>",
                            "<tr><td>39</td><td>2021-08</td><td>10630</td></tr>",
                            "<tr><td>39</td><td>2021-10</td><td>10718</td></tr>",
                            "<tr><td>39</td><td>2021-12</td><td>10799</td></tr>",
                            "<tr><td>39</td><td>2022-01</td><td>10817</td></tr>",
                            "<tr><td>39</td><td>2022-01</td><td>21666</td></tr>",
                            "<tr><td>39</td><td>2022-02</td><td>10893</td></tr>",
                            "<tr><td>39</td><td>2022-04</td><td>11028</td></tr>",
                            "<tr><td>40</td><td>2022-01</td><td>10858</td></tr>",
                            "<tr><td>40</td><td>2022-03</td><td>10927</td></tr>",
                            "<tr><td>40</td><td>2022-03</td><td>21899</td></tr>",
                            "<tr><td>40</td><td>2022-03</td><td>32872</td></tr>",
                            "<tr><td>41</td><td>2020-11</td><td>10350</td></tr>",
                            "<tr><td>41</td><td>2020-11</td><td>20708</td></tr>",
                            "<tr><td>41</td><td>2020-12</td><td>10371</td></tr>",
                            "<tr><td>41</td><td>2021-01</td><td>10413</td></tr>",
                            "<tr><td>41</td><td>2021-01</td><td>20838</td></tr>",
                            "<tr><td>41</td><td>2021-02</td><td>10454</td></tr>",
                            "<tr><td>41</td><td>2021-04</td><td>10493</td></tr>",
                            "<tr><td>41</td><td>2021-04</td><td>20993</td></tr>",
                            "<tr><td>41</td><td>2021-07</td><td>10610</td></tr>",
                            "<tr><td>41</td><td>2021-08</td><td>10631</td></tr>",
                            "<tr><td>41</td><td>2021-12</td><td>10787</td></tr>",
                            "<tr><td>41</td><td>2022-01</td><td>10832</td></tr>",
                            "<tr><td>41</td><td>2022-03</td><td>10923</td></tr>",
                            "<tr><td>41</td><td>2022-04</td><td>11051</td></tr>",
                            "<tr><td>42</td><td>2021-04</td><td>10495</td></tr>",
                            "<tr><td>42</td><td>2021-08</td><td>10620</td></tr>",
                            "<tr><td>42</td><td>2022-01</td><td>10810</td></tr>",
                            "<tr><td>43</td><td>2021-03</td><td>10482</td></tr>",
                            "<tr><td>43</td><td>2021-05</td><td>10545</td></tr>",
                            "<tr><td>44</td><td>2020-08</td><td>10279</td></tr>",
                            "<tr><td>44</td><td>2020-08</td><td>20563</td></tr>",
                            "<tr><td>44</td><td>2020-10</td><td>10343</td></tr>",
                            "<tr><td>44</td><td>2021-04</td><td>10497</td></tr>",
                            "<tr><td>44</td><td>2021-04</td><td>21019</td></tr>",
                            "<tr><td>44</td><td>2021-05</td><td>10534</td></tr>",
                            "<tr><td>44</td><td>2021-05</td><td>21070</td></tr>",
                            "<tr><td>44</td><td>2021-06</td><td>10557</td></tr>",
                            "<tr><td>44</td><td>2021-07</td><td>10592</td></tr>",
                            "<tr><td>44</td><td>2021-07</td><td>21185</td></tr>",
                            "<tr><td>44</td><td>2021-12</td><td>10772</td></tr>",
                            "<tr><td>44</td><td>2022-01</td><td>10862</td></tr>",
                            "<tr><td>44</td><td>2022-02</td><td>10891</td></tr>",
                            "<tr><td>44</td><td>2022-03</td><td>10934</td></tr>",
                            "<tr><td>44</td><td>2022-05</td><td>11070</td></tr>",
                            "<tr><td>45</td><td>2021-06</td><td>10579</td></tr>",
                            "<tr><td>45</td><td>2021-10</td><td>10719</td></tr>",
                            "<tr><td>45</td><td>2021-11</td><td>10735</td></tr>",
                            "<tr><td>45</td><td>2022-02</td><td>10884</td></tr>",
                            "<tr><td>46</td><td>2020-08</td><td>10283</td></tr>",
                            "<tr><td>46</td><td>2020-09</td><td>10296</td></tr>",
                            "<tr><td>46</td><td>2020-10</td><td>10330</td></tr>",
                            "<tr><td>46</td><td>2020-11</td><td>10357</td></tr>",
                            "<tr><td>46</td><td>2020-12</td><td>10381</td></tr>",
                            "<tr><td>46</td><td>2021-02</td><td>10461</td></tr>",
                            "<tr><td>46</td><td>2021-04</td><td>10499</td></tr>",
                            "<tr><td>46</td><td>2021-05</td><td>10543</td></tr>",
                            "<tr><td>46</td><td>2021-12</td><td>10780</td></tr>",
                            "<tr><td>46</td><td>2022-01</td><td>10823</td></tr>",
                            "<tr><td>46</td><td>2022-02</td><td>10899</td></tr>",
                            "<tr><td>46</td><td>2022-04</td><td>10997</td></tr>",
                            "<tr><td>46</td><td>2022-05</td><td>11065</td></tr>",
                            "<tr><td>46</td><td>2022-05</td><td>22136</td></tr>",
                            "<tr><td>47</td><td>2021-01</td><td>10405</td></tr>",
                            "<tr><td>47</td><td>2021-03</td><td>10485</td></tr>",
                            "<tr><td>47</td><td>2021-08</td><td>10638</td></tr>",
                            "<tr><td>47</td><td>2021-10</td><td>10697</td></tr>",
                            "<tr><td>47</td><td>2021-11</td><td>10729</td></tr>",
                            "<tr><td>47</td><td>2022-01</td><td>10811</td></tr>",
                            "<tr><td>47</td><td>2022-01</td><td>21649</td></tr>",
                            "<tr><td>47</td><td>2022-01</td><td>32489</td></tr>",
                            "<tr><td>47</td><td>2022-03</td><td>10919</td></tr>",
                            "<tr><td>47</td><td>2022-03</td><td>21873</td></tr>",
                            "<tr><td>47</td><td>2022-04</td><td>11014</td></tr>",
                            "<tr><td>47</td><td>2022-04</td><td>22053</td></tr>",
                            "<tr><td>48</td><td>2020-09</td><td>10307</td></tr>",
                            "<tr><td>48</td><td>2020-09</td><td>20624</td></tr>",
                            "<tr><td>48</td><td>2021-05</td><td>10544</td></tr>",
                            "<tr><td>48</td><td>2021-09</td><td>10662</td></tr>",
                            "<tr><td>48</td><td>2021-09</td><td>21327</td></tr>",
                            "<tr><td>48</td><td>2022-02</td><td>10867</td></tr>",
                            "<tr><td>48</td><td>2022-02</td><td>21750</td></tr>",
                            "<tr><td>48</td><td>2022-04</td><td>11018</td></tr>",
                            "<tr><td>49</td><td>2020-08</td><td>10275</td></tr>",
                            "<tr><td>49</td><td>2020-09</td><td>10300</td></tr>",
                            "<tr><td>49</td><td>2021-01</td><td>10404</td></tr>",
                            "<tr><td>49</td><td>2021-03</td><td>10467</td></tr>",
                            "<tr><td>49</td><td>2021-08</td><td>10635</td></tr>",
                            "<tr><td>49</td><td>2021-11</td><td>10754</td></tr>",
                            "<tr><td>49</td><td>2021-12</td><td>10784</td></tr>",
                            "<tr><td>49</td><td>2022-01</td><td>10818</td></tr>",
                            "<tr><td>49</td><td>2022-03</td><td>10939</td></tr>",
                            "<tr><td>49</td><td>2022-03</td><td>21889</td></tr>",
                            "<tr><td>50</td><td>2021-05</td><td>10529</td></tr>",
                            "<tr><td>50</td><td>2021-08</td><td>10649</td></tr>",
                            "<tr><td>50</td><td>2021-12</td><td>10760</td></tr>",
                            "<tr><td>50</td><td>2022-02</td><td>10892</td></tr>",
                            "<tr><td>50</td><td>2022-02</td><td>21788</td></tr>",
                            "<tr><td>50</td><td>2022-03</td><td>10978</td></tr>",
                            "<tr><td>50</td><td>2022-04</td><td>11004</td></tr>",
                            "<tr><td>51</td><td>2020-10</td><td>10332</td></tr>",
                            "<tr><td>51</td><td>2020-10</td><td>20671</td></tr>",
                            "<tr><td>51</td><td>2020-12</td><td>10376</td></tr>",
                            "<tr><td>51</td><td>2021-01</td><td>10424</td></tr>",
                            "<tr><td>51</td><td>2021-02</td><td>10439</td></tr>",
                            "<tr><td>51</td><td>2021-04</td><td>10505</td></tr>",
                            "<tr><td>51</td><td>2021-06</td><td>10565</td></tr>",
                            "<tr><td>51</td><td>2021-06</td><td>21135</td></tr>",
                            "<tr><td>51</td><td>2021-07</td><td>10590</td></tr>",
                            "<tr><td>51</td><td>2021-07</td><td>21195</td></tr>",
                            "<tr><td>51</td><td>2021-08</td><td>10618</td></tr>",
                            "<tr><td>51</td><td>2021-08</td><td>21237</td></tr>",
                            "<tr><td>51</td><td>2021-10</td><td>10724</td></tr>",
                            "<tr><td>52</td><td>2020-08</td><td>10277</td></tr>",
                            "<tr><td>52</td><td>2021-06</td><td>10575</td></tr>",
                            "<tr><td>52</td><td>2021-10</td><td>10699</td></tr>",
                            "<tr><td>52</td><td>2021-12</td><td>10779</td></tr>",
                            "<tr><td>52</td><td>2022-03</td><td>10945</td></tr>",
                            "<tr><td>53</td><td>2021-04</td><td>10517</td></tr>",
                            "<tr><td>53</td><td>2021-11</td><td>10752</td></tr>",
                            "<tr><td>53</td><td>2022-04</td><td>11057</td></tr>",
                            "<tr><td>54</td><td>2021-01</td><td>10409</td></tr>",
                            "<tr><td>54</td><td>2021-05</td><td>10531</td></tr>",
                            "<tr><td>54</td><td>2022-02</td><td>10898</td></tr>",
                            "<tr><td>54</td><td>2022-03</td><td>10958</td></tr>",
                            "<tr><td>54</td><td>2022-03</td><td>21944</td></tr>",
                            "<tr><td>55</td><td>2020-09</td><td>10305</td></tr>",
                            "<tr><td>55</td><td>2020-10</td><td>10338</td></tr>",
                            "<tr><td>55</td><td>2021-02</td><td>10441</td></tr>",
                            "<tr><td>55</td><td>2021-07</td><td>10594</td></tr>",
                            "<tr><td>55</td><td>2021-09</td><td>10680</td></tr>",
                            "<tr><td>55</td><td>2021-10</td><td>10706</td></tr>",
                            "<tr><td>55</td><td>2022-01</td><td>10808</td></tr>",
                            "<tr><td>55</td><td>2022-01</td><td>21663</td></tr>",
                            "<tr><td>55</td><td>2022-03</td><td>10965</td></tr>",
                            "<tr><td>55</td><td>2022-04</td><td>11034</td></tr>",
                            "<tr><td>56</td><td>2020-07</td><td>10260</td></tr>",
                            "<tr><td>56</td><td>2021-01</td><td>10407</td></tr>",
                            "<tr><td>56</td><td>2021-04</td><td>10508</td></tr>",
                            "<tr><td>56</td><td>2021-05</td><td>10554</td></tr>",
                            "<tr><td>56</td><td>2021-06</td><td>10580</td></tr>",
                            "<tr><td>56</td><td>2021-09</td><td>10684</td></tr>",
                            "<tr><td>56</td><td>2021-12</td><td>10766</td></tr>",
                            "<tr><td>56</td><td>2022-01</td><td>10833</td></tr>",
                            "<tr><td>56</td><td>2022-04</td><td>10999</td></tr>",
                            "<tr><td>56</td><td>2022-04</td><td>22019</td></tr>",
                            "<tr><td>58</td><td>2020-10</td><td>10322</td></tr>",
                            "<tr><td>58</td><td>2020-11</td><td>10354</td></tr>",
                            "<tr><td>58</td><td>2021-03</td><td>10474</td></tr>",
                            "<tr><td>58</td><td>2021-04</td><td>10502</td></tr>",
                            "<tr><td>58</td><td>2022-04</td><td>10995</td></tr>",
                            "<tr><td>58</td><td>2022-05</td><td>11073</td></tr>",
                            "<tr><td>59</td><td>2020-11</td><td>10353</td></tr>",
                            "<tr><td>59</td><td>2020-12</td><td>10392</td></tr>",
                            "<tr><td>59</td><td>2021-01</td><td>10427</td></tr>",
                            "<tr><td>59</td><td>2021-03</td><td>10489</td></tr>",
                            "<tr><td>59</td><td>2021-05</td><td>10530</td></tr>",
                            "<tr><td>59</td><td>2021-07</td><td>10597</td></tr>",
                            "<tr><td>59</td><td>2021-09</td><td>10686</td></tr>",
                            "<tr><td>59</td><td>2021-11</td><td>10747</td></tr>",
                            "<tr><td>59</td><td>2022-01</td><td>10844</td></tr>",
                            "<tr><td>59</td><td>2022-04</td><td>11053</td></tr>",
                            "<tr><td>60</td><td>2020-10</td><td>10336</td></tr>",
                            "<tr><td>60</td><td>2020-12</td><td>10397</td></tr>",
                            "<tr><td>60</td><td>2021-02</td><td>10433</td></tr>",
                            "<tr><td>60</td><td>2021-03</td><td>10477</td></tr>",
                            "<tr><td>60</td><td>2022-04</td><td>11007</td></tr>",
                            "<tr><td>61</td><td>2020-07</td><td>10261</td></tr>",
                            "<tr><td>61</td><td>2020-08</td><td>10291</td></tr>",
                            "<tr><td>61</td><td>2020-12</td><td>10379</td></tr>",
                            "<tr><td>61</td><td>2021-01</td><td>10421</td></tr>",
                            "<tr><td>61</td><td>2021-07</td><td>10587</td></tr>",
                            "<tr><td>61</td><td>2021-08</td><td>10647</td></tr>",
                            "<tr><td>61</td><td>2021-10</td><td>10720</td></tr>",
                            "<tr><td>61</td><td>2021-12</td><td>10794</td></tr>",
                            "<tr><td>61</td><td>2022-03</td><td>10989</td></tr>",
                            "<tr><td>62</td><td>2020-12</td><td>10372</td></tr>",
                            "<tr><td>62</td><td>2021-01</td><td>10406</td></tr>",
                            "<tr><td>62</td><td>2021-03</td><td>10487</td></tr>",
                            "<tr><td>62</td><td>2021-08</td><td>10637</td></tr>",
                            "<tr><td>62</td><td>2021-09</td><td>10659</td></tr>",
                            "<tr><td>62</td><td>2021-10</td><td>10704</td></tr>",
                            "<tr><td>62</td><td>2021-11</td><td>10728</td></tr>",
                            "<tr><td>62</td><td>2021-12</td><td>10786</td></tr>",
                            "<tr><td>62</td><td>2022-02</td><td>10868</td></tr>",
                            "<tr><td>62</td><td>2022-02</td><td>21781</td></tr>",
                            "<tr><td>62</td><td>2022-02</td><td>32695</td></tr>",
                            "<tr><td>62</td><td>2022-03</td><td>10961</td></tr>",
                            "<tr><td>62</td><td>2022-05</td><td>11068</td></tr>",
                            "<tr><td>63</td><td>2020-08</td><td>10273</td></tr>",
                            "<tr><td>63</td><td>2020-08</td><td>20558</td></tr>",
                            "<tr><td>63</td><td>2020-08</td><td>30844</td></tr>",
                            "<tr><td>63</td><td>2020-09</td><td>10313</td></tr>",
                            "<tr><td>63</td><td>2020-11</td><td>10345</td></tr>",
                            "<tr><td>63</td><td>2020-11</td><td>20706</td></tr>",
                            "<tr><td>63</td><td>2021-01</td><td>10418</td></tr>",
                            "<tr><td>63</td><td>2021-02</td><td>10451</td></tr>",
                            "<tr><td>63</td><td>2021-04</td><td>10515</td></tr>",
                            "<tr><td>63</td><td>2021-05</td><td>10527</td></tr>",
                            "<tr><td>63</td><td>2021-05</td><td>21067</td></tr>",
                            "<tr><td>63</td><td>2021-05</td><td>31616</td></tr>",
                            "<tr><td>63</td><td>2021-07</td><td>10588</td></tr>",
                            "<tr><td>63</td><td>2021-09</td><td>10658</td></tr>",
                            "<tr><td>63</td><td>2021-10</td><td>10691</td></tr>",
                            "<tr><td>63</td><td>2021-10</td><td>21385</td></tr>",
                            "<tr><td>63</td><td>2021-10</td><td>32106</td></tr>",
                            "<tr><td>63</td><td>2021-11</td><td>10745</td></tr>",
                            "<tr><td>63</td><td>2021-12</td><td>10765</td></tr>",
                            "<tr><td>63</td><td>2021-12</td><td>21553</td></tr>",
                            "<tr><td>63</td><td>2022-01</td><td>10845</td></tr>",
                            "<tr><td>63</td><td>2022-02</td><td>10865</td></tr>",
                            "<tr><td>63</td><td>2022-02</td><td>21743</td></tr>",
                            "<tr><td>63</td><td>2022-03</td><td>10938</td></tr>",
                            "<tr><td>63</td><td>2022-03</td><td>21900</td></tr>",
                            "<tr><td>63</td><td>2022-04</td><td>10991</td></tr>",
                            "<tr><td>63</td><td>2022-04</td><td>21987</td></tr>",
                            "<tr><td>63</td><td>2022-04</td><td>33008</td></tr>",
                            "<tr><td>64</td><td>2021-02</td><td>10448</td></tr>",
                            "<tr><td>64</td><td>2021-10</td><td>10716</td></tr>",
                            "<tr><td>64</td><td>2022-01</td><td>10828</td></tr>",
                            "<tr><td>64</td><td>2022-02</td><td>10916</td></tr>",
                            "<tr><td>64</td><td>2022-04</td><td>11019</td></tr>",
                            "<tr><td>65</td><td>2020-07</td><td>10262</td></tr>",
                            "<tr><td>65</td><td>2020-08</td><td>10272</td></tr>",
                            "<tr><td>65</td><td>2020-08</td><td>20566</td></tr>",
                            "<tr><td>65</td><td>2020-09</td><td>10314</td></tr>",
                            "<tr><td>65</td><td>2020-09</td><td>20630</td></tr>",
                            "<tr><td>65</td><td>2020-11</td><td>10346</td></tr>",
                            "<tr><td>65</td><td>2021-01</td><td>10401</td></tr>",
                            "<tr><td>65</td><td>2021-03</td><td>10479</td></tr>",
                            "<tr><td>65</td><td>2021-06</td><td>10564</td></tr>",
                            "<tr><td>65</td><td>2021-06</td><td>21133</td></tr>",
                            "<tr><td>65</td><td>2021-07</td><td>10598</td></tr>",
                            "<tr><td>65</td><td>2021-12</td><td>10761</td></tr>",
                            "<tr><td>65</td><td>2022-01</td><td>10820</td></tr>",
                            "<tr><td>65</td><td>2022-01</td><td>21672</td></tr>",
                            "<tr><td>65</td><td>2022-02</td><td>10889</td></tr>",
                            "<tr><td>65</td><td>2022-03</td><td>10988</td></tr>",
                            "<tr><td>65</td><td>2022-04</td><td>11000</td></tr>",
                            "<tr><td>65</td><td>2022-05</td><td>11077</td></tr>",
                            "<tr><td>66</td><td>2020-08</td><td>10288</td></tr>",
                            "<tr><td>66</td><td>2021-01</td><td>10428</td></tr>",
                            "<tr><td>66</td><td>2021-02</td><td>10443</td></tr>",
                            "<tr><td>66</td><td>2021-06</td><td>10562</td></tr>",
                            "<tr><td>66</td><td>2021-07</td><td>10586</td></tr>",
                            "<tr><td>66</td><td>2021-09</td><td>10655</td></tr>",
                            "<tr><td>66</td><td>2021-11</td><td>10727</td></tr>",
                            "<tr><td>66</td><td>2022-01</td><td>10812</td></tr>",
                            "<tr><td>66</td><td>2022-02</td><td>10908</td></tr>",
                            "<tr><td>66</td><td>2022-03</td><td>10942</td></tr>",
                            "<tr><td>66</td><td>2022-04</td><td>11010</td></tr>",
                            "<tr><td>66</td><td>2022-04</td><td>22072</td></tr>",
                            "<tr><td>67</td><td>2020-08</td><td>10287</td></tr>",
                            "<tr><td>67</td><td>2020-09</td><td>10299</td></tr>",
                            "<tr><td>67</td><td>2021-02</td><td>10447</td></tr>",
                            "<tr><td>67</td><td>2021-03</td><td>10481</td></tr>",
                            "<tr><td>67</td><td>2021-06</td><td>10563</td></tr>",
                            "<tr><td>67</td><td>2021-08</td><td>10622</td></tr>",
                            "<tr><td>67</td><td>2021-08</td><td>21270</td></tr>",
                            "<tr><td>67</td><td>2022-01</td><td>10813</td></tr>",
                            "<tr><td>67</td><td>2022-01</td><td>21664</td></tr>",
                            "<tr><td>67</td><td>2022-02</td><td>10877</td></tr>",
                            "<tr><td>67</td><td>2022-04</td><td>11059</td></tr>",
                            "<tr><td>68</td><td>2020-07</td><td>10255</td></tr>",
                            "<tr><td>68</td><td>2021-01</td><td>10419</td></tr>",
                            "<tr><td>68</td><td>2021-05</td><td>10537</td></tr>",
                            "<tr><td>68</td><td>2021-09</td><td>10666</td></tr>",
                            "<tr><td>68</td><td>2021-11</td><td>10751</td></tr>",
                            "<tr><td>68</td><td>2021-11</td><td>21509</td></tr>",
                            "<tr><td>68</td><td>2022-03</td><td>10931</td></tr>",
                            "<tr><td>68</td><td>2022-03</td><td>21882</td></tr>",
                            "<tr><td>68</td><td>2022-04</td><td>11033</td></tr>",
                            "<tr><td>68</td><td>2022-05</td><td>11075</td></tr>",
                            "<tr><td>69</td><td>2020-08</td><td>10281</td></tr>",
                            "<tr><td>69</td><td>2020-08</td><td>20563</td></tr>",
                            "<tr><td>69</td><td>2020-09</td><td>10306</td></tr>",
                            "<tr><td>69</td><td>2022-03</td><td>10917</td></tr>",
                            "<tr><td>69</td><td>2022-04</td><td>11013</td></tr>",
                            "<tr><td>70</td><td>2020-12</td><td>10387</td></tr>",
                            "<tr><td>70</td><td>2021-04</td><td>10520</td></tr>",
                            "<tr><td>70</td><td>2021-08</td><td>10639</td></tr>",
                            "<tr><td>70</td><td>2022-01</td><td>10831</td></tr>",
                            "<tr><td>70</td><td>2022-02</td><td>10909</td></tr>",
                            "<tr><td>70</td><td>2022-04</td><td>11015</td></tr>",
                            "<tr><td>71</td><td>2020-10</td><td>10324</td></tr>",
                            "<tr><td>71</td><td>2020-12</td><td>10393</td></tr>",
                            "<tr><td>71</td><td>2020-12</td><td>20791</td></tr>",
                            "<tr><td>71</td><td>2021-02</td><td>10440</td></tr>",
                            "<tr><td>71</td><td>2021-02</td><td>20892</td></tr>",
                            "<tr><td>71</td><td>2021-04</td><td>10510</td></tr>",
                            "<tr><td>71</td><td>2021-06</td><td>10555</td></tr>",
                            "<tr><td>71</td><td>2021-07</td><td>10603</td></tr>",
                            "<tr><td>71</td><td>2021-07</td><td>21210</td></tr>",
                            "<tr><td>71</td><td>2021-07</td><td>31822</td></tr>",
                            "<tr><td>71</td><td>2021-08</td><td>10627</td></tr>",
                            "<tr><td>71</td><td>2021-09</td><td>10657</td></tr>",
                            "<tr><td>71</td><td>2021-09</td><td>21335</td></tr>",
                            "<tr><td>71</td><td>2021-10</td><td>10700</td></tr>",
                            "<tr><td>71</td><td>2021-10</td><td>21411</td></tr>",
                            "<tr><td>71</td><td>2021-10</td><td>32124</td></tr>",
                            "<tr><td>71</td><td>2021-10</td><td>42838</td></tr>",
                            "<tr><td>71</td><td>2021-10</td><td>53560</td></tr>",
                            "<tr><td>71</td><td>2021-11</td><td>10748</td></tr>",
                            "<tr><td>71</td><td>2021-11</td><td>21505</td></tr>",
                            "<tr><td>71</td><td>2022-01</td><td>10815</td></tr>",
                            "<tr><td>71</td><td>2022-01</td><td>21662</td></tr>",
                            "<tr><td>71</td><td>2022-02</td><td>10882</td></tr>",
                            "<tr><td>71</td><td>2022-02</td><td>21776</td></tr>",
                            "<tr><td>71</td><td>2022-03</td><td>10941</td></tr>",
                            "<tr><td>71</td><td>2022-03</td><td>21924</td></tr>",
                            "<tr><td>71</td><td>2022-03</td><td>32908</td></tr>",
                            "<tr><td>71</td><td>2022-04</td><td>11002</td></tr>",
                            "<tr><td>71</td><td>2022-04</td><td>22032</td></tr>",
                            "<tr><td>71</td><td>2022-04</td><td>33063</td></tr>",
                            "<tr><td>71</td><td>2022-05</td><td>11064</td></tr>",
                            "<tr><td>72</td><td>2020-11</td><td>10359</td></tr>",
                            "<tr><td>72</td><td>2020-12</td><td>10377</td></tr>",
                            "<tr><td>72</td><td>2020-12</td><td>20765</td></tr>",
                            "<tr><td>72</td><td>2021-03</td><td>10472</td></tr>",
                            "<tr><td>72</td><td>2021-05</td><td>10523</td></tr>",
                            "<tr><td>72</td><td>2021-05</td><td>21070</td></tr>",
                            "<tr><td>72</td><td>2021-12</td><td>10800</td></tr>",
                            "<tr><td>72</td><td>2021-12</td><td>21604</td></tr>",
                            "<tr><td>72</td><td>2022-02</td><td>10869</td></tr>",
                            "<tr><td>73</td><td>2020-10</td><td>10341</td></tr>",
                            "<tr><td>73</td><td>2021-01</td><td>10417</td></tr>",
                            "<tr><td>73</td><td>2021-06</td><td>10556</td></tr>",
                            "<tr><td>73</td><td>2021-08</td><td>10642</td></tr>",
                            "<tr><td>73</td><td>2021-09</td><td>10669</td></tr>",
                            "<tr><td>73</td><td>2021-12</td><td>10802</td></tr>",
                            "<tr><td>73</td><td>2022-05</td><td>11074</td></tr>",
                            "<tr><td>74</td><td>2021-11</td><td>10738</td></tr>",
                            "<tr><td>74</td><td>2022-02</td><td>10907</td></tr>",
                            "<tr><td>74</td><td>2022-03</td><td>10964</td></tr>",
                            "<tr><td>74</td><td>2022-04</td><td>11043</td></tr>",
                            "<tr><td>75</td><td>2020-08</td><td>10271</td></tr>",
                            "<tr><td>75</td><td>2020-10</td><td>10329</td></tr>",
                            "<tr><td>75</td><td>2020-11</td><td>10349</td></tr>",
                            "<tr><td>75</td><td>2020-12</td><td>10369</td></tr>",
                            "<tr><td>75</td><td>2020-12</td><td>20754</td></tr>",
                            "<tr><td>75</td><td>2021-01</td><td>10432</td></tr>",
                            "<tr><td>75</td><td>2021-11</td><td>10756</td></tr>",
                            "<tr><td>75</td><td>2022-01</td><td>10821</td></tr>",
                            "<tr><td>75</td><td>2022-03</td><td>10974</td></tr>",
                            "<tr><td>76</td><td>2020-07</td><td>10252</td></tr>",
                            "<tr><td>76</td><td>2020-09</td><td>10302</td></tr>",
                            "<tr><td>76</td><td>2021-02</td><td>10458</td></tr>",
                            "<tr><td>76</td><td>2021-03</td><td>10463</td></tr>",
                            "<tr><td>76</td><td>2021-03</td><td>20938</td></tr>",
                            "<tr><td>76</td><td>2021-12</td><td>10767</td></tr>",
                            "<tr><td>76</td><td>2022-01</td><td>10841</td></tr>",
                            "<tr><td>76</td><td>2022-01</td><td>21687</td></tr>",
                            "<tr><td>76</td><td>2022-02</td><td>10885</td></tr>",
                            "<tr><td>76</td><td>2022-03</td><td>10930</td></tr>",
                            "<tr><td>76</td><td>2022-04</td><td>11035</td></tr>",
                            "<tr><td>76</td><td>2022-04</td><td>22073</td></tr>",
                            "<tr><td>77</td><td>2020-09</td><td>10310</td></tr>",
                            "<tr><td>77</td><td>2021-10</td><td>10708</td></tr>",
                            "<tr><td>77</td><td>2021-12</td><td>10805</td></tr>",
                            "<tr><td>77</td><td>2022-04</td><td>10992</td></tr>",
                            "<tr><td>78</td><td>2021-08</td><td>10624</td></tr>",
                            "<tr><td>78</td><td>2021-12</td><td>10775</td></tr>",
                            "<tr><td>78</td><td>2022-04</td><td>11003</td></tr>",
                            "<tr><td>79</td><td>2020-07</td><td>10249</td></tr>",
                            "<tr><td>79</td><td>2021-02</td><td>10438</td></tr>",
                            "<tr><td>79</td><td>2021-02</td><td>20884</td></tr>",
                            "<tr><td>79</td><td>2021-05</td><td>10548</td></tr>",
                            "<tr><td>79</td><td>2021-07</td><td>10608</td></tr>",
                            "<tr><td>79</td><td>2022-03</td><td>10967</td></tr>",
                            "<tr><td>80</td><td>2020-08</td><td>10276</td></tr>",
                            "<tr><td>80</td><td>2020-08</td><td>20569</td></tr>",
                            "<tr><td>80</td><td>2020-09</td><td>10304</td></tr>",
                            "<tr><td>80</td><td>2020-10</td><td>10319</td></tr>",
                            "<tr><td>80</td><td>2021-04</td><td>10518</td></tr>",
                            "<tr><td>80</td><td>2021-06</td><td>10576</td></tr>",
                            "<tr><td>80</td><td>2021-09</td><td>10676</td></tr>",
                            "<tr><td>80</td><td>2022-01</td><td>10842</td></tr>",
                            "<tr><td>80</td><td>2022-02</td><td>10915</td></tr>",
                            "<tr><td>80</td><td>2022-05</td><td>11069</td></tr>",
                            "<tr><td>81</td><td>2020-08</td><td>10292</td></tr>",
                            "<tr><td>81</td><td>2021-04</td><td>10496</td></tr>",
                            "<tr><td>81</td><td>2021-07</td><td>10606</td></tr>",
                            "<tr><td>81</td><td>2022-01</td><td>10830</td></tr>",
                            "<tr><td>81</td><td>2022-01</td><td>21664</td></tr>",
                            "<tr><td>81</td><td>2022-01</td><td>32503</td></tr>",
                            "<tr><td>82</td><td>2021-06</td><td>10574</td></tr>",
                            "<tr><td>82</td><td>2021-06</td><td>21151</td></tr>",
                            "<tr><td>82</td><td>2022-01</td><td>10822</td></tr>",
                            "<tr><td>83</td><td>2020-11</td><td>10367</td></tr>",
                            "<tr><td>83</td><td>2020-12</td><td>10399</td></tr>",
                            "<tr><td>83</td><td>2021-03</td><td>10465</td></tr>",
                            "<tr><td>83</td><td>2021-07</td><td>10591</td></tr>",
                            "<tr><td>83</td><td>2021-07</td><td>21193</td></tr>",
                            "<tr><td>83</td><td>2021-10</td><td>10688</td></tr>",
                            "<tr><td>83</td><td>2021-11</td><td>10744</td></tr>",
                            "<tr><td>83</td><td>2021-12</td><td>10769</td></tr>",
                            "<tr><td>83</td><td>2022-03</td><td>10921</td></tr>",
                            "<tr><td>83</td><td>2022-03</td><td>21867</td></tr>",
                            "<tr><td>83</td><td>2022-04</td><td>10994</td></tr>",
                            "<tr><td>84</td><td>2020-07</td><td>10251</td></tr>",
                            "<tr><td>84</td><td>2020-10</td><td>10334</td></tr>",
                            "<tr><td>84</td><td>2021-02</td><td>10450</td></tr>",
                            "<tr><td>84</td><td>2021-02</td><td>20909</td></tr>",
                            "<tr><td>84</td><td>2021-03</td><td>10478</td></tr>",
                            "<tr><td>84</td><td>2021-05</td><td>10546</td></tr>",
                            "<tr><td>84</td><td>2021-12</td><td>10806</td></tr>",
                            "<tr><td>84</td><td>2022-01</td><td>10814</td></tr>",
                            "<tr><td>84</td><td>2022-01</td><td>21657</td></tr>",
                            "<tr><td>84</td><td>2022-01</td><td>32507</td></tr>",
                            "<tr><td>85</td><td>2020-07</td><td>10248</td></tr>",
                            "<tr><td>85</td><td>2020-08</td><td>10274</td></tr>",
                            "<tr><td>85</td><td>2020-09</td><td>10295</td></tr>",
                            "<tr><td>85</td><td>2021-11</td><td>10737</td></tr>",
                            "<tr><td>85</td><td>2021-11</td><td>21476</td></tr>",
                            "<tr><td>86</td><td>2020-09</td><td>10301</td></tr>",
                            "<tr><td>86</td><td>2020-09</td><td>20613</td></tr>",
                            "<tr><td>86</td><td>2020-11</td><td>10348</td></tr>",
                            "<tr><td>86</td><td>2020-11</td><td>20704</td></tr>",
                            "<tr><td>86</td><td>2021-04</td><td>10513</td></tr>",
                            "<tr><td>86</td><td>2021-08</td><td>10632</td></tr>",
                            "<tr><td>86</td><td>2021-08</td><td>21272</td></tr>",
                            "<tr><td>86</td><td>2021-09</td><td>10651</td></tr>",
                            "<tr><td>86</td><td>2021-09</td><td>21319</td></tr>",
                            "<tr><td>86</td><td>2022-04</td><td>11046</td></tr>",
                            "<tr><td>87</td><td>2020-07</td><td>10266</td></tr>",
                            "<tr><td>87</td><td>2020-08</td><td>10270</td></tr>",
                            "<tr><td>87</td><td>2020-10</td><td>10320</td></tr>",
                            "<tr><td>87</td><td>2020-10</td><td>20653</td></tr>",
                            "<tr><td>87</td><td>2021-01</td><td>10412</td></tr>",
                            "<tr><td>87</td><td>2021-01</td><td>20828</td></tr>",
                            "<tr><td>87</td><td>2021-02</td><td>10437</td></tr>",
                            "<tr><td>87</td><td>2021-02</td><td>20892</td></tr>",
                            "<tr><td>87</td><td>2021-05</td><td>10526</td></tr>",
                            "<tr><td>87</td><td>2021-05</td><td>21079</td></tr>",
                            "<tr><td>87</td><td>2021-06</td><td>10583</td></tr>",
                            "<tr><td>87</td><td>2021-08</td><td>10636</td></tr>",
                            "<tr><td>87</td><td>2021-11</td><td>10750</td></tr>",
                            "<tr><td>87</td><td>2021-12</td><td>10781</td></tr>",
                            "<tr><td>87</td><td>2022-04</td><td>11025</td></tr>",
                            "<tr><td>88</td><td>2020-07</td><td>10256</td></tr>",
                            "<tr><td>88</td><td>2021-01</td><td>10420</td></tr>",
                            "<tr><td>88</td><td>2021-07</td><td>10585</td></tr>",
                            "<tr><td>88</td><td>2021-08</td><td>10644</td></tr>",
                            "<tr><td>88</td><td>2021-12</td><td>10803</td></tr>",
                            "<tr><td>88</td><td>2022-01</td><td>10809</td></tr>",
                            "<tr><td>88</td><td>2022-02</td><td>10900</td></tr>",
                            "<tr><td>88</td><td>2022-02</td><td>21805</td></tr>",
                            "<tr><td>88</td><td>2022-03</td><td>10935</td></tr>",
                            "<tr><td>89</td><td>2020-07</td><td>10269</td></tr>",
                            "<tr><td>89</td><td>2020-11</td><td>10344</td></tr>",
                            "<tr><td>89</td><td>2021-03</td><td>10469</td></tr>",
                            "<tr><td>89</td><td>2021-03</td><td>20952</td></tr>",
                            "<tr><td>89</td><td>2021-04</td><td>10504</td></tr>",
                            "<tr><td>89</td><td>2021-07</td><td>10596</td></tr>",
                            "<tr><td>89</td><td>2021-10</td><td>10693</td></tr>",
                            "<tr><td>89</td><td>2021-10</td><td>21389</td></tr>",
                            "<tr><td>89</td><td>2021-10</td><td>32112</td></tr>",
                            "<tr><td>89</td><td>2021-11</td><td>10740</td></tr>",
                            "<tr><td>89</td><td>2022-01</td><td>10861</td></tr>",
                            "<tr><td>89</td><td>2022-02</td><td>10904</td></tr>",
                            "<tr><td>89</td><td>2022-04</td><td>11032</td></tr>",
                            "<tr><td>89</td><td>2022-05</td><td>11066</td></tr>",
                            "<tr><td>90</td><td>2021-07</td><td>10615</td></tr>",
                            "<tr><td>90</td><td>2021-09</td><td>10673</td></tr>",
                            "<tr><td>90</td><td>2021-10</td><td>10695</td></tr>",
                            "<tr><td>90</td><td>2022-02</td><td>10873</td></tr>",
                            "<tr><td>90</td><td>2022-02</td><td>21752</td></tr>",
                            "<tr><td>90</td><td>2022-02</td><td>32662</td></tr>",
                            "<tr><td>90</td><td>2022-04</td><td>11005</td></tr>",
                            "<tr><td>91</td><td>2020-12</td><td>10374</td></tr>",
                            "<tr><td>91</td><td>2021-07</td><td>10611</td></tr>",
                            "<tr><td>91</td><td>2021-12</td><td>10792</td></tr>",
                            "<tr><td>91</td><td>2022-02</td><td>10870</td></tr>",
                            "<tr><td>91</td><td>2022-02</td><td>21776</td></tr>",
                            "<tr><td>91</td><td>2022-04</td><td>10998</td></tr>",
                            "<tr><td>91</td><td>2022-04</td><td>22042</td></tr>",
                            "</table>"
                        ]
                    }
                }
            ],
            "execution_count": 5
        }
    ]
}