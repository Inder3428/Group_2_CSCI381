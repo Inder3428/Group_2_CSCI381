{
    "metadata": {
        "kernelspec": {
            "name": "SQL",
            "display_name": "SQL",
            "language": "sql"
        },
        "language_info": {
            "name": "sql",
            "version": ""
        }
    },
    "nbformat_minor": 2,
    "nbformat": 4,
    "cells": [
        {
            "cell_type": "markdown",
            "source": [
                "# 1. `Query_Description.sql`\r\n",
                "\r\n",
                "## Proposition\r\n",
                "Description of the propositon for this query.\r\n",
                "\r\n",
                "## Tables\r\n",
                "- ``: Table details.\r\n",
                "- ``: Table details.\r\n",
                "\r\n",
                "## Columns\r\n",
                "- ``: Column details.\r\n",
                "- ``: Column details.\r\n",
                "- ``: Column details.\r\n",
                "- ``: Column details."
            ],
            "metadata": {
                "azdata_cell_guid": "07cb3c87-7cf7-4e88-83e9-ef992ab0164b"
            },
            "attachments": {}
        },
        {
            "cell_type": "code",
            "source": [
                ""
            ],
            "metadata": {
                "azdata_cell_guid": "87607acb-c641-45ff-9c35-62ebe4284e9c",
                "language": "sql"
            },
            "outputs": [],
            "execution_count": null
        },
        {
            "cell_type": "markdown",
            "source": [
                "___\r\n",
                "___\r\n",
                "___"
            ],
            "metadata": {
                "language": "sql",
                "azdata_cell_guid": "d642668c-a26b-460e-9e01-96c721576f22"
            },
            "attachments": {}
        },
        {
            "cell_type": "markdown",
            "source": [
                "# 2. `Query_Description.sql`\r\n",
                "\r\n",
                "## Proposition\r\n",
                "Description of the propositon for this query.\r\n",
                "\r\n",
                "## Tables\r\n",
                "- ``: Table details.\r\n",
                "- ``: Table details.\r\n",
                "\r\n",
                "## Columns\r\n",
                "- ``: Column details.\r\n",
                "- ``: Column details.\r\n",
                "- ``: Column details.\r\n",
                "- ``: Column details."
            ],
            "metadata": {
                "language": "sql",
                "azdata_cell_guid": "02bf24dd-6cce-418f-802e-83f1b3149712"
            },
            "attachments": {}
        },
        {
            "cell_type": "code",
            "source": [
                ""
            ],
            "metadata": {
                "language": "sql",
                "azdata_cell_guid": "8c33593c-3926-4388-8d64-045da3ebcf00"
            },
            "outputs": [],
            "execution_count": null
        },
        {
            "cell_type": "markdown",
            "source": [
                "___\r\n",
                "___\r\n",
                "___"
            ],
            "metadata": {
                "language": "sql",
                "azdata_cell_guid": "21c32721-3873-467f-a902-49d177fa7c7f"
            },
            "attachments": {}
        },
        {
            "cell_type": "markdown",
            "source": [
                "# 3. `Query_Description.sql`\r\n",
                "\r\n",
                "## Proposition\r\n",
                "Description of the propositon for this query.\r\n",
                "\r\n",
                "## Tables\r\n",
                "- ``: Table details.\r\n",
                "- ``: Table details.\r\n",
                "\r\n",
                "## Columns\r\n",
                "- ``: Column details.\r\n",
                "- ``: Column details.\r\n",
                "- ``: Column details.\r\n",
                "- ``: Column details."
            ],
            "metadata": {
                "language": "sql",
                "azdata_cell_guid": "17370d40-afb6-4cf8-bf63-ee8ab29e1f76"
            },
            "attachments": {}
        },
        {
            "cell_type": "code",
            "source": [
                ""
            ],
            "metadata": {
                "language": "sql",
                "azdata_cell_guid": "7b3d7352-618b-4d1e-888c-0514ee7233dd"
            },
            "outputs": [],
            "execution_count": null
        },
        {
            "cell_type": "markdown",
            "source": [
                "___\r\n",
                "___\r\n",
                "___"
            ],
            "metadata": {
                "language": "sql",
                "azdata_cell_guid": "2021d24a-21bc-4651-98b4-6aa00e5f49db"
            },
            "attachments": {}
        },
        {
            "cell_type": "markdown",
            "source": [
                "# 4. `Query_Description.sql`\r\n",
                "\r\n",
                "## Proposition\r\n",
                "Description of the propositon for this query.\r\n",
                "\r\n",
                "## Tables\r\n",
                "- ``: Table details.\r\n",
                "- ``: Table details.\r\n",
                "\r\n",
                "## Columns\r\n",
                "- ``: Column details.\r\n",
                "- ``: Column details.\r\n",
                "- ``: Column details.\r\n",
                "- ``: Column details."
            ],
            "metadata": {
                "language": "sql",
                "azdata_cell_guid": "32d3f508-438f-4bd7-afd4-0f99f8b472f9"
            },
            "attachments": {}
        },
        {
            "cell_type": "code",
            "source": [
                ""
            ],
            "metadata": {
                "language": "sql",
                "azdata_cell_guid": "3b479db3-bdda-43a6-b187-5675cb111347"
            },
            "outputs": [],
            "execution_count": null
        },
        {
            "cell_type": "markdown",
            "source": [
                "___\r\n",
                "___\r\n",
                "___"
            ],
            "metadata": {
                "language": "sql",
                "azdata_cell_guid": "5246cda7-af06-4462-a22c-8290fffee19c"
            },
            "attachments": {}
        },
        {
            "cell_type": "markdown",
            "source": [
                "# 5. `Query_Description.sql`\r\n",
                "\r\n",
                "## Proposition\r\n",
                "Description of the propositon for this query.\r\n",
                "\r\n",
                "## Tables\r\n",
                "- ``: Table details.\r\n",
                "- ``: Table details.\r\n",
                "\r\n",
                "## Columns\r\n",
                "- ``: Column details.\r\n",
                "- ``: Column details.\r\n",
                "- ``: Column details.\r\n",
                "- ``: Column details."
            ],
            "metadata": {
                "language": "sql",
                "azdata_cell_guid": "4f46411e-db6c-44b1-8233-8fa26a90d875"
            },
            "attachments": {}
        },
        {
            "cell_type": "code",
            "source": [
                ""
            ],
            "metadata": {
                "language": "sql",
                "azdata_cell_guid": "b81baecb-1ba7-4463-a8d2-762c405efa43"
            },
            "outputs": [],
            "execution_count": null
        },
        {
            "cell_type": "markdown",
            "source": [
                "___\r\n",
                "___\r\n",
                "___"
            ],
            "metadata": {
                "language": "sql",
                "azdata_cell_guid": "c80a26af-031e-46d1-a119-2cc3506bc55f"
            },
            "attachments": {}
        },
        {
            "cell_type": "markdown",
            "source": [
                "# 6. `Query_Description.sql`\r\n",
                "\r\n",
                "## Proposition\r\n",
                "Description of the propositon for this query.\r\n",
                "\r\n",
                "## Tables\r\n",
                "- ``: Table details.\r\n",
                "- ``: Table details.\r\n",
                "\r\n",
                "## Columns\r\n",
                "- ``: Column details.\r\n",
                "- ``: Column details.\r\n",
                "- ``: Column details.\r\n",
                "- ``: Column details."
            ],
            "metadata": {
                "language": "sql",
                "azdata_cell_guid": "19aa5b38-f7d0-4712-b54a-4dcf04c38e2e"
            },
            "attachments": {}
        },
        {
            "cell_type": "code",
            "source": [
                ""
            ],
            "metadata": {
                "language": "sql",
                "azdata_cell_guid": "2069058e-f7b4-40d7-a46e-669c8348d3c9"
            },
            "outputs": [],
            "execution_count": null
        },
        {
            "cell_type": "markdown",
            "source": [
                "___\r\n",
                "___\r\n",
                "___"
            ],
            "metadata": {
                "language": "sql",
                "azdata_cell_guid": "0158d0b3-80d1-4a32-b193-4e8eb540c8e4"
            },
            "attachments": {}
        },
        {
            "cell_type": "markdown",
            "source": [
                "# 7. `Query_Description.sql`\r\n",
                "\r\n",
                "## Proposition\r\n",
                "Description of the propositon for this query.\r\n",
                "\r\n",
                "## Tables\r\n",
                "- ``: Table details.\r\n",
                "- ``: Table details.\r\n",
                "\r\n",
                "## Columns\r\n",
                "- ``: Column details.\r\n",
                "- ``: Column details.\r\n",
                "- ``: Column details.\r\n",
                "- ``: Column details."
            ],
            "metadata": {
                "language": "sql",
                "azdata_cell_guid": "5a8db702-c41d-41b8-965b-f699b89a5f94"
            },
            "attachments": {}
        },
        {
            "cell_type": "code",
            "source": [
                ""
            ],
            "metadata": {
                "language": "sql",
                "azdata_cell_guid": "74cf33d6-94af-44b4-9567-fef226d0f464"
            },
            "outputs": [],
            "execution_count": null
        },
        {
            "cell_type": "markdown",
            "source": [
                "___\r\n",
                "___\r\n",
                "___"
            ],
            "metadata": {
                "language": "sql",
                "azdata_cell_guid": "dc5ed53b-39bf-4dd1-8b34-6f0ca156b230"
            },
            "attachments": {}
        },
        {
            "cell_type": "markdown",
            "source": [
                "# 8. `Query_Description.sql`\r\n",
                "\r\n",
                "## Proposition\r\n",
                "Description of the propositon for this query.\r\n",
                "\r\n",
                "## Tables\r\n",
                "- ``: Table details.\r\n",
                "- ``: Table details.\r\n",
                "\r\n",
                "## Columns\r\n",
                "- ``: Column details.\r\n",
                "- ``: Column details.\r\n",
                "- ``: Column details.\r\n",
                "- ``: Column details."
            ],
            "metadata": {
                "language": "sql",
                "azdata_cell_guid": "d6577baa-454f-4977-8081-148a7ca81c54"
            },
            "attachments": {}
        },
        {
            "cell_type": "code",
            "source": [
                ""
            ],
            "metadata": {
                "language": "sql",
                "azdata_cell_guid": "9342217c-a4ac-4e92-a120-ff01a9792ab5"
            },
            "outputs": [],
            "execution_count": null
        },
        {
            "cell_type": "markdown",
            "source": [
                "___\r\n",
                "___\r\n",
                "___"
            ],
            "metadata": {
                "language": "sql",
                "azdata_cell_guid": "52203714-5980-411a-917d-1cabd9fc4d6f"
            },
            "attachments": {}
        },
        {
            "cell_type": "markdown",
            "source": [
                "# 9. `Query_Description.sql`\r\n",
                "\r\n",
                "## Proposition\r\n",
                "Description of the propositon for this query.\r\n",
                "\r\n",
                "## Tables\r\n",
                "- ``: Table details.\r\n",
                "- ``: Table details.\r\n",
                "\r\n",
                "## Columns\r\n",
                "- ``: Column details.\r\n",
                "- ``: Column details.\r\n",
                "- ``: Column details.\r\n",
                "- ``: Column details."
            ],
            "metadata": {
                "language": "sql",
                "azdata_cell_guid": "a1e63a1f-ebc6-4d2a-880a-f4c2e83681de"
            },
            "attachments": {}
        },
        {
            "cell_type": "code",
            "source": [
                ""
            ],
            "metadata": {
                "language": "sql",
                "azdata_cell_guid": "cb05b111-eefe-4a04-977e-d0f156787bac"
            },
            "outputs": [],
            "execution_count": null
        },
        {
            "cell_type": "markdown",
            "source": [
                "___\r\n",
                "___\r\n",
                "___"
            ],
            "metadata": {
                "language": "sql",
                "azdata_cell_guid": "fa6ccca2-e8e9-4741-a08e-3c9109e695d3"
            },
            "attachments": {}
        },
        {
            "cell_type": "markdown",
            "source": [
                "# 10. `Query_Description.sql`\r\n",
                "\r\n",
                "## Proposition\r\n",
                "Description of the propositon for this query.\r\n",
                "\r\n",
                "## Tables\r\n",
                "- ``: Table details.\r\n",
                "- ``: Table details.\r\n",
                "\r\n",
                "## Columns\r\n",
                "- ``: Column details.\r\n",
                "- ``: Column details.\r\n",
                "- ``: Column details.\r\n",
                "- ``: Column details."
            ],
            "metadata": {
                "language": "sql",
                "azdata_cell_guid": "b90d6d9d-cb2c-4f7b-b360-f7e19b1322a2"
            },
            "attachments": {}
        },
        {
            "cell_type": "code",
            "source": [
                ""
            ],
            "metadata": {
                "language": "sql",
                "azdata_cell_guid": "7413233e-bff2-40d0-a3af-c137588eec7a"
            },
            "outputs": [],
            "execution_count": null
        }
    ]
}