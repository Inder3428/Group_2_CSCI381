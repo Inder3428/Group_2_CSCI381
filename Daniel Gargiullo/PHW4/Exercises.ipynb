{
    "metadata": {
        "kernelspec": {
            "name": "SQL",
            "display_name": "SQL",
            "language": "sql"
        },
        "language_info": {
            "name": "sql",
            "version": ""
        }
    },
    "nbformat_minor": 2,
    "nbformat": 4,
    "cells": [
        {
            "cell_type": "markdown",
            "source": [
                "# Ch. 8"
            ],
            "metadata": {
                "azdata_cell_guid": "2dccadb1-c8a7-44c8-a475-f068eae4c2fe"
            },
            "attachments": {}
        },
        {
            "cell_type": "markdown",
            "source": [
                "## Exercise 1-1 (Q)\r\n",
                "\r\n",
                "The code below creates a Table called `dbo.Customers`:"
            ],
            "metadata": {
                "azdata_cell_guid": "c8a5f270-534c-456c-8e1f-61904b55b5dd"
            },
            "attachments": {}
        },
        {
            "cell_type": "code",
            "source": [
                "use TSQLV6;\r\n",
                "\r\n",
                "drop table if exists dbo.Customers;\r\n",
                "\r\n",
                "create table dbo.Customers(\r\n",
                "    CustID      int             not null primary key,\r\n",
                "    CompanyName nvarchar(40)    not null,\r\n",
                "    Country     nvarchar(15)    not null,\r\n",
                "    Region      nvarchar(15)    null,\r\n",
                "    City        nvarchar(15)    not null\r\n",
                ");"
            ],
            "metadata": {
                "azdata_cell_guid": "4da4e265-61d6-4727-81b4-6133bb317f53",
                "language": "sql"
            },
            "outputs": [
                {
                    "output_type": "display_data",
                    "data": {
                        "text/html": "Commands completed successfully."
                    },
                    "metadata": {}
                },
                {
                    "output_type": "display_data",
                    "data": {
                        "text/html": "Total execution time: 00:00:00.011"
                    },
                    "metadata": {}
                }
            ],
            "execution_count": 5
        },
        {
            "cell_type": "markdown",
            "source": [
                "## Exercise 1-1 (S)\r\n",
                "\r\n",
                "The code below inserts a row into `dbo.Customers` with the following information:\r\n",
                "\r\n",
                "- <style font-size='16'>`CustID`</style>: **100**\r\n",
                "- `CompanyName`: **Coho Winery**\r\n",
                "- `Country`: **USA**\r\n",
                "- `Region`: **WA**\r\n",
                "- `City`: **Redmond**"
            ],
            "metadata": {
                "language": "sql",
                "azdata_cell_guid": "4232f825-d315-42f6-9f99-b50eaf910dd5"
            },
            "attachments": {}
        },
        {
            "cell_type": "code",
            "source": [
                "-------------Previous-Code-Cell-------------\r\n",
                "use TSQLV6;\r\n",
                "drop table if exists dbo.Customers;\r\n",
                "create table dbo.Customers(\r\n",
                "    CustID      int             not null primary key,\r\n",
                "    CompanyName nvarchar(40)    not null,\r\n",
                "    Country     nvarchar(15)    not null,\r\n",
                "    Region      nvarchar(15)    null,\r\n",
                "    City        nvarchar(15)    not null\r\n",
                ");\r\n",
                "--------------------------------------------\r\n",
                "\r\n",
                "insert into dbo.Customers(CustID, CompanyName, Country, Region, City)\r\n",
                "    values (100, N'Coho Winery', N'USA', N'WA', N'Redmond');"
            ],
            "metadata": {
                "language": "sql",
                "azdata_cell_guid": "36eb29b1-20d8-448f-ae8e-c8d85b756e75"
            },
            "outputs": [
                {
                    "output_type": "display_data",
                    "data": {
                        "text/html": "(1 row affected)"
                    },
                    "metadata": {}
                },
                {
                    "output_type": "display_data",
                    "data": {
                        "text/html": "Total execution time: 00:00:00.013"
                    },
                    "metadata": {}
                }
            ],
            "execution_count": 4
        }
    ]
}