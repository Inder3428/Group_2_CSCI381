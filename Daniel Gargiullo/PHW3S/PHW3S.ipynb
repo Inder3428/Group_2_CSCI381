{
    "metadata": {
        "kernelspec": {
            "name": "SQL",
            "display_name": "SQL",
            "language": "sql"
        },
        "language_info": {
            "name": "sql",
            "version": ""
        }
    },
    "nbformat_minor": 2,
    "nbformat": 4,
    "cells": [
        {
            "cell_type": "markdown",
            "source": [
                "# 1. `Products_In_Sales_And_Purchase_Orders.sql`\r\n",
                "\r\n",
                "\r\n",
                "## Proposition\r\n",
                "Retrieve products that appear in both sales orders and purchase orders, focusing on products with significant sales and purchase quantities.\r\n",
                "\r\n",
                "## Tables\r\n",
                "- `Production.Product`: Stores information about products being produced, including `ProductID` and `Name`.\r\n",
                "- `Sales.SalesOrderDetail`: Stores the details of products in each sales order, including `ProductID` and `OrderQty`.\r\n",
                "- `Purchasing.PurchaseOrderDetail`: Contains details of products in each purchase order, such as `ProductID` and `Quantity`.\r\n",
                "\r\n",
                "## Columns\r\n",
                "- `ProductID`: The unique identifier for each product.\r\n",
                "- `Name`: The name of the product.\r\n",
                "- `OrderQty`: The quantity ordered in sales.\r\n",
                "- `PurchaseQty`: The quantity ordered in purchasing."
            ],
            "metadata": {
                "azdata_cell_guid": "05f17e40-4a99-4b34-9d35-1d5eecb5bed3"
            },
            "attachments": {}
        },
        {
            "cell_type": "code",
            "source": [
                "USE AdventureWorks2019\r\n",
                "\r\n",
                "SELECT DISTINCT p.ProductID, p.Name, sod.OrderQty, pod.OrderQty AS PurchaseQty\r\n",
                "FROM Production.Product p\r\n",
                "JOIN Sales.SalesOrderDetail sod ON p.ProductID = sod.ProductID\r\n",
                "JOIN Purchasing.PurchaseOrderDetail pod ON p.ProductID = pod.ProductID\r\n",
                "WHERE sod.OrderQty > 10 AND pod.OrderQty > 5;"
            ],
            "metadata": {
                "azdata_cell_guid": "ee788557-5a7b-43d2-a9e9-d0718461c76a",
                "language": "sql",
                "tags": []
            },
            "outputs": [],
            "execution_count": null
        },
        {
            "cell_type": "markdown",
            "source": [
                "___\r\n",
                "___\r\n",
                "___"
            ],
            "metadata": {
                "language": "sql",
                "azdata_cell_guid": "f723f110-5ea8-46fd-bdab-bf8e48a46614"
            },
            "attachments": {}
        },
        {
            "cell_type": "markdown",
            "source": [
                "# 2. `All_Employees_Involved_In_Sales.sql`\r\n",
                "\r\n",
                "## Proposition\r\n",
                "Retrieve all employees who are involved in sales activities, either as salespersons or participants in sales transactions.\r\n",
                "\r\n",
                "## Tables\r\n",
                "- `HumanResources.Employee`: Stores information about employees, such as `EmployeeID`, `JobTitle`, and `HireDate`.\r\n",
                "- `Sales.SalesOrderHeader`: Represents sales orders placed by customers, including details such as `SalesPersonID`, `OrderDate`, and `TotalDue`.\r\n",
                "\r\n",
                "## Columns\r\n",
                "- `EmployeeID`: The unique identifier for each employee.\r\n",
                "- `JobTitle`: The title of the employee.\r\n",
                "- `SalesOrderID`: The unique identifier for each sales order."
            ],
            "metadata": {
                "language": "sql",
                "azdata_cell_guid": "a6dd2655-8028-47d3-a913-0969764c6c72"
            },
            "attachments": {}
        },
        {
            "cell_type": "code",
            "source": [
                "USE AdventureWorks2019\r\n",
                "\r\n",
                "SELECT DISTINCT e.BusinessEntityID, e.JobTitle, soh.SalesOrderID\r\n",
                "FROM HumanResources.Employee e\r\n",
                "LEFT JOIN Sales.SalesOrderHeader soh ON e.BusinessEntityID = soh.SalesPersonID\r\n",
                "WHERE e.JobTitle LIKE '%Sales%' OR soh.SalesOrderID IS NOT NULL;"
            ],
            "metadata": {
                "language": "sql",
                "azdata_cell_guid": "69d44f43-2d40-42ad-be13-f45e67ffc1d2",
                "tags": [
                    "hide_input"
                ]
            },
            "outputs": [],
            "execution_count": null
        },
        {
            "cell_type": "markdown",
            "source": [
                "___\r\n",
                "___\r\n",
                "___"
            ],
            "metadata": {
                "azdata_cell_guid": "c8617757-7774-472f-809a-62a65a3216c0"
            },
            "attachments": {}
        },
        {
            "cell_type": "markdown",
            "source": [
                "# 3. `Employees_Sales_Intersect.sql`\r\n",
                "\r\n",
                "## Proposition\r\n",
                "This query retrieves salespersons who have both achieved more than $500,000 in `SalesYTD`. It uses `INTERSECT` to find common records between these two conditions, displaying their `BusinessEntityID`, `FirstName`, `LastName`, and `SalesYTD`.\r\n",
                "\r\n",
                "## Tables\r\n",
                "- `Sales.SalesPerson`: Contains information about salespersons, including sales data and bonuses.\r\n",
                "- `Person.Person`: Contains personal details of individuals, including employees.\r\n",
                "\r\n",
                "## Columns\r\n",
                "- `p.BusinessEntityID`: Unique identifier for each person from the `Person.Person` table.\r\n",
                "- `p.FirstName`: The first name of the salesperson from the `Person.Person` table.\r\n",
                "- `p.LastName`: The last name of the salesperson from the `Person.Person` table.\r\n",
                "- `s.SalesYTD`: Total year-to-date sales for each salesperson from the `Sales.SalesPerson` table.\r\n",
                ""
            ],
            "metadata": {
                "azdata_cell_guid": "4798c5a4-88e5-41ab-b4ff-6bc12a915810"
            },
            "attachments": {}
        },
        {
            "cell_type": "code",
            "source": [
                "USE AdventureWorks2019\r\n",
                "\r\n",
                "SELECT p.BusinessEntityID, p.FirstName, p.LastName, s.SalesYTD\r\n",
                "FROM Sales.SalesPerson s\r\n",
                "JOIN Person.Person p ON s.BusinessEntityID = p.BusinessEntityID\r\n",
                "WHERE s.SalesYTD > 500000\r\n",
                "\r\n",
                "INTERSECT\r\n",
                "\r\n",
                "SELECT p.BusinessEntityID, p.FirstName, p.LastName, s.SalesYTD\r\n",
                "FROM Sales.SalesPerson s\r\n",
                "JOIN Person.Person p ON s.BusinessEntityID = p.BusinessEntityID"
            ],
            "metadata": {
                "azdata_cell_guid": "1650a1f4-0eed-44be-8646-3fac7e3c50c3",
                "language": "sql",
                "tags": []
            },
            "outputs": [],
            "execution_count": null
        },
        {
            "cell_type": "markdown",
            "source": [
                "___\r\n",
                "___\r\n",
                "___"
            ],
            "metadata": {
                "language": "sql",
                "azdata_cell_guid": "551b4858-5142-4c88-a67b-030c202a647d"
            },
            "attachments": {}
        },
        {
            "cell_type": "markdown",
            "source": [
                "# 4. `Recently_Purchased_Or_High_Reorder_Point.sql`\r\n",
                "\r\n",
                "## Proposition\r\n",
                "Retrieve products that are either in production, recently purchased in significant quantities, or have a high reorder point to identify products with active or ongoing demand.\r\n",
                "\r\n",
                "## Tables\r\n",
                "- `Production.Product`: Stores information about products being produced, such as `ProductID`, `Name`, `MakeFlag`, and `ReorderPoint`.\r\n",
                "- `Purchasing.PurchaseOrderDetail`: Contains details about products in each purchase order, such as `ProductID` and `OrderQty`.\r\n",
                "\r\n",
                "## Columns\r\n",
                "- `ProductID`: The unique identifier for each product.\r\n",
                "- `Name`: The name of the product.\r\n",
                "- `MakeFlag`: Indicates if the product is currently in production.\r\n",
                "- `OrderQty`: The quantity ordered in recent purchases.\r\n",
                "- `ReorderPoint`: The level of inventory at which a reorder is triggered."
            ],
            "metadata": {
                "language": "sql",
                "azdata_cell_guid": "0acf8ff5-f9e9-459b-b156-395ec0b5fbf3"
            },
            "attachments": {}
        },
        {
            "cell_type": "code",
            "source": [
                "USE AdventureWorks2019\r\n",
                "\r\n",
                "SELECT DISTINCT p.ProductID, p.Name, p.MakeFlag, pod.OrderQty, p.ReorderPoint\r\n",
                "FROM Production.Product p\r\n",
                "LEFT JOIN Purchasing.PurchaseOrderDetail pod ON p.ProductID = pod.ProductID\r\n",
                "WHERE p.MakeFlag = 1 OR pod.OrderQty > 10 OR p.ReorderPoint > 50\r\n",
                "ORDER BY p.ProductID;"
            ],
            "metadata": {
                "language": "sql",
                "azdata_cell_guid": "1d277e91-f748-483e-ba65-2cca6c115894",
                "tags": []
            },
            "outputs": [],
            "execution_count": null
        },
        {
            "cell_type": "markdown",
            "source": [
                "___\r\n",
                "___\r\n",
                "___"
            ],
            "metadata": {
                "language": "sql",
                "azdata_cell_guid": "885ec339-2bcb-429f-96b2-a2891d5b558e"
            },
            "attachments": {}
        },
        {
            "cell_type": "markdown",
            "source": [
                "# 5. `Employees_Orders.sql`\r\n",
                "\r\n",
                "## Proposition\r\n",
                "This query retrieves a list of current managers and former employees. It combines information from both groups using a `UNION`. The query displays their `BusinessEntityID`, `JobTitle`, `FirstName`, `LastName`, and an indicator (`EmploymentStatus`) specifying whether they are a current or former employee.\r\n",
                "\r\n",
                "## Tables\r\n",
                "- `HumanResources.Employee`: Contains employee job-related information.\r\n",
                "- `Person.Person`: Contains personal details of employees.\r\n",
                "- `HumanResources.EmployeeDepartmentHistory`: Contains historical department assignment information for employees.\r\n",
                "\r\n",
                "## Columns\r\n",
                "- `e.BusinessEntityID`: Unique identifier for each employee from the `HumanResources.Employee` table.\r\n",
                "- `e.JobTitle`: Title of the employee, used to filter for managers.\r\n",
                "- `p.FirstName`: The first name of the employee from the `Person.Person` table.\r\n",
                "- `p.LastName`: The last name of the employee from the `Person.Person` table.\r\n",
                "- `EmploymentStatus`: Derived field to indicate if an employee is currently employed or a former employee.\r\n",
                ""
            ],
            "metadata": {
                "language": "sql",
                "azdata_cell_guid": "8c446090-6149-44c3-9354-04b0a43c4d5c"
            },
            "attachments": {}
        },
        {
            "cell_type": "code",
            "source": [
                "USE AdventureWorks2019\r\n",
                "\r\n",
                "SELECT e.BusinessEntityID, e.JobTitle, p.FirstName, p.LastName, 'Current Employee' AS EmploymentStatus\r\n",
                "FROM HumanResources.Employee e\r\n",
                "JOIN Person.Person p ON e.BusinessEntityID = p.BusinessEntityID\r\n",
                "WHERE e.JobTitle LIKE '%Manager%'\r\n",
                "\r\n",
                "UNION\r\n",
                "\r\n",
                "SELECT e.BusinessEntityID, e.JobTitle, p.FirstName, p.LastName, 'Former Employee' AS EmploymentStatus\r\n",
                "FROM HumanResources.Employee e\r\n",
                "JOIN Person.Person p ON e.BusinessEntityID = p.BusinessEntityID\r\n",
                "WHERE e.BusinessEntityID NOT IN (SELECT BusinessEntityID FROM HumanResources.EmployeeDepartmentHistory WHERE EndDate IS NULL);\r\n",
                ""
            ],
            "metadata": {
                "language": "sql",
                "azdata_cell_guid": "11d13216-f803-4d98-b6ac-ee8f41461bbf",
                "tags": []
            },
            "outputs": [],
            "execution_count": null
        },
        {
            "cell_type": "markdown",
            "source": [
                "___\r\n",
                "___\r\n",
                "___"
            ],
            "metadata": {
                "language": "sql",
                "azdata_cell_guid": "bcdb750d-6f11-445b-982e-2d39219982ec"
            },
            "attachments": {}
        },
        {
            "cell_type": "markdown",
            "source": [
                "# 6. `Customers_Sales.sql`\r\n",
                "\r\n",
                "## Proposition\r\n",
                "This query retrieves a list of customers who have either a high-sales-related account number or have been recently modified. It uses `UNION` to combine both groups, displaying their `CustomerID`, `AccountNumber`, `FirstName`, `LastName`, and an indicator (`CustomerType`) specifying whether they are a high-sales customer or a recent customer.\r\n",
                "\r\n",
                "## Tables\r\n",
                "- `Sales.Customer`: Contains information about customer accounts.\r\n",
                "- `Person.Person`: Contains personal details of customers.\r\n",
                "\r\n",
                "## Columns\r\n",
                "- `c.CustomerID`: Unique identifier for each customer from the `Sales.Customer` table.\r\n",
                "- `c.AccountNumber`: The account number of the customer from the `Sales.Customer` table.\r\n",
                "- `p.FirstName`: The first name of the customer from the `Person.Person` table.\r\n",
                "- `p.LastName`: The last name of the customer from the `Person.Person` table.\r\n",
                "- `CustomerType`: Derived field to indicate if the customer is a high-sales customer or a recent customer.\r\n",
                ""
            ],
            "metadata": {
                "language": "sql",
                "azdata_cell_guid": "6e3b6325-b3aa-46e5-974c-531c67ddf1ba"
            },
            "attachments": {}
        },
        {
            "cell_type": "code",
            "source": [
                "USE AdventureWorks2019\r\n",
                "\r\n",
                "SELECT c.CustomerID, c.AccountNumber, p.FirstName, p.LastName, 'High Sales Customer' AS CustomerType\r\n",
                "FROM Sales.Customer c\r\n",
                "JOIN Person.Person p ON c.PersonID = p.BusinessEntityID\r\n",
                "WHERE c.AccountNumber LIKE 'AW%'\r\n",
                "\r\n",
                "UNION\r\n",
                "\r\n",
                "SELECT c.CustomerID, c.AccountNumber, p.FirstName, p.LastName, 'Preferred Customer' AS CustomerType\r\n",
                "FROM Sales.Customer c\r\n",
                "JOIN Person.Person p ON c.PersonID = p.BusinessEntityID\r\n",
                "WHERE c.AccountNumber LIKE 'AW%' AND c.TerritoryID IN (1, 2, 3);"
            ],
            "metadata": {
                "language": "sql",
                "azdata_cell_guid": "63fb255b-ec35-4376-b12d-e9267dcbd967",
                "tags": []
            },
            "outputs": [],
            "execution_count": null
        },
        {
            "cell_type": "markdown",
            "source": [
                "___\r\n",
                "___\r\n",
                "___"
            ],
            "metadata": {
                "language": "sql",
                "azdata_cell_guid": "4dec52d8-732c-4638-882f-7e37c751426b"
            },
            "attachments": {}
        },
        {
            "cell_type": "markdown",
            "source": [
                "# 7. `Preferred_Customers.sql`\r\n",
                "\r\n",
                "## Proposition\r\n",
                "This query retrieves a list of customers who either have high sales and recent high-value orders, or are classified as preferred customers. It uses a combination of `UNION` and `INTERSECT` to combine these groups, displaying their `CustomerID`, `AccountNumber`, `FirstName`, `LastName`, and a customer type indicator (`CustomerType`).\r\n",
                "\r\n",
                "## Tables\r\n",
                "- `Sales.Customer`: Contains information about customer accounts.\r\n",
                "- `Person.Person`: Contains personal details of customers.\r\n",
                "- `Sales.SalesOrderHeader`: Contains information about sales orders, including total order amounts.\r\n",
                "\r\n",
                "## Columns\r\n",
                "- `CustomerID`: Unique identifier for each customer.\r\n",
                "- `AccountNumber`: The account number of the customer.\r\n",
                "- `FirstName`: The first name of the customer.\r\n",
                "- `LastName`: The last name of the customer.\r\n",
                "- `CustomerType`: Derived field to indicate if the customer is a high sales customer with recent high-value orders, or a preferred customer.\r\n",
                "\r\n",
                "## Common Table Expressions (CTEs)\r\n",
                "- `HighSales`: Contains customers with high sales accounts (`AccountNumber` starting with 'AW%').\r\n",
                "- `PreferredCustomers`: Contains customers with high sales accounts and belonging to specific territories (TerritoryID 1, 2, or 3).\r\n",
                "- `RecentHighValueOrders`: Contains customers who have placed recent orders with a total value greater than $10,000."
            ],
            "metadata": {
                "language": "sql",
                "azdata_cell_guid": "31beb41e-0d94-4f9d-98d3-c98e1c28e1f4"
            },
            "attachments": {}
        },
        {
            "cell_type": "code",
            "source": [
                "USE AdventureWorks2019\r\n",
                "\r\n",
                ";WITH HighSales AS (\r\n",
                "    SELECT c.CustomerID, c.AccountNumber, p.FirstName, p.LastName\r\n",
                "    FROM Sales.Customer c\r\n",
                "    JOIN Person.Person p ON c.PersonID = p.BusinessEntityID\r\n",
                "    WHERE c.AccountNumber LIKE 'AW%'\r\n",
                "),\r\n",
                "PreferredCustomers AS (\r\n",
                "    SELECT c.CustomerID, c.AccountNumber, p.FirstName, p.LastName\r\n",
                "    FROM Sales.Customer c\r\n",
                "    JOIN Person.Person p ON c.PersonID = p.BusinessEntityID\r\n",
                "    WHERE c.AccountNumber LIKE 'AW%' AND c.TerritoryID IN (1, 2, 3)\r\n",
                "),\r\n",
                "RecentHighValueOrders AS (\r\n",
                "    SELECT o.CustomerID\r\n",
                "    FROM Sales.SalesOrderHeader o\r\n",
                "    WHERE o.TotalDue > 10000\r\n",
                ")\r\n",
                "\r\n",
                "SELECT hs.CustomerID, hs.AccountNumber, hs.FirstName, hs.LastName, 'High Sales and Recent High Value Order' AS CustomerType\r\n",
                "FROM HighSales hs\r\n",
                "INTERSECT\r\n",
                "SELECT rhvo.CustomerID, hs.AccountNumber, hs.FirstName, hs.LastName, 'High Sales and Recent High Value Order' AS CustomerType\r\n",
                "FROM RecentHighValueOrders rhvo\r\n",
                "JOIN HighSales hs ON rhvo.CustomerID = hs.CustomerID\r\n",
                "\r\n",
                "UNION\r\n",
                "\r\n",
                "SELECT pc.CustomerID, pc.AccountNumber, pc.FirstName, pc.LastName, 'Preferred Customer' AS CustomerType\r\n",
                "FROM PreferredCustomers pc;\r\n",
                ""
            ],
            "metadata": {
                "language": "sql",
                "azdata_cell_guid": "667c09c0-af2e-4048-a5ad-30f23a112f53",
                "tags": []
            },
            "outputs": [],
            "execution_count": null
        },
        {
            "cell_type": "markdown",
            "source": [
                "___\r\n",
                "___\r\n",
                "___"
            ],
            "metadata": {
                "language": "sql",
                "azdata_cell_guid": "744f79a5-eb70-433c-aebd-ebf50e78c395"
            },
            "attachments": {}
        },
        {
            "cell_type": "markdown",
            "source": [
                "# 8. `High_Value_Frequent_Customers.sql`\r\n",
                "\r\n",
                "## Proposition\r\n",
                "This query retrieves a list of customers classified into different categories such as loyal customers, high-value preferred customers, and frequent high-value customers. It uses a combination of `UNION` and `INTERSECT` to combine these groups, displaying their `CustomerID`, `AccountNumber`, `FirstName`, `LastName`, and a customer type indicator (`CustomerType`).\r\n",
                "\r\n",
                "## Tables\r\n",
                "- `Sales.Customer`: Contains information about customer accounts.\r\n",
                "- `Person.Person`: Contains personal details of customers.\r\n",
                "- `Sales.SalesOrderHeader`: Contains information about sales orders, including order dates and total values.\r\n",
                "\r\n",
                "## Columns\r\n",
                "- `CustomerID`: Unique identifier for each customer.\r\n",
                "- `AccountNumber`: The account number of the customer.\r\n",
                "- `FirstName`: The first name of the customer.\r\n",
                "- `LastName`: The last name of the customer.\r\n",
                "- `CustomerType`: Derived field to indicate if the customer is a loyal customer, a high-value preferred customer, or a frequent high-value customer.\r\n",
                "\r\n",
                "## Common Table Expressions (CTEs)\r\n",
                "- `LoyalCustomers`: Contains customers who have high sales accounts (`AccountNumber` starting with 'AW%') and have placed more than 5 orders.\r\n",
                "- `HighValuePreferred`: Contains customers who have high sales accounts, belong to specific territories (TerritoryID 1, 2, or 3), and have orders with a total value greater than $15,000.\r\n",
                "- `FrequentRecentOrders`: Contains customers who have placed more than 3 orders within the last year."
            ],
            "metadata": {
                "language": "sql",
                "azdata_cell_guid": "19f4753c-99bb-4ee5-800c-6b83d033527b"
            },
            "attachments": {}
        },
        {
            "cell_type": "code",
            "source": [
                "USE AdventureWorks2019\r\n",
                "\r\n",
                ";WITH LoyalCustomers AS (\r\n",
                "    SELECT c.CustomerID, c.AccountNumber, p.FirstName, p.LastName\r\n",
                "    FROM Sales.Customer c\r\n",
                "    JOIN Person.Person p ON c.PersonID = p.BusinessEntityID\r\n",
                "    WHERE c.AccountNumber LIKE 'AW%' AND c.CustomerID IN (\r\n",
                "        SELECT o.CustomerID\r\n",
                "        FROM Sales.SalesOrderHeader o\r\n",
                "        GROUP BY o.CustomerID\r\n",
                "        HAVING COUNT(o.SalesOrderID) > 5\r\n",
                "    )\r\n",
                "),\r\n",
                "HighValuePreferred AS (\r\n",
                "    SELECT c.CustomerID, c.AccountNumber, p.FirstName, p.LastName\r\n",
                "    FROM Sales.Customer c\r\n",
                "    JOIN Person.Person p ON c.PersonID = p.BusinessEntityID\r\n",
                "    JOIN Sales.SalesOrderHeader o ON c.CustomerID = o.CustomerID\r\n",
                "    WHERE c.AccountNumber LIKE 'AW%' AND c.TerritoryID IN (1, 2, 3) AND o.TotalDue > 15000\r\n",
                "),\r\n",
                "FrequentRecentOrders AS (\r\n",
                "    SELECT o.CustomerID\r\n",
                "    FROM Sales.SalesOrderHeader o\r\n",
                "    WHERE o.OrderDate >= DATEADD(year, -1, GETDATE())\r\n",
                "    GROUP BY o.CustomerID\r\n",
                "    HAVING COUNT(o.SalesOrderID) > 3\r\n",
                ")\r\n",
                "\r\n",
                "SELECT lc.CustomerID, lc.AccountNumber, lc.FirstName, lc.LastName, 'Loyal Customer' AS CustomerType\r\n",
                "FROM LoyalCustomers lc\r\n",
                "\r\n",
                "UNION\r\n",
                "\r\n",
                "SELECT hv.CustomerID, hv.AccountNumber, hv.FirstName, hv.LastName, 'High Value Preferred Customer' AS CustomerType\r\n",
                "FROM HighValuePreferred hv\r\n",
                "\r\n",
                "INTERSECT\r\n",
                "\r\n",
                "SELECT fr.CustomerID, hv.AccountNumber, hv.FirstName, hv.LastName, 'Frequent High Value Customer' AS CustomerType\r\n",
                "FROM FrequentRecentOrders fr\r\n",
                "JOIN HighValuePreferred hv ON fr.CustomerID = hv.CustomerID;"
            ],
            "metadata": {
                "language": "sql",
                "azdata_cell_guid": "b20b19ba-83c0-43d2-9fd9-fcb1b52f2a19",
                "tags": []
            },
            "outputs": [],
            "execution_count": null
        },
        {
            "cell_type": "markdown",
            "source": [
                "___\r\n",
                "___\r\n",
                "___"
            ],
            "metadata": {
                "language": "sql",
                "azdata_cell_guid": "a8b5b11f-787c-4e11-acdf-d6d8e700f08a"
            },
            "attachments": {}
        },
        {
            "cell_type": "markdown",
            "source": [
                "# 9. `High_Value_Recent_Spenders.sql`\r\n",
                "\r\n",
                "## Proposition\r\n",
                "This query retrieves a list of customers classified into different categories such as frequent high-value customers, recent high spenders, and high-value customers. It uses a combination of `UNION` and `INTERSECT` to combine these groups, displaying their `CustomerID`, `AccountNumber`, `FirstName`, `LastName`, and a customer type indicator (`CustomerType`).\r\n",
                "\r\n",
                "## Tables\r\n",
                "- `Sales.SalesOrderHeader`: Contains information about sales orders, including order dates and total values.\r\n",
                "- `Person.Person`: Contains personal details of customers.\r\n",
                "\r\n",
                "## Columns\r\n",
                "- `CustomerID`: Unique identifier for each customer.\r\n",
                "- `AccountNumber`: The account number of the customer.\r\n",
                "- `FirstName`: The first name of the customer.\r\n",
                "- `LastName`: The last name of the customer.\r\n",
                "- `CustomerType`: Derived field to indicate if the customer is a frequent high-value customer, a recent high spender, or a high-value customer.\r\n",
                "\r\n",
                "## Common Table Expressions (CTEs)\r\n",
                "- `RecentOrders`: Contains customers who have placed more than 2 orders within the last 3 months.\r\n",
                "- `HighValueOrders`: Contains customers who have spent more than $30,000 in total on their orders.\r\n",
                "- `FrequentHighValueCustomers`: Contains customers who meet both criteria for recent orders and high value, found using `INTERSECT`.\r\n",
                ""
            ],
            "metadata": {
                "language": "sql",
                "azdata_cell_guid": "4e865578-0cee-4c81-a63d-276f7e60c0e4"
            },
            "attachments": {}
        },
        {
            "cell_type": "code",
            "source": [
                "USE AdventureWorks2019\r\n",
                "\r\n",
                ";WITH RecentOrders AS (\r\n",
                "    SELECT o.CustomerID, COUNT(o.SalesOrderID) AS OrderCount\r\n",
                "    FROM Sales.SalesOrderHeader o\r\n",
                "    WHERE o.OrderDate >= DATEADD(month, -3, GETDATE())\r\n",
                "    GROUP BY o.CustomerID\r\n",
                "    HAVING COUNT(o.SalesOrderID) > 2\r\n",
                "),\r\n",
                "HighValueOrders AS (\r\n",
                "    SELECT o.CustomerID, SUM(o.TotalDue) AS TotalSpent\r\n",
                "    FROM Sales.SalesOrderHeader o\r\n",
                "    GROUP BY o.CustomerID\r\n",
                "    HAVING SUM(o.TotalDue) > 10000\r\n",
                "),\r\n",
                "FrequentHighValueCustomers AS (\r\n",
                "    SELECT ro.CustomerID\r\n",
                "    FROM RecentOrders ro\r\n",
                "    INTERSECT\r\n",
                "    SELECT hvo.CustomerID\r\n",
                "    FROM HighValueOrders hvo\r\n",
                ")\r\n",
                "\r\n",
                "SELECT p.BusinessEntityID, p.FirstName, p.LastName, 'Frequent High Value Customer' AS CustomerType\r\n",
                "FROM Person.Person p\r\n",
                "JOIN FrequentHighValueCustomers fhv ON p.BusinessEntityID = fhv.CustomerID\r\n",
                "\r\n",
                "UNION\r\n",
                "\r\n",
                "SELECT p.BusinessEntityID, p.FirstName, p.LastName, 'Recent High Spender' AS CustomerType\r\n",
                "FROM Person.Person p\r\n",
                "JOIN RecentOrders ro ON p.BusinessEntityID = ro.CustomerID\r\n",
                "WHERE ro.OrderCount > 4\r\n",
                "\r\n",
                "UNION\r\n",
                "\r\n",
                "SELECT p.BusinessEntityID, p.FirstName, p.LastName, 'High Value Customer' AS CustomerType\r\n",
                "FROM Person.Person p\r\n",
                "JOIN HighValueOrders hvo ON p.BusinessEntityID = hvo.CustomerID;"
            ],
            "metadata": {
                "language": "sql",
                "azdata_cell_guid": "16471a44-3c47-4a0e-a20a-2aee90687b49",
                "tags": [
                    "hide_input"
                ]
            },
            "outputs": [],
            "execution_count": null
        },
        {
            "cell_type": "markdown",
            "source": [
                "___\r\n",
                "___\r\n",
                "___"
            ],
            "metadata": {
                "language": "sql",
                "azdata_cell_guid": "4bdb17b5-c825-426b-8243-b27149c46e33"
            },
            "attachments": {}
        },
        {
            "cell_type": "markdown",
            "source": [
                "# 10. `Products_And_Orders_With_Discounts.sql`\r\n",
                "\r\n",
                "## Proposition\r\n",
                "This query retrieves information about products and orders that have discounts applied. It uses a common table expression (CTE) to extract products with discounts and orders with discounts, then combines the results using a `UNION` statement.\r\n",
                "\r\n",
                "## Tables\r\n",
                "- `Production.Product`: Contains details of products.\r\n",
                "- `Sales.SpecialOfferProduct`: Associates special offers with products.\r\n",
                "- `Sales.SalesOrderDetail`: Contains details of products in each sales order.\r\n",
                "- `Sales.SalesOrderHeader`: Contains general information about each sales order, including the order date.\r\n",
                "\r\n",
                "## Columns\r\n",
                "- `ProductDiscounts.ProductID`: Unique identifier for each product that has a discount applied.\r\n",
                "- `ProductDiscounts.ProductName`: The name of the product.\r\n",
                "- `ProductDiscounts.SpecialOfferID`: The identifier of the special offer applied to the product.\r\n",
                "- `OrderDiscounts.SalesOrderID`: Unique identifier for each sales order that includes a product with a discount.\r\n",
                "- `OrderDiscounts.OrderDate`: The date when the order was placed.\r\n",
                "- `OrderDiscounts.SpecialOfferID`: The identifier of the special offer associated with the product in the order.\r\n",
                ""
            ],
            "metadata": {
                "language": "sql",
                "azdata_cell_guid": "b5e6f189-c62c-4913-a71a-2da1a247fa27"
            },
            "attachments": {}
        },
        {
            "cell_type": "code",
            "source": [
                "USE AdventureWorks2019\r\n",
                "\r\n",
                ";WITH ProductDiscounts AS (\r\n",
                "    SELECT DISTINCT p.ProductID, p.Name AS ProductName, sp.SpecialOfferID\r\n",
                "    FROM Production.Product p\r\n",
                "    LEFT JOIN Sales.SpecialOfferProduct sp ON p.ProductID = sp.ProductID\r\n",
                "    WHERE sp.SpecialOfferID IS NOT NULL\r\n",
                "),\r\n",
                "OrderDiscounts AS (\r\n",
                "    SELECT DISTINCT so.SalesOrderID, soh.OrderDate, so.SpecialOfferID\r\n",
                "    FROM Sales.SalesOrderDetail so\r\n",
                "    INNER JOIN Sales.SpecialOfferProduct sp ON so.ProductID = sp.ProductID\r\n",
                "    INNER JOIN Sales.SalesOrderHeader soh ON so.SalesOrderID = soh.SalesOrderID\r\n",
                "    WHERE sp.SpecialOfferID IS NOT NULL\r\n",
                ")\r\n",
                "\r\n",
                "SELECT ProductID, ProductName, SpecialOfferID\r\n",
                "FROM ProductDiscounts\r\n",
                "UNION\r\n",
                "SELECT SalesOrderID, OrderDate, SpecialOfferID\r\n",
                "FROM OrderDiscounts;"
            ],
            "metadata": {
                "language": "sql",
                "azdata_cell_guid": "4e377171-97dd-420b-9533-a144f6f24578",
                "tags": []
            },
            "outputs": [
                {
                    "output_type": "display_data",
                    "data": {
                        "text/html": "Total execution time: 00:00:00.018"
                    },
                    "metadata": {}
                },
                {
                    "output_type": "execute_result",
                    "metadata": {},
                    "execution_count": 74,
                    "data": {
                        "application/vnd.dataresource+json": {
                            "schema": {
                                "fields": [
                                    {
                                        "name": "ProductID"
                                    },
                                    {
                                        "name": "ProductName"
                                    },
                                    {
                                        "name": "SpecialOfferID"
                                    }
                                ]
                            },
                            "data": []
                        },
                        "text/html": [
                            "<table>",
                            "<tr><th>ProductID</th><th>ProductName</th><th>SpecialOfferID</th></tr>",
                            "</table>"
                        ]
                    }
                },
                {
                    "output_type": "error",
                    "evalue": "Msg 241, Level 16, State 1, Line 3\r\nConversion failed when converting date and/or time from character string.",
                    "ename": "",
                    "traceback": []
                }
            ],
            "execution_count": 74
        }
    ]
}