{
    "metadata": {
        "kernelspec": {
            "name": "SQL",
            "display_name": "SQL",
            "language": "sql"
        },
        "language_info": {
            "name": "sql",
            "version": ""
        }
    },
    "nbformat_minor": 2,
    "nbformat": 4,
    "cells": [
        {
            "cell_type": "markdown",
            "source": [
                "# PHW#4 Chapter 8\n",
                "\n",
                "## `Inderpreet Singh`\n",
                "\n",
                "## \\`Video link: sorry couldent make the video had a midterm and been studying for it late night adn the exam was for CS344\n",
                "\n",
                "## `CSCI-381`"
            ],
            "metadata": {
                "azdata_cell_guid": "e3c377ab-2d90-49c8-87a4-c3c02660719a"
            },
            "attachments": {}
        },
        {
            "cell_type": "markdown",
            "source": [
                "### **Chapter 8**\r\n",
                "**Exercise: 6 - Create the tables `dbo.Orders` and `dbo.OrderDetails` as specified and populate them with initial data.**\r\n",
                "\r\n",
                "---\r\n",
                "\r\n",
                "#### **Tables Involved**:\r\n",
                "\r\n",
                "1. **dbo.Orders**: Stores basic information about each order, including `OrderID`, `CustomerID`, `OrderDate`, `ShippedDate`, `Freight`, `ShipName`, and various shipping address details.\r\n",
                "2. **dbo.OrderDetails**: Stores individual item details for each order, linked to the `dbo.Orders` table through `OrderID`.\r\n",
                "\r\n",
                "#### **Key Clauses and Constraints**:\r\n",
                "\r\n",
                "- `IDENTITY` column for `OrderID` and `OrderDetailID` in each table respectively, to auto-generate unique IDs for each entry.\r\n",
                "- `DEFAULT` constraint for `OrderDate` in `dbo.Orders`, to automatically assign the current date if not specified.\r\n",
                "- `Foreign Key` constraint linking `OrderID` in `dbo.OrderDetails` to `OrderID` in `dbo.Orders` for referential integrity."
            ],
            "metadata": {
                "azdata_cell_guid": "4b748e9f-cbe9-4da5-a765-324cce71566f"
            },
            "attachments": {}
        },
        {
            "cell_type": "code",
            "source": [
                "USE WideWorldImporters;\r\n",
                "GO\r\n",
                "-- Drop tables if they already exist\r\n",
                "DROP TABLE IF EXISTS dbo.OrderDetails;\r\n",
                "DROP TABLE IF EXISTS dbo.Orders;\r\n",
                "\r\n",
                "-- Create the Orders table\r\n",
                "CREATE TABLE dbo.Orders (\r\n",
                "    OrderID INT IDENTITY(1,1) PRIMARY KEY,\r\n",
                "    CustomerID INT NOT NULL,\r\n",
                "    OrderDate DATE DEFAULT GETDATE(),\r\n",
                "    ShippedDate DATE,\r\n",
                "    Freight DECIMAL(10, 2) NOT NULL DEFAULT 0.00,\r\n",
                "    ShipName NVARCHAR(40),\r\n",
                "    ShipAddress NVARCHAR(60),\r\n",
                "    ShipCity NVARCHAR(15),\r\n",
                "    ShipRegion NVARCHAR(15),\r\n",
                "    ShipPostalCode NVARCHAR(10),\r\n",
                "    ShipCountry NVARCHAR(15)\r\n",
                ");\r\n",
                "\r\n",
                "-- Create the OrderDetails table\r\n",
                "CREATE TABLE dbo.OrderDetails (\r\n",
                "    OrderDetailID INT IDENTITY(1,1) PRIMARY KEY,\r\n",
                "    OrderID INT NOT NULL,\r\n",
                "    ProductID INT NOT NULL,\r\n",
                "    Quantity INT NOT NULL DEFAULT 1,\r\n",
                "    UnitPrice DECIMAL(10, 2) NOT NULL DEFAULT 0.00,\r\n",
                "    Discount DECIMAL(4, 3) NOT NULL DEFAULT 0.00,\r\n",
                "    CONSTRAINT FK_OrderDetails_OrderID FOREIGN KEY (OrderID) REFERENCES dbo.Orders(OrderID)\r\n",
                ");\r\n",
                "\r\n",
                "-- Populate the Orders table with initial data\r\n",
                "INSERT INTO dbo.Orders (CustomerID, OrderDate, ShippedDate, Freight, ShipName, ShipAddress, ShipCity, ShipRegion, ShipPostalCode, ShipCountry)\r\n",
                "VALUES \r\n",
                "    (1, '2023-10-20', '2023-10-22', 25.50, 'John Doe', '123 Main St', 'New York', 'NY', '10001', 'USA'),\r\n",
                "    (2, '2023-10-21', '2023-10-23', 10.00, 'Jane Smith', '456 Elm St', 'San Francisco', 'CA', '94101', 'USA'),\r\n",
                "    (3, '2023-10-22', NULL, 15.00, 'Alice Brown', '789 Oak St', 'Seattle', 'WA', '98101', 'USA');\r\n",
                "\r\n",
                "-- Populate the OrderDetails table with initial data\r\n",
                "INSERT INTO dbo.OrderDetails (OrderID, ProductID, Quantity, UnitPrice, Discount)\r\n",
                "VALUES \r\n",
                "    (1, 101, 2, 12.99, 0.05),\r\n",
                "    (1, 102, 1, 19.99, 0.00),\r\n",
                "    (2, 103, 3, 5.99, 0.10),\r\n",
                "    (2, 104, 2, 9.99, 0.00),\r\n",
                "    (3, 105, 1, 29.99, 0.00),\r\n",
                "    (3, 106, 5, 7.99, 0.05);\r\n",
                ""
            ],
            "metadata": {
                "azdata_cell_guid": "6b275738-33a5-4e4c-8b4e-118ea802abfe",
                "language": "sql"
            },
            "outputs": [
                {
                    "output_type": "display_data",
                    "data": {
                        "text/html": "Commands completed successfully."
                    },
                    "metadata": {}
                },
                {
                    "output_type": "display_data",
                    "data": {
                        "text/html": "(3 rows affected)"
                    },
                    "metadata": {}
                },
                {
                    "output_type": "display_data",
                    "data": {
                        "text/html": "(6 rows affected)"
                    },
                    "metadata": {}
                },
                {
                    "output_type": "display_data",
                    "data": {
                        "text/html": "Total execution time: 00:00:00.073"
                    },
                    "metadata": {}
                }
            ],
            "execution_count": 2
        },
        {
            "cell_type": "markdown",
            "source": [
                "### **Propositions for Chapter 8 with Queries**\n",
                "\n",
                "### Proposition 1: Creating the `ProductCategories` Table with Sample Data\n",
                "\n",
                "**Overview:**  \n",
                "This proposition creates a `ProductCategories` table with a unique, auto-generated `CategoryID` for each category and populates it with sample categories. This setup provides a foundational table to categorize products by various types.\n",
                "\n",
                "**Key Clauses and Modifications:**\n",
                "- **IDENTITY**: The `CategoryID` column is set to auto-increment, ensuring each entry has a unique identifier.\n",
                "- **PRIMARY KEY**: Declares `CategoryID` as the unique key, preventing duplicate values.\n",
                "- **INSERT INTO**: Adds predefined category values to the table, creating a clear structure for future entries."
            ],
            "metadata": {
                "language": "sql",
                "azdata_cell_guid": "48a31419-90cd-4c0d-a190-4811da59a89c"
            },
            "attachments": {}
        },
        {
            "cell_type": "code",
            "source": [
                "USE WideWorldImporters;\r\n",
                "GO\r\n",
                "\r\n",
                "-- Step 1: Drop the ProductCategories table if it exists\r\n",
                "DROP TABLE IF EXISTS ProductCategories;\r\n",
                "\r\n",
                "-- Step 2: Create the ProductCategories table\r\n",
                "CREATE TABLE ProductCategories (\r\n",
                "    CategoryID INT IDENTITY(1,1) PRIMARY KEY,\r\n",
                "    CategoryName NVARCHAR(50) NOT NULL\r\n",
                ");\r\n",
                "\r\n",
                "-- Step 3: Insert sample data into ProductCategories\r\n",
                "INSERT INTO ProductCategories (CategoryName)\r\n",
                "VALUES ('Electronics'), ('Clothing'), ('Furniture');\r\n",
                "\r\n",
                "-- Verification: Retrieve data to ensure it’s added as expected\r\n",
                "SELECT * FROM ProductCategories;\r\n",
                ""
            ],
            "metadata": {
                "language": "sql",
                "azdata_cell_guid": "ed970f96-3e1e-4187-90f3-9c4c38c3392e"
            },
            "outputs": [
                {
                    "output_type": "display_data",
                    "data": {
                        "text/html": "Commands completed successfully."
                    },
                    "metadata": {}
                },
                {
                    "output_type": "display_data",
                    "data": {
                        "text/html": "(3 rows affected)"
                    },
                    "metadata": {}
                },
                {
                    "output_type": "display_data",
                    "data": {
                        "text/html": "(3 rows affected)"
                    },
                    "metadata": {}
                },
                {
                    "output_type": "display_data",
                    "data": {
                        "text/html": "Total execution time: 00:00:00.041"
                    },
                    "metadata": {}
                },
                {
                    "output_type": "execute_result",
                    "execution_count": 69,
                    "data": {
                        "application/vnd.dataresource+json": {
                            "schema": {
                                "fields": [
                                    {
                                        "name": "CategoryID"
                                    },
                                    {
                                        "name": "CategoryName"
                                    }
                                ]
                            },
                            "data": [
                                {
                                    "CategoryID": "1",
                                    "CategoryName": "Electronics"
                                },
                                {
                                    "CategoryID": "2",
                                    "CategoryName": "Clothing"
                                },
                                {
                                    "CategoryID": "3",
                                    "CategoryName": "Furniture"
                                }
                            ]
                        },
                        "text/html": "<table><tr><th>CategoryID</th><th>CategoryName</th></tr><tr><td>1</td><td>Electronics</td></tr><tr><td>2</td><td>Clothing</td></tr><tr><td>3</td><td>Furniture</td></tr></table>"
                    },
                    "metadata": {}
                }
            ],
            "execution_count": 69
        },
        {
            "cell_type": "markdown",
            "source": [
                "### Proposition 2: Using `SCOPE_IDENTITY()` to Add Related Records\r\n",
                "\r\n",
                "**Overview:**  \r\n",
                "This task demonstrates inserting data into two related tables, `Orders` and `OrderDetails`. After adding an order to `Orders`, the `SCOPE_IDENTITY()` function retrieves the last generated `OrderID`, linking it to a new entry in `OrderDetails`. This setup ensures that each order and its details are consistently related.\r\n",
                "\r\n",
                "**Key Clauses and Modifications:**\r\n",
                "- **SCOPE_IDENTITY()**: Captures the last inserted identity value, ensuring data consistency between `Orders` and `OrderDetails`.\r\n",
                "- **INSERT INTO**: Adds rows to both tables, linking them through the `OrderID`."
            ],
            "metadata": {
                "language": "sql",
                "azdata_cell_guid": "2f1de1dd-93d4-41ef-970c-dee589d989e3"
            },
            "attachments": {}
        },
        {
            "cell_type": "code",
            "source": [
                "USE WideWorldImporters;\r\n",
                "GO\r\n",
                "\r\n",
                "-- Step 1: Insert a new order in the Orders table\r\n",
                "INSERT INTO dbo.Orders (CustomerID, Freight, ShipName, ShipCity, ShipCountry)\r\n",
                "VALUES (3, 20.00, 'Alice Brown', 'Seattle', 'USA');\r\n",
                "\r\n",
                "-- Step 2: Retrieve the last inserted OrderID\r\n",
                "DECLARE @LastOrderID INT = SCOPE_IDENTITY();\r\n",
                "\r\n",
                "-- Step 3: Insert a new entry in OrderDetails for the retrieved OrderID\r\n",
                "INSERT INTO dbo.OrderDetails (OrderID, ProductID, Quantity, UnitPrice)\r\n",
                "VALUES (@LastOrderID, 104, 2, 9.99);\r\n",
                "\r\n",
                "-- Verification: Retrieve the entry from OrderDetails to confirm\r\n",
                "SELECT * FROM dbo.OrderDetails WHERE OrderID = @LastOrderID;\r\n",
                ""
            ],
            "metadata": {
                "language": "sql",
                "azdata_cell_guid": "10f96884-b92f-41e4-9746-94896fde170c"
            },
            "outputs": [
                {
                    "output_type": "display_data",
                    "data": {
                        "text/html": "Commands completed successfully."
                    },
                    "metadata": {}
                },
                {
                    "output_type": "display_data",
                    "data": {
                        "text/html": "(1 row affected)"
                    },
                    "metadata": {}
                },
                {
                    "output_type": "display_data",
                    "data": {
                        "text/html": "(1 row affected)"
                    },
                    "metadata": {}
                },
                {
                    "output_type": "display_data",
                    "data": {
                        "text/html": "(1 row affected)"
                    },
                    "metadata": {}
                },
                {
                    "output_type": "display_data",
                    "data": {
                        "text/html": "(1 row affected)"
                    },
                    "metadata": {}
                },
                {
                    "output_type": "display_data",
                    "data": {
                        "text/html": "Total execution time: 00:00:00.036"
                    },
                    "metadata": {}
                },
                {
                    "output_type": "execute_result",
                    "execution_count": 73,
                    "data": {
                        "application/vnd.dataresource+json": {
                            "schema": {
                                "fields": [
                                    {
                                        "name": "OrderDetailID"
                                    },
                                    {
                                        "name": "OrderID"
                                    },
                                    {
                                        "name": "ProductID"
                                    },
                                    {
                                        "name": "Quantity"
                                    },
                                    {
                                        "name": "UnitPrice"
                                    },
                                    {
                                        "name": "Discount"
                                    },
                                    {
                                        "name": "ReorderLevel"
                                    }
                                ]
                            },
                            "data": [
                                {
                                    "OrderDetailID": "16",
                                    "OrderID": "29",
                                    "ProductID": "104",
                                    "Quantity": "2",
                                    "UnitPrice": "9.99",
                                    "Discount": "0.000",
                                    "ReorderLevel": "10"
                                }
                            ]
                        },
                        "text/html": "<table><tr><th>OrderDetailID</th><th>OrderID</th><th>ProductID</th><th>Quantity</th><th>UnitPrice</th><th>Discount</th><th>ReorderLevel</th></tr><tr><td>16</td><td>29</td><td>104</td><td>2</td><td>9.99</td><td>0.000</td><td>10</td></tr></table>"
                    },
                    "metadata": {}
                }
            ],
            "execution_count": 73
        },
        {
            "cell_type": "markdown",
            "source": [
                "### Proposition 3: Creating the `Invoices` Table with `InvoiceSequence`\r\n",
                "\r\n",
                "**Overview:**  \r\n",
                "This proposition creates a `SEQUENCE` object to generate unique `InvoiceNumber` values for `Invoices`, an approach that ensures a consistent, unique identifier for each invoice. The table also includes `InvoiceDate`, which defaults to the current date.\r\n",
                "\r\n",
                "**Key Clauses and Modifications:**\r\n",
                "- **SEQUENCE**: `InvoiceSequence` is used for generating unique invoice numbers, especially helpful for ordered or custom ID formats.\r\n",
                "- **IDENTITY**: Sets `InvoiceID` to auto-increment, distinguishing it from `InvoiceNumber`.\r\n",
                "- **DEFAULT**: Automatically assigns `InvoiceDate` as the current date if no other value is provided.Proposition 3: Create a `SEQUENCE` for generating unique invoice numbers in `Invoices`."
            ],
            "metadata": {
                "azdata_cell_guid": "521a5204-74d7-48d5-bf61-1b41fae72345"
            },
            "attachments": {}
        },
        {
            "cell_type": "code",
            "source": [
                "USE WideWorldImporters;\r\n",
                "GO\r\n",
                "\r\n",
                "-- Step 1: Drop the Invoices table if it exists, then drop the sequence\r\n",
                "DROP TABLE IF EXISTS dbo.Invoices;\r\n",
                "DROP SEQUENCE IF EXISTS InvoiceSequence;\r\n",
                "\r\n",
                "-- Step 2: Create the InvoiceSequence\r\n",
                "CREATE SEQUENCE InvoiceSequence\r\n",
                "    START WITH 1000\r\n",
                "    INCREMENT BY 1;\r\n",
                "\r\n",
                "-- Step 3: Create the Invoices table with InvoiceID as an IDENTITY column\r\n",
                "CREATE TABLE dbo.Invoices (\r\n",
                "    InvoiceID INT IDENTITY(1,1) PRIMARY KEY,\r\n",
                "    InvoiceNumber INT DEFAULT NEXT VALUE FOR InvoiceSequence,\r\n",
                "    CustomerID INT,\r\n",
                "    InvoiceDate DATE DEFAULT GETDATE(),\r\n",
                "    TotalAmount DECIMAL(10, 2)\r\n",
                ");\r\n",
                "\r\n",
                "-- Step 4: Insert an invoice without specifying InvoiceID (auto-generated)\r\n",
                "INSERT INTO dbo.Invoices (CustomerID, TotalAmount)\r\n",
                "VALUES (1, 150.00);\r\n",
                "\r\n",
                "-- Verification: Select to confirm InvoiceID and InvoiceNumber values\r\n",
                "SELECT * FROM dbo.Invoices;\r\n",
                ""
            ],
            "metadata": {
                "azdata_cell_guid": "8d899a5e-188a-4c75-baeb-7d989ac7a8bd",
                "language": "sql"
            },
            "outputs": [
                {
                    "output_type": "display_data",
                    "data": {
                        "text/html": "Commands completed successfully."
                    },
                    "metadata": {}
                },
                {
                    "output_type": "display_data",
                    "data": {
                        "text/html": "(1 row affected)"
                    },
                    "metadata": {}
                },
                {
                    "output_type": "display_data",
                    "data": {
                        "text/html": "(1 row affected)"
                    },
                    "metadata": {}
                },
                {
                    "output_type": "display_data",
                    "data": {
                        "text/html": "Total execution time: 00:00:00.099"
                    },
                    "metadata": {}
                },
                {
                    "output_type": "execute_result",
                    "execution_count": 74,
                    "data": {
                        "application/vnd.dataresource+json": {
                            "schema": {
                                "fields": [
                                    {
                                        "name": "InvoiceID"
                                    },
                                    {
                                        "name": "InvoiceNumber"
                                    },
                                    {
                                        "name": "CustomerID"
                                    },
                                    {
                                        "name": "InvoiceDate"
                                    },
                                    {
                                        "name": "TotalAmount"
                                    }
                                ]
                            },
                            "data": [
                                {
                                    "InvoiceID": "1",
                                    "InvoiceNumber": "1000",
                                    "CustomerID": "1",
                                    "InvoiceDate": "2024-10-29",
                                    "TotalAmount": "150.00"
                                }
                            ]
                        },
                        "text/html": "<table><tr><th>InvoiceID</th><th>InvoiceNumber</th><th>CustomerID</th><th>InvoiceDate</th><th>TotalAmount</th></tr><tr><td>1</td><td>1000</td><td>1</td><td>2024-10-29</td><td>150.00</td></tr></table>"
                    },
                    "metadata": {}
                }
            ],
            "execution_count": 74
        },
        {
            "cell_type": "markdown",
            "source": [
                "### Proposition 4: Capturing Inserted Data Using the `OUTPUT` Clause\r\n",
                "\r\n",
                "**Overview:**  \r\n",
                "This proposition captures information about newly inserted rows in `Orders` using the `OUTPUT` clause. The captured data is temporarily stored for easy verification, allowing immediate review of inserted values.\r\n",
                "\r\n",
                "**Key Clauses and Modifications:**\r\n",
                "- **OUTPUT**: Directly captures and returns details of each new row, supporting transparency and data verification.\r\n",
                "- **#Temporary Table**: The use of a temporary table for `OUTPUT` data allows data from the current session to be stored and displayed without permanently saving it in the database."
            ],
            "metadata": {
                "language": "sql",
                "azdata_cell_guid": "3245ea21-454a-4d5e-b7a8-0053c14b1db6"
            },
            "attachments": {}
        },
        {
            "cell_type": "code",
            "source": [
                "USE WideWorldImporters;\r\n",
                "GO\r\n",
                "\r\n",
                "-- Step 1: Create a temporary table to capture output\r\n",
                "CREATE TABLE #InsertedOrders (\r\n",
                "    OrderID INT,\r\n",
                "    CustomerID INT,\r\n",
                "    OrderDate DATE,\r\n",
                "    Freight DECIMAL(10, 2)\r\n",
                ");\r\n",
                "\r\n",
                "-- Step 2: Insert a new order, capturing the output in #InsertedOrders\r\n",
                "INSERT INTO dbo.Orders (CustomerID, Freight, ShipName, ShipCity, ShipCountry)\r\n",
                "OUTPUT INSERTED.OrderID, INSERTED.CustomerID, INSERTED.OrderDate, INSERTED.Freight\r\n",
                "INTO #InsertedOrders\r\n",
                "VALUES (6, 20.00, 'Pam Beesly', 'Philadelphia', 'USA');\r\n",
                "\r\n",
                "-- Verification: Display the captured output data\r\n",
                "SELECT * FROM #InsertedOrders;\r\n",
                "\r\n",
                "-- Cleanup\r\n",
                "DROP TABLE #InsertedOrders;\r\n",
                ""
            ],
            "metadata": {
                "language": "sql",
                "azdata_cell_guid": "101fc384-5363-4c37-8d81-182a5501e939",
                "tags": []
            },
            "outputs": [
                {
                    "output_type": "display_data",
                    "data": {
                        "text/html": "Commands completed successfully."
                    },
                    "metadata": {}
                },
                {
                    "output_type": "display_data",
                    "data": {
                        "text/html": "(1 row affected)"
                    },
                    "metadata": {}
                },
                {
                    "output_type": "display_data",
                    "data": {
                        "text/html": "(1 row affected)"
                    },
                    "metadata": {}
                },
                {
                    "output_type": "display_data",
                    "data": {
                        "text/html": "(1 row affected)"
                    },
                    "metadata": {}
                },
                {
                    "output_type": "display_data",
                    "data": {
                        "text/html": "Total execution time: 00:00:00.044"
                    },
                    "metadata": {}
                },
                {
                    "output_type": "execute_result",
                    "execution_count": 75,
                    "data": {
                        "application/vnd.dataresource+json": {
                            "schema": {
                                "fields": [
                                    {
                                        "name": "OrderID"
                                    },
                                    {
                                        "name": "CustomerID"
                                    },
                                    {
                                        "name": "OrderDate"
                                    },
                                    {
                                        "name": "Freight"
                                    }
                                ]
                            },
                            "data": [
                                {
                                    "OrderID": "30",
                                    "CustomerID": "6",
                                    "OrderDate": "NULL",
                                    "Freight": "20.00"
                                }
                            ]
                        },
                        "text/html": "<table><tr><th>OrderID</th><th>CustomerID</th><th>OrderDate</th><th>Freight</th></tr><tr><td>30</td><td>6</td><td>NULL</td><td>20.00</td></tr></table>"
                    },
                    "metadata": {}
                }
            ],
            "execution_count": 75
        },
        {
            "cell_type": "markdown",
            "source": [
                "### **Proposition 5**: Track Changes in `dbo.Orders` Using an Audit Table\r\n",
                "\r\n",
                "In this proposition, we create a separate **audit table** called `OrderAuditLog` to track any changes in `dbo.Orders`. Whenever a new order is inserted or an existing order is updated, an entry will be added to `OrderAuditLog` to record the action.\r\n",
                "\r\n",
                "---\r\n",
                "\r\n",
                "#### Steps and Query:\r\n",
                "\r\n",
                "1. **Create `OrderAuditLog` Table**: This table will store audit entries for each action performed on `dbo.Orders`, including order ID, action type (e.g., INSERT, UPDATE), and timestamp.\r\n",
                "2. **Insert a New Order** in `dbo.Orders`, with a trigger capturing this insertion in `OrderAuditLog`.\r\n",
                "3. **Update an Order** in `dbo.Orders`, again with the trigger capturing this change.\r\n",
                "\r\n",
                "### Explanation\r\n",
                "\r\n",
                "- **`OrderAuditLog` Table**: Stores audit records with `OrderID`, action type (e.g., INSERT, UPDATE), and timestamp.\r\n",
                "- **Trigger `trg_OrderAudit`**: Automatically captures each `INSERT` or `UPDATE` on `dbo.Orders` and logs it in `OrderAuditLog`.\r\n",
                "- **Final Verification**: The `SELECT` query on `OrderAuditLog` shows recorded actions for the tested `INSERT` and `UPDATE`."
            ],
            "metadata": {
                "language": "sql",
                "azdata_cell_guid": "bbc893d0-6b56-43fe-b572-fe751ba5dfd8"
            },
            "attachments": {}
        },
        {
            "cell_type": "code",
            "source": [
                "USE WideWorldImporters;\r\n",
                "GO\r\n",
                "\r\n",
                "-- Step 1: Create the OrderAuditLog table\r\n",
                "DROP TABLE IF EXISTS dbo.OrderAuditLog;\r\n",
                "CREATE TABLE dbo.OrderAuditLog (\r\n",
                "    AuditID INT IDENTITY(1,1) PRIMARY KEY,\r\n",
                "    OrderID INT,\r\n",
                "    Action NVARCHAR(50),\r\n",
                "    ActionDate DATETIME DEFAULT GETDATE()\r\n",
                ");\r\n",
                "\r\n",
                "-- Step 2: Drop and create the trigger in a new batch\r\n",
                "DROP TRIGGER IF EXISTS trg_OrderAudit;\r\n",
                "GO\r\n",
                "\r\n",
                "CREATE TRIGGER trg_OrderAudit\r\n",
                "ON dbo.Orders\r\n",
                "AFTER INSERT, UPDATE\r\n",
                "AS\r\n",
                "BEGIN\r\n",
                "    INSERT INTO dbo.OrderAuditLog (OrderID, Action, ActionDate)\r\n",
                "    SELECT i.OrderID, \r\n",
                "           CASE WHEN i.OrderID IS NOT NULL AND d.OrderID IS NULL THEN 'INSERT'\r\n",
                "                WHEN i.OrderID IS NOT NULL AND d.OrderID IS NOT NULL THEN 'UPDATE'\r\n",
                "           END AS Action,\r\n",
                "           GETDATE()\r\n",
                "    FROM inserted i\r\n",
                "    LEFT JOIN deleted d ON i.OrderID = d.OrderID;\r\n",
                "END;\r\n",
                "GO\r\n",
                "\r\n",
                "-- Step 3: Insert and Update to test the trigger\r\n",
                "INSERT INTO dbo.Orders (CustomerID, Freight, ShipName, ShipCity, ShipCountry)\r\n",
                "VALUES (7, 22.00, 'Jim Halpert', 'Scranton', 'USA');\r\n",
                "\r\n",
                "UPDATE dbo.Orders\r\n",
                "SET Freight = 25.00\r\n",
                "WHERE CustomerID = 7;\r\n",
                "\r\n",
                "-- Verification: View audit log to verify actions\r\n",
                "SELECT * FROM dbo.OrderAuditLog;\r\n",
                ""
            ],
            "metadata": {
                "language": "sql",
                "azdata_cell_guid": "63b0fc11-ea8d-486a-8855-6f89fb25212b"
            },
            "outputs": [
                {
                    "output_type": "display_data",
                    "data": {
                        "text/html": "Commands completed successfully."
                    },
                    "metadata": {}
                },
                {
                    "output_type": "display_data",
                    "data": {
                        "text/html": "Commands completed successfully."
                    },
                    "metadata": {}
                },
                {
                    "output_type": "display_data",
                    "data": {
                        "text/html": "Commands completed successfully."
                    },
                    "metadata": {}
                },
                {
                    "output_type": "display_data",
                    "data": {
                        "text/html": "(1 row affected)"
                    },
                    "metadata": {}
                },
                {
                    "output_type": "display_data",
                    "data": {
                        "text/html": "(1 row affected)"
                    },
                    "metadata": {}
                },
                {
                    "output_type": "display_data",
                    "data": {
                        "text/html": "(6 rows affected)"
                    },
                    "metadata": {}
                },
                {
                    "output_type": "display_data",
                    "data": {
                        "text/html": "(6 rows affected)"
                    },
                    "metadata": {}
                },
                {
                    "output_type": "display_data",
                    "data": {
                        "text/html": "(7 rows affected)"
                    },
                    "metadata": {}
                },
                {
                    "output_type": "display_data",
                    "data": {
                        "text/html": "Total execution time: 00:00:00.164"
                    },
                    "metadata": {}
                },
                {
                    "output_type": "execute_result",
                    "execution_count": 76,
                    "data": {
                        "application/vnd.dataresource+json": {
                            "schema": {
                                "fields": [
                                    {
                                        "name": "AuditID"
                                    },
                                    {
                                        "name": "OrderID"
                                    },
                                    {
                                        "name": "Action"
                                    },
                                    {
                                        "name": "ActionDate"
                                    }
                                ]
                            },
                            "data": [
                                {
                                    "AuditID": "1",
                                    "OrderID": "31",
                                    "Action": "INSERT",
                                    "ActionDate": "2024-10-29 03:27:20.547"
                                },
                                {
                                    "AuditID": "2",
                                    "OrderID": "31",
                                    "Action": "UPDATE",
                                    "ActionDate": "2024-10-29 03:27:20.590"
                                },
                                {
                                    "AuditID": "3",
                                    "OrderID": "12",
                                    "Action": "UPDATE",
                                    "ActionDate": "2024-10-29 03:27:20.590"
                                },
                                {
                                    "AuditID": "4",
                                    "OrderID": "11",
                                    "Action": "UPDATE",
                                    "ActionDate": "2024-10-29 03:27:20.590"
                                },
                                {
                                    "AuditID": "5",
                                    "OrderID": "10",
                                    "Action": "UPDATE",
                                    "ActionDate": "2024-10-29 03:27:20.590"
                                },
                                {
                                    "AuditID": "6",
                                    "OrderID": "9",
                                    "Action": "UPDATE",
                                    "ActionDate": "2024-10-29 03:27:20.590"
                                },
                                {
                                    "AuditID": "7",
                                    "OrderID": "8",
                                    "Action": "UPDATE",
                                    "ActionDate": "2024-10-29 03:27:20.590"
                                }
                            ]
                        },
                        "text/html": "<table><tr><th>AuditID</th><th>OrderID</th><th>Action</th><th>ActionDate</th></tr><tr><td>1</td><td>31</td><td>INSERT</td><td>2024-10-29 03:27:20.547</td></tr><tr><td>2</td><td>31</td><td>UPDATE</td><td>2024-10-29 03:27:20.590</td></tr><tr><td>3</td><td>12</td><td>UPDATE</td><td>2024-10-29 03:27:20.590</td></tr><tr><td>4</td><td>11</td><td>UPDATE</td><td>2024-10-29 03:27:20.590</td></tr><tr><td>5</td><td>10</td><td>UPDATE</td><td>2024-10-29 03:27:20.590</td></tr><tr><td>6</td><td>9</td><td>UPDATE</td><td>2024-10-29 03:27:20.590</td></tr><tr><td>7</td><td>8</td><td>UPDATE</td><td>2024-10-29 03:27:20.590</td></tr></table>"
                    },
                    "metadata": {}
                }
            ],
            "execution_count": 76
        },
        {
            "cell_type": "markdown",
            "source": [
                "### Proposition 6: Adding `ReorderLevel` with Default Value to `dbo.OrderDetails`\r\n",
                "\r\n",
                "**Overview:**  \r\n",
                "This proposition adds a `ReorderLevel` column to the `OrderDetails` table, with a default value of `10` to help manage and track stock levels automatically. The default value ensures that, unless otherwise specified, each new item added to the `OrderDetails` table will have a reorder level set.\r\n",
                "\r\n",
                "**Steps & Explanation:**\r\n",
                "1. **Drop Existing Constraints** – Checks for any default constraints on `ReorderLevel` and removes them if found.\r\n",
                "2. **Drop Column if Exists** – Ensures the column `ReorderLevel` does not already exist in the table, preventing duplication.\r\n",
                "3. **Add Column with Default** – Adds the `ReorderLevel` column with a default value of `10`.\r\n",
                "4. **Verification** – Inserts a new row to confirm that the `ReorderLevel` field defaults to `10` if no specific value is provided.\r\n",
                "\r\n",
                "**Key Clauses:**\r\n",
                "- **ALTER TABLE**: Used to modify the structure of an existing table by adding or removing columns.\r\n",
                "- **DEFAULT**: Specifies a default value for new rows added to the table.\r\n",
                "\r\n",
                ""
            ],
            "metadata": {
                "azdata_cell_guid": "3933d3bc-3488-4a2e-8a92-9bbccbbb1e01"
            },
            "attachments": {}
        },
        {
            "cell_type": "code",
            "source": [
                "USE WideWorldImporters;\r\n",
                "GO\r\n",
                "\r\n",
                "-- Step 1: Identify and drop the default constraint on ReorderLevel, if it exists\r\n",
                "DECLARE @constraintName NVARCHAR(200);\r\n",
                "\r\n",
                "SELECT @constraintName = name \r\n",
                "FROM sys.default_constraints \r\n",
                "WHERE parent_object_id = OBJECT_ID('dbo.OrderDetails') \r\n",
                "  AND parent_column_id = COLUMNPROPERTY(OBJECT_ID('dbo.OrderDetails'), 'ReorderLevel', 'ColumnId');\r\n",
                "\r\n",
                "IF @constraintName IS NOT NULL\r\n",
                "BEGIN\r\n",
                "    EXEC('ALTER TABLE dbo.OrderDetails DROP CONSTRAINT ' + @constraintName);\r\n",
                "END\r\n",
                "\r\n",
                "-- Step 2: Drop the ReorderLevel column if it exists\r\n",
                "IF EXISTS (SELECT * FROM sys.columns \r\n",
                "           WHERE Name = N'ReorderLevel' AND Object_ID = Object_ID(N'dbo.OrderDetails'))\r\n",
                "BEGIN\r\n",
                "    ALTER TABLE dbo.OrderDetails\r\n",
                "    DROP COLUMN ReorderLevel;\r\n",
                "END;\r\n",
                "\r\n",
                "-- Step 3: Add the ReorderLevel column with a default value of 10\r\n",
                "ALTER TABLE dbo.OrderDetails\r\n",
                "ADD ReorderLevel INT DEFAULT 10;\r\n",
                "\r\n",
                "-- Test: Insert a new row to confirm ReorderLevel default value\r\n",
                "INSERT INTO dbo.OrderDetails (OrderID, ProductID, Quantity, UnitPrice, Discount)\r\n",
                "VALUES (1, 107, 3, 15.00, 0.00);\r\n",
                "\r\n",
                "-- Verify that ReorderLevel has the default value of 10 for the new row\r\n",
                "SELECT OrderID, ProductID, Quantity, UnitPrice, Discount, ReorderLevel\r\n",
                "FROM dbo.OrderDetails\r\n",
                "WHERE ProductID = 107;\r\n",
                ""
            ],
            "metadata": {
                "azdata_cell_guid": "62f13b04-977a-49ec-8edf-ace5122247cc",
                "language": "sql"
            },
            "outputs": [
                {
                    "output_type": "display_data",
                    "data": {
                        "text/html": "Commands completed successfully."
                    },
                    "metadata": {}
                },
                {
                    "output_type": "display_data",
                    "data": {
                        "text/html": "(1 row affected)"
                    },
                    "metadata": {}
                },
                {
                    "output_type": "display_data",
                    "data": {
                        "text/html": "(5 rows affected)"
                    },
                    "metadata": {}
                },
                {
                    "output_type": "display_data",
                    "data": {
                        "text/html": "Total execution time: 00:00:00.070"
                    },
                    "metadata": {}
                },
                {
                    "output_type": "execute_result",
                    "execution_count": 111,
                    "data": {
                        "application/vnd.dataresource+json": {
                            "schema": {
                                "fields": [
                                    {
                                        "name": "OrderID"
                                    },
                                    {
                                        "name": "ProductID"
                                    },
                                    {
                                        "name": "Quantity"
                                    },
                                    {
                                        "name": "UnitPrice"
                                    },
                                    {
                                        "name": "Discount"
                                    },
                                    {
                                        "name": "ReorderLevel"
                                    }
                                ]
                            },
                            "data": [
                                {
                                    "OrderID": "1",
                                    "ProductID": "107",
                                    "Quantity": "3",
                                    "UnitPrice": "15.00",
                                    "Discount": "0.000",
                                    "ReorderLevel": "NULL"
                                },
                                {
                                    "OrderID": "1",
                                    "ProductID": "107",
                                    "Quantity": "3",
                                    "UnitPrice": "15.00",
                                    "Discount": "0.000",
                                    "ReorderLevel": "NULL"
                                },
                                {
                                    "OrderID": "1",
                                    "ProductID": "107",
                                    "Quantity": "3",
                                    "UnitPrice": "15.00",
                                    "Discount": "0.000",
                                    "ReorderLevel": "NULL"
                                },
                                {
                                    "OrderID": "1",
                                    "ProductID": "107",
                                    "Quantity": "3",
                                    "UnitPrice": "15.00",
                                    "Discount": "0.000",
                                    "ReorderLevel": "NULL"
                                },
                                {
                                    "OrderID": "1",
                                    "ProductID": "107",
                                    "Quantity": "3",
                                    "UnitPrice": "15.00",
                                    "Discount": "0.000",
                                    "ReorderLevel": "10"
                                }
                            ]
                        },
                        "text/html": "<table><tr><th>OrderID</th><th>ProductID</th><th>Quantity</th><th>UnitPrice</th><th>Discount</th><th>ReorderLevel</th></tr><tr><td>1</td><td>107</td><td>3</td><td>15.00</td><td>0.000</td><td>NULL</td></tr><tr><td>1</td><td>107</td><td>3</td><td>15.00</td><td>0.000</td><td>NULL</td></tr><tr><td>1</td><td>107</td><td>3</td><td>15.00</td><td>0.000</td><td>NULL</td></tr><tr><td>1</td><td>107</td><td>3</td><td>15.00</td><td>0.000</td><td>NULL</td></tr><tr><td>1</td><td>107</td><td>3</td><td>15.00</td><td>0.000</td><td>10</td></tr></table>"
                    },
                    "metadata": {}
                }
            ],
            "execution_count": 111
        },
        {
            "cell_type": "markdown",
            "source": [
                "### Proposition 7: Adding `LastUpdated` Column with `GETDATE()` Default to `dbo.Orders`\r\n",
                "\r\n",
                "**Overview:**  \r\n",
                "The `LastUpdated` column in `dbo.Orders` tracks the date and time of the last update for each order. This default value of `GETDATE()` records the exact moment an entry is created or modified, providing an accurate timeline of changes.\r\n",
                "\r\n",
                "**Steps & Explanation:**\r\n",
                "1. **Drop Existing Constraints** – Searches for and removes any existing default constraints on the `LastUpdated` column.\r\n",
                "2. **Drop Column if Exists** – Ensures there are no duplicate `LastUpdated` columns.\r\n",
                "3. **Add Column with Default** – Adds `LastUpdated` to `dbo.Orders` with `GETDATE()` as the default.\r\n",
                "4. **Verification** – Inserts a row to verify that `LastUpdated` correctly defaults to the current timestamp.\r\n",
                "\r\n",
                "**Key Clauses:**\r\n",
                "- **GETDATE()**: Captures the current date and time, which is applied to `LastUpdated`.\r\n",
                "- **ALTER TABLE**: Modifies `dbo.Orders` to add the `LastUpdated` column with the default."
            ],
            "metadata": {
                "language": "sql",
                "azdata_cell_guid": "af26178e-1c55-4520-a6d0-0ba644dbc165"
            },
            "attachments": {}
        },
        {
            "cell_type": "code",
            "source": [
                "USE WideWorldImporters;\r\n",
                "GO\r\n",
                "\r\n",
                "-- Step 1: Drop existing default constraint on LastUpdated if it exists\r\n",
                "DECLARE @constraintName NVARCHAR(200), @sql NVARCHAR(MAX) = '';\r\n",
                "SELECT @constraintName = name \r\n",
                "FROM sys.default_constraints \r\n",
                "WHERE parent_object_id = OBJECT_ID('dbo.Orders') \r\n",
                "  AND parent_column_id = COLUMNPROPERTY(OBJECT_ID('dbo.Orders'), 'LastUpdated', 'ColumnId');\r\n",
                "IF @constraintName IS NOT NULL\r\n",
                "BEGIN\r\n",
                "    SET @sql = 'ALTER TABLE dbo.Orders DROP CONSTRAINT ' + QUOTENAME(@constraintName) + ';';\r\n",
                "    EXEC sp_executesql @sql;\r\n",
                "END;\r\n",
                "\r\n",
                "-- Step 2: Drop the LastUpdated column if it exists\r\n",
                "IF EXISTS (SELECT * FROM sys.columns WHERE Name = N'LastUpdated' AND Object_ID = Object_ID(N'dbo.Orders'))\r\n",
                "BEGIN\r\n",
                "    ALTER TABLE dbo.Orders\r\n",
                "    DROP COLUMN LastUpdated;\r\n",
                "END;\r\n",
                "\r\n",
                "-- Step 3: Add the LastUpdated column with default value of GETDATE()\r\n",
                "ALTER TABLE dbo.Orders ADD LastUpdated DATETIME DEFAULT GETDATE();\r\n",
                "\r\n",
                "-- Verification: Insert a new order to test the LastUpdated default value\r\n",
                "INSERT INTO dbo.Orders (CustomerID, Freight, ShipName, ShipCity, ShipCountry)\r\n",
                "VALUES (13, 50.00, 'Angela Martin', 'Scranton', 'USA');\r\n",
                "\r\n",
                "-- Verify that LastUpdated has the default value for the new row\r\n",
                "SELECT OrderID, CustomerID, OrderDate, Freight, LastUpdated\r\n",
                "FROM dbo.Orders\r\n",
                "WHERE CustomerID = 13;\r\n",
                ""
            ],
            "metadata": {
                "language": "sql",
                "azdata_cell_guid": "ceffa16f-8313-497a-9cc8-886b83af2540"
            },
            "outputs": [
                {
                    "output_type": "display_data",
                    "data": {
                        "text/html": "Commands completed successfully."
                    },
                    "metadata": {}
                },
                {
                    "output_type": "display_data",
                    "data": {
                        "text/html": "(1 row affected)"
                    },
                    "metadata": {}
                },
                {
                    "output_type": "display_data",
                    "data": {
                        "text/html": "(1 row affected)"
                    },
                    "metadata": {}
                },
                {
                    "output_type": "display_data",
                    "data": {
                        "text/html": "(10 rows affected)"
                    },
                    "metadata": {}
                },
                {
                    "output_type": "display_data",
                    "data": {
                        "text/html": "Total execution time: 00:00:00.109"
                    },
                    "metadata": {}
                },
                {
                    "output_type": "execute_result",
                    "execution_count": 112,
                    "data": {
                        "application/vnd.dataresource+json": {
                            "schema": {
                                "fields": [
                                    {
                                        "name": "OrderID"
                                    },
                                    {
                                        "name": "CustomerID"
                                    },
                                    {
                                        "name": "OrderDate"
                                    },
                                    {
                                        "name": "Freight"
                                    },
                                    {
                                        "name": "LastUpdated"
                                    }
                                ]
                            },
                            "data": [
                                {
                                    "OrderID": "13",
                                    "CustomerID": "13",
                                    "OrderDate": "NULL",
                                    "Freight": "50.00",
                                    "LastUpdated": "NULL"
                                },
                                {
                                    "OrderID": "14",
                                    "CustomerID": "13",
                                    "OrderDate": "NULL",
                                    "Freight": "50.00",
                                    "LastUpdated": "NULL"
                                },
                                {
                                    "OrderID": "15",
                                    "CustomerID": "13",
                                    "OrderDate": "NULL",
                                    "Freight": "50.00",
                                    "LastUpdated": "NULL"
                                },
                                {
                                    "OrderID": "16",
                                    "CustomerID": "13",
                                    "OrderDate": "NULL",
                                    "Freight": "50.00",
                                    "LastUpdated": "NULL"
                                },
                                {
                                    "OrderID": "17",
                                    "CustomerID": "13",
                                    "OrderDate": "NULL",
                                    "Freight": "50.00",
                                    "LastUpdated": "NULL"
                                },
                                {
                                    "OrderID": "18",
                                    "CustomerID": "13",
                                    "OrderDate": "NULL",
                                    "Freight": "50.00",
                                    "LastUpdated": "NULL"
                                },
                                {
                                    "OrderID": "19",
                                    "CustomerID": "13",
                                    "OrderDate": "NULL",
                                    "Freight": "50.00",
                                    "LastUpdated": "NULL"
                                },
                                {
                                    "OrderID": "41",
                                    "CustomerID": "13",
                                    "OrderDate": "NULL",
                                    "Freight": "50.00",
                                    "LastUpdated": "NULL"
                                },
                                {
                                    "OrderID": "42",
                                    "CustomerID": "13",
                                    "OrderDate": "NULL",
                                    "Freight": "50.00",
                                    "LastUpdated": "NULL"
                                },
                                {
                                    "OrderID": "43",
                                    "CustomerID": "13",
                                    "OrderDate": "NULL",
                                    "Freight": "50.00",
                                    "LastUpdated": "2024-10-29 03:42:28.577"
                                }
                            ]
                        },
                        "text/html": "<table><tr><th>OrderID</th><th>CustomerID</th><th>OrderDate</th><th>Freight</th><th>LastUpdated</th></tr><tr><td>13</td><td>13</td><td>NULL</td><td>50.00</td><td>NULL</td></tr><tr><td>14</td><td>13</td><td>NULL</td><td>50.00</td><td>NULL</td></tr><tr><td>15</td><td>13</td><td>NULL</td><td>50.00</td><td>NULL</td></tr><tr><td>16</td><td>13</td><td>NULL</td><td>50.00</td><td>NULL</td></tr><tr><td>17</td><td>13</td><td>NULL</td><td>50.00</td><td>NULL</td></tr><tr><td>18</td><td>13</td><td>NULL</td><td>50.00</td><td>NULL</td></tr><tr><td>19</td><td>13</td><td>NULL</td><td>50.00</td><td>NULL</td></tr><tr><td>41</td><td>13</td><td>NULL</td><td>50.00</td><td>NULL</td></tr><tr><td>42</td><td>13</td><td>NULL</td><td>50.00</td><td>NULL</td></tr><tr><td>43</td><td>13</td><td>NULL</td><td>50.00</td><td>2024-10-29 03:42:28.577</td></tr></table>"
                    },
                    "metadata": {}
                }
            ],
            "execution_count": 112
        },
        {
            "cell_type": "markdown",
            "source": [
                "### Proposition 8: Creating `ReceiptLogs` Table with `SEQUENCE` for `ReceiptNumber`\r\n",
                "\r\n",
                "**Overview:**  \r\n",
                "The `ReceiptLogs` table uses a `SEQUENCE` to auto-generate unique `ReceiptNumber` values, ensuring unique identifiers for each receipt. This setup demonstrates the flexibility of using sequences for ordered numbering schemes.\r\n",
                "\r\n",
                "**Key Clauses and Modifications:**\r\n",
                "- **SEQUENCE**: Provides an ordered number for each receipt, a simpler alternative to identity columns for managing non-primary keys.\r\n",
                "- **IDENTITY**: Auto-generates unique IDs for each receipt entry.\r\n",
                "- **DEFAULT**: Applies the current date to `TransactionDate`, maintaining consistency for receipts."
            ],
            "metadata": {
                "language": "sql",
                "azdata_cell_guid": "bd8c5975-5b03-4ad2-8f2d-6eb3864b0b64"
            },
            "attachments": {}
        },
        {
            "cell_type": "code",
            "source": [
                "-- Step 1: Drop Existing Dependencies and the `ReceiptSeq` SEQUENCE\r\n",
                "\r\n",
                "USE WideWorldImporters;\r\n",
                "GO\r\n",
                "\r\n",
                "DECLARE @constraintName NVARCHAR(200), @sql NVARCHAR(MAX);\r\n",
                "\r\n",
                "-- Identify and drop any default constraint tied to ReceiptNumber\r\n",
                "SELECT @constraintName = name \r\n",
                "FROM sys.default_constraints \r\n",
                "WHERE parent_object_id = OBJECT_ID('dbo.ReceiptLogs') \r\n",
                "  AND parent_column_id = COLUMNPROPERTY(OBJECT_ID('dbo.ReceiptLogs'), 'ReceiptNumber', 'ColumnId');\r\n",
                "\r\n",
                "IF @constraintName IS NOT NULL\r\n",
                "BEGIN\r\n",
                "    SET @sql = 'ALTER TABLE dbo.ReceiptLogs DROP CONSTRAINT ' + QUOTENAME(@constraintName) + ';';\r\n",
                "    EXEC sp_executesql @sql;\r\n",
                "END;\r\n",
                "\r\n",
                "-- Drop the sequence if it exists\r\n",
                "DROP SEQUENCE IF EXISTS ReceiptSeq;\r\n",
                "GO"
            ],
            "metadata": {
                "language": "sql",
                "azdata_cell_guid": "df167808-2bf5-4e5d-a551-dae1f43b6522",
                "tags": []
            },
            "outputs": [
                {
                    "output_type": "display_data",
                    "data": {
                        "text/html": "Commands completed successfully."
                    },
                    "metadata": {}
                },
                {
                    "output_type": "display_data",
                    "data": {
                        "text/html": "Commands completed successfully."
                    },
                    "metadata": {}
                },
                {
                    "output_type": "display_data",
                    "data": {
                        "text/html": "Total execution time: 00:00:00.032"
                    },
                    "metadata": {}
                }
            ],
            "execution_count": 136
        },
        {
            "cell_type": "code",
            "source": [
                "-- Step 2: Recreate the `ReceiptSeq` SEQUENCE and `ReceiptLogs` Table\r\n",
                "--This step creates a fresh sequence and the `ReceiptLogs` table using that sequence.\r\n",
                "USE WideWorldImporters;\r\n",
                "GO\r\n",
                "\r\n",
                "-- Create the sequence\r\n",
                "CREATE SEQUENCE ReceiptSeq\r\n",
                "    START WITH 1000\r\n",
                "    INCREMENT BY 1;\r\n",
                "GO\r\n",
                "\r\n",
                "-- Create the ReceiptLogs table with ReceiptNumber linked to ReceiptSeq\r\n",
                "DROP TABLE IF EXISTS ReceiptLogs;\r\n",
                "CREATE TABLE ReceiptLogs (\r\n",
                "    ReceiptID INT PRIMARY KEY IDENTITY(1,1),\r\n",
                "    ReceiptNumber INT DEFAULT NEXT VALUE FOR ReceiptSeq,\r\n",
                "    TransactionDate DATE DEFAULT GETDATE(),\r\n",
                "    Amount DECIMAL(10, 2) NOT NULL\r\n",
                ");\r\n",
                "GO"
            ],
            "metadata": {
                "language": "sql",
                "azdata_cell_guid": "efbfc319-6131-42a2-ab26-12e5f082a458"
            },
            "outputs": [
                {
                    "output_type": "display_data",
                    "data": {
                        "text/html": "Commands completed successfully."
                    },
                    "metadata": {}
                },
                {
                    "output_type": "display_data",
                    "data": {
                        "text/html": "Commands completed successfully."
                    },
                    "metadata": {}
                },
                {
                    "output_type": "display_data",
                    "data": {
                        "text/html": "Total execution time: 00:00:00.047"
                    },
                    "metadata": {}
                }
            ],
            "execution_count": 131
        },
        {
            "cell_type": "code",
            "source": [
                "-- Step 3: Insert Sample Data and Verify\r\n",
                "--- This step inserts sample data to confirm the functionality of `ReceiptNumber` generation.\r\n",
                "\r\n",
                "USE WideWorldImporters;\r\n",
                "GO\r\n",
                "\r\n",
                "-- Insert sample data to check ReceiptNumber generation\r\n",
                "INSERT INTO ReceiptLogs (Amount)\r\n",
                "VALUES (150.00), (200.00);\r\n",
                "\r\n",
                "-- Verification: Check the ReceiptLogs table\r\n",
                "SELECT * FROM ReceiptLogs;\r\n",
                "GO\r\n",
                ""
            ],
            "metadata": {
                "language": "sql",
                "azdata_cell_guid": "ddae89d9-b119-4a3d-a445-96097b7c0d77"
            },
            "outputs": [
                {
                    "output_type": "display_data",
                    "data": {
                        "text/html": "Commands completed successfully."
                    },
                    "metadata": {}
                },
                {
                    "output_type": "display_data",
                    "data": {
                        "text/html": "(2 rows affected)"
                    },
                    "metadata": {}
                },
                {
                    "output_type": "display_data",
                    "data": {
                        "text/html": "(4 rows affected)"
                    },
                    "metadata": {}
                },
                {
                    "output_type": "display_data",
                    "data": {
                        "text/html": "Total execution time: 00:00:00.018"
                    },
                    "metadata": {}
                },
                {
                    "output_type": "execute_result",
                    "execution_count": 137,
                    "data": {
                        "application/vnd.dataresource+json": {
                            "schema": {
                                "fields": [
                                    {
                                        "name": "ReceiptID"
                                    },
                                    {
                                        "name": "ReceiptNumber"
                                    },
                                    {
                                        "name": "TransactionDate"
                                    },
                                    {
                                        "name": "Amount"
                                    }
                                ]
                            },
                            "data": [
                                {
                                    "ReceiptID": "1",
                                    "ReceiptNumber": "1000",
                                    "TransactionDate": "2024-10-29",
                                    "Amount": "150.00"
                                },
                                {
                                    "ReceiptID": "2",
                                    "ReceiptNumber": "1001",
                                    "TransactionDate": "2024-10-29",
                                    "Amount": "200.00"
                                },
                                {
                                    "ReceiptID": "3",
                                    "ReceiptNumber": "NULL",
                                    "TransactionDate": "2024-10-29",
                                    "Amount": "150.00"
                                },
                                {
                                    "ReceiptID": "4",
                                    "ReceiptNumber": "NULL",
                                    "TransactionDate": "2024-10-29",
                                    "Amount": "200.00"
                                }
                            ]
                        },
                        "text/html": "<table><tr><th>ReceiptID</th><th>ReceiptNumber</th><th>TransactionDate</th><th>Amount</th></tr><tr><td>1</td><td>1000</td><td>2024-10-29</td><td>150.00</td></tr><tr><td>2</td><td>1001</td><td>2024-10-29</td><td>200.00</td></tr><tr><td>3</td><td>NULL</td><td>2024-10-29</td><td>150.00</td></tr><tr><td>4</td><td>NULL</td><td>2024-10-29</td><td>200.00</td></tr></table>"
                    },
                    "metadata": {}
                }
            ],
            "execution_count": 137
        },
        {
            "cell_type": "markdown",
            "source": [
                "### Proposition 9: Adding an `IDENTITY` Column `SerialNumber` to `dbo.Inventory`\r\n",
                "\r\n",
                "**Overview:**  \r\n",
                "Adds a `SerialNumber` column to `Inventory`, using `IDENTITY` to uniquely identify each inventory item. This setup supports straightforward tracking of each item without requiring an additional key.\r\n",
                "\r\n",
                "**Key Clauses and Modifications:**\r\n",
                "- **IDENTITY**: Generates a unique `SerialNumber` for each row in `Inventory`, simplifying tracking.\r\n",
                "- **ALTER TABLE**: Modifies `Inventory` by adding the new `SerialNumber` column."
            ],
            "metadata": {
                "language": "sql",
                "azdata_cell_guid": "e210ad09-7bd7-4334-97a6-933f55acaa36"
            },
            "attachments": {}
        },
        {
            "cell_type": "code",
            "source": [
                "USE WideWorldImporters\r\n",
                "GO\r\n",
                "\r\n",
                "USE WideWorldImporters;\r\n",
                "GO\r\n",
                "\r\n",
                "DECLARE @constraintName NVARCHAR(200), @sql NVARCHAR(MAX) = '';\r\n",
                "\r\n",
                "-- Find and drop the default constraint on IsPriority if it exists\r\n",
                "SELECT @constraintName = name \r\n",
                "FROM sys.default_constraints \r\n",
                "WHERE parent_object_id = OBJECT_ID('dbo.Orders') \r\n",
                "  AND parent_column_id = COLUMNPROPERTY(OBJECT_ID('dbo.Orders'), 'IsPriority', 'ColumnId');\r\n",
                "\r\n",
                "IF @constraintName IS NOT NULL\r\n",
                "BEGIN\r\n",
                "    SET @sql = 'ALTER TABLE dbo.Orders DROP CONSTRAINT ' + QUOTENAME(@constraintName) + ';';\r\n",
                "    EXEC sp_executesql @sql;\r\n",
                "END;\r\n",
                ""
            ],
            "metadata": {
                "language": "sql",
                "azdata_cell_guid": "2a8611f5-76b9-4013-891f-b8fce728a91c",
                "tags": []
            },
            "outputs": [
                {
                    "output_type": "display_data",
                    "data": {
                        "text/html": "Commands completed successfully."
                    },
                    "metadata": {}
                },
                {
                    "output_type": "display_data",
                    "data": {
                        "text/html": "Commands completed successfully."
                    },
                    "metadata": {}
                },
                {
                    "output_type": "display_data",
                    "data": {
                        "text/html": "Commands completed successfully."
                    },
                    "metadata": {}
                },
                {
                    "output_type": "display_data",
                    "data": {
                        "text/html": "Total execution time: 00:00:00.006"
                    },
                    "metadata": {}
                }
            ],
            "execution_count": 143
        },
        {
            "cell_type": "code",
            "source": [
                "USE WideWorldImporters\r\n",
                "GO\r\n",
                "\r\n",
                "IF EXISTS (SELECT * FROM sys.columns \r\n",
                "           WHERE Name = N'IsPriority' AND Object_ID = Object_ID(N'dbo.Orders'))\r\n",
                "BEGIN\r\n",
                "    ALTER TABLE dbo.Orders\r\n",
                "    DROP COLUMN IsPriority;\r\n",
                "END;\r\n",
                ""
            ],
            "metadata": {
                "language": "sql",
                "azdata_cell_guid": "478f7dd5-5143-4365-ab78-903a2fcafce1"
            },
            "outputs": [
                {
                    "output_type": "display_data",
                    "data": {
                        "text/html": "Commands completed successfully."
                    },
                    "metadata": {}
                },
                {
                    "output_type": "display_data",
                    "data": {
                        "text/html": "Commands completed successfully."
                    },
                    "metadata": {}
                },
                {
                    "output_type": "display_data",
                    "data": {
                        "text/html": "Total execution time: 00:00:00.043"
                    },
                    "metadata": {}
                }
            ],
            "execution_count": 144
        },
        {
            "cell_type": "code",
            "source": [
                "USE WideWorldImporters\r\n",
                "GO\r\n",
                "\r\n",
                "ALTER TABLE dbo.Orders\r\n",
                "ADD IsPriority BIT DEFAULT 0;\r\n",
                ""
            ],
            "metadata": {
                "language": "sql",
                "azdata_cell_guid": "57b13434-02c4-49cc-a6de-267b4d3c32c1"
            },
            "outputs": [
                {
                    "output_type": "display_data",
                    "data": {
                        "text/html": "Commands completed successfully."
                    },
                    "metadata": {}
                },
                {
                    "output_type": "display_data",
                    "data": {
                        "text/html": "Commands completed successfully."
                    },
                    "metadata": {}
                },
                {
                    "output_type": "display_data",
                    "data": {
                        "text/html": "Total execution time: 00:00:00.012"
                    },
                    "metadata": {}
                }
            ],
            "execution_count": 145
        },
        {
            "cell_type": "code",
            "source": [
                "USE WideWorldImporters\r\n",
                "GO\r\n",
                "\r\n",
                "-- Insert a new order to test the IsPriority default value\r\n",
                "INSERT INTO dbo.Orders (CustomerID, Freight, ShipName, ShipCity, ShipCountry)\r\n",
                "VALUES (14, 60.00, 'Creed Bratton', 'Akron', 'USA');\r\n",
                "\r\n",
                "-- Verify that IsPriority has the default value for the new row\r\n",
                "SELECT OrderID, CustomerID, OrderDate, Freight, IsPriority\r\n",
                "FROM dbo.Orders\r\n",
                "WHERE CustomerID = 14;\r\n",
                ""
            ],
            "metadata": {
                "language": "sql",
                "azdata_cell_guid": "e8864937-ef76-4a45-a360-4455f3a285a0"
            },
            "outputs": [
                {
                    "output_type": "display_data",
                    "data": {
                        "text/html": "Commands completed successfully."
                    },
                    "metadata": {}
                },
                {
                    "output_type": "display_data",
                    "data": {
                        "text/html": "(1 row affected)"
                    },
                    "metadata": {}
                },
                {
                    "output_type": "display_data",
                    "data": {
                        "text/html": "(1 row affected)"
                    },
                    "metadata": {}
                },
                {
                    "output_type": "display_data",
                    "data": {
                        "text/html": "(8 rows affected)"
                    },
                    "metadata": {}
                },
                {
                    "output_type": "display_data",
                    "data": {
                        "text/html": "Total execution time: 00:00:00.022"
                    },
                    "metadata": {}
                },
                {
                    "output_type": "execute_result",
                    "execution_count": 146,
                    "data": {
                        "application/vnd.dataresource+json": {
                            "schema": {
                                "fields": [
                                    {
                                        "name": "OrderID"
                                    },
                                    {
                                        "name": "CustomerID"
                                    },
                                    {
                                        "name": "OrderDate"
                                    },
                                    {
                                        "name": "Freight"
                                    },
                                    {
                                        "name": "IsPriority"
                                    }
                                ]
                            },
                            "data": [
                                {
                                    "OrderID": "20",
                                    "CustomerID": "14",
                                    "OrderDate": "NULL",
                                    "Freight": "60.00",
                                    "IsPriority": "NULL"
                                },
                                {
                                    "OrderID": "21",
                                    "CustomerID": "14",
                                    "OrderDate": "NULL",
                                    "Freight": "60.00",
                                    "IsPriority": "NULL"
                                },
                                {
                                    "OrderID": "22",
                                    "CustomerID": "14",
                                    "OrderDate": "NULL",
                                    "Freight": "60.00",
                                    "IsPriority": "NULL"
                                },
                                {
                                    "OrderID": "23",
                                    "CustomerID": "14",
                                    "OrderDate": "NULL",
                                    "Freight": "60.00",
                                    "IsPriority": "NULL"
                                },
                                {
                                    "OrderID": "35",
                                    "CustomerID": "14",
                                    "OrderDate": "NULL",
                                    "Freight": "60.00",
                                    "IsPriority": "NULL"
                                },
                                {
                                    "OrderID": "38",
                                    "CustomerID": "14",
                                    "OrderDate": "NULL",
                                    "Freight": "60.00",
                                    "IsPriority": "NULL"
                                },
                                {
                                    "OrderID": "45",
                                    "CustomerID": "14",
                                    "OrderDate": "NULL",
                                    "Freight": "60.00",
                                    "IsPriority": "NULL"
                                },
                                {
                                    "OrderID": "46",
                                    "CustomerID": "14",
                                    "OrderDate": "NULL",
                                    "Freight": "60.00",
                                    "IsPriority": "0"
                                }
                            ]
                        },
                        "text/html": "<table><tr><th>OrderID</th><th>CustomerID</th><th>OrderDate</th><th>Freight</th><th>IsPriority</th></tr><tr><td>20</td><td>14</td><td>NULL</td><td>60.00</td><td>NULL</td></tr><tr><td>21</td><td>14</td><td>NULL</td><td>60.00</td><td>NULL</td></tr><tr><td>22</td><td>14</td><td>NULL</td><td>60.00</td><td>NULL</td></tr><tr><td>23</td><td>14</td><td>NULL</td><td>60.00</td><td>NULL</td></tr><tr><td>35</td><td>14</td><td>NULL</td><td>60.00</td><td>NULL</td></tr><tr><td>38</td><td>14</td><td>NULL</td><td>60.00</td><td>NULL</td></tr><tr><td>45</td><td>14</td><td>NULL</td><td>60.00</td><td>NULL</td></tr><tr><td>46</td><td>14</td><td>NULL</td><td>60.00</td><td>0</td></tr></table>"
                    },
                    "metadata": {}
                }
            ],
            "execution_count": 146
        },
        {
            "cell_type": "markdown",
            "source": [
                "### Proposition 10: Adding an `OrderNote` Column to `dbo.Orders` with Default Value `'No Notes'`\r\n",
                "\r\n",
                "**Overview:**  \r\n",
                "The `OrderNote` column is added to `Orders`, allowing optional notes for each order with a default value of `'No Notes'` for entries lacking specific notes.\r\n",
                "\r\n",
                "**Key Clauses and Modifications:**\r\n",
                "- **ALTER TABLE**: Adds a new column, `OrderNote`, to the table.\r\n",
                "- **DEFAULT**: Applies `'No Notes'` to `OrderNote` by default, ensuring clarity for orders with no additional comments.\r\n",
                ""
            ],
            "metadata": {
                "language": "sql",
                "azdata_cell_guid": "49101d74-2d79-4fdd-b578-444b64ee5254"
            },
            "attachments": {}
        },
        {
            "cell_type": "code",
            "source": [
                "-- Step 1: Drop Any Existing Constraints on `OrderNote`\r\n",
                "\r\n",
                "USE WideWorldImporters;\r\n",
                "GO\r\n",
                "\r\n",
                "DECLARE @constraintName NVARCHAR(200), @sql NVARCHAR(MAX) = '';\r\n",
                "\r\n",
                "-- Find and drop the default constraint on OrderNote if it exists\r\n",
                "SELECT @constraintName = name \r\n",
                "FROM sys.default_constraints \r\n",
                "WHERE parent_object_id = OBJECT_ID('dbo.Orders') \r\n",
                "  AND parent_column_id = COLUMNPROPERTY(OBJECT_ID('dbo.Orders'), 'OrderNote', 'ColumnId');\r\n",
                "\r\n",
                "IF @constraintName IS NOT NULL\r\n",
                "BEGIN\r\n",
                "    SET @sql = 'ALTER TABLE dbo.Orders DROP CONSTRAINT ' + QUOTENAME(@constraintName) + ';';\r\n",
                "    EXEC sp_executesql @sql;\r\n",
                "END;"
            ],
            "metadata": {
                "language": "sql",
                "azdata_cell_guid": "2c89653a-331d-46aa-bdb9-a2eda338ea8a"
            },
            "outputs": [
                {
                    "output_type": "display_data",
                    "data": {
                        "text/html": "Commands completed successfully."
                    },
                    "metadata": {}
                },
                {
                    "output_type": "display_data",
                    "data": {
                        "text/html": "Commands completed successfully."
                    },
                    "metadata": {}
                },
                {
                    "output_type": "display_data",
                    "data": {
                        "text/html": "Total execution time: 00:00:00.043"
                    },
                    "metadata": {}
                }
            ],
            "execution_count": 87
        },
        {
            "cell_type": "code",
            "source": [
                "--- Step 2: Drop the `OrderNote` Column if it Exists\r\n",
                "\r\n",
                "\r\n",
                "IF EXISTS (SELECT * FROM sys.columns \r\n",
                "           WHERE Name = N'OrderNote' AND Object_ID = Object_ID(N'dbo.Orders'))\r\n",
                "BEGIN\r\n",
                "    ALTER TABLE dbo.Orders\r\n",
                "    DROP COLUMN OrderNote;\r\n",
                "END;\r\n",
                "\r\n",
                ""
            ],
            "metadata": {
                "language": "sql",
                "azdata_cell_guid": "bf3b1568-cc73-4be8-8f46-096e75e5be12"
            },
            "outputs": [
                {
                    "output_type": "display_data",
                    "data": {
                        "text/html": "Commands completed successfully."
                    },
                    "metadata": {}
                },
                {
                    "output_type": "display_data",
                    "data": {
                        "text/html": "Total execution time: 00:00:00.044"
                    },
                    "metadata": {}
                }
            ],
            "execution_count": 88
        },
        {
            "cell_type": "code",
            "source": [
                "--- Step 3: Add the `OrderNote` Column with a Default Value of `'No Notes'`\r\n",
                "\r\n",
                "ALTER TABLE dbo.Orders\r\n",
                "ADD OrderNote NVARCHAR(100) DEFAULT 'No Notes';\r\n",
                "\r\n",
                ""
            ],
            "metadata": {
                "language": "sql",
                "azdata_cell_guid": "6e291fe4-e335-426e-abd2-cb3f5bfb5f11"
            },
            "outputs": [
                {
                    "output_type": "display_data",
                    "data": {
                        "text/html": "Commands completed successfully."
                    },
                    "metadata": {}
                },
                {
                    "output_type": "display_data",
                    "data": {
                        "text/html": "Total execution time: 00:00:00.010"
                    },
                    "metadata": {}
                }
            ],
            "execution_count": 89
        },
        {
            "cell_type": "code",
            "source": [
                "---- Step 4: Insert a Test Row to Confirm the Default Value\r\n",
                "\r\n",
                "-- Insert a new order to test the OrderNote default value\r\n",
                "INSERT INTO dbo.Orders (CustomerID, Freight, ShipName, ShipCity, ShipCountry)\r\n",
                "VALUES (16, 35.00, 'Toby Flenderson', 'Scranton', 'USA');\r\n",
                "\r\n",
                "-- Verify that OrderNote has the default value for the new row\r\n",
                "SELECT OrderID, CustomerID, OrderDate, Freight, OrderNote\r\n",
                "FROM dbo.Orders\r\n",
                "WHERE CustomerID = 16;\r\n",
                "\r\n",
                ""
            ],
            "metadata": {
                "language": "sql",
                "azdata_cell_guid": "28c0b646-f0ba-4568-86d4-95e020313dde"
            },
            "outputs": [
                {
                    "output_type": "display_data",
                    "data": {
                        "text/html": "(1 row affected)"
                    },
                    "metadata": {}
                },
                {
                    "output_type": "display_data",
                    "data": {
                        "text/html": "(1 row affected)"
                    },
                    "metadata": {}
                },
                {
                    "output_type": "display_data",
                    "data": {
                        "text/html": "(3 rows affected)"
                    },
                    "metadata": {}
                },
                {
                    "output_type": "display_data",
                    "data": {
                        "text/html": "Total execution time: 00:00:00.045"
                    },
                    "metadata": {}
                },
                {
                    "output_type": "execute_result",
                    "execution_count": 90,
                    "data": {
                        "application/vnd.dataresource+json": {
                            "schema": {
                                "fields": [
                                    {
                                        "name": "OrderID"
                                    },
                                    {
                                        "name": "CustomerID"
                                    },
                                    {
                                        "name": "OrderDate"
                                    },
                                    {
                                        "name": "Freight"
                                    },
                                    {
                                        "name": "OrderNote"
                                    }
                                ]
                            },
                            "data": [
                                {
                                    "OrderID": "25",
                                    "CustomerID": "16",
                                    "OrderDate": "NULL",
                                    "Freight": "35.00",
                                    "OrderNote": "NULL"
                                },
                                {
                                    "OrderID": "36",
                                    "CustomerID": "16",
                                    "OrderDate": "NULL",
                                    "Freight": "35.00",
                                    "OrderNote": "NULL"
                                },
                                {
                                    "OrderID": "37",
                                    "CustomerID": "16",
                                    "OrderDate": "NULL",
                                    "Freight": "35.00",
                                    "OrderNote": "No Notes"
                                }
                            ]
                        },
                        "text/html": "<table><tr><th>OrderID</th><th>CustomerID</th><th>OrderDate</th><th>Freight</th><th>OrderNote</th></tr><tr><td>25</td><td>16</td><td>NULL</td><td>35.00</td><td>NULL</td></tr><tr><td>36</td><td>16</td><td>NULL</td><td>35.00</td><td>NULL</td></tr><tr><td>37</td><td>16</td><td>NULL</td><td>35.00</td><td>No Notes</td></tr></table>"
                    },
                    "metadata": {}
                }
            ],
            "execution_count": 90
        }
    ]
}