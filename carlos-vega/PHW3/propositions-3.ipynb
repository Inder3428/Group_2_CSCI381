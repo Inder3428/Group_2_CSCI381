{
    "metadata": {
        "kernelspec": {
            "name": "SQL",
            "display_name": "SQL",
            "language": "sql"
        },
        "language_info": {
            "name": "sql",
            "version": ""
        }
    },
    "nbformat_minor": 2,
    "nbformat": 4,
    "cells": [
        {
            "cell_type": "markdown",
            "source": [
                "## 1\\. Customer Location Analysis\n",
                "\n",
                "**Proposition:** Identify the top 5 cities with the most customers.\n",
                "\n",
                "**Functional Specification:**\n",
                "\n",
                "- Use `Application.Cities` and `Sales.Customers` tables.\n",
                "- Count customers in each city.\n",
                "- Rank cities by customer count.\n",
                "- Display the top 5 cities."
            ],
            "metadata": {
                "azdata_cell_guid": "c44cfcde-b6e3-489c-9d6e-f11b286ed9bd"
            },
            "attachments": {}
        },
        {
            "cell_type": "code",
            "source": [
                "USE WideWorldImporters;\n",
                "GO\n",
                "\n",
                "SELECT TOP 5\n",
                "    c.CityName,\n",
                "    COUNT(cust.CustomerID) AS CustomerCount\n",
                "FROM \n",
                "    Application.Cities c\n",
                "INNER JOIN \n",
                "    Sales.Customers cust ON c.CityID = cust.DeliveryCityID\n",
                "GROUP BY \n",
                "    c.CityID, c.CityName\n",
                "ORDER BY \n",
                "    CustomerCount DESC"
            ],
            "metadata": {
                "azdata_cell_guid": "a426ef41-d9c2-4129-a027-2afb95b6d018",
                "language": "sql"
            },
            "outputs": [
                {
                    "output_type": "display_data",
                    "data": {
                        "text/html": "Commands completed successfully."
                    },
                    "metadata": {}
                },
                {
                    "output_type": "display_data",
                    "data": {
                        "text/html": "(5 rows affected)"
                    },
                    "metadata": {}
                },
                {
                    "output_type": "display_data",
                    "data": {
                        "text/html": "Total execution time: 00:00:00.038"
                    },
                    "metadata": {}
                },
                {
                    "output_type": "execute_result",
                    "metadata": {},
                    "execution_count": 1,
                    "data": {
                        "application/vnd.dataresource+json": {
                            "schema": {
                                "fields": [
                                    {
                                        "name": "CityName"
                                    },
                                    {
                                        "name": "CustomerCount"
                                    }
                                ]
                            },
                            "data": [
                                {
                                    "CityName": "Akhiok",
                                    "CustomerCount": "2"
                                },
                                {
                                    "CityName": "Cherry Grove Beach",
                                    "CustomerCount": "2"
                                },
                                {
                                    "CityName": "Isabela",
                                    "CustomerCount": "2"
                                },
                                {
                                    "CityName": "East Fultonham",
                                    "CustomerCount": "2"
                                },
                                {
                                    "CityName": "Palmas del Mar",
                                    "CustomerCount": "2"
                                }
                            ]
                        },
                        "text/html": [
                            "<table>",
                            "<tr><th>CityName</th><th>CustomerCount</th></tr>",
                            "<tr><td>Akhiok</td><td>2</td></tr>",
                            "<tr><td>Cherry Grove Beach</td><td>2</td></tr>",
                            "<tr><td>Isabela</td><td>2</td></tr>",
                            "<tr><td>East Fultonham</td><td>2</td></tr>",
                            "<tr><td>Palmas del Mar</td><td>2</td></tr>",
                            "</table>"
                        ]
                    }
                }
            ],
            "execution_count": 1
        },
        {
            "cell_type": "markdown",
            "source": [
                "## 2\\. Popular Product Categories\n",
                "\n",
                "**Proposition:** Determine the 3 most popular product categories by sales volume.\n",
                "\n",
                "**Functional Specification:**\n",
                "\n",
                "- Use `Warehouse.StockGroups` and `Sales.OrderLines` tables.\n",
                "- Sum the quantity sold for each stock group.\n",
                "- Rank stock groups by total quantity sold.\n",
                "- Show the top 3 categories."
            ],
            "metadata": {
                "azdata_cell_guid": "44ee0ba0-e9ab-4980-9316-d5fae279cc4f"
            },
            "attachments": {}
        },
        {
            "cell_type": "code",
            "source": [
                "SELECT TOP 3\n",
                "    sg.StockGroupName,\n",
                "    SUM(ol.Quantity) AS TotalQuantitySold\n",
                "FROM \n",
                "    Warehouse.StockGroups sg\n",
                "INNER JOIN \n",
                "    Warehouse.StockItemStockGroups sisg ON sg.StockGroupID = sisg.StockGroupID\n",
                "INNER JOIN \n",
                "    Warehouse.StockItems si ON sisg.StockItemID = si.StockItemID\n",
                "INNER JOIN \n",
                "    Sales.OrderLines ol ON si.StockItemID = ol.StockItemID\n",
                "GROUP BY \n",
                "    sg.StockGroupID, sg.StockGroupName\n",
                "ORDER BY \n",
                "    TotalQuantitySold DESC"
            ],
            "metadata": {
                "azdata_cell_guid": "4e7c762e-884f-4432-8dac-031424eb3836",
                "language": "sql"
            },
            "outputs": [
                {
                    "output_type": "display_data",
                    "data": {
                        "text/html": "(3 rows affected)"
                    },
                    "metadata": {}
                },
                {
                    "output_type": "display_data",
                    "data": {
                        "text/html": "Total execution time: 00:00:00.096"
                    },
                    "metadata": {}
                },
                {
                    "output_type": "execute_result",
                    "metadata": {},
                    "execution_count": 2,
                    "data": {
                        "application/vnd.dataresource+json": {
                            "schema": {
                                "fields": [
                                    {
                                        "name": "StockGroupName"
                                    },
                                    {
                                        "name": "TotalQuantitySold"
                                    }
                                ]
                            },
                            "data": [
                                {
                                    "StockGroupName": "Packaging Materials",
                                    "TotalQuantitySold": "5838043"
                                },
                                {
                                    "StockGroupName": "Clothing",
                                    "TotalQuantitySold": "2842918"
                                },
                                {
                                    "StockGroupName": "Computing Novelties",
                                    "TotalQuantitySold": "2181299"
                                }
                            ]
                        },
                        "text/html": [
                            "<table>",
                            "<tr><th>StockGroupName</th><th>TotalQuantitySold</th></tr>",
                            "<tr><td>Packaging Materials</td><td>5838043</td></tr>",
                            "<tr><td>Clothing</td><td>2842918</td></tr>",
                            "<tr><td>Computing Novelties</td><td>2181299</td></tr>",
                            "</table>"
                        ]
                    }
                }
            ],
            "execution_count": 2
        },
        {
            "cell_type": "markdown",
            "source": [
                "## 3\\. Monthly Sales Trend\n",
                "\n",
                "**Proposition:** Calculate total sales for each month in the most recent year.\n",
                "\n",
                "**Functional Specification:**\n",
                "\n",
                "- Use `Sales.Orders` and `Sales.OrderLines` tables.\n",
                "- Sum the total sales for each month.\n",
                "- Display results in chronological order."
            ],
            "metadata": {
                "azdata_cell_guid": "0ee43d2c-d8f9-41b9-b159-b63410e7728a"
            },
            "attachments": {}
        },
        {
            "cell_type": "code",
            "source": [
                "WITH RecentYear AS (\n",
                "    SELECT TOP 1 YEAR(OrderDate) AS Year\n",
                "    FROM Sales.Orders\n",
                "    ORDER BY Year DESC\n",
                ")\n",
                "SELECT \n",
                "    DATENAME(MONTH, o.OrderDate) AS Month,\n",
                "    MONTH(o.OrderDate) AS MonthNumber,\n",
                "    SUM(ol.Quantity * ol.UnitPrice) AS TotalSales\n",
                "FROM \n",
                "    Sales.Orders o\n",
                "INNER JOIN \n",
                "    Sales.OrderLines ol ON o.OrderID = ol.OrderID\n",
                "CROSS JOIN\n",
                "    RecentYear\n",
                "WHERE \n",
                "    YEAR(o.OrderDate) = RecentYear.Year\n",
                "GROUP BY \n",
                "    DATENAME(MONTH, o.OrderDate),\n",
                "    MONTH(o.OrderDate)\n",
                "ORDER BY \n",
                "    MonthNumber"
            ],
            "metadata": {
                "azdata_cell_guid": "a5f9bf78-4482-4f4f-ac0d-8e55ba131cc6",
                "language": "sql"
            },
            "outputs": [
                {
                    "output_type": "display_data",
                    "data": {
                        "text/html": "(5 rows affected)"
                    },
                    "metadata": {}
                },
                {
                    "output_type": "display_data",
                    "data": {
                        "text/html": "Total execution time: 00:00:00.299"
                    },
                    "metadata": {}
                },
                {
                    "output_type": "execute_result",
                    "metadata": {},
                    "execution_count": 3,
                    "data": {
                        "application/vnd.dataresource+json": {
                            "schema": {
                                "fields": [
                                    {
                                        "name": "Month"
                                    },
                                    {
                                        "name": "MonthNumber"
                                    },
                                    {
                                        "name": "TotalSales"
                                    }
                                ]
                            },
                            "data": [
                                {
                                    "Month": "January",
                                    "MonthNumber": "1",
                                    "TotalSales": "4612140.45"
                                },
                                {
                                    "Month": "February",
                                    "MonthNumber": "2",
                                    "TotalSales": "4099480.35"
                                },
                                {
                                    "Month": "March",
                                    "MonthNumber": "3",
                                    "TotalSales": "4807110.70"
                                },
                                {
                                    "Month": "April",
                                    "MonthNumber": "4",
                                    "TotalSales": "4739058.60"
                                },
                                {
                                    "Month": "May",
                                    "MonthNumber": "5",
                                    "TotalSales": "5138002.65"
                                }
                            ]
                        },
                        "text/html": [
                            "<table>",
                            "<tr><th>Month</th><th>MonthNumber</th><th>TotalSales</th></tr>",
                            "<tr><td>January</td><td>1</td><td>4612140.45</td></tr>",
                            "<tr><td>February</td><td>2</td><td>4099480.35</td></tr>",
                            "<tr><td>March</td><td>3</td><td>4807110.70</td></tr>",
                            "<tr><td>April</td><td>4</td><td>4739058.60</td></tr>",
                            "<tr><td>May</td><td>5</td><td>5138002.65</td></tr>",
                            "</table>"
                        ]
                    }
                }
            ],
            "execution_count": 3
        },
        {
            "cell_type": "markdown",
            "source": [
                "## 4\\. Top 10 Customers\n",
                "\n",
                "**Proposition:** Identify the top 10 customers by total purchase amount.\n",
                "\n",
                "**Functional Specification:**\n",
                "\n",
                "- Use `Sales.Customers` and `Sales.Orders` tables.\n",
                "- Calculate total purchase amount for each customer.\n",
                "- Rank customers by total purchase amount.\n",
                "- List the top 10 customers."
            ],
            "metadata": {
                "azdata_cell_guid": "30217361-c065-4954-9b79-457c80a49bce"
            },
            "attachments": {}
        },
        {
            "cell_type": "code",
            "source": [
                "SELECT TOP 10\n",
                "    c.CustomerName,\n",
                "    SUM(ol.Quantity * ol.UnitPrice) AS TotalPurchaseAmount\n",
                "FROM \n",
                "    Sales.Customers c\n",
                "INNER JOIN \n",
                "    Sales.Orders o ON c.CustomerID = o.CustomerID\n",
                "INNER JOIN \n",
                "    Sales.OrderLines ol ON o.OrderID = ol.OrderID\n",
                "GROUP BY \n",
                "    c.CustomerID, c.CustomerName\n",
                "ORDER BY \n",
                "    TotalPurchaseAmount DESC"
            ],
            "metadata": {
                "azdata_cell_guid": "2e4c9dec-bf87-4e1d-8237-c782eafb018b",
                "language": "sql"
            },
            "outputs": [
                {
                    "output_type": "display_data",
                    "data": {
                        "text/html": "(10 rows affected)"
                    },
                    "metadata": {}
                },
                {
                    "output_type": "display_data",
                    "data": {
                        "text/html": "Total execution time: 00:00:00.107"
                    },
                    "metadata": {}
                },
                {
                    "output_type": "execute_result",
                    "metadata": {},
                    "execution_count": 4,
                    "data": {
                        "application/vnd.dataresource+json": {
                            "schema": {
                                "fields": [
                                    {
                                        "name": "CustomerName"
                                    },
                                    {
                                        "name": "TotalPurchaseAmount"
                                    }
                                ]
                            },
                            "data": [
                                {
                                    "CustomerName": "Tailspin Toys (Inguadona, MN)",
                                    "TotalPurchaseAmount": "384393.35"
                                },
                                {
                                    "CustomerName": "Tailspin Toys (Minidoka, ID)",
                                    "TotalPurchaseAmount": "379660.70"
                                },
                                {
                                    "CustomerName": "Mauno Laurila",
                                    "TotalPurchaseAmount": "377189.80"
                                },
                                {
                                    "CustomerName": "Wingtip Toys (Sarversville, PA)",
                                    "TotalPurchaseAmount": "372350.00"
                                },
                                {
                                    "CustomerName": "Ingrida Zeltina",
                                    "TotalPurchaseAmount": "368067.45"
                                },
                                {
                                    "CustomerName": "Tailspin Toys (Long Meadow, MD)",
                                    "TotalPurchaseAmount": "367258.50"
                                },
                                {
                                    "CustomerName": "Nasrin Omidzadeh",
                                    "TotalPurchaseAmount": "366883.75"
                                },
                                {
                                    "CustomerName": "Wingtip Toys (Cuyamungue, NM)",
                                    "TotalPurchaseAmount": "365915.45"
                                },
                                {
                                    "CustomerName": "Wingtip Toys (San Jacinto, CA)",
                                    "TotalPurchaseAmount": "365330.95"
                                },
                                {
                                    "CustomerName": "Wingtip Toys (Morrison Bluff, AR)",
                                    "TotalPurchaseAmount": "360652.80"
                                }
                            ]
                        },
                        "text/html": [
                            "<table>",
                            "<tr><th>CustomerName</th><th>TotalPurchaseAmount</th></tr>",
                            "<tr><td>Tailspin Toys (Inguadona, MN)</td><td>384393.35</td></tr>",
                            "<tr><td>Tailspin Toys (Minidoka, ID)</td><td>379660.70</td></tr>",
                            "<tr><td>Mauno Laurila</td><td>377189.80</td></tr>",
                            "<tr><td>Wingtip Toys (Sarversville, PA)</td><td>372350.00</td></tr>",
                            "<tr><td>Ingrida Zeltina</td><td>368067.45</td></tr>",
                            "<tr><td>Tailspin Toys (Long Meadow, MD)</td><td>367258.50</td></tr>",
                            "<tr><td>Nasrin Omidzadeh</td><td>366883.75</td></tr>",
                            "<tr><td>Wingtip Toys (Cuyamungue, NM)</td><td>365915.45</td></tr>",
                            "<tr><td>Wingtip Toys (San Jacinto, CA)</td><td>365330.95</td></tr>",
                            "<tr><td>Wingtip Toys (Morrison Bluff, AR)</td><td>360652.80</td></tr>",
                            "</table>"
                        ]
                    }
                }
            ],
            "execution_count": 4
        },
        {
            "cell_type": "markdown",
            "source": [
                "## 5\\. Average Order Fulfillment Time\n",
                "\n",
                "**Proposition:** Calculate the average time between order placement and delivery.\n",
                "\n",
                "**Functional Specification:**\n",
                "\n",
                "- Use `Sales.Orders` table.\n",
                "- Calculate the difference between `OrderDate` and `ExpectedDeliveryDate`.\n",
                "- Compute the average of these differences."
            ],
            "metadata": {
                "azdata_cell_guid": "02177905-84fe-4d85-b59d-9d6c7a23cf28"
            },
            "attachments": {}
        },
        {
            "cell_type": "code",
            "source": [
                "SELECT \n",
                "    AVG(DATEDIFF(day, OrderDate, ExpectedDeliveryDate)) AS AverageFulfillmentDays\n",
                "FROM \n",
                "    Sales.Orders\n",
                "WHERE\n",
                "    OrderDate IS NOT NULL\n",
                "    AND ExpectedDeliveryDate IS NOT NULL\n",
                "    AND ExpectedDeliveryDate >= OrderDate"
            ],
            "metadata": {
                "azdata_cell_guid": "e5e1388c-d2f8-4553-acb5-eb022970f67d",
                "language": "sql"
            },
            "outputs": [],
            "execution_count": null
        },
        {
            "cell_type": "markdown",
            "source": [
                "## 6\\. Supplier Performance\n",
                "\n",
                "**Proposition:** List the top 5 suppliers by on-time delivery percentage.\n",
                "\n",
                "**Functional Specification:**\n",
                "\n",
                "- Use `Purchasing.Suppliers` and `Purchasing.PurchaseOrders` tables.\n",
                "- Calculate the percentage of on-time deliveries for each supplier.\n",
                "- Rank suppliers by this percentage.\n",
                "- Show the top 5 suppliers."
            ],
            "metadata": {
                "azdata_cell_guid": "03131c54-fe03-44ee-b7eb-0f549a32e5d3"
            },
            "attachments": {}
        },
        {
            "cell_type": "code",
            "source": [
                "WITH SupplierDeliveries AS (\n",
                "    SELECT \n",
                "        s.SupplierID,\n",
                "        s.SupplierName,\n",
                "        COUNT(*) AS TotalOrders,\n",
                "        SUM(CASE \n",
                "            WHEN po.ExpectedDeliveryDate >= po.OrderDate \n",
                "                AND (po.DeliveryMethodID IS NOT NULL OR po.OrderDate <= GETDATE())\n",
                "            THEN 1 ELSE 0 \n",
                "        END) AS OnTimeDeliveries\n",
                "    FROM \n",
                "        Purchasing.Suppliers s\n",
                "    JOIN \n",
                "        Purchasing.PurchaseOrders po ON s.SupplierID = po.SupplierID\n",
                "    GROUP BY \n",
                "        s.SupplierID, s.SupplierName\n",
                ")\n",
                "SELECT TOP 5\n",
                "    SupplierName,\n",
                "    TotalOrders,\n",
                "    OnTimeDeliveries,\n",
                "    CAST(OnTimeDeliveries AS FLOAT) / NULLIF(TotalOrders, 0) * 100 AS OnTimeDeliveryPercentage\n",
                "FROM \n",
                "    SupplierDeliveries\n",
                "WHERE \n",
                "    TotalOrders > 0\n",
                "ORDER BY \n",
                "    OnTimeDeliveryPercentage DESC"
            ],
            "metadata": {
                "azdata_cell_guid": "2bcc1891-ecf3-4728-9478-7f1f054c5c5c",
                "language": "sql"
            },
            "outputs": [
                {
                    "output_type": "display_data",
                    "data": {
                        "text/html": "(5 rows affected)"
                    },
                    "metadata": {}
                },
                {
                    "output_type": "display_data",
                    "data": {
                        "text/html": "Total execution time: 00:00:00.084"
                    },
                    "metadata": {}
                },
                {
                    "output_type": "execute_result",
                    "metadata": {},
                    "execution_count": 5,
                    "data": {
                        "application/vnd.dataresource+json": {
                            "schema": {
                                "fields": [
                                    {
                                        "name": "SupplierName"
                                    },
                                    {
                                        "name": "TotalOrders"
                                    },
                                    {
                                        "name": "OnTimeDeliveries"
                                    },
                                    {
                                        "name": "OnTimeDeliveryPercentage"
                                    }
                                ]
                            },
                            "data": [
                                {
                                    "SupplierName": "Graphic Design Institute",
                                    "TotalOrders": "13",
                                    "OnTimeDeliveries": "13",
                                    "OnTimeDeliveryPercentage": "100"
                                },
                                {
                                    "SupplierName": "Fabrikam, Inc.",
                                    "TotalOrders": "1055",
                                    "OnTimeDeliveries": "1055",
                                    "OnTimeDeliveryPercentage": "100"
                                },
                                {
                                    "SupplierName": "Northwind Electric Cars",
                                    "TotalOrders": "10",
                                    "OnTimeDeliveries": "10",
                                    "OnTimeDeliveryPercentage": "100"
                                },
                                {
                                    "SupplierName": "A Datum Corporation",
                                    "TotalOrders": "5",
                                    "OnTimeDeliveries": "5",
                                    "OnTimeDeliveryPercentage": "100"
                                },
                                {
                                    "SupplierName": "Litware, Inc.",
                                    "TotalOrders": "985",
                                    "OnTimeDeliveries": "985",
                                    "OnTimeDeliveryPercentage": "100"
                                }
                            ]
                        },
                        "text/html": [
                            "<table>",
                            "<tr><th>SupplierName</th><th>TotalOrders</th><th>OnTimeDeliveries</th><th>OnTimeDeliveryPercentage</th></tr>",
                            "<tr><td>Graphic Design Institute</td><td>13</td><td>13</td><td>100</td></tr>",
                            "<tr><td>Fabrikam, Inc.</td><td>1055</td><td>1055</td><td>100</td></tr>",
                            "<tr><td>Northwind Electric Cars</td><td>10</td><td>10</td><td>100</td></tr>",
                            "<tr><td>A Datum Corporation</td><td>5</td><td>5</td><td>100</td></tr>",
                            "<tr><td>Litware, Inc.</td><td>985</td><td>985</td><td>100</td></tr>",
                            "</table>"
                        ]
                    }
                }
            ],
            "execution_count": 5
        },
        {
            "cell_type": "markdown",
            "source": [
                "## 7\\. Average Product Price by Category\n",
                "\n",
                "**Proposition:** Calculate the average price of products in each category (stock group).\n",
                "\n",
                "**Functional Specification:**\n",
                "\n",
                "- Use `Warehouse.StockItems` and `Warehouse.StockGroups` tables.\n",
                "- Calculate the average unit price for products in each stock group.\n",
                "- Display results sorted by average price in descending order."
            ],
            "metadata": {
                "azdata_cell_guid": "6bca327c-1405-437a-a2f3-1d79eb3282b6"
            },
            "attachments": {}
        },
        {
            "cell_type": "code",
            "source": [
                "SELECT \n",
                "    sg.StockGroupName,\n",
                "    AVG(si.UnitPrice) AS AveragePrice,\n",
                "    COUNT(si.StockItemID) AS NumberOfProducts\n",
                "FROM \n",
                "    Warehouse.StockItems si\n",
                "JOIN \n",
                "    Warehouse.StockItemStockGroups sisg ON si.StockItemID = sisg.StockItemID\n",
                "JOIN \n",
                "    Warehouse.StockGroups sg ON sisg.StockGroupID = sg.StockGroupID\n",
                "GROUP BY \n",
                "    sg.StockGroupName\n",
                "ORDER BY \n",
                "    AveragePrice DESC"
            ],
            "metadata": {
                "azdata_cell_guid": "580cabf1-c61c-4780-b7ad-c0687539ffbf",
                "language": "sql"
            },
            "outputs": [
                {
                    "output_type": "display_data",
                    "data": {
                        "text/html": "(9 rows affected)"
                    },
                    "metadata": {}
                },
                {
                    "output_type": "display_data",
                    "data": {
                        "text/html": "Total execution time: 00:00:00.034"
                    },
                    "metadata": {}
                },
                {
                    "output_type": "execute_result",
                    "metadata": {},
                    "execution_count": 7,
                    "data": {
                        "application/vnd.dataresource+json": {
                            "schema": {
                                "fields": [
                                    {
                                        "name": "StockGroupName"
                                    },
                                    {
                                        "name": "AveragePrice"
                                    },
                                    {
                                        "name": "NumberOfProducts"
                                    }
                                ]
                            },
                            "data": [
                                {
                                    "StockGroupName": "Toys",
                                    "AveragePrice": "123.714285",
                                    "NumberOfProducts": "21"
                                },
                                {
                                    "StockGroupName": "Packaging Materials",
                                    "AveragePrice": "62.203880",
                                    "NumberOfProducts": "67"
                                },
                                {
                                    "StockGroupName": "USB Novelties",
                                    "AveragePrice": "60.714285",
                                    "NumberOfProducts": "14"
                                },
                                {
                                    "StockGroupName": "Novelty Items",
                                    "AveragePrice": "45.965384",
                                    "NumberOfProducts": "91"
                                },
                                {
                                    "StockGroupName": "Furry Footwear",
                                    "AveragePrice": "27.500000",
                                    "NumberOfProducts": "24"
                                },
                                {
                                    "StockGroupName": "Clothing",
                                    "AveragePrice": "23.905405",
                                    "NumberOfProducts": "74"
                                },
                                {
                                    "StockGroupName": "Computing Novelties",
                                    "AveragePrice": "22.680722",
                                    "NumberOfProducts": "83"
                                },
                                {
                                    "StockGroupName": "T-Shirts",
                                    "AveragePrice": "18.000000",
                                    "NumberOfProducts": "26"
                                },
                                {
                                    "StockGroupName": "Mugs",
                                    "AveragePrice": "13.000000",
                                    "NumberOfProducts": "42"
                                }
                            ]
                        },
                        "text/html": [
                            "<table>",
                            "<tr><th>StockGroupName</th><th>AveragePrice</th><th>NumberOfProducts</th></tr>",
                            "<tr><td>Toys</td><td>123.714285</td><td>21</td></tr>",
                            "<tr><td>Packaging Materials</td><td>62.203880</td><td>67</td></tr>",
                            "<tr><td>USB Novelties</td><td>60.714285</td><td>14</td></tr>",
                            "<tr><td>Novelty Items</td><td>45.965384</td><td>91</td></tr>",
                            "<tr><td>Furry Footwear</td><td>27.500000</td><td>24</td></tr>",
                            "<tr><td>Clothing</td><td>23.905405</td><td>74</td></tr>",
                            "<tr><td>Computing Novelties</td><td>22.680722</td><td>83</td></tr>",
                            "<tr><td>T-Shirts</td><td>18.000000</td><td>26</td></tr>",
                            "<tr><td>Mugs</td><td>13.000000</td><td>42</td></tr>",
                            "</table>"
                        ]
                    }
                }
            ],
            "execution_count": 7
        },
        {
            "cell_type": "markdown",
            "source": [
                "## 8\\. Top Selling Products Analysis\n",
                "\n",
                "**Proposition:** <span style=\"color: rgb(0, 0, 0); font-family: -webkit-standard; font-size: medium; caret-color: rgb(0, 0, 0);\">Identify the top 5 best-selling products by total sales value.</span>\n",
                "\n",
                "**Functional Specification:**\n",
                "\n",
                "- Use `Sales.OrderLines` and `Warehouse.StockItems` tables.\n",
                "- Calculate the total sales value for each product.\n",
                "- Rank products by total sales value.\n",
                "- Display the top 5 products with their names and total sales value."
            ],
            "metadata": {
                "azdata_cell_guid": "96b274b5-0a99-489f-83c0-479301956672"
            },
            "attachments": {}
        },
        {
            "cell_type": "code",
            "source": [
                "SELECT TOP 5\n",
                "    si.StockItemName,\n",
                "    SUM(ol.Quantity * ol.UnitPrice) AS TotalSalesValue\n",
                "FROM \n",
                "    Sales.OrderLines ol\n",
                "JOIN \n",
                "    Warehouse.StockItems si ON ol.StockItemID = si.StockItemID\n",
                "GROUP BY \n",
                "    si.StockItemID, si.StockItemName\n",
                "ORDER BY \n",
                "    TotalSalesValue DESC"
            ],
            "metadata": {
                "azdata_cell_guid": "ea61cf02-c962-4ce3-a86e-3e03a27991bc",
                "language": "sql"
            },
            "outputs": [
                {
                    "output_type": "display_data",
                    "data": {
                        "text/html": "(5 rows affected)"
                    },
                    "metadata": {}
                },
                {
                    "output_type": "display_data",
                    "data": {
                        "text/html": "Total execution time: 00:00:00.042"
                    },
                    "metadata": {}
                },
                {
                    "output_type": "execute_result",
                    "metadata": {},
                    "execution_count": 15,
                    "data": {
                        "application/vnd.dataresource+json": {
                            "schema": {
                                "fields": [
                                    {
                                        "name": "StockItemName"
                                    },
                                    {
                                        "name": "TotalSalesValue"
                                    }
                                ]
                            },
                            "data": [
                                {
                                    "StockItemName": "Air cushion machine (Blue)",
                                    "TotalSalesValue": "11107251.00"
                                },
                                {
                                    "StockItemName": "32 mm Anti static bubble wrap (Blue) 50m",
                                    "TotalSalesValue": "6384000.00"
                                },
                                {
                                    "StockItemName": "10 mm Anti static bubble wrap (Blue) 50m",
                                    "TotalSalesValue": "6329070.00"
                                },
                                {
                                    "StockItemName": "20 mm Double sided bubble wrap 50m",
                                    "TotalSalesValue": "6214320.00"
                                },
                                {
                                    "StockItemName": "32 mm Double sided bubble wrap 50m",
                                    "TotalSalesValue": "6190240.00"
                                }
                            ]
                        },
                        "text/html": [
                            "<table>",
                            "<tr><th>StockItemName</th><th>TotalSalesValue</th></tr>",
                            "<tr><td>Air cushion machine (Blue)</td><td>11107251.00</td></tr>",
                            "<tr><td>32 mm Anti static bubble wrap (Blue) 50m</td><td>6384000.00</td></tr>",
                            "<tr><td>10 mm Anti static bubble wrap (Blue) 50m</td><td>6329070.00</td></tr>",
                            "<tr><td>20 mm Double sided bubble wrap 50m</td><td>6214320.00</td></tr>",
                            "<tr><td>32 mm Double sided bubble wrap 50m</td><td>6190240.00</td></tr>",
                            "</table>"
                        ]
                    }
                }
            ],
            "execution_count": 15
        },
        {
            "cell_type": "markdown",
            "source": [
                "## 9\\. Popular Payment Method\n",
                "\n",
                "**Proposition:** Determine the most commonly used payment method.\n",
                "\n",
                "**Functional Specification:**\n",
                "\n",
                "- Use `Application.PaymentMethods` and `Sales.CustomerTransactions` tables.\n",
                "- Count the usage of each payment method.\n",
                "- Rank payment methods by usage count.\n",
                "- Show the top payment method."
            ],
            "metadata": {
                "azdata_cell_guid": "300102c9-75ea-482f-8f98-d9c081c7cfb3"
            },
            "attachments": {}
        },
        {
            "cell_type": "code",
            "source": [
                "SELECT TOP 1\n",
                "    pm.PaymentMethodName,\n",
                "    COUNT(ct.CustomerTransactionID) AS UsageCount\n",
                "FROM \n",
                "    Application.PaymentMethods pm\n",
                "LEFT JOIN \n",
                "    Sales.CustomerTransactions ct ON pm.PaymentMethodID = ct.PaymentMethodID\n",
                "GROUP BY \n",
                "    pm.PaymentMethodID, pm.PaymentMethodName\n",
                "ORDER BY \n",
                "    UsageCount DESC"
            ],
            "metadata": {
                "azdata_cell_guid": "5d6b19e7-51dd-4dbd-8ed7-6a796ab43d29",
                "language": "sql"
            },
            "outputs": [
                {
                    "output_type": "display_data",
                    "data": {
                        "text/html": "(1 row affected)"
                    },
                    "metadata": {}
                },
                {
                    "output_type": "display_data",
                    "data": {
                        "text/html": "Total execution time: 00:00:00.062"
                    },
                    "metadata": {}
                },
                {
                    "output_type": "execute_result",
                    "metadata": {},
                    "execution_count": 10,
                    "data": {
                        "application/vnd.dataresource+json": {
                            "schema": {
                                "fields": [
                                    {
                                        "name": "PaymentMethodName"
                                    },
                                    {
                                        "name": "UsageCount"
                                    }
                                ]
                            },
                            "data": [
                                {
                                    "PaymentMethodName": "EFT",
                                    "UsageCount": "26637"
                                }
                            ]
                        },
                        "text/html": [
                            "<table>",
                            "<tr><th>PaymentMethodName</th><th>UsageCount</th></tr>",
                            "<tr><td>EFT</td><td>26637</td></tr>",
                            "</table>"
                        ]
                    }
                }
            ],
            "execution_count": 10
        },
        {
            "cell_type": "markdown",
            "source": [
                "## 10\\. Top 5 Selling Products\n",
                "\n",
                "**Proposition:** Identify the top 5 selling products by total quantity sold.\n",
                "\n",
                "**Functional Specification:**\n",
                "\n",
                "- Use `Sales.OrderLines` and <span style=\"font-size: 12px;\">Warehouse.StockItems</span> tables.\n",
                "- Sum the tital quantity sold for each product.\n",
                "- Rank products by total quantity sold.\n",
                "- Display prodcts by total quanity sold.\n",
                "- Display the top 5 products with their names and total quantity sold."
            ],
            "metadata": {
                "azdata_cell_guid": "92890692-0772-43e9-91c4-4a54f30987b8"
            },
            "attachments": {}
        },
        {
            "cell_type": "code",
            "source": [
                "SELECT TOP 5\n",
                "    si.StockItemName,\n",
                "    SUM(ol.Quantity) AS TotalQuantitySold\n",
                "FROM \n",
                "    Sales.OrderLines ol\n",
                "JOIN \n",
                "    Warehouse.StockItems si ON ol.StockItemID = si.StockItemID\n",
                "GROUP BY \n",
                "    si.StockItemID, si.StockItemName\n",
                "ORDER BY \n",
                "    TotalQuantitySold DESC"
            ],
            "metadata": {
                "azdata_cell_guid": "f76ed3b4-54bc-4dd2-96d5-d2c24981d2f0",
                "language": "sql"
            },
            "outputs": [
                {
                    "output_type": "display_data",
                    "data": {
                        "text/html": "(5 rows affected)"
                    },
                    "metadata": {}
                },
                {
                    "output_type": "display_data",
                    "data": {
                        "text/html": "Total execution time: 00:00:00.037"
                    },
                    "metadata": {}
                },
                {
                    "output_type": "execute_result",
                    "metadata": {},
                    "execution_count": 9,
                    "data": {
                        "application/vnd.dataresource+json": {
                            "schema": {
                                "fields": [
                                    {
                                        "name": "StockItemName"
                                    },
                                    {
                                        "name": "TotalQuantitySold"
                                    }
                                ]
                            },
                            "data": [
                                {
                                    "StockItemName": "Black and orange fragile despatch tape 48mmx75m",
                                    "TotalQuantitySold": "207324"
                                },
                                {
                                    "StockItemName": "Black and orange fragile despatch tape 48mmx100m",
                                    "TotalQuantitySold": "193680"
                                },
                                {
                                    "StockItemName": "Clear packaging tape 48mmx75m",
                                    "TotalQuantitySold": "158626"
                                },
                                {
                                    "StockItemName": "3 kg Courier post bag (White) 300x190x95mm",
                                    "TotalQuantitySold": "152375"
                                },
                                {
                                    "StockItemName": "Shipping carton (Brown) 356x356x279mm",
                                    "TotalQuantitySold": "152125"
                                }
                            ]
                        },
                        "text/html": [
                            "<table>",
                            "<tr><th>StockItemName</th><th>TotalQuantitySold</th></tr>",
                            "<tr><td>Black and orange fragile despatch tape 48mmx75m</td><td>207324</td></tr>",
                            "<tr><td>Black and orange fragile despatch tape 48mmx100m</td><td>193680</td></tr>",
                            "<tr><td>Clear packaging tape 48mmx75m</td><td>158626</td></tr>",
                            "<tr><td>3 kg Courier post bag (White) 300x190x95mm</td><td>152375</td></tr>",
                            "<tr><td>Shipping carton (Brown) 356x356x279mm</td><td>152125</td></tr>",
                            "</table>"
                        ]
                    }
                }
            ],
            "execution_count": 9
        }
    ]
}