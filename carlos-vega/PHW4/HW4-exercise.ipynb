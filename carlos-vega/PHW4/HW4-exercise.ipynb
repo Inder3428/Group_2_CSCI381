{
    "metadata": {
        "kernelspec": {
            "name": "SQL",
            "display_name": "SQL",
            "language": "sql"
        },
        "language_info": {
            "name": "sql",
            "version": ""
        }
    },
    "nbformat_minor": 2,
    "nbformat": 4,
    "cells": [
        {
            "cell_type": "code",
            "source": [
                "USE TSQLV4;\n",
                "GO"
            ],
            "metadata": {
                "azdata_cell_guid": "bb063456-7218-4ed6-8601-9e9c06f368d4",
                "language": "sql"
            },
            "outputs": [
                {
                    "output_type": "display_data",
                    "data": {
                        "text/html": "Commands completed successfully."
                    },
                    "metadata": {}
                },
                {
                    "output_type": "display_data",
                    "data": {
                        "text/html": "(7 rows affected)"
                    },
                    "metadata": {}
                },
                {
                    "output_type": "display_data",
                    "data": {
                        "text/html": "Total execution time: 00:00:00.023"
                    },
                    "metadata": {}
                },
                {
                    "output_type": "execute_result",
                    "execution_count": 6,
                    "data": {
                        "application/vnd.dataresource+json": {
                            "schema": {
                                "fields": [
                                    {
                                        "name": "custid"
                                    },
                                    {
                                        "name": "companyname"
                                    },
                                    {
                                        "name": "phone"
                                    },
                                    {
                                        "name": "address"
                                    }
                                ]
                            },
                            "data": [
                                {
                                    "custid": "1",
                                    "companyname": "cust 1",
                                    "phone": "(111) 111-1111",
                                    "address": "address 1"
                                },
                                {
                                    "custid": "2",
                                    "companyname": "AAAAA",
                                    "phone": "(222) 222-2222",
                                    "address": "address 2"
                                },
                                {
                                    "custid": "3",
                                    "companyname": "cust 3",
                                    "phone": "(333) 333-3333",
                                    "address": "address 3"
                                },
                                {
                                    "custid": "4",
                                    "companyname": "cust 4",
                                    "phone": "(444) 444-4444",
                                    "address": "address 4"
                                },
                                {
                                    "custid": "5",
                                    "companyname": "BBBBB",
                                    "phone": "CCCCC",
                                    "address": "DDDDD"
                                },
                                {
                                    "custid": "6",
                                    "companyname": "cust 6 (new)",
                                    "phone": "(666) 666-6666",
                                    "address": "address 6"
                                },
                                {
                                    "custid": "7",
                                    "companyname": "cust 7 (new)",
                                    "phone": "(777) 777-7777",
                                    "address": "address 7"
                                }
                            ]
                        },
                        "text/html": "<table><tr><th>custid</th><th>companyname</th><th>phone</th><th>address</th></tr><tr><td>1</td><td>cust 1</td><td>(111) 111-1111</td><td>address 1</td></tr><tr><td>2</td><td>AAAAA</td><td>(222) 222-2222</td><td>address 2</td></tr><tr><td>3</td><td>cust 3</td><td>(333) 333-3333</td><td>address 3</td></tr><tr><td>4</td><td>cust 4</td><td>(444) 444-4444</td><td>address 4</td></tr><tr><td>5</td><td>BBBBB</td><td>CCCCC</td><td>DDDDD</td></tr><tr><td>6</td><td>cust 6 (new)</td><td>(666) 666-6666</td><td>address 6</td></tr><tr><td>7</td><td>cust 7 (new)</td><td>(777) 777-7777</td><td>address 7</td></tr></table>"
                    },
                    "metadata": {}
                }
            ],
            "execution_count": 6
        },
        {
            "cell_type": "code",
            "source": [
                "SELECT * FROM dbo.Customers;"
            ],
            "metadata": {
                "azdata_cell_guid": "21f6389c-4216-4905-b408-05018407c373",
                "language": "sql"
            },
            "outputs": [
                {
                    "output_type": "display_data",
                    "data": {
                        "text/html": "(7 rows affected)"
                    },
                    "metadata": {}
                },
                {
                    "output_type": "display_data",
                    "data": {
                        "text/html": "Total execution time: 00:00:00.006"
                    },
                    "metadata": {}
                },
                {
                    "output_type": "execute_result",
                    "execution_count": 7,
                    "data": {
                        "application/vnd.dataresource+json": {
                            "schema": {
                                "fields": [
                                    {
                                        "name": "custid"
                                    },
                                    {
                                        "name": "companyname"
                                    },
                                    {
                                        "name": "phone"
                                    },
                                    {
                                        "name": "address"
                                    }
                                ]
                            },
                            "data": [
                                {
                                    "custid": "1",
                                    "companyname": "cust 1",
                                    "phone": "(111) 111-1111",
                                    "address": "address 1"
                                },
                                {
                                    "custid": "2",
                                    "companyname": "AAAAA",
                                    "phone": "(222) 222-2222",
                                    "address": "address 2"
                                },
                                {
                                    "custid": "3",
                                    "companyname": "cust 3",
                                    "phone": "(333) 333-3333",
                                    "address": "address 3"
                                },
                                {
                                    "custid": "4",
                                    "companyname": "cust 4",
                                    "phone": "(444) 444-4444",
                                    "address": "address 4"
                                },
                                {
                                    "custid": "5",
                                    "companyname": "BBBBB",
                                    "phone": "CCCCC",
                                    "address": "DDDDD"
                                },
                                {
                                    "custid": "6",
                                    "companyname": "cust 6 (new)",
                                    "phone": "(666) 666-6666",
                                    "address": "address 6"
                                },
                                {
                                    "custid": "7",
                                    "companyname": "cust 7 (new)",
                                    "phone": "(777) 777-7777",
                                    "address": "address 7"
                                }
                            ]
                        },
                        "text/html": "<table><tr><th>custid</th><th>companyname</th><th>phone</th><th>address</th></tr><tr><td>1</td><td>cust 1</td><td>(111) 111-1111</td><td>address 1</td></tr><tr><td>2</td><td>AAAAA</td><td>(222) 222-2222</td><td>address 2</td></tr><tr><td>3</td><td>cust 3</td><td>(333) 333-3333</td><td>address 3</td></tr><tr><td>4</td><td>cust 4</td><td>(444) 444-4444</td><td>address 4</td></tr><tr><td>5</td><td>BBBBB</td><td>CCCCC</td><td>DDDDD</td></tr><tr><td>6</td><td>cust 6 (new)</td><td>(666) 666-6666</td><td>address 6</td></tr><tr><td>7</td><td>cust 7 (new)</td><td>(777) 777-7777</td><td>address 7</td></tr></table>"
                    },
                    "metadata": {}
                }
            ],
            "execution_count": 7
        },
        {
            "cell_type": "markdown",
            "source": [
                "The query output for me does not match the one from excercises.  \n",
                "  \n",
                "But if i was to make the query:  \n",
                "  \n",
                "\n",
                "> this is the query.  \n",
                ">"
            ],
            "metadata": {
                "azdata_cell_guid": "4f0d8ff6-e3b4-476c-93d7-2d2ba8a5901d"
            },
            "attachments": {}
        },
        {
            "cell_type": "code",
            "source": [
                "UPDATE dbo.Customers\n",
                "SET region = '<None>'\n",
                "OUTPUT \n",
                "    inserted.custid,\n",
                "    deleted.region AS oldregion,\n",
                "    inserted.region AS newregion\n",
                "WHERE region IS NULL;"
            ],
            "metadata": {
                "azdata_cell_guid": "ca8fdb44-e216-437e-850e-ce5f1516a082",
                "language": "sql"
            },
            "outputs": [
                {
                    "output_type": "error",
                    "ename": "",
                    "evalue": "Msg 207, Level 16, State 1, Line 7\nInvalid column name 'region'.",
                    "traceback": []
                },
                {
                    "output_type": "display_data",
                    "data": {
                        "text/html": "Total execution time: 00:00:00.009"
                    },
                    "metadata": {}
                }
            ],
            "execution_count": 8
        }
    ]
}