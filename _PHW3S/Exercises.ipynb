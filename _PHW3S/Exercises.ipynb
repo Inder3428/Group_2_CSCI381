{
    "metadata": {
        "kernelspec": {
            "name": "SQL",
            "display_name": "SQL",
            "language": "sql"
        },
        "language_info": {
            "name": "sql",
            "version": ""
        }
    },
    "nbformat_minor": 2,
    "nbformat": 4,
    "cells": [
        {
            "cell_type": "markdown",
            "source": [
                "# Q1 \r\n",
                "\r\n",
                "## Explain the difference between the `UNION ALL` and `UNION` operators. In what cases are they equivalent? When they are equivalent, which one should you use?"
            ],
            "metadata": {
                "azdata_cell_guid": "08d1df90-331c-4500-a072-74e33915b590"
            },
            "attachments": {}
        },
        {
            "cell_type": "markdown",
            "source": [
                "# A1\r\n",
                "\r\n",
                "## Differences\r\n",
                "    \r\n",
                "### 1. Duplicate Handling\r\n",
                "\r\n",
                "- `UNION`: <u>Removes duplicate rows</u> from the final result set.<br><u>This involves a sorting and comparison process to identify and remove duplicates</u>, which can add computational overhead.\r\n",
                "- `UNION ALL`: Includes <u>all rows from the combined `SELECT` statements, **including duplicates**</u>.<br>It <u>does not perform duplicate removal</u>, which makes it generally <u>faster</u>.\r\n",
                "\r\n",
                "### 2. Performance\r\n",
                "\r\n",
                "- Since `UNION` has to <u>sort and remove duplicates</u>, it tends to be <u>slower</u> than `UNION ALL`, especially for large result sets.\r\n",
                "- `UNION ALL` has <u>better performance</u> because it <u>skips the step of duplicate removal</u>, and it is more efficient for large data sets.\r\n",
                "\r\n",
                "## Cases Where They Are Equivalent\r\n",
                "\r\n",
                "`UNION` and `UNION ALL` are equivalent if there are <u>no duplicate rows in the result sets of the combined `SELECT` statements</u>.<br>In this case, both operators will produce <u>identical output</u>.\r\n",
                "- For example, if <u>each `SELECT` statement generates rows that are **guaranteed to be unique across the entire result set**</u> (perhaps due to a `DISTINCT` clause or unique keys in the underlying tables), then there will be <u>no duplicates to remove</u>.\r\n",
                "\r\n",
                "## Which One to Use?\r\n",
                "\r\n",
                "- If you know that there will be <u>no duplicate rows</u> (either because of constraints, or just due to the nature of the data), then <u>`UNION ALL`</u> is the better choice due to its performance advantage.\r\n",
                "- If you need to <u>remove duplicates</u>, from the <u>combined result</u>, use `UNION`.\r\n",
                "\r\n",
                "In Summary, use `UNION ALL` wherever possible for better performance unless the removal of duplicates is required."
            ],
            "metadata": {
                "azdata_cell_guid": "da557626-2b5c-4219-b057-32ce15e06f25"
            },
            "attachments": {}
        },
        {
            "cell_type": "markdown",
            "source": [
                "# Q2\r\n",
                " Write a query that returns customer and employee pairs that had order activity in January 2016 but not in February 2016\r\n",
                "\r\n",
                " Tables Involved: Orders table\r\n",
                "\r\n",
                " Desired Output:\r\n",
                "\r\n",
                " ```\r\n",
                " custid      empid\r\n",
                "----------- -----------\r\n",
                "1           1\r\n",
                "3           3\r\n",
                "5           8\r\n",
                "5           9\r\n",
                "6           9\r\n",
                "7           6\r\n",
                "9           1\r\n",
                "12          2\r\n",
                "16          7\r\n",
                "17          1\r\n",
                "20          7\r\n",
                "24          8\r\n",
                "25          1\r\n",
                "26          3\r\n",
                "32          4\r\n",
                "38          9\r\n",
                "39          3\r\n",
                "40          2\r\n",
                "41          2\r\n",
                "42          2\r\n",
                "44          8\r\n",
                "47          3\r\n",
                "47          4\r\n",
                "47          8\r\n",
                "49          7\r\n",
                "55          2\r\n",
                "55          3\r\n",
                "56          6\r\n",
                "59          8\r\n",
                "63          8\r\n",
                "64          9\r\n",
                "65          3\r\n",
                "65          8\r\n",
                "66          5\r\n",
                "67          5\r\n",
                "70          3\r\n",
                "71          2\r\n",
                "75          1\r\n",
                "76          2\r\n",
                "76          5\r\n",
                "80          1\r\n",
                "81          1\r\n",
                "81          3\r\n",
                "81          4\r\n",
                "82          6\r\n",
                "84          1\r\n",
                "84          3\r\n",
                "84          4\r\n",
                "88          7\r\n",
                "89          4\r\n",
                "\r\n",
                "(50 row(s) affected)\r\n",
                "\r\n",
                " ```\r\n",
                ""
            ],
            "metadata": {
                "azdata_cell_guid": "5208a097-6dc3-4949-9a5e-00f9b16ad843"
            },
            "attachments": {}
        },
        {
            "cell_type": "markdown",
            "source": [
                "# A2"
            ],
            "metadata": {
                "azdata_cell_guid": "acd6426c-81ab-466a-a251-e8eec5db2728"
            },
            "attachments": {}
        },
        {
            "cell_type": "code",
            "source": [
                "USE TSQLV4;\r\n",
                "\r\n",
                "SELECT custid, empid\r\n",
                "FROM Sales.Orders\r\n",
                "WHERE orderdate >= '20160101' AND orderdate < '20160201'\r\n",
                "EXCEPT\r\n",
                "SELECT custid, empid\r\n",
                "FROM Sales.Orders\r\n",
                "WHERE orderdate >= '20160201' AND orderdate < '20160301';\r\n",
                "\r\n",
                "USE Northwinds2022TSQLV7;\r\n",
                "SELECT CustomerId, EmployeeId\r\n",
                "FROM Sales.[Order]\r\n",
                "WHERE OrderDate >= '20160101' AND OrderDate < '20160201'\r\n",
                "EXCEPT\r\n",
                "SELECT CustomerId, EmployeeId\r\n",
                "FROM Sales.[Order]\r\n",
                "WHERE OrderDate >= '20160201' AND OrderDate < '20160301';"
            ],
            "metadata": {
                "azdata_cell_guid": "730faf5d-413c-4184-8fc1-7e2278cef3f9",
                "language": "sql"
            },
            "outputs": [],
            "execution_count": null
        }
    ]
}