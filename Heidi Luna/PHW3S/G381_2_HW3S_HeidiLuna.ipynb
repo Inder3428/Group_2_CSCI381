{
    "metadata": {
        "kernelspec": {
            "name": "SQL",
            "display_name": "SQL",
            "language": "sql"
        },
        "language_info": {
            "name": "sql",
            "version": ""
        }
    },
    "nbformat_minor": 2,
    "nbformat": 4,
    "cells": [
        {
            "cell_type": "markdown",
            "source": [
                "# Heidi Luna PHW3S Chapter 6: Set Operators Propositons"
            ],
            "metadata": {
                "azdata_cell_guid": "913d62fa-83c4-4067-ba75-c7cfc5118877"
            },
            "attachments": {}
        },
        {
            "cell_type": "markdown",
            "source": [
                "# Propositions and Functional Specification - 1\n",
                "\n",
                "## 1. Query Proposition\n",
                "\n",
                "The purpose of this query is to retrieve a list of `ProductID`s that are present in both the `Sales.SalesOrderDetail` and `Production.ProductInventory` tables in the **AdventureWorks2017** database. The result will include only those products that have a positive quantity in inventory.\n",
                "\n",
                "## 2. Functional Specification\n",
                "\n",
                "### Objective\n",
                "Identify products that have both been sold (appear in `Sales.SalesOrderDetail`) and have available stock (quantity greater than 0 in `Production.ProductInventory`).\n",
                "\n",
                "### Inputs\n",
                "- **Database Tables**:\n",
                "  - `Sales.SalesOrderDetail`: Contains details of each sales order, including `ProductID`.\n",
                "  - `Production.ProductInventory`: Contains inventory details for each product, including `ProductID` and `Quantity`.\n",
                "\n",
                "### Outputs\n",
                "- **Column**:\n",
                "  - `ProductID`: A list of unique `ProductID`s that are common to both tables and have a positive inventory quantity.\n",
                "\n",
                "### Query Logic\n",
                "\n",
                "1. **`INTERSECT` Operator**:\n",
                "   - The query uses the `INTERSECT` operator to find common `ProductID`s between the two SELECT statements.\n",
                "   - The first SELECT retrieves all `ProductID`s from the `Sales.SalesOrderDetail` table.\n",
                "   - The second SELECT retrieves `ProductID`s from the `Production.ProductInventory` table where `Quantity` is greater than zero.\n",
                "\n",
                "2. **Filtering**:\n",
                "   - The condition `WHERE Quantity > 0` in the second SELECT ensures that only products with available stock are considered.\n",
                "\n",
                "3. **Result**:\n",
                "   - The result is a list of `ProductID`s that have been both sold and have remaining stock.\n",
                "\n",
                "### Example Usage\n",
                "This query can be used by inventory managers or sales analysts to:\n",
                "- Identify products that are actively being sold and still have stock available.\n",
                "- Assist in stock management by focusing on products with sales activity and available inventory.\n",
                "\n",
                "### Edge Cases\n",
                "- Products that are in the `Sales.SalesOrderDetail` but have a `Quantity` of zero or less in `Production.ProductInventory` will be excluded.\n",
                "- Products present in `Production.ProductInventory` with positive quantity but not yet sold will also be excluded.\n",
                "\n",
                ""
            ],
            "metadata": {
                "azdata_cell_guid": "dc2d4ba3-dec4-45fe-8cb2-8013da849e83"
            },
            "attachments": {}
        },
        {
            "cell_type": "code",
            "source": [
                "USE AdventureWorks2017;\n",
                "\n",
                "SELECT ProductID\n",
                "FROM Sales.SalesOrderDetail\n",
                "INTERSECT\n",
                "SELECT ProductID\n",
                "FROM Production.ProductInventory\n",
                "WHERE Quantity > 0;\n",
                "\n",
                ""
            ],
            "metadata": {
                "azdata_cell_guid": "c79fad8a-929f-4adc-9512-dfc3bffa8c41",
                "language": "sql",
                "tags": []
            },
            "outputs": [
                {
                    "output_type": "display_data",
                    "data": {
                        "text/html": "(206 rows affected)"
                    },
                    "metadata": {}
                },
                {
                    "output_type": "display_data",
                    "data": {
                        "text/html": "Total execution time: 00:00:00.065"
                    },
                    "metadata": {}
                },
                {
                    "output_type": "execute_result",
                    "metadata": {},
                    "execution_count": 1,
                    "data": {
                        "application/vnd.dataresource+json": {
                            "schema": {
                                "fields": [
                                    {
                                        "name": "ProductID"
                                    }
                                ]
                            },
                            "data": [
                                {
                                    "ProductID": "707"
                                },
                                {
                                    "ProductID": "708"
                                },
                                {
                                    "ProductID": "709"
                                },
                                {
                                    "ProductID": "710"
                                },
                                {
                                    "ProductID": "711"
                                },
                                {
                                    "ProductID": "712"
                                },
                                {
                                    "ProductID": "713"
                                },
                                {
                                    "ProductID": "714"
                                },
                                {
                                    "ProductID": "715"
                                },
                                {
                                    "ProductID": "716"
                                },
                                {
                                    "ProductID": "747"
                                },
                                {
                                    "ProductID": "748"
                                },
                                {
                                    "ProductID": "749"
                                },
                                {
                                    "ProductID": "750"
                                },
                                {
                                    "ProductID": "751"
                                },
                                {
                                    "ProductID": "752"
                                },
                                {
                                    "ProductID": "753"
                                },
                                {
                                    "ProductID": "754"
                                },
                                {
                                    "ProductID": "755"
                                },
                                {
                                    "ProductID": "756"
                                },
                                {
                                    "ProductID": "757"
                                },
                                {
                                    "ProductID": "758"
                                },
                                {
                                    "ProductID": "759"
                                },
                                {
                                    "ProductID": "760"
                                },
                                {
                                    "ProductID": "761"
                                },
                                {
                                    "ProductID": "762"
                                },
                                {
                                    "ProductID": "763"
                                },
                                {
                                    "ProductID": "764"
                                },
                                {
                                    "ProductID": "765"
                                },
                                {
                                    "ProductID": "766"
                                },
                                {
                                    "ProductID": "767"
                                },
                                {
                                    "ProductID": "768"
                                },
                                {
                                    "ProductID": "769"
                                },
                                {
                                    "ProductID": "770"
                                },
                                {
                                    "ProductID": "771"
                                },
                                {
                                    "ProductID": "772"
                                },
                                {
                                    "ProductID": "773"
                                },
                                {
                                    "ProductID": "774"
                                },
                                {
                                    "ProductID": "775"
                                },
                                {
                                    "ProductID": "776"
                                },
                                {
                                    "ProductID": "777"
                                },
                                {
                                    "ProductID": "778"
                                },
                                {
                                    "ProductID": "779"
                                },
                                {
                                    "ProductID": "780"
                                },
                                {
                                    "ProductID": "781"
                                },
                                {
                                    "ProductID": "782"
                                },
                                {
                                    "ProductID": "783"
                                },
                                {
                                    "ProductID": "784"
                                },
                                {
                                    "ProductID": "785"
                                },
                                {
                                    "ProductID": "786"
                                },
                                {
                                    "ProductID": "787"
                                },
                                {
                                    "ProductID": "788"
                                },
                                {
                                    "ProductID": "789"
                                },
                                {
                                    "ProductID": "790"
                                },
                                {
                                    "ProductID": "791"
                                },
                                {
                                    "ProductID": "792"
                                },
                                {
                                    "ProductID": "793"
                                },
                                {
                                    "ProductID": "794"
                                },
                                {
                                    "ProductID": "795"
                                },
                                {
                                    "ProductID": "796"
                                },
                                {
                                    "ProductID": "797"
                                },
                                {
                                    "ProductID": "798"
                                },
                                {
                                    "ProductID": "799"
                                },
                                {
                                    "ProductID": "800"
                                },
                                {
                                    "ProductID": "801"
                                },
                                {
                                    "ProductID": "802"
                                },
                                {
                                    "ProductID": "804"
                                },
                                {
                                    "ProductID": "805"
                                },
                                {
                                    "ProductID": "806"
                                },
                                {
                                    "ProductID": "807"
                                },
                                {
                                    "ProductID": "808"
                                },
                                {
                                    "ProductID": "809"
                                },
                                {
                                    "ProductID": "810"
                                },
                                {
                                    "ProductID": "811"
                                },
                                {
                                    "ProductID": "813"
                                },
                                {
                                    "ProductID": "814"
                                },
                                {
                                    "ProductID": "815"
                                },
                                {
                                    "ProductID": "816"
                                },
                                {
                                    "ProductID": "817"
                                },
                                {
                                    "ProductID": "819"
                                },
                                {
                                    "ProductID": "820"
                                },
                                {
                                    "ProductID": "822"
                                },
                                {
                                    "ProductID": "823"
                                },
                                {
                                    "ProductID": "824"
                                },
                                {
                                    "ProductID": "825"
                                },
                                {
                                    "ProductID": "826"
                                },
                                {
                                    "ProductID": "827"
                                },
                                {
                                    "ProductID": "828"
                                },
                                {
                                    "ProductID": "841"
                                },
                                {
                                    "ProductID": "843"
                                },
                                {
                                    "ProductID": "844"
                                },
                                {
                                    "ProductID": "849"
                                },
                                {
                                    "ProductID": "850"
                                },
                                {
                                    "ProductID": "852"
                                },
                                {
                                    "ProductID": "854"
                                },
                                {
                                    "ProductID": "855"
                                },
                                {
                                    "ProductID": "856"
                                },
                                {
                                    "ProductID": "857"
                                },
                                {
                                    "ProductID": "858"
                                },
                                {
                                    "ProductID": "860"
                                },
                                {
                                    "ProductID": "861"
                                },
                                {
                                    "ProductID": "862"
                                },
                                {
                                    "ProductID": "863"
                                },
                                {
                                    "ProductID": "864"
                                },
                                {
                                    "ProductID": "865"
                                },
                                {
                                    "ProductID": "866"
                                },
                                {
                                    "ProductID": "867"
                                },
                                {
                                    "ProductID": "868"
                                },
                                {
                                    "ProductID": "869"
                                },
                                {
                                    "ProductID": "870"
                                },
                                {
                                    "ProductID": "871"
                                },
                                {
                                    "ProductID": "872"
                                },
                                {
                                    "ProductID": "873"
                                },
                                {
                                    "ProductID": "874"
                                },
                                {
                                    "ProductID": "875"
                                },
                                {
                                    "ProductID": "877"
                                },
                                {
                                    "ProductID": "878"
                                },
                                {
                                    "ProductID": "879"
                                },
                                {
                                    "ProductID": "880"
                                },
                                {
                                    "ProductID": "881"
                                },
                                {
                                    "ProductID": "883"
                                },
                                {
                                    "ProductID": "884"
                                },
                                {
                                    "ProductID": "894"
                                },
                                {
                                    "ProductID": "907"
                                },
                                {
                                    "ProductID": "908"
                                },
                                {
                                    "ProductID": "909"
                                },
                                {
                                    "ProductID": "910"
                                },
                                {
                                    "ProductID": "911"
                                },
                                {
                                    "ProductID": "913"
                                },
                                {
                                    "ProductID": "914"
                                },
                                {
                                    "ProductID": "915"
                                },
                                {
                                    "ProductID": "916"
                                },
                                {
                                    "ProductID": "921"
                                },
                                {
                                    "ProductID": "922"
                                },
                                {
                                    "ProductID": "923"
                                },
                                {
                                    "ProductID": "928"
                                },
                                {
                                    "ProductID": "929"
                                },
                                {
                                    "ProductID": "930"
                                },
                                {
                                    "ProductID": "931"
                                },
                                {
                                    "ProductID": "932"
                                },
                                {
                                    "ProductID": "933"
                                },
                                {
                                    "ProductID": "934"
                                },
                                {
                                    "ProductID": "935"
                                },
                                {
                                    "ProductID": "936"
                                },
                                {
                                    "ProductID": "937"
                                },
                                {
                                    "ProductID": "938"
                                },
                                {
                                    "ProductID": "939"
                                },
                                {
                                    "ProductID": "940"
                                },
                                {
                                    "ProductID": "941"
                                },
                                {
                                    "ProductID": "942"
                                },
                                {
                                    "ProductID": "943"
                                },
                                {
                                    "ProductID": "944"
                                },
                                {
                                    "ProductID": "945"
                                },
                                {
                                    "ProductID": "946"
                                },
                                {
                                    "ProductID": "947"
                                },
                                {
                                    "ProductID": "948"
                                },
                                {
                                    "ProductID": "949"
                                },
                                {
                                    "ProductID": "950"
                                },
                                {
                                    "ProductID": "951"
                                },
                                {
                                    "ProductID": "952"
                                },
                                {
                                    "ProductID": "953"
                                },
                                {
                                    "ProductID": "954"
                                },
                                {
                                    "ProductID": "955"
                                },
                                {
                                    "ProductID": "956"
                                },
                                {
                                    "ProductID": "957"
                                },
                                {
                                    "ProductID": "958"
                                },
                                {
                                    "ProductID": "959"
                                },
                                {
                                    "ProductID": "960"
                                },
                                {
                                    "ProductID": "961"
                                },
                                {
                                    "ProductID": "962"
                                },
                                {
                                    "ProductID": "963"
                                },
                                {
                                    "ProductID": "964"
                                },
                                {
                                    "ProductID": "965"
                                },
                                {
                                    "ProductID": "966"
                                },
                                {
                                    "ProductID": "967"
                                },
                                {
                                    "ProductID": "968"
                                },
                                {
                                    "ProductID": "969"
                                },
                                {
                                    "ProductID": "970"
                                },
                                {
                                    "ProductID": "971"
                                },
                                {
                                    "ProductID": "972"
                                },
                                {
                                    "ProductID": "973"
                                },
                                {
                                    "ProductID": "974"
                                },
                                {
                                    "ProductID": "975"
                                },
                                {
                                    "ProductID": "976"
                                },
                                {
                                    "ProductID": "977"
                                },
                                {
                                    "ProductID": "978"
                                },
                                {
                                    "ProductID": "979"
                                },
                                {
                                    "ProductID": "980"
                                },
                                {
                                    "ProductID": "981"
                                },
                                {
                                    "ProductID": "982"
                                },
                                {
                                    "ProductID": "983"
                                },
                                {
                                    "ProductID": "984"
                                },
                                {
                                    "ProductID": "985"
                                },
                                {
                                    "ProductID": "986"
                                },
                                {
                                    "ProductID": "987"
                                },
                                {
                                    "ProductID": "988"
                                },
                                {
                                    "ProductID": "989"
                                },
                                {
                                    "ProductID": "990"
                                },
                                {
                                    "ProductID": "991"
                                },
                                {
                                    "ProductID": "992"
                                },
                                {
                                    "ProductID": "993"
                                },
                                {
                                    "ProductID": "994"
                                },
                                {
                                    "ProductID": "996"
                                },
                                {
                                    "ProductID": "997"
                                },
                                {
                                    "ProductID": "998"
                                },
                                {
                                    "ProductID": "999"
                                }
                            ]
                        },
                        "text/html": [
                            "<table>",
                            "<tr><th>ProductID</th></tr>",
                            "<tr><td>707</td></tr>",
                            "<tr><td>708</td></tr>",
                            "<tr><td>709</td></tr>",
                            "<tr><td>710</td></tr>",
                            "<tr><td>711</td></tr>",
                            "<tr><td>712</td></tr>",
                            "<tr><td>713</td></tr>",
                            "<tr><td>714</td></tr>",
                            "<tr><td>715</td></tr>",
                            "<tr><td>716</td></tr>",
                            "<tr><td>747</td></tr>",
                            "<tr><td>748</td></tr>",
                            "<tr><td>749</td></tr>",
                            "<tr><td>750</td></tr>",
                            "<tr><td>751</td></tr>",
                            "<tr><td>752</td></tr>",
                            "<tr><td>753</td></tr>",
                            "<tr><td>754</td></tr>",
                            "<tr><td>755</td></tr>",
                            "<tr><td>756</td></tr>",
                            "<tr><td>757</td></tr>",
                            "<tr><td>758</td></tr>",
                            "<tr><td>759</td></tr>",
                            "<tr><td>760</td></tr>",
                            "<tr><td>761</td></tr>",
                            "<tr><td>762</td></tr>",
                            "<tr><td>763</td></tr>",
                            "<tr><td>764</td></tr>",
                            "<tr><td>765</td></tr>",
                            "<tr><td>766</td></tr>",
                            "<tr><td>767</td></tr>",
                            "<tr><td>768</td></tr>",
                            "<tr><td>769</td></tr>",
                            "<tr><td>770</td></tr>",
                            "<tr><td>771</td></tr>",
                            "<tr><td>772</td></tr>",
                            "<tr><td>773</td></tr>",
                            "<tr><td>774</td></tr>",
                            "<tr><td>775</td></tr>",
                            "<tr><td>776</td></tr>",
                            "<tr><td>777</td></tr>",
                            "<tr><td>778</td></tr>",
                            "<tr><td>779</td></tr>",
                            "<tr><td>780</td></tr>",
                            "<tr><td>781</td></tr>",
                            "<tr><td>782</td></tr>",
                            "<tr><td>783</td></tr>",
                            "<tr><td>784</td></tr>",
                            "<tr><td>785</td></tr>",
                            "<tr><td>786</td></tr>",
                            "<tr><td>787</td></tr>",
                            "<tr><td>788</td></tr>",
                            "<tr><td>789</td></tr>",
                            "<tr><td>790</td></tr>",
                            "<tr><td>791</td></tr>",
                            "<tr><td>792</td></tr>",
                            "<tr><td>793</td></tr>",
                            "<tr><td>794</td></tr>",
                            "<tr><td>795</td></tr>",
                            "<tr><td>796</td></tr>",
                            "<tr><td>797</td></tr>",
                            "<tr><td>798</td></tr>",
                            "<tr><td>799</td></tr>",
                            "<tr><td>800</td></tr>",
                            "<tr><td>801</td></tr>",
                            "<tr><td>802</td></tr>",
                            "<tr><td>804</td></tr>",
                            "<tr><td>805</td></tr>",
                            "<tr><td>806</td></tr>",
                            "<tr><td>807</td></tr>",
                            "<tr><td>808</td></tr>",
                            "<tr><td>809</td></tr>",
                            "<tr><td>810</td></tr>",
                            "<tr><td>811</td></tr>",
                            "<tr><td>813</td></tr>",
                            "<tr><td>814</td></tr>",
                            "<tr><td>815</td></tr>",
                            "<tr><td>816</td></tr>",
                            "<tr><td>817</td></tr>",
                            "<tr><td>819</td></tr>",
                            "<tr><td>820</td></tr>",
                            "<tr><td>822</td></tr>",
                            "<tr><td>823</td></tr>",
                            "<tr><td>824</td></tr>",
                            "<tr><td>825</td></tr>",
                            "<tr><td>826</td></tr>",
                            "<tr><td>827</td></tr>",
                            "<tr><td>828</td></tr>",
                            "<tr><td>841</td></tr>",
                            "<tr><td>843</td></tr>",
                            "<tr><td>844</td></tr>",
                            "<tr><td>849</td></tr>",
                            "<tr><td>850</td></tr>",
                            "<tr><td>852</td></tr>",
                            "<tr><td>854</td></tr>",
                            "<tr><td>855</td></tr>",
                            "<tr><td>856</td></tr>",
                            "<tr><td>857</td></tr>",
                            "<tr><td>858</td></tr>",
                            "<tr><td>860</td></tr>",
                            "<tr><td>861</td></tr>",
                            "<tr><td>862</td></tr>",
                            "<tr><td>863</td></tr>",
                            "<tr><td>864</td></tr>",
                            "<tr><td>865</td></tr>",
                            "<tr><td>866</td></tr>",
                            "<tr><td>867</td></tr>",
                            "<tr><td>868</td></tr>",
                            "<tr><td>869</td></tr>",
                            "<tr><td>870</td></tr>",
                            "<tr><td>871</td></tr>",
                            "<tr><td>872</td></tr>",
                            "<tr><td>873</td></tr>",
                            "<tr><td>874</td></tr>",
                            "<tr><td>875</td></tr>",
                            "<tr><td>877</td></tr>",
                            "<tr><td>878</td></tr>",
                            "<tr><td>879</td></tr>",
                            "<tr><td>880</td></tr>",
                            "<tr><td>881</td></tr>",
                            "<tr><td>883</td></tr>",
                            "<tr><td>884</td></tr>",
                            "<tr><td>894</td></tr>",
                            "<tr><td>907</td></tr>",
                            "<tr><td>908</td></tr>",
                            "<tr><td>909</td></tr>",
                            "<tr><td>910</td></tr>",
                            "<tr><td>911</td></tr>",
                            "<tr><td>913</td></tr>",
                            "<tr><td>914</td></tr>",
                            "<tr><td>915</td></tr>",
                            "<tr><td>916</td></tr>",
                            "<tr><td>921</td></tr>",
                            "<tr><td>922</td></tr>",
                            "<tr><td>923</td></tr>",
                            "<tr><td>928</td></tr>",
                            "<tr><td>929</td></tr>",
                            "<tr><td>930</td></tr>",
                            "<tr><td>931</td></tr>",
                            "<tr><td>932</td></tr>",
                            "<tr><td>933</td></tr>",
                            "<tr><td>934</td></tr>",
                            "<tr><td>935</td></tr>",
                            "<tr><td>936</td></tr>",
                            "<tr><td>937</td></tr>",
                            "<tr><td>938</td></tr>",
                            "<tr><td>939</td></tr>",
                            "<tr><td>940</td></tr>",
                            "<tr><td>941</td></tr>",
                            "<tr><td>942</td></tr>",
                            "<tr><td>943</td></tr>",
                            "<tr><td>944</td></tr>",
                            "<tr><td>945</td></tr>",
                            "<tr><td>946</td></tr>",
                            "<tr><td>947</td></tr>",
                            "<tr><td>948</td></tr>",
                            "<tr><td>949</td></tr>",
                            "<tr><td>950</td></tr>",
                            "<tr><td>951</td></tr>",
                            "<tr><td>952</td></tr>",
                            "<tr><td>953</td></tr>",
                            "<tr><td>954</td></tr>",
                            "<tr><td>955</td></tr>",
                            "<tr><td>956</td></tr>",
                            "<tr><td>957</td></tr>",
                            "<tr><td>958</td></tr>",
                            "<tr><td>959</td></tr>",
                            "<tr><td>960</td></tr>",
                            "<tr><td>961</td></tr>",
                            "<tr><td>962</td></tr>",
                            "<tr><td>963</td></tr>",
                            "<tr><td>964</td></tr>",
                            "<tr><td>965</td></tr>",
                            "<tr><td>966</td></tr>",
                            "<tr><td>967</td></tr>",
                            "<tr><td>968</td></tr>",
                            "<tr><td>969</td></tr>",
                            "<tr><td>970</td></tr>",
                            "<tr><td>971</td></tr>",
                            "<tr><td>972</td></tr>",
                            "<tr><td>973</td></tr>",
                            "<tr><td>974</td></tr>",
                            "<tr><td>975</td></tr>",
                            "<tr><td>976</td></tr>",
                            "<tr><td>977</td></tr>",
                            "<tr><td>978</td></tr>",
                            "<tr><td>979</td></tr>",
                            "<tr><td>980</td></tr>",
                            "<tr><td>981</td></tr>",
                            "<tr><td>982</td></tr>",
                            "<tr><td>983</td></tr>",
                            "<tr><td>984</td></tr>",
                            "<tr><td>985</td></tr>",
                            "<tr><td>986</td></tr>",
                            "<tr><td>987</td></tr>",
                            "<tr><td>988</td></tr>",
                            "<tr><td>989</td></tr>",
                            "<tr><td>990</td></tr>",
                            "<tr><td>991</td></tr>",
                            "<tr><td>992</td></tr>",
                            "<tr><td>993</td></tr>",
                            "<tr><td>994</td></tr>",
                            "<tr><td>996</td></tr>",
                            "<tr><td>997</td></tr>",
                            "<tr><td>998</td></tr>",
                            "<tr><td>999</td></tr>",
                            "</table>"
                        ]
                    }
                }
            ],
            "execution_count": 1
        },
        {
            "cell_type": "markdown",
            "source": [
                "# Propositions and Functional Specification - 2\n",
                "\n",
                "## 1. Query Proposition\n",
                "\n",
                "The purpose of this query is to generate a combined view of products in the **AdventureWorks2017** database, showing their sales status as either 'Sold' or 'In Stock'. The query lists products that have been sold along with the number of sales and also includes products that are currently in stock, displaying their inventory quantity.\n",
                "\n",
                "## 2. Functional Specification\n",
                "\n",
                "### Objective\n",
                "Retrieve a list of products with their sales and inventory status, showing products that have been sold with their sales count and products that are in stock with their available inventory.\n",
                "\n",
                "### Inputs\n",
                "- **Database Tables**:\n",
                "  - `Production.Product`: Contains details about products, including `ProductID` and `Name`.\n",
                "  - `Sales.SalesOrderDetail`: Contains details about sales orders, including `SalesOrderID` and `ProductID`.\n",
                "  - `Production.ProductInventory`: Contains information about product inventory, including `Quantity` and `ProductID`.\n",
                "\n",
                "### Outputs\n",
                "- **Columns**:\n",
                "  - `ProductID`: The unique identifier for each product.\n",
                "  - `ProductName`: The name of the product.\n",
                "  - `Status`: Indicates if the product is 'Sold' or 'In Stock'.\n",
                "  - `NumberOfSales`: The total count of sales for sold products (0 for in-stock products).\n",
                "  - `InventoryQuantity`: The quantity of the product in stock (0 for sold products).\n",
                "\n",
                "### Query Logic\n",
                "\n",
                "1. **First SELECT Statement - Sold Products**:\n",
                "   - Joins `Production.Product` with `Sales.SalesOrderDetail` on `ProductID` to find products that have been sold.\n",
                "   - Counts the number of times each product appears in `Sales.SalesOrderDetail` to get the `NumberOfSales`.\n",
                "   - Sets `Status` as 'Sold' for these records.\n",
                "   - Uses `GROUP BY` to group the results by `ProductID` and `ProductName`.\n",
                "\n",
                "2. **UNION ALL**:\n",
                "   - Combines the results of the 'Sold' products with the 'In Stock' products without removing duplicates.\n",
                "\n",
                "3. **Second SELECT Statement - In-Stock Products**:\n",
                "   - Joins `Production.Product` with `Production.ProductInventory` on `ProductID` to find products that are in stock.\n",
                "   - Filters out products with zero quantity using `WHERE PI.Quantity > 0`.\n",
                "   - Sums up the `Quantity` to get the `InventoryQuantity` for each product.\n",
                "   - Sets `Status` as 'In Stock' for these records.\n",
                "   - Uses `GROUP BY` to group the results by `ProductID` and `ProductName`.\n",
                "\n",
                "### Example Usage\n",
                "This query can be used by inventory managers or sales analysts to:\n",
                "- Monitor which products have been sold and how many sales they have generated.\n",
                "- Track products that are currently in stock and their available quantities.\n",
                "- Gain insights into inventory and sales trends for better decision-making regarding stock replenishment and sales strategies.\n",
                "\n",
                "### Edge Cases\n",
                "- Products that have both sales records and inventory records will appear twice, once as 'Sold' and once as 'In Stock'.\n",
                "- Products with zero sales and zero inventory will not appear in the result set.\n",
                "- If a product has been sold but has no remaining inventory, it will only show up under the 'Sold' status with an `InventoryQuantity` of 0.\n",
                "\n",
                ""
            ],
            "metadata": {
                "language": "sql",
                "azdata_cell_guid": "33e1d48d-87f3-44ba-a07f-ff9973607ff6"
            },
            "attachments": {}
        },
        {
            "cell_type": "code",
            "source": [
                "USE AdventureWorks2017;\n",
                "\n",
                "SELECT  P.ProductID, P.Name AS ProductName, 'Sold' AS Status, \n",
                "COUNT(SD.SalesOrderID) AS NumberOfSales, 0 AS InventoryQuantity\n",
                "FROM Production.Product P\n",
                "JOIN Sales.SalesOrderDetail SD ON P.ProductID = SD.ProductID\n",
                "GROUP BY P.ProductID, P.Name\n",
                "\n",
                "UNION ALL\n",
                "\n",
                "SELECT P.ProductID, P.Name AS ProductName, 'In Stock' AS Status,\n",
                "0 AS NumberOfSales, SUM(PI.Quantity) AS InventoryQuantity\n",
                "FROM Production.Product P\n",
                "JOIN Production.ProductInventory PI ON P.ProductID = PI.ProductID\n",
                "WHERE PI.Quantity > 0\n",
                "GROUP BY P.ProductID, P.Name;"
            ],
            "metadata": {
                "language": "sql",
                "azdata_cell_guid": "9a6080aa-c04f-4285-9dac-bda94c265f6e",
                "tags": []
            },
            "outputs": [
                {
                    "output_type": "display_data",
                    "data": {
                        "text/html": "(694 rows affected)"
                    },
                    "metadata": {}
                },
                {
                    "output_type": "display_data",
                    "data": {
                        "text/html": "Total execution time: 00:00:00.055"
                    },
                    "metadata": {}
                },
                {
                    "output_type": "execute_result",
                    "execution_count": 40,
                    "data": {
                        "application/vnd.dataresource+json": {
                            "schema": {
                                "fields": [
                                    {
                                        "name": "ProductID"
                                    },
                                    {
                                        "name": "ProductName"
                                    },
                                    {
                                        "name": "Status"
                                    },
                                    {
                                        "name": "NumberOfSales"
                                    },
                                    {
                                        "name": "InventoryQuantity"
                                    }
                                ]
                            },
                            "data": [
                                {
                                    "ProductID": "707",
                                    "ProductName": "Sport-100 Helmet, Red",
                                    "Status": "Sold",
                                    "NumberOfSales": "3083",
                                    "InventoryQuantity": "0"
                                },
                                {
                                    "ProductID": "708",
                                    "ProductName": "Sport-100 Helmet, Black",
                                    "Status": "Sold",
                                    "NumberOfSales": "3007",
                                    "InventoryQuantity": "0"
                                },
                                {
                                    "ProductID": "709",
                                    "ProductName": "Mountain Bike Socks, M",
                                    "Status": "Sold",
                                    "NumberOfSales": "188",
                                    "InventoryQuantity": "0"
                                },
                                {
                                    "ProductID": "710",
                                    "ProductName": "Mountain Bike Socks, L",
                                    "Status": "Sold",
                                    "NumberOfSales": "44",
                                    "InventoryQuantity": "0"
                                },
                                {
                                    "ProductID": "711",
                                    "ProductName": "Sport-100 Helmet, Blue",
                                    "Status": "Sold",
                                    "NumberOfSales": "3090",
                                    "InventoryQuantity": "0"
                                },
                                {
                                    "ProductID": "712",
                                    "ProductName": "AWC Logo Cap",
                                    "Status": "Sold",
                                    "NumberOfSales": "3382",
                                    "InventoryQuantity": "0"
                                },
                                {
                                    "ProductID": "713",
                                    "ProductName": "Long-Sleeve Logo Jersey, S",
                                    "Status": "Sold",
                                    "NumberOfSales": "429",
                                    "InventoryQuantity": "0"
                                },
                                {
                                    "ProductID": "714",
                                    "ProductName": "Long-Sleeve Logo Jersey, M",
                                    "Status": "Sold",
                                    "NumberOfSales": "1218",
                                    "InventoryQuantity": "0"
                                },
                                {
                                    "ProductID": "715",
                                    "ProductName": "Long-Sleeve Logo Jersey, L",
                                    "Status": "Sold",
                                    "NumberOfSales": "1635",
                                    "InventoryQuantity": "0"
                                },
                                {
                                    "ProductID": "716",
                                    "ProductName": "Long-Sleeve Logo Jersey, XL",
                                    "Status": "Sold",
                                    "NumberOfSales": "1076",
                                    "InventoryQuantity": "0"
                                },
                                {
                                    "ProductID": "717",
                                    "ProductName": "HL Road Frame - Red, 62",
                                    "Status": "Sold",
                                    "NumberOfSales": "218",
                                    "InventoryQuantity": "0"
                                },
                                {
                                    "ProductID": "718",
                                    "ProductName": "HL Road Frame - Red, 44",
                                    "Status": "Sold",
                                    "NumberOfSales": "219",
                                    "InventoryQuantity": "0"
                                },
                                {
                                    "ProductID": "719",
                                    "ProductName": "HL Road Frame - Red, 48",
                                    "Status": "Sold",
                                    "NumberOfSales": "44",
                                    "InventoryQuantity": "0"
                                },
                                {
                                    "ProductID": "722",
                                    "ProductName": "LL Road Frame - Black, 58",
                                    "Status": "Sold",
                                    "NumberOfSales": "392",
                                    "InventoryQuantity": "0"
                                },
                                {
                                    "ProductID": "723",
                                    "ProductName": "LL Road Frame - Black, 60",
                                    "Status": "Sold",
                                    "NumberOfSales": "52",
                                    "InventoryQuantity": "0"
                                },
                                {
                                    "ProductID": "725",
                                    "ProductName": "LL Road Frame - Red, 44",
                                    "Status": "Sold",
                                    "NumberOfSales": "374",
                                    "InventoryQuantity": "0"
                                },
                                {
                                    "ProductID": "726",
                                    "ProductName": "LL Road Frame - Red, 48",
                                    "Status": "Sold",
                                    "NumberOfSales": "288",
                                    "InventoryQuantity": "0"
                                },
                                {
                                    "ProductID": "727",
                                    "ProductName": "LL Road Frame - Red, 52",
                                    "Status": "Sold",
                                    "NumberOfSales": "48",
                                    "InventoryQuantity": "0"
                                },
                                {
                                    "ProductID": "729",
                                    "ProductName": "LL Road Frame - Red, 60",
                                    "Status": "Sold",
                                    "NumberOfSales": "375",
                                    "InventoryQuantity": "0"
                                },
                                {
                                    "ProductID": "730",
                                    "ProductName": "LL Road Frame - Red, 62",
                                    "Status": "Sold",
                                    "NumberOfSales": "288",
                                    "InventoryQuantity": "0"
                                },
                                {
                                    "ProductID": "732",
                                    "ProductName": "ML Road Frame - Red, 48",
                                    "Status": "Sold",
                                    "NumberOfSales": "130",
                                    "InventoryQuantity": "0"
                                },
                                {
                                    "ProductID": "733",
                                    "ProductName": "ML Road Frame - Red, 52",
                                    "Status": "Sold",
                                    "NumberOfSales": "44",
                                    "InventoryQuantity": "0"
                                },
                                {
                                    "ProductID": "736",
                                    "ProductName": "LL Road Frame - Black, 44",
                                    "Status": "Sold",
                                    "NumberOfSales": "110",
                                    "InventoryQuantity": "0"
                                },
                                {
                                    "ProductID": "738",
                                    "ProductName": "LL Road Frame - Black, 52",
                                    "Status": "Sold",
                                    "NumberOfSales": "600",
                                    "InventoryQuantity": "0"
                                },
                                {
                                    "ProductID": "739",
                                    "ProductName": "HL Mountain Frame - Silver, 42",
                                    "Status": "Sold",
                                    "NumberOfSales": "167",
                                    "InventoryQuantity": "0"
                                },
                                {
                                    "ProductID": "741",
                                    "ProductName": "HL Mountain Frame - Silver, 48",
                                    "Status": "Sold",
                                    "NumberOfSales": "94",
                                    "InventoryQuantity": "0"
                                },
                                {
                                    "ProductID": "742",
                                    "ProductName": "HL Mountain Frame - Silver, 46",
                                    "Status": "Sold",
                                    "NumberOfSales": "288",
                                    "InventoryQuantity": "0"
                                },
                                {
                                    "ProductID": "743",
                                    "ProductName": "HL Mountain Frame - Black, 42",
                                    "Status": "Sold",
                                    "NumberOfSales": "481",
                                    "InventoryQuantity": "0"
                                },
                                {
                                    "ProductID": "744",
                                    "ProductName": "HL Mountain Frame - Black, 44",
                                    "Status": "Sold",
                                    "NumberOfSales": "13",
                                    "InventoryQuantity": "0"
                                },
                                {
                                    "ProductID": "745",
                                    "ProductName": "HL Mountain Frame - Black, 48",
                                    "Status": "Sold",
                                    "NumberOfSales": "76",
                                    "InventoryQuantity": "0"
                                },
                                {
                                    "ProductID": "747",
                                    "ProductName": "HL Mountain Frame - Black, 38",
                                    "Status": "Sold",
                                    "NumberOfSales": "289",
                                    "InventoryQuantity": "0"
                                },
                                {
                                    "ProductID": "748",
                                    "ProductName": "HL Mountain Frame - Silver, 38",
                                    "Status": "Sold",
                                    "NumberOfSales": "491",
                                    "InventoryQuantity": "0"
                                },
                                {
                                    "ProductID": "749",
                                    "ProductName": "Road-150 Red, 62",
                                    "Status": "Sold",
                                    "NumberOfSales": "470",
                                    "InventoryQuantity": "0"
                                },
                                {
                                    "ProductID": "750",
                                    "ProductName": "Road-150 Red, 44",
                                    "Status": "Sold",
                                    "NumberOfSales": "358",
                                    "InventoryQuantity": "0"
                                },
                                {
                                    "ProductID": "751",
                                    "ProductName": "Road-150 Red, 48",
                                    "Status": "Sold",
                                    "NumberOfSales": "409",
                                    "InventoryQuantity": "0"
                                },
                                {
                                    "ProductID": "752",
                                    "ProductName": "Road-150 Red, 52",
                                    "Status": "Sold",
                                    "NumberOfSales": "378",
                                    "InventoryQuantity": "0"
                                },
                                {
                                    "ProductID": "753",
                                    "ProductName": "Road-150 Red, 56",
                                    "Status": "Sold",
                                    "NumberOfSales": "475",
                                    "InventoryQuantity": "0"
                                },
                                {
                                    "ProductID": "754",
                                    "ProductName": "Road-450 Red, 58",
                                    "Status": "Sold",
                                    "NumberOfSales": "226",
                                    "InventoryQuantity": "0"
                                },
                                {
                                    "ProductID": "755",
                                    "ProductName": "Road-450 Red, 60",
                                    "Status": "Sold",
                                    "NumberOfSales": "164",
                                    "InventoryQuantity": "0"
                                },
                                {
                                    "ProductID": "756",
                                    "ProductName": "Road-450 Red, 44",
                                    "Status": "Sold",
                                    "NumberOfSales": "171",
                                    "InventoryQuantity": "0"
                                },
                                {
                                    "ProductID": "757",
                                    "ProductName": "Road-450 Red, 48",
                                    "Status": "Sold",
                                    "NumberOfSales": "77",
                                    "InventoryQuantity": "0"
                                },
                                {
                                    "ProductID": "758",
                                    "ProductName": "Road-450 Red, 52",
                                    "Status": "Sold",
                                    "NumberOfSales": "267",
                                    "InventoryQuantity": "0"
                                },
                                {
                                    "ProductID": "759",
                                    "ProductName": "Road-650 Red, 58",
                                    "Status": "Sold",
                                    "NumberOfSales": "282",
                                    "InventoryQuantity": "0"
                                },
                                {
                                    "ProductID": "760",
                                    "ProductName": "Road-650 Red, 60",
                                    "Status": "Sold",
                                    "NumberOfSales": "680",
                                    "InventoryQuantity": "0"
                                },
                                {
                                    "ProductID": "761",
                                    "ProductName": "Road-650 Red, 62",
                                    "Status": "Sold",
                                    "NumberOfSales": "638",
                                    "InventoryQuantity": "0"
                                },
                                {
                                    "ProductID": "762",
                                    "ProductName": "Road-650 Red, 44",
                                    "Status": "Sold",
                                    "NumberOfSales": "689",
                                    "InventoryQuantity": "0"
                                },
                                {
                                    "ProductID": "763",
                                    "ProductName": "Road-650 Red, 48",
                                    "Status": "Sold",
                                    "NumberOfSales": "649",
                                    "InventoryQuantity": "0"
                                },
                                {
                                    "ProductID": "764",
                                    "ProductName": "Road-650 Red, 52",
                                    "Status": "Sold",
                                    "NumberOfSales": "440",
                                    "InventoryQuantity": "0"
                                },
                                {
                                    "ProductID": "765",
                                    "ProductName": "Road-650 Black, 58",
                                    "Status": "Sold",
                                    "NumberOfSales": "642",
                                    "InventoryQuantity": "0"
                                },
                                {
                                    "ProductID": "766",
                                    "ProductName": "Road-650 Black, 60",
                                    "Status": "Sold",
                                    "NumberOfSales": "460",
                                    "InventoryQuantity": "0"
                                },
                                {
                                    "ProductID": "767",
                                    "ProductName": "Road-650 Black, 62",
                                    "Status": "Sold",
                                    "NumberOfSales": "293",
                                    "InventoryQuantity": "0"
                                },
                                {
                                    "ProductID": "768",
                                    "ProductName": "Road-650 Black, 44",
                                    "Status": "Sold",
                                    "NumberOfSales": "441",
                                    "InventoryQuantity": "0"
                                },
                                {
                                    "ProductID": "769",
                                    "ProductName": "Road-650 Black, 48",
                                    "Status": "Sold",
                                    "NumberOfSales": "293",
                                    "InventoryQuantity": "0"
                                },
                                {
                                    "ProductID": "770",
                                    "ProductName": "Road-650 Black, 52",
                                    "Status": "Sold",
                                    "NumberOfSales": "703",
                                    "InventoryQuantity": "0"
                                },
                                {
                                    "ProductID": "771",
                                    "ProductName": "Mountain-100 Silver, 38",
                                    "Status": "Sold",
                                    "NumberOfSales": "241",
                                    "InventoryQuantity": "0"
                                },
                                {
                                    "ProductID": "772",
                                    "ProductName": "Mountain-100 Silver, 42",
                                    "Status": "Sold",
                                    "NumberOfSales": "221",
                                    "InventoryQuantity": "0"
                                },
                                {
                                    "ProductID": "773",
                                    "ProductName": "Mountain-100 Silver, 44",
                                    "Status": "Sold",
                                    "NumberOfSales": "233",
                                    "InventoryQuantity": "0"
                                },
                                {
                                    "ProductID": "774",
                                    "ProductName": "Mountain-100 Silver, 48",
                                    "Status": "Sold",
                                    "NumberOfSales": "204",
                                    "InventoryQuantity": "0"
                                },
                                {
                                    "ProductID": "775",
                                    "ProductName": "Mountain-100 Black, 38",
                                    "Status": "Sold",
                                    "NumberOfSales": "234",
                                    "InventoryQuantity": "0"
                                },
                                {
                                    "ProductID": "776",
                                    "ProductName": "Mountain-100 Black, 42",
                                    "Status": "Sold",
                                    "NumberOfSales": "228",
                                    "InventoryQuantity": "0"
                                },
                                {
                                    "ProductID": "777",
                                    "ProductName": "Mountain-100 Black, 44",
                                    "Status": "Sold",
                                    "NumberOfSales": "242",
                                    "InventoryQuantity": "0"
                                },
                                {
                                    "ProductID": "778",
                                    "ProductName": "Mountain-100 Black, 48",
                                    "Status": "Sold",
                                    "NumberOfSales": "243",
                                    "InventoryQuantity": "0"
                                },
                                {
                                    "ProductID": "779",
                                    "ProductName": "Mountain-200 Silver, 38",
                                    "Status": "Sold",
                                    "NumberOfSales": "1094",
                                    "InventoryQuantity": "0"
                                },
                                {
                                    "ProductID": "780",
                                    "ProductName": "Mountain-200 Silver, 42",
                                    "Status": "Sold",
                                    "NumberOfSales": "1040",
                                    "InventoryQuantity": "0"
                                },
                                {
                                    "ProductID": "781",
                                    "ProductName": "Mountain-200 Silver, 46",
                                    "Status": "Sold",
                                    "NumberOfSales": "1054",
                                    "InventoryQuantity": "0"
                                },
                                {
                                    "ProductID": "782",
                                    "ProductName": "Mountain-200 Black, 38",
                                    "Status": "Sold",
                                    "NumberOfSales": "1252",
                                    "InventoryQuantity": "0"
                                },
                                {
                                    "ProductID": "783",
                                    "ProductName": "Mountain-200 Black, 42",
                                    "Status": "Sold",
                                    "NumberOfSales": "1177",
                                    "InventoryQuantity": "0"
                                },
                                {
                                    "ProductID": "784",
                                    "ProductName": "Mountain-200 Black, 46",
                                    "Status": "Sold",
                                    "NumberOfSales": "1059",
                                    "InventoryQuantity": "0"
                                },
                                {
                                    "ProductID": "785",
                                    "ProductName": "Mountain-300 Black, 38",
                                    "Status": "Sold",
                                    "NumberOfSales": "220",
                                    "InventoryQuantity": "0"
                                },
                                {
                                    "ProductID": "786",
                                    "ProductName": "Mountain-300 Black, 40",
                                    "Status": "Sold",
                                    "NumberOfSales": "223",
                                    "InventoryQuantity": "0"
                                },
                                {
                                    "ProductID": "787",
                                    "ProductName": "Mountain-300 Black, 44",
                                    "Status": "Sold",
                                    "NumberOfSales": "228",
                                    "InventoryQuantity": "0"
                                },
                                {
                                    "ProductID": "788",
                                    "ProductName": "Mountain-300 Black, 48",
                                    "Status": "Sold",
                                    "NumberOfSales": "223",
                                    "InventoryQuantity": "0"
                                },
                                {
                                    "ProductID": "789",
                                    "ProductName": "Road-250 Red, 44",
                                    "Status": "Sold",
                                    "NumberOfSales": "364",
                                    "InventoryQuantity": "0"
                                },
                                {
                                    "ProductID": "790",
                                    "ProductName": "Road-250 Red, 48",
                                    "Status": "Sold",
                                    "NumberOfSales": "377",
                                    "InventoryQuantity": "0"
                                },
                                {
                                    "ProductID": "791",
                                    "ProductName": "Road-250 Red, 52",
                                    "Status": "Sold",
                                    "NumberOfSales": "314",
                                    "InventoryQuantity": "0"
                                },
                                {
                                    "ProductID": "792",
                                    "ProductName": "Road-250 Red, 58",
                                    "Status": "Sold",
                                    "NumberOfSales": "526",
                                    "InventoryQuantity": "0"
                                },
                                {
                                    "ProductID": "793",
                                    "ProductName": "Road-250 Black, 44",
                                    "Status": "Sold",
                                    "NumberOfSales": "705",
                                    "InventoryQuantity": "0"
                                },
                                {
                                    "ProductID": "794",
                                    "ProductName": "Road-250 Black, 48",
                                    "Status": "Sold",
                                    "NumberOfSales": "712",
                                    "InventoryQuantity": "0"
                                },
                                {
                                    "ProductID": "795",
                                    "ProductName": "Road-250 Black, 52",
                                    "Status": "Sold",
                                    "NumberOfSales": "667",
                                    "InventoryQuantity": "0"
                                },
                                {
                                    "ProductID": "796",
                                    "ProductName": "Road-250 Black, 58",
                                    "Status": "Sold",
                                    "NumberOfSales": "486",
                                    "InventoryQuantity": "0"
                                },
                                {
                                    "ProductID": "797",
                                    "ProductName": "Road-550-W Yellow, 38",
                                    "Status": "Sold",
                                    "NumberOfSales": "725",
                                    "InventoryQuantity": "0"
                                },
                                {
                                    "ProductID": "798",
                                    "ProductName": "Road-550-W Yellow, 40",
                                    "Status": "Sold",
                                    "NumberOfSales": "687",
                                    "InventoryQuantity": "0"
                                },
                                {
                                    "ProductID": "799",
                                    "ProductName": "Road-550-W Yellow, 42",
                                    "Status": "Sold",
                                    "NumberOfSales": "648",
                                    "InventoryQuantity": "0"
                                },
                                {
                                    "ProductID": "800",
                                    "ProductName": "Road-550-W Yellow, 44",
                                    "Status": "Sold",
                                    "NumberOfSales": "495",
                                    "InventoryQuantity": "0"
                                },
                                {
                                    "ProductID": "801",
                                    "ProductName": "Road-550-W Yellow, 48",
                                    "Status": "Sold",
                                    "NumberOfSales": "723",
                                    "InventoryQuantity": "0"
                                },
                                {
                                    "ProductID": "802",
                                    "ProductName": "LL Fork",
                                    "Status": "Sold",
                                    "NumberOfSales": "83",
                                    "InventoryQuantity": "0"
                                },
                                {
                                    "ProductID": "804",
                                    "ProductName": "HL Fork",
                                    "Status": "Sold",
                                    "NumberOfSales": "117",
                                    "InventoryQuantity": "0"
                                },
                                {
                                    "ProductID": "805",
                                    "ProductName": "LL Headset",
                                    "Status": "Sold",
                                    "NumberOfSales": "46",
                                    "InventoryQuantity": "0"
                                },
                                {
                                    "ProductID": "806",
                                    "ProductName": "ML Headset",
                                    "Status": "Sold",
                                    "NumberOfSales": "110",
                                    "InventoryQuantity": "0"
                                },
                                {
                                    "ProductID": "807",
                                    "ProductName": "HL Headset",
                                    "Status": "Sold",
                                    "NumberOfSales": "110",
                                    "InventoryQuantity": "0"
                                },
                                {
                                    "ProductID": "808",
                                    "ProductName": "LL Mountain Handlebars",
                                    "Status": "Sold",
                                    "NumberOfSales": "301",
                                    "InventoryQuantity": "0"
                                },
                                {
                                    "ProductID": "809",
                                    "ProductName": "ML Mountain Handlebars",
                                    "Status": "Sold",
                                    "NumberOfSales": "507",
                                    "InventoryQuantity": "0"
                                },
                                {
                                    "ProductID": "810",
                                    "ProductName": "HL Mountain Handlebars",
                                    "Status": "Sold",
                                    "NumberOfSales": "216",
                                    "InventoryQuantity": "0"
                                },
                                {
                                    "ProductID": "811",
                                    "ProductName": "LL Road Handlebars",
                                    "Status": "Sold",
                                    "NumberOfSales": "98",
                                    "InventoryQuantity": "0"
                                },
                                {
                                    "ProductID": "813",
                                    "ProductName": "HL Road Handlebars",
                                    "Status": "Sold",
                                    "NumberOfSales": "270",
                                    "InventoryQuantity": "0"
                                },
                                {
                                    "ProductID": "814",
                                    "ProductName": "ML Mountain Frame - Black, 38",
                                    "Status": "Sold",
                                    "NumberOfSales": "226",
                                    "InventoryQuantity": "0"
                                },
                                {
                                    "ProductID": "815",
                                    "ProductName": "LL Mountain Front Wheel",
                                    "Status": "Sold",
                                    "NumberOfSales": "232",
                                    "InventoryQuantity": "0"
                                },
                                {
                                    "ProductID": "816",
                                    "ProductName": "ML Mountain Front Wheel",
                                    "Status": "Sold",
                                    "NumberOfSales": "114",
                                    "InventoryQuantity": "0"
                                },
                                {
                                    "ProductID": "817",
                                    "ProductName": "HL Mountain Front Wheel",
                                    "Status": "Sold",
                                    "NumberOfSales": "104",
                                    "InventoryQuantity": "0"
                                },
                                {
                                    "ProductID": "819",
                                    "ProductName": "ML Road Front Wheel",
                                    "Status": "Sold",
                                    "NumberOfSales": "195",
                                    "InventoryQuantity": "0"
                                },
                                {
                                    "ProductID": "820",
                                    "ProductName": "HL Road Front Wheel",
                                    "Status": "Sold",
                                    "NumberOfSales": "206",
                                    "InventoryQuantity": "0"
                                },
                                {
                                    "ProductID": "822",
                                    "ProductName": "ML Road Frame-W - Yellow, 38",
                                    "Status": "Sold",
                                    "NumberOfSales": "356",
                                    "InventoryQuantity": "0"
                                },
                                {
                                    "ProductID": "823",
                                    "ProductName": "LL Mountain Rear Wheel",
                                    "Status": "Sold",
                                    "NumberOfSales": "148",
                                    "InventoryQuantity": "0"
                                },
                                {
                                    "ProductID": "824",
                                    "ProductName": "ML Mountain Rear Wheel",
                                    "Status": "Sold",
                                    "NumberOfSales": "265",
                                    "InventoryQuantity": "0"
                                },
                                {
                                    "ProductID": "825",
                                    "ProductName": "HL Mountain Rear Wheel",
                                    "Status": "Sold",
                                    "NumberOfSales": "258",
                                    "InventoryQuantity": "0"
                                },
                                {
                                    "ProductID": "826",
                                    "ProductName": "LL Road Rear Wheel",
                                    "Status": "Sold",
                                    "NumberOfSales": "305",
                                    "InventoryQuantity": "0"
                                },
                                {
                                    "ProductID": "827",
                                    "ProductName": "ML Road Rear Wheel",
                                    "Status": "Sold",
                                    "NumberOfSales": "31",
                                    "InventoryQuantity": "0"
                                },
                                {
                                    "ProductID": "828",
                                    "ProductName": "HL Road Rear Wheel",
                                    "Status": "Sold",
                                    "NumberOfSales": "46",
                                    "InventoryQuantity": "0"
                                },
                                {
                                    "ProductID": "830",
                                    "ProductName": "ML Mountain Frame - Black, 40",
                                    "Status": "Sold",
                                    "NumberOfSales": "33",
                                    "InventoryQuantity": "0"
                                },
                                {
                                    "ProductID": "831",
                                    "ProductName": "ML Mountain Frame - Black, 44",
                                    "Status": "Sold",
                                    "NumberOfSales": "198",
                                    "InventoryQuantity": "0"
                                },
                                {
                                    "ProductID": "832",
                                    "ProductName": "ML Mountain Frame - Black, 48",
                                    "Status": "Sold",
                                    "NumberOfSales": "256",
                                    "InventoryQuantity": "0"
                                },
                                {
                                    "ProductID": "833",
                                    "ProductName": "ML Road Frame-W - Yellow, 40",
                                    "Status": "Sold",
                                    "NumberOfSales": "88",
                                    "InventoryQuantity": "0"
                                },
                                {
                                    "ProductID": "835",
                                    "ProductName": "ML Road Frame-W - Yellow, 44",
                                    "Status": "Sold",
                                    "NumberOfSales": "489",
                                    "InventoryQuantity": "0"
                                },
                                {
                                    "ProductID": "836",
                                    "ProductName": "ML Road Frame-W - Yellow, 48",
                                    "Status": "Sold",
                                    "NumberOfSales": "350",
                                    "InventoryQuantity": "0"
                                },
                                {
                                    "ProductID": "838",
                                    "ProductName": "HL Road Frame - Black, 44",
                                    "Status": "Sold",
                                    "NumberOfSales": "201",
                                    "InventoryQuantity": "0"
                                },
                                {
                                    "ProductID": "839",
                                    "ProductName": "HL Road Frame - Black, 48",
                                    "Status": "Sold",
                                    "NumberOfSales": "47",
                                    "InventoryQuantity": "0"
                                },
                                {
                                    "ProductID": "841",
                                    "ProductName": "Men's Sports Shorts, S",
                                    "Status": "Sold",
                                    "NumberOfSales": "160",
                                    "InventoryQuantity": "0"
                                },
                                {
                                    "ProductID": "843",
                                    "ProductName": "Cable Lock",
                                    "Status": "Sold",
                                    "NumberOfSales": "260",
                                    "InventoryQuantity": "0"
                                },
                                {
                                    "ProductID": "844",
                                    "ProductName": "Minipump",
                                    "Status": "Sold",
                                    "NumberOfSales": "267",
                                    "InventoryQuantity": "0"
                                },
                                {
                                    "ProductID": "849",
                                    "ProductName": "Men's Sports Shorts, M",
                                    "Status": "Sold",
                                    "NumberOfSales": "283",
                                    "InventoryQuantity": "0"
                                },
                                {
                                    "ProductID": "850",
                                    "ProductName": "Men's Sports Shorts, L",
                                    "Status": "Sold",
                                    "NumberOfSales": "131",
                                    "InventoryQuantity": "0"
                                },
                                {
                                    "ProductID": "852",
                                    "ProductName": "Women's Tights, S",
                                    "Status": "Sold",
                                    "NumberOfSales": "422",
                                    "InventoryQuantity": "0"
                                },
                                {
                                    "ProductID": "853",
                                    "ProductName": "Women's Tights, M",
                                    "Status": "Sold",
                                    "NumberOfSales": "114",
                                    "InventoryQuantity": "0"
                                },
                                {
                                    "ProductID": "854",
                                    "ProductName": "Women's Tights, L",
                                    "Status": "Sold",
                                    "NumberOfSales": "441",
                                    "InventoryQuantity": "0"
                                },
                                {
                                    "ProductID": "855",
                                    "ProductName": "Men's Bib-Shorts, S",
                                    "Status": "Sold",
                                    "NumberOfSales": "231",
                                    "InventoryQuantity": "0"
                                },
                                {
                                    "ProductID": "856",
                                    "ProductName": "Men's Bib-Shorts, M",
                                    "Status": "Sold",
                                    "NumberOfSales": "353",
                                    "InventoryQuantity": "0"
                                },
                                {
                                    "ProductID": "857",
                                    "ProductName": "Men's Bib-Shorts, L",
                                    "Status": "Sold",
                                    "NumberOfSales": "178",
                                    "InventoryQuantity": "0"
                                },
                                {
                                    "ProductID": "858",
                                    "ProductName": "Half-Finger Gloves, S",
                                    "Status": "Sold",
                                    "NumberOfSales": "883",
                                    "InventoryQuantity": "0"
                                },
                                {
                                    "ProductID": "859",
                                    "ProductName": "Half-Finger Gloves, M",
                                    "Status": "Sold",
                                    "NumberOfSales": "1086",
                                    "InventoryQuantity": "0"
                                },
                                {
                                    "ProductID": "860",
                                    "ProductName": "Half-Finger Gloves, L",
                                    "Status": "Sold",
                                    "NumberOfSales": "673",
                                    "InventoryQuantity": "0"
                                },
                                {
                                    "ProductID": "861",
                                    "ProductName": "Full-Finger Gloves, S",
                                    "Status": "Sold",
                                    "NumberOfSales": "240",
                                    "InventoryQuantity": "0"
                                },
                                {
                                    "ProductID": "862",
                                    "ProductName": "Full-Finger Gloves, M",
                                    "Status": "Sold",
                                    "NumberOfSales": "359",
                                    "InventoryQuantity": "0"
                                },
                                {
                                    "ProductID": "863",
                                    "ProductName": "Full-Finger Gloves, L",
                                    "Status": "Sold",
                                    "NumberOfSales": "364",
                                    "InventoryQuantity": "0"
                                },
                                {
                                    "ProductID": "864",
                                    "ProductName": "Classic Vest, S",
                                    "Status": "Sold",
                                    "NumberOfSales": "682",
                                    "InventoryQuantity": "0"
                                },
                                {
                                    "ProductID": "865",
                                    "ProductName": "Classic Vest, M",
                                    "Status": "Sold",
                                    "NumberOfSales": "555",
                                    "InventoryQuantity": "0"
                                },
                                {
                                    "ProductID": "866",
                                    "ProductName": "Classic Vest, L",
                                    "Status": "Sold",
                                    "NumberOfSales": "201",
                                    "InventoryQuantity": "0"
                                },
                                {
                                    "ProductID": "867",
                                    "ProductName": "Women's Mountain Shorts, S",
                                    "Status": "Sold",
                                    "NumberOfSales": "648",
                                    "InventoryQuantity": "0"
                                },
                                {
                                    "ProductID": "868",
                                    "ProductName": "Women's Mountain Shorts, M",
                                    "Status": "Sold",
                                    "NumberOfSales": "681",
                                    "InventoryQuantity": "0"
                                },
                                {
                                    "ProductID": "869",
                                    "ProductName": "Women's Mountain Shorts, L",
                                    "Status": "Sold",
                                    "NumberOfSales": "707",
                                    "InventoryQuantity": "0"
                                },
                                {
                                    "ProductID": "870",
                                    "ProductName": "Water Bottle - 30 oz.",
                                    "Status": "Sold",
                                    "NumberOfSales": "4688",
                                    "InventoryQuantity": "0"
                                },
                                {
                                    "ProductID": "871",
                                    "ProductName": "Mountain Bottle Cage",
                                    "Status": "Sold",
                                    "NumberOfSales": "2025",
                                    "InventoryQuantity": "0"
                                },
                                {
                                    "ProductID": "872",
                                    "ProductName": "Road Bottle Cage",
                                    "Status": "Sold",
                                    "NumberOfSales": "1712",
                                    "InventoryQuantity": "0"
                                },
                                {
                                    "ProductID": "873",
                                    "ProductName": "Patch Kit/8 Patches",
                                    "Status": "Sold",
                                    "NumberOfSales": "3354",
                                    "InventoryQuantity": "0"
                                },
                                {
                                    "ProductID": "874",
                                    "ProductName": "Racing Socks, M",
                                    "Status": "Sold",
                                    "NumberOfSales": "593",
                                    "InventoryQuantity": "0"
                                },
                                {
                                    "ProductID": "875",
                                    "ProductName": "Racing Socks, L",
                                    "Status": "Sold",
                                    "NumberOfSales": "604",
                                    "InventoryQuantity": "0"
                                },
                                {
                                    "ProductID": "876",
                                    "ProductName": "Hitch Rack - 4-Bike",
                                    "Status": "Sold",
                                    "NumberOfSales": "796",
                                    "InventoryQuantity": "0"
                                },
                                {
                                    "ProductID": "877",
                                    "ProductName": "Bike Wash - Dissolver",
                                    "Status": "Sold",
                                    "NumberOfSales": "1327",
                                    "InventoryQuantity": "0"
                                },
                                {
                                    "ProductID": "878",
                                    "ProductName": "Fender Set - Mountain",
                                    "Status": "Sold",
                                    "NumberOfSales": "2121",
                                    "InventoryQuantity": "0"
                                },
                                {
                                    "ProductID": "879",
                                    "ProductName": "All-Purpose Bike Stand",
                                    "Status": "Sold",
                                    "NumberOfSales": "249",
                                    "InventoryQuantity": "0"
                                },
                                {
                                    "ProductID": "880",
                                    "ProductName": "Hydration Pack - 70 oz.",
                                    "Status": "Sold",
                                    "NumberOfSales": "1074",
                                    "InventoryQuantity": "0"
                                },
                                {
                                    "ProductID": "881",
                                    "ProductName": "Short-Sleeve Classic Jersey, S",
                                    "Status": "Sold",
                                    "NumberOfSales": "717",
                                    "InventoryQuantity": "0"
                                },
                                {
                                    "ProductID": "882",
                                    "ProductName": "Short-Sleeve Classic Jersey, M",
                                    "Status": "Sold",
                                    "NumberOfSales": "407",
                                    "InventoryQuantity": "0"
                                },
                                {
                                    "ProductID": "883",
                                    "ProductName": "Short-Sleeve Classic Jersey, L",
                                    "Status": "Sold",
                                    "NumberOfSales": "805",
                                    "InventoryQuantity": "0"
                                },
                                {
                                    "ProductID": "884",
                                    "ProductName": "Short-Sleeve Classic Jersey, XL",
                                    "Status": "Sold",
                                    "NumberOfSales": "904",
                                    "InventoryQuantity": "0"
                                },
                                {
                                    "ProductID": "885",
                                    "ProductName": "HL Touring Frame - Yellow, 60",
                                    "Status": "Sold",
                                    "NumberOfSales": "135",
                                    "InventoryQuantity": "0"
                                },
                                {
                                    "ProductID": "886",
                                    "ProductName": "LL Touring Frame - Yellow, 62",
                                    "Status": "Sold",
                                    "NumberOfSales": "130",
                                    "InventoryQuantity": "0"
                                },
                                {
                                    "ProductID": "887",
                                    "ProductName": "HL Touring Frame - Yellow, 46",
                                    "Status": "Sold",
                                    "NumberOfSales": "41",
                                    "InventoryQuantity": "0"
                                },
                                {
                                    "ProductID": "888",
                                    "ProductName": "HL Touring Frame - Yellow, 50",
                                    "Status": "Sold",
                                    "NumberOfSales": "39",
                                    "InventoryQuantity": "0"
                                },
                                {
                                    "ProductID": "889",
                                    "ProductName": "HL Touring Frame - Yellow, 54",
                                    "Status": "Sold",
                                    "NumberOfSales": "161",
                                    "InventoryQuantity": "0"
                                },
                                {
                                    "ProductID": "890",
                                    "ProductName": "HL Touring Frame - Blue, 46",
                                    "Status": "Sold",
                                    "NumberOfSales": "58",
                                    "InventoryQuantity": "0"
                                },
                                {
                                    "ProductID": "891",
                                    "ProductName": "HL Touring Frame - Blue, 50",
                                    "Status": "Sold",
                                    "NumberOfSales": "58",
                                    "InventoryQuantity": "0"
                                },
                                {
                                    "ProductID": "892",
                                    "ProductName": "HL Touring Frame - Blue, 54",
                                    "Status": "Sold",
                                    "NumberOfSales": "169",
                                    "InventoryQuantity": "0"
                                },
                                {
                                    "ProductID": "893",
                                    "ProductName": "HL Touring Frame - Blue, 60",
                                    "Status": "Sold",
                                    "NumberOfSales": "140",
                                    "InventoryQuantity": "0"
                                },
                                {
                                    "ProductID": "894",
                                    "ProductName": "Rear Derailleur",
                                    "Status": "Sold",
                                    "NumberOfSales": "145",
                                    "InventoryQuantity": "0"
                                },
                                {
                                    "ProductID": "895",
                                    "ProductName": "LL Touring Frame - Blue, 50",
                                    "Status": "Sold",
                                    "NumberOfSales": "126",
                                    "InventoryQuantity": "0"
                                },
                                {
                                    "ProductID": "896",
                                    "ProductName": "LL Touring Frame - Blue, 54",
                                    "Status": "Sold",
                                    "NumberOfSales": "99",
                                    "InventoryQuantity": "0"
                                },
                                {
                                    "ProductID": "897",
                                    "ProductName": "LL Touring Frame - Blue, 58",
                                    "Status": "Sold",
                                    "NumberOfSales": "2",
                                    "InventoryQuantity": "0"
                                },
                                {
                                    "ProductID": "898",
                                    "ProductName": "LL Touring Frame - Blue, 62",
                                    "Status": "Sold",
                                    "NumberOfSales": "9",
                                    "InventoryQuantity": "0"
                                },
                                {
                                    "ProductID": "899",
                                    "ProductName": "LL Touring Frame - Yellow, 44",
                                    "Status": "Sold",
                                    "NumberOfSales": "117",
                                    "InventoryQuantity": "0"
                                },
                                {
                                    "ProductID": "900",
                                    "ProductName": "LL Touring Frame - Yellow, 50",
                                    "Status": "Sold",
                                    "NumberOfSales": "110",
                                    "InventoryQuantity": "0"
                                },
                                {
                                    "ProductID": "902",
                                    "ProductName": "LL Touring Frame - Yellow, 58",
                                    "Status": "Sold",
                                    "NumberOfSales": "20",
                                    "InventoryQuantity": "0"
                                },
                                {
                                    "ProductID": "903",
                                    "ProductName": "LL Touring Frame - Blue, 44",
                                    "Status": "Sold",
                                    "NumberOfSales": "14",
                                    "InventoryQuantity": "0"
                                },
                                {
                                    "ProductID": "904",
                                    "ProductName": "ML Mountain Frame-W - Silver, 40",
                                    "Status": "Sold",
                                    "NumberOfSales": "253",
                                    "InventoryQuantity": "0"
                                },
                                {
                                    "ProductID": "905",
                                    "ProductName": "ML Mountain Frame-W - Silver, 42",
                                    "Status": "Sold",
                                    "NumberOfSales": "230",
                                    "InventoryQuantity": "0"
                                },
                                {
                                    "ProductID": "906",
                                    "ProductName": "ML Mountain Frame-W - Silver, 46",
                                    "Status": "Sold",
                                    "NumberOfSales": "87",
                                    "InventoryQuantity": "0"
                                },
                                {
                                    "ProductID": "907",
                                    "ProductName": "Rear Brakes",
                                    "Status": "Sold",
                                    "NumberOfSales": "113",
                                    "InventoryQuantity": "0"
                                },
                                {
                                    "ProductID": "908",
                                    "ProductName": "LL Mountain Seat/Saddle",
                                    "Status": "Sold",
                                    "NumberOfSales": "153",
                                    "InventoryQuantity": "0"
                                },
                                {
                                    "ProductID": "909",
                                    "ProductName": "ML Mountain Seat/Saddle",
                                    "Status": "Sold",
                                    "NumberOfSales": "138",
                                    "InventoryQuantity": "0"
                                },
                                {
                                    "ProductID": "910",
                                    "ProductName": "HL Mountain Seat/Saddle",
                                    "Status": "Sold",
                                    "NumberOfSales": "222",
                                    "InventoryQuantity": "0"
                                },
                                {
                                    "ProductID": "911",
                                    "ProductName": "LL Road Seat/Saddle",
                                    "Status": "Sold",
                                    "NumberOfSales": "6",
                                    "InventoryQuantity": "0"
                                },
                                {
                                    "ProductID": "913",
                                    "ProductName": "HL Road Seat/Saddle",
                                    "Status": "Sold",
                                    "NumberOfSales": "60",
                                    "InventoryQuantity": "0"
                                },
                                {
                                    "ProductID": "914",
                                    "ProductName": "LL Touring Seat/Saddle",
                                    "Status": "Sold",
                                    "NumberOfSales": "43",
                                    "InventoryQuantity": "0"
                                },
                                {
                                    "ProductID": "915",
                                    "ProductName": "ML Touring Seat/Saddle",
                                    "Status": "Sold",
                                    "NumberOfSales": "41",
                                    "InventoryQuantity": "0"
                                },
                                {
                                    "ProductID": "916",
                                    "ProductName": "HL Touring Seat/Saddle",
                                    "Status": "Sold",
                                    "NumberOfSales": "177",
                                    "InventoryQuantity": "0"
                                },
                                {
                                    "ProductID": "917",
                                    "ProductName": "LL Mountain Frame - Silver, 42",
                                    "Status": "Sold",
                                    "NumberOfSales": "224",
                                    "InventoryQuantity": "0"
                                },
                                {
                                    "ProductID": "918",
                                    "ProductName": "LL Mountain Frame - Silver, 44",
                                    "Status": "Sold",
                                    "NumberOfSales": "159",
                                    "InventoryQuantity": "0"
                                },
                                {
                                    "ProductID": "919",
                                    "ProductName": "LL Mountain Frame - Silver, 48",
                                    "Status": "Sold",
                                    "NumberOfSales": "16",
                                    "InventoryQuantity": "0"
                                },
                                {
                                    "ProductID": "920",
                                    "ProductName": "LL Mountain Frame - Silver, 52",
                                    "Status": "Sold",
                                    "NumberOfSales": "159",
                                    "InventoryQuantity": "0"
                                },
                                {
                                    "ProductID": "921",
                                    "ProductName": "Mountain Tire Tube",
                                    "Status": "Sold",
                                    "NumberOfSales": "3095",
                                    "InventoryQuantity": "0"
                                },
                                {
                                    "ProductID": "922",
                                    "ProductName": "Road Tire Tube",
                                    "Status": "Sold",
                                    "NumberOfSales": "2376",
                                    "InventoryQuantity": "0"
                                },
                                {
                                    "ProductID": "923",
                                    "ProductName": "Touring Tire Tube",
                                    "Status": "Sold",
                                    "NumberOfSales": "1488",
                                    "InventoryQuantity": "0"
                                },
                                {
                                    "ProductID": "924",
                                    "ProductName": "LL Mountain Frame - Black, 42",
                                    "Status": "Sold",
                                    "NumberOfSales": "162",
                                    "InventoryQuantity": "0"
                                },
                                {
                                    "ProductID": "925",
                                    "ProductName": "LL Mountain Frame - Black, 44",
                                    "Status": "Sold",
                                    "NumberOfSales": "227",
                                    "InventoryQuantity": "0"
                                },
                                {
                                    "ProductID": "926",
                                    "ProductName": "LL Mountain Frame - Black, 48",
                                    "Status": "Sold",
                                    "NumberOfSales": "164",
                                    "InventoryQuantity": "0"
                                },
                                {
                                    "ProductID": "927",
                                    "ProductName": "LL Mountain Frame - Black, 52",
                                    "Status": "Sold",
                                    "NumberOfSales": "9",
                                    "InventoryQuantity": "0"
                                },
                                {
                                    "ProductID": "928",
                                    "ProductName": "LL Mountain Tire",
                                    "Status": "Sold",
                                    "NumberOfSales": "862",
                                    "InventoryQuantity": "0"
                                },
                                {
                                    "ProductID": "929",
                                    "ProductName": "ML Mountain Tire",
                                    "Status": "Sold",
                                    "NumberOfSales": "1161",
                                    "InventoryQuantity": "0"
                                },
                                {
                                    "ProductID": "930",
                                    "ProductName": "HL Mountain Tire",
                                    "Status": "Sold",
                                    "NumberOfSales": "1396",
                                    "InventoryQuantity": "0"
                                },
                                {
                                    "ProductID": "931",
                                    "ProductName": "LL Road Tire",
                                    "Status": "Sold",
                                    "NumberOfSales": "1044",
                                    "InventoryQuantity": "0"
                                },
                                {
                                    "ProductID": "932",
                                    "ProductName": "ML Road Tire",
                                    "Status": "Sold",
                                    "NumberOfSales": "926",
                                    "InventoryQuantity": "0"
                                },
                                {
                                    "ProductID": "933",
                                    "ProductName": "HL Road Tire",
                                    "Status": "Sold",
                                    "NumberOfSales": "858",
                                    "InventoryQuantity": "0"
                                },
                                {
                                    "ProductID": "934",
                                    "ProductName": "Touring Tire",
                                    "Status": "Sold",
                                    "NumberOfSales": "935",
                                    "InventoryQuantity": "0"
                                },
                                {
                                    "ProductID": "935",
                                    "ProductName": "LL Mountain Pedal",
                                    "Status": "Sold",
                                    "NumberOfSales": "195",
                                    "InventoryQuantity": "0"
                                },
                                {
                                    "ProductID": "936",
                                    "ProductName": "ML Mountain Pedal",
                                    "Status": "Sold",
                                    "NumberOfSales": "158",
                                    "InventoryQuantity": "0"
                                },
                                {
                                    "ProductID": "937",
                                    "ProductName": "HL Mountain Pedal",
                                    "Status": "Sold",
                                    "NumberOfSales": "255",
                                    "InventoryQuantity": "0"
                                },
                                {
                                    "ProductID": "938",
                                    "ProductName": "LL Road Pedal",
                                    "Status": "Sold",
                                    "NumberOfSales": "309",
                                    "InventoryQuantity": "0"
                                },
                                {
                                    "ProductID": "939",
                                    "ProductName": "ML Road Pedal",
                                    "Status": "Sold",
                                    "NumberOfSales": "265",
                                    "InventoryQuantity": "0"
                                },
                                {
                                    "ProductID": "940",
                                    "ProductName": "HL Road Pedal",
                                    "Status": "Sold",
                                    "NumberOfSales": "264",
                                    "InventoryQuantity": "0"
                                },
                                {
                                    "ProductID": "941",
                                    "ProductName": "Touring Pedal",
                                    "Status": "Sold",
                                    "NumberOfSales": "71",
                                    "InventoryQuantity": "0"
                                },
                                {
                                    "ProductID": "942",
                                    "ProductName": "ML Mountain Frame-W - Silver, 38",
                                    "Status": "Sold",
                                    "NumberOfSales": "5",
                                    "InventoryQuantity": "0"
                                },
                                {
                                    "ProductID": "943",
                                    "ProductName": "LL Mountain Frame - Black, 40",
                                    "Status": "Sold",
                                    "NumberOfSales": "6",
                                    "InventoryQuantity": "0"
                                },
                                {
                                    "ProductID": "944",
                                    "ProductName": "LL Mountain Frame - Silver, 40",
                                    "Status": "Sold",
                                    "NumberOfSales": "164",
                                    "InventoryQuantity": "0"
                                },
                                {
                                    "ProductID": "945",
                                    "ProductName": "Front Derailleur",
                                    "Status": "Sold",
                                    "NumberOfSales": "257",
                                    "InventoryQuantity": "0"
                                },
                                {
                                    "ProductID": "946",
                                    "ProductName": "LL Touring Handlebars",
                                    "Status": "Sold",
                                    "NumberOfSales": "30",
                                    "InventoryQuantity": "0"
                                },
                                {
                                    "ProductID": "947",
                                    "ProductName": "HL Touring Handlebars",
                                    "Status": "Sold",
                                    "NumberOfSales": "109",
                                    "InventoryQuantity": "0"
                                },
                                {
                                    "ProductID": "948",
                                    "ProductName": "Front Brakes",
                                    "Status": "Sold",
                                    "NumberOfSales": "266",
                                    "InventoryQuantity": "0"
                                },
                                {
                                    "ProductID": "949",
                                    "ProductName": "LL Crankset",
                                    "Status": "Sold",
                                    "NumberOfSales": "176",
                                    "InventoryQuantity": "0"
                                },
                                {
                                    "ProductID": "950",
                                    "ProductName": "ML Crankset",
                                    "Status": "Sold",
                                    "NumberOfSales": "28",
                                    "InventoryQuantity": "0"
                                },
                                {
                                    "ProductID": "951",
                                    "ProductName": "HL Crankset",
                                    "Status": "Sold",
                                    "NumberOfSales": "219",
                                    "InventoryQuantity": "0"
                                },
                                {
                                    "ProductID": "952",
                                    "ProductName": "Chain",
                                    "Status": "Sold",
                                    "NumberOfSales": "250",
                                    "InventoryQuantity": "0"
                                },
                                {
                                    "ProductID": "953",
                                    "ProductName": "Touring-2000 Blue, 60",
                                    "Status": "Sold",
                                    "NumberOfSales": "346",
                                    "InventoryQuantity": "0"
                                },
                                {
                                    "ProductID": "954",
                                    "ProductName": "Touring-1000 Yellow, 46",
                                    "Status": "Sold",
                                    "NumberOfSales": "440",
                                    "InventoryQuantity": "0"
                                },
                                {
                                    "ProductID": "955",
                                    "ProductName": "Touring-1000 Yellow, 50",
                                    "Status": "Sold",
                                    "NumberOfSales": "342",
                                    "InventoryQuantity": "0"
                                },
                                {
                                    "ProductID": "956",
                                    "ProductName": "Touring-1000 Yellow, 54",
                                    "Status": "Sold",
                                    "NumberOfSales": "271",
                                    "InventoryQuantity": "0"
                                },
                                {
                                    "ProductID": "957",
                                    "ProductName": "Touring-1000 Yellow, 60",
                                    "Status": "Sold",
                                    "NumberOfSales": "433",
                                    "InventoryQuantity": "0"
                                },
                                {
                                    "ProductID": "958",
                                    "ProductName": "Touring-3000 Blue, 54",
                                    "Status": "Sold",
                                    "NumberOfSales": "281",
                                    "InventoryQuantity": "0"
                                },
                                {
                                    "ProductID": "959",
                                    "ProductName": "Touring-3000 Blue, 58",
                                    "Status": "Sold",
                                    "NumberOfSales": "239",
                                    "InventoryQuantity": "0"
                                },
                                {
                                    "ProductID": "960",
                                    "ProductName": "Touring-3000 Blue, 62",
                                    "Status": "Sold",
                                    "NumberOfSales": "157",
                                    "InventoryQuantity": "0"
                                },
                                {
                                    "ProductID": "961",
                                    "ProductName": "Touring-3000 Yellow, 44",
                                    "Status": "Sold",
                                    "NumberOfSales": "318",
                                    "InventoryQuantity": "0"
                                },
                                {
                                    "ProductID": "962",
                                    "ProductName": "Touring-3000 Yellow, 50",
                                    "Status": "Sold",
                                    "NumberOfSales": "280",
                                    "InventoryQuantity": "0"
                                },
                                {
                                    "ProductID": "963",
                                    "ProductName": "Touring-3000 Yellow, 54",
                                    "Status": "Sold",
                                    "NumberOfSales": "227",
                                    "InventoryQuantity": "0"
                                },
                                {
                                    "ProductID": "964",
                                    "ProductName": "Touring-3000 Yellow, 58",
                                    "Status": "Sold",
                                    "NumberOfSales": "159",
                                    "InventoryQuantity": "0"
                                },
                                {
                                    "ProductID": "965",
                                    "ProductName": "Touring-3000 Yellow, 62",
                                    "Status": "Sold",
                                    "NumberOfSales": "319",
                                    "InventoryQuantity": "0"
                                },
                                {
                                    "ProductID": "966",
                                    "ProductName": "Touring-1000 Blue, 46",
                                    "Status": "Sold",
                                    "NumberOfSales": "442",
                                    "InventoryQuantity": "0"
                                },
                                {
                                    "ProductID": "967",
                                    "ProductName": "Touring-1000 Blue, 50",
                                    "Status": "Sold",
                                    "NumberOfSales": "336",
                                    "InventoryQuantity": "0"
                                },
                                {
                                    "ProductID": "968",
                                    "ProductName": "Touring-1000 Blue, 54",
                                    "Status": "Sold",
                                    "NumberOfSales": "277",
                                    "InventoryQuantity": "0"
                                },
                                {
                                    "ProductID": "969",
                                    "ProductName": "Touring-1000 Blue, 60",
                                    "Status": "Sold",
                                    "NumberOfSales": "439",
                                    "InventoryQuantity": "0"
                                },
                                {
                                    "ProductID": "970",
                                    "ProductName": "Touring-2000 Blue, 46",
                                    "Status": "Sold",
                                    "NumberOfSales": "283",
                                    "InventoryQuantity": "0"
                                },
                                {
                                    "ProductID": "971",
                                    "ProductName": "Touring-2000 Blue, 50",
                                    "Status": "Sold",
                                    "NumberOfSales": "198",
                                    "InventoryQuantity": "0"
                                },
                                {
                                    "ProductID": "972",
                                    "ProductName": "Touring-2000 Blue, 54",
                                    "Status": "Sold",
                                    "NumberOfSales": "380",
                                    "InventoryQuantity": "0"
                                },
                                {
                                    "ProductID": "973",
                                    "ProductName": "Road-350-W Yellow, 40",
                                    "Status": "Sold",
                                    "NumberOfSales": "573",
                                    "InventoryQuantity": "0"
                                },
                                {
                                    "ProductID": "974",
                                    "ProductName": "Road-350-W Yellow, 42",
                                    "Status": "Sold",
                                    "NumberOfSales": "455",
                                    "InventoryQuantity": "0"
                                },
                                {
                                    "ProductID": "975",
                                    "ProductName": "Road-350-W Yellow, 44",
                                    "Status": "Sold",
                                    "NumberOfSales": "332",
                                    "InventoryQuantity": "0"
                                },
                                {
                                    "ProductID": "976",
                                    "ProductName": "Road-350-W Yellow, 48",
                                    "Status": "Sold",
                                    "NumberOfSales": "566",
                                    "InventoryQuantity": "0"
                                },
                                {
                                    "ProductID": "977",
                                    "ProductName": "Road-750 Black, 58",
                                    "Status": "Sold",
                                    "NumberOfSales": "537",
                                    "InventoryQuantity": "0"
                                },
                                {
                                    "ProductID": "978",
                                    "ProductName": "Touring-3000 Blue, 44",
                                    "Status": "Sold",
                                    "NumberOfSales": "157",
                                    "InventoryQuantity": "0"
                                },
                                {
                                    "ProductID": "979",
                                    "ProductName": "Touring-3000 Blue, 50",
                                    "Status": "Sold",
                                    "NumberOfSales": "306",
                                    "InventoryQuantity": "0"
                                },
                                {
                                    "ProductID": "980",
                                    "ProductName": "Mountain-400-W Silver, 38",
                                    "Status": "Sold",
                                    "NumberOfSales": "253",
                                    "InventoryQuantity": "0"
                                },
                                {
                                    "ProductID": "981",
                                    "ProductName": "Mountain-400-W Silver, 40",
                                    "Status": "Sold",
                                    "NumberOfSales": "301",
                                    "InventoryQuantity": "0"
                                },
                                {
                                    "ProductID": "982",
                                    "ProductName": "Mountain-400-W Silver, 42",
                                    "Status": "Sold",
                                    "NumberOfSales": "231",
                                    "InventoryQuantity": "0"
                                },
                                {
                                    "ProductID": "983",
                                    "ProductName": "Mountain-400-W Silver, 46",
                                    "Status": "Sold",
                                    "NumberOfSales": "239",
                                    "InventoryQuantity": "0"
                                },
                                {
                                    "ProductID": "984",
                                    "ProductName": "Mountain-500 Silver, 40",
                                    "Status": "Sold",
                                    "NumberOfSales": "221",
                                    "InventoryQuantity": "0"
                                },
                                {
                                    "ProductID": "985",
                                    "ProductName": "Mountain-500 Silver, 42",
                                    "Status": "Sold",
                                    "NumberOfSales": "221",
                                    "InventoryQuantity": "0"
                                },
                                {
                                    "ProductID": "986",
                                    "ProductName": "Mountain-500 Silver, 44",
                                    "Status": "Sold",
                                    "NumberOfSales": "195",
                                    "InventoryQuantity": "0"
                                },
                                {
                                    "ProductID": "987",
                                    "ProductName": "Mountain-500 Silver, 48",
                                    "Status": "Sold",
                                    "NumberOfSales": "228",
                                    "InventoryQuantity": "0"
                                },
                                {
                                    "ProductID": "988",
                                    "ProductName": "Mountain-500 Silver, 52",
                                    "Status": "Sold",
                                    "NumberOfSales": "236",
                                    "InventoryQuantity": "0"
                                },
                                {
                                    "ProductID": "989",
                                    "ProductName": "Mountain-500 Black, 40",
                                    "Status": "Sold",
                                    "NumberOfSales": "150",
                                    "InventoryQuantity": "0"
                                },
                                {
                                    "ProductID": "990",
                                    "ProductName": "Mountain-500 Black, 42",
                                    "Status": "Sold",
                                    "NumberOfSales": "195",
                                    "InventoryQuantity": "0"
                                },
                                {
                                    "ProductID": "991",
                                    "ProductName": "Mountain-500 Black, 44",
                                    "Status": "Sold",
                                    "NumberOfSales": "193",
                                    "InventoryQuantity": "0"
                                },
                                {
                                    "ProductID": "992",
                                    "ProductName": "Mountain-500 Black, 48",
                                    "Status": "Sold",
                                    "NumberOfSales": "232",
                                    "InventoryQuantity": "0"
                                },
                                {
                                    "ProductID": "993",
                                    "ProductName": "Mountain-500 Black, 52",
                                    "Status": "Sold",
                                    "NumberOfSales": "146",
                                    "InventoryQuantity": "0"
                                },
                                {
                                    "ProductID": "994",
                                    "ProductName": "LL Bottom Bracket",
                                    "Status": "Sold",
                                    "NumberOfSales": "150",
                                    "InventoryQuantity": "0"
                                },
                                {
                                    "ProductID": "996",
                                    "ProductName": "HL Bottom Bracket",
                                    "Status": "Sold",
                                    "NumberOfSales": "218",
                                    "InventoryQuantity": "0"
                                },
                                {
                                    "ProductID": "997",
                                    "ProductName": "Road-750 Black, 44",
                                    "Status": "Sold",
                                    "NumberOfSales": "466",
                                    "InventoryQuantity": "0"
                                },
                                {
                                    "ProductID": "998",
                                    "ProductName": "Road-750 Black, 48",
                                    "Status": "Sold",
                                    "NumberOfSales": "685",
                                    "InventoryQuantity": "0"
                                },
                                {
                                    "ProductID": "999",
                                    "ProductName": "Road-750 Black, 52",
                                    "Status": "Sold",
                                    "NumberOfSales": "696",
                                    "InventoryQuantity": "0"
                                },
                                {
                                    "ProductID": "1",
                                    "ProductName": "Adjustable Race",
                                    "Status": "In Stock",
                                    "NumberOfSales": "0",
                                    "InventoryQuantity": "1085"
                                },
                                {
                                    "ProductID": "2",
                                    "ProductName": "Bearing Ball",
                                    "Status": "In Stock",
                                    "NumberOfSales": "0",
                                    "InventoryQuantity": "1109"
                                },
                                {
                                    "ProductID": "3",
                                    "ProductName": "BB Ball Bearing",
                                    "Status": "In Stock",
                                    "NumberOfSales": "0",
                                    "InventoryQuantity": "1352"
                                },
                                {
                                    "ProductID": "4",
                                    "ProductName": "Headset Ball Bearings",
                                    "Status": "In Stock",
                                    "NumberOfSales": "0",
                                    "InventoryQuantity": "1322"
                                },
                                {
                                    "ProductID": "316",
                                    "ProductName": "Blade",
                                    "Status": "In Stock",
                                    "NumberOfSales": "0",
                                    "InventoryQuantity": "1361"
                                },
                                {
                                    "ProductID": "317",
                                    "ProductName": "LL Crankarm",
                                    "Status": "In Stock",
                                    "NumberOfSales": "0",
                                    "InventoryQuantity": "593"
                                },
                                {
                                    "ProductID": "318",
                                    "ProductName": "ML Crankarm",
                                    "Status": "In Stock",
                                    "NumberOfSales": "0",
                                    "InventoryQuantity": "439"
                                },
                                {
                                    "ProductID": "319",
                                    "ProductName": "HL Crankarm",
                                    "Status": "In Stock",
                                    "NumberOfSales": "0",
                                    "InventoryQuantity": "797"
                                },
                                {
                                    "ProductID": "320",
                                    "ProductName": "Chainring Bolts",
                                    "Status": "In Stock",
                                    "NumberOfSales": "0",
                                    "InventoryQuantity": "1136"
                                },
                                {
                                    "ProductID": "321",
                                    "ProductName": "Chainring Nut",
                                    "Status": "In Stock",
                                    "NumberOfSales": "0",
                                    "InventoryQuantity": "1750"
                                },
                                {
                                    "ProductID": "322",
                                    "ProductName": "Chainring",
                                    "Status": "In Stock",
                                    "NumberOfSales": "0",
                                    "InventoryQuantity": "1684"
                                },
                                {
                                    "ProductID": "323",
                                    "ProductName": "Crown Race",
                                    "Status": "In Stock",
                                    "NumberOfSales": "0",
                                    "InventoryQuantity": "1684"
                                },
                                {
                                    "ProductID": "324",
                                    "ProductName": "Chain Stays",
                                    "Status": "In Stock",
                                    "NumberOfSales": "0",
                                    "InventoryQuantity": "1629"
                                },
                                {
                                    "ProductID": "325",
                                    "ProductName": "Decal 1",
                                    "Status": "In Stock",
                                    "NumberOfSales": "0",
                                    "InventoryQuantity": "1750"
                                },
                                {
                                    "ProductID": "326",
                                    "ProductName": "Decal 2",
                                    "Status": "In Stock",
                                    "NumberOfSales": "0",
                                    "InventoryQuantity": "1684"
                                },
                                {
                                    "ProductID": "327",
                                    "ProductName": "Down Tube",
                                    "Status": "In Stock",
                                    "NumberOfSales": "0",
                                    "InventoryQuantity": "1364"
                                },
                                {
                                    "ProductID": "328",
                                    "ProductName": "Mountain End Caps",
                                    "Status": "In Stock",
                                    "NumberOfSales": "0",
                                    "InventoryQuantity": "1629"
                                },
                                {
                                    "ProductID": "329",
                                    "ProductName": "Road End Caps",
                                    "Status": "In Stock",
                                    "NumberOfSales": "0",
                                    "InventoryQuantity": "1601"
                                },
                                {
                                    "ProductID": "330",
                                    "ProductName": "Touring End Caps",
                                    "Status": "In Stock",
                                    "NumberOfSales": "0",
                                    "InventoryQuantity": "1571"
                                },
                                {
                                    "ProductID": "331",
                                    "ProductName": "Fork End",
                                    "Status": "In Stock",
                                    "NumberOfSales": "0",
                                    "InventoryQuantity": "1405"
                                },
                                {
                                    "ProductID": "332",
                                    "ProductName": "Freewheel",
                                    "Status": "In Stock",
                                    "NumberOfSales": "0",
                                    "InventoryQuantity": "844"
                                },
                                {
                                    "ProductID": "341",
                                    "ProductName": "Flat Washer 1",
                                    "Status": "In Stock",
                                    "NumberOfSales": "0",
                                    "InventoryQuantity": "1103"
                                },
                                {
                                    "ProductID": "342",
                                    "ProductName": "Flat Washer 6",
                                    "Status": "In Stock",
                                    "NumberOfSales": "0",
                                    "InventoryQuantity": "1093"
                                },
                                {
                                    "ProductID": "343",
                                    "ProductName": "Flat Washer 2",
                                    "Status": "In Stock",
                                    "NumberOfSales": "0",
                                    "InventoryQuantity": "1673"
                                },
                                {
                                    "ProductID": "344",
                                    "ProductName": "Flat Washer 9",
                                    "Status": "In Stock",
                                    "NumberOfSales": "0",
                                    "InventoryQuantity": "1072"
                                },
                                {
                                    "ProductID": "345",
                                    "ProductName": "Flat Washer 4",
                                    "Status": "In Stock",
                                    "NumberOfSales": "0",
                                    "InventoryQuantity": "936"
                                },
                                {
                                    "ProductID": "346",
                                    "ProductName": "Flat Washer 3",
                                    "Status": "In Stock",
                                    "NumberOfSales": "0",
                                    "InventoryQuantity": "1702"
                                },
                                {
                                    "ProductID": "347",
                                    "ProductName": "Flat Washer 8",
                                    "Status": "In Stock",
                                    "NumberOfSales": "0",
                                    "InventoryQuantity": "896"
                                },
                                {
                                    "ProductID": "348",
                                    "ProductName": "Flat Washer 5",
                                    "Status": "In Stock",
                                    "NumberOfSales": "0",
                                    "InventoryQuantity": "911"
                                },
                                {
                                    "ProductID": "349",
                                    "ProductName": "Flat Washer 7",
                                    "Status": "In Stock",
                                    "NumberOfSales": "0",
                                    "InventoryQuantity": "926"
                                },
                                {
                                    "ProductID": "350",
                                    "ProductName": "Fork Crown",
                                    "Status": "In Stock",
                                    "NumberOfSales": "0",
                                    "InventoryQuantity": "1341"
                                },
                                {
                                    "ProductID": "351",
                                    "ProductName": "Front Derailleur Cage",
                                    "Status": "In Stock",
                                    "NumberOfSales": "0",
                                    "InventoryQuantity": "605"
                                },
                                {
                                    "ProductID": "352",
                                    "ProductName": "Front Derailleur Linkage",
                                    "Status": "In Stock",
                                    "NumberOfSales": "0",
                                    "InventoryQuantity": "773"
                                },
                                {
                                    "ProductID": "355",
                                    "ProductName": "Guide Pulley",
                                    "Status": "In Stock",
                                    "NumberOfSales": "0",
                                    "InventoryQuantity": "822"
                                },
                                {
                                    "ProductID": "356",
                                    "ProductName": "LL Grip Tape",
                                    "Status": "In Stock",
                                    "NumberOfSales": "0",
                                    "InventoryQuantity": "780"
                                },
                                {
                                    "ProductID": "357",
                                    "ProductName": "ML Grip Tape",
                                    "Status": "In Stock",
                                    "NumberOfSales": "0",
                                    "InventoryQuantity": "736"
                                },
                                {
                                    "ProductID": "358",
                                    "ProductName": "HL Grip Tape",
                                    "Status": "In Stock",
                                    "NumberOfSales": "0",
                                    "InventoryQuantity": "693"
                                },
                                {
                                    "ProductID": "359",
                                    "ProductName": "Thin-Jam Hex Nut 9",
                                    "Status": "In Stock",
                                    "NumberOfSales": "0",
                                    "InventoryQuantity": "1103"
                                },
                                {
                                    "ProductID": "360",
                                    "ProductName": "Thin-Jam Hex Nut 10",
                                    "Status": "In Stock",
                                    "NumberOfSales": "0",
                                    "InventoryQuantity": "1084"
                                },
                                {
                                    "ProductID": "361",
                                    "ProductName": "Thin-Jam Hex Nut 1",
                                    "Status": "In Stock",
                                    "NumberOfSales": "0",
                                    "InventoryQuantity": "1631"
                                },
                                {
                                    "ProductID": "362",
                                    "ProductName": "Thin-Jam Hex Nut 2",
                                    "Status": "In Stock",
                                    "NumberOfSales": "0",
                                    "InventoryQuantity": "1026"
                                },
                                {
                                    "ProductID": "363",
                                    "ProductName": "Thin-Jam Hex Nut 15",
                                    "Status": "In Stock",
                                    "NumberOfSales": "0",
                                    "InventoryQuantity": "1761"
                                },
                                {
                                    "ProductID": "364",
                                    "ProductName": "Thin-Jam Hex Nut 16",
                                    "Status": "In Stock",
                                    "NumberOfSales": "0",
                                    "InventoryQuantity": "1052"
                                },
                                {
                                    "ProductID": "365",
                                    "ProductName": "Thin-Jam Hex Nut 5",
                                    "Status": "In Stock",
                                    "NumberOfSales": "0",
                                    "InventoryQuantity": "1721"
                                },
                                {
                                    "ProductID": "366",
                                    "ProductName": "Thin-Jam Hex Nut 6",
                                    "Status": "In Stock",
                                    "NumberOfSales": "0",
                                    "InventoryQuantity": "1029"
                                },
                                {
                                    "ProductID": "367",
                                    "ProductName": "Thin-Jam Hex Nut 3",
                                    "Status": "In Stock",
                                    "NumberOfSales": "0",
                                    "InventoryQuantity": "1901"
                                },
                                {
                                    "ProductID": "368",
                                    "ProductName": "Thin-Jam Hex Nut 4",
                                    "Status": "In Stock",
                                    "NumberOfSales": "0",
                                    "InventoryQuantity": "1103"
                                },
                                {
                                    "ProductID": "369",
                                    "ProductName": "Thin-Jam Hex Nut 13",
                                    "Status": "In Stock",
                                    "NumberOfSales": "0",
                                    "InventoryQuantity": "1084"
                                },
                                {
                                    "ProductID": "370",
                                    "ProductName": "Thin-Jam Hex Nut 14",
                                    "Status": "In Stock",
                                    "NumberOfSales": "0",
                                    "InventoryQuantity": "883"
                                },
                                {
                                    "ProductID": "371",
                                    "ProductName": "Thin-Jam Hex Nut 7",
                                    "Status": "In Stock",
                                    "NumberOfSales": "0",
                                    "InventoryQuantity": "1781"
                                },
                                {
                                    "ProductID": "372",
                                    "ProductName": "Thin-Jam Hex Nut 8",
                                    "Status": "In Stock",
                                    "NumberOfSales": "0",
                                    "InventoryQuantity": "897"
                                },
                                {
                                    "ProductID": "373",
                                    "ProductName": "Thin-Jam Hex Nut 12",
                                    "Status": "In Stock",
                                    "NumberOfSales": "0",
                                    "InventoryQuantity": "906"
                                },
                                {
                                    "ProductID": "374",
                                    "ProductName": "Thin-Jam Hex Nut 11",
                                    "Status": "In Stock",
                                    "NumberOfSales": "0",
                                    "InventoryQuantity": "916"
                                },
                                {
                                    "ProductID": "375",
                                    "ProductName": "Hex Nut 5",
                                    "Status": "In Stock",
                                    "NumberOfSales": "0",
                                    "InventoryQuantity": "925"
                                },
                                {
                                    "ProductID": "376",
                                    "ProductName": "Hex Nut 6",
                                    "Status": "In Stock",
                                    "NumberOfSales": "0",
                                    "InventoryQuantity": "1781"
                                },
                                {
                                    "ProductID": "377",
                                    "ProductName": "Hex Nut 16",
                                    "Status": "In Stock",
                                    "NumberOfSales": "0",
                                    "InventoryQuantity": "941"
                                },
                                {
                                    "ProductID": "378",
                                    "ProductName": "Hex Nut 17",
                                    "Status": "In Stock",
                                    "NumberOfSales": "0",
                                    "InventoryQuantity": "926"
                                },
                                {
                                    "ProductID": "379",
                                    "ProductName": "Hex Nut 7",
                                    "Status": "In Stock",
                                    "NumberOfSales": "0",
                                    "InventoryQuantity": "1911"
                                },
                                {
                                    "ProductID": "380",
                                    "ProductName": "Hex Nut 8",
                                    "Status": "In Stock",
                                    "NumberOfSales": "0",
                                    "InventoryQuantity": "770"
                                },
                                {
                                    "ProductID": "381",
                                    "ProductName": "Hex Nut 9",
                                    "Status": "In Stock",
                                    "NumberOfSales": "0",
                                    "InventoryQuantity": "789"
                                },
                                {
                                    "ProductID": "382",
                                    "ProductName": "Hex Nut 22",
                                    "Status": "In Stock",
                                    "NumberOfSales": "0",
                                    "InventoryQuantity": "808"
                                },
                                {
                                    "ProductID": "383",
                                    "ProductName": "Hex Nut 23",
                                    "Status": "In Stock",
                                    "NumberOfSales": "0",
                                    "InventoryQuantity": "1901"
                                },
                                {
                                    "ProductID": "384",
                                    "ProductName": "Hex Nut 12",
                                    "Status": "In Stock",
                                    "NumberOfSales": "0",
                                    "InventoryQuantity": "820"
                                },
                                {
                                    "ProductID": "385",
                                    "ProductName": "Hex Nut 13",
                                    "Status": "In Stock",
                                    "NumberOfSales": "0",
                                    "InventoryQuantity": "1778"
                                },
                                {
                                    "ProductID": "386",
                                    "ProductName": "Hex Nut 1",
                                    "Status": "In Stock",
                                    "NumberOfSales": "0",
                                    "InventoryQuantity": "725"
                                },
                                {
                                    "ProductID": "387",
                                    "ProductName": "Hex Nut 10",
                                    "Status": "In Stock",
                                    "NumberOfSales": "0",
                                    "InventoryQuantity": "1888"
                                },
                                {
                                    "ProductID": "388",
                                    "ProductName": "Hex Nut 11",
                                    "Status": "In Stock",
                                    "NumberOfSales": "0",
                                    "InventoryQuantity": "798"
                                },
                                {
                                    "ProductID": "389",
                                    "ProductName": "Hex Nut 2",
                                    "Status": "In Stock",
                                    "NumberOfSales": "0",
                                    "InventoryQuantity": "1808"
                                },
                                {
                                    "ProductID": "390",
                                    "ProductName": "Hex Nut 20",
                                    "Status": "In Stock",
                                    "NumberOfSales": "0",
                                    "InventoryQuantity": "798"
                                },
                                {
                                    "ProductID": "391",
                                    "ProductName": "Hex Nut 21",
                                    "Status": "In Stock",
                                    "NumberOfSales": "0",
                                    "InventoryQuantity": "809"
                                },
                                {
                                    "ProductID": "392",
                                    "ProductName": "Hex Nut 3",
                                    "Status": "In Stock",
                                    "NumberOfSales": "0",
                                    "InventoryQuantity": "818"
                                },
                                {
                                    "ProductID": "393",
                                    "ProductName": "Hex Nut 14",
                                    "Status": "In Stock",
                                    "NumberOfSales": "0",
                                    "InventoryQuantity": "1880"
                                },
                                {
                                    "ProductID": "394",
                                    "ProductName": "Hex Nut 15",
                                    "Status": "In Stock",
                                    "NumberOfSales": "0",
                                    "InventoryQuantity": "911"
                                },
                                {
                                    "ProductID": "395",
                                    "ProductName": "Hex Nut 4",
                                    "Status": "In Stock",
                                    "NumberOfSales": "0",
                                    "InventoryQuantity": "784"
                                },
                                {
                                    "ProductID": "396",
                                    "ProductName": "Hex Nut 18",
                                    "Status": "In Stock",
                                    "NumberOfSales": "0",
                                    "InventoryQuantity": "1824"
                                },
                                {
                                    "ProductID": "397",
                                    "ProductName": "Hex Nut 19",
                                    "Status": "In Stock",
                                    "NumberOfSales": "0",
                                    "InventoryQuantity": "1652"
                                },
                                {
                                    "ProductID": "398",
                                    "ProductName": "Handlebar Tube",
                                    "Status": "In Stock",
                                    "NumberOfSales": "0",
                                    "InventoryQuantity": "1326"
                                },
                                {
                                    "ProductID": "399",
                                    "ProductName": "Head Tube",
                                    "Status": "In Stock",
                                    "NumberOfSales": "0",
                                    "InventoryQuantity": "1308"
                                },
                                {
                                    "ProductID": "400",
                                    "ProductName": "LL Hub",
                                    "Status": "In Stock",
                                    "NumberOfSales": "0",
                                    "InventoryQuantity": "790"
                                },
                                {
                                    "ProductID": "401",
                                    "ProductName": "HL Hub",
                                    "Status": "In Stock",
                                    "NumberOfSales": "0",
                                    "InventoryQuantity": "797"
                                },
                                {
                                    "ProductID": "402",
                                    "ProductName": "Keyed Washer",
                                    "Status": "In Stock",
                                    "NumberOfSales": "0",
                                    "InventoryQuantity": "990"
                                },
                                {
                                    "ProductID": "403",
                                    "ProductName": "External Lock Washer 3",
                                    "Status": "In Stock",
                                    "NumberOfSales": "0",
                                    "InventoryQuantity": "981"
                                },
                                {
                                    "ProductID": "404",
                                    "ProductName": "External Lock Washer 4",
                                    "Status": "In Stock",
                                    "NumberOfSales": "0",
                                    "InventoryQuantity": "972"
                                },
                                {
                                    "ProductID": "405",
                                    "ProductName": "External Lock Washer 9",
                                    "Status": "In Stock",
                                    "NumberOfSales": "0",
                                    "InventoryQuantity": "963"
                                },
                                {
                                    "ProductID": "406",
                                    "ProductName": "External Lock Washer 5",
                                    "Status": "In Stock",
                                    "NumberOfSales": "0",
                                    "InventoryQuantity": "952"
                                },
                                {
                                    "ProductID": "407",
                                    "ProductName": "External Lock Washer 7",
                                    "Status": "In Stock",
                                    "NumberOfSales": "0",
                                    "InventoryQuantity": "1672"
                                },
                                {
                                    "ProductID": "408",
                                    "ProductName": "External Lock Washer 6",
                                    "Status": "In Stock",
                                    "NumberOfSales": "0",
                                    "InventoryQuantity": "1057"
                                },
                                {
                                    "ProductID": "409",
                                    "ProductName": "External Lock Washer 1",
                                    "Status": "In Stock",
                                    "NumberOfSales": "0",
                                    "InventoryQuantity": "1046"
                                },
                                {
                                    "ProductID": "410",
                                    "ProductName": "External Lock Washer 8",
                                    "Status": "In Stock",
                                    "NumberOfSales": "0",
                                    "InventoryQuantity": "1037"
                                },
                                {
                                    "ProductID": "411",
                                    "ProductName": "External Lock Washer 2",
                                    "Status": "In Stock",
                                    "NumberOfSales": "0",
                                    "InventoryQuantity": "1614"
                                },
                                {
                                    "ProductID": "412",
                                    "ProductName": "Internal Lock Washer 3",
                                    "Status": "In Stock",
                                    "NumberOfSales": "0",
                                    "InventoryQuantity": "776"
                                },
                                {
                                    "ProductID": "413",
                                    "ProductName": "Internal Lock Washer 4",
                                    "Status": "In Stock",
                                    "NumberOfSales": "0",
                                    "InventoryQuantity": "1703"
                                },
                                {
                                    "ProductID": "414",
                                    "ProductName": "Internal Lock Washer 9",
                                    "Status": "In Stock",
                                    "NumberOfSales": "0",
                                    "InventoryQuantity": "1119"
                                },
                                {
                                    "ProductID": "415",
                                    "ProductName": "Internal Lock Washer 5",
                                    "Status": "In Stock",
                                    "NumberOfSales": "0",
                                    "InventoryQuantity": "1104"
                                },
                                {
                                    "ProductID": "416",
                                    "ProductName": "Internal Lock Washer 7",
                                    "Status": "In Stock",
                                    "NumberOfSales": "0",
                                    "InventoryQuantity": "1090"
                                },
                                {
                                    "ProductID": "417",
                                    "ProductName": "Internal Lock Washer 6",
                                    "Status": "In Stock",
                                    "NumberOfSales": "0",
                                    "InventoryQuantity": "1715"
                                },
                                {
                                    "ProductID": "418",
                                    "ProductName": "Internal Lock Washer 10",
                                    "Status": "In Stock",
                                    "NumberOfSales": "0",
                                    "InventoryQuantity": "919"
                                },
                                {
                                    "ProductID": "419",
                                    "ProductName": "Internal Lock Washer 1",
                                    "Status": "In Stock",
                                    "NumberOfSales": "0",
                                    "InventoryQuantity": "914"
                                },
                                {
                                    "ProductID": "420",
                                    "ProductName": "Internal Lock Washer 8",
                                    "Status": "In Stock",
                                    "NumberOfSales": "0",
                                    "InventoryQuantity": "909"
                                },
                                {
                                    "ProductID": "421",
                                    "ProductName": "Internal Lock Washer 2",
                                    "Status": "In Stock",
                                    "NumberOfSales": "0",
                                    "InventoryQuantity": "905"
                                },
                                {
                                    "ProductID": "422",
                                    "ProductName": "Thin-Jam Lock Nut 9",
                                    "Status": "In Stock",
                                    "NumberOfSales": "0",
                                    "InventoryQuantity": "1632"
                                },
                                {
                                    "ProductID": "423",
                                    "ProductName": "Thin-Jam Lock Nut 10",
                                    "Status": "In Stock",
                                    "NumberOfSales": "0",
                                    "InventoryQuantity": "1628"
                                },
                                {
                                    "ProductID": "424",
                                    "ProductName": "Thin-Jam Lock Nut 1",
                                    "Status": "In Stock",
                                    "NumberOfSales": "0",
                                    "InventoryQuantity": "1623"
                                },
                                {
                                    "ProductID": "425",
                                    "ProductName": "Thin-Jam Lock Nut 2",
                                    "Status": "In Stock",
                                    "NumberOfSales": "0",
                                    "InventoryQuantity": "1618"
                                },
                                {
                                    "ProductID": "426",
                                    "ProductName": "Thin-Jam Lock Nut 15",
                                    "Status": "In Stock",
                                    "NumberOfSales": "0",
                                    "InventoryQuantity": "1613"
                                },
                                {
                                    "ProductID": "427",
                                    "ProductName": "Thin-Jam Lock Nut 16",
                                    "Status": "In Stock",
                                    "NumberOfSales": "0",
                                    "InventoryQuantity": "1608"
                                },
                                {
                                    "ProductID": "428",
                                    "ProductName": "Thin-Jam Lock Nut 5",
                                    "Status": "In Stock",
                                    "NumberOfSales": "0",
                                    "InventoryQuantity": "1604"
                                },
                                {
                                    "ProductID": "429",
                                    "ProductName": "Thin-Jam Lock Nut 6",
                                    "Status": "In Stock",
                                    "NumberOfSales": "0",
                                    "InventoryQuantity": "1599"
                                },
                                {
                                    "ProductID": "430",
                                    "ProductName": "Thin-Jam Lock Nut 3",
                                    "Status": "In Stock",
                                    "NumberOfSales": "0",
                                    "InventoryQuantity": "1594"
                                },
                                {
                                    "ProductID": "431",
                                    "ProductName": "Thin-Jam Lock Nut 4",
                                    "Status": "In Stock",
                                    "NumberOfSales": "0",
                                    "InventoryQuantity": "1604"
                                },
                                {
                                    "ProductID": "432",
                                    "ProductName": "Thin-Jam Lock Nut 13",
                                    "Status": "In Stock",
                                    "NumberOfSales": "0",
                                    "InventoryQuantity": "1613"
                                },
                                {
                                    "ProductID": "433",
                                    "ProductName": "Thin-Jam Lock Nut 14",
                                    "Status": "In Stock",
                                    "NumberOfSales": "0",
                                    "InventoryQuantity": "1623"
                                },
                                {
                                    "ProductID": "434",
                                    "ProductName": "Thin-Jam Lock Nut 7",
                                    "Status": "In Stock",
                                    "NumberOfSales": "0",
                                    "InventoryQuantity": "1632"
                                },
                                {
                                    "ProductID": "435",
                                    "ProductName": "Thin-Jam Lock Nut 8",
                                    "Status": "In Stock",
                                    "NumberOfSales": "0",
                                    "InventoryQuantity": "1642"
                                },
                                {
                                    "ProductID": "436",
                                    "ProductName": "Thin-Jam Lock Nut 12",
                                    "Status": "In Stock",
                                    "NumberOfSales": "0",
                                    "InventoryQuantity": "1652"
                                },
                                {
                                    "ProductID": "437",
                                    "ProductName": "Thin-Jam Lock Nut 11",
                                    "Status": "In Stock",
                                    "NumberOfSales": "0",
                                    "InventoryQuantity": "1661"
                                },
                                {
                                    "ProductID": "438",
                                    "ProductName": "Lock Nut 5",
                                    "Status": "In Stock",
                                    "NumberOfSales": "0",
                                    "InventoryQuantity": "1671"
                                },
                                {
                                    "ProductID": "439",
                                    "ProductName": "Lock Nut 6",
                                    "Status": "In Stock",
                                    "NumberOfSales": "0",
                                    "InventoryQuantity": "1680"
                                },
                                {
                                    "ProductID": "440",
                                    "ProductName": "Lock Nut 16",
                                    "Status": "In Stock",
                                    "NumberOfSales": "0",
                                    "InventoryQuantity": "1690"
                                },
                                {
                                    "ProductID": "441",
                                    "ProductName": "Lock Nut 17",
                                    "Status": "In Stock",
                                    "NumberOfSales": "0",
                                    "InventoryQuantity": "1676"
                                },
                                {
                                    "ProductID": "442",
                                    "ProductName": "Lock Nut 7",
                                    "Status": "In Stock",
                                    "NumberOfSales": "0",
                                    "InventoryQuantity": "1661"
                                },
                                {
                                    "ProductID": "443",
                                    "ProductName": "Lock Nut 8",
                                    "Status": "In Stock",
                                    "NumberOfSales": "0",
                                    "InventoryQuantity": "1647"
                                },
                                {
                                    "ProductID": "444",
                                    "ProductName": "Lock Nut 9",
                                    "Status": "In Stock",
                                    "NumberOfSales": "0",
                                    "InventoryQuantity": "1632"
                                },
                                {
                                    "ProductID": "445",
                                    "ProductName": "Lock Nut 22",
                                    "Status": "In Stock",
                                    "NumberOfSales": "0",
                                    "InventoryQuantity": "1618"
                                },
                                {
                                    "ProductID": "446",
                                    "ProductName": "Lock Nut 23",
                                    "Status": "In Stock",
                                    "NumberOfSales": "0",
                                    "InventoryQuantity": "1604"
                                },
                                {
                                    "ProductID": "447",
                                    "ProductName": "Lock Nut 12",
                                    "Status": "In Stock",
                                    "NumberOfSales": "0",
                                    "InventoryQuantity": "1589"
                                },
                                {
                                    "ProductID": "448",
                                    "ProductName": "Lock Nut 13",
                                    "Status": "In Stock",
                                    "NumberOfSales": "0",
                                    "InventoryQuantity": "1575"
                                },
                                {
                                    "ProductID": "449",
                                    "ProductName": "Lock Nut 1",
                                    "Status": "In Stock",
                                    "NumberOfSales": "0",
                                    "InventoryQuantity": "1560"
                                },
                                {
                                    "ProductID": "450",
                                    "ProductName": "Lock Nut 10",
                                    "Status": "In Stock",
                                    "NumberOfSales": "0",
                                    "InventoryQuantity": "1546"
                                },
                                {
                                    "ProductID": "451",
                                    "ProductName": "Lock Nut 11",
                                    "Status": "In Stock",
                                    "NumberOfSales": "0",
                                    "InventoryQuantity": "1556"
                                },
                                {
                                    "ProductID": "452",
                                    "ProductName": "Lock Nut 2",
                                    "Status": "In Stock",
                                    "NumberOfSales": "0",
                                    "InventoryQuantity": "1565"
                                },
                                {
                                    "ProductID": "453",
                                    "ProductName": "Lock Nut 20",
                                    "Status": "In Stock",
                                    "NumberOfSales": "0",
                                    "InventoryQuantity": "1575"
                                },
                                {
                                    "ProductID": "454",
                                    "ProductName": "Lock Nut 21",
                                    "Status": "In Stock",
                                    "NumberOfSales": "0",
                                    "InventoryQuantity": "1584"
                                },
                                {
                                    "ProductID": "455",
                                    "ProductName": "Lock Nut 3",
                                    "Status": "In Stock",
                                    "NumberOfSales": "0",
                                    "InventoryQuantity": "1594"
                                },
                                {
                                    "ProductID": "456",
                                    "ProductName": "Lock Nut 14",
                                    "Status": "In Stock",
                                    "NumberOfSales": "0",
                                    "InventoryQuantity": "1604"
                                },
                                {
                                    "ProductID": "457",
                                    "ProductName": "Lock Nut 15",
                                    "Status": "In Stock",
                                    "NumberOfSales": "0",
                                    "InventoryQuantity": "1613"
                                },
                                {
                                    "ProductID": "458",
                                    "ProductName": "Lock Nut 4",
                                    "Status": "In Stock",
                                    "NumberOfSales": "0",
                                    "InventoryQuantity": "1623"
                                },
                                {
                                    "ProductID": "459",
                                    "ProductName": "Lock Nut 19",
                                    "Status": "In Stock",
                                    "NumberOfSales": "0",
                                    "InventoryQuantity": "1632"
                                },
                                {
                                    "ProductID": "460",
                                    "ProductName": "Lock Nut 18",
                                    "Status": "In Stock",
                                    "NumberOfSales": "0",
                                    "InventoryQuantity": "1642"
                                },
                                {
                                    "ProductID": "461",
                                    "ProductName": "Lock Ring",
                                    "Status": "In Stock",
                                    "NumberOfSales": "0",
                                    "InventoryQuantity": "1652"
                                },
                                {
                                    "ProductID": "462",
                                    "ProductName": "Lower Head Race",
                                    "Status": "In Stock",
                                    "NumberOfSales": "0",
                                    "InventoryQuantity": "701"
                                },
                                {
                                    "ProductID": "463",
                                    "ProductName": "Lock Washer 4",
                                    "Status": "In Stock",
                                    "NumberOfSales": "0",
                                    "InventoryQuantity": "1685"
                                },
                                {
                                    "ProductID": "464",
                                    "ProductName": "Lock Washer 5",
                                    "Status": "In Stock",
                                    "NumberOfSales": "0",
                                    "InventoryQuantity": "1690"
                                },
                                {
                                    "ProductID": "465",
                                    "ProductName": "Lock Washer 10",
                                    "Status": "In Stock",
                                    "NumberOfSales": "0",
                                    "InventoryQuantity": "1695"
                                },
                                {
                                    "ProductID": "466",
                                    "ProductName": "Lock Washer 6",
                                    "Status": "In Stock",
                                    "NumberOfSales": "0",
                                    "InventoryQuantity": "1700"
                                },
                                {
                                    "ProductID": "467",
                                    "ProductName": "Lock Washer 13",
                                    "Status": "In Stock",
                                    "NumberOfSales": "0",
                                    "InventoryQuantity": "1704"
                                },
                                {
                                    "ProductID": "468",
                                    "ProductName": "Lock Washer 8",
                                    "Status": "In Stock",
                                    "NumberOfSales": "0",
                                    "InventoryQuantity": "1709"
                                },
                                {
                                    "ProductID": "469",
                                    "ProductName": "Lock Washer 1",
                                    "Status": "In Stock",
                                    "NumberOfSales": "0",
                                    "InventoryQuantity": "1714"
                                },
                                {
                                    "ProductID": "470",
                                    "ProductName": "Lock Washer 7",
                                    "Status": "In Stock",
                                    "NumberOfSales": "0",
                                    "InventoryQuantity": "1719"
                                },
                                {
                                    "ProductID": "471",
                                    "ProductName": "Lock Washer 12",
                                    "Status": "In Stock",
                                    "NumberOfSales": "0",
                                    "InventoryQuantity": "1724"
                                },
                                {
                                    "ProductID": "472",
                                    "ProductName": "Lock Washer 2",
                                    "Status": "In Stock",
                                    "NumberOfSales": "0",
                                    "InventoryQuantity": "1728"
                                },
                                {
                                    "ProductID": "473",
                                    "ProductName": "Lock Washer 9",
                                    "Status": "In Stock",
                                    "NumberOfSales": "0",
                                    "InventoryQuantity": "1733"
                                },
                                {
                                    "ProductID": "474",
                                    "ProductName": "Lock Washer 3",
                                    "Status": "In Stock",
                                    "NumberOfSales": "0",
                                    "InventoryQuantity": "1738"
                                },
                                {
                                    "ProductID": "475",
                                    "ProductName": "Lock Washer 11",
                                    "Status": "In Stock",
                                    "NumberOfSales": "0",
                                    "InventoryQuantity": "1743"
                                },
                                {
                                    "ProductID": "476",
                                    "ProductName": "Metal Angle",
                                    "Status": "In Stock",
                                    "NumberOfSales": "0",
                                    "InventoryQuantity": "1083"
                                },
                                {
                                    "ProductID": "477",
                                    "ProductName": "Metal Bar 1",
                                    "Status": "In Stock",
                                    "NumberOfSales": "0",
                                    "InventoryQuantity": "1079"
                                },
                                {
                                    "ProductID": "478",
                                    "ProductName": "Metal Bar 2",
                                    "Status": "In Stock",
                                    "NumberOfSales": "0",
                                    "InventoryQuantity": "1687"
                                },
                                {
                                    "ProductID": "479",
                                    "ProductName": "Metal Plate 2",
                                    "Status": "In Stock",
                                    "NumberOfSales": "0",
                                    "InventoryQuantity": "1029"
                                },
                                {
                                    "ProductID": "480",
                                    "ProductName": "Metal Plate 1",
                                    "Status": "In Stock",
                                    "NumberOfSales": "0",
                                    "InventoryQuantity": "1661"
                                },
                                {
                                    "ProductID": "481",
                                    "ProductName": "Metal Plate 3",
                                    "Status": "In Stock",
                                    "NumberOfSales": "0",
                                    "InventoryQuantity": "997"
                                },
                                {
                                    "ProductID": "482",
                                    "ProductName": "Metal Sheet 2",
                                    "Status": "In Stock",
                                    "NumberOfSales": "0",
                                    "InventoryQuantity": "924"
                                },
                                {
                                    "ProductID": "483",
                                    "ProductName": "Metal Sheet 3",
                                    "Status": "In Stock",
                                    "NumberOfSales": "0",
                                    "InventoryQuantity": "1681"
                                },
                                {
                                    "ProductID": "484",
                                    "ProductName": "Metal Sheet 7",
                                    "Status": "In Stock",
                                    "NumberOfSales": "0",
                                    "InventoryQuantity": "997"
                                },
                                {
                                    "ProductID": "485",
                                    "ProductName": "Metal Sheet 4",
                                    "Status": "In Stock",
                                    "NumberOfSales": "0",
                                    "InventoryQuantity": "924"
                                },
                                {
                                    "ProductID": "486",
                                    "ProductName": "Metal Sheet 5",
                                    "Status": "In Stock",
                                    "NumberOfSales": "0",
                                    "InventoryQuantity": "1661"
                                },
                                {
                                    "ProductID": "487",
                                    "ProductName": "Metal Sheet 6",
                                    "Status": "In Stock",
                                    "NumberOfSales": "0",
                                    "InventoryQuantity": "992"
                                },
                                {
                                    "ProductID": "488",
                                    "ProductName": "Metal Sheet 1",
                                    "Status": "In Stock",
                                    "NumberOfSales": "0",
                                    "InventoryQuantity": "935"
                                },
                                {
                                    "ProductID": "489",
                                    "ProductName": "Metal Tread Plate",
                                    "Status": "In Stock",
                                    "NumberOfSales": "0",
                                    "InventoryQuantity": "1837"
                                },
                                {
                                    "ProductID": "490",
                                    "ProductName": "LL Nipple",
                                    "Status": "In Stock",
                                    "NumberOfSales": "0",
                                    "InventoryQuantity": "1780"
                                },
                                {
                                    "ProductID": "491",
                                    "ProductName": "HL Nipple",
                                    "Status": "In Stock",
                                    "NumberOfSales": "0",
                                    "InventoryQuantity": "922"
                                },
                                {
                                    "ProductID": "492",
                                    "ProductName": "Paint - Black",
                                    "Status": "In Stock",
                                    "NumberOfSales": "0",
                                    "InventoryQuantity": "47"
                                },
                                {
                                    "ProductID": "493",
                                    "ProductName": "Paint - Red",
                                    "Status": "In Stock",
                                    "NumberOfSales": "0",
                                    "InventoryQuantity": "93"
                                },
                                {
                                    "ProductID": "494",
                                    "ProductName": "Paint - Silver",
                                    "Status": "In Stock",
                                    "NumberOfSales": "0",
                                    "InventoryQuantity": "65"
                                },
                                {
                                    "ProductID": "495",
                                    "ProductName": "Paint - Blue",
                                    "Status": "In Stock",
                                    "NumberOfSales": "0",
                                    "InventoryQuantity": "109"
                                },
                                {
                                    "ProductID": "496",
                                    "ProductName": "Paint - Yellow",
                                    "Status": "In Stock",
                                    "NumberOfSales": "0",
                                    "InventoryQuantity": "99"
                                },
                                {
                                    "ProductID": "497",
                                    "ProductName": "Pinch Bolt",
                                    "Status": "In Stock",
                                    "NumberOfSales": "0",
                                    "InventoryQuantity": "973"
                                },
                                {
                                    "ProductID": "504",
                                    "ProductName": "Cup-Shaped Race",
                                    "Status": "In Stock",
                                    "NumberOfSales": "0",
                                    "InventoryQuantity": "1084"
                                },
                                {
                                    "ProductID": "505",
                                    "ProductName": "Cone-Shaped Race",
                                    "Status": "In Stock",
                                    "NumberOfSales": "0",
                                    "InventoryQuantity": "970"
                                },
                                {
                                    "ProductID": "506",
                                    "ProductName": "Reflector",
                                    "Status": "In Stock",
                                    "NumberOfSales": "0",
                                    "InventoryQuantity": "827"
                                },
                                {
                                    "ProductID": "507",
                                    "ProductName": "LL Mountain Rim",
                                    "Status": "In Stock",
                                    "NumberOfSales": "0",
                                    "InventoryQuantity": "1215"
                                },
                                {
                                    "ProductID": "508",
                                    "ProductName": "ML Mountain Rim",
                                    "Status": "In Stock",
                                    "NumberOfSales": "0",
                                    "InventoryQuantity": "1231"
                                },
                                {
                                    "ProductID": "509",
                                    "ProductName": "HL Mountain Rim",
                                    "Status": "In Stock",
                                    "NumberOfSales": "0",
                                    "InventoryQuantity": "1247"
                                },
                                {
                                    "ProductID": "510",
                                    "ProductName": "LL Road Rim",
                                    "Status": "In Stock",
                                    "NumberOfSales": "0",
                                    "InventoryQuantity": "722"
                                },
                                {
                                    "ProductID": "511",
                                    "ProductName": "ML Road Rim",
                                    "Status": "In Stock",
                                    "NumberOfSales": "0",
                                    "InventoryQuantity": "740"
                                },
                                {
                                    "ProductID": "512",
                                    "ProductName": "HL Road Rim",
                                    "Status": "In Stock",
                                    "NumberOfSales": "0",
                                    "InventoryQuantity": "615"
                                },
                                {
                                    "ProductID": "513",
                                    "ProductName": "Touring Rim",
                                    "Status": "In Stock",
                                    "NumberOfSales": "0",
                                    "InventoryQuantity": "1364"
                                },
                                {
                                    "ProductID": "514",
                                    "ProductName": "LL Mountain Seat Assembly",
                                    "Status": "In Stock",
                                    "NumberOfSales": "0",
                                    "InventoryQuantity": "797"
                                },
                                {
                                    "ProductID": "515",
                                    "ProductName": "ML Mountain Seat Assembly",
                                    "Status": "In Stock",
                                    "NumberOfSales": "0",
                                    "InventoryQuantity": "802"
                                },
                                {
                                    "ProductID": "516",
                                    "ProductName": "HL Mountain Seat Assembly",
                                    "Status": "In Stock",
                                    "NumberOfSales": "0",
                                    "InventoryQuantity": "807"
                                },
                                {
                                    "ProductID": "517",
                                    "ProductName": "LL Road Seat Assembly",
                                    "Status": "In Stock",
                                    "NumberOfSales": "0",
                                    "InventoryQuantity": "812"
                                },
                                {
                                    "ProductID": "518",
                                    "ProductName": "ML Road Seat Assembly",
                                    "Status": "In Stock",
                                    "NumberOfSales": "0",
                                    "InventoryQuantity": "816"
                                },
                                {
                                    "ProductID": "519",
                                    "ProductName": "HL Road Seat Assembly",
                                    "Status": "In Stock",
                                    "NumberOfSales": "0",
                                    "InventoryQuantity": "821"
                                },
                                {
                                    "ProductID": "520",
                                    "ProductName": "LL Touring Seat Assembly",
                                    "Status": "In Stock",
                                    "NumberOfSales": "0",
                                    "InventoryQuantity": "826"
                                },
                                {
                                    "ProductID": "521",
                                    "ProductName": "ML Touring Seat Assembly",
                                    "Status": "In Stock",
                                    "NumberOfSales": "0",
                                    "InventoryQuantity": "831"
                                },
                                {
                                    "ProductID": "522",
                                    "ProductName": "HL Touring Seat Assembly",
                                    "Status": "In Stock",
                                    "NumberOfSales": "0",
                                    "InventoryQuantity": "836"
                                },
                                {
                                    "ProductID": "523",
                                    "ProductName": "LL Spindle/Axle",
                                    "Status": "In Stock",
                                    "NumberOfSales": "0",
                                    "InventoryQuantity": "512"
                                },
                                {
                                    "ProductID": "524",
                                    "ProductName": "HL Spindle/Axle",
                                    "Status": "In Stock",
                                    "NumberOfSales": "0",
                                    "InventoryQuantity": "459"
                                },
                                {
                                    "ProductID": "525",
                                    "ProductName": "LL Shell",
                                    "Status": "In Stock",
                                    "NumberOfSales": "0",
                                    "InventoryQuantity": "1263"
                                },
                                {
                                    "ProductID": "526",
                                    "ProductName": "HL Shell",
                                    "Status": "In Stock",
                                    "NumberOfSales": "0",
                                    "InventoryQuantity": "1211"
                                },
                                {
                                    "ProductID": "527",
                                    "ProductName": "Spokes",
                                    "Status": "In Stock",
                                    "NumberOfSales": "0",
                                    "InventoryQuantity": "1590"
                                },
                                {
                                    "ProductID": "528",
                                    "ProductName": "Seat Lug",
                                    "Status": "In Stock",
                                    "NumberOfSales": "0",
                                    "InventoryQuantity": "1653"
                                },
                                {
                                    "ProductID": "529",
                                    "ProductName": "Stem",
                                    "Status": "In Stock",
                                    "NumberOfSales": "0",
                                    "InventoryQuantity": "796"
                                },
                                {
                                    "ProductID": "530",
                                    "ProductName": "Seat Post",
                                    "Status": "In Stock",
                                    "NumberOfSales": "0",
                                    "InventoryQuantity": "780"
                                },
                                {
                                    "ProductID": "531",
                                    "ProductName": "Steerer",
                                    "Status": "In Stock",
                                    "NumberOfSales": "0",
                                    "InventoryQuantity": "801"
                                },
                                {
                                    "ProductID": "532",
                                    "ProductName": "Seat Stays",
                                    "Status": "In Stock",
                                    "NumberOfSales": "0",
                                    "InventoryQuantity": "1257"
                                },
                                {
                                    "ProductID": "533",
                                    "ProductName": "Seat Tube",
                                    "Status": "In Stock",
                                    "NumberOfSales": "0",
                                    "InventoryQuantity": "831"
                                },
                                {
                                    "ProductID": "534",
                                    "ProductName": "Top Tube",
                                    "Status": "In Stock",
                                    "NumberOfSales": "0",
                                    "InventoryQuantity": "657"
                                },
                                {
                                    "ProductID": "535",
                                    "ProductName": "Tension Pulley",
                                    "Status": "In Stock",
                                    "NumberOfSales": "0",
                                    "InventoryQuantity": "836"
                                },
                                {
                                    "ProductID": "679",
                                    "ProductName": "Rear Derailleur Cage",
                                    "Status": "In Stock",
                                    "NumberOfSales": "0",
                                    "InventoryQuantity": "421"
                                },
                                {
                                    "ProductID": "707",
                                    "ProductName": "Sport-100 Helmet, Red",
                                    "Status": "In Stock",
                                    "NumberOfSales": "0",
                                    "InventoryQuantity": "288"
                                },
                                {
                                    "ProductID": "708",
                                    "ProductName": "Sport-100 Helmet, Black",
                                    "Status": "In Stock",
                                    "NumberOfSales": "0",
                                    "InventoryQuantity": "324"
                                },
                                {
                                    "ProductID": "709",
                                    "ProductName": "Mountain Bike Socks, M",
                                    "Status": "In Stock",
                                    "NumberOfSales": "0",
                                    "InventoryQuantity": "180"
                                },
                                {
                                    "ProductID": "710",
                                    "ProductName": "Mountain Bike Socks, L",
                                    "Status": "In Stock",
                                    "NumberOfSales": "0",
                                    "InventoryQuantity": "216"
                                },
                                {
                                    "ProductID": "711",
                                    "ProductName": "Sport-100 Helmet, Blue",
                                    "Status": "In Stock",
                                    "NumberOfSales": "0",
                                    "InventoryQuantity": "216"
                                },
                                {
                                    "ProductID": "712",
                                    "ProductName": "AWC Logo Cap",
                                    "Status": "In Stock",
                                    "NumberOfSales": "0",
                                    "InventoryQuantity": "288"
                                },
                                {
                                    "ProductID": "713",
                                    "ProductName": "Long-Sleeve Logo Jersey, S",
                                    "Status": "In Stock",
                                    "NumberOfSales": "0",
                                    "InventoryQuantity": "144"
                                },
                                {
                                    "ProductID": "714",
                                    "ProductName": "Long-Sleeve Logo Jersey, M",
                                    "Status": "In Stock",
                                    "NumberOfSales": "0",
                                    "InventoryQuantity": "180"
                                },
                                {
                                    "ProductID": "715",
                                    "ProductName": "Long-Sleeve Logo Jersey, L",
                                    "Status": "In Stock",
                                    "NumberOfSales": "0",
                                    "InventoryQuantity": "216"
                                },
                                {
                                    "ProductID": "716",
                                    "ProductName": "Long-Sleeve Logo Jersey, XL",
                                    "Status": "In Stock",
                                    "NumberOfSales": "0",
                                    "InventoryQuantity": "252"
                                },
                                {
                                    "ProductID": "747",
                                    "ProductName": "HL Mountain Frame - Black, 38",
                                    "Status": "In Stock",
                                    "NumberOfSales": "0",
                                    "InventoryQuantity": "834"
                                },
                                {
                                    "ProductID": "748",
                                    "ProductName": "HL Mountain Frame - Silver, 38",
                                    "Status": "In Stock",
                                    "NumberOfSales": "0",
                                    "InventoryQuantity": "738"
                                },
                                {
                                    "ProductID": "749",
                                    "ProductName": "Road-150 Red, 62",
                                    "Status": "In Stock",
                                    "NumberOfSales": "0",
                                    "InventoryQuantity": "133"
                                },
                                {
                                    "ProductID": "750",
                                    "ProductName": "Road-150 Red, 44",
                                    "Status": "In Stock",
                                    "NumberOfSales": "0",
                                    "InventoryQuantity": "223"
                                },
                                {
                                    "ProductID": "751",
                                    "ProductName": "Road-150 Red, 48",
                                    "Status": "In Stock",
                                    "NumberOfSales": "0",
                                    "InventoryQuantity": "140"
                                },
                                {
                                    "ProductID": "752",
                                    "ProductName": "Road-150 Red, 52",
                                    "Status": "In Stock",
                                    "NumberOfSales": "0",
                                    "InventoryQuantity": "128"
                                },
                                {
                                    "ProductID": "753",
                                    "ProductName": "Road-150 Red, 56",
                                    "Status": "In Stock",
                                    "NumberOfSales": "0",
                                    "InventoryQuantity": "163"
                                },
                                {
                                    "ProductID": "754",
                                    "ProductName": "Road-450 Red, 58",
                                    "Status": "In Stock",
                                    "NumberOfSales": "0",
                                    "InventoryQuantity": "148"
                                },
                                {
                                    "ProductID": "755",
                                    "ProductName": "Road-450 Red, 60",
                                    "Status": "In Stock",
                                    "NumberOfSales": "0",
                                    "InventoryQuantity": "137"
                                },
                                {
                                    "ProductID": "756",
                                    "ProductName": "Road-450 Red, 44",
                                    "Status": "In Stock",
                                    "NumberOfSales": "0",
                                    "InventoryQuantity": "129"
                                },
                                {
                                    "ProductID": "757",
                                    "ProductName": "Road-450 Red, 48",
                                    "Status": "In Stock",
                                    "NumberOfSales": "0",
                                    "InventoryQuantity": "134"
                                },
                                {
                                    "ProductID": "758",
                                    "ProductName": "Road-450 Red, 52",
                                    "Status": "In Stock",
                                    "NumberOfSales": "0",
                                    "InventoryQuantity": "165"
                                },
                                {
                                    "ProductID": "759",
                                    "ProductName": "Road-650 Red, 58",
                                    "Status": "In Stock",
                                    "NumberOfSales": "0",
                                    "InventoryQuantity": "163"
                                },
                                {
                                    "ProductID": "760",
                                    "ProductName": "Road-650 Red, 60",
                                    "Status": "In Stock",
                                    "NumberOfSales": "0",
                                    "InventoryQuantity": "185"
                                },
                                {
                                    "ProductID": "761",
                                    "ProductName": "Road-650 Red, 62",
                                    "Status": "In Stock",
                                    "NumberOfSales": "0",
                                    "InventoryQuantity": "148"
                                },
                                {
                                    "ProductID": "762",
                                    "ProductName": "Road-650 Red, 44",
                                    "Status": "In Stock",
                                    "NumberOfSales": "0",
                                    "InventoryQuantity": "137"
                                },
                                {
                                    "ProductID": "763",
                                    "ProductName": "Road-650 Red, 48",
                                    "Status": "In Stock",
                                    "NumberOfSales": "0",
                                    "InventoryQuantity": "223"
                                },
                                {
                                    "ProductID": "764",
                                    "ProductName": "Road-650 Red, 52",
                                    "Status": "In Stock",
                                    "NumberOfSales": "0",
                                    "InventoryQuantity": "140"
                                },
                                {
                                    "ProductID": "765",
                                    "ProductName": "Road-650 Black, 58",
                                    "Status": "In Stock",
                                    "NumberOfSales": "0",
                                    "InventoryQuantity": "134"
                                },
                                {
                                    "ProductID": "766",
                                    "ProductName": "Road-650 Black, 60",
                                    "Status": "In Stock",
                                    "NumberOfSales": "0",
                                    "InventoryQuantity": "165"
                                },
                                {
                                    "ProductID": "767",
                                    "ProductName": "Road-650 Black, 62",
                                    "Status": "In Stock",
                                    "NumberOfSales": "0",
                                    "InventoryQuantity": "188"
                                },
                                {
                                    "ProductID": "768",
                                    "ProductName": "Road-650 Black, 44",
                                    "Status": "In Stock",
                                    "NumberOfSales": "0",
                                    "InventoryQuantity": "148"
                                },
                                {
                                    "ProductID": "769",
                                    "ProductName": "Road-650 Black, 48",
                                    "Status": "In Stock",
                                    "NumberOfSales": "0",
                                    "InventoryQuantity": "133"
                                },
                                {
                                    "ProductID": "770",
                                    "ProductName": "Road-650 Black, 52",
                                    "Status": "In Stock",
                                    "NumberOfSales": "0",
                                    "InventoryQuantity": "227"
                                },
                                {
                                    "ProductID": "771",
                                    "ProductName": "Mountain-100 Silver, 38",
                                    "Status": "In Stock",
                                    "NumberOfSales": "0",
                                    "InventoryQuantity": "149"
                                },
                                {
                                    "ProductID": "772",
                                    "ProductName": "Mountain-100 Silver, 42",
                                    "Status": "In Stock",
                                    "NumberOfSales": "0",
                                    "InventoryQuantity": "153"
                                },
                                {
                                    "ProductID": "773",
                                    "ProductName": "Mountain-100 Silver, 44",
                                    "Status": "In Stock",
                                    "NumberOfSales": "0",
                                    "InventoryQuantity": "158"
                                },
                                {
                                    "ProductID": "774",
                                    "ProductName": "Mountain-100 Silver, 48",
                                    "Status": "In Stock",
                                    "NumberOfSales": "0",
                                    "InventoryQuantity": "164"
                                },
                                {
                                    "ProductID": "775",
                                    "ProductName": "Mountain-100 Black, 38",
                                    "Status": "In Stock",
                                    "NumberOfSales": "0",
                                    "InventoryQuantity": "155"
                                },
                                {
                                    "ProductID": "776",
                                    "ProductName": "Mountain-100 Black, 42",
                                    "Status": "In Stock",
                                    "NumberOfSales": "0",
                                    "InventoryQuantity": "194"
                                },
                                {
                                    "ProductID": "777",
                                    "ProductName": "Mountain-100 Black, 44",
                                    "Status": "In Stock",
                                    "NumberOfSales": "0",
                                    "InventoryQuantity": "149"
                                },
                                {
                                    "ProductID": "778",
                                    "ProductName": "Mountain-100 Black, 48",
                                    "Status": "In Stock",
                                    "NumberOfSales": "0",
                                    "InventoryQuantity": "153"
                                },
                                {
                                    "ProductID": "779",
                                    "ProductName": "Mountain-200 Silver, 38",
                                    "Status": "In Stock",
                                    "NumberOfSales": "0",
                                    "InventoryQuantity": "137"
                                },
                                {
                                    "ProductID": "780",
                                    "ProductName": "Mountain-200 Silver, 42",
                                    "Status": "In Stock",
                                    "NumberOfSales": "0",
                                    "InventoryQuantity": "223"
                                },
                                {
                                    "ProductID": "781",
                                    "ProductName": "Mountain-200 Silver, 46",
                                    "Status": "In Stock",
                                    "NumberOfSales": "0",
                                    "InventoryQuantity": "140"
                                },
                                {
                                    "ProductID": "782",
                                    "ProductName": "Mountain-200 Black, 38",
                                    "Status": "In Stock",
                                    "NumberOfSales": "0",
                                    "InventoryQuantity": "188"
                                },
                                {
                                    "ProductID": "783",
                                    "ProductName": "Mountain-200 Black, 42",
                                    "Status": "In Stock",
                                    "NumberOfSales": "0",
                                    "InventoryQuantity": "148"
                                },
                                {
                                    "ProductID": "784",
                                    "ProductName": "Mountain-200 Black, 46",
                                    "Status": "In Stock",
                                    "NumberOfSales": "0",
                                    "InventoryQuantity": "137"
                                },
                                {
                                    "ProductID": "785",
                                    "ProductName": "Mountain-300 Black, 38",
                                    "Status": "In Stock",
                                    "NumberOfSales": "0",
                                    "InventoryQuantity": "137"
                                },
                                {
                                    "ProductID": "786",
                                    "ProductName": "Mountain-300 Black, 40",
                                    "Status": "In Stock",
                                    "NumberOfSales": "0",
                                    "InventoryQuantity": "223"
                                },
                                {
                                    "ProductID": "787",
                                    "ProductName": "Mountain-300 Black, 44",
                                    "Status": "In Stock",
                                    "NumberOfSales": "0",
                                    "InventoryQuantity": "140"
                                },
                                {
                                    "ProductID": "788",
                                    "ProductName": "Mountain-300 Black, 48",
                                    "Status": "In Stock",
                                    "NumberOfSales": "0",
                                    "InventoryQuantity": "128"
                                },
                                {
                                    "ProductID": "789",
                                    "ProductName": "Road-250 Red, 44",
                                    "Status": "In Stock",
                                    "NumberOfSales": "0",
                                    "InventoryQuantity": "163"
                                },
                                {
                                    "ProductID": "790",
                                    "ProductName": "Road-250 Red, 48",
                                    "Status": "In Stock",
                                    "NumberOfSales": "0",
                                    "InventoryQuantity": "185"
                                },
                                {
                                    "ProductID": "791",
                                    "ProductName": "Road-250 Red, 52",
                                    "Status": "In Stock",
                                    "NumberOfSales": "0",
                                    "InventoryQuantity": "148"
                                },
                                {
                                    "ProductID": "792",
                                    "ProductName": "Road-250 Red, 58",
                                    "Status": "In Stock",
                                    "NumberOfSales": "0",
                                    "InventoryQuantity": "227"
                                },
                                {
                                    "ProductID": "793",
                                    "ProductName": "Road-250 Black, 44",
                                    "Status": "In Stock",
                                    "NumberOfSales": "0",
                                    "InventoryQuantity": "134"
                                },
                                {
                                    "ProductID": "794",
                                    "ProductName": "Road-250 Black, 48",
                                    "Status": "In Stock",
                                    "NumberOfSales": "0",
                                    "InventoryQuantity": "165"
                                },
                                {
                                    "ProductID": "795",
                                    "ProductName": "Road-250 Black, 52",
                                    "Status": "In Stock",
                                    "NumberOfSales": "0",
                                    "InventoryQuantity": "188"
                                },
                                {
                                    "ProductID": "796",
                                    "ProductName": "Road-250 Black, 58",
                                    "Status": "In Stock",
                                    "NumberOfSales": "0",
                                    "InventoryQuantity": "148"
                                },
                                {
                                    "ProductID": "797",
                                    "ProductName": "Road-550-W Yellow, 38",
                                    "Status": "In Stock",
                                    "NumberOfSales": "0",
                                    "InventoryQuantity": "148"
                                },
                                {
                                    "ProductID": "798",
                                    "ProductName": "Road-550-W Yellow, 40",
                                    "Status": "In Stock",
                                    "NumberOfSales": "0",
                                    "InventoryQuantity": "133"
                                },
                                {
                                    "ProductID": "799",
                                    "ProductName": "Road-550-W Yellow, 42",
                                    "Status": "In Stock",
                                    "NumberOfSales": "0",
                                    "InventoryQuantity": "227"
                                },
                                {
                                    "ProductID": "800",
                                    "ProductName": "Road-550-W Yellow, 44",
                                    "Status": "In Stock",
                                    "NumberOfSales": "0",
                                    "InventoryQuantity": "129"
                                },
                                {
                                    "ProductID": "801",
                                    "ProductName": "Road-550-W Yellow, 48",
                                    "Status": "In Stock",
                                    "NumberOfSales": "0",
                                    "InventoryQuantity": "134"
                                },
                                {
                                    "ProductID": "802",
                                    "ProductName": "LL Fork",
                                    "Status": "In Stock",
                                    "NumberOfSales": "0",
                                    "InventoryQuantity": "863"
                                },
                                {
                                    "ProductID": "803",
                                    "ProductName": "ML Fork",
                                    "Status": "In Stock",
                                    "NumberOfSales": "0",
                                    "InventoryQuantity": "882"
                                },
                                {
                                    "ProductID": "804",
                                    "ProductName": "HL Fork",
                                    "Status": "In Stock",
                                    "NumberOfSales": "0",
                                    "InventoryQuantity": "901"
                                },
                                {
                                    "ProductID": "805",
                                    "ProductName": "LL Headset",
                                    "Status": "In Stock",
                                    "NumberOfSales": "0",
                                    "InventoryQuantity": "761"
                                },
                                {
                                    "ProductID": "806",
                                    "ProductName": "ML Headset",
                                    "Status": "In Stock",
                                    "NumberOfSales": "0",
                                    "InventoryQuantity": "772"
                                },
                                {
                                    "ProductID": "807",
                                    "ProductName": "HL Headset",
                                    "Status": "In Stock",
                                    "NumberOfSales": "0",
                                    "InventoryQuantity": "782"
                                },
                                {
                                    "ProductID": "808",
                                    "ProductName": "LL Mountain Handlebars",
                                    "Status": "In Stock",
                                    "NumberOfSales": "0",
                                    "InventoryQuantity": "859"
                                },
                                {
                                    "ProductID": "809",
                                    "ProductName": "ML Mountain Handlebars",
                                    "Status": "In Stock",
                                    "NumberOfSales": "0",
                                    "InventoryQuantity": "850"
                                },
                                {
                                    "ProductID": "810",
                                    "ProductName": "HL Mountain Handlebars",
                                    "Status": "In Stock",
                                    "NumberOfSales": "0",
                                    "InventoryQuantity": "840"
                                },
                                {
                                    "ProductID": "811",
                                    "ProductName": "LL Road Handlebars",
                                    "Status": "In Stock",
                                    "NumberOfSales": "0",
                                    "InventoryQuantity": "831"
                                },
                                {
                                    "ProductID": "812",
                                    "ProductName": "ML Road Handlebars",
                                    "Status": "In Stock",
                                    "NumberOfSales": "0",
                                    "InventoryQuantity": "822"
                                },
                                {
                                    "ProductID": "813",
                                    "ProductName": "HL Road Handlebars",
                                    "Status": "In Stock",
                                    "NumberOfSales": "0",
                                    "InventoryQuantity": "811"
                                },
                                {
                                    "ProductID": "814",
                                    "ProductName": "ML Mountain Frame - Black, 38",
                                    "Status": "In Stock",
                                    "NumberOfSales": "0",
                                    "InventoryQuantity": "767"
                                },
                                {
                                    "ProductID": "815",
                                    "ProductName": "LL Mountain Front Wheel",
                                    "Status": "In Stock",
                                    "NumberOfSales": "0",
                                    "InventoryQuantity": "722"
                                },
                                {
                                    "ProductID": "816",
                                    "ProductName": "ML Mountain Front Wheel",
                                    "Status": "In Stock",
                                    "NumberOfSales": "0",
                                    "InventoryQuantity": "818"
                                },
                                {
                                    "ProductID": "817",
                                    "ProductName": "HL Mountain Front Wheel",
                                    "Status": "In Stock",
                                    "NumberOfSales": "0",
                                    "InventoryQuantity": "831"
                                },
                                {
                                    "ProductID": "818",
                                    "ProductName": "LL Road Front Wheel",
                                    "Status": "In Stock",
                                    "NumberOfSales": "0",
                                    "InventoryQuantity": "888"
                                },
                                {
                                    "ProductID": "819",
                                    "ProductName": "ML Road Front Wheel",
                                    "Status": "In Stock",
                                    "NumberOfSales": "0",
                                    "InventoryQuantity": "793"
                                },
                                {
                                    "ProductID": "820",
                                    "ProductName": "HL Road Front Wheel",
                                    "Status": "In Stock",
                                    "NumberOfSales": "0",
                                    "InventoryQuantity": "678"
                                },
                                {
                                    "ProductID": "821",
                                    "ProductName": "Touring Front Wheel",
                                    "Status": "In Stock",
                                    "NumberOfSales": "0",
                                    "InventoryQuantity": "736"
                                },
                                {
                                    "ProductID": "822",
                                    "ProductName": "ML Road Frame-W - Yellow, 38",
                                    "Status": "In Stock",
                                    "NumberOfSales": "0",
                                    "InventoryQuantity": "796"
                                },
                                {
                                    "ProductID": "823",
                                    "ProductName": "LL Mountain Rear Wheel",
                                    "Status": "In Stock",
                                    "NumberOfSales": "0",
                                    "InventoryQuantity": "681"
                                },
                                {
                                    "ProductID": "824",
                                    "ProductName": "ML Mountain Rear Wheel",
                                    "Status": "In Stock",
                                    "NumberOfSales": "0",
                                    "InventoryQuantity": "812"
                                },
                                {
                                    "ProductID": "825",
                                    "ProductName": "HL Mountain Rear Wheel",
                                    "Status": "In Stock",
                                    "NumberOfSales": "0",
                                    "InventoryQuantity": "783"
                                },
                                {
                                    "ProductID": "826",
                                    "ProductName": "LL Road Rear Wheel",
                                    "Status": "In Stock",
                                    "NumberOfSales": "0",
                                    "InventoryQuantity": "799"
                                },
                                {
                                    "ProductID": "827",
                                    "ProductName": "ML Road Rear Wheel",
                                    "Status": "In Stock",
                                    "NumberOfSales": "0",
                                    "InventoryQuantity": "837"
                                },
                                {
                                    "ProductID": "828",
                                    "ProductName": "HL Road Rear Wheel",
                                    "Status": "In Stock",
                                    "NumberOfSales": "0",
                                    "InventoryQuantity": "716"
                                },
                                {
                                    "ProductID": "829",
                                    "ProductName": "Touring Rear Wheel",
                                    "Status": "In Stock",
                                    "NumberOfSales": "0",
                                    "InventoryQuantity": "741"
                                },
                                {
                                    "ProductID": "841",
                                    "ProductName": "Men's Sports Shorts, S",
                                    "Status": "In Stock",
                                    "NumberOfSales": "0",
                                    "InventoryQuantity": "288"
                                },
                                {
                                    "ProductID": "842",
                                    "ProductName": "Touring-Panniers, Large",
                                    "Status": "In Stock",
                                    "NumberOfSales": "0",
                                    "InventoryQuantity": "72"
                                },
                                {
                                    "ProductID": "843",
                                    "ProductName": "Cable Lock",
                                    "Status": "In Stock",
                                    "NumberOfSales": "0",
                                    "InventoryQuantity": "252"
                                },
                                {
                                    "ProductID": "844",
                                    "ProductName": "Minipump",
                                    "Status": "In Stock",
                                    "NumberOfSales": "0",
                                    "InventoryQuantity": "288"
                                },
                                {
                                    "ProductID": "845",
                                    "ProductName": "Mountain Pump",
                                    "Status": "In Stock",
                                    "NumberOfSales": "0",
                                    "InventoryQuantity": "324"
                                },
                                {
                                    "ProductID": "846",
                                    "ProductName": "Taillights - Battery-Powered",
                                    "Status": "In Stock",
                                    "NumberOfSales": "0",
                                    "InventoryQuantity": "144"
                                },
                                {
                                    "ProductID": "847",
                                    "ProductName": "Headlights - Dual-Beam",
                                    "Status": "In Stock",
                                    "NumberOfSales": "0",
                                    "InventoryQuantity": "180"
                                },
                                {
                                    "ProductID": "848",
                                    "ProductName": "Headlights - Weatherproof",
                                    "Status": "In Stock",
                                    "NumberOfSales": "0",
                                    "InventoryQuantity": "216"
                                },
                                {
                                    "ProductID": "849",
                                    "ProductName": "Men's Sports Shorts, M",
                                    "Status": "In Stock",
                                    "NumberOfSales": "0",
                                    "InventoryQuantity": "108"
                                },
                                {
                                    "ProductID": "850",
                                    "ProductName": "Men's Sports Shorts, L",
                                    "Status": "In Stock",
                                    "NumberOfSales": "0",
                                    "InventoryQuantity": "144"
                                },
                                {
                                    "ProductID": "851",
                                    "ProductName": "Men's Sports Shorts, XL",
                                    "Status": "In Stock",
                                    "NumberOfSales": "0",
                                    "InventoryQuantity": "180"
                                },
                                {
                                    "ProductID": "852",
                                    "ProductName": "Women's Tights, S",
                                    "Status": "In Stock",
                                    "NumberOfSales": "0",
                                    "InventoryQuantity": "324"
                                },
                                {
                                    "ProductID": "854",
                                    "ProductName": "Women's Tights, L",
                                    "Status": "In Stock",
                                    "NumberOfSales": "0",
                                    "InventoryQuantity": "36"
                                },
                                {
                                    "ProductID": "855",
                                    "ProductName": "Men's Bib-Shorts, S",
                                    "Status": "In Stock",
                                    "NumberOfSales": "0",
                                    "InventoryQuantity": "72"
                                },
                                {
                                    "ProductID": "856",
                                    "ProductName": "Men's Bib-Shorts, M",
                                    "Status": "In Stock",
                                    "NumberOfSales": "0",
                                    "InventoryQuantity": "108"
                                },
                                {
                                    "ProductID": "857",
                                    "ProductName": "Men's Bib-Shorts, L",
                                    "Status": "In Stock",
                                    "NumberOfSales": "0",
                                    "InventoryQuantity": "144"
                                },
                                {
                                    "ProductID": "858",
                                    "ProductName": "Half-Finger Gloves, S",
                                    "Status": "In Stock",
                                    "NumberOfSales": "0",
                                    "InventoryQuantity": "324"
                                },
                                {
                                    "ProductID": "860",
                                    "ProductName": "Half-Finger Gloves, L",
                                    "Status": "In Stock",
                                    "NumberOfSales": "0",
                                    "InventoryQuantity": "36"
                                },
                                {
                                    "ProductID": "861",
                                    "ProductName": "Full-Finger Gloves, S",
                                    "Status": "In Stock",
                                    "NumberOfSales": "0",
                                    "InventoryQuantity": "72"
                                },
                                {
                                    "ProductID": "862",
                                    "ProductName": "Full-Finger Gloves, M",
                                    "Status": "In Stock",
                                    "NumberOfSales": "0",
                                    "InventoryQuantity": "108"
                                },
                                {
                                    "ProductID": "863",
                                    "ProductName": "Full-Finger Gloves, L",
                                    "Status": "In Stock",
                                    "NumberOfSales": "0",
                                    "InventoryQuantity": "144"
                                },
                                {
                                    "ProductID": "864",
                                    "ProductName": "Classic Vest, S",
                                    "Status": "In Stock",
                                    "NumberOfSales": "0",
                                    "InventoryQuantity": "180"
                                },
                                {
                                    "ProductID": "865",
                                    "ProductName": "Classic Vest, M",
                                    "Status": "In Stock",
                                    "NumberOfSales": "0",
                                    "InventoryQuantity": "216"
                                },
                                {
                                    "ProductID": "866",
                                    "ProductName": "Classic Vest, L",
                                    "Status": "In Stock",
                                    "NumberOfSales": "0",
                                    "InventoryQuantity": "252"
                                },
                                {
                                    "ProductID": "867",
                                    "ProductName": "Women's Mountain Shorts, S",
                                    "Status": "In Stock",
                                    "NumberOfSales": "0",
                                    "InventoryQuantity": "216"
                                },
                                {
                                    "ProductID": "868",
                                    "ProductName": "Women's Mountain Shorts, M",
                                    "Status": "In Stock",
                                    "NumberOfSales": "0",
                                    "InventoryQuantity": "252"
                                },
                                {
                                    "ProductID": "869",
                                    "ProductName": "Women's Mountain Shorts, L",
                                    "Status": "In Stock",
                                    "NumberOfSales": "0",
                                    "InventoryQuantity": "288"
                                },
                                {
                                    "ProductID": "870",
                                    "ProductName": "Water Bottle - 30 oz.",
                                    "Status": "In Stock",
                                    "NumberOfSales": "0",
                                    "InventoryQuantity": "252"
                                },
                                {
                                    "ProductID": "871",
                                    "ProductName": "Mountain Bottle Cage",
                                    "Status": "In Stock",
                                    "NumberOfSales": "0",
                                    "InventoryQuantity": "288"
                                },
                                {
                                    "ProductID": "872",
                                    "ProductName": "Road Bottle Cage",
                                    "Status": "In Stock",
                                    "NumberOfSales": "0",
                                    "InventoryQuantity": "324"
                                },
                                {
                                    "ProductID": "873",
                                    "ProductName": "Patch Kit/8 Patches",
                                    "Status": "In Stock",
                                    "NumberOfSales": "0",
                                    "InventoryQuantity": "180"
                                },
                                {
                                    "ProductID": "874",
                                    "ProductName": "Racing Socks, M",
                                    "Status": "In Stock",
                                    "NumberOfSales": "0",
                                    "InventoryQuantity": "252"
                                },
                                {
                                    "ProductID": "875",
                                    "ProductName": "Racing Socks, L",
                                    "Status": "In Stock",
                                    "NumberOfSales": "0",
                                    "InventoryQuantity": "288"
                                },
                                {
                                    "ProductID": "877",
                                    "ProductName": "Bike Wash - Dissolver",
                                    "Status": "In Stock",
                                    "NumberOfSales": "0",
                                    "InventoryQuantity": "36"
                                },
                                {
                                    "ProductID": "878",
                                    "ProductName": "Fender Set - Mountain",
                                    "Status": "In Stock",
                                    "NumberOfSales": "0",
                                    "InventoryQuantity": "108"
                                },
                                {
                                    "ProductID": "879",
                                    "ProductName": "All-Purpose Bike Stand",
                                    "Status": "In Stock",
                                    "NumberOfSales": "0",
                                    "InventoryQuantity": "144"
                                },
                                {
                                    "ProductID": "880",
                                    "ProductName": "Hydration Pack - 70 oz.",
                                    "Status": "In Stock",
                                    "NumberOfSales": "0",
                                    "InventoryQuantity": "108"
                                },
                                {
                                    "ProductID": "881",
                                    "ProductName": "Short-Sleeve Classic Jersey, S",
                                    "Status": "In Stock",
                                    "NumberOfSales": "0",
                                    "InventoryQuantity": "324"
                                },
                                {
                                    "ProductID": "883",
                                    "ProductName": "Short-Sleeve Classic Jersey, L",
                                    "Status": "In Stock",
                                    "NumberOfSales": "0",
                                    "InventoryQuantity": "36"
                                },
                                {
                                    "ProductID": "884",
                                    "ProductName": "Short-Sleeve Classic Jersey, XL",
                                    "Status": "In Stock",
                                    "NumberOfSales": "0",
                                    "InventoryQuantity": "72"
                                },
                                {
                                    "ProductID": "894",
                                    "ProductName": "Rear Derailleur",
                                    "Status": "In Stock",
                                    "NumberOfSales": "0",
                                    "InventoryQuantity": "847"
                                },
                                {
                                    "ProductID": "907",
                                    "ProductName": "Rear Brakes",
                                    "Status": "In Stock",
                                    "NumberOfSales": "0",
                                    "InventoryQuantity": "723"
                                },
                                {
                                    "ProductID": "908",
                                    "ProductName": "LL Mountain Seat/Saddle",
                                    "Status": "In Stock",
                                    "NumberOfSales": "0",
                                    "InventoryQuantity": "809"
                                },
                                {
                                    "ProductID": "909",
                                    "ProductName": "ML Mountain Seat/Saddle",
                                    "Status": "In Stock",
                                    "NumberOfSales": "0",
                                    "InventoryQuantity": "422"
                                },
                                {
                                    "ProductID": "910",
                                    "ProductName": "HL Mountain Seat/Saddle",
                                    "Status": "In Stock",
                                    "NumberOfSales": "0",
                                    "InventoryQuantity": "355"
                                },
                                {
                                    "ProductID": "911",
                                    "ProductName": "LL Road Seat/Saddle",
                                    "Status": "In Stock",
                                    "NumberOfSales": "0",
                                    "InventoryQuantity": "906"
                                },
                                {
                                    "ProductID": "912",
                                    "ProductName": "ML Road Seat/Saddle",
                                    "Status": "In Stock",
                                    "NumberOfSales": "0",
                                    "InventoryQuantity": "901"
                                },
                                {
                                    "ProductID": "913",
                                    "ProductName": "HL Road Seat/Saddle",
                                    "Status": "In Stock",
                                    "NumberOfSales": "0",
                                    "InventoryQuantity": "467"
                                },
                                {
                                    "ProductID": "914",
                                    "ProductName": "LL Touring Seat/Saddle",
                                    "Status": "In Stock",
                                    "NumberOfSales": "0",
                                    "InventoryQuantity": "801"
                                },
                                {
                                    "ProductID": "915",
                                    "ProductName": "ML Touring Seat/Saddle",
                                    "Status": "In Stock",
                                    "NumberOfSales": "0",
                                    "InventoryQuantity": "402"
                                },
                                {
                                    "ProductID": "916",
                                    "ProductName": "HL Touring Seat/Saddle",
                                    "Status": "In Stock",
                                    "NumberOfSales": "0",
                                    "InventoryQuantity": "989"
                                },
                                {
                                    "ProductID": "921",
                                    "ProductName": "Mountain Tire Tube",
                                    "Status": "In Stock",
                                    "NumberOfSales": "0",
                                    "InventoryQuantity": "529"
                                },
                                {
                                    "ProductID": "922",
                                    "ProductName": "Road Tire Tube",
                                    "Status": "In Stock",
                                    "NumberOfSales": "0",
                                    "InventoryQuantity": "505"
                                },
                                {
                                    "ProductID": "923",
                                    "ProductName": "Touring Tire Tube",
                                    "Status": "In Stock",
                                    "NumberOfSales": "0",
                                    "InventoryQuantity": "502"
                                },
                                {
                                    "ProductID": "928",
                                    "ProductName": "LL Mountain Tire",
                                    "Status": "In Stock",
                                    "NumberOfSales": "0",
                                    "InventoryQuantity": "609"
                                },
                                {
                                    "ProductID": "929",
                                    "ProductName": "ML Mountain Tire",
                                    "Status": "In Stock",
                                    "NumberOfSales": "0",
                                    "InventoryQuantity": "669"
                                },
                                {
                                    "ProductID": "930",
                                    "ProductName": "HL Mountain Tire",
                                    "Status": "In Stock",
                                    "NumberOfSales": "0",
                                    "InventoryQuantity": "499"
                                },
                                {
                                    "ProductID": "931",
                                    "ProductName": "LL Road Tire",
                                    "Status": "In Stock",
                                    "NumberOfSales": "0",
                                    "InventoryQuantity": "488"
                                },
                                {
                                    "ProductID": "932",
                                    "ProductName": "ML Road Tire",
                                    "Status": "In Stock",
                                    "NumberOfSales": "0",
                                    "InventoryQuantity": "574"
                                },
                                {
                                    "ProductID": "933",
                                    "ProductName": "HL Road Tire",
                                    "Status": "In Stock",
                                    "NumberOfSales": "0",
                                    "InventoryQuantity": "527"
                                },
                                {
                                    "ProductID": "934",
                                    "ProductName": "Touring Tire",
                                    "Status": "In Stock",
                                    "NumberOfSales": "0",
                                    "InventoryQuantity": "482"
                                },
                                {
                                    "ProductID": "935",
                                    "ProductName": "LL Mountain Pedal",
                                    "Status": "In Stock",
                                    "NumberOfSales": "0",
                                    "InventoryQuantity": "512"
                                },
                                {
                                    "ProductID": "936",
                                    "ProductName": "ML Mountain Pedal",
                                    "Status": "In Stock",
                                    "NumberOfSales": "0",
                                    "InventoryQuantity": "507"
                                },
                                {
                                    "ProductID": "937",
                                    "ProductName": "HL Mountain Pedal",
                                    "Status": "In Stock",
                                    "NumberOfSales": "0",
                                    "InventoryQuantity": "503"
                                },
                                {
                                    "ProductID": "938",
                                    "ProductName": "LL Road Pedal",
                                    "Status": "In Stock",
                                    "NumberOfSales": "0",
                                    "InventoryQuantity": "498"
                                },
                                {
                                    "ProductID": "939",
                                    "ProductName": "ML Road Pedal",
                                    "Status": "In Stock",
                                    "NumberOfSales": "0",
                                    "InventoryQuantity": "494"
                                },
                                {
                                    "ProductID": "940",
                                    "ProductName": "HL Road Pedal",
                                    "Status": "In Stock",
                                    "NumberOfSales": "0",
                                    "InventoryQuantity": "906"
                                },
                                {
                                    "ProductID": "941",
                                    "ProductName": "Touring Pedal",
                                    "Status": "In Stock",
                                    "NumberOfSales": "0",
                                    "InventoryQuantity": "885"
                                },
                                {
                                    "ProductID": "942",
                                    "ProductName": "ML Mountain Frame-W - Silver, 38",
                                    "Status": "In Stock",
                                    "NumberOfSales": "0",
                                    "InventoryQuantity": "826"
                                },
                                {
                                    "ProductID": "943",
                                    "ProductName": "LL Mountain Frame - Black, 40",
                                    "Status": "In Stock",
                                    "NumberOfSales": "0",
                                    "InventoryQuantity": "719"
                                },
                                {
                                    "ProductID": "944",
                                    "ProductName": "LL Mountain Frame - Silver, 40",
                                    "Status": "In Stock",
                                    "NumberOfSales": "0",
                                    "InventoryQuantity": "682"
                                },
                                {
                                    "ProductID": "945",
                                    "ProductName": "Front Derailleur",
                                    "Status": "In Stock",
                                    "NumberOfSales": "0",
                                    "InventoryQuantity": "853"
                                },
                                {
                                    "ProductID": "946",
                                    "ProductName": "LL Touring Handlebars",
                                    "Status": "In Stock",
                                    "NumberOfSales": "0",
                                    "InventoryQuantity": "802"
                                },
                                {
                                    "ProductID": "947",
                                    "ProductName": "HL Touring Handlebars",
                                    "Status": "In Stock",
                                    "NumberOfSales": "0",
                                    "InventoryQuantity": "792"
                                },
                                {
                                    "ProductID": "948",
                                    "ProductName": "Front Brakes",
                                    "Status": "In Stock",
                                    "NumberOfSales": "0",
                                    "InventoryQuantity": "767"
                                },
                                {
                                    "ProductID": "949",
                                    "ProductName": "LL Crankset",
                                    "Status": "In Stock",
                                    "NumberOfSales": "0",
                                    "InventoryQuantity": "885"
                                },
                                {
                                    "ProductID": "950",
                                    "ProductName": "ML Crankset",
                                    "Status": "In Stock",
                                    "NumberOfSales": "0",
                                    "InventoryQuantity": "905"
                                },
                                {
                                    "ProductID": "951",
                                    "ProductName": "HL Crankset",
                                    "Status": "In Stock",
                                    "NumberOfSales": "0",
                                    "InventoryQuantity": "923"
                                },
                                {
                                    "ProductID": "952",
                                    "ProductName": "Chain",
                                    "Status": "In Stock",
                                    "NumberOfSales": "0",
                                    "InventoryQuantity": "589"
                                },
                                {
                                    "ProductID": "953",
                                    "ProductName": "Touring-2000 Blue, 60",
                                    "Status": "In Stock",
                                    "NumberOfSales": "0",
                                    "InventoryQuantity": "165"
                                },
                                {
                                    "ProductID": "954",
                                    "ProductName": "Touring-1000 Yellow, 46",
                                    "Status": "In Stock",
                                    "NumberOfSales": "0",
                                    "InventoryQuantity": "148"
                                },
                                {
                                    "ProductID": "955",
                                    "ProductName": "Touring-1000 Yellow, 50",
                                    "Status": "In Stock",
                                    "NumberOfSales": "0",
                                    "InventoryQuantity": "137"
                                },
                                {
                                    "ProductID": "956",
                                    "ProductName": "Touring-1000 Yellow, 54",
                                    "Status": "In Stock",
                                    "NumberOfSales": "0",
                                    "InventoryQuantity": "75"
                                },
                                {
                                    "ProductID": "957",
                                    "ProductName": "Touring-1000 Yellow, 60",
                                    "Status": "In Stock",
                                    "NumberOfSales": "0",
                                    "InventoryQuantity": "151"
                                },
                                {
                                    "ProductID": "958",
                                    "ProductName": "Touring-3000 Blue, 54",
                                    "Status": "In Stock",
                                    "NumberOfSales": "0",
                                    "InventoryQuantity": "163"
                                },
                                {
                                    "ProductID": "959",
                                    "ProductName": "Touring-3000 Blue, 58",
                                    "Status": "In Stock",
                                    "NumberOfSales": "0",
                                    "InventoryQuantity": "204"
                                },
                                {
                                    "ProductID": "960",
                                    "ProductName": "Touring-3000 Blue, 62",
                                    "Status": "In Stock",
                                    "NumberOfSales": "0",
                                    "InventoryQuantity": "159"
                                },
                                {
                                    "ProductID": "961",
                                    "ProductName": "Touring-3000 Yellow, 44",
                                    "Status": "In Stock",
                                    "NumberOfSales": "0",
                                    "InventoryQuantity": "168"
                                },
                                {
                                    "ProductID": "962",
                                    "ProductName": "Touring-3000 Yellow, 50",
                                    "Status": "In Stock",
                                    "NumberOfSales": "0",
                                    "InventoryQuantity": "174"
                                },
                                {
                                    "ProductID": "963",
                                    "ProductName": "Touring-3000 Yellow, 54",
                                    "Status": "In Stock",
                                    "NumberOfSales": "0",
                                    "InventoryQuantity": "162"
                                },
                                {
                                    "ProductID": "964",
                                    "ProductName": "Touring-3000 Yellow, 58",
                                    "Status": "In Stock",
                                    "NumberOfSales": "0",
                                    "InventoryQuantity": "197"
                                },
                                {
                                    "ProductID": "965",
                                    "ProductName": "Touring-3000 Yellow, 62",
                                    "Status": "In Stock",
                                    "NumberOfSales": "0",
                                    "InventoryQuantity": "163"
                                },
                                {
                                    "ProductID": "966",
                                    "ProductName": "Touring-1000 Blue, 46",
                                    "Status": "In Stock",
                                    "NumberOfSales": "0",
                                    "InventoryQuantity": "185"
                                },
                                {
                                    "ProductID": "967",
                                    "ProductName": "Touring-1000 Blue, 50",
                                    "Status": "In Stock",
                                    "NumberOfSales": "0",
                                    "InventoryQuantity": "148"
                                },
                                {
                                    "ProductID": "968",
                                    "ProductName": "Touring-1000 Blue, 54",
                                    "Status": "In Stock",
                                    "NumberOfSales": "0",
                                    "InventoryQuantity": "133"
                                },
                                {
                                    "ProductID": "969",
                                    "ProductName": "Touring-1000 Blue, 60",
                                    "Status": "In Stock",
                                    "NumberOfSales": "0",
                                    "InventoryQuantity": "129"
                                },
                                {
                                    "ProductID": "970",
                                    "ProductName": "Touring-2000 Blue, 46",
                                    "Status": "In Stock",
                                    "NumberOfSales": "0",
                                    "InventoryQuantity": "133"
                                },
                                {
                                    "ProductID": "971",
                                    "ProductName": "Touring-2000 Blue, 50",
                                    "Status": "In Stock",
                                    "NumberOfSales": "0",
                                    "InventoryQuantity": "227"
                                },
                                {
                                    "ProductID": "972",
                                    "ProductName": "Touring-2000 Blue, 54",
                                    "Status": "In Stock",
                                    "NumberOfSales": "0",
                                    "InventoryQuantity": "129"
                                },
                                {
                                    "ProductID": "973",
                                    "ProductName": "Road-350-W Yellow, 40",
                                    "Status": "In Stock",
                                    "NumberOfSales": "0",
                                    "InventoryQuantity": "185"
                                },
                                {
                                    "ProductID": "974",
                                    "ProductName": "Road-350-W Yellow, 42",
                                    "Status": "In Stock",
                                    "NumberOfSales": "0",
                                    "InventoryQuantity": "148"
                                },
                                {
                                    "ProductID": "975",
                                    "ProductName": "Road-350-W Yellow, 44",
                                    "Status": "In Stock",
                                    "NumberOfSales": "0",
                                    "InventoryQuantity": "133"
                                },
                                {
                                    "ProductID": "976",
                                    "ProductName": "Road-350-W Yellow, 48",
                                    "Status": "In Stock",
                                    "NumberOfSales": "0",
                                    "InventoryQuantity": "227"
                                },
                                {
                                    "ProductID": "977",
                                    "ProductName": "Road-750 Black, 58",
                                    "Status": "In Stock",
                                    "NumberOfSales": "0",
                                    "InventoryQuantity": "153"
                                },
                                {
                                    "ProductID": "978",
                                    "ProductName": "Touring-3000 Blue, 44",
                                    "Status": "In Stock",
                                    "NumberOfSales": "0",
                                    "InventoryQuantity": "163"
                                },
                                {
                                    "ProductID": "979",
                                    "ProductName": "Touring-3000 Blue, 50",
                                    "Status": "In Stock",
                                    "NumberOfSales": "0",
                                    "InventoryQuantity": "164"
                                },
                                {
                                    "ProductID": "980",
                                    "ProductName": "Mountain-400-W Silver, 38",
                                    "Status": "In Stock",
                                    "NumberOfSales": "0",
                                    "InventoryQuantity": "150"
                                },
                                {
                                    "ProductID": "981",
                                    "ProductName": "Mountain-400-W Silver, 40",
                                    "Status": "In Stock",
                                    "NumberOfSales": "0",
                                    "InventoryQuantity": "153"
                                },
                                {
                                    "ProductID": "982",
                                    "ProductName": "Mountain-400-W Silver, 42",
                                    "Status": "In Stock",
                                    "NumberOfSales": "0",
                                    "InventoryQuantity": "154"
                                },
                                {
                                    "ProductID": "983",
                                    "ProductName": "Mountain-400-W Silver, 46",
                                    "Status": "In Stock",
                                    "NumberOfSales": "0",
                                    "InventoryQuantity": "164"
                                },
                                {
                                    "ProductID": "984",
                                    "ProductName": "Mountain-500 Silver, 40",
                                    "Status": "In Stock",
                                    "NumberOfSales": "0",
                                    "InventoryQuantity": "154"
                                },
                                {
                                    "ProductID": "985",
                                    "ProductName": "Mountain-500 Silver, 42",
                                    "Status": "In Stock",
                                    "NumberOfSales": "0",
                                    "InventoryQuantity": "164"
                                },
                                {
                                    "ProductID": "986",
                                    "ProductName": "Mountain-500 Silver, 44",
                                    "Status": "In Stock",
                                    "NumberOfSales": "0",
                                    "InventoryQuantity": "153"
                                },
                                {
                                    "ProductID": "987",
                                    "ProductName": "Mountain-500 Silver, 48",
                                    "Status": "In Stock",
                                    "NumberOfSales": "0",
                                    "InventoryQuantity": "155"
                                },
                                {
                                    "ProductID": "988",
                                    "ProductName": "Mountain-500 Silver, 52",
                                    "Status": "In Stock",
                                    "NumberOfSales": "0",
                                    "InventoryQuantity": "194"
                                },
                                {
                                    "ProductID": "989",
                                    "ProductName": "Mountain-500 Black, 40",
                                    "Status": "In Stock",
                                    "NumberOfSales": "0",
                                    "InventoryQuantity": "150"
                                },
                                {
                                    "ProductID": "990",
                                    "ProductName": "Mountain-500 Black, 42",
                                    "Status": "In Stock",
                                    "NumberOfSales": "0",
                                    "InventoryQuantity": "153"
                                },
                                {
                                    "ProductID": "991",
                                    "ProductName": "Mountain-500 Black, 44",
                                    "Status": "In Stock",
                                    "NumberOfSales": "0",
                                    "InventoryQuantity": "154"
                                },
                                {
                                    "ProductID": "992",
                                    "ProductName": "Mountain-500 Black, 48",
                                    "Status": "In Stock",
                                    "NumberOfSales": "0",
                                    "InventoryQuantity": "164"
                                },
                                {
                                    "ProductID": "993",
                                    "ProductName": "Mountain-500 Black, 52",
                                    "Status": "In Stock",
                                    "NumberOfSales": "0",
                                    "InventoryQuantity": "153"
                                },
                                {
                                    "ProductID": "994",
                                    "ProductName": "LL Bottom Bracket",
                                    "Status": "In Stock",
                                    "NumberOfSales": "0",
                                    "InventoryQuantity": "814"
                                },
                                {
                                    "ProductID": "995",
                                    "ProductName": "ML Bottom Bracket",
                                    "Status": "In Stock",
                                    "NumberOfSales": "0",
                                    "InventoryQuantity": "816"
                                },
                                {
                                    "ProductID": "996",
                                    "ProductName": "HL Bottom Bracket",
                                    "Status": "In Stock",
                                    "NumberOfSales": "0",
                                    "InventoryQuantity": "970"
                                },
                                {
                                    "ProductID": "997",
                                    "ProductName": "Road-750 Black, 44",
                                    "Status": "In Stock",
                                    "NumberOfSales": "0",
                                    "InventoryQuantity": "153"
                                },
                                {
                                    "ProductID": "998",
                                    "ProductName": "Road-750 Black, 48",
                                    "Status": "In Stock",
                                    "NumberOfSales": "0",
                                    "InventoryQuantity": "155"
                                },
                                {
                                    "ProductID": "999",
                                    "ProductName": "Road-750 Black, 52",
                                    "Status": "In Stock",
                                    "NumberOfSales": "0",
                                    "InventoryQuantity": "194"
                                }
                            ]
                        },
                        "text/html": "<table><tr><th>ProductID</th><th>ProductName</th><th>Status</th><th>NumberOfSales</th><th>InventoryQuantity</th></tr><tr><td>707</td><td>Sport-100 Helmet, Red</td><td>Sold</td><td>3083</td><td>0</td></tr><tr><td>708</td><td>Sport-100 Helmet, Black</td><td>Sold</td><td>3007</td><td>0</td></tr><tr><td>709</td><td>Mountain Bike Socks, M</td><td>Sold</td><td>188</td><td>0</td></tr><tr><td>710</td><td>Mountain Bike Socks, L</td><td>Sold</td><td>44</td><td>0</td></tr><tr><td>711</td><td>Sport-100 Helmet, Blue</td><td>Sold</td><td>3090</td><td>0</td></tr><tr><td>712</td><td>AWC Logo Cap</td><td>Sold</td><td>3382</td><td>0</td></tr><tr><td>713</td><td>Long-Sleeve Logo Jersey, S</td><td>Sold</td><td>429</td><td>0</td></tr><tr><td>714</td><td>Long-Sleeve Logo Jersey, M</td><td>Sold</td><td>1218</td><td>0</td></tr><tr><td>715</td><td>Long-Sleeve Logo Jersey, L</td><td>Sold</td><td>1635</td><td>0</td></tr><tr><td>716</td><td>Long-Sleeve Logo Jersey, XL</td><td>Sold</td><td>1076</td><td>0</td></tr><tr><td>717</td><td>HL Road Frame - Red, 62</td><td>Sold</td><td>218</td><td>0</td></tr><tr><td>718</td><td>HL Road Frame - Red, 44</td><td>Sold</td><td>219</td><td>0</td></tr><tr><td>719</td><td>HL Road Frame - Red, 48</td><td>Sold</td><td>44</td><td>0</td></tr><tr><td>722</td><td>LL Road Frame - Black, 58</td><td>Sold</td><td>392</td><td>0</td></tr><tr><td>723</td><td>LL Road Frame - Black, 60</td><td>Sold</td><td>52</td><td>0</td></tr><tr><td>725</td><td>LL Road Frame - Red, 44</td><td>Sold</td><td>374</td><td>0</td></tr><tr><td>726</td><td>LL Road Frame - Red, 48</td><td>Sold</td><td>288</td><td>0</td></tr><tr><td>727</td><td>LL Road Frame - Red, 52</td><td>Sold</td><td>48</td><td>0</td></tr><tr><td>729</td><td>LL Road Frame - Red, 60</td><td>Sold</td><td>375</td><td>0</td></tr><tr><td>730</td><td>LL Road Frame - Red, 62</td><td>Sold</td><td>288</td><td>0</td></tr><tr><td>732</td><td>ML Road Frame - Red, 48</td><td>Sold</td><td>130</td><td>0</td></tr><tr><td>733</td><td>ML Road Frame - Red, 52</td><td>Sold</td><td>44</td><td>0</td></tr><tr><td>736</td><td>LL Road Frame - Black, 44</td><td>Sold</td><td>110</td><td>0</td></tr><tr><td>738</td><td>LL Road Frame - Black, 52</td><td>Sold</td><td>600</td><td>0</td></tr><tr><td>739</td><td>HL Mountain Frame - Silver, 42</td><td>Sold</td><td>167</td><td>0</td></tr><tr><td>741</td><td>HL Mountain Frame - Silver, 48</td><td>Sold</td><td>94</td><td>0</td></tr><tr><td>742</td><td>HL Mountain Frame - Silver, 46</td><td>Sold</td><td>288</td><td>0</td></tr><tr><td>743</td><td>HL Mountain Frame - Black, 42</td><td>Sold</td><td>481</td><td>0</td></tr><tr><td>744</td><td>HL Mountain Frame - Black, 44</td><td>Sold</td><td>13</td><td>0</td></tr><tr><td>745</td><td>HL Mountain Frame - Black, 48</td><td>Sold</td><td>76</td><td>0</td></tr><tr><td>747</td><td>HL Mountain Frame - Black, 38</td><td>Sold</td><td>289</td><td>0</td></tr><tr><td>748</td><td>HL Mountain Frame - Silver, 38</td><td>Sold</td><td>491</td><td>0</td></tr><tr><td>749</td><td>Road-150 Red, 62</td><td>Sold</td><td>470</td><td>0</td></tr><tr><td>750</td><td>Road-150 Red, 44</td><td>Sold</td><td>358</td><td>0</td></tr><tr><td>751</td><td>Road-150 Red, 48</td><td>Sold</td><td>409</td><td>0</td></tr><tr><td>752</td><td>Road-150 Red, 52</td><td>Sold</td><td>378</td><td>0</td></tr><tr><td>753</td><td>Road-150 Red, 56</td><td>Sold</td><td>475</td><td>0</td></tr><tr><td>754</td><td>Road-450 Red, 58</td><td>Sold</td><td>226</td><td>0</td></tr><tr><td>755</td><td>Road-450 Red, 60</td><td>Sold</td><td>164</td><td>0</td></tr><tr><td>756</td><td>Road-450 Red, 44</td><td>Sold</td><td>171</td><td>0</td></tr><tr><td>757</td><td>Road-450 Red, 48</td><td>Sold</td><td>77</td><td>0</td></tr><tr><td>758</td><td>Road-450 Red, 52</td><td>Sold</td><td>267</td><td>0</td></tr><tr><td>759</td><td>Road-650 Red, 58</td><td>Sold</td><td>282</td><td>0</td></tr><tr><td>760</td><td>Road-650 Red, 60</td><td>Sold</td><td>680</td><td>0</td></tr><tr><td>761</td><td>Road-650 Red, 62</td><td>Sold</td><td>638</td><td>0</td></tr><tr><td>762</td><td>Road-650 Red, 44</td><td>Sold</td><td>689</td><td>0</td></tr><tr><td>763</td><td>Road-650 Red, 48</td><td>Sold</td><td>649</td><td>0</td></tr><tr><td>764</td><td>Road-650 Red, 52</td><td>Sold</td><td>440</td><td>0</td></tr><tr><td>765</td><td>Road-650 Black, 58</td><td>Sold</td><td>642</td><td>0</td></tr><tr><td>766</td><td>Road-650 Black, 60</td><td>Sold</td><td>460</td><td>0</td></tr><tr><td>767</td><td>Road-650 Black, 62</td><td>Sold</td><td>293</td><td>0</td></tr><tr><td>768</td><td>Road-650 Black, 44</td><td>Sold</td><td>441</td><td>0</td></tr><tr><td>769</td><td>Road-650 Black, 48</td><td>Sold</td><td>293</td><td>0</td></tr><tr><td>770</td><td>Road-650 Black, 52</td><td>Sold</td><td>703</td><td>0</td></tr><tr><td>771</td><td>Mountain-100 Silver, 38</td><td>Sold</td><td>241</td><td>0</td></tr><tr><td>772</td><td>Mountain-100 Silver, 42</td><td>Sold</td><td>221</td><td>0</td></tr><tr><td>773</td><td>Mountain-100 Silver, 44</td><td>Sold</td><td>233</td><td>0</td></tr><tr><td>774</td><td>Mountain-100 Silver, 48</td><td>Sold</td><td>204</td><td>0</td></tr><tr><td>775</td><td>Mountain-100 Black, 38</td><td>Sold</td><td>234</td><td>0</td></tr><tr><td>776</td><td>Mountain-100 Black, 42</td><td>Sold</td><td>228</td><td>0</td></tr><tr><td>777</td><td>Mountain-100 Black, 44</td><td>Sold</td><td>242</td><td>0</td></tr><tr><td>778</td><td>Mountain-100 Black, 48</td><td>Sold</td><td>243</td><td>0</td></tr><tr><td>779</td><td>Mountain-200 Silver, 38</td><td>Sold</td><td>1094</td><td>0</td></tr><tr><td>780</td><td>Mountain-200 Silver, 42</td><td>Sold</td><td>1040</td><td>0</td></tr><tr><td>781</td><td>Mountain-200 Silver, 46</td><td>Sold</td><td>1054</td><td>0</td></tr><tr><td>782</td><td>Mountain-200 Black, 38</td><td>Sold</td><td>1252</td><td>0</td></tr><tr><td>783</td><td>Mountain-200 Black, 42</td><td>Sold</td><td>1177</td><td>0</td></tr><tr><td>784</td><td>Mountain-200 Black, 46</td><td>Sold</td><td>1059</td><td>0</td></tr><tr><td>785</td><td>Mountain-300 Black, 38</td><td>Sold</td><td>220</td><td>0</td></tr><tr><td>786</td><td>Mountain-300 Black, 40</td><td>Sold</td><td>223</td><td>0</td></tr><tr><td>787</td><td>Mountain-300 Black, 44</td><td>Sold</td><td>228</td><td>0</td></tr><tr><td>788</td><td>Mountain-300 Black, 48</td><td>Sold</td><td>223</td><td>0</td></tr><tr><td>789</td><td>Road-250 Red, 44</td><td>Sold</td><td>364</td><td>0</td></tr><tr><td>790</td><td>Road-250 Red, 48</td><td>Sold</td><td>377</td><td>0</td></tr><tr><td>791</td><td>Road-250 Red, 52</td><td>Sold</td><td>314</td><td>0</td></tr><tr><td>792</td><td>Road-250 Red, 58</td><td>Sold</td><td>526</td><td>0</td></tr><tr><td>793</td><td>Road-250 Black, 44</td><td>Sold</td><td>705</td><td>0</td></tr><tr><td>794</td><td>Road-250 Black, 48</td><td>Sold</td><td>712</td><td>0</td></tr><tr><td>795</td><td>Road-250 Black, 52</td><td>Sold</td><td>667</td><td>0</td></tr><tr><td>796</td><td>Road-250 Black, 58</td><td>Sold</td><td>486</td><td>0</td></tr><tr><td>797</td><td>Road-550-W Yellow, 38</td><td>Sold</td><td>725</td><td>0</td></tr><tr><td>798</td><td>Road-550-W Yellow, 40</td><td>Sold</td><td>687</td><td>0</td></tr><tr><td>799</td><td>Road-550-W Yellow, 42</td><td>Sold</td><td>648</td><td>0</td></tr><tr><td>800</td><td>Road-550-W Yellow, 44</td><td>Sold</td><td>495</td><td>0</td></tr><tr><td>801</td><td>Road-550-W Yellow, 48</td><td>Sold</td><td>723</td><td>0</td></tr><tr><td>802</td><td>LL Fork</td><td>Sold</td><td>83</td><td>0</td></tr><tr><td>804</td><td>HL Fork</td><td>Sold</td><td>117</td><td>0</td></tr><tr><td>805</td><td>LL Headset</td><td>Sold</td><td>46</td><td>0</td></tr><tr><td>806</td><td>ML Headset</td><td>Sold</td><td>110</td><td>0</td></tr><tr><td>807</td><td>HL Headset</td><td>Sold</td><td>110</td><td>0</td></tr><tr><td>808</td><td>LL Mountain Handlebars</td><td>Sold</td><td>301</td><td>0</td></tr><tr><td>809</td><td>ML Mountain Handlebars</td><td>Sold</td><td>507</td><td>0</td></tr><tr><td>810</td><td>HL Mountain Handlebars</td><td>Sold</td><td>216</td><td>0</td></tr><tr><td>811</td><td>LL Road Handlebars</td><td>Sold</td><td>98</td><td>0</td></tr><tr><td>813</td><td>HL Road Handlebars</td><td>Sold</td><td>270</td><td>0</td></tr><tr><td>814</td><td>ML Mountain Frame - Black, 38</td><td>Sold</td><td>226</td><td>0</td></tr><tr><td>815</td><td>LL Mountain Front Wheel</td><td>Sold</td><td>232</td><td>0</td></tr><tr><td>816</td><td>ML Mountain Front Wheel</td><td>Sold</td><td>114</td><td>0</td></tr><tr><td>817</td><td>HL Mountain Front Wheel</td><td>Sold</td><td>104</td><td>0</td></tr><tr><td>819</td><td>ML Road Front Wheel</td><td>Sold</td><td>195</td><td>0</td></tr><tr><td>820</td><td>HL Road Front Wheel</td><td>Sold</td><td>206</td><td>0</td></tr><tr><td>822</td><td>ML Road Frame-W - Yellow, 38</td><td>Sold</td><td>356</td><td>0</td></tr><tr><td>823</td><td>LL Mountain Rear Wheel</td><td>Sold</td><td>148</td><td>0</td></tr><tr><td>824</td><td>ML Mountain Rear Wheel</td><td>Sold</td><td>265</td><td>0</td></tr><tr><td>825</td><td>HL Mountain Rear Wheel</td><td>Sold</td><td>258</td><td>0</td></tr><tr><td>826</td><td>LL Road Rear Wheel</td><td>Sold</td><td>305</td><td>0</td></tr><tr><td>827</td><td>ML Road Rear Wheel</td><td>Sold</td><td>31</td><td>0</td></tr><tr><td>828</td><td>HL Road Rear Wheel</td><td>Sold</td><td>46</td><td>0</td></tr><tr><td>830</td><td>ML Mountain Frame - Black, 40</td><td>Sold</td><td>33</td><td>0</td></tr><tr><td>831</td><td>ML Mountain Frame - Black, 44</td><td>Sold</td><td>198</td><td>0</td></tr><tr><td>832</td><td>ML Mountain Frame - Black, 48</td><td>Sold</td><td>256</td><td>0</td></tr><tr><td>833</td><td>ML Road Frame-W - Yellow, 40</td><td>Sold</td><td>88</td><td>0</td></tr><tr><td>835</td><td>ML Road Frame-W - Yellow, 44</td><td>Sold</td><td>489</td><td>0</td></tr><tr><td>836</td><td>ML Road Frame-W - Yellow, 48</td><td>Sold</td><td>350</td><td>0</td></tr><tr><td>838</td><td>HL Road Frame - Black, 44</td><td>Sold</td><td>201</td><td>0</td></tr><tr><td>839</td><td>HL Road Frame - Black, 48</td><td>Sold</td><td>47</td><td>0</td></tr><tr><td>841</td><td>Men&#39;s Sports Shorts, S</td><td>Sold</td><td>160</td><td>0</td></tr><tr><td>843</td><td>Cable Lock</td><td>Sold</td><td>260</td><td>0</td></tr><tr><td>844</td><td>Minipump</td><td>Sold</td><td>267</td><td>0</td></tr><tr><td>849</td><td>Men&#39;s Sports Shorts, M</td><td>Sold</td><td>283</td><td>0</td></tr><tr><td>850</td><td>Men&#39;s Sports Shorts, L</td><td>Sold</td><td>131</td><td>0</td></tr><tr><td>852</td><td>Women&#39;s Tights, S</td><td>Sold</td><td>422</td><td>0</td></tr><tr><td>853</td><td>Women&#39;s Tights, M</td><td>Sold</td><td>114</td><td>0</td></tr><tr><td>854</td><td>Women&#39;s Tights, L</td><td>Sold</td><td>441</td><td>0</td></tr><tr><td>855</td><td>Men&#39;s Bib-Shorts, S</td><td>Sold</td><td>231</td><td>0</td></tr><tr><td>856</td><td>Men&#39;s Bib-Shorts, M</td><td>Sold</td><td>353</td><td>0</td></tr><tr><td>857</td><td>Men&#39;s Bib-Shorts, L</td><td>Sold</td><td>178</td><td>0</td></tr><tr><td>858</td><td>Half-Finger Gloves, S</td><td>Sold</td><td>883</td><td>0</td></tr><tr><td>859</td><td>Half-Finger Gloves, M</td><td>Sold</td><td>1086</td><td>0</td></tr><tr><td>860</td><td>Half-Finger Gloves, L</td><td>Sold</td><td>673</td><td>0</td></tr><tr><td>861</td><td>Full-Finger Gloves, S</td><td>Sold</td><td>240</td><td>0</td></tr><tr><td>862</td><td>Full-Finger Gloves, M</td><td>Sold</td><td>359</td><td>0</td></tr><tr><td>863</td><td>Full-Finger Gloves, L</td><td>Sold</td><td>364</td><td>0</td></tr><tr><td>864</td><td>Classic Vest, S</td><td>Sold</td><td>682</td><td>0</td></tr><tr><td>865</td><td>Classic Vest, M</td><td>Sold</td><td>555</td><td>0</td></tr><tr><td>866</td><td>Classic Vest, L</td><td>Sold</td><td>201</td><td>0</td></tr><tr><td>867</td><td>Women&#39;s Mountain Shorts, S</td><td>Sold</td><td>648</td><td>0</td></tr><tr><td>868</td><td>Women&#39;s Mountain Shorts, M</td><td>Sold</td><td>681</td><td>0</td></tr><tr><td>869</td><td>Women&#39;s Mountain Shorts, L</td><td>Sold</td><td>707</td><td>0</td></tr><tr><td>870</td><td>Water Bottle - 30 oz.</td><td>Sold</td><td>4688</td><td>0</td></tr><tr><td>871</td><td>Mountain Bottle Cage</td><td>Sold</td><td>2025</td><td>0</td></tr><tr><td>872</td><td>Road Bottle Cage</td><td>Sold</td><td>1712</td><td>0</td></tr><tr><td>873</td><td>Patch Kit/8 Patches</td><td>Sold</td><td>3354</td><td>0</td></tr><tr><td>874</td><td>Racing Socks, M</td><td>Sold</td><td>593</td><td>0</td></tr><tr><td>875</td><td>Racing Socks, L</td><td>Sold</td><td>604</td><td>0</td></tr><tr><td>876</td><td>Hitch Rack - 4-Bike</td><td>Sold</td><td>796</td><td>0</td></tr><tr><td>877</td><td>Bike Wash - Dissolver</td><td>Sold</td><td>1327</td><td>0</td></tr><tr><td>878</td><td>Fender Set - Mountain</td><td>Sold</td><td>2121</td><td>0</td></tr><tr><td>879</td><td>All-Purpose Bike Stand</td><td>Sold</td><td>249</td><td>0</td></tr><tr><td>880</td><td>Hydration Pack - 70 oz.</td><td>Sold</td><td>1074</td><td>0</td></tr><tr><td>881</td><td>Short-Sleeve Classic Jersey, S</td><td>Sold</td><td>717</td><td>0</td></tr><tr><td>882</td><td>Short-Sleeve Classic Jersey, M</td><td>Sold</td><td>407</td><td>0</td></tr><tr><td>883</td><td>Short-Sleeve Classic Jersey, L</td><td>Sold</td><td>805</td><td>0</td></tr><tr><td>884</td><td>Short-Sleeve Classic Jersey, XL</td><td>Sold</td><td>904</td><td>0</td></tr><tr><td>885</td><td>HL Touring Frame - Yellow, 60</td><td>Sold</td><td>135</td><td>0</td></tr><tr><td>886</td><td>LL Touring Frame - Yellow, 62</td><td>Sold</td><td>130</td><td>0</td></tr><tr><td>887</td><td>HL Touring Frame - Yellow, 46</td><td>Sold</td><td>41</td><td>0</td></tr><tr><td>888</td><td>HL Touring Frame - Yellow, 50</td><td>Sold</td><td>39</td><td>0</td></tr><tr><td>889</td><td>HL Touring Frame - Yellow, 54</td><td>Sold</td><td>161</td><td>0</td></tr><tr><td>890</td><td>HL Touring Frame - Blue, 46</td><td>Sold</td><td>58</td><td>0</td></tr><tr><td>891</td><td>HL Touring Frame - Blue, 50</td><td>Sold</td><td>58</td><td>0</td></tr><tr><td>892</td><td>HL Touring Frame - Blue, 54</td><td>Sold</td><td>169</td><td>0</td></tr><tr><td>893</td><td>HL Touring Frame - Blue, 60</td><td>Sold</td><td>140</td><td>0</td></tr><tr><td>894</td><td>Rear Derailleur</td><td>Sold</td><td>145</td><td>0</td></tr><tr><td>895</td><td>LL Touring Frame - Blue, 50</td><td>Sold</td><td>126</td><td>0</td></tr><tr><td>896</td><td>LL Touring Frame - Blue, 54</td><td>Sold</td><td>99</td><td>0</td></tr><tr><td>897</td><td>LL Touring Frame - Blue, 58</td><td>Sold</td><td>2</td><td>0</td></tr><tr><td>898</td><td>LL Touring Frame - Blue, 62</td><td>Sold</td><td>9</td><td>0</td></tr><tr><td>899</td><td>LL Touring Frame - Yellow, 44</td><td>Sold</td><td>117</td><td>0</td></tr><tr><td>900</td><td>LL Touring Frame - Yellow, 50</td><td>Sold</td><td>110</td><td>0</td></tr><tr><td>902</td><td>LL Touring Frame - Yellow, 58</td><td>Sold</td><td>20</td><td>0</td></tr><tr><td>903</td><td>LL Touring Frame - Blue, 44</td><td>Sold</td><td>14</td><td>0</td></tr><tr><td>904</td><td>ML Mountain Frame-W - Silver, 40</td><td>Sold</td><td>253</td><td>0</td></tr><tr><td>905</td><td>ML Mountain Frame-W - Silver, 42</td><td>Sold</td><td>230</td><td>0</td></tr><tr><td>906</td><td>ML Mountain Frame-W - Silver, 46</td><td>Sold</td><td>87</td><td>0</td></tr><tr><td>907</td><td>Rear Brakes</td><td>Sold</td><td>113</td><td>0</td></tr><tr><td>908</td><td>LL Mountain Seat/Saddle</td><td>Sold</td><td>153</td><td>0</td></tr><tr><td>909</td><td>ML Mountain Seat/Saddle</td><td>Sold</td><td>138</td><td>0</td></tr><tr><td>910</td><td>HL Mountain Seat/Saddle</td><td>Sold</td><td>222</td><td>0</td></tr><tr><td>911</td><td>LL Road Seat/Saddle</td><td>Sold</td><td>6</td><td>0</td></tr><tr><td>913</td><td>HL Road Seat/Saddle</td><td>Sold</td><td>60</td><td>0</td></tr><tr><td>914</td><td>LL Touring Seat/Saddle</td><td>Sold</td><td>43</td><td>0</td></tr><tr><td>915</td><td>ML Touring Seat/Saddle</td><td>Sold</td><td>41</td><td>0</td></tr><tr><td>916</td><td>HL Touring Seat/Saddle</td><td>Sold</td><td>177</td><td>0</td></tr><tr><td>917</td><td>LL Mountain Frame - Silver, 42</td><td>Sold</td><td>224</td><td>0</td></tr><tr><td>918</td><td>LL Mountain Frame - Silver, 44</td><td>Sold</td><td>159</td><td>0</td></tr><tr><td>919</td><td>LL Mountain Frame - Silver, 48</td><td>Sold</td><td>16</td><td>0</td></tr><tr><td>920</td><td>LL Mountain Frame - Silver, 52</td><td>Sold</td><td>159</td><td>0</td></tr><tr><td>921</td><td>Mountain Tire Tube</td><td>Sold</td><td>3095</td><td>0</td></tr><tr><td>922</td><td>Road Tire Tube</td><td>Sold</td><td>2376</td><td>0</td></tr><tr><td>923</td><td>Touring Tire Tube</td><td>Sold</td><td>1488</td><td>0</td></tr><tr><td>924</td><td>LL Mountain Frame - Black, 42</td><td>Sold</td><td>162</td><td>0</td></tr><tr><td>925</td><td>LL Mountain Frame - Black, 44</td><td>Sold</td><td>227</td><td>0</td></tr><tr><td>926</td><td>LL Mountain Frame - Black, 48</td><td>Sold</td><td>164</td><td>0</td></tr><tr><td>927</td><td>LL Mountain Frame - Black, 52</td><td>Sold</td><td>9</td><td>0</td></tr><tr><td>928</td><td>LL Mountain Tire</td><td>Sold</td><td>862</td><td>0</td></tr><tr><td>929</td><td>ML Mountain Tire</td><td>Sold</td><td>1161</td><td>0</td></tr><tr><td>930</td><td>HL Mountain Tire</td><td>Sold</td><td>1396</td><td>0</td></tr><tr><td>931</td><td>LL Road Tire</td><td>Sold</td><td>1044</td><td>0</td></tr><tr><td>932</td><td>ML Road Tire</td><td>Sold</td><td>926</td><td>0</td></tr><tr><td>933</td><td>HL Road Tire</td><td>Sold</td><td>858</td><td>0</td></tr><tr><td>934</td><td>Touring Tire</td><td>Sold</td><td>935</td><td>0</td></tr><tr><td>935</td><td>LL Mountain Pedal</td><td>Sold</td><td>195</td><td>0</td></tr><tr><td>936</td><td>ML Mountain Pedal</td><td>Sold</td><td>158</td><td>0</td></tr><tr><td>937</td><td>HL Mountain Pedal</td><td>Sold</td><td>255</td><td>0</td></tr><tr><td>938</td><td>LL Road Pedal</td><td>Sold</td><td>309</td><td>0</td></tr><tr><td>939</td><td>ML Road Pedal</td><td>Sold</td><td>265</td><td>0</td></tr><tr><td>940</td><td>HL Road Pedal</td><td>Sold</td><td>264</td><td>0</td></tr><tr><td>941</td><td>Touring Pedal</td><td>Sold</td><td>71</td><td>0</td></tr><tr><td>942</td><td>ML Mountain Frame-W - Silver, 38</td><td>Sold</td><td>5</td><td>0</td></tr><tr><td>943</td><td>LL Mountain Frame - Black, 40</td><td>Sold</td><td>6</td><td>0</td></tr><tr><td>944</td><td>LL Mountain Frame - Silver, 40</td><td>Sold</td><td>164</td><td>0</td></tr><tr><td>945</td><td>Front Derailleur</td><td>Sold</td><td>257</td><td>0</td></tr><tr><td>946</td><td>LL Touring Handlebars</td><td>Sold</td><td>30</td><td>0</td></tr><tr><td>947</td><td>HL Touring Handlebars</td><td>Sold</td><td>109</td><td>0</td></tr><tr><td>948</td><td>Front Brakes</td><td>Sold</td><td>266</td><td>0</td></tr><tr><td>949</td><td>LL Crankset</td><td>Sold</td><td>176</td><td>0</td></tr><tr><td>950</td><td>ML Crankset</td><td>Sold</td><td>28</td><td>0</td></tr><tr><td>951</td><td>HL Crankset</td><td>Sold</td><td>219</td><td>0</td></tr><tr><td>952</td><td>Chain</td><td>Sold</td><td>250</td><td>0</td></tr><tr><td>953</td><td>Touring-2000 Blue, 60</td><td>Sold</td><td>346</td><td>0</td></tr><tr><td>954</td><td>Touring-1000 Yellow, 46</td><td>Sold</td><td>440</td><td>0</td></tr><tr><td>955</td><td>Touring-1000 Yellow, 50</td><td>Sold</td><td>342</td><td>0</td></tr><tr><td>956</td><td>Touring-1000 Yellow, 54</td><td>Sold</td><td>271</td><td>0</td></tr><tr><td>957</td><td>Touring-1000 Yellow, 60</td><td>Sold</td><td>433</td><td>0</td></tr><tr><td>958</td><td>Touring-3000 Blue, 54</td><td>Sold</td><td>281</td><td>0</td></tr><tr><td>959</td><td>Touring-3000 Blue, 58</td><td>Sold</td><td>239</td><td>0</td></tr><tr><td>960</td><td>Touring-3000 Blue, 62</td><td>Sold</td><td>157</td><td>0</td></tr><tr><td>961</td><td>Touring-3000 Yellow, 44</td><td>Sold</td><td>318</td><td>0</td></tr><tr><td>962</td><td>Touring-3000 Yellow, 50</td><td>Sold</td><td>280</td><td>0</td></tr><tr><td>963</td><td>Touring-3000 Yellow, 54</td><td>Sold</td><td>227</td><td>0</td></tr><tr><td>964</td><td>Touring-3000 Yellow, 58</td><td>Sold</td><td>159</td><td>0</td></tr><tr><td>965</td><td>Touring-3000 Yellow, 62</td><td>Sold</td><td>319</td><td>0</td></tr><tr><td>966</td><td>Touring-1000 Blue, 46</td><td>Sold</td><td>442</td><td>0</td></tr><tr><td>967</td><td>Touring-1000 Blue, 50</td><td>Sold</td><td>336</td><td>0</td></tr><tr><td>968</td><td>Touring-1000 Blue, 54</td><td>Sold</td><td>277</td><td>0</td></tr><tr><td>969</td><td>Touring-1000 Blue, 60</td><td>Sold</td><td>439</td><td>0</td></tr><tr><td>970</td><td>Touring-2000 Blue, 46</td><td>Sold</td><td>283</td><td>0</td></tr><tr><td>971</td><td>Touring-2000 Blue, 50</td><td>Sold</td><td>198</td><td>0</td></tr><tr><td>972</td><td>Touring-2000 Blue, 54</td><td>Sold</td><td>380</td><td>0</td></tr><tr><td>973</td><td>Road-350-W Yellow, 40</td><td>Sold</td><td>573</td><td>0</td></tr><tr><td>974</td><td>Road-350-W Yellow, 42</td><td>Sold</td><td>455</td><td>0</td></tr><tr><td>975</td><td>Road-350-W Yellow, 44</td><td>Sold</td><td>332</td><td>0</td></tr><tr><td>976</td><td>Road-350-W Yellow, 48</td><td>Sold</td><td>566</td><td>0</td></tr><tr><td>977</td><td>Road-750 Black, 58</td><td>Sold</td><td>537</td><td>0</td></tr><tr><td>978</td><td>Touring-3000 Blue, 44</td><td>Sold</td><td>157</td><td>0</td></tr><tr><td>979</td><td>Touring-3000 Blue, 50</td><td>Sold</td><td>306</td><td>0</td></tr><tr><td>980</td><td>Mountain-400-W Silver, 38</td><td>Sold</td><td>253</td><td>0</td></tr><tr><td>981</td><td>Mountain-400-W Silver, 40</td><td>Sold</td><td>301</td><td>0</td></tr><tr><td>982</td><td>Mountain-400-W Silver, 42</td><td>Sold</td><td>231</td><td>0</td></tr><tr><td>983</td><td>Mountain-400-W Silver, 46</td><td>Sold</td><td>239</td><td>0</td></tr><tr><td>984</td><td>Mountain-500 Silver, 40</td><td>Sold</td><td>221</td><td>0</td></tr><tr><td>985</td><td>Mountain-500 Silver, 42</td><td>Sold</td><td>221</td><td>0</td></tr><tr><td>986</td><td>Mountain-500 Silver, 44</td><td>Sold</td><td>195</td><td>0</td></tr><tr><td>987</td><td>Mountain-500 Silver, 48</td><td>Sold</td><td>228</td><td>0</td></tr><tr><td>988</td><td>Mountain-500 Silver, 52</td><td>Sold</td><td>236</td><td>0</td></tr><tr><td>989</td><td>Mountain-500 Black, 40</td><td>Sold</td><td>150</td><td>0</td></tr><tr><td>990</td><td>Mountain-500 Black, 42</td><td>Sold</td><td>195</td><td>0</td></tr><tr><td>991</td><td>Mountain-500 Black, 44</td><td>Sold</td><td>193</td><td>0</td></tr><tr><td>992</td><td>Mountain-500 Black, 48</td><td>Sold</td><td>232</td><td>0</td></tr><tr><td>993</td><td>Mountain-500 Black, 52</td><td>Sold</td><td>146</td><td>0</td></tr><tr><td>994</td><td>LL Bottom Bracket</td><td>Sold</td><td>150</td><td>0</td></tr><tr><td>996</td><td>HL Bottom Bracket</td><td>Sold</td><td>218</td><td>0</td></tr><tr><td>997</td><td>Road-750 Black, 44</td><td>Sold</td><td>466</td><td>0</td></tr><tr><td>998</td><td>Road-750 Black, 48</td><td>Sold</td><td>685</td><td>0</td></tr><tr><td>999</td><td>Road-750 Black, 52</td><td>Sold</td><td>696</td><td>0</td></tr><tr><td>1</td><td>Adjustable Race</td><td>In Stock</td><td>0</td><td>1085</td></tr><tr><td>2</td><td>Bearing Ball</td><td>In Stock</td><td>0</td><td>1109</td></tr><tr><td>3</td><td>BB Ball Bearing</td><td>In Stock</td><td>0</td><td>1352</td></tr><tr><td>4</td><td>Headset Ball Bearings</td><td>In Stock</td><td>0</td><td>1322</td></tr><tr><td>316</td><td>Blade</td><td>In Stock</td><td>0</td><td>1361</td></tr><tr><td>317</td><td>LL Crankarm</td><td>In Stock</td><td>0</td><td>593</td></tr><tr><td>318</td><td>ML Crankarm</td><td>In Stock</td><td>0</td><td>439</td></tr><tr><td>319</td><td>HL Crankarm</td><td>In Stock</td><td>0</td><td>797</td></tr><tr><td>320</td><td>Chainring Bolts</td><td>In Stock</td><td>0</td><td>1136</td></tr><tr><td>321</td><td>Chainring Nut</td><td>In Stock</td><td>0</td><td>1750</td></tr><tr><td>322</td><td>Chainring</td><td>In Stock</td><td>0</td><td>1684</td></tr><tr><td>323</td><td>Crown Race</td><td>In Stock</td><td>0</td><td>1684</td></tr><tr><td>324</td><td>Chain Stays</td><td>In Stock</td><td>0</td><td>1629</td></tr><tr><td>325</td><td>Decal 1</td><td>In Stock</td><td>0</td><td>1750</td></tr><tr><td>326</td><td>Decal 2</td><td>In Stock</td><td>0</td><td>1684</td></tr><tr><td>327</td><td>Down Tube</td><td>In Stock</td><td>0</td><td>1364</td></tr><tr><td>328</td><td>Mountain End Caps</td><td>In Stock</td><td>0</td><td>1629</td></tr><tr><td>329</td><td>Road End Caps</td><td>In Stock</td><td>0</td><td>1601</td></tr><tr><td>330</td><td>Touring End Caps</td><td>In Stock</td><td>0</td><td>1571</td></tr><tr><td>331</td><td>Fork End</td><td>In Stock</td><td>0</td><td>1405</td></tr><tr><td>332</td><td>Freewheel</td><td>In Stock</td><td>0</td><td>844</td></tr><tr><td>341</td><td>Flat Washer 1</td><td>In Stock</td><td>0</td><td>1103</td></tr><tr><td>342</td><td>Flat Washer 6</td><td>In Stock</td><td>0</td><td>1093</td></tr><tr><td>343</td><td>Flat Washer 2</td><td>In Stock</td><td>0</td><td>1673</td></tr><tr><td>344</td><td>Flat Washer 9</td><td>In Stock</td><td>0</td><td>1072</td></tr><tr><td>345</td><td>Flat Washer 4</td><td>In Stock</td><td>0</td><td>936</td></tr><tr><td>346</td><td>Flat Washer 3</td><td>In Stock</td><td>0</td><td>1702</td></tr><tr><td>347</td><td>Flat Washer 8</td><td>In Stock</td><td>0</td><td>896</td></tr><tr><td>348</td><td>Flat Washer 5</td><td>In Stock</td><td>0</td><td>911</td></tr><tr><td>349</td><td>Flat Washer 7</td><td>In Stock</td><td>0</td><td>926</td></tr><tr><td>350</td><td>Fork Crown</td><td>In Stock</td><td>0</td><td>1341</td></tr><tr><td>351</td><td>Front Derailleur Cage</td><td>In Stock</td><td>0</td><td>605</td></tr><tr><td>352</td><td>Front Derailleur Linkage</td><td>In Stock</td><td>0</td><td>773</td></tr><tr><td>355</td><td>Guide Pulley</td><td>In Stock</td><td>0</td><td>822</td></tr><tr><td>356</td><td>LL Grip Tape</td><td>In Stock</td><td>0</td><td>780</td></tr><tr><td>357</td><td>ML Grip Tape</td><td>In Stock</td><td>0</td><td>736</td></tr><tr><td>358</td><td>HL Grip Tape</td><td>In Stock</td><td>0</td><td>693</td></tr><tr><td>359</td><td>Thin-Jam Hex Nut 9</td><td>In Stock</td><td>0</td><td>1103</td></tr><tr><td>360</td><td>Thin-Jam Hex Nut 10</td><td>In Stock</td><td>0</td><td>1084</td></tr><tr><td>361</td><td>Thin-Jam Hex Nut 1</td><td>In Stock</td><td>0</td><td>1631</td></tr><tr><td>362</td><td>Thin-Jam Hex Nut 2</td><td>In Stock</td><td>0</td><td>1026</td></tr><tr><td>363</td><td>Thin-Jam Hex Nut 15</td><td>In Stock</td><td>0</td><td>1761</td></tr><tr><td>364</td><td>Thin-Jam Hex Nut 16</td><td>In Stock</td><td>0</td><td>1052</td></tr><tr><td>365</td><td>Thin-Jam Hex Nut 5</td><td>In Stock</td><td>0</td><td>1721</td></tr><tr><td>366</td><td>Thin-Jam Hex Nut 6</td><td>In Stock</td><td>0</td><td>1029</td></tr><tr><td>367</td><td>Thin-Jam Hex Nut 3</td><td>In Stock</td><td>0</td><td>1901</td></tr><tr><td>368</td><td>Thin-Jam Hex Nut 4</td><td>In Stock</td><td>0</td><td>1103</td></tr><tr><td>369</td><td>Thin-Jam Hex Nut 13</td><td>In Stock</td><td>0</td><td>1084</td></tr><tr><td>370</td><td>Thin-Jam Hex Nut 14</td><td>In Stock</td><td>0</td><td>883</td></tr><tr><td>371</td><td>Thin-Jam Hex Nut 7</td><td>In Stock</td><td>0</td><td>1781</td></tr><tr><td>372</td><td>Thin-Jam Hex Nut 8</td><td>In Stock</td><td>0</td><td>897</td></tr><tr><td>373</td><td>Thin-Jam Hex Nut 12</td><td>In Stock</td><td>0</td><td>906</td></tr><tr><td>374</td><td>Thin-Jam Hex Nut 11</td><td>In Stock</td><td>0</td><td>916</td></tr><tr><td>375</td><td>Hex Nut 5</td><td>In Stock</td><td>0</td><td>925</td></tr><tr><td>376</td><td>Hex Nut 6</td><td>In Stock</td><td>0</td><td>1781</td></tr><tr><td>377</td><td>Hex Nut 16</td><td>In Stock</td><td>0</td><td>941</td></tr><tr><td>378</td><td>Hex Nut 17</td><td>In Stock</td><td>0</td><td>926</td></tr><tr><td>379</td><td>Hex Nut 7</td><td>In Stock</td><td>0</td><td>1911</td></tr><tr><td>380</td><td>Hex Nut 8</td><td>In Stock</td><td>0</td><td>770</td></tr><tr><td>381</td><td>Hex Nut 9</td><td>In Stock</td><td>0</td><td>789</td></tr><tr><td>382</td><td>Hex Nut 22</td><td>In Stock</td><td>0</td><td>808</td></tr><tr><td>383</td><td>Hex Nut 23</td><td>In Stock</td><td>0</td><td>1901</td></tr><tr><td>384</td><td>Hex Nut 12</td><td>In Stock</td><td>0</td><td>820</td></tr><tr><td>385</td><td>Hex Nut 13</td><td>In Stock</td><td>0</td><td>1778</td></tr><tr><td>386</td><td>Hex Nut 1</td><td>In Stock</td><td>0</td><td>725</td></tr><tr><td>387</td><td>Hex Nut 10</td><td>In Stock</td><td>0</td><td>1888</td></tr><tr><td>388</td><td>Hex Nut 11</td><td>In Stock</td><td>0</td><td>798</td></tr><tr><td>389</td><td>Hex Nut 2</td><td>In Stock</td><td>0</td><td>1808</td></tr><tr><td>390</td><td>Hex Nut 20</td><td>In Stock</td><td>0</td><td>798</td></tr><tr><td>391</td><td>Hex Nut 21</td><td>In Stock</td><td>0</td><td>809</td></tr><tr><td>392</td><td>Hex Nut 3</td><td>In Stock</td><td>0</td><td>818</td></tr><tr><td>393</td><td>Hex Nut 14</td><td>In Stock</td><td>0</td><td>1880</td></tr><tr><td>394</td><td>Hex Nut 15</td><td>In Stock</td><td>0</td><td>911</td></tr><tr><td>395</td><td>Hex Nut 4</td><td>In Stock</td><td>0</td><td>784</td></tr><tr><td>396</td><td>Hex Nut 18</td><td>In Stock</td><td>0</td><td>1824</td></tr><tr><td>397</td><td>Hex Nut 19</td><td>In Stock</td><td>0</td><td>1652</td></tr><tr><td>398</td><td>Handlebar Tube</td><td>In Stock</td><td>0</td><td>1326</td></tr><tr><td>399</td><td>Head Tube</td><td>In Stock</td><td>0</td><td>1308</td></tr><tr><td>400</td><td>LL Hub</td><td>In Stock</td><td>0</td><td>790</td></tr><tr><td>401</td><td>HL Hub</td><td>In Stock</td><td>0</td><td>797</td></tr><tr><td>402</td><td>Keyed Washer</td><td>In Stock</td><td>0</td><td>990</td></tr><tr><td>403</td><td>External Lock Washer 3</td><td>In Stock</td><td>0</td><td>981</td></tr><tr><td>404</td><td>External Lock Washer 4</td><td>In Stock</td><td>0</td><td>972</td></tr><tr><td>405</td><td>External Lock Washer 9</td><td>In Stock</td><td>0</td><td>963</td></tr><tr><td>406</td><td>External Lock Washer 5</td><td>In Stock</td><td>0</td><td>952</td></tr><tr><td>407</td><td>External Lock Washer 7</td><td>In Stock</td><td>0</td><td>1672</td></tr><tr><td>408</td><td>External Lock Washer 6</td><td>In Stock</td><td>0</td><td>1057</td></tr><tr><td>409</td><td>External Lock Washer 1</td><td>In Stock</td><td>0</td><td>1046</td></tr><tr><td>410</td><td>External Lock Washer 8</td><td>In Stock</td><td>0</td><td>1037</td></tr><tr><td>411</td><td>External Lock Washer 2</td><td>In Stock</td><td>0</td><td>1614</td></tr><tr><td>412</td><td>Internal Lock Washer 3</td><td>In Stock</td><td>0</td><td>776</td></tr><tr><td>413</td><td>Internal Lock Washer 4</td><td>In Stock</td><td>0</td><td>1703</td></tr><tr><td>414</td><td>Internal Lock Washer 9</td><td>In Stock</td><td>0</td><td>1119</td></tr><tr><td>415</td><td>Internal Lock Washer 5</td><td>In Stock</td><td>0</td><td>1104</td></tr><tr><td>416</td><td>Internal Lock Washer 7</td><td>In Stock</td><td>0</td><td>1090</td></tr><tr><td>417</td><td>Internal Lock Washer 6</td><td>In Stock</td><td>0</td><td>1715</td></tr><tr><td>418</td><td>Internal Lock Washer 10</td><td>In Stock</td><td>0</td><td>919</td></tr><tr><td>419</td><td>Internal Lock Washer 1</td><td>In Stock</td><td>0</td><td>914</td></tr><tr><td>420</td><td>Internal Lock Washer 8</td><td>In Stock</td><td>0</td><td>909</td></tr><tr><td>421</td><td>Internal Lock Washer 2</td><td>In Stock</td><td>0</td><td>905</td></tr><tr><td>422</td><td>Thin-Jam Lock Nut 9</td><td>In Stock</td><td>0</td><td>1632</td></tr><tr><td>423</td><td>Thin-Jam Lock Nut 10</td><td>In Stock</td><td>0</td><td>1628</td></tr><tr><td>424</td><td>Thin-Jam Lock Nut 1</td><td>In Stock</td><td>0</td><td>1623</td></tr><tr><td>425</td><td>Thin-Jam Lock Nut 2</td><td>In Stock</td><td>0</td><td>1618</td></tr><tr><td>426</td><td>Thin-Jam Lock Nut 15</td><td>In Stock</td><td>0</td><td>1613</td></tr><tr><td>427</td><td>Thin-Jam Lock Nut 16</td><td>In Stock</td><td>0</td><td>1608</td></tr><tr><td>428</td><td>Thin-Jam Lock Nut 5</td><td>In Stock</td><td>0</td><td>1604</td></tr><tr><td>429</td><td>Thin-Jam Lock Nut 6</td><td>In Stock</td><td>0</td><td>1599</td></tr><tr><td>430</td><td>Thin-Jam Lock Nut 3</td><td>In Stock</td><td>0</td><td>1594</td></tr><tr><td>431</td><td>Thin-Jam Lock Nut 4</td><td>In Stock</td><td>0</td><td>1604</td></tr><tr><td>432</td><td>Thin-Jam Lock Nut 13</td><td>In Stock</td><td>0</td><td>1613</td></tr><tr><td>433</td><td>Thin-Jam Lock Nut 14</td><td>In Stock</td><td>0</td><td>1623</td></tr><tr><td>434</td><td>Thin-Jam Lock Nut 7</td><td>In Stock</td><td>0</td><td>1632</td></tr><tr><td>435</td><td>Thin-Jam Lock Nut 8</td><td>In Stock</td><td>0</td><td>1642</td></tr><tr><td>436</td><td>Thin-Jam Lock Nut 12</td><td>In Stock</td><td>0</td><td>1652</td></tr><tr><td>437</td><td>Thin-Jam Lock Nut 11</td><td>In Stock</td><td>0</td><td>1661</td></tr><tr><td>438</td><td>Lock Nut 5</td><td>In Stock</td><td>0</td><td>1671</td></tr><tr><td>439</td><td>Lock Nut 6</td><td>In Stock</td><td>0</td><td>1680</td></tr><tr><td>440</td><td>Lock Nut 16</td><td>In Stock</td><td>0</td><td>1690</td></tr><tr><td>441</td><td>Lock Nut 17</td><td>In Stock</td><td>0</td><td>1676</td></tr><tr><td>442</td><td>Lock Nut 7</td><td>In Stock</td><td>0</td><td>1661</td></tr><tr><td>443</td><td>Lock Nut 8</td><td>In Stock</td><td>0</td><td>1647</td></tr><tr><td>444</td><td>Lock Nut 9</td><td>In Stock</td><td>0</td><td>1632</td></tr><tr><td>445</td><td>Lock Nut 22</td><td>In Stock</td><td>0</td><td>1618</td></tr><tr><td>446</td><td>Lock Nut 23</td><td>In Stock</td><td>0</td><td>1604</td></tr><tr><td>447</td><td>Lock Nut 12</td><td>In Stock</td><td>0</td><td>1589</td></tr><tr><td>448</td><td>Lock Nut 13</td><td>In Stock</td><td>0</td><td>1575</td></tr><tr><td>449</td><td>Lock Nut 1</td><td>In Stock</td><td>0</td><td>1560</td></tr><tr><td>450</td><td>Lock Nut 10</td><td>In Stock</td><td>0</td><td>1546</td></tr><tr><td>451</td><td>Lock Nut 11</td><td>In Stock</td><td>0</td><td>1556</td></tr><tr><td>452</td><td>Lock Nut 2</td><td>In Stock</td><td>0</td><td>1565</td></tr><tr><td>453</td><td>Lock Nut 20</td><td>In Stock</td><td>0</td><td>1575</td></tr><tr><td>454</td><td>Lock Nut 21</td><td>In Stock</td><td>0</td><td>1584</td></tr><tr><td>455</td><td>Lock Nut 3</td><td>In Stock</td><td>0</td><td>1594</td></tr><tr><td>456</td><td>Lock Nut 14</td><td>In Stock</td><td>0</td><td>1604</td></tr><tr><td>457</td><td>Lock Nut 15</td><td>In Stock</td><td>0</td><td>1613</td></tr><tr><td>458</td><td>Lock Nut 4</td><td>In Stock</td><td>0</td><td>1623</td></tr><tr><td>459</td><td>Lock Nut 19</td><td>In Stock</td><td>0</td><td>1632</td></tr><tr><td>460</td><td>Lock Nut 18</td><td>In Stock</td><td>0</td><td>1642</td></tr><tr><td>461</td><td>Lock Ring</td><td>In Stock</td><td>0</td><td>1652</td></tr><tr><td>462</td><td>Lower Head Race</td><td>In Stock</td><td>0</td><td>701</td></tr><tr><td>463</td><td>Lock Washer 4</td><td>In Stock</td><td>0</td><td>1685</td></tr><tr><td>464</td><td>Lock Washer 5</td><td>In Stock</td><td>0</td><td>1690</td></tr><tr><td>465</td><td>Lock Washer 10</td><td>In Stock</td><td>0</td><td>1695</td></tr><tr><td>466</td><td>Lock Washer 6</td><td>In Stock</td><td>0</td><td>1700</td></tr><tr><td>467</td><td>Lock Washer 13</td><td>In Stock</td><td>0</td><td>1704</td></tr><tr><td>468</td><td>Lock Washer 8</td><td>In Stock</td><td>0</td><td>1709</td></tr><tr><td>469</td><td>Lock Washer 1</td><td>In Stock</td><td>0</td><td>1714</td></tr><tr><td>470</td><td>Lock Washer 7</td><td>In Stock</td><td>0</td><td>1719</td></tr><tr><td>471</td><td>Lock Washer 12</td><td>In Stock</td><td>0</td><td>1724</td></tr><tr><td>472</td><td>Lock Washer 2</td><td>In Stock</td><td>0</td><td>1728</td></tr><tr><td>473</td><td>Lock Washer 9</td><td>In Stock</td><td>0</td><td>1733</td></tr><tr><td>474</td><td>Lock Washer 3</td><td>In Stock</td><td>0</td><td>1738</td></tr><tr><td>475</td><td>Lock Washer 11</td><td>In Stock</td><td>0</td><td>1743</td></tr><tr><td>476</td><td>Metal Angle</td><td>In Stock</td><td>0</td><td>1083</td></tr><tr><td>477</td><td>Metal Bar 1</td><td>In Stock</td><td>0</td><td>1079</td></tr><tr><td>478</td><td>Metal Bar 2</td><td>In Stock</td><td>0</td><td>1687</td></tr><tr><td>479</td><td>Metal Plate 2</td><td>In Stock</td><td>0</td><td>1029</td></tr><tr><td>480</td><td>Metal Plate 1</td><td>In Stock</td><td>0</td><td>1661</td></tr><tr><td>481</td><td>Metal Plate 3</td><td>In Stock</td><td>0</td><td>997</td></tr><tr><td>482</td><td>Metal Sheet 2</td><td>In Stock</td><td>0</td><td>924</td></tr><tr><td>483</td><td>Metal Sheet 3</td><td>In Stock</td><td>0</td><td>1681</td></tr><tr><td>484</td><td>Metal Sheet 7</td><td>In Stock</td><td>0</td><td>997</td></tr><tr><td>485</td><td>Metal Sheet 4</td><td>In Stock</td><td>0</td><td>924</td></tr><tr><td>486</td><td>Metal Sheet 5</td><td>In Stock</td><td>0</td><td>1661</td></tr><tr><td>487</td><td>Metal Sheet 6</td><td>In Stock</td><td>0</td><td>992</td></tr><tr><td>488</td><td>Metal Sheet 1</td><td>In Stock</td><td>0</td><td>935</td></tr><tr><td>489</td><td>Metal Tread Plate</td><td>In Stock</td><td>0</td><td>1837</td></tr><tr><td>490</td><td>LL Nipple</td><td>In Stock</td><td>0</td><td>1780</td></tr><tr><td>491</td><td>HL Nipple</td><td>In Stock</td><td>0</td><td>922</td></tr><tr><td>492</td><td>Paint - Black</td><td>In Stock</td><td>0</td><td>47</td></tr><tr><td>493</td><td>Paint - Red</td><td>In Stock</td><td>0</td><td>93</td></tr><tr><td>494</td><td>Paint - Silver</td><td>In Stock</td><td>0</td><td>65</td></tr><tr><td>495</td><td>Paint - Blue</td><td>In Stock</td><td>0</td><td>109</td></tr><tr><td>496</td><td>Paint - Yellow</td><td>In Stock</td><td>0</td><td>99</td></tr><tr><td>497</td><td>Pinch Bolt</td><td>In Stock</td><td>0</td><td>973</td></tr><tr><td>504</td><td>Cup-Shaped Race</td><td>In Stock</td><td>0</td><td>1084</td></tr><tr><td>505</td><td>Cone-Shaped Race</td><td>In Stock</td><td>0</td><td>970</td></tr><tr><td>506</td><td>Reflector</td><td>In Stock</td><td>0</td><td>827</td></tr><tr><td>507</td><td>LL Mountain Rim</td><td>In Stock</td><td>0</td><td>1215</td></tr><tr><td>508</td><td>ML Mountain Rim</td><td>In Stock</td><td>0</td><td>1231</td></tr><tr><td>509</td><td>HL Mountain Rim</td><td>In Stock</td><td>0</td><td>1247</td></tr><tr><td>510</td><td>LL Road Rim</td><td>In Stock</td><td>0</td><td>722</td></tr><tr><td>511</td><td>ML Road Rim</td><td>In Stock</td><td>0</td><td>740</td></tr><tr><td>512</td><td>HL Road Rim</td><td>In Stock</td><td>0</td><td>615</td></tr><tr><td>513</td><td>Touring Rim</td><td>In Stock</td><td>0</td><td>1364</td></tr><tr><td>514</td><td>LL Mountain Seat Assembly</td><td>In Stock</td><td>0</td><td>797</td></tr><tr><td>515</td><td>ML Mountain Seat Assembly</td><td>In Stock</td><td>0</td><td>802</td></tr><tr><td>516</td><td>HL Mountain Seat Assembly</td><td>In Stock</td><td>0</td><td>807</td></tr><tr><td>517</td><td>LL Road Seat Assembly</td><td>In Stock</td><td>0</td><td>812</td></tr><tr><td>518</td><td>ML Road Seat Assembly</td><td>In Stock</td><td>0</td><td>816</td></tr><tr><td>519</td><td>HL Road Seat Assembly</td><td>In Stock</td><td>0</td><td>821</td></tr><tr><td>520</td><td>LL Touring Seat Assembly</td><td>In Stock</td><td>0</td><td>826</td></tr><tr><td>521</td><td>ML Touring Seat Assembly</td><td>In Stock</td><td>0</td><td>831</td></tr><tr><td>522</td><td>HL Touring Seat Assembly</td><td>In Stock</td><td>0</td><td>836</td></tr><tr><td>523</td><td>LL Spindle/Axle</td><td>In Stock</td><td>0</td><td>512</td></tr><tr><td>524</td><td>HL Spindle/Axle</td><td>In Stock</td><td>0</td><td>459</td></tr><tr><td>525</td><td>LL Shell</td><td>In Stock</td><td>0</td><td>1263</td></tr><tr><td>526</td><td>HL Shell</td><td>In Stock</td><td>0</td><td>1211</td></tr><tr><td>527</td><td>Spokes</td><td>In Stock</td><td>0</td><td>1590</td></tr><tr><td>528</td><td>Seat Lug</td><td>In Stock</td><td>0</td><td>1653</td></tr><tr><td>529</td><td>Stem</td><td>In Stock</td><td>0</td><td>796</td></tr><tr><td>530</td><td>Seat Post</td><td>In Stock</td><td>0</td><td>780</td></tr><tr><td>531</td><td>Steerer</td><td>In Stock</td><td>0</td><td>801</td></tr><tr><td>532</td><td>Seat Stays</td><td>In Stock</td><td>0</td><td>1257</td></tr><tr><td>533</td><td>Seat Tube</td><td>In Stock</td><td>0</td><td>831</td></tr><tr><td>534</td><td>Top Tube</td><td>In Stock</td><td>0</td><td>657</td></tr><tr><td>535</td><td>Tension Pulley</td><td>In Stock</td><td>0</td><td>836</td></tr><tr><td>679</td><td>Rear Derailleur Cage</td><td>In Stock</td><td>0</td><td>421</td></tr><tr><td>707</td><td>Sport-100 Helmet, Red</td><td>In Stock</td><td>0</td><td>288</td></tr><tr><td>708</td><td>Sport-100 Helmet, Black</td><td>In Stock</td><td>0</td><td>324</td></tr><tr><td>709</td><td>Mountain Bike Socks, M</td><td>In Stock</td><td>0</td><td>180</td></tr><tr><td>710</td><td>Mountain Bike Socks, L</td><td>In Stock</td><td>0</td><td>216</td></tr><tr><td>711</td><td>Sport-100 Helmet, Blue</td><td>In Stock</td><td>0</td><td>216</td></tr><tr><td>712</td><td>AWC Logo Cap</td><td>In Stock</td><td>0</td><td>288</td></tr><tr><td>713</td><td>Long-Sleeve Logo Jersey, S</td><td>In Stock</td><td>0</td><td>144</td></tr><tr><td>714</td><td>Long-Sleeve Logo Jersey, M</td><td>In Stock</td><td>0</td><td>180</td></tr><tr><td>715</td><td>Long-Sleeve Logo Jersey, L</td><td>In Stock</td><td>0</td><td>216</td></tr><tr><td>716</td><td>Long-Sleeve Logo Jersey, XL</td><td>In Stock</td><td>0</td><td>252</td></tr><tr><td>747</td><td>HL Mountain Frame - Black, 38</td><td>In Stock</td><td>0</td><td>834</td></tr><tr><td>748</td><td>HL Mountain Frame - Silver, 38</td><td>In Stock</td><td>0</td><td>738</td></tr><tr><td>749</td><td>Road-150 Red, 62</td><td>In Stock</td><td>0</td><td>133</td></tr><tr><td>750</td><td>Road-150 Red, 44</td><td>In Stock</td><td>0</td><td>223</td></tr><tr><td>751</td><td>Road-150 Red, 48</td><td>In Stock</td><td>0</td><td>140</td></tr><tr><td>752</td><td>Road-150 Red, 52</td><td>In Stock</td><td>0</td><td>128</td></tr><tr><td>753</td><td>Road-150 Red, 56</td><td>In Stock</td><td>0</td><td>163</td></tr><tr><td>754</td><td>Road-450 Red, 58</td><td>In Stock</td><td>0</td><td>148</td></tr><tr><td>755</td><td>Road-450 Red, 60</td><td>In Stock</td><td>0</td><td>137</td></tr><tr><td>756</td><td>Road-450 Red, 44</td><td>In Stock</td><td>0</td><td>129</td></tr><tr><td>757</td><td>Road-450 Red, 48</td><td>In Stock</td><td>0</td><td>134</td></tr><tr><td>758</td><td>Road-450 Red, 52</td><td>In Stock</td><td>0</td><td>165</td></tr><tr><td>759</td><td>Road-650 Red, 58</td><td>In Stock</td><td>0</td><td>163</td></tr><tr><td>760</td><td>Road-650 Red, 60</td><td>In Stock</td><td>0</td><td>185</td></tr><tr><td>761</td><td>Road-650 Red, 62</td><td>In Stock</td><td>0</td><td>148</td></tr><tr><td>762</td><td>Road-650 Red, 44</td><td>In Stock</td><td>0</td><td>137</td></tr><tr><td>763</td><td>Road-650 Red, 48</td><td>In Stock</td><td>0</td><td>223</td></tr><tr><td>764</td><td>Road-650 Red, 52</td><td>In Stock</td><td>0</td><td>140</td></tr><tr><td>765</td><td>Road-650 Black, 58</td><td>In Stock</td><td>0</td><td>134</td></tr><tr><td>766</td><td>Road-650 Black, 60</td><td>In Stock</td><td>0</td><td>165</td></tr><tr><td>767</td><td>Road-650 Black, 62</td><td>In Stock</td><td>0</td><td>188</td></tr><tr><td>768</td><td>Road-650 Black, 44</td><td>In Stock</td><td>0</td><td>148</td></tr><tr><td>769</td><td>Road-650 Black, 48</td><td>In Stock</td><td>0</td><td>133</td></tr><tr><td>770</td><td>Road-650 Black, 52</td><td>In Stock</td><td>0</td><td>227</td></tr><tr><td>771</td><td>Mountain-100 Silver, 38</td><td>In Stock</td><td>0</td><td>149</td></tr><tr><td>772</td><td>Mountain-100 Silver, 42</td><td>In Stock</td><td>0</td><td>153</td></tr><tr><td>773</td><td>Mountain-100 Silver, 44</td><td>In Stock</td><td>0</td><td>158</td></tr><tr><td>774</td><td>Mountain-100 Silver, 48</td><td>In Stock</td><td>0</td><td>164</td></tr><tr><td>775</td><td>Mountain-100 Black, 38</td><td>In Stock</td><td>0</td><td>155</td></tr><tr><td>776</td><td>Mountain-100 Black, 42</td><td>In Stock</td><td>0</td><td>194</td></tr><tr><td>777</td><td>Mountain-100 Black, 44</td><td>In Stock</td><td>0</td><td>149</td></tr><tr><td>778</td><td>Mountain-100 Black, 48</td><td>In Stock</td><td>0</td><td>153</td></tr><tr><td>779</td><td>Mountain-200 Silver, 38</td><td>In Stock</td><td>0</td><td>137</td></tr><tr><td>780</td><td>Mountain-200 Silver, 42</td><td>In Stock</td><td>0</td><td>223</td></tr><tr><td>781</td><td>Mountain-200 Silver, 46</td><td>In Stock</td><td>0</td><td>140</td></tr><tr><td>782</td><td>Mountain-200 Black, 38</td><td>In Stock</td><td>0</td><td>188</td></tr><tr><td>783</td><td>Mountain-200 Black, 42</td><td>In Stock</td><td>0</td><td>148</td></tr><tr><td>784</td><td>Mountain-200 Black, 46</td><td>In Stock</td><td>0</td><td>137</td></tr><tr><td>785</td><td>Mountain-300 Black, 38</td><td>In Stock</td><td>0</td><td>137</td></tr><tr><td>786</td><td>Mountain-300 Black, 40</td><td>In Stock</td><td>0</td><td>223</td></tr><tr><td>787</td><td>Mountain-300 Black, 44</td><td>In Stock</td><td>0</td><td>140</td></tr><tr><td>788</td><td>Mountain-300 Black, 48</td><td>In Stock</td><td>0</td><td>128</td></tr><tr><td>789</td><td>Road-250 Red, 44</td><td>In Stock</td><td>0</td><td>163</td></tr><tr><td>790</td><td>Road-250 Red, 48</td><td>In Stock</td><td>0</td><td>185</td></tr><tr><td>791</td><td>Road-250 Red, 52</td><td>In Stock</td><td>0</td><td>148</td></tr><tr><td>792</td><td>Road-250 Red, 58</td><td>In Stock</td><td>0</td><td>227</td></tr><tr><td>793</td><td>Road-250 Black, 44</td><td>In Stock</td><td>0</td><td>134</td></tr><tr><td>794</td><td>Road-250 Black, 48</td><td>In Stock</td><td>0</td><td>165</td></tr><tr><td>795</td><td>Road-250 Black, 52</td><td>In Stock</td><td>0</td><td>188</td></tr><tr><td>796</td><td>Road-250 Black, 58</td><td>In Stock</td><td>0</td><td>148</td></tr><tr><td>797</td><td>Road-550-W Yellow, 38</td><td>In Stock</td><td>0</td><td>148</td></tr><tr><td>798</td><td>Road-550-W Yellow, 40</td><td>In Stock</td><td>0</td><td>133</td></tr><tr><td>799</td><td>Road-550-W Yellow, 42</td><td>In Stock</td><td>0</td><td>227</td></tr><tr><td>800</td><td>Road-550-W Yellow, 44</td><td>In Stock</td><td>0</td><td>129</td></tr><tr><td>801</td><td>Road-550-W Yellow, 48</td><td>In Stock</td><td>0</td><td>134</td></tr><tr><td>802</td><td>LL Fork</td><td>In Stock</td><td>0</td><td>863</td></tr><tr><td>803</td><td>ML Fork</td><td>In Stock</td><td>0</td><td>882</td></tr><tr><td>804</td><td>HL Fork</td><td>In Stock</td><td>0</td><td>901</td></tr><tr><td>805</td><td>LL Headset</td><td>In Stock</td><td>0</td><td>761</td></tr><tr><td>806</td><td>ML Headset</td><td>In Stock</td><td>0</td><td>772</td></tr><tr><td>807</td><td>HL Headset</td><td>In Stock</td><td>0</td><td>782</td></tr><tr><td>808</td><td>LL Mountain Handlebars</td><td>In Stock</td><td>0</td><td>859</td></tr><tr><td>809</td><td>ML Mountain Handlebars</td><td>In Stock</td><td>0</td><td>850</td></tr><tr><td>810</td><td>HL Mountain Handlebars</td><td>In Stock</td><td>0</td><td>840</td></tr><tr><td>811</td><td>LL Road Handlebars</td><td>In Stock</td><td>0</td><td>831</td></tr><tr><td>812</td><td>ML Road Handlebars</td><td>In Stock</td><td>0</td><td>822</td></tr><tr><td>813</td><td>HL Road Handlebars</td><td>In Stock</td><td>0</td><td>811</td></tr><tr><td>814</td><td>ML Mountain Frame - Black, 38</td><td>In Stock</td><td>0</td><td>767</td></tr><tr><td>815</td><td>LL Mountain Front Wheel</td><td>In Stock</td><td>0</td><td>722</td></tr><tr><td>816</td><td>ML Mountain Front Wheel</td><td>In Stock</td><td>0</td><td>818</td></tr><tr><td>817</td><td>HL Mountain Front Wheel</td><td>In Stock</td><td>0</td><td>831</td></tr><tr><td>818</td><td>LL Road Front Wheel</td><td>In Stock</td><td>0</td><td>888</td></tr><tr><td>819</td><td>ML Road Front Wheel</td><td>In Stock</td><td>0</td><td>793</td></tr><tr><td>820</td><td>HL Road Front Wheel</td><td>In Stock</td><td>0</td><td>678</td></tr><tr><td>821</td><td>Touring Front Wheel</td><td>In Stock</td><td>0</td><td>736</td></tr><tr><td>822</td><td>ML Road Frame-W - Yellow, 38</td><td>In Stock</td><td>0</td><td>796</td></tr><tr><td>823</td><td>LL Mountain Rear Wheel</td><td>In Stock</td><td>0</td><td>681</td></tr><tr><td>824</td><td>ML Mountain Rear Wheel</td><td>In Stock</td><td>0</td><td>812</td></tr><tr><td>825</td><td>HL Mountain Rear Wheel</td><td>In Stock</td><td>0</td><td>783</td></tr><tr><td>826</td><td>LL Road Rear Wheel</td><td>In Stock</td><td>0</td><td>799</td></tr><tr><td>827</td><td>ML Road Rear Wheel</td><td>In Stock</td><td>0</td><td>837</td></tr><tr><td>828</td><td>HL Road Rear Wheel</td><td>In Stock</td><td>0</td><td>716</td></tr><tr><td>829</td><td>Touring Rear Wheel</td><td>In Stock</td><td>0</td><td>741</td></tr><tr><td>841</td><td>Men&#39;s Sports Shorts, S</td><td>In Stock</td><td>0</td><td>288</td></tr><tr><td>842</td><td>Touring-Panniers, Large</td><td>In Stock</td><td>0</td><td>72</td></tr><tr><td>843</td><td>Cable Lock</td><td>In Stock</td><td>0</td><td>252</td></tr><tr><td>844</td><td>Minipump</td><td>In Stock</td><td>0</td><td>288</td></tr><tr><td>845</td><td>Mountain Pump</td><td>In Stock</td><td>0</td><td>324</td></tr><tr><td>846</td><td>Taillights - Battery-Powered</td><td>In Stock</td><td>0</td><td>144</td></tr><tr><td>847</td><td>Headlights - Dual-Beam</td><td>In Stock</td><td>0</td><td>180</td></tr><tr><td>848</td><td>Headlights - Weatherproof</td><td>In Stock</td><td>0</td><td>216</td></tr><tr><td>849</td><td>Men&#39;s Sports Shorts, M</td><td>In Stock</td><td>0</td><td>108</td></tr><tr><td>850</td><td>Men&#39;s Sports Shorts, L</td><td>In Stock</td><td>0</td><td>144</td></tr><tr><td>851</td><td>Men&#39;s Sports Shorts, XL</td><td>In Stock</td><td>0</td><td>180</td></tr><tr><td>852</td><td>Women&#39;s Tights, S</td><td>In Stock</td><td>0</td><td>324</td></tr><tr><td>854</td><td>Women&#39;s Tights, L</td><td>In Stock</td><td>0</td><td>36</td></tr><tr><td>855</td><td>Men&#39;s Bib-Shorts, S</td><td>In Stock</td><td>0</td><td>72</td></tr><tr><td>856</td><td>Men&#39;s Bib-Shorts, M</td><td>In Stock</td><td>0</td><td>108</td></tr><tr><td>857</td><td>Men&#39;s Bib-Shorts, L</td><td>In Stock</td><td>0</td><td>144</td></tr><tr><td>858</td><td>Half-Finger Gloves, S</td><td>In Stock</td><td>0</td><td>324</td></tr><tr><td>860</td><td>Half-Finger Gloves, L</td><td>In Stock</td><td>0</td><td>36</td></tr><tr><td>861</td><td>Full-Finger Gloves, S</td><td>In Stock</td><td>0</td><td>72</td></tr><tr><td>862</td><td>Full-Finger Gloves, M</td><td>In Stock</td><td>0</td><td>108</td></tr><tr><td>863</td><td>Full-Finger Gloves, L</td><td>In Stock</td><td>0</td><td>144</td></tr><tr><td>864</td><td>Classic Vest, S</td><td>In Stock</td><td>0</td><td>180</td></tr><tr><td>865</td><td>Classic Vest, M</td><td>In Stock</td><td>0</td><td>216</td></tr><tr><td>866</td><td>Classic Vest, L</td><td>In Stock</td><td>0</td><td>252</td></tr><tr><td>867</td><td>Women&#39;s Mountain Shorts, S</td><td>In Stock</td><td>0</td><td>216</td></tr><tr><td>868</td><td>Women&#39;s Mountain Shorts, M</td><td>In Stock</td><td>0</td><td>252</td></tr><tr><td>869</td><td>Women&#39;s Mountain Shorts, L</td><td>In Stock</td><td>0</td><td>288</td></tr><tr><td>870</td><td>Water Bottle - 30 oz.</td><td>In Stock</td><td>0</td><td>252</td></tr><tr><td>871</td><td>Mountain Bottle Cage</td><td>In Stock</td><td>0</td><td>288</td></tr><tr><td>872</td><td>Road Bottle Cage</td><td>In Stock</td><td>0</td><td>324</td></tr><tr><td>873</td><td>Patch Kit/8 Patches</td><td>In Stock</td><td>0</td><td>180</td></tr><tr><td>874</td><td>Racing Socks, M</td><td>In Stock</td><td>0</td><td>252</td></tr><tr><td>875</td><td>Racing Socks, L</td><td>In Stock</td><td>0</td><td>288</td></tr><tr><td>877</td><td>Bike Wash - Dissolver</td><td>In Stock</td><td>0</td><td>36</td></tr><tr><td>878</td><td>Fender Set - Mountain</td><td>In Stock</td><td>0</td><td>108</td></tr><tr><td>879</td><td>All-Purpose Bike Stand</td><td>In Stock</td><td>0</td><td>144</td></tr><tr><td>880</td><td>Hydration Pack - 70 oz.</td><td>In Stock</td><td>0</td><td>108</td></tr><tr><td>881</td><td>Short-Sleeve Classic Jersey, S</td><td>In Stock</td><td>0</td><td>324</td></tr><tr><td>883</td><td>Short-Sleeve Classic Jersey, L</td><td>In Stock</td><td>0</td><td>36</td></tr><tr><td>884</td><td>Short-Sleeve Classic Jersey, XL</td><td>In Stock</td><td>0</td><td>72</td></tr><tr><td>894</td><td>Rear Derailleur</td><td>In Stock</td><td>0</td><td>847</td></tr><tr><td>907</td><td>Rear Brakes</td><td>In Stock</td><td>0</td><td>723</td></tr><tr><td>908</td><td>LL Mountain Seat/Saddle</td><td>In Stock</td><td>0</td><td>809</td></tr><tr><td>909</td><td>ML Mountain Seat/Saddle</td><td>In Stock</td><td>0</td><td>422</td></tr><tr><td>910</td><td>HL Mountain Seat/Saddle</td><td>In Stock</td><td>0</td><td>355</td></tr><tr><td>911</td><td>LL Road Seat/Saddle</td><td>In Stock</td><td>0</td><td>906</td></tr><tr><td>912</td><td>ML Road Seat/Saddle</td><td>In Stock</td><td>0</td><td>901</td></tr><tr><td>913</td><td>HL Road Seat/Saddle</td><td>In Stock</td><td>0</td><td>467</td></tr><tr><td>914</td><td>LL Touring Seat/Saddle</td><td>In Stock</td><td>0</td><td>801</td></tr><tr><td>915</td><td>ML Touring Seat/Saddle</td><td>In Stock</td><td>0</td><td>402</td></tr><tr><td>916</td><td>HL Touring Seat/Saddle</td><td>In Stock</td><td>0</td><td>989</td></tr><tr><td>921</td><td>Mountain Tire Tube</td><td>In Stock</td><td>0</td><td>529</td></tr><tr><td>922</td><td>Road Tire Tube</td><td>In Stock</td><td>0</td><td>505</td></tr><tr><td>923</td><td>Touring Tire Tube</td><td>In Stock</td><td>0</td><td>502</td></tr><tr><td>928</td><td>LL Mountain Tire</td><td>In Stock</td><td>0</td><td>609</td></tr><tr><td>929</td><td>ML Mountain Tire</td><td>In Stock</td><td>0</td><td>669</td></tr><tr><td>930</td><td>HL Mountain Tire</td><td>In Stock</td><td>0</td><td>499</td></tr><tr><td>931</td><td>LL Road Tire</td><td>In Stock</td><td>0</td><td>488</td></tr><tr><td>932</td><td>ML Road Tire</td><td>In Stock</td><td>0</td><td>574</td></tr><tr><td>933</td><td>HL Road Tire</td><td>In Stock</td><td>0</td><td>527</td></tr><tr><td>934</td><td>Touring Tire</td><td>In Stock</td><td>0</td><td>482</td></tr><tr><td>935</td><td>LL Mountain Pedal</td><td>In Stock</td><td>0</td><td>512</td></tr><tr><td>936</td><td>ML Mountain Pedal</td><td>In Stock</td><td>0</td><td>507</td></tr><tr><td>937</td><td>HL Mountain Pedal</td><td>In Stock</td><td>0</td><td>503</td></tr><tr><td>938</td><td>LL Road Pedal</td><td>In Stock</td><td>0</td><td>498</td></tr><tr><td>939</td><td>ML Road Pedal</td><td>In Stock</td><td>0</td><td>494</td></tr><tr><td>940</td><td>HL Road Pedal</td><td>In Stock</td><td>0</td><td>906</td></tr><tr><td>941</td><td>Touring Pedal</td><td>In Stock</td><td>0</td><td>885</td></tr><tr><td>942</td><td>ML Mountain Frame-W - Silver, 38</td><td>In Stock</td><td>0</td><td>826</td></tr><tr><td>943</td><td>LL Mountain Frame - Black, 40</td><td>In Stock</td><td>0</td><td>719</td></tr><tr><td>944</td><td>LL Mountain Frame - Silver, 40</td><td>In Stock</td><td>0</td><td>682</td></tr><tr><td>945</td><td>Front Derailleur</td><td>In Stock</td><td>0</td><td>853</td></tr><tr><td>946</td><td>LL Touring Handlebars</td><td>In Stock</td><td>0</td><td>802</td></tr><tr><td>947</td><td>HL Touring Handlebars</td><td>In Stock</td><td>0</td><td>792</td></tr><tr><td>948</td><td>Front Brakes</td><td>In Stock</td><td>0</td><td>767</td></tr><tr><td>949</td><td>LL Crankset</td><td>In Stock</td><td>0</td><td>885</td></tr><tr><td>950</td><td>ML Crankset</td><td>In Stock</td><td>0</td><td>905</td></tr><tr><td>951</td><td>HL Crankset</td><td>In Stock</td><td>0</td><td>923</td></tr><tr><td>952</td><td>Chain</td><td>In Stock</td><td>0</td><td>589</td></tr><tr><td>953</td><td>Touring-2000 Blue, 60</td><td>In Stock</td><td>0</td><td>165</td></tr><tr><td>954</td><td>Touring-1000 Yellow, 46</td><td>In Stock</td><td>0</td><td>148</td></tr><tr><td>955</td><td>Touring-1000 Yellow, 50</td><td>In Stock</td><td>0</td><td>137</td></tr><tr><td>956</td><td>Touring-1000 Yellow, 54</td><td>In Stock</td><td>0</td><td>75</td></tr><tr><td>957</td><td>Touring-1000 Yellow, 60</td><td>In Stock</td><td>0</td><td>151</td></tr><tr><td>958</td><td>Touring-3000 Blue, 54</td><td>In Stock</td><td>0</td><td>163</td></tr><tr><td>959</td><td>Touring-3000 Blue, 58</td><td>In Stock</td><td>0</td><td>204</td></tr><tr><td>960</td><td>Touring-3000 Blue, 62</td><td>In Stock</td><td>0</td><td>159</td></tr><tr><td>961</td><td>Touring-3000 Yellow, 44</td><td>In Stock</td><td>0</td><td>168</td></tr><tr><td>962</td><td>Touring-3000 Yellow, 50</td><td>In Stock</td><td>0</td><td>174</td></tr><tr><td>963</td><td>Touring-3000 Yellow, 54</td><td>In Stock</td><td>0</td><td>162</td></tr><tr><td>964</td><td>Touring-3000 Yellow, 58</td><td>In Stock</td><td>0</td><td>197</td></tr><tr><td>965</td><td>Touring-3000 Yellow, 62</td><td>In Stock</td><td>0</td><td>163</td></tr><tr><td>966</td><td>Touring-1000 Blue, 46</td><td>In Stock</td><td>0</td><td>185</td></tr><tr><td>967</td><td>Touring-1000 Blue, 50</td><td>In Stock</td><td>0</td><td>148</td></tr><tr><td>968</td><td>Touring-1000 Blue, 54</td><td>In Stock</td><td>0</td><td>133</td></tr><tr><td>969</td><td>Touring-1000 Blue, 60</td><td>In Stock</td><td>0</td><td>129</td></tr><tr><td>970</td><td>Touring-2000 Blue, 46</td><td>In Stock</td><td>0</td><td>133</td></tr><tr><td>971</td><td>Touring-2000 Blue, 50</td><td>In Stock</td><td>0</td><td>227</td></tr><tr><td>972</td><td>Touring-2000 Blue, 54</td><td>In Stock</td><td>0</td><td>129</td></tr><tr><td>973</td><td>Road-350-W Yellow, 40</td><td>In Stock</td><td>0</td><td>185</td></tr><tr><td>974</td><td>Road-350-W Yellow, 42</td><td>In Stock</td><td>0</td><td>148</td></tr><tr><td>975</td><td>Road-350-W Yellow, 44</td><td>In Stock</td><td>0</td><td>133</td></tr><tr><td>976</td><td>Road-350-W Yellow, 48</td><td>In Stock</td><td>0</td><td>227</td></tr><tr><td>977</td><td>Road-750 Black, 58</td><td>In Stock</td><td>0</td><td>153</td></tr><tr><td>978</td><td>Touring-3000 Blue, 44</td><td>In Stock</td><td>0</td><td>163</td></tr><tr><td>979</td><td>Touring-3000 Blue, 50</td><td>In Stock</td><td>0</td><td>164</td></tr><tr><td>980</td><td>Mountain-400-W Silver, 38</td><td>In Stock</td><td>0</td><td>150</td></tr><tr><td>981</td><td>Mountain-400-W Silver, 40</td><td>In Stock</td><td>0</td><td>153</td></tr><tr><td>982</td><td>Mountain-400-W Silver, 42</td><td>In Stock</td><td>0</td><td>154</td></tr><tr><td>983</td><td>Mountain-400-W Silver, 46</td><td>In Stock</td><td>0</td><td>164</td></tr><tr><td>984</td><td>Mountain-500 Silver, 40</td><td>In Stock</td><td>0</td><td>154</td></tr><tr><td>985</td><td>Mountain-500 Silver, 42</td><td>In Stock</td><td>0</td><td>164</td></tr><tr><td>986</td><td>Mountain-500 Silver, 44</td><td>In Stock</td><td>0</td><td>153</td></tr><tr><td>987</td><td>Mountain-500 Silver, 48</td><td>In Stock</td><td>0</td><td>155</td></tr><tr><td>988</td><td>Mountain-500 Silver, 52</td><td>In Stock</td><td>0</td><td>194</td></tr><tr><td>989</td><td>Mountain-500 Black, 40</td><td>In Stock</td><td>0</td><td>150</td></tr><tr><td>990</td><td>Mountain-500 Black, 42</td><td>In Stock</td><td>0</td><td>153</td></tr><tr><td>991</td><td>Mountain-500 Black, 44</td><td>In Stock</td><td>0</td><td>154</td></tr><tr><td>992</td><td>Mountain-500 Black, 48</td><td>In Stock</td><td>0</td><td>164</td></tr><tr><td>993</td><td>Mountain-500 Black, 52</td><td>In Stock</td><td>0</td><td>153</td></tr><tr><td>994</td><td>LL Bottom Bracket</td><td>In Stock</td><td>0</td><td>814</td></tr><tr><td>995</td><td>ML Bottom Bracket</td><td>In Stock</td><td>0</td><td>816</td></tr><tr><td>996</td><td>HL Bottom Bracket</td><td>In Stock</td><td>0</td><td>970</td></tr><tr><td>997</td><td>Road-750 Black, 44</td><td>In Stock</td><td>0</td><td>153</td></tr><tr><td>998</td><td>Road-750 Black, 48</td><td>In Stock</td><td>0</td><td>155</td></tr><tr><td>999</td><td>Road-750 Black, 52</td><td>In Stock</td><td>0</td><td>194</td></tr></table>"
                    },
                    "metadata": {}
                }
            ],
            "execution_count": 40
        },
        {
            "cell_type": "markdown",
            "source": [
                "# Propositions and Functional Specification - 3\n",
                "\n",
                "## 1. Query Proposition\n",
                "\n",
                "The purpose of this query is to identify products that have available inventory but have not been sold in any sales order in the **AdventureWorks2017** database. The query uses the `EXCEPT` clause to compare two sets of results, isolating products that meet these criteria.\n",
                "\n",
                "## 2. Functional Specification\n",
                "\n",
                "### Objective\n",
                "Retrieve a list of products that are present in the inventory but have no associated sales records, along with the total quantity of each product in the inventory.\n",
                "\n",
                "### Inputs\n",
                "- **Database**: `AdventureWorks2017`\n",
                "- **Tables**:\n",
                "  - `Production.Product`: Contains information about each product, including `ProductID` and `Name`.\n",
                "  - `Production.ProductInventory`: Holds inventory information for products, including `Quantity` and `ProductID`.\n",
                "  - `Sales.SalesOrderDetail`: Contains details of sales orders, including `ProductID` for each sold product.\n",
                "\n",
                "### Outputs\n",
                "- **Columns**:\n",
                "  - `ProductID`: The unique identifier for each product.\n",
                "  - `ProductName`: The name of the product.\n",
                "  - `InventoryQuantity`: The sum of quantities available in the inventory for each product.\n",
                "\n",
                "### Query Logic\n",
                "\n",
                "1. **First Subquery**:\n",
                "   - Retrieves products with a positive inventory quantity from the `Production.ProductInventory` table.\n",
                "   - Joins `Production.Product` to `Production.ProductInventory` using `ProductID`.\n",
                "   - Filters for products with `PI.Quantity > 0` to ensure only products with available stock are included.\n",
                "   - Groups results by `ProductID` and `ProductName` to aggregate the inventory quantity.\n",
                "\n",
                "2. **Second Subquery**:\n",
                "   - Retrieves products with a positive inventory quantity that have also been included in sales orders.\n",
                "   - Joins `Production.Product` to `Production.ProductInventory` and `Sales.SalesOrderDetail` using `ProductID`.\n",
                "   - Filters for products with `PI.Quantity > 0` to ensure only products with available stock are considered.\n",
                "   - Groups results by `ProductID` and `ProductName` to aggregate the inventory quantity.\n",
                "\n",
                "3. **EXCEPT Clause**:\n",
                "   - Uses `EXCEPT` to return products that appear in the first subquery (products in inventory) but not in the second subquery (products in inventory t\n",
                ""
            ],
            "metadata": {
                "azdata_cell_guid": "981ea6f1-f7e7-4139-b892-d3512779d2df"
            },
            "attachments": {}
        },
        {
            "cell_type": "code",
            "source": [
                "USE AdventureWorks2017;\n",
                "\n",
                "SELECT P.ProductID, P.Name AS ProductName,\n",
                "SUM(PI.Quantity) AS InventoryQuantity\n",
                "FROM Production.Product P\n",
                "JOIN Production.ProductInventory PI ON P.ProductID = PI.ProductID\n",
                "WHERE PI.Quantity > 0\n",
                "GROUP BY P.ProductID, P.Name\n",
                "\n",
                "EXCEPT\n",
                "\n",
                "SELECT  P.ProductID, P.Name AS ProductName,\n",
                " SUM(PI.Quantity) AS InventoryQuantity\n",
                "FROM Production.Product P\n",
                "JOIN Sales.SalesOrderDetail SD ON P.ProductID = SD.ProductID\n",
                "JOIN Production.ProductInventory PI ON P.ProductID = PI.ProductID\n",
                "WHERE PI.Quantity > 0\n",
                "GROUP BY P.ProductID, P.Name;\n",
                ""
            ],
            "metadata": {
                "azdata_cell_guid": "bfe8e8b2-39ee-4de8-b403-c1eee60f8bac",
                "language": "sql",
                "tags": []
            },
            "outputs": [
                {
                    "output_type": "display_data",
                    "data": {
                        "text/html": "(428 rows affected)"
                    },
                    "metadata": {}
                },
                {
                    "output_type": "display_data",
                    "data": {
                        "text/html": "Total execution time: 00:00:00.149"
                    },
                    "metadata": {}
                },
                {
                    "output_type": "execute_result",
                    "execution_count": 41,
                    "data": {
                        "application/vnd.dataresource+json": {
                            "schema": {
                                "fields": [
                                    {
                                        "name": "ProductID"
                                    },
                                    {
                                        "name": "ProductName"
                                    },
                                    {
                                        "name": "InventoryQuantity"
                                    }
                                ]
                            },
                            "data": [
                                {
                                    "ProductID": "1",
                                    "ProductName": "Adjustable Race",
                                    "InventoryQuantity": "1085"
                                },
                                {
                                    "ProductID": "2",
                                    "ProductName": "Bearing Ball",
                                    "InventoryQuantity": "1109"
                                },
                                {
                                    "ProductID": "3",
                                    "ProductName": "BB Ball Bearing",
                                    "InventoryQuantity": "1352"
                                },
                                {
                                    "ProductID": "4",
                                    "ProductName": "Headset Ball Bearings",
                                    "InventoryQuantity": "1322"
                                },
                                {
                                    "ProductID": "316",
                                    "ProductName": "Blade",
                                    "InventoryQuantity": "1361"
                                },
                                {
                                    "ProductID": "317",
                                    "ProductName": "LL Crankarm",
                                    "InventoryQuantity": "593"
                                },
                                {
                                    "ProductID": "318",
                                    "ProductName": "ML Crankarm",
                                    "InventoryQuantity": "439"
                                },
                                {
                                    "ProductID": "319",
                                    "ProductName": "HL Crankarm",
                                    "InventoryQuantity": "797"
                                },
                                {
                                    "ProductID": "320",
                                    "ProductName": "Chainring Bolts",
                                    "InventoryQuantity": "1136"
                                },
                                {
                                    "ProductID": "321",
                                    "ProductName": "Chainring Nut",
                                    "InventoryQuantity": "1750"
                                },
                                {
                                    "ProductID": "322",
                                    "ProductName": "Chainring",
                                    "InventoryQuantity": "1684"
                                },
                                {
                                    "ProductID": "323",
                                    "ProductName": "Crown Race",
                                    "InventoryQuantity": "1684"
                                },
                                {
                                    "ProductID": "324",
                                    "ProductName": "Chain Stays",
                                    "InventoryQuantity": "1629"
                                },
                                {
                                    "ProductID": "325",
                                    "ProductName": "Decal 1",
                                    "InventoryQuantity": "1750"
                                },
                                {
                                    "ProductID": "326",
                                    "ProductName": "Decal 2",
                                    "InventoryQuantity": "1684"
                                },
                                {
                                    "ProductID": "327",
                                    "ProductName": "Down Tube",
                                    "InventoryQuantity": "1364"
                                },
                                {
                                    "ProductID": "328",
                                    "ProductName": "Mountain End Caps",
                                    "InventoryQuantity": "1629"
                                },
                                {
                                    "ProductID": "329",
                                    "ProductName": "Road End Caps",
                                    "InventoryQuantity": "1601"
                                },
                                {
                                    "ProductID": "330",
                                    "ProductName": "Touring End Caps",
                                    "InventoryQuantity": "1571"
                                },
                                {
                                    "ProductID": "331",
                                    "ProductName": "Fork End",
                                    "InventoryQuantity": "1405"
                                },
                                {
                                    "ProductID": "332",
                                    "ProductName": "Freewheel",
                                    "InventoryQuantity": "844"
                                },
                                {
                                    "ProductID": "341",
                                    "ProductName": "Flat Washer 1",
                                    "InventoryQuantity": "1103"
                                },
                                {
                                    "ProductID": "342",
                                    "ProductName": "Flat Washer 6",
                                    "InventoryQuantity": "1093"
                                },
                                {
                                    "ProductID": "343",
                                    "ProductName": "Flat Washer 2",
                                    "InventoryQuantity": "1673"
                                },
                                {
                                    "ProductID": "344",
                                    "ProductName": "Flat Washer 9",
                                    "InventoryQuantity": "1072"
                                },
                                {
                                    "ProductID": "345",
                                    "ProductName": "Flat Washer 4",
                                    "InventoryQuantity": "936"
                                },
                                {
                                    "ProductID": "346",
                                    "ProductName": "Flat Washer 3",
                                    "InventoryQuantity": "1702"
                                },
                                {
                                    "ProductID": "347",
                                    "ProductName": "Flat Washer 8",
                                    "InventoryQuantity": "896"
                                },
                                {
                                    "ProductID": "348",
                                    "ProductName": "Flat Washer 5",
                                    "InventoryQuantity": "911"
                                },
                                {
                                    "ProductID": "349",
                                    "ProductName": "Flat Washer 7",
                                    "InventoryQuantity": "926"
                                },
                                {
                                    "ProductID": "350",
                                    "ProductName": "Fork Crown",
                                    "InventoryQuantity": "1341"
                                },
                                {
                                    "ProductID": "351",
                                    "ProductName": "Front Derailleur Cage",
                                    "InventoryQuantity": "605"
                                },
                                {
                                    "ProductID": "352",
                                    "ProductName": "Front Derailleur Linkage",
                                    "InventoryQuantity": "773"
                                },
                                {
                                    "ProductID": "355",
                                    "ProductName": "Guide Pulley",
                                    "InventoryQuantity": "822"
                                },
                                {
                                    "ProductID": "356",
                                    "ProductName": "LL Grip Tape",
                                    "InventoryQuantity": "780"
                                },
                                {
                                    "ProductID": "357",
                                    "ProductName": "ML Grip Tape",
                                    "InventoryQuantity": "736"
                                },
                                {
                                    "ProductID": "358",
                                    "ProductName": "HL Grip Tape",
                                    "InventoryQuantity": "693"
                                },
                                {
                                    "ProductID": "359",
                                    "ProductName": "Thin-Jam Hex Nut 9",
                                    "InventoryQuantity": "1103"
                                },
                                {
                                    "ProductID": "360",
                                    "ProductName": "Thin-Jam Hex Nut 10",
                                    "InventoryQuantity": "1084"
                                },
                                {
                                    "ProductID": "361",
                                    "ProductName": "Thin-Jam Hex Nut 1",
                                    "InventoryQuantity": "1631"
                                },
                                {
                                    "ProductID": "362",
                                    "ProductName": "Thin-Jam Hex Nut 2",
                                    "InventoryQuantity": "1026"
                                },
                                {
                                    "ProductID": "363",
                                    "ProductName": "Thin-Jam Hex Nut 15",
                                    "InventoryQuantity": "1761"
                                },
                                {
                                    "ProductID": "364",
                                    "ProductName": "Thin-Jam Hex Nut 16",
                                    "InventoryQuantity": "1052"
                                },
                                {
                                    "ProductID": "365",
                                    "ProductName": "Thin-Jam Hex Nut 5",
                                    "InventoryQuantity": "1721"
                                },
                                {
                                    "ProductID": "366",
                                    "ProductName": "Thin-Jam Hex Nut 6",
                                    "InventoryQuantity": "1029"
                                },
                                {
                                    "ProductID": "367",
                                    "ProductName": "Thin-Jam Hex Nut 3",
                                    "InventoryQuantity": "1901"
                                },
                                {
                                    "ProductID": "368",
                                    "ProductName": "Thin-Jam Hex Nut 4",
                                    "InventoryQuantity": "1103"
                                },
                                {
                                    "ProductID": "369",
                                    "ProductName": "Thin-Jam Hex Nut 13",
                                    "InventoryQuantity": "1084"
                                },
                                {
                                    "ProductID": "370",
                                    "ProductName": "Thin-Jam Hex Nut 14",
                                    "InventoryQuantity": "883"
                                },
                                {
                                    "ProductID": "371",
                                    "ProductName": "Thin-Jam Hex Nut 7",
                                    "InventoryQuantity": "1781"
                                },
                                {
                                    "ProductID": "372",
                                    "ProductName": "Thin-Jam Hex Nut 8",
                                    "InventoryQuantity": "897"
                                },
                                {
                                    "ProductID": "373",
                                    "ProductName": "Thin-Jam Hex Nut 12",
                                    "InventoryQuantity": "906"
                                },
                                {
                                    "ProductID": "374",
                                    "ProductName": "Thin-Jam Hex Nut 11",
                                    "InventoryQuantity": "916"
                                },
                                {
                                    "ProductID": "375",
                                    "ProductName": "Hex Nut 5",
                                    "InventoryQuantity": "925"
                                },
                                {
                                    "ProductID": "376",
                                    "ProductName": "Hex Nut 6",
                                    "InventoryQuantity": "1781"
                                },
                                {
                                    "ProductID": "377",
                                    "ProductName": "Hex Nut 16",
                                    "InventoryQuantity": "941"
                                },
                                {
                                    "ProductID": "378",
                                    "ProductName": "Hex Nut 17",
                                    "InventoryQuantity": "926"
                                },
                                {
                                    "ProductID": "379",
                                    "ProductName": "Hex Nut 7",
                                    "InventoryQuantity": "1911"
                                },
                                {
                                    "ProductID": "380",
                                    "ProductName": "Hex Nut 8",
                                    "InventoryQuantity": "770"
                                },
                                {
                                    "ProductID": "381",
                                    "ProductName": "Hex Nut 9",
                                    "InventoryQuantity": "789"
                                },
                                {
                                    "ProductID": "382",
                                    "ProductName": "Hex Nut 22",
                                    "InventoryQuantity": "808"
                                },
                                {
                                    "ProductID": "383",
                                    "ProductName": "Hex Nut 23",
                                    "InventoryQuantity": "1901"
                                },
                                {
                                    "ProductID": "384",
                                    "ProductName": "Hex Nut 12",
                                    "InventoryQuantity": "820"
                                },
                                {
                                    "ProductID": "385",
                                    "ProductName": "Hex Nut 13",
                                    "InventoryQuantity": "1778"
                                },
                                {
                                    "ProductID": "386",
                                    "ProductName": "Hex Nut 1",
                                    "InventoryQuantity": "725"
                                },
                                {
                                    "ProductID": "387",
                                    "ProductName": "Hex Nut 10",
                                    "InventoryQuantity": "1888"
                                },
                                {
                                    "ProductID": "388",
                                    "ProductName": "Hex Nut 11",
                                    "InventoryQuantity": "798"
                                },
                                {
                                    "ProductID": "389",
                                    "ProductName": "Hex Nut 2",
                                    "InventoryQuantity": "1808"
                                },
                                {
                                    "ProductID": "390",
                                    "ProductName": "Hex Nut 20",
                                    "InventoryQuantity": "798"
                                },
                                {
                                    "ProductID": "391",
                                    "ProductName": "Hex Nut 21",
                                    "InventoryQuantity": "809"
                                },
                                {
                                    "ProductID": "392",
                                    "ProductName": "Hex Nut 3",
                                    "InventoryQuantity": "818"
                                },
                                {
                                    "ProductID": "393",
                                    "ProductName": "Hex Nut 14",
                                    "InventoryQuantity": "1880"
                                },
                                {
                                    "ProductID": "394",
                                    "ProductName": "Hex Nut 15",
                                    "InventoryQuantity": "911"
                                },
                                {
                                    "ProductID": "395",
                                    "ProductName": "Hex Nut 4",
                                    "InventoryQuantity": "784"
                                },
                                {
                                    "ProductID": "396",
                                    "ProductName": "Hex Nut 18",
                                    "InventoryQuantity": "1824"
                                },
                                {
                                    "ProductID": "397",
                                    "ProductName": "Hex Nut 19",
                                    "InventoryQuantity": "1652"
                                },
                                {
                                    "ProductID": "398",
                                    "ProductName": "Handlebar Tube",
                                    "InventoryQuantity": "1326"
                                },
                                {
                                    "ProductID": "399",
                                    "ProductName": "Head Tube",
                                    "InventoryQuantity": "1308"
                                },
                                {
                                    "ProductID": "400",
                                    "ProductName": "LL Hub",
                                    "InventoryQuantity": "790"
                                },
                                {
                                    "ProductID": "401",
                                    "ProductName": "HL Hub",
                                    "InventoryQuantity": "797"
                                },
                                {
                                    "ProductID": "402",
                                    "ProductName": "Keyed Washer",
                                    "InventoryQuantity": "990"
                                },
                                {
                                    "ProductID": "403",
                                    "ProductName": "External Lock Washer 3",
                                    "InventoryQuantity": "981"
                                },
                                {
                                    "ProductID": "404",
                                    "ProductName": "External Lock Washer 4",
                                    "InventoryQuantity": "972"
                                },
                                {
                                    "ProductID": "405",
                                    "ProductName": "External Lock Washer 9",
                                    "InventoryQuantity": "963"
                                },
                                {
                                    "ProductID": "406",
                                    "ProductName": "External Lock Washer 5",
                                    "InventoryQuantity": "952"
                                },
                                {
                                    "ProductID": "407",
                                    "ProductName": "External Lock Washer 7",
                                    "InventoryQuantity": "1672"
                                },
                                {
                                    "ProductID": "408",
                                    "ProductName": "External Lock Washer 6",
                                    "InventoryQuantity": "1057"
                                },
                                {
                                    "ProductID": "409",
                                    "ProductName": "External Lock Washer 1",
                                    "InventoryQuantity": "1046"
                                },
                                {
                                    "ProductID": "410",
                                    "ProductName": "External Lock Washer 8",
                                    "InventoryQuantity": "1037"
                                },
                                {
                                    "ProductID": "411",
                                    "ProductName": "External Lock Washer 2",
                                    "InventoryQuantity": "1614"
                                },
                                {
                                    "ProductID": "412",
                                    "ProductName": "Internal Lock Washer 3",
                                    "InventoryQuantity": "776"
                                },
                                {
                                    "ProductID": "413",
                                    "ProductName": "Internal Lock Washer 4",
                                    "InventoryQuantity": "1703"
                                },
                                {
                                    "ProductID": "414",
                                    "ProductName": "Internal Lock Washer 9",
                                    "InventoryQuantity": "1119"
                                },
                                {
                                    "ProductID": "415",
                                    "ProductName": "Internal Lock Washer 5",
                                    "InventoryQuantity": "1104"
                                },
                                {
                                    "ProductID": "416",
                                    "ProductName": "Internal Lock Washer 7",
                                    "InventoryQuantity": "1090"
                                },
                                {
                                    "ProductID": "417",
                                    "ProductName": "Internal Lock Washer 6",
                                    "InventoryQuantity": "1715"
                                },
                                {
                                    "ProductID": "418",
                                    "ProductName": "Internal Lock Washer 10",
                                    "InventoryQuantity": "919"
                                },
                                {
                                    "ProductID": "419",
                                    "ProductName": "Internal Lock Washer 1",
                                    "InventoryQuantity": "914"
                                },
                                {
                                    "ProductID": "420",
                                    "ProductName": "Internal Lock Washer 8",
                                    "InventoryQuantity": "909"
                                },
                                {
                                    "ProductID": "421",
                                    "ProductName": "Internal Lock Washer 2",
                                    "InventoryQuantity": "905"
                                },
                                {
                                    "ProductID": "422",
                                    "ProductName": "Thin-Jam Lock Nut 9",
                                    "InventoryQuantity": "1632"
                                },
                                {
                                    "ProductID": "423",
                                    "ProductName": "Thin-Jam Lock Nut 10",
                                    "InventoryQuantity": "1628"
                                },
                                {
                                    "ProductID": "424",
                                    "ProductName": "Thin-Jam Lock Nut 1",
                                    "InventoryQuantity": "1623"
                                },
                                {
                                    "ProductID": "425",
                                    "ProductName": "Thin-Jam Lock Nut 2",
                                    "InventoryQuantity": "1618"
                                },
                                {
                                    "ProductID": "426",
                                    "ProductName": "Thin-Jam Lock Nut 15",
                                    "InventoryQuantity": "1613"
                                },
                                {
                                    "ProductID": "427",
                                    "ProductName": "Thin-Jam Lock Nut 16",
                                    "InventoryQuantity": "1608"
                                },
                                {
                                    "ProductID": "428",
                                    "ProductName": "Thin-Jam Lock Nut 5",
                                    "InventoryQuantity": "1604"
                                },
                                {
                                    "ProductID": "429",
                                    "ProductName": "Thin-Jam Lock Nut 6",
                                    "InventoryQuantity": "1599"
                                },
                                {
                                    "ProductID": "430",
                                    "ProductName": "Thin-Jam Lock Nut 3",
                                    "InventoryQuantity": "1594"
                                },
                                {
                                    "ProductID": "431",
                                    "ProductName": "Thin-Jam Lock Nut 4",
                                    "InventoryQuantity": "1604"
                                },
                                {
                                    "ProductID": "432",
                                    "ProductName": "Thin-Jam Lock Nut 13",
                                    "InventoryQuantity": "1613"
                                },
                                {
                                    "ProductID": "433",
                                    "ProductName": "Thin-Jam Lock Nut 14",
                                    "InventoryQuantity": "1623"
                                },
                                {
                                    "ProductID": "434",
                                    "ProductName": "Thin-Jam Lock Nut 7",
                                    "InventoryQuantity": "1632"
                                },
                                {
                                    "ProductID": "435",
                                    "ProductName": "Thin-Jam Lock Nut 8",
                                    "InventoryQuantity": "1642"
                                },
                                {
                                    "ProductID": "436",
                                    "ProductName": "Thin-Jam Lock Nut 12",
                                    "InventoryQuantity": "1652"
                                },
                                {
                                    "ProductID": "437",
                                    "ProductName": "Thin-Jam Lock Nut 11",
                                    "InventoryQuantity": "1661"
                                },
                                {
                                    "ProductID": "438",
                                    "ProductName": "Lock Nut 5",
                                    "InventoryQuantity": "1671"
                                },
                                {
                                    "ProductID": "439",
                                    "ProductName": "Lock Nut 6",
                                    "InventoryQuantity": "1680"
                                },
                                {
                                    "ProductID": "440",
                                    "ProductName": "Lock Nut 16",
                                    "InventoryQuantity": "1690"
                                },
                                {
                                    "ProductID": "441",
                                    "ProductName": "Lock Nut 17",
                                    "InventoryQuantity": "1676"
                                },
                                {
                                    "ProductID": "442",
                                    "ProductName": "Lock Nut 7",
                                    "InventoryQuantity": "1661"
                                },
                                {
                                    "ProductID": "443",
                                    "ProductName": "Lock Nut 8",
                                    "InventoryQuantity": "1647"
                                },
                                {
                                    "ProductID": "444",
                                    "ProductName": "Lock Nut 9",
                                    "InventoryQuantity": "1632"
                                },
                                {
                                    "ProductID": "445",
                                    "ProductName": "Lock Nut 22",
                                    "InventoryQuantity": "1618"
                                },
                                {
                                    "ProductID": "446",
                                    "ProductName": "Lock Nut 23",
                                    "InventoryQuantity": "1604"
                                },
                                {
                                    "ProductID": "447",
                                    "ProductName": "Lock Nut 12",
                                    "InventoryQuantity": "1589"
                                },
                                {
                                    "ProductID": "448",
                                    "ProductName": "Lock Nut 13",
                                    "InventoryQuantity": "1575"
                                },
                                {
                                    "ProductID": "449",
                                    "ProductName": "Lock Nut 1",
                                    "InventoryQuantity": "1560"
                                },
                                {
                                    "ProductID": "450",
                                    "ProductName": "Lock Nut 10",
                                    "InventoryQuantity": "1546"
                                },
                                {
                                    "ProductID": "451",
                                    "ProductName": "Lock Nut 11",
                                    "InventoryQuantity": "1556"
                                },
                                {
                                    "ProductID": "452",
                                    "ProductName": "Lock Nut 2",
                                    "InventoryQuantity": "1565"
                                },
                                {
                                    "ProductID": "453",
                                    "ProductName": "Lock Nut 20",
                                    "InventoryQuantity": "1575"
                                },
                                {
                                    "ProductID": "454",
                                    "ProductName": "Lock Nut 21",
                                    "InventoryQuantity": "1584"
                                },
                                {
                                    "ProductID": "455",
                                    "ProductName": "Lock Nut 3",
                                    "InventoryQuantity": "1594"
                                },
                                {
                                    "ProductID": "456",
                                    "ProductName": "Lock Nut 14",
                                    "InventoryQuantity": "1604"
                                },
                                {
                                    "ProductID": "457",
                                    "ProductName": "Lock Nut 15",
                                    "InventoryQuantity": "1613"
                                },
                                {
                                    "ProductID": "458",
                                    "ProductName": "Lock Nut 4",
                                    "InventoryQuantity": "1623"
                                },
                                {
                                    "ProductID": "459",
                                    "ProductName": "Lock Nut 19",
                                    "InventoryQuantity": "1632"
                                },
                                {
                                    "ProductID": "460",
                                    "ProductName": "Lock Nut 18",
                                    "InventoryQuantity": "1642"
                                },
                                {
                                    "ProductID": "461",
                                    "ProductName": "Lock Ring",
                                    "InventoryQuantity": "1652"
                                },
                                {
                                    "ProductID": "462",
                                    "ProductName": "Lower Head Race",
                                    "InventoryQuantity": "701"
                                },
                                {
                                    "ProductID": "463",
                                    "ProductName": "Lock Washer 4",
                                    "InventoryQuantity": "1685"
                                },
                                {
                                    "ProductID": "464",
                                    "ProductName": "Lock Washer 5",
                                    "InventoryQuantity": "1690"
                                },
                                {
                                    "ProductID": "465",
                                    "ProductName": "Lock Washer 10",
                                    "InventoryQuantity": "1695"
                                },
                                {
                                    "ProductID": "466",
                                    "ProductName": "Lock Washer 6",
                                    "InventoryQuantity": "1700"
                                },
                                {
                                    "ProductID": "467",
                                    "ProductName": "Lock Washer 13",
                                    "InventoryQuantity": "1704"
                                },
                                {
                                    "ProductID": "468",
                                    "ProductName": "Lock Washer 8",
                                    "InventoryQuantity": "1709"
                                },
                                {
                                    "ProductID": "469",
                                    "ProductName": "Lock Washer 1",
                                    "InventoryQuantity": "1714"
                                },
                                {
                                    "ProductID": "470",
                                    "ProductName": "Lock Washer 7",
                                    "InventoryQuantity": "1719"
                                },
                                {
                                    "ProductID": "471",
                                    "ProductName": "Lock Washer 12",
                                    "InventoryQuantity": "1724"
                                },
                                {
                                    "ProductID": "472",
                                    "ProductName": "Lock Washer 2",
                                    "InventoryQuantity": "1728"
                                },
                                {
                                    "ProductID": "473",
                                    "ProductName": "Lock Washer 9",
                                    "InventoryQuantity": "1733"
                                },
                                {
                                    "ProductID": "474",
                                    "ProductName": "Lock Washer 3",
                                    "InventoryQuantity": "1738"
                                },
                                {
                                    "ProductID": "475",
                                    "ProductName": "Lock Washer 11",
                                    "InventoryQuantity": "1743"
                                },
                                {
                                    "ProductID": "476",
                                    "ProductName": "Metal Angle",
                                    "InventoryQuantity": "1083"
                                },
                                {
                                    "ProductID": "477",
                                    "ProductName": "Metal Bar 1",
                                    "InventoryQuantity": "1079"
                                },
                                {
                                    "ProductID": "478",
                                    "ProductName": "Metal Bar 2",
                                    "InventoryQuantity": "1687"
                                },
                                {
                                    "ProductID": "479",
                                    "ProductName": "Metal Plate 2",
                                    "InventoryQuantity": "1029"
                                },
                                {
                                    "ProductID": "480",
                                    "ProductName": "Metal Plate 1",
                                    "InventoryQuantity": "1661"
                                },
                                {
                                    "ProductID": "481",
                                    "ProductName": "Metal Plate 3",
                                    "InventoryQuantity": "997"
                                },
                                {
                                    "ProductID": "482",
                                    "ProductName": "Metal Sheet 2",
                                    "InventoryQuantity": "924"
                                },
                                {
                                    "ProductID": "483",
                                    "ProductName": "Metal Sheet 3",
                                    "InventoryQuantity": "1681"
                                },
                                {
                                    "ProductID": "484",
                                    "ProductName": "Metal Sheet 7",
                                    "InventoryQuantity": "997"
                                },
                                {
                                    "ProductID": "485",
                                    "ProductName": "Metal Sheet 4",
                                    "InventoryQuantity": "924"
                                },
                                {
                                    "ProductID": "486",
                                    "ProductName": "Metal Sheet 5",
                                    "InventoryQuantity": "1661"
                                },
                                {
                                    "ProductID": "487",
                                    "ProductName": "Metal Sheet 6",
                                    "InventoryQuantity": "992"
                                },
                                {
                                    "ProductID": "488",
                                    "ProductName": "Metal Sheet 1",
                                    "InventoryQuantity": "935"
                                },
                                {
                                    "ProductID": "489",
                                    "ProductName": "Metal Tread Plate",
                                    "InventoryQuantity": "1837"
                                },
                                {
                                    "ProductID": "490",
                                    "ProductName": "LL Nipple",
                                    "InventoryQuantity": "1780"
                                },
                                {
                                    "ProductID": "491",
                                    "ProductName": "HL Nipple",
                                    "InventoryQuantity": "922"
                                },
                                {
                                    "ProductID": "492",
                                    "ProductName": "Paint - Black",
                                    "InventoryQuantity": "47"
                                },
                                {
                                    "ProductID": "493",
                                    "ProductName": "Paint - Red",
                                    "InventoryQuantity": "93"
                                },
                                {
                                    "ProductID": "494",
                                    "ProductName": "Paint - Silver",
                                    "InventoryQuantity": "65"
                                },
                                {
                                    "ProductID": "495",
                                    "ProductName": "Paint - Blue",
                                    "InventoryQuantity": "109"
                                },
                                {
                                    "ProductID": "496",
                                    "ProductName": "Paint - Yellow",
                                    "InventoryQuantity": "99"
                                },
                                {
                                    "ProductID": "497",
                                    "ProductName": "Pinch Bolt",
                                    "InventoryQuantity": "973"
                                },
                                {
                                    "ProductID": "504",
                                    "ProductName": "Cup-Shaped Race",
                                    "InventoryQuantity": "1084"
                                },
                                {
                                    "ProductID": "505",
                                    "ProductName": "Cone-Shaped Race",
                                    "InventoryQuantity": "970"
                                },
                                {
                                    "ProductID": "506",
                                    "ProductName": "Reflector",
                                    "InventoryQuantity": "827"
                                },
                                {
                                    "ProductID": "507",
                                    "ProductName": "LL Mountain Rim",
                                    "InventoryQuantity": "1215"
                                },
                                {
                                    "ProductID": "508",
                                    "ProductName": "ML Mountain Rim",
                                    "InventoryQuantity": "1231"
                                },
                                {
                                    "ProductID": "509",
                                    "ProductName": "HL Mountain Rim",
                                    "InventoryQuantity": "1247"
                                },
                                {
                                    "ProductID": "510",
                                    "ProductName": "LL Road Rim",
                                    "InventoryQuantity": "722"
                                },
                                {
                                    "ProductID": "511",
                                    "ProductName": "ML Road Rim",
                                    "InventoryQuantity": "740"
                                },
                                {
                                    "ProductID": "512",
                                    "ProductName": "HL Road Rim",
                                    "InventoryQuantity": "615"
                                },
                                {
                                    "ProductID": "513",
                                    "ProductName": "Touring Rim",
                                    "InventoryQuantity": "1364"
                                },
                                {
                                    "ProductID": "514",
                                    "ProductName": "LL Mountain Seat Assembly",
                                    "InventoryQuantity": "797"
                                },
                                {
                                    "ProductID": "515",
                                    "ProductName": "ML Mountain Seat Assembly",
                                    "InventoryQuantity": "802"
                                },
                                {
                                    "ProductID": "516",
                                    "ProductName": "HL Mountain Seat Assembly",
                                    "InventoryQuantity": "807"
                                },
                                {
                                    "ProductID": "517",
                                    "ProductName": "LL Road Seat Assembly",
                                    "InventoryQuantity": "812"
                                },
                                {
                                    "ProductID": "518",
                                    "ProductName": "ML Road Seat Assembly",
                                    "InventoryQuantity": "816"
                                },
                                {
                                    "ProductID": "519",
                                    "ProductName": "HL Road Seat Assembly",
                                    "InventoryQuantity": "821"
                                },
                                {
                                    "ProductID": "520",
                                    "ProductName": "LL Touring Seat Assembly",
                                    "InventoryQuantity": "826"
                                },
                                {
                                    "ProductID": "521",
                                    "ProductName": "ML Touring Seat Assembly",
                                    "InventoryQuantity": "831"
                                },
                                {
                                    "ProductID": "522",
                                    "ProductName": "HL Touring Seat Assembly",
                                    "InventoryQuantity": "836"
                                },
                                {
                                    "ProductID": "523",
                                    "ProductName": "LL Spindle/Axle",
                                    "InventoryQuantity": "512"
                                },
                                {
                                    "ProductID": "524",
                                    "ProductName": "HL Spindle/Axle",
                                    "InventoryQuantity": "459"
                                },
                                {
                                    "ProductID": "525",
                                    "ProductName": "LL Shell",
                                    "InventoryQuantity": "1263"
                                },
                                {
                                    "ProductID": "526",
                                    "ProductName": "HL Shell",
                                    "InventoryQuantity": "1211"
                                },
                                {
                                    "ProductID": "527",
                                    "ProductName": "Spokes",
                                    "InventoryQuantity": "1590"
                                },
                                {
                                    "ProductID": "528",
                                    "ProductName": "Seat Lug",
                                    "InventoryQuantity": "1653"
                                },
                                {
                                    "ProductID": "529",
                                    "ProductName": "Stem",
                                    "InventoryQuantity": "796"
                                },
                                {
                                    "ProductID": "530",
                                    "ProductName": "Seat Post",
                                    "InventoryQuantity": "780"
                                },
                                {
                                    "ProductID": "531",
                                    "ProductName": "Steerer",
                                    "InventoryQuantity": "801"
                                },
                                {
                                    "ProductID": "532",
                                    "ProductName": "Seat Stays",
                                    "InventoryQuantity": "1257"
                                },
                                {
                                    "ProductID": "533",
                                    "ProductName": "Seat Tube",
                                    "InventoryQuantity": "831"
                                },
                                {
                                    "ProductID": "534",
                                    "ProductName": "Top Tube",
                                    "InventoryQuantity": "657"
                                },
                                {
                                    "ProductID": "535",
                                    "ProductName": "Tension Pulley",
                                    "InventoryQuantity": "836"
                                },
                                {
                                    "ProductID": "679",
                                    "ProductName": "Rear Derailleur Cage",
                                    "InventoryQuantity": "421"
                                },
                                {
                                    "ProductID": "707",
                                    "ProductName": "Sport-100 Helmet, Red",
                                    "InventoryQuantity": "288"
                                },
                                {
                                    "ProductID": "708",
                                    "ProductName": "Sport-100 Helmet, Black",
                                    "InventoryQuantity": "324"
                                },
                                {
                                    "ProductID": "709",
                                    "ProductName": "Mountain Bike Socks, M",
                                    "InventoryQuantity": "180"
                                },
                                {
                                    "ProductID": "710",
                                    "ProductName": "Mountain Bike Socks, L",
                                    "InventoryQuantity": "216"
                                },
                                {
                                    "ProductID": "711",
                                    "ProductName": "Sport-100 Helmet, Blue",
                                    "InventoryQuantity": "216"
                                },
                                {
                                    "ProductID": "712",
                                    "ProductName": "AWC Logo Cap",
                                    "InventoryQuantity": "288"
                                },
                                {
                                    "ProductID": "713",
                                    "ProductName": "Long-Sleeve Logo Jersey, S",
                                    "InventoryQuantity": "144"
                                },
                                {
                                    "ProductID": "714",
                                    "ProductName": "Long-Sleeve Logo Jersey, M",
                                    "InventoryQuantity": "180"
                                },
                                {
                                    "ProductID": "715",
                                    "ProductName": "Long-Sleeve Logo Jersey, L",
                                    "InventoryQuantity": "216"
                                },
                                {
                                    "ProductID": "716",
                                    "ProductName": "Long-Sleeve Logo Jersey, XL",
                                    "InventoryQuantity": "252"
                                },
                                {
                                    "ProductID": "747",
                                    "ProductName": "HL Mountain Frame - Black, 38",
                                    "InventoryQuantity": "834"
                                },
                                {
                                    "ProductID": "748",
                                    "ProductName": "HL Mountain Frame - Silver, 38",
                                    "InventoryQuantity": "738"
                                },
                                {
                                    "ProductID": "749",
                                    "ProductName": "Road-150 Red, 62",
                                    "InventoryQuantity": "133"
                                },
                                {
                                    "ProductID": "750",
                                    "ProductName": "Road-150 Red, 44",
                                    "InventoryQuantity": "223"
                                },
                                {
                                    "ProductID": "751",
                                    "ProductName": "Road-150 Red, 48",
                                    "InventoryQuantity": "140"
                                },
                                {
                                    "ProductID": "752",
                                    "ProductName": "Road-150 Red, 52",
                                    "InventoryQuantity": "128"
                                },
                                {
                                    "ProductID": "753",
                                    "ProductName": "Road-150 Red, 56",
                                    "InventoryQuantity": "163"
                                },
                                {
                                    "ProductID": "754",
                                    "ProductName": "Road-450 Red, 58",
                                    "InventoryQuantity": "148"
                                },
                                {
                                    "ProductID": "755",
                                    "ProductName": "Road-450 Red, 60",
                                    "InventoryQuantity": "137"
                                },
                                {
                                    "ProductID": "756",
                                    "ProductName": "Road-450 Red, 44",
                                    "InventoryQuantity": "129"
                                },
                                {
                                    "ProductID": "757",
                                    "ProductName": "Road-450 Red, 48",
                                    "InventoryQuantity": "134"
                                },
                                {
                                    "ProductID": "758",
                                    "ProductName": "Road-450 Red, 52",
                                    "InventoryQuantity": "165"
                                },
                                {
                                    "ProductID": "759",
                                    "ProductName": "Road-650 Red, 58",
                                    "InventoryQuantity": "163"
                                },
                                {
                                    "ProductID": "760",
                                    "ProductName": "Road-650 Red, 60",
                                    "InventoryQuantity": "185"
                                },
                                {
                                    "ProductID": "761",
                                    "ProductName": "Road-650 Red, 62",
                                    "InventoryQuantity": "148"
                                },
                                {
                                    "ProductID": "762",
                                    "ProductName": "Road-650 Red, 44",
                                    "InventoryQuantity": "137"
                                },
                                {
                                    "ProductID": "763",
                                    "ProductName": "Road-650 Red, 48",
                                    "InventoryQuantity": "223"
                                },
                                {
                                    "ProductID": "764",
                                    "ProductName": "Road-650 Red, 52",
                                    "InventoryQuantity": "140"
                                },
                                {
                                    "ProductID": "765",
                                    "ProductName": "Road-650 Black, 58",
                                    "InventoryQuantity": "134"
                                },
                                {
                                    "ProductID": "766",
                                    "ProductName": "Road-650 Black, 60",
                                    "InventoryQuantity": "165"
                                },
                                {
                                    "ProductID": "767",
                                    "ProductName": "Road-650 Black, 62",
                                    "InventoryQuantity": "188"
                                },
                                {
                                    "ProductID": "768",
                                    "ProductName": "Road-650 Black, 44",
                                    "InventoryQuantity": "148"
                                },
                                {
                                    "ProductID": "769",
                                    "ProductName": "Road-650 Black, 48",
                                    "InventoryQuantity": "133"
                                },
                                {
                                    "ProductID": "770",
                                    "ProductName": "Road-650 Black, 52",
                                    "InventoryQuantity": "227"
                                },
                                {
                                    "ProductID": "771",
                                    "ProductName": "Mountain-100 Silver, 38",
                                    "InventoryQuantity": "149"
                                },
                                {
                                    "ProductID": "772",
                                    "ProductName": "Mountain-100 Silver, 42",
                                    "InventoryQuantity": "153"
                                },
                                {
                                    "ProductID": "773",
                                    "ProductName": "Mountain-100 Silver, 44",
                                    "InventoryQuantity": "158"
                                },
                                {
                                    "ProductID": "774",
                                    "ProductName": "Mountain-100 Silver, 48",
                                    "InventoryQuantity": "164"
                                },
                                {
                                    "ProductID": "775",
                                    "ProductName": "Mountain-100 Black, 38",
                                    "InventoryQuantity": "155"
                                },
                                {
                                    "ProductID": "776",
                                    "ProductName": "Mountain-100 Black, 42",
                                    "InventoryQuantity": "194"
                                },
                                {
                                    "ProductID": "777",
                                    "ProductName": "Mountain-100 Black, 44",
                                    "InventoryQuantity": "149"
                                },
                                {
                                    "ProductID": "778",
                                    "ProductName": "Mountain-100 Black, 48",
                                    "InventoryQuantity": "153"
                                },
                                {
                                    "ProductID": "779",
                                    "ProductName": "Mountain-200 Silver, 38",
                                    "InventoryQuantity": "137"
                                },
                                {
                                    "ProductID": "780",
                                    "ProductName": "Mountain-200 Silver, 42",
                                    "InventoryQuantity": "223"
                                },
                                {
                                    "ProductID": "781",
                                    "ProductName": "Mountain-200 Silver, 46",
                                    "InventoryQuantity": "140"
                                },
                                {
                                    "ProductID": "782",
                                    "ProductName": "Mountain-200 Black, 38",
                                    "InventoryQuantity": "188"
                                },
                                {
                                    "ProductID": "783",
                                    "ProductName": "Mountain-200 Black, 42",
                                    "InventoryQuantity": "148"
                                },
                                {
                                    "ProductID": "784",
                                    "ProductName": "Mountain-200 Black, 46",
                                    "InventoryQuantity": "137"
                                },
                                {
                                    "ProductID": "785",
                                    "ProductName": "Mountain-300 Black, 38",
                                    "InventoryQuantity": "137"
                                },
                                {
                                    "ProductID": "786",
                                    "ProductName": "Mountain-300 Black, 40",
                                    "InventoryQuantity": "223"
                                },
                                {
                                    "ProductID": "787",
                                    "ProductName": "Mountain-300 Black, 44",
                                    "InventoryQuantity": "140"
                                },
                                {
                                    "ProductID": "788",
                                    "ProductName": "Mountain-300 Black, 48",
                                    "InventoryQuantity": "128"
                                },
                                {
                                    "ProductID": "789",
                                    "ProductName": "Road-250 Red, 44",
                                    "InventoryQuantity": "163"
                                },
                                {
                                    "ProductID": "790",
                                    "ProductName": "Road-250 Red, 48",
                                    "InventoryQuantity": "185"
                                },
                                {
                                    "ProductID": "791",
                                    "ProductName": "Road-250 Red, 52",
                                    "InventoryQuantity": "148"
                                },
                                {
                                    "ProductID": "792",
                                    "ProductName": "Road-250 Red, 58",
                                    "InventoryQuantity": "227"
                                },
                                {
                                    "ProductID": "793",
                                    "ProductName": "Road-250 Black, 44",
                                    "InventoryQuantity": "134"
                                },
                                {
                                    "ProductID": "794",
                                    "ProductName": "Road-250 Black, 48",
                                    "InventoryQuantity": "165"
                                },
                                {
                                    "ProductID": "795",
                                    "ProductName": "Road-250 Black, 52",
                                    "InventoryQuantity": "188"
                                },
                                {
                                    "ProductID": "796",
                                    "ProductName": "Road-250 Black, 58",
                                    "InventoryQuantity": "148"
                                },
                                {
                                    "ProductID": "797",
                                    "ProductName": "Road-550-W Yellow, 38",
                                    "InventoryQuantity": "148"
                                },
                                {
                                    "ProductID": "798",
                                    "ProductName": "Road-550-W Yellow, 40",
                                    "InventoryQuantity": "133"
                                },
                                {
                                    "ProductID": "799",
                                    "ProductName": "Road-550-W Yellow, 42",
                                    "InventoryQuantity": "227"
                                },
                                {
                                    "ProductID": "800",
                                    "ProductName": "Road-550-W Yellow, 44",
                                    "InventoryQuantity": "129"
                                },
                                {
                                    "ProductID": "801",
                                    "ProductName": "Road-550-W Yellow, 48",
                                    "InventoryQuantity": "134"
                                },
                                {
                                    "ProductID": "802",
                                    "ProductName": "LL Fork",
                                    "InventoryQuantity": "863"
                                },
                                {
                                    "ProductID": "803",
                                    "ProductName": "ML Fork",
                                    "InventoryQuantity": "882"
                                },
                                {
                                    "ProductID": "804",
                                    "ProductName": "HL Fork",
                                    "InventoryQuantity": "901"
                                },
                                {
                                    "ProductID": "805",
                                    "ProductName": "LL Headset",
                                    "InventoryQuantity": "761"
                                },
                                {
                                    "ProductID": "806",
                                    "ProductName": "ML Headset",
                                    "InventoryQuantity": "772"
                                },
                                {
                                    "ProductID": "807",
                                    "ProductName": "HL Headset",
                                    "InventoryQuantity": "782"
                                },
                                {
                                    "ProductID": "808",
                                    "ProductName": "LL Mountain Handlebars",
                                    "InventoryQuantity": "859"
                                },
                                {
                                    "ProductID": "809",
                                    "ProductName": "ML Mountain Handlebars",
                                    "InventoryQuantity": "850"
                                },
                                {
                                    "ProductID": "810",
                                    "ProductName": "HL Mountain Handlebars",
                                    "InventoryQuantity": "840"
                                },
                                {
                                    "ProductID": "811",
                                    "ProductName": "LL Road Handlebars",
                                    "InventoryQuantity": "831"
                                },
                                {
                                    "ProductID": "812",
                                    "ProductName": "ML Road Handlebars",
                                    "InventoryQuantity": "822"
                                },
                                {
                                    "ProductID": "813",
                                    "ProductName": "HL Road Handlebars",
                                    "InventoryQuantity": "811"
                                },
                                {
                                    "ProductID": "814",
                                    "ProductName": "ML Mountain Frame - Black, 38",
                                    "InventoryQuantity": "767"
                                },
                                {
                                    "ProductID": "815",
                                    "ProductName": "LL Mountain Front Wheel",
                                    "InventoryQuantity": "722"
                                },
                                {
                                    "ProductID": "816",
                                    "ProductName": "ML Mountain Front Wheel",
                                    "InventoryQuantity": "818"
                                },
                                {
                                    "ProductID": "817",
                                    "ProductName": "HL Mountain Front Wheel",
                                    "InventoryQuantity": "831"
                                },
                                {
                                    "ProductID": "818",
                                    "ProductName": "LL Road Front Wheel",
                                    "InventoryQuantity": "888"
                                },
                                {
                                    "ProductID": "819",
                                    "ProductName": "ML Road Front Wheel",
                                    "InventoryQuantity": "793"
                                },
                                {
                                    "ProductID": "820",
                                    "ProductName": "HL Road Front Wheel",
                                    "InventoryQuantity": "678"
                                },
                                {
                                    "ProductID": "821",
                                    "ProductName": "Touring Front Wheel",
                                    "InventoryQuantity": "736"
                                },
                                {
                                    "ProductID": "822",
                                    "ProductName": "ML Road Frame-W - Yellow, 38",
                                    "InventoryQuantity": "796"
                                },
                                {
                                    "ProductID": "823",
                                    "ProductName": "LL Mountain Rear Wheel",
                                    "InventoryQuantity": "681"
                                },
                                {
                                    "ProductID": "824",
                                    "ProductName": "ML Mountain Rear Wheel",
                                    "InventoryQuantity": "812"
                                },
                                {
                                    "ProductID": "825",
                                    "ProductName": "HL Mountain Rear Wheel",
                                    "InventoryQuantity": "783"
                                },
                                {
                                    "ProductID": "826",
                                    "ProductName": "LL Road Rear Wheel",
                                    "InventoryQuantity": "799"
                                },
                                {
                                    "ProductID": "827",
                                    "ProductName": "ML Road Rear Wheel",
                                    "InventoryQuantity": "837"
                                },
                                {
                                    "ProductID": "828",
                                    "ProductName": "HL Road Rear Wheel",
                                    "InventoryQuantity": "716"
                                },
                                {
                                    "ProductID": "829",
                                    "ProductName": "Touring Rear Wheel",
                                    "InventoryQuantity": "741"
                                },
                                {
                                    "ProductID": "841",
                                    "ProductName": "Men's Sports Shorts, S",
                                    "InventoryQuantity": "288"
                                },
                                {
                                    "ProductID": "842",
                                    "ProductName": "Touring-Panniers, Large",
                                    "InventoryQuantity": "72"
                                },
                                {
                                    "ProductID": "843",
                                    "ProductName": "Cable Lock",
                                    "InventoryQuantity": "252"
                                },
                                {
                                    "ProductID": "844",
                                    "ProductName": "Minipump",
                                    "InventoryQuantity": "288"
                                },
                                {
                                    "ProductID": "845",
                                    "ProductName": "Mountain Pump",
                                    "InventoryQuantity": "324"
                                },
                                {
                                    "ProductID": "846",
                                    "ProductName": "Taillights - Battery-Powered",
                                    "InventoryQuantity": "144"
                                },
                                {
                                    "ProductID": "847",
                                    "ProductName": "Headlights - Dual-Beam",
                                    "InventoryQuantity": "180"
                                },
                                {
                                    "ProductID": "848",
                                    "ProductName": "Headlights - Weatherproof",
                                    "InventoryQuantity": "216"
                                },
                                {
                                    "ProductID": "849",
                                    "ProductName": "Men's Sports Shorts, M",
                                    "InventoryQuantity": "108"
                                },
                                {
                                    "ProductID": "850",
                                    "ProductName": "Men's Sports Shorts, L",
                                    "InventoryQuantity": "144"
                                },
                                {
                                    "ProductID": "851",
                                    "ProductName": "Men's Sports Shorts, XL",
                                    "InventoryQuantity": "180"
                                },
                                {
                                    "ProductID": "852",
                                    "ProductName": "Women's Tights, S",
                                    "InventoryQuantity": "324"
                                },
                                {
                                    "ProductID": "854",
                                    "ProductName": "Women's Tights, L",
                                    "InventoryQuantity": "36"
                                },
                                {
                                    "ProductID": "855",
                                    "ProductName": "Men's Bib-Shorts, S",
                                    "InventoryQuantity": "72"
                                },
                                {
                                    "ProductID": "856",
                                    "ProductName": "Men's Bib-Shorts, M",
                                    "InventoryQuantity": "108"
                                },
                                {
                                    "ProductID": "857",
                                    "ProductName": "Men's Bib-Shorts, L",
                                    "InventoryQuantity": "144"
                                },
                                {
                                    "ProductID": "858",
                                    "ProductName": "Half-Finger Gloves, S",
                                    "InventoryQuantity": "324"
                                },
                                {
                                    "ProductID": "860",
                                    "ProductName": "Half-Finger Gloves, L",
                                    "InventoryQuantity": "36"
                                },
                                {
                                    "ProductID": "861",
                                    "ProductName": "Full-Finger Gloves, S",
                                    "InventoryQuantity": "72"
                                },
                                {
                                    "ProductID": "862",
                                    "ProductName": "Full-Finger Gloves, M",
                                    "InventoryQuantity": "108"
                                },
                                {
                                    "ProductID": "863",
                                    "ProductName": "Full-Finger Gloves, L",
                                    "InventoryQuantity": "144"
                                },
                                {
                                    "ProductID": "864",
                                    "ProductName": "Classic Vest, S",
                                    "InventoryQuantity": "180"
                                },
                                {
                                    "ProductID": "865",
                                    "ProductName": "Classic Vest, M",
                                    "InventoryQuantity": "216"
                                },
                                {
                                    "ProductID": "866",
                                    "ProductName": "Classic Vest, L",
                                    "InventoryQuantity": "252"
                                },
                                {
                                    "ProductID": "867",
                                    "ProductName": "Women's Mountain Shorts, S",
                                    "InventoryQuantity": "216"
                                },
                                {
                                    "ProductID": "868",
                                    "ProductName": "Women's Mountain Shorts, M",
                                    "InventoryQuantity": "252"
                                },
                                {
                                    "ProductID": "869",
                                    "ProductName": "Women's Mountain Shorts, L",
                                    "InventoryQuantity": "288"
                                },
                                {
                                    "ProductID": "870",
                                    "ProductName": "Water Bottle - 30 oz.",
                                    "InventoryQuantity": "252"
                                },
                                {
                                    "ProductID": "871",
                                    "ProductName": "Mountain Bottle Cage",
                                    "InventoryQuantity": "288"
                                },
                                {
                                    "ProductID": "872",
                                    "ProductName": "Road Bottle Cage",
                                    "InventoryQuantity": "324"
                                },
                                {
                                    "ProductID": "873",
                                    "ProductName": "Patch Kit/8 Patches",
                                    "InventoryQuantity": "180"
                                },
                                {
                                    "ProductID": "874",
                                    "ProductName": "Racing Socks, M",
                                    "InventoryQuantity": "252"
                                },
                                {
                                    "ProductID": "875",
                                    "ProductName": "Racing Socks, L",
                                    "InventoryQuantity": "288"
                                },
                                {
                                    "ProductID": "877",
                                    "ProductName": "Bike Wash - Dissolver",
                                    "InventoryQuantity": "36"
                                },
                                {
                                    "ProductID": "878",
                                    "ProductName": "Fender Set - Mountain",
                                    "InventoryQuantity": "108"
                                },
                                {
                                    "ProductID": "879",
                                    "ProductName": "All-Purpose Bike Stand",
                                    "InventoryQuantity": "144"
                                },
                                {
                                    "ProductID": "880",
                                    "ProductName": "Hydration Pack - 70 oz.",
                                    "InventoryQuantity": "108"
                                },
                                {
                                    "ProductID": "881",
                                    "ProductName": "Short-Sleeve Classic Jersey, S",
                                    "InventoryQuantity": "324"
                                },
                                {
                                    "ProductID": "883",
                                    "ProductName": "Short-Sleeve Classic Jersey, L",
                                    "InventoryQuantity": "36"
                                },
                                {
                                    "ProductID": "884",
                                    "ProductName": "Short-Sleeve Classic Jersey, XL",
                                    "InventoryQuantity": "72"
                                },
                                {
                                    "ProductID": "894",
                                    "ProductName": "Rear Derailleur",
                                    "InventoryQuantity": "847"
                                },
                                {
                                    "ProductID": "907",
                                    "ProductName": "Rear Brakes",
                                    "InventoryQuantity": "723"
                                },
                                {
                                    "ProductID": "908",
                                    "ProductName": "LL Mountain Seat/Saddle",
                                    "InventoryQuantity": "809"
                                },
                                {
                                    "ProductID": "909",
                                    "ProductName": "ML Mountain Seat/Saddle",
                                    "InventoryQuantity": "422"
                                },
                                {
                                    "ProductID": "910",
                                    "ProductName": "HL Mountain Seat/Saddle",
                                    "InventoryQuantity": "355"
                                },
                                {
                                    "ProductID": "911",
                                    "ProductName": "LL Road Seat/Saddle",
                                    "InventoryQuantity": "906"
                                },
                                {
                                    "ProductID": "912",
                                    "ProductName": "ML Road Seat/Saddle",
                                    "InventoryQuantity": "901"
                                },
                                {
                                    "ProductID": "913",
                                    "ProductName": "HL Road Seat/Saddle",
                                    "InventoryQuantity": "467"
                                },
                                {
                                    "ProductID": "914",
                                    "ProductName": "LL Touring Seat/Saddle",
                                    "InventoryQuantity": "801"
                                },
                                {
                                    "ProductID": "915",
                                    "ProductName": "ML Touring Seat/Saddle",
                                    "InventoryQuantity": "402"
                                },
                                {
                                    "ProductID": "916",
                                    "ProductName": "HL Touring Seat/Saddle",
                                    "InventoryQuantity": "989"
                                },
                                {
                                    "ProductID": "921",
                                    "ProductName": "Mountain Tire Tube",
                                    "InventoryQuantity": "529"
                                },
                                {
                                    "ProductID": "922",
                                    "ProductName": "Road Tire Tube",
                                    "InventoryQuantity": "505"
                                },
                                {
                                    "ProductID": "923",
                                    "ProductName": "Touring Tire Tube",
                                    "InventoryQuantity": "502"
                                },
                                {
                                    "ProductID": "928",
                                    "ProductName": "LL Mountain Tire",
                                    "InventoryQuantity": "609"
                                },
                                {
                                    "ProductID": "929",
                                    "ProductName": "ML Mountain Tire",
                                    "InventoryQuantity": "669"
                                },
                                {
                                    "ProductID": "930",
                                    "ProductName": "HL Mountain Tire",
                                    "InventoryQuantity": "499"
                                },
                                {
                                    "ProductID": "931",
                                    "ProductName": "LL Road Tire",
                                    "InventoryQuantity": "488"
                                },
                                {
                                    "ProductID": "932",
                                    "ProductName": "ML Road Tire",
                                    "InventoryQuantity": "574"
                                },
                                {
                                    "ProductID": "933",
                                    "ProductName": "HL Road Tire",
                                    "InventoryQuantity": "527"
                                },
                                {
                                    "ProductID": "934",
                                    "ProductName": "Touring Tire",
                                    "InventoryQuantity": "482"
                                },
                                {
                                    "ProductID": "935",
                                    "ProductName": "LL Mountain Pedal",
                                    "InventoryQuantity": "512"
                                },
                                {
                                    "ProductID": "936",
                                    "ProductName": "ML Mountain Pedal",
                                    "InventoryQuantity": "507"
                                },
                                {
                                    "ProductID": "937",
                                    "ProductName": "HL Mountain Pedal",
                                    "InventoryQuantity": "503"
                                },
                                {
                                    "ProductID": "938",
                                    "ProductName": "LL Road Pedal",
                                    "InventoryQuantity": "498"
                                },
                                {
                                    "ProductID": "939",
                                    "ProductName": "ML Road Pedal",
                                    "InventoryQuantity": "494"
                                },
                                {
                                    "ProductID": "940",
                                    "ProductName": "HL Road Pedal",
                                    "InventoryQuantity": "906"
                                },
                                {
                                    "ProductID": "941",
                                    "ProductName": "Touring Pedal",
                                    "InventoryQuantity": "885"
                                },
                                {
                                    "ProductID": "942",
                                    "ProductName": "ML Mountain Frame-W - Silver, 38",
                                    "InventoryQuantity": "826"
                                },
                                {
                                    "ProductID": "943",
                                    "ProductName": "LL Mountain Frame - Black, 40",
                                    "InventoryQuantity": "719"
                                },
                                {
                                    "ProductID": "944",
                                    "ProductName": "LL Mountain Frame - Silver, 40",
                                    "InventoryQuantity": "682"
                                },
                                {
                                    "ProductID": "945",
                                    "ProductName": "Front Derailleur",
                                    "InventoryQuantity": "853"
                                },
                                {
                                    "ProductID": "946",
                                    "ProductName": "LL Touring Handlebars",
                                    "InventoryQuantity": "802"
                                },
                                {
                                    "ProductID": "947",
                                    "ProductName": "HL Touring Handlebars",
                                    "InventoryQuantity": "792"
                                },
                                {
                                    "ProductID": "948",
                                    "ProductName": "Front Brakes",
                                    "InventoryQuantity": "767"
                                },
                                {
                                    "ProductID": "949",
                                    "ProductName": "LL Crankset",
                                    "InventoryQuantity": "885"
                                },
                                {
                                    "ProductID": "950",
                                    "ProductName": "ML Crankset",
                                    "InventoryQuantity": "905"
                                },
                                {
                                    "ProductID": "951",
                                    "ProductName": "HL Crankset",
                                    "InventoryQuantity": "923"
                                },
                                {
                                    "ProductID": "952",
                                    "ProductName": "Chain",
                                    "InventoryQuantity": "589"
                                },
                                {
                                    "ProductID": "953",
                                    "ProductName": "Touring-2000 Blue, 60",
                                    "InventoryQuantity": "165"
                                },
                                {
                                    "ProductID": "954",
                                    "ProductName": "Touring-1000 Yellow, 46",
                                    "InventoryQuantity": "148"
                                },
                                {
                                    "ProductID": "955",
                                    "ProductName": "Touring-1000 Yellow, 50",
                                    "InventoryQuantity": "137"
                                },
                                {
                                    "ProductID": "956",
                                    "ProductName": "Touring-1000 Yellow, 54",
                                    "InventoryQuantity": "75"
                                },
                                {
                                    "ProductID": "957",
                                    "ProductName": "Touring-1000 Yellow, 60",
                                    "InventoryQuantity": "151"
                                },
                                {
                                    "ProductID": "958",
                                    "ProductName": "Touring-3000 Blue, 54",
                                    "InventoryQuantity": "163"
                                },
                                {
                                    "ProductID": "959",
                                    "ProductName": "Touring-3000 Blue, 58",
                                    "InventoryQuantity": "204"
                                },
                                {
                                    "ProductID": "960",
                                    "ProductName": "Touring-3000 Blue, 62",
                                    "InventoryQuantity": "159"
                                },
                                {
                                    "ProductID": "961",
                                    "ProductName": "Touring-3000 Yellow, 44",
                                    "InventoryQuantity": "168"
                                },
                                {
                                    "ProductID": "962",
                                    "ProductName": "Touring-3000 Yellow, 50",
                                    "InventoryQuantity": "174"
                                },
                                {
                                    "ProductID": "963",
                                    "ProductName": "Touring-3000 Yellow, 54",
                                    "InventoryQuantity": "162"
                                },
                                {
                                    "ProductID": "964",
                                    "ProductName": "Touring-3000 Yellow, 58",
                                    "InventoryQuantity": "197"
                                },
                                {
                                    "ProductID": "965",
                                    "ProductName": "Touring-3000 Yellow, 62",
                                    "InventoryQuantity": "163"
                                },
                                {
                                    "ProductID": "966",
                                    "ProductName": "Touring-1000 Blue, 46",
                                    "InventoryQuantity": "185"
                                },
                                {
                                    "ProductID": "967",
                                    "ProductName": "Touring-1000 Blue, 50",
                                    "InventoryQuantity": "148"
                                },
                                {
                                    "ProductID": "968",
                                    "ProductName": "Touring-1000 Blue, 54",
                                    "InventoryQuantity": "133"
                                },
                                {
                                    "ProductID": "969",
                                    "ProductName": "Touring-1000 Blue, 60",
                                    "InventoryQuantity": "129"
                                },
                                {
                                    "ProductID": "970",
                                    "ProductName": "Touring-2000 Blue, 46",
                                    "InventoryQuantity": "133"
                                },
                                {
                                    "ProductID": "971",
                                    "ProductName": "Touring-2000 Blue, 50",
                                    "InventoryQuantity": "227"
                                },
                                {
                                    "ProductID": "972",
                                    "ProductName": "Touring-2000 Blue, 54",
                                    "InventoryQuantity": "129"
                                },
                                {
                                    "ProductID": "973",
                                    "ProductName": "Road-350-W Yellow, 40",
                                    "InventoryQuantity": "185"
                                },
                                {
                                    "ProductID": "974",
                                    "ProductName": "Road-350-W Yellow, 42",
                                    "InventoryQuantity": "148"
                                },
                                {
                                    "ProductID": "975",
                                    "ProductName": "Road-350-W Yellow, 44",
                                    "InventoryQuantity": "133"
                                },
                                {
                                    "ProductID": "976",
                                    "ProductName": "Road-350-W Yellow, 48",
                                    "InventoryQuantity": "227"
                                },
                                {
                                    "ProductID": "977",
                                    "ProductName": "Road-750 Black, 58",
                                    "InventoryQuantity": "153"
                                },
                                {
                                    "ProductID": "978",
                                    "ProductName": "Touring-3000 Blue, 44",
                                    "InventoryQuantity": "163"
                                },
                                {
                                    "ProductID": "979",
                                    "ProductName": "Touring-3000 Blue, 50",
                                    "InventoryQuantity": "164"
                                },
                                {
                                    "ProductID": "980",
                                    "ProductName": "Mountain-400-W Silver, 38",
                                    "InventoryQuantity": "150"
                                },
                                {
                                    "ProductID": "981",
                                    "ProductName": "Mountain-400-W Silver, 40",
                                    "InventoryQuantity": "153"
                                },
                                {
                                    "ProductID": "982",
                                    "ProductName": "Mountain-400-W Silver, 42",
                                    "InventoryQuantity": "154"
                                },
                                {
                                    "ProductID": "983",
                                    "ProductName": "Mountain-400-W Silver, 46",
                                    "InventoryQuantity": "164"
                                },
                                {
                                    "ProductID": "984",
                                    "ProductName": "Mountain-500 Silver, 40",
                                    "InventoryQuantity": "154"
                                },
                                {
                                    "ProductID": "985",
                                    "ProductName": "Mountain-500 Silver, 42",
                                    "InventoryQuantity": "164"
                                },
                                {
                                    "ProductID": "986",
                                    "ProductName": "Mountain-500 Silver, 44",
                                    "InventoryQuantity": "153"
                                },
                                {
                                    "ProductID": "987",
                                    "ProductName": "Mountain-500 Silver, 48",
                                    "InventoryQuantity": "155"
                                },
                                {
                                    "ProductID": "988",
                                    "ProductName": "Mountain-500 Silver, 52",
                                    "InventoryQuantity": "194"
                                },
                                {
                                    "ProductID": "989",
                                    "ProductName": "Mountain-500 Black, 40",
                                    "InventoryQuantity": "150"
                                },
                                {
                                    "ProductID": "990",
                                    "ProductName": "Mountain-500 Black, 42",
                                    "InventoryQuantity": "153"
                                },
                                {
                                    "ProductID": "991",
                                    "ProductName": "Mountain-500 Black, 44",
                                    "InventoryQuantity": "154"
                                },
                                {
                                    "ProductID": "992",
                                    "ProductName": "Mountain-500 Black, 48",
                                    "InventoryQuantity": "164"
                                },
                                {
                                    "ProductID": "993",
                                    "ProductName": "Mountain-500 Black, 52",
                                    "InventoryQuantity": "153"
                                },
                                {
                                    "ProductID": "994",
                                    "ProductName": "LL Bottom Bracket",
                                    "InventoryQuantity": "814"
                                },
                                {
                                    "ProductID": "995",
                                    "ProductName": "ML Bottom Bracket",
                                    "InventoryQuantity": "816"
                                },
                                {
                                    "ProductID": "996",
                                    "ProductName": "HL Bottom Bracket",
                                    "InventoryQuantity": "970"
                                },
                                {
                                    "ProductID": "997",
                                    "ProductName": "Road-750 Black, 44",
                                    "InventoryQuantity": "153"
                                },
                                {
                                    "ProductID": "998",
                                    "ProductName": "Road-750 Black, 48",
                                    "InventoryQuantity": "155"
                                },
                                {
                                    "ProductID": "999",
                                    "ProductName": "Road-750 Black, 52",
                                    "InventoryQuantity": "194"
                                }
                            ]
                        },
                        "text/html": "<table><tr><th>ProductID</th><th>ProductName</th><th>InventoryQuantity</th></tr><tr><td>1</td><td>Adjustable Race</td><td>1085</td></tr><tr><td>2</td><td>Bearing Ball</td><td>1109</td></tr><tr><td>3</td><td>BB Ball Bearing</td><td>1352</td></tr><tr><td>4</td><td>Headset Ball Bearings</td><td>1322</td></tr><tr><td>316</td><td>Blade</td><td>1361</td></tr><tr><td>317</td><td>LL Crankarm</td><td>593</td></tr><tr><td>318</td><td>ML Crankarm</td><td>439</td></tr><tr><td>319</td><td>HL Crankarm</td><td>797</td></tr><tr><td>320</td><td>Chainring Bolts</td><td>1136</td></tr><tr><td>321</td><td>Chainring Nut</td><td>1750</td></tr><tr><td>322</td><td>Chainring</td><td>1684</td></tr><tr><td>323</td><td>Crown Race</td><td>1684</td></tr><tr><td>324</td><td>Chain Stays</td><td>1629</td></tr><tr><td>325</td><td>Decal 1</td><td>1750</td></tr><tr><td>326</td><td>Decal 2</td><td>1684</td></tr><tr><td>327</td><td>Down Tube</td><td>1364</td></tr><tr><td>328</td><td>Mountain End Caps</td><td>1629</td></tr><tr><td>329</td><td>Road End Caps</td><td>1601</td></tr><tr><td>330</td><td>Touring End Caps</td><td>1571</td></tr><tr><td>331</td><td>Fork End</td><td>1405</td></tr><tr><td>332</td><td>Freewheel</td><td>844</td></tr><tr><td>341</td><td>Flat Washer 1</td><td>1103</td></tr><tr><td>342</td><td>Flat Washer 6</td><td>1093</td></tr><tr><td>343</td><td>Flat Washer 2</td><td>1673</td></tr><tr><td>344</td><td>Flat Washer 9</td><td>1072</td></tr><tr><td>345</td><td>Flat Washer 4</td><td>936</td></tr><tr><td>346</td><td>Flat Washer 3</td><td>1702</td></tr><tr><td>347</td><td>Flat Washer 8</td><td>896</td></tr><tr><td>348</td><td>Flat Washer 5</td><td>911</td></tr><tr><td>349</td><td>Flat Washer 7</td><td>926</td></tr><tr><td>350</td><td>Fork Crown</td><td>1341</td></tr><tr><td>351</td><td>Front Derailleur Cage</td><td>605</td></tr><tr><td>352</td><td>Front Derailleur Linkage</td><td>773</td></tr><tr><td>355</td><td>Guide Pulley</td><td>822</td></tr><tr><td>356</td><td>LL Grip Tape</td><td>780</td></tr><tr><td>357</td><td>ML Grip Tape</td><td>736</td></tr><tr><td>358</td><td>HL Grip Tape</td><td>693</td></tr><tr><td>359</td><td>Thin-Jam Hex Nut 9</td><td>1103</td></tr><tr><td>360</td><td>Thin-Jam Hex Nut 10</td><td>1084</td></tr><tr><td>361</td><td>Thin-Jam Hex Nut 1</td><td>1631</td></tr><tr><td>362</td><td>Thin-Jam Hex Nut 2</td><td>1026</td></tr><tr><td>363</td><td>Thin-Jam Hex Nut 15</td><td>1761</td></tr><tr><td>364</td><td>Thin-Jam Hex Nut 16</td><td>1052</td></tr><tr><td>365</td><td>Thin-Jam Hex Nut 5</td><td>1721</td></tr><tr><td>366</td><td>Thin-Jam Hex Nut 6</td><td>1029</td></tr><tr><td>367</td><td>Thin-Jam Hex Nut 3</td><td>1901</td></tr><tr><td>368</td><td>Thin-Jam Hex Nut 4</td><td>1103</td></tr><tr><td>369</td><td>Thin-Jam Hex Nut 13</td><td>1084</td></tr><tr><td>370</td><td>Thin-Jam Hex Nut 14</td><td>883</td></tr><tr><td>371</td><td>Thin-Jam Hex Nut 7</td><td>1781</td></tr><tr><td>372</td><td>Thin-Jam Hex Nut 8</td><td>897</td></tr><tr><td>373</td><td>Thin-Jam Hex Nut 12</td><td>906</td></tr><tr><td>374</td><td>Thin-Jam Hex Nut 11</td><td>916</td></tr><tr><td>375</td><td>Hex Nut 5</td><td>925</td></tr><tr><td>376</td><td>Hex Nut 6</td><td>1781</td></tr><tr><td>377</td><td>Hex Nut 16</td><td>941</td></tr><tr><td>378</td><td>Hex Nut 17</td><td>926</td></tr><tr><td>379</td><td>Hex Nut 7</td><td>1911</td></tr><tr><td>380</td><td>Hex Nut 8</td><td>770</td></tr><tr><td>381</td><td>Hex Nut 9</td><td>789</td></tr><tr><td>382</td><td>Hex Nut 22</td><td>808</td></tr><tr><td>383</td><td>Hex Nut 23</td><td>1901</td></tr><tr><td>384</td><td>Hex Nut 12</td><td>820</td></tr><tr><td>385</td><td>Hex Nut 13</td><td>1778</td></tr><tr><td>386</td><td>Hex Nut 1</td><td>725</td></tr><tr><td>387</td><td>Hex Nut 10</td><td>1888</td></tr><tr><td>388</td><td>Hex Nut 11</td><td>798</td></tr><tr><td>389</td><td>Hex Nut 2</td><td>1808</td></tr><tr><td>390</td><td>Hex Nut 20</td><td>798</td></tr><tr><td>391</td><td>Hex Nut 21</td><td>809</td></tr><tr><td>392</td><td>Hex Nut 3</td><td>818</td></tr><tr><td>393</td><td>Hex Nut 14</td><td>1880</td></tr><tr><td>394</td><td>Hex Nut 15</td><td>911</td></tr><tr><td>395</td><td>Hex Nut 4</td><td>784</td></tr><tr><td>396</td><td>Hex Nut 18</td><td>1824</td></tr><tr><td>397</td><td>Hex Nut 19</td><td>1652</td></tr><tr><td>398</td><td>Handlebar Tube</td><td>1326</td></tr><tr><td>399</td><td>Head Tube</td><td>1308</td></tr><tr><td>400</td><td>LL Hub</td><td>790</td></tr><tr><td>401</td><td>HL Hub</td><td>797</td></tr><tr><td>402</td><td>Keyed Washer</td><td>990</td></tr><tr><td>403</td><td>External Lock Washer 3</td><td>981</td></tr><tr><td>404</td><td>External Lock Washer 4</td><td>972</td></tr><tr><td>405</td><td>External Lock Washer 9</td><td>963</td></tr><tr><td>406</td><td>External Lock Washer 5</td><td>952</td></tr><tr><td>407</td><td>External Lock Washer 7</td><td>1672</td></tr><tr><td>408</td><td>External Lock Washer 6</td><td>1057</td></tr><tr><td>409</td><td>External Lock Washer 1</td><td>1046</td></tr><tr><td>410</td><td>External Lock Washer 8</td><td>1037</td></tr><tr><td>411</td><td>External Lock Washer 2</td><td>1614</td></tr><tr><td>412</td><td>Internal Lock Washer 3</td><td>776</td></tr><tr><td>413</td><td>Internal Lock Washer 4</td><td>1703</td></tr><tr><td>414</td><td>Internal Lock Washer 9</td><td>1119</td></tr><tr><td>415</td><td>Internal Lock Washer 5</td><td>1104</td></tr><tr><td>416</td><td>Internal Lock Washer 7</td><td>1090</td></tr><tr><td>417</td><td>Internal Lock Washer 6</td><td>1715</td></tr><tr><td>418</td><td>Internal Lock Washer 10</td><td>919</td></tr><tr><td>419</td><td>Internal Lock Washer 1</td><td>914</td></tr><tr><td>420</td><td>Internal Lock Washer 8</td><td>909</td></tr><tr><td>421</td><td>Internal Lock Washer 2</td><td>905</td></tr><tr><td>422</td><td>Thin-Jam Lock Nut 9</td><td>1632</td></tr><tr><td>423</td><td>Thin-Jam Lock Nut 10</td><td>1628</td></tr><tr><td>424</td><td>Thin-Jam Lock Nut 1</td><td>1623</td></tr><tr><td>425</td><td>Thin-Jam Lock Nut 2</td><td>1618</td></tr><tr><td>426</td><td>Thin-Jam Lock Nut 15</td><td>1613</td></tr><tr><td>427</td><td>Thin-Jam Lock Nut 16</td><td>1608</td></tr><tr><td>428</td><td>Thin-Jam Lock Nut 5</td><td>1604</td></tr><tr><td>429</td><td>Thin-Jam Lock Nut 6</td><td>1599</td></tr><tr><td>430</td><td>Thin-Jam Lock Nut 3</td><td>1594</td></tr><tr><td>431</td><td>Thin-Jam Lock Nut 4</td><td>1604</td></tr><tr><td>432</td><td>Thin-Jam Lock Nut 13</td><td>1613</td></tr><tr><td>433</td><td>Thin-Jam Lock Nut 14</td><td>1623</td></tr><tr><td>434</td><td>Thin-Jam Lock Nut 7</td><td>1632</td></tr><tr><td>435</td><td>Thin-Jam Lock Nut 8</td><td>1642</td></tr><tr><td>436</td><td>Thin-Jam Lock Nut 12</td><td>1652</td></tr><tr><td>437</td><td>Thin-Jam Lock Nut 11</td><td>1661</td></tr><tr><td>438</td><td>Lock Nut 5</td><td>1671</td></tr><tr><td>439</td><td>Lock Nut 6</td><td>1680</td></tr><tr><td>440</td><td>Lock Nut 16</td><td>1690</td></tr><tr><td>441</td><td>Lock Nut 17</td><td>1676</td></tr><tr><td>442</td><td>Lock Nut 7</td><td>1661</td></tr><tr><td>443</td><td>Lock Nut 8</td><td>1647</td></tr><tr><td>444</td><td>Lock Nut 9</td><td>1632</td></tr><tr><td>445</td><td>Lock Nut 22</td><td>1618</td></tr><tr><td>446</td><td>Lock Nut 23</td><td>1604</td></tr><tr><td>447</td><td>Lock Nut 12</td><td>1589</td></tr><tr><td>448</td><td>Lock Nut 13</td><td>1575</td></tr><tr><td>449</td><td>Lock Nut 1</td><td>1560</td></tr><tr><td>450</td><td>Lock Nut 10</td><td>1546</td></tr><tr><td>451</td><td>Lock Nut 11</td><td>1556</td></tr><tr><td>452</td><td>Lock Nut 2</td><td>1565</td></tr><tr><td>453</td><td>Lock Nut 20</td><td>1575</td></tr><tr><td>454</td><td>Lock Nut 21</td><td>1584</td></tr><tr><td>455</td><td>Lock Nut 3</td><td>1594</td></tr><tr><td>456</td><td>Lock Nut 14</td><td>1604</td></tr><tr><td>457</td><td>Lock Nut 15</td><td>1613</td></tr><tr><td>458</td><td>Lock Nut 4</td><td>1623</td></tr><tr><td>459</td><td>Lock Nut 19</td><td>1632</td></tr><tr><td>460</td><td>Lock Nut 18</td><td>1642</td></tr><tr><td>461</td><td>Lock Ring</td><td>1652</td></tr><tr><td>462</td><td>Lower Head Race</td><td>701</td></tr><tr><td>463</td><td>Lock Washer 4</td><td>1685</td></tr><tr><td>464</td><td>Lock Washer 5</td><td>1690</td></tr><tr><td>465</td><td>Lock Washer 10</td><td>1695</td></tr><tr><td>466</td><td>Lock Washer 6</td><td>1700</td></tr><tr><td>467</td><td>Lock Washer 13</td><td>1704</td></tr><tr><td>468</td><td>Lock Washer 8</td><td>1709</td></tr><tr><td>469</td><td>Lock Washer 1</td><td>1714</td></tr><tr><td>470</td><td>Lock Washer 7</td><td>1719</td></tr><tr><td>471</td><td>Lock Washer 12</td><td>1724</td></tr><tr><td>472</td><td>Lock Washer 2</td><td>1728</td></tr><tr><td>473</td><td>Lock Washer 9</td><td>1733</td></tr><tr><td>474</td><td>Lock Washer 3</td><td>1738</td></tr><tr><td>475</td><td>Lock Washer 11</td><td>1743</td></tr><tr><td>476</td><td>Metal Angle</td><td>1083</td></tr><tr><td>477</td><td>Metal Bar 1</td><td>1079</td></tr><tr><td>478</td><td>Metal Bar 2</td><td>1687</td></tr><tr><td>479</td><td>Metal Plate 2</td><td>1029</td></tr><tr><td>480</td><td>Metal Plate 1</td><td>1661</td></tr><tr><td>481</td><td>Metal Plate 3</td><td>997</td></tr><tr><td>482</td><td>Metal Sheet 2</td><td>924</td></tr><tr><td>483</td><td>Metal Sheet 3</td><td>1681</td></tr><tr><td>484</td><td>Metal Sheet 7</td><td>997</td></tr><tr><td>485</td><td>Metal Sheet 4</td><td>924</td></tr><tr><td>486</td><td>Metal Sheet 5</td><td>1661</td></tr><tr><td>487</td><td>Metal Sheet 6</td><td>992</td></tr><tr><td>488</td><td>Metal Sheet 1</td><td>935</td></tr><tr><td>489</td><td>Metal Tread Plate</td><td>1837</td></tr><tr><td>490</td><td>LL Nipple</td><td>1780</td></tr><tr><td>491</td><td>HL Nipple</td><td>922</td></tr><tr><td>492</td><td>Paint - Black</td><td>47</td></tr><tr><td>493</td><td>Paint - Red</td><td>93</td></tr><tr><td>494</td><td>Paint - Silver</td><td>65</td></tr><tr><td>495</td><td>Paint - Blue</td><td>109</td></tr><tr><td>496</td><td>Paint - Yellow</td><td>99</td></tr><tr><td>497</td><td>Pinch Bolt</td><td>973</td></tr><tr><td>504</td><td>Cup-Shaped Race</td><td>1084</td></tr><tr><td>505</td><td>Cone-Shaped Race</td><td>970</td></tr><tr><td>506</td><td>Reflector</td><td>827</td></tr><tr><td>507</td><td>LL Mountain Rim</td><td>1215</td></tr><tr><td>508</td><td>ML Mountain Rim</td><td>1231</td></tr><tr><td>509</td><td>HL Mountain Rim</td><td>1247</td></tr><tr><td>510</td><td>LL Road Rim</td><td>722</td></tr><tr><td>511</td><td>ML Road Rim</td><td>740</td></tr><tr><td>512</td><td>HL Road Rim</td><td>615</td></tr><tr><td>513</td><td>Touring Rim</td><td>1364</td></tr><tr><td>514</td><td>LL Mountain Seat Assembly</td><td>797</td></tr><tr><td>515</td><td>ML Mountain Seat Assembly</td><td>802</td></tr><tr><td>516</td><td>HL Mountain Seat Assembly</td><td>807</td></tr><tr><td>517</td><td>LL Road Seat Assembly</td><td>812</td></tr><tr><td>518</td><td>ML Road Seat Assembly</td><td>816</td></tr><tr><td>519</td><td>HL Road Seat Assembly</td><td>821</td></tr><tr><td>520</td><td>LL Touring Seat Assembly</td><td>826</td></tr><tr><td>521</td><td>ML Touring Seat Assembly</td><td>831</td></tr><tr><td>522</td><td>HL Touring Seat Assembly</td><td>836</td></tr><tr><td>523</td><td>LL Spindle/Axle</td><td>512</td></tr><tr><td>524</td><td>HL Spindle/Axle</td><td>459</td></tr><tr><td>525</td><td>LL Shell</td><td>1263</td></tr><tr><td>526</td><td>HL Shell</td><td>1211</td></tr><tr><td>527</td><td>Spokes</td><td>1590</td></tr><tr><td>528</td><td>Seat Lug</td><td>1653</td></tr><tr><td>529</td><td>Stem</td><td>796</td></tr><tr><td>530</td><td>Seat Post</td><td>780</td></tr><tr><td>531</td><td>Steerer</td><td>801</td></tr><tr><td>532</td><td>Seat Stays</td><td>1257</td></tr><tr><td>533</td><td>Seat Tube</td><td>831</td></tr><tr><td>534</td><td>Top Tube</td><td>657</td></tr><tr><td>535</td><td>Tension Pulley</td><td>836</td></tr><tr><td>679</td><td>Rear Derailleur Cage</td><td>421</td></tr><tr><td>707</td><td>Sport-100 Helmet, Red</td><td>288</td></tr><tr><td>708</td><td>Sport-100 Helmet, Black</td><td>324</td></tr><tr><td>709</td><td>Mountain Bike Socks, M</td><td>180</td></tr><tr><td>710</td><td>Mountain Bike Socks, L</td><td>216</td></tr><tr><td>711</td><td>Sport-100 Helmet, Blue</td><td>216</td></tr><tr><td>712</td><td>AWC Logo Cap</td><td>288</td></tr><tr><td>713</td><td>Long-Sleeve Logo Jersey, S</td><td>144</td></tr><tr><td>714</td><td>Long-Sleeve Logo Jersey, M</td><td>180</td></tr><tr><td>715</td><td>Long-Sleeve Logo Jersey, L</td><td>216</td></tr><tr><td>716</td><td>Long-Sleeve Logo Jersey, XL</td><td>252</td></tr><tr><td>747</td><td>HL Mountain Frame - Black, 38</td><td>834</td></tr><tr><td>748</td><td>HL Mountain Frame - Silver, 38</td><td>738</td></tr><tr><td>749</td><td>Road-150 Red, 62</td><td>133</td></tr><tr><td>750</td><td>Road-150 Red, 44</td><td>223</td></tr><tr><td>751</td><td>Road-150 Red, 48</td><td>140</td></tr><tr><td>752</td><td>Road-150 Red, 52</td><td>128</td></tr><tr><td>753</td><td>Road-150 Red, 56</td><td>163</td></tr><tr><td>754</td><td>Road-450 Red, 58</td><td>148</td></tr><tr><td>755</td><td>Road-450 Red, 60</td><td>137</td></tr><tr><td>756</td><td>Road-450 Red, 44</td><td>129</td></tr><tr><td>757</td><td>Road-450 Red, 48</td><td>134</td></tr><tr><td>758</td><td>Road-450 Red, 52</td><td>165</td></tr><tr><td>759</td><td>Road-650 Red, 58</td><td>163</td></tr><tr><td>760</td><td>Road-650 Red, 60</td><td>185</td></tr><tr><td>761</td><td>Road-650 Red, 62</td><td>148</td></tr><tr><td>762</td><td>Road-650 Red, 44</td><td>137</td></tr><tr><td>763</td><td>Road-650 Red, 48</td><td>223</td></tr><tr><td>764</td><td>Road-650 Red, 52</td><td>140</td></tr><tr><td>765</td><td>Road-650 Black, 58</td><td>134</td></tr><tr><td>766</td><td>Road-650 Black, 60</td><td>165</td></tr><tr><td>767</td><td>Road-650 Black, 62</td><td>188</td></tr><tr><td>768</td><td>Road-650 Black, 44</td><td>148</td></tr><tr><td>769</td><td>Road-650 Black, 48</td><td>133</td></tr><tr><td>770</td><td>Road-650 Black, 52</td><td>227</td></tr><tr><td>771</td><td>Mountain-100 Silver, 38</td><td>149</td></tr><tr><td>772</td><td>Mountain-100 Silver, 42</td><td>153</td></tr><tr><td>773</td><td>Mountain-100 Silver, 44</td><td>158</td></tr><tr><td>774</td><td>Mountain-100 Silver, 48</td><td>164</td></tr><tr><td>775</td><td>Mountain-100 Black, 38</td><td>155</td></tr><tr><td>776</td><td>Mountain-100 Black, 42</td><td>194</td></tr><tr><td>777</td><td>Mountain-100 Black, 44</td><td>149</td></tr><tr><td>778</td><td>Mountain-100 Black, 48</td><td>153</td></tr><tr><td>779</td><td>Mountain-200 Silver, 38</td><td>137</td></tr><tr><td>780</td><td>Mountain-200 Silver, 42</td><td>223</td></tr><tr><td>781</td><td>Mountain-200 Silver, 46</td><td>140</td></tr><tr><td>782</td><td>Mountain-200 Black, 38</td><td>188</td></tr><tr><td>783</td><td>Mountain-200 Black, 42</td><td>148</td></tr><tr><td>784</td><td>Mountain-200 Black, 46</td><td>137</td></tr><tr><td>785</td><td>Mountain-300 Black, 38</td><td>137</td></tr><tr><td>786</td><td>Mountain-300 Black, 40</td><td>223</td></tr><tr><td>787</td><td>Mountain-300 Black, 44</td><td>140</td></tr><tr><td>788</td><td>Mountain-300 Black, 48</td><td>128</td></tr><tr><td>789</td><td>Road-250 Red, 44</td><td>163</td></tr><tr><td>790</td><td>Road-250 Red, 48</td><td>185</td></tr><tr><td>791</td><td>Road-250 Red, 52</td><td>148</td></tr><tr><td>792</td><td>Road-250 Red, 58</td><td>227</td></tr><tr><td>793</td><td>Road-250 Black, 44</td><td>134</td></tr><tr><td>794</td><td>Road-250 Black, 48</td><td>165</td></tr><tr><td>795</td><td>Road-250 Black, 52</td><td>188</td></tr><tr><td>796</td><td>Road-250 Black, 58</td><td>148</td></tr><tr><td>797</td><td>Road-550-W Yellow, 38</td><td>148</td></tr><tr><td>798</td><td>Road-550-W Yellow, 40</td><td>133</td></tr><tr><td>799</td><td>Road-550-W Yellow, 42</td><td>227</td></tr><tr><td>800</td><td>Road-550-W Yellow, 44</td><td>129</td></tr><tr><td>801</td><td>Road-550-W Yellow, 48</td><td>134</td></tr><tr><td>802</td><td>LL Fork</td><td>863</td></tr><tr><td>803</td><td>ML Fork</td><td>882</td></tr><tr><td>804</td><td>HL Fork</td><td>901</td></tr><tr><td>805</td><td>LL Headset</td><td>761</td></tr><tr><td>806</td><td>ML Headset</td><td>772</td></tr><tr><td>807</td><td>HL Headset</td><td>782</td></tr><tr><td>808</td><td>LL Mountain Handlebars</td><td>859</td></tr><tr><td>809</td><td>ML Mountain Handlebars</td><td>850</td></tr><tr><td>810</td><td>HL Mountain Handlebars</td><td>840</td></tr><tr><td>811</td><td>LL Road Handlebars</td><td>831</td></tr><tr><td>812</td><td>ML Road Handlebars</td><td>822</td></tr><tr><td>813</td><td>HL Road Handlebars</td><td>811</td></tr><tr><td>814</td><td>ML Mountain Frame - Black, 38</td><td>767</td></tr><tr><td>815</td><td>LL Mountain Front Wheel</td><td>722</td></tr><tr><td>816</td><td>ML Mountain Front Wheel</td><td>818</td></tr><tr><td>817</td><td>HL Mountain Front Wheel</td><td>831</td></tr><tr><td>818</td><td>LL Road Front Wheel</td><td>888</td></tr><tr><td>819</td><td>ML Road Front Wheel</td><td>793</td></tr><tr><td>820</td><td>HL Road Front Wheel</td><td>678</td></tr><tr><td>821</td><td>Touring Front Wheel</td><td>736</td></tr><tr><td>822</td><td>ML Road Frame-W - Yellow, 38</td><td>796</td></tr><tr><td>823</td><td>LL Mountain Rear Wheel</td><td>681</td></tr><tr><td>824</td><td>ML Mountain Rear Wheel</td><td>812</td></tr><tr><td>825</td><td>HL Mountain Rear Wheel</td><td>783</td></tr><tr><td>826</td><td>LL Road Rear Wheel</td><td>799</td></tr><tr><td>827</td><td>ML Road Rear Wheel</td><td>837</td></tr><tr><td>828</td><td>HL Road Rear Wheel</td><td>716</td></tr><tr><td>829</td><td>Touring Rear Wheel</td><td>741</td></tr><tr><td>841</td><td>Men&#39;s Sports Shorts, S</td><td>288</td></tr><tr><td>842</td><td>Touring-Panniers, Large</td><td>72</td></tr><tr><td>843</td><td>Cable Lock</td><td>252</td></tr><tr><td>844</td><td>Minipump</td><td>288</td></tr><tr><td>845</td><td>Mountain Pump</td><td>324</td></tr><tr><td>846</td><td>Taillights - Battery-Powered</td><td>144</td></tr><tr><td>847</td><td>Headlights - Dual-Beam</td><td>180</td></tr><tr><td>848</td><td>Headlights - Weatherproof</td><td>216</td></tr><tr><td>849</td><td>Men&#39;s Sports Shorts, M</td><td>108</td></tr><tr><td>850</td><td>Men&#39;s Sports Shorts, L</td><td>144</td></tr><tr><td>851</td><td>Men&#39;s Sports Shorts, XL</td><td>180</td></tr><tr><td>852</td><td>Women&#39;s Tights, S</td><td>324</td></tr><tr><td>854</td><td>Women&#39;s Tights, L</td><td>36</td></tr><tr><td>855</td><td>Men&#39;s Bib-Shorts, S</td><td>72</td></tr><tr><td>856</td><td>Men&#39;s Bib-Shorts, M</td><td>108</td></tr><tr><td>857</td><td>Men&#39;s Bib-Shorts, L</td><td>144</td></tr><tr><td>858</td><td>Half-Finger Gloves, S</td><td>324</td></tr><tr><td>860</td><td>Half-Finger Gloves, L</td><td>36</td></tr><tr><td>861</td><td>Full-Finger Gloves, S</td><td>72</td></tr><tr><td>862</td><td>Full-Finger Gloves, M</td><td>108</td></tr><tr><td>863</td><td>Full-Finger Gloves, L</td><td>144</td></tr><tr><td>864</td><td>Classic Vest, S</td><td>180</td></tr><tr><td>865</td><td>Classic Vest, M</td><td>216</td></tr><tr><td>866</td><td>Classic Vest, L</td><td>252</td></tr><tr><td>867</td><td>Women&#39;s Mountain Shorts, S</td><td>216</td></tr><tr><td>868</td><td>Women&#39;s Mountain Shorts, M</td><td>252</td></tr><tr><td>869</td><td>Women&#39;s Mountain Shorts, L</td><td>288</td></tr><tr><td>870</td><td>Water Bottle - 30 oz.</td><td>252</td></tr><tr><td>871</td><td>Mountain Bottle Cage</td><td>288</td></tr><tr><td>872</td><td>Road Bottle Cage</td><td>324</td></tr><tr><td>873</td><td>Patch Kit/8 Patches</td><td>180</td></tr><tr><td>874</td><td>Racing Socks, M</td><td>252</td></tr><tr><td>875</td><td>Racing Socks, L</td><td>288</td></tr><tr><td>877</td><td>Bike Wash - Dissolver</td><td>36</td></tr><tr><td>878</td><td>Fender Set - Mountain</td><td>108</td></tr><tr><td>879</td><td>All-Purpose Bike Stand</td><td>144</td></tr><tr><td>880</td><td>Hydration Pack - 70 oz.</td><td>108</td></tr><tr><td>881</td><td>Short-Sleeve Classic Jersey, S</td><td>324</td></tr><tr><td>883</td><td>Short-Sleeve Classic Jersey, L</td><td>36</td></tr><tr><td>884</td><td>Short-Sleeve Classic Jersey, XL</td><td>72</td></tr><tr><td>894</td><td>Rear Derailleur</td><td>847</td></tr><tr><td>907</td><td>Rear Brakes</td><td>723</td></tr><tr><td>908</td><td>LL Mountain Seat/Saddle</td><td>809</td></tr><tr><td>909</td><td>ML Mountain Seat/Saddle</td><td>422</td></tr><tr><td>910</td><td>HL Mountain Seat/Saddle</td><td>355</td></tr><tr><td>911</td><td>LL Road Seat/Saddle</td><td>906</td></tr><tr><td>912</td><td>ML Road Seat/Saddle</td><td>901</td></tr><tr><td>913</td><td>HL Road Seat/Saddle</td><td>467</td></tr><tr><td>914</td><td>LL Touring Seat/Saddle</td><td>801</td></tr><tr><td>915</td><td>ML Touring Seat/Saddle</td><td>402</td></tr><tr><td>916</td><td>HL Touring Seat/Saddle</td><td>989</td></tr><tr><td>921</td><td>Mountain Tire Tube</td><td>529</td></tr><tr><td>922</td><td>Road Tire Tube</td><td>505</td></tr><tr><td>923</td><td>Touring Tire Tube</td><td>502</td></tr><tr><td>928</td><td>LL Mountain Tire</td><td>609</td></tr><tr><td>929</td><td>ML Mountain Tire</td><td>669</td></tr><tr><td>930</td><td>HL Mountain Tire</td><td>499</td></tr><tr><td>931</td><td>LL Road Tire</td><td>488</td></tr><tr><td>932</td><td>ML Road Tire</td><td>574</td></tr><tr><td>933</td><td>HL Road Tire</td><td>527</td></tr><tr><td>934</td><td>Touring Tire</td><td>482</td></tr><tr><td>935</td><td>LL Mountain Pedal</td><td>512</td></tr><tr><td>936</td><td>ML Mountain Pedal</td><td>507</td></tr><tr><td>937</td><td>HL Mountain Pedal</td><td>503</td></tr><tr><td>938</td><td>LL Road Pedal</td><td>498</td></tr><tr><td>939</td><td>ML Road Pedal</td><td>494</td></tr><tr><td>940</td><td>HL Road Pedal</td><td>906</td></tr><tr><td>941</td><td>Touring Pedal</td><td>885</td></tr><tr><td>942</td><td>ML Mountain Frame-W - Silver, 38</td><td>826</td></tr><tr><td>943</td><td>LL Mountain Frame - Black, 40</td><td>719</td></tr><tr><td>944</td><td>LL Mountain Frame - Silver, 40</td><td>682</td></tr><tr><td>945</td><td>Front Derailleur</td><td>853</td></tr><tr><td>946</td><td>LL Touring Handlebars</td><td>802</td></tr><tr><td>947</td><td>HL Touring Handlebars</td><td>792</td></tr><tr><td>948</td><td>Front Brakes</td><td>767</td></tr><tr><td>949</td><td>LL Crankset</td><td>885</td></tr><tr><td>950</td><td>ML Crankset</td><td>905</td></tr><tr><td>951</td><td>HL Crankset</td><td>923</td></tr><tr><td>952</td><td>Chain</td><td>589</td></tr><tr><td>953</td><td>Touring-2000 Blue, 60</td><td>165</td></tr><tr><td>954</td><td>Touring-1000 Yellow, 46</td><td>148</td></tr><tr><td>955</td><td>Touring-1000 Yellow, 50</td><td>137</td></tr><tr><td>956</td><td>Touring-1000 Yellow, 54</td><td>75</td></tr><tr><td>957</td><td>Touring-1000 Yellow, 60</td><td>151</td></tr><tr><td>958</td><td>Touring-3000 Blue, 54</td><td>163</td></tr><tr><td>959</td><td>Touring-3000 Blue, 58</td><td>204</td></tr><tr><td>960</td><td>Touring-3000 Blue, 62</td><td>159</td></tr><tr><td>961</td><td>Touring-3000 Yellow, 44</td><td>168</td></tr><tr><td>962</td><td>Touring-3000 Yellow, 50</td><td>174</td></tr><tr><td>963</td><td>Touring-3000 Yellow, 54</td><td>162</td></tr><tr><td>964</td><td>Touring-3000 Yellow, 58</td><td>197</td></tr><tr><td>965</td><td>Touring-3000 Yellow, 62</td><td>163</td></tr><tr><td>966</td><td>Touring-1000 Blue, 46</td><td>185</td></tr><tr><td>967</td><td>Touring-1000 Blue, 50</td><td>148</td></tr><tr><td>968</td><td>Touring-1000 Blue, 54</td><td>133</td></tr><tr><td>969</td><td>Touring-1000 Blue, 60</td><td>129</td></tr><tr><td>970</td><td>Touring-2000 Blue, 46</td><td>133</td></tr><tr><td>971</td><td>Touring-2000 Blue, 50</td><td>227</td></tr><tr><td>972</td><td>Touring-2000 Blue, 54</td><td>129</td></tr><tr><td>973</td><td>Road-350-W Yellow, 40</td><td>185</td></tr><tr><td>974</td><td>Road-350-W Yellow, 42</td><td>148</td></tr><tr><td>975</td><td>Road-350-W Yellow, 44</td><td>133</td></tr><tr><td>976</td><td>Road-350-W Yellow, 48</td><td>227</td></tr><tr><td>977</td><td>Road-750 Black, 58</td><td>153</td></tr><tr><td>978</td><td>Touring-3000 Blue, 44</td><td>163</td></tr><tr><td>979</td><td>Touring-3000 Blue, 50</td><td>164</td></tr><tr><td>980</td><td>Mountain-400-W Silver, 38</td><td>150</td></tr><tr><td>981</td><td>Mountain-400-W Silver, 40</td><td>153</td></tr><tr><td>982</td><td>Mountain-400-W Silver, 42</td><td>154</td></tr><tr><td>983</td><td>Mountain-400-W Silver, 46</td><td>164</td></tr><tr><td>984</td><td>Mountain-500 Silver, 40</td><td>154</td></tr><tr><td>985</td><td>Mountain-500 Silver, 42</td><td>164</td></tr><tr><td>986</td><td>Mountain-500 Silver, 44</td><td>153</td></tr><tr><td>987</td><td>Mountain-500 Silver, 48</td><td>155</td></tr><tr><td>988</td><td>Mountain-500 Silver, 52</td><td>194</td></tr><tr><td>989</td><td>Mountain-500 Black, 40</td><td>150</td></tr><tr><td>990</td><td>Mountain-500 Black, 42</td><td>153</td></tr><tr><td>991</td><td>Mountain-500 Black, 44</td><td>154</td></tr><tr><td>992</td><td>Mountain-500 Black, 48</td><td>164</td></tr><tr><td>993</td><td>Mountain-500 Black, 52</td><td>153</td></tr><tr><td>994</td><td>LL Bottom Bracket</td><td>814</td></tr><tr><td>995</td><td>ML Bottom Bracket</td><td>816</td></tr><tr><td>996</td><td>HL Bottom Bracket</td><td>970</td></tr><tr><td>997</td><td>Road-750 Black, 44</td><td>153</td></tr><tr><td>998</td><td>Road-750 Black, 48</td><td>155</td></tr><tr><td>999</td><td>Road-750 Black, 52</td><td>194</td></tr></table>"
                    },
                    "metadata": {}
                }
            ],
            "execution_count": 41
        },
        {
            "cell_type": "markdown",
            "source": [
                "# Propositions and Functional Specification -4 \n",
                "\n",
                "## 1. Query Proposition\n",
                "\n",
                "The purpose of this query is to identify employees in the **AdventureWorks2017** database who are not also customers. It does this by selecting a list of employees and excluding any that also appear as customers. The query uses the `EXCEPT` clause to differentiate between the two sets.\n",
                "\n",
                "## 2. Functional Specification\n",
                "\n",
                "### Objective\n",
                "Retrieve a list of employees who are not registered as customers in the **AdventureWorks2017** database.\n",
                "\n",
                "### Inputs\n",
                "- **Database Tables**:\n",
                "  - `HumanResources.Employee`: Contains employee records with `BusinessEntityID`.\n",
                "  - `Person.Person`: Contains personal information such as `FirstName`, `LastName`, and `BusinessEntityID` for both employees and customers.\n",
                "  - `Sales.Customer`: Contains customer records with `PersonID` (which corresponds to `BusinessEntityID` in the `Person.Person` table).\n",
                "\n",
                "### Outputs\n",
                "- **Columns**:\n",
                "  - `BusinessEntityID`: A unique identifier for each person (used for both employees and customers).\n",
                "  - `FullName`: A concatenation of `FirstName` and `LastName` representing the full name of the employee.\n",
                "\n",
                "### Query Logic\n",
                "\n",
                "1. **Main Query**:\n",
                "   - Selects `BusinessEntityID` and `FullName` (concatenated `FirstName` and `LastName`) for all employees by joining `HumanResources.Employee` with `Person.Person` on `BusinessEntityID`.\n",
                "\n",
                "2. **EXCEPT Clause**:\n",
                "   - The `EXCEPT` clause is used to exclude any records from the first set (employees) that match the second set (customers).\n",
                "   - The second set is derived by selecting `BusinessEntityID` and `FullName` for all customers from `Sales.Customer` joined with `Person.Person` using `PersonID`.\n",
                "\n",
                "3. **Result**:\n",
                "   - The result is a list of employees (`BusinessEntityID` and `FullName`) who are not listed as customers in the `Sales.Customer` table.\n",
                "\n",
                "### Example Usage\n",
                "This query can be used by HR departments or management to identify which employees are not currently customers, potentially for internal marketing or employee engagement campaigns.\n",
                "\n",
                "### Edge Cases\n",
                "- If there are no overlapping records (i.e., no employee is also a customer), the result set will include all employees.\n",
                "- If an employee has no associated records in the `Person.Person` table, they will not appear in the output, even if they are not a customer.\n",
                "- Any null or incomplete `FirstName` or `LastName` fields will affect the display of the `FullName` column but will not impact the logic of the query.\n",
                "\n",
                ""
            ],
            "metadata": {
                "azdata_cell_guid": "488d3a41-cb63-4880-a1f1-a6f46d211824"
            },
            "attachments": {}
        },
        {
            "cell_type": "code",
            "source": [
                "USE AdventureWorks2017;\n",
                "\n",
                "SELECT  P.BusinessEntityID, P.FirstName + ' ' + P.LastName AS FullName\n",
                "FROM HumanResources.Employee E\n",
                "JOIN Person.Person P ON E.BusinessEntityID = P.BusinessEntityID\n",
                "\n",
                "EXCEPT\n",
                "\n",
                "SELECT  P.BusinessEntityID, P.FirstName + ' ' + P.LastName AS FullName\n",
                "FROM Sales.Customer C\n",
                "JOIN Person.Person P ON C.PersonID = P.BusinessEntityID;\n",
                ""
            ],
            "metadata": {
                "azdata_cell_guid": "5fd10284-ac26-4b49-8066-7c30a47adda4",
                "language": "sql"
            },
            "outputs": [
                {
                    "output_type": "display_data",
                    "data": {
                        "text/html": "(290 rows affected)"
                    },
                    "metadata": {}
                },
                {
                    "output_type": "display_data",
                    "data": {
                        "text/html": "Total execution time: 00:00:00.055"
                    },
                    "metadata": {}
                },
                {
                    "output_type": "execute_result",
                    "execution_count": 45,
                    "data": {
                        "application/vnd.dataresource+json": {
                            "schema": {
                                "fields": [
                                    {
                                        "name": "BusinessEntityID"
                                    },
                                    {
                                        "name": "FullName"
                                    }
                                ]
                            },
                            "data": [
                                {
                                    "BusinessEntityID": "259",
                                    "FullName": "Ben Miller"
                                },
                                {
                                    "BusinessEntityID": "3",
                                    "FullName": "Roberto Tamburello"
                                },
                                {
                                    "BusinessEntityID": "237",
                                    "FullName": "Hao Chen"
                                },
                                {
                                    "BusinessEntityID": "167",
                                    "FullName": "David Johnson"
                                },
                                {
                                    "BusinessEntityID": "254",
                                    "FullName": "Fukiko Ogisu"
                                },
                                {
                                    "BusinessEntityID": "31",
                                    "FullName": "Margie Shoop"
                                },
                                {
                                    "BusinessEntityID": "197",
                                    "FullName": "Rajesh Patel"
                                },
                                {
                                    "BusinessEntityID": "34",
                                    "FullName": "Suchitra Mohan"
                                },
                                {
                                    "BusinessEntityID": "129",
                                    "FullName": "Gary Yukish"
                                },
                                {
                                    "BusinessEntityID": "195",
                                    "FullName": "Kevin Liu"
                                },
                                {
                                    "BusinessEntityID": "250",
                                    "FullName": "Sheela Word"
                                },
                                {
                                    "BusinessEntityID": "276",
                                    "FullName": "Linda Mitchell"
                                },
                                {
                                    "BusinessEntityID": "262",
                                    "FullName": "David Barber"
                                },
                                {
                                    "BusinessEntityID": "215",
                                    "FullName": "Mark Harrington"
                                },
                                {
                                    "BusinessEntityID": "48",
                                    "FullName": "Ruth Ellerbrock"
                                },
                                {
                                    "BusinessEntityID": "61",
                                    "FullName": "Diane Tibbott"
                                },
                                {
                                    "BusinessEntityID": "226",
                                    "FullName": "Brian LaMee"
                                },
                                {
                                    "BusinessEntityID": "253",
                                    "FullName": "Linda Meisner"
                                },
                                {
                                    "BusinessEntityID": "118",
                                    "FullName": "Don Hall"
                                },
                                {
                                    "BusinessEntityID": "278",
                                    "FullName": "Garrett Vargas"
                                },
                                {
                                    "BusinessEntityID": "41",
                                    "FullName": "Bryan Baker"
                                },
                                {
                                    "BusinessEntityID": "174",
                                    "FullName": "Benjamin Martin"
                                },
                                {
                                    "BusinessEntityID": "13",
                                    "FullName": "Janice Galvin"
                                },
                                {
                                    "BusinessEntityID": "153",
                                    "FullName": "Hanying Feng"
                                },
                                {
                                    "BusinessEntityID": "241",
                                    "FullName": "David Liu"
                                },
                                {
                                    "BusinessEntityID": "166",
                                    "FullName": "Jack Richins"
                                },
                                {
                                    "BusinessEntityID": "260",
                                    "FullName": "Annette Hill"
                                },
                                {
                                    "BusinessEntityID": "156",
                                    "FullName": "Lane Sacksteder"
                                },
                                {
                                    "BusinessEntityID": "9",
                                    "FullName": "Gigi Matthew"
                                },
                                {
                                    "BusinessEntityID": "38",
                                    "FullName": "Kim Abercrombie"
                                },
                                {
                                    "BusinessEntityID": "108",
                                    "FullName": "Jinghao Liu"
                                },
                                {
                                    "BusinessEntityID": "236",
                                    "FullName": "Grant Culbertson"
                                },
                                {
                                    "BusinessEntityID": "239",
                                    "FullName": "Mindy Martin"
                                },
                                {
                                    "BusinessEntityID": "55",
                                    "FullName": "Taylor Maxwell"
                                },
                                {
                                    "BusinessEntityID": "221",
                                    "FullName": "Chris Norred"
                                },
                                {
                                    "BusinessEntityID": "36",
                                    "FullName": "Jose Lugo"
                                },
                                {
                                    "BusinessEntityID": "170",
                                    "FullName": "George Li"
                                },
                                {
                                    "BusinessEntityID": "273",
                                    "FullName": "Brian Welcker"
                                },
                                {
                                    "BusinessEntityID": "135",
                                    "FullName": "Ivo Salmre"
                                },
                                {
                                    "BusinessEntityID": "141",
                                    "FullName": "Min Su"
                                },
                                {
                                    "BusinessEntityID": "96",
                                    "FullName": "Elizabeth Keyser"
                                },
                                {
                                    "BusinessEntityID": "157",
                                    "FullName": "Linda Randall"
                                },
                                {
                                    "BusinessEntityID": "132",
                                    "FullName": "Nicole Holliday"
                                },
                                {
                                    "BusinessEntityID": "101",
                                    "FullName": "Houman Pournasseh"
                                },
                                {
                                    "BusinessEntityID": "148",
                                    "FullName": "Jason Watters"
                                },
                                {
                                    "BusinessEntityID": "178",
                                    "FullName": "John Frum"
                                },
                                {
                                    "BusinessEntityID": "274",
                                    "FullName": "Stephen Jiang"
                                },
                                {
                                    "BusinessEntityID": "268",
                                    "FullName": "Ramesh Meyyappan"
                                },
                                {
                                    "BusinessEntityID": "257",
                                    "FullName": "Eric Kurjan"
                                },
                                {
                                    "BusinessEntityID": "279",
                                    "FullName": "Tsvi Reiter"
                                },
                                {
                                    "BusinessEntityID": "45",
                                    "FullName": "Thomas Michaels"
                                },
                                {
                                    "BusinessEntityID": "223",
                                    "FullName": "Sairaj Uddin"
                                },
                                {
                                    "BusinessEntityID": "57",
                                    "FullName": "Frank Miller"
                                },
                                {
                                    "BusinessEntityID": "161",
                                    "FullName": "Kirk Koenigsbauer"
                                },
                                {
                                    "BusinessEntityID": "120",
                                    "FullName": "Kitti Lertpiriyasuwat"
                                },
                                {
                                    "BusinessEntityID": "169",
                                    "FullName": "Susan Metters"
                                },
                                {
                                    "BusinessEntityID": "15",
                                    "FullName": "Sharon Salavaria"
                                },
                                {
                                    "BusinessEntityID": "154",
                                    "FullName": "Raymond Sam"
                                },
                                {
                                    "BusinessEntityID": "177",
                                    "FullName": "Russell King"
                                },
                                {
                                    "BusinessEntityID": "288",
                                    "FullName": "Rachel Valdez"
                                },
                                {
                                    "BusinessEntityID": "12",
                                    "FullName": "Thierry D'Hers"
                                },
                                {
                                    "BusinessEntityID": "53",
                                    "FullName": "Diane Glimp"
                                },
                                {
                                    "BusinessEntityID": "124",
                                    "FullName": "Kim Ralls"
                                },
                                {
                                    "BusinessEntityID": "233",
                                    "FullName": "Magnus Hedlund"
                                },
                                {
                                    "BusinessEntityID": "116",
                                    "FullName": "Michael Patten"
                                },
                                {
                                    "BusinessEntityID": "109",
                                    "FullName": "Alice Ciccu"
                                },
                                {
                                    "BusinessEntityID": "28",
                                    "FullName": "Guy Gilbert"
                                },
                                {
                                    "BusinessEntityID": "79",
                                    "FullName": "Eric Brown"
                                },
                                {
                                    "BusinessEntityID": "182",
                                    "FullName": "Nitin Mirchandani"
                                },
                                {
                                    "BusinessEntityID": "269",
                                    "FullName": "Dan Bacon"
                                },
                                {
                                    "BusinessEntityID": "74",
                                    "FullName": "Bjorn Rettig"
                                },
                                {
                                    "BusinessEntityID": "220",
                                    "FullName": "Karen Berge"
                                },
                                {
                                    "BusinessEntityID": "142",
                                    "FullName": "Olinda Turner"
                                },
                                {
                                    "BusinessEntityID": "214",
                                    "FullName": "Andreas Berglund"
                                },
                                {
                                    "BusinessEntityID": "59",
                                    "FullName": "Bob Hohman"
                                },
                                {
                                    "BusinessEntityID": "209",
                                    "FullName": "Kathie Flood"
                                },
                                {
                                    "BusinessEntityID": "192",
                                    "FullName": "Brenda Diaz"
                                },
                                {
                                    "BusinessEntityID": "63",
                                    "FullName": "Maciej Dusza"
                                },
                                {
                                    "BusinessEntityID": "266",
                                    "FullName": "Peter Connelly"
                                },
                                {
                                    "BusinessEntityID": "107",
                                    "FullName": "Christopher Hill"
                                },
                                {
                                    "BusinessEntityID": "67",
                                    "FullName": "Jay Adams"
                                },
                                {
                                    "BusinessEntityID": "247",
                                    "FullName": "Janet Sheperdigian"
                                },
                                {
                                    "BusinessEntityID": "51",
                                    "FullName": "Jeffrey Ford"
                                },
                                {
                                    "BusinessEntityID": "275",
                                    "FullName": "Michael Blythe"
                                },
                                {
                                    "BusinessEntityID": "19",
                                    "FullName": "Mary Dempsey"
                                },
                                {
                                    "BusinessEntityID": "18",
                                    "FullName": "John Wood"
                                },
                                {
                                    "BusinessEntityID": "270",
                                    "FullName": "François Ajenstat"
                                },
                                {
                                    "BusinessEntityID": "20",
                                    "FullName": "Wanida Benshoof"
                                },
                                {
                                    "BusinessEntityID": "248",
                                    "FullName": "Mike Seamans"
                                },
                                {
                                    "BusinessEntityID": "205",
                                    "FullName": "Lori Kane"
                                },
                                {
                                    "BusinessEntityID": "39",
                                    "FullName": "Ed Dudenhoefer"
                                },
                                {
                                    "BusinessEntityID": "231",
                                    "FullName": "Jo Berry"
                                },
                                {
                                    "BusinessEntityID": "168",
                                    "FullName": "Garrett Young"
                                },
                                {
                                    "BusinessEntityID": "104",
                                    "FullName": "Mary Baker"
                                },
                                {
                                    "BusinessEntityID": "4",
                                    "FullName": "Rob Walters"
                                },
                                {
                                    "BusinessEntityID": "17",
                                    "FullName": "Kevin Brown"
                                },
                                {
                                    "BusinessEntityID": "289",
                                    "FullName": "Jae Pak"
                                },
                                {
                                    "BusinessEntityID": "176",
                                    "FullName": "David Lawrence"
                                },
                                {
                                    "BusinessEntityID": "235",
                                    "FullName": "Paula Barreto de Mattos"
                                },
                                {
                                    "BusinessEntityID": "290",
                                    "FullName": "Ranjit Varkey Chudukatil"
                                },
                                {
                                    "BusinessEntityID": "165",
                                    "FullName": "Chris Preston"
                                },
                                {
                                    "BusinessEntityID": "22",
                                    "FullName": "Sariya Harnpadoungsataya"
                                },
                                {
                                    "BusinessEntityID": "180",
                                    "FullName": "Katie McAskill-White"
                                },
                                {
                                    "BusinessEntityID": "267",
                                    "FullName": "Karen Berg"
                                },
                                {
                                    "BusinessEntityID": "106",
                                    "FullName": "John Kane"
                                },
                                {
                                    "BusinessEntityID": "98",
                                    "FullName": "Sameer Tejani"
                                },
                                {
                                    "BusinessEntityID": "128",
                                    "FullName": "Paul Komosinski"
                                },
                                {
                                    "BusinessEntityID": "68",
                                    "FullName": "Charles Fitzgerald"
                                },
                                {
                                    "BusinessEntityID": "160",
                                    "FullName": "Jeff Hay"
                                },
                                {
                                    "BusinessEntityID": "110",
                                    "FullName": "Jun Cao"
                                },
                                {
                                    "BusinessEntityID": "16",
                                    "FullName": "David Bradley"
                                },
                                {
                                    "BusinessEntityID": "159",
                                    "FullName": "Terrence Earls"
                                },
                                {
                                    "BusinessEntityID": "47",
                                    "FullName": "Andrew Hill"
                                },
                                {
                                    "BusinessEntityID": "285",
                                    "FullName": "Syed Abbas"
                                },
                                {
                                    "BusinessEntityID": "82",
                                    "FullName": "Jack Creasey"
                                },
                                {
                                    "BusinessEntityID": "21",
                                    "FullName": "Terry Eminhizer"
                                },
                                {
                                    "BusinessEntityID": "127",
                                    "FullName": "David Hamilton"
                                },
                                {
                                    "BusinessEntityID": "105",
                                    "FullName": "Kevin Homer"
                                },
                                {
                                    "BusinessEntityID": "265",
                                    "FullName": "Ashvini Sharma"
                                },
                                {
                                    "BusinessEntityID": "147",
                                    "FullName": "Sandra Reátegui Alayo"
                                },
                                {
                                    "BusinessEntityID": "282",
                                    "FullName": "José Saraiva"
                                },
                                {
                                    "BusinessEntityID": "286",
                                    "FullName": "Lynn Tsoflias"
                                },
                                {
                                    "BusinessEntityID": "211",
                                    "FullName": "Hazem Abolrous"
                                },
                                {
                                    "BusinessEntityID": "188",
                                    "FullName": "Douglas Hite"
                                },
                                {
                                    "BusinessEntityID": "5",
                                    "FullName": "Gail Erickson"
                                },
                                {
                                    "BusinessEntityID": "217",
                                    "FullName": "Zainal Arifin"
                                },
                                {
                                    "BusinessEntityID": "56",
                                    "FullName": "Denise Smith"
                                },
                                {
                                    "BusinessEntityID": "164",
                                    "FullName": "Andrew Cencini"
                                },
                                {
                                    "BusinessEntityID": "66",
                                    "FullName": "Karan Khanna"
                                },
                                {
                                    "BusinessEntityID": "24",
                                    "FullName": "Jill Williams"
                                },
                                {
                                    "BusinessEntityID": "238",
                                    "FullName": "Vidur Luthra"
                                },
                                {
                                    "BusinessEntityID": "43",
                                    "FullName": "Nancy Anderson"
                                },
                                {
                                    "BusinessEntityID": "72",
                                    "FullName": "Steven Selikoff"
                                },
                                {
                                    "BusinessEntityID": "91",
                                    "FullName": "Kimberly Zimmerman"
                                },
                                {
                                    "BusinessEntityID": "240",
                                    "FullName": "Willis Johnson"
                                },
                                {
                                    "BusinessEntityID": "58",
                                    "FullName": "Kendall Keil"
                                },
                                {
                                    "BusinessEntityID": "252",
                                    "FullName": "Arvind Rao"
                                },
                                {
                                    "BusinessEntityID": "208",
                                    "FullName": "Scott Gode"
                                },
                                {
                                    "BusinessEntityID": "100",
                                    "FullName": "Lolan Song"
                                },
                                {
                                    "BusinessEntityID": "52",
                                    "FullName": "Doris Hartwig"
                                },
                                {
                                    "BusinessEntityID": "60",
                                    "FullName": "Pete Male"
                                },
                                {
                                    "BusinessEntityID": "90",
                                    "FullName": "Danielle Tiedt"
                                },
                                {
                                    "BusinessEntityID": "25",
                                    "FullName": "James Hamilton"
                                },
                                {
                                    "BusinessEntityID": "243",
                                    "FullName": "Candy Spoon"
                                },
                                {
                                    "BusinessEntityID": "185",
                                    "FullName": "Stefen Hesse"
                                },
                                {
                                    "BusinessEntityID": "218",
                                    "FullName": "Tengiz Kharatishvili"
                                },
                                {
                                    "BusinessEntityID": "272",
                                    "FullName": "Janaina Bueno"
                                },
                                {
                                    "BusinessEntityID": "283",
                                    "FullName": "David Campbell"
                                },
                                {
                                    "BusinessEntityID": "149",
                                    "FullName": "Andy Ruth"
                                },
                                {
                                    "BusinessEntityID": "65",
                                    "FullName": "Randy Reeves"
                                },
                                {
                                    "BusinessEntityID": "179",
                                    "FullName": "Jan Miksovsky"
                                },
                                {
                                    "BusinessEntityID": "115",
                                    "FullName": "Angela Barbariol"
                                },
                                {
                                    "BusinessEntityID": "75",
                                    "FullName": "Michiko Osada"
                                },
                                {
                                    "BusinessEntityID": "136",
                                    "FullName": "Sylvester Valdez"
                                },
                                {
                                    "BusinessEntityID": "230",
                                    "FullName": "Stuart Macrae"
                                },
                                {
                                    "BusinessEntityID": "151",
                                    "FullName": "Rostislav Shabalin"
                                },
                                {
                                    "BusinessEntityID": "271",
                                    "FullName": "Dan Wilson"
                                },
                                {
                                    "BusinessEntityID": "224",
                                    "FullName": "William Vong"
                                },
                                {
                                    "BusinessEntityID": "30",
                                    "FullName": "Britta Simon"
                                },
                                {
                                    "BusinessEntityID": "103",
                                    "FullName": "Ebru Ersan"
                                },
                                {
                                    "BusinessEntityID": "234",
                                    "FullName": "Laura Norman"
                                },
                                {
                                    "BusinessEntityID": "2",
                                    "FullName": "Terri Duffy"
                                },
                                {
                                    "BusinessEntityID": "287",
                                    "FullName": "Amy Alberts"
                                },
                                {
                                    "BusinessEntityID": "181",
                                    "FullName": "Michael Hines"
                                },
                                {
                                    "BusinessEntityID": "50",
                                    "FullName": "Sidney Higa"
                                },
                                {
                                    "BusinessEntityID": "139",
                                    "FullName": "Hung-Fu Ting"
                                },
                                {
                                    "BusinessEntityID": "213",
                                    "FullName": "Sootha Charncherngkha"
                                },
                                {
                                    "BusinessEntityID": "40",
                                    "FullName": "JoLynn Dobney"
                                },
                                {
                                    "BusinessEntityID": "187",
                                    "FullName": "Yvonne McKay"
                                },
                                {
                                    "BusinessEntityID": "145",
                                    "FullName": "Cynthia Randall"
                                },
                                {
                                    "BusinessEntityID": "119",
                                    "FullName": "Michael Entin"
                                },
                                {
                                    "BusinessEntityID": "29",
                                    "FullName": "Mark McArthur"
                                },
                                {
                                    "BusinessEntityID": "137",
                                    "FullName": "Anibal Sousa"
                                },
                                {
                                    "BusinessEntityID": "27",
                                    "FullName": "Jo Brown"
                                },
                                {
                                    "BusinessEntityID": "121",
                                    "FullName": "Pilar Ackerman"
                                },
                                {
                                    "BusinessEntityID": "158",
                                    "FullName": "Shelley Dyck"
                                },
                                {
                                    "BusinessEntityID": "112",
                                    "FullName": "John Evans"
                                },
                                {
                                    "BusinessEntityID": "73",
                                    "FullName": "Carole Poland"
                                },
                                {
                                    "BusinessEntityID": "93",
                                    "FullName": "Kok-Ho Loh"
                                },
                                {
                                    "BusinessEntityID": "204",
                                    "FullName": "Gabe Mares"
                                },
                                {
                                    "BusinessEntityID": "117",
                                    "FullName": "Chad Niswonger"
                                },
                                {
                                    "BusinessEntityID": "172",
                                    "FullName": "Marc Ingle"
                                },
                                {
                                    "BusinessEntityID": "256",
                                    "FullName": "Frank Pellow"
                                },
                                {
                                    "BusinessEntityID": "131",
                                    "FullName": "Baris Cetinok"
                                },
                                {
                                    "BusinessEntityID": "26",
                                    "FullName": "Peter Krebs"
                                },
                                {
                                    "BusinessEntityID": "222",
                                    "FullName": "A. Scott Wright"
                                },
                                {
                                    "BusinessEntityID": "32",
                                    "FullName": "Rebecca Laszlo"
                                },
                                {
                                    "BusinessEntityID": "86",
                                    "FullName": "Ryan Cornelsen"
                                },
                                {
                                    "BusinessEntityID": "263",
                                    "FullName": "Jean Trenary"
                                },
                                {
                                    "BusinessEntityID": "54",
                                    "FullName": "Bonnie Kearney"
                                },
                                {
                                    "BusinessEntityID": "69",
                                    "FullName": "Steve Masters"
                                },
                                {
                                    "BusinessEntityID": "84",
                                    "FullName": "Frank Martinez"
                                },
                                {
                                    "BusinessEntityID": "85",
                                    "FullName": "Brian Goldstein"
                                },
                                {
                                    "BusinessEntityID": "175",
                                    "FullName": "Reed Koch"
                                },
                                {
                                    "BusinessEntityID": "114",
                                    "FullName": "Mindaugas Krapauskas"
                                },
                                {
                                    "BusinessEntityID": "138",
                                    "FullName": "Samantha Smith"
                                },
                                {
                                    "BusinessEntityID": "212",
                                    "FullName": "Peng Wu"
                                },
                                {
                                    "BusinessEntityID": "76",
                                    "FullName": "Carol Philips"
                                },
                                {
                                    "BusinessEntityID": "95",
                                    "FullName": "Jim Scardelis"
                                },
                                {
                                    "BusinessEntityID": "134",
                                    "FullName": "Eric Gubbels"
                                },
                                {
                                    "BusinessEntityID": "14",
                                    "FullName": "Michael Sullivan"
                                },
                                {
                                    "BusinessEntityID": "126",
                                    "FullName": "Jimmy Bischoff"
                                },
                                {
                                    "BusinessEntityID": "94",
                                    "FullName": "Russell Hunter"
                                },
                                {
                                    "BusinessEntityID": "232",
                                    "FullName": "Pat Coleman"
                                },
                                {
                                    "BusinessEntityID": "81",
                                    "FullName": "Mihail Frintu"
                                },
                                {
                                    "BusinessEntityID": "6",
                                    "FullName": "Jossef Goldberg"
                                },
                                {
                                    "BusinessEntityID": "146",
                                    "FullName": "Jian Shuo Wang"
                                },
                                {
                                    "BusinessEntityID": "264",
                                    "FullName": "Stephanie Conroy"
                                },
                                {
                                    "BusinessEntityID": "99",
                                    "FullName": "Nuan Yu"
                                },
                                {
                                    "BusinessEntityID": "200",
                                    "FullName": "Frank Lee"
                                },
                                {
                                    "BusinessEntityID": "11",
                                    "FullName": "Ovidiu Cracium"
                                },
                                {
                                    "BusinessEntityID": "203",
                                    "FullName": "Ken Myer"
                                },
                                {
                                    "BusinessEntityID": "150",
                                    "FullName": "Michael Vanderhyde"
                                },
                                {
                                    "BusinessEntityID": "227",
                                    "FullName": "Gary Altman"
                                },
                                {
                                    "BusinessEntityID": "184",
                                    "FullName": "John Chen"
                                },
                                {
                                    "BusinessEntityID": "49",
                                    "FullName": "Barry Johnson"
                                },
                                {
                                    "BusinessEntityID": "199",
                                    "FullName": "Paula Nartker"
                                },
                                {
                                    "BusinessEntityID": "88",
                                    "FullName": "Betsy Stadick"
                                },
                                {
                                    "BusinessEntityID": "229",
                                    "FullName": "Lori Penor"
                                },
                                {
                                    "BusinessEntityID": "216",
                                    "FullName": "Sean Alexander"
                                },
                                {
                                    "BusinessEntityID": "194",
                                    "FullName": "Fred Northup"
                                },
                                {
                                    "BusinessEntityID": "196",
                                    "FullName": "Shammi Mohamed"
                                },
                                {
                                    "BusinessEntityID": "92",
                                    "FullName": "Tom Vande Velde"
                                },
                                {
                                    "BusinessEntityID": "202",
                                    "FullName": "Tawana Nusbaum"
                                },
                                {
                                    "BusinessEntityID": "210",
                                    "FullName": "Belinda Newman"
                                },
                                {
                                    "BusinessEntityID": "133",
                                    "FullName": "Michael Rothkugel"
                                },
                                {
                                    "BusinessEntityID": "89",
                                    "FullName": "Patrick Wedge"
                                },
                                {
                                    "BusinessEntityID": "140",
                                    "FullName": "Prasanna Samarawickrama"
                                },
                                {
                                    "BusinessEntityID": "255",
                                    "FullName": "Gordon Hee"
                                },
                                {
                                    "BusinessEntityID": "143",
                                    "FullName": "Krishna Sunkammurali"
                                },
                                {
                                    "BusinessEntityID": "44",
                                    "FullName": "Simon Rapier"
                                },
                                {
                                    "BusinessEntityID": "70",
                                    "FullName": "David Ortiz"
                                },
                                {
                                    "BusinessEntityID": "219",
                                    "FullName": "Sean Chai"
                                },
                                {
                                    "BusinessEntityID": "122",
                                    "FullName": "Susan Eaton"
                                },
                                {
                                    "BusinessEntityID": "163",
                                    "FullName": "Alex Nayberg"
                                },
                                {
                                    "BusinessEntityID": "111",
                                    "FullName": "Suroor Fatima"
                                },
                                {
                                    "BusinessEntityID": "280",
                                    "FullName": "Pamela Ansman-Wolfe"
                                },
                                {
                                    "BusinessEntityID": "123",
                                    "FullName": "Vamsi Kuppa"
                                },
                                {
                                    "BusinessEntityID": "261",
                                    "FullName": "Reinout Hillmann"
                                },
                                {
                                    "BusinessEntityID": "206",
                                    "FullName": "Stuart Munson"
                                },
                                {
                                    "BusinessEntityID": "173",
                                    "FullName": "Eugene Zabokritski"
                                },
                                {
                                    "BusinessEntityID": "130",
                                    "FullName": "Rob Caron"
                                },
                                {
                                    "BusinessEntityID": "228",
                                    "FullName": "Christian Kleinerman"
                                },
                                {
                                    "BusinessEntityID": "46",
                                    "FullName": "Eugene Kogan"
                                },
                                {
                                    "BusinessEntityID": "189",
                                    "FullName": "Janeth Esteves"
                                },
                                {
                                    "BusinessEntityID": "249",
                                    "FullName": "Wendy Kahn"
                                },
                                {
                                    "BusinessEntityID": "35",
                                    "FullName": "Brandon Heidepriem"
                                },
                                {
                                    "BusinessEntityID": "225",
                                    "FullName": "Alan Brewer"
                                },
                                {
                                    "BusinessEntityID": "80",
                                    "FullName": "Sandeep Kaliyath"
                                },
                                {
                                    "BusinessEntityID": "37",
                                    "FullName": "Chris Okelberry"
                                },
                                {
                                    "BusinessEntityID": "77",
                                    "FullName": "Merav Netz"
                                },
                                {
                                    "BusinessEntityID": "113",
                                    "FullName": "Linda Moschell"
                                },
                                {
                                    "BusinessEntityID": "8",
                                    "FullName": "Diane Margheim"
                                },
                                {
                                    "BusinessEntityID": "191",
                                    "FullName": "Lionel Penuchot"
                                },
                                {
                                    "BusinessEntityID": "246",
                                    "FullName": "Dragan Tomic"
                                },
                                {
                                    "BusinessEntityID": "97",
                                    "FullName": "Mandar Samant"
                                },
                                {
                                    "BusinessEntityID": "242",
                                    "FullName": "Deborah Poe"
                                },
                                {
                                    "BusinessEntityID": "277",
                                    "FullName": "Jillian Carson"
                                },
                                {
                                    "BusinessEntityID": "23",
                                    "FullName": "Mary Gibson"
                                },
                                {
                                    "BusinessEntityID": "186",
                                    "FullName": "Shane Kim"
                                },
                                {
                                    "BusinessEntityID": "162",
                                    "FullName": "Laura Steele"
                                },
                                {
                                    "BusinessEntityID": "144",
                                    "FullName": "Paul Singh"
                                },
                                {
                                    "BusinessEntityID": "1",
                                    "FullName": "Ken Sánchez"
                                },
                                {
                                    "BusinessEntityID": "281",
                                    "FullName": "Shu Ito"
                                },
                                {
                                    "BusinessEntityID": "284",
                                    "FullName": "Tete Mensa-Annan"
                                },
                                {
                                    "BusinessEntityID": "190",
                                    "FullName": "Robert Rounthwaite"
                                },
                                {
                                    "BusinessEntityID": "64",
                                    "FullName": "Michael Zwilling"
                                },
                                {
                                    "BusinessEntityID": "71",
                                    "FullName": "Michael Ray"
                                },
                                {
                                    "BusinessEntityID": "171",
                                    "FullName": "David Yalovsky"
                                },
                                {
                                    "BusinessEntityID": "87",
                                    "FullName": "Cristian Petculescu"
                                },
                                {
                                    "BusinessEntityID": "258",
                                    "FullName": "Erin Hagens"
                                },
                                {
                                    "BusinessEntityID": "83",
                                    "FullName": "Patrick Cook"
                                },
                                {
                                    "BusinessEntityID": "201",
                                    "FullName": "Brian Lloyd"
                                },
                                {
                                    "BusinessEntityID": "62",
                                    "FullName": "John Campbell"
                                },
                                {
                                    "BusinessEntityID": "125",
                                    "FullName": "Matthias Berndt"
                                },
                                {
                                    "BusinessEntityID": "78",
                                    "FullName": "Reuben D'sa"
                                },
                                {
                                    "BusinessEntityID": "7",
                                    "FullName": "Dylan Miller"
                                },
                                {
                                    "BusinessEntityID": "244",
                                    "FullName": "Bryan Walton"
                                },
                                {
                                    "BusinessEntityID": "155",
                                    "FullName": "Fadi Fakhouri"
                                },
                                {
                                    "BusinessEntityID": "183",
                                    "FullName": "Barbara Decker"
                                },
                                {
                                    "BusinessEntityID": "245",
                                    "FullName": "Barbara Moreland"
                                },
                                {
                                    "BusinessEntityID": "193",
                                    "FullName": "Alejandro McGuel"
                                },
                                {
                                    "BusinessEntityID": "33",
                                    "FullName": "Annik Stahl"
                                },
                                {
                                    "BusinessEntityID": "207",
                                    "FullName": "Greg Alderson"
                                },
                                {
                                    "BusinessEntityID": "42",
                                    "FullName": "James Kramer"
                                },
                                {
                                    "BusinessEntityID": "102",
                                    "FullName": "Zheng Mu"
                                },
                                {
                                    "BusinessEntityID": "251",
                                    "FullName": "Mikael Sandberg"
                                },
                                {
                                    "BusinessEntityID": "198",
                                    "FullName": "Lorraine Nay"
                                },
                                {
                                    "BusinessEntityID": "152",
                                    "FullName": "Yuhong Li"
                                },
                                {
                                    "BusinessEntityID": "10",
                                    "FullName": "Michael Raheem"
                                }
                            ]
                        },
                        "text/html": "<table><tr><th>BusinessEntityID</th><th>FullName</th></tr><tr><td>259</td><td>Ben Miller</td></tr><tr><td>3</td><td>Roberto Tamburello</td></tr><tr><td>237</td><td>Hao Chen</td></tr><tr><td>167</td><td>David Johnson</td></tr><tr><td>254</td><td>Fukiko Ogisu</td></tr><tr><td>31</td><td>Margie Shoop</td></tr><tr><td>197</td><td>Rajesh Patel</td></tr><tr><td>34</td><td>Suchitra Mohan</td></tr><tr><td>129</td><td>Gary Yukish</td></tr><tr><td>195</td><td>Kevin Liu</td></tr><tr><td>250</td><td>Sheela Word</td></tr><tr><td>276</td><td>Linda Mitchell</td></tr><tr><td>262</td><td>David Barber</td></tr><tr><td>215</td><td>Mark Harrington</td></tr><tr><td>48</td><td>Ruth Ellerbrock</td></tr><tr><td>61</td><td>Diane Tibbott</td></tr><tr><td>226</td><td>Brian LaMee</td></tr><tr><td>253</td><td>Linda Meisner</td></tr><tr><td>118</td><td>Don Hall</td></tr><tr><td>278</td><td>Garrett Vargas</td></tr><tr><td>41</td><td>Bryan Baker</td></tr><tr><td>174</td><td>Benjamin Martin</td></tr><tr><td>13</td><td>Janice Galvin</td></tr><tr><td>153</td><td>Hanying Feng</td></tr><tr><td>241</td><td>David Liu</td></tr><tr><td>166</td><td>Jack Richins</td></tr><tr><td>260</td><td>Annette Hill</td></tr><tr><td>156</td><td>Lane Sacksteder</td></tr><tr><td>9</td><td>Gigi Matthew</td></tr><tr><td>38</td><td>Kim Abercrombie</td></tr><tr><td>108</td><td>Jinghao Liu</td></tr><tr><td>236</td><td>Grant Culbertson</td></tr><tr><td>239</td><td>Mindy Martin</td></tr><tr><td>55</td><td>Taylor Maxwell</td></tr><tr><td>221</td><td>Chris Norred</td></tr><tr><td>36</td><td>Jose Lugo</td></tr><tr><td>170</td><td>George Li</td></tr><tr><td>273</td><td>Brian Welcker</td></tr><tr><td>135</td><td>Ivo Salmre</td></tr><tr><td>141</td><td>Min Su</td></tr><tr><td>96</td><td>Elizabeth Keyser</td></tr><tr><td>157</td><td>Linda Randall</td></tr><tr><td>132</td><td>Nicole Holliday</td></tr><tr><td>101</td><td>Houman Pournasseh</td></tr><tr><td>148</td><td>Jason Watters</td></tr><tr><td>178</td><td>John Frum</td></tr><tr><td>274</td><td>Stephen Jiang</td></tr><tr><td>268</td><td>Ramesh Meyyappan</td></tr><tr><td>257</td><td>Eric Kurjan</td></tr><tr><td>279</td><td>Tsvi Reiter</td></tr><tr><td>45</td><td>Thomas Michaels</td></tr><tr><td>223</td><td>Sairaj Uddin</td></tr><tr><td>57</td><td>Frank Miller</td></tr><tr><td>161</td><td>Kirk Koenigsbauer</td></tr><tr><td>120</td><td>Kitti Lertpiriyasuwat</td></tr><tr><td>169</td><td>Susan Metters</td></tr><tr><td>15</td><td>Sharon Salavaria</td></tr><tr><td>154</td><td>Raymond Sam</td></tr><tr><td>177</td><td>Russell King</td></tr><tr><td>288</td><td>Rachel Valdez</td></tr><tr><td>12</td><td>Thierry D&#39;Hers</td></tr><tr><td>53</td><td>Diane Glimp</td></tr><tr><td>124</td><td>Kim Ralls</td></tr><tr><td>233</td><td>Magnus Hedlund</td></tr><tr><td>116</td><td>Michael Patten</td></tr><tr><td>109</td><td>Alice Ciccu</td></tr><tr><td>28</td><td>Guy Gilbert</td></tr><tr><td>79</td><td>Eric Brown</td></tr><tr><td>182</td><td>Nitin Mirchandani</td></tr><tr><td>269</td><td>Dan Bacon</td></tr><tr><td>74</td><td>Bjorn Rettig</td></tr><tr><td>220</td><td>Karen Berge</td></tr><tr><td>142</td><td>Olinda Turner</td></tr><tr><td>214</td><td>Andreas Berglund</td></tr><tr><td>59</td><td>Bob Hohman</td></tr><tr><td>209</td><td>Kathie Flood</td></tr><tr><td>192</td><td>Brenda Diaz</td></tr><tr><td>63</td><td>Maciej Dusza</td></tr><tr><td>266</td><td>Peter Connelly</td></tr><tr><td>107</td><td>Christopher Hill</td></tr><tr><td>67</td><td>Jay Adams</td></tr><tr><td>247</td><td>Janet Sheperdigian</td></tr><tr><td>51</td><td>Jeffrey Ford</td></tr><tr><td>275</td><td>Michael Blythe</td></tr><tr><td>19</td><td>Mary Dempsey</td></tr><tr><td>18</td><td>John Wood</td></tr><tr><td>270</td><td>François Ajenstat</td></tr><tr><td>20</td><td>Wanida Benshoof</td></tr><tr><td>248</td><td>Mike Seamans</td></tr><tr><td>205</td><td>Lori Kane</td></tr><tr><td>39</td><td>Ed Dudenhoefer</td></tr><tr><td>231</td><td>Jo Berry</td></tr><tr><td>168</td><td>Garrett Young</td></tr><tr><td>104</td><td>Mary Baker</td></tr><tr><td>4</td><td>Rob Walters</td></tr><tr><td>17</td><td>Kevin Brown</td></tr><tr><td>289</td><td>Jae Pak</td></tr><tr><td>176</td><td>David Lawrence</td></tr><tr><td>235</td><td>Paula Barreto de Mattos</td></tr><tr><td>290</td><td>Ranjit Varkey Chudukatil</td></tr><tr><td>165</td><td>Chris Preston</td></tr><tr><td>22</td><td>Sariya Harnpadoungsataya</td></tr><tr><td>180</td><td>Katie McAskill-White</td></tr><tr><td>267</td><td>Karen Berg</td></tr><tr><td>106</td><td>John Kane</td></tr><tr><td>98</td><td>Sameer Tejani</td></tr><tr><td>128</td><td>Paul Komosinski</td></tr><tr><td>68</td><td>Charles Fitzgerald</td></tr><tr><td>160</td><td>Jeff Hay</td></tr><tr><td>110</td><td>Jun Cao</td></tr><tr><td>16</td><td>David Bradley</td></tr><tr><td>159</td><td>Terrence Earls</td></tr><tr><td>47</td><td>Andrew Hill</td></tr><tr><td>285</td><td>Syed Abbas</td></tr><tr><td>82</td><td>Jack Creasey</td></tr><tr><td>21</td><td>Terry Eminhizer</td></tr><tr><td>127</td><td>David Hamilton</td></tr><tr><td>105</td><td>Kevin Homer</td></tr><tr><td>265</td><td>Ashvini Sharma</td></tr><tr><td>147</td><td>Sandra Reátegui Alayo</td></tr><tr><td>282</td><td>José Saraiva</td></tr><tr><td>286</td><td>Lynn Tsoflias</td></tr><tr><td>211</td><td>Hazem Abolrous</td></tr><tr><td>188</td><td>Douglas Hite</td></tr><tr><td>5</td><td>Gail Erickson</td></tr><tr><td>217</td><td>Zainal Arifin</td></tr><tr><td>56</td><td>Denise Smith</td></tr><tr><td>164</td><td>Andrew Cencini</td></tr><tr><td>66</td><td>Karan Khanna</td></tr><tr><td>24</td><td>Jill Williams</td></tr><tr><td>238</td><td>Vidur Luthra</td></tr><tr><td>43</td><td>Nancy Anderson</td></tr><tr><td>72</td><td>Steven Selikoff</td></tr><tr><td>91</td><td>Kimberly Zimmerman</td></tr><tr><td>240</td><td>Willis Johnson</td></tr><tr><td>58</td><td>Kendall Keil</td></tr><tr><td>252</td><td>Arvind Rao</td></tr><tr><td>208</td><td>Scott Gode</td></tr><tr><td>100</td><td>Lolan Song</td></tr><tr><td>52</td><td>Doris Hartwig</td></tr><tr><td>60</td><td>Pete Male</td></tr><tr><td>90</td><td>Danielle Tiedt</td></tr><tr><td>25</td><td>James Hamilton</td></tr><tr><td>243</td><td>Candy Spoon</td></tr><tr><td>185</td><td>Stefen Hesse</td></tr><tr><td>218</td><td>Tengiz Kharatishvili</td></tr><tr><td>272</td><td>Janaina Bueno</td></tr><tr><td>283</td><td>David Campbell</td></tr><tr><td>149</td><td>Andy Ruth</td></tr><tr><td>65</td><td>Randy Reeves</td></tr><tr><td>179</td><td>Jan Miksovsky</td></tr><tr><td>115</td><td>Angela Barbariol</td></tr><tr><td>75</td><td>Michiko Osada</td></tr><tr><td>136</td><td>Sylvester Valdez</td></tr><tr><td>230</td><td>Stuart Macrae</td></tr><tr><td>151</td><td>Rostislav Shabalin</td></tr><tr><td>271</td><td>Dan Wilson</td></tr><tr><td>224</td><td>William Vong</td></tr><tr><td>30</td><td>Britta Simon</td></tr><tr><td>103</td><td>Ebru Ersan</td></tr><tr><td>234</td><td>Laura Norman</td></tr><tr><td>2</td><td>Terri Duffy</td></tr><tr><td>287</td><td>Amy Alberts</td></tr><tr><td>181</td><td>Michael Hines</td></tr><tr><td>50</td><td>Sidney Higa</td></tr><tr><td>139</td><td>Hung-Fu Ting</td></tr><tr><td>213</td><td>Sootha Charncherngkha</td></tr><tr><td>40</td><td>JoLynn Dobney</td></tr><tr><td>187</td><td>Yvonne McKay</td></tr><tr><td>145</td><td>Cynthia Randall</td></tr><tr><td>119</td><td>Michael Entin</td></tr><tr><td>29</td><td>Mark McArthur</td></tr><tr><td>137</td><td>Anibal Sousa</td></tr><tr><td>27</td><td>Jo Brown</td></tr><tr><td>121</td><td>Pilar Ackerman</td></tr><tr><td>158</td><td>Shelley Dyck</td></tr><tr><td>112</td><td>John Evans</td></tr><tr><td>73</td><td>Carole Poland</td></tr><tr><td>93</td><td>Kok-Ho Loh</td></tr><tr><td>204</td><td>Gabe Mares</td></tr><tr><td>117</td><td>Chad Niswonger</td></tr><tr><td>172</td><td>Marc Ingle</td></tr><tr><td>256</td><td>Frank Pellow</td></tr><tr><td>131</td><td>Baris Cetinok</td></tr><tr><td>26</td><td>Peter Krebs</td></tr><tr><td>222</td><td>A. Scott Wright</td></tr><tr><td>32</td><td>Rebecca Laszlo</td></tr><tr><td>86</td><td>Ryan Cornelsen</td></tr><tr><td>263</td><td>Jean Trenary</td></tr><tr><td>54</td><td>Bonnie Kearney</td></tr><tr><td>69</td><td>Steve Masters</td></tr><tr><td>84</td><td>Frank Martinez</td></tr><tr><td>85</td><td>Brian Goldstein</td></tr><tr><td>175</td><td>Reed Koch</td></tr><tr><td>114</td><td>Mindaugas Krapauskas</td></tr><tr><td>138</td><td>Samantha Smith</td></tr><tr><td>212</td><td>Peng Wu</td></tr><tr><td>76</td><td>Carol Philips</td></tr><tr><td>95</td><td>Jim Scardelis</td></tr><tr><td>134</td><td>Eric Gubbels</td></tr><tr><td>14</td><td>Michael Sullivan</td></tr><tr><td>126</td><td>Jimmy Bischoff</td></tr><tr><td>94</td><td>Russell Hunter</td></tr><tr><td>232</td><td>Pat Coleman</td></tr><tr><td>81</td><td>Mihail Frintu</td></tr><tr><td>6</td><td>Jossef Goldberg</td></tr><tr><td>146</td><td>Jian Shuo Wang</td></tr><tr><td>264</td><td>Stephanie Conroy</td></tr><tr><td>99</td><td>Nuan Yu</td></tr><tr><td>200</td><td>Frank Lee</td></tr><tr><td>11</td><td>Ovidiu Cracium</td></tr><tr><td>203</td><td>Ken Myer</td></tr><tr><td>150</td><td>Michael Vanderhyde</td></tr><tr><td>227</td><td>Gary Altman</td></tr><tr><td>184</td><td>John Chen</td></tr><tr><td>49</td><td>Barry Johnson</td></tr><tr><td>199</td><td>Paula Nartker</td></tr><tr><td>88</td><td>Betsy Stadick</td></tr><tr><td>229</td><td>Lori Penor</td></tr><tr><td>216</td><td>Sean Alexander</td></tr><tr><td>194</td><td>Fred Northup</td></tr><tr><td>196</td><td>Shammi Mohamed</td></tr><tr><td>92</td><td>Tom Vande Velde</td></tr><tr><td>202</td><td>Tawana Nusbaum</td></tr><tr><td>210</td><td>Belinda Newman</td></tr><tr><td>133</td><td>Michael Rothkugel</td></tr><tr><td>89</td><td>Patrick Wedge</td></tr><tr><td>140</td><td>Prasanna Samarawickrama</td></tr><tr><td>255</td><td>Gordon Hee</td></tr><tr><td>143</td><td>Krishna Sunkammurali</td></tr><tr><td>44</td><td>Simon Rapier</td></tr><tr><td>70</td><td>David Ortiz</td></tr><tr><td>219</td><td>Sean Chai</td></tr><tr><td>122</td><td>Susan Eaton</td></tr><tr><td>163</td><td>Alex Nayberg</td></tr><tr><td>111</td><td>Suroor Fatima</td></tr><tr><td>280</td><td>Pamela Ansman-Wolfe</td></tr><tr><td>123</td><td>Vamsi Kuppa</td></tr><tr><td>261</td><td>Reinout Hillmann</td></tr><tr><td>206</td><td>Stuart Munson</td></tr><tr><td>173</td><td>Eugene Zabokritski</td></tr><tr><td>130</td><td>Rob Caron</td></tr><tr><td>228</td><td>Christian Kleinerman</td></tr><tr><td>46</td><td>Eugene Kogan</td></tr><tr><td>189</td><td>Janeth Esteves</td></tr><tr><td>249</td><td>Wendy Kahn</td></tr><tr><td>35</td><td>Brandon Heidepriem</td></tr><tr><td>225</td><td>Alan Brewer</td></tr><tr><td>80</td><td>Sandeep Kaliyath</td></tr><tr><td>37</td><td>Chris Okelberry</td></tr><tr><td>77</td><td>Merav Netz</td></tr><tr><td>113</td><td>Linda Moschell</td></tr><tr><td>8</td><td>Diane Margheim</td></tr><tr><td>191</td><td>Lionel Penuchot</td></tr><tr><td>246</td><td>Dragan Tomic</td></tr><tr><td>97</td><td>Mandar Samant</td></tr><tr><td>242</td><td>Deborah Poe</td></tr><tr><td>277</td><td>Jillian Carson</td></tr><tr><td>23</td><td>Mary Gibson</td></tr><tr><td>186</td><td>Shane Kim</td></tr><tr><td>162</td><td>Laura Steele</td></tr><tr><td>144</td><td>Paul Singh</td></tr><tr><td>1</td><td>Ken Sánchez</td></tr><tr><td>281</td><td>Shu Ito</td></tr><tr><td>284</td><td>Tete Mensa-Annan</td></tr><tr><td>190</td><td>Robert Rounthwaite</td></tr><tr><td>64</td><td>Michael Zwilling</td></tr><tr><td>71</td><td>Michael Ray</td></tr><tr><td>171</td><td>David Yalovsky</td></tr><tr><td>87</td><td>Cristian Petculescu</td></tr><tr><td>258</td><td>Erin Hagens</td></tr><tr><td>83</td><td>Patrick Cook</td></tr><tr><td>201</td><td>Brian Lloyd</td></tr><tr><td>62</td><td>John Campbell</td></tr><tr><td>125</td><td>Matthias Berndt</td></tr><tr><td>78</td><td>Reuben D&#39;sa</td></tr><tr><td>7</td><td>Dylan Miller</td></tr><tr><td>244</td><td>Bryan Walton</td></tr><tr><td>155</td><td>Fadi Fakhouri</td></tr><tr><td>183</td><td>Barbara Decker</td></tr><tr><td>245</td><td>Barbara Moreland</td></tr><tr><td>193</td><td>Alejandro McGuel</td></tr><tr><td>33</td><td>Annik Stahl</td></tr><tr><td>207</td><td>Greg Alderson</td></tr><tr><td>42</td><td>James Kramer</td></tr><tr><td>102</td><td>Zheng Mu</td></tr><tr><td>251</td><td>Mikael Sandberg</td></tr><tr><td>198</td><td>Lorraine Nay</td></tr><tr><td>152</td><td>Yuhong Li</td></tr><tr><td>10</td><td>Michael Raheem</td></tr></table>"
                    },
                    "metadata": {}
                }
            ],
            "execution_count": 45
        },
        {
            "cell_type": "markdown",
            "source": [
                "# Propositions and Functional Specification - 5\n",
                "\n",
                "## 1. Query Proposition\n",
                "\n",
                "The query is designed to retrieve and merge data about employees and departments within the **AdventureWorks2017** database. It combines employee information with department information into a single unified result set, providing insights into the structure and organization of the company.\n",
                "\n",
                "## 2. Functional Specification\n",
                "\n",
                "### Objective\n",
                "To display a list of business entities, specifically employees and departments, with their respective identifiers and job titles or department names.\n",
                "\n",
                "### Inputs\n",
                "- **Database**: `AdventureWorks2017`\n",
                "- **Tables**:\n",
                "  - `HumanResources.Employee`: Contains employee information, including `BusinessEntityID` and `JobTitle`.\n",
                "  - `HumanResources.Department`: Contains department information, including `DepartmentID` and `Name`.\n",
                "\n",
                "### Outputs\n",
                "- **Columns**:\n",
                "  - `BusinessEntityID` or `DepartmentID`: Represents the unique identifier for each employee or department.\n",
                "  - `Information`: Represents the job title of the employee or the name of the department.\n",
                "\n",
                "### Query Logic\n",
                "\n",
                "1. **`USE` Statement**:\n",
                "   - Sets the database context to `AdventureWorks2017` to ensure all referenced tables come from this database.\n",
                "\n",
                "2. **`SELECT` from `HumanResources.Employee`**:\n",
                "   - Selects `BusinessEntityID` and `JobTitle` (renamed as `Information`) from the `Employee` table.\n",
                "   \n",
                "3. **`UNION` Operation**:\n",
                "   - Combines the result set of employees with that of departments. This allows merging rows from two tables with similar structures into a single result set.\n",
                "\n",
                "4. **`SELECT` from `HumanResources.Department`**:\n",
                "   - Selects `DepartmentID` and `Name` (renamed as `Information`) from the `Department` table.\n",
                "   \n",
                "5. **Unified Output**:\n",
                "   - The result set contains rows with employee IDs and job titles as well as department IDs and names, with both types of information under a common column header, `Information`.\n",
                "\n",
                "### Notes\n",
                "- **Data Consistency**: The `UNION` operation ensures that only distinct rows are included in the output, which could help avoid duplicates.\n",
                "- **Data Type Matching**: The `UNION` requires both `SELECT` queries to have the same number of columns with compatible data types. The IDs and the `Information` column are aligned between employees and departments.\n",
                "- **Potential Use Cases**:\n",
                "  - Analyzing the roles within a company.\n",
                "  - Combining information about departments and employees for reporting purposes.\n",
                "\n",
                ""
            ],
            "metadata": {
                "azdata_cell_guid": "ca296b59-9891-494b-9d8f-beec2be0f323"
            },
            "attachments": {}
        },
        {
            "cell_type": "code",
            "source": [
                "USE AdventureWorks2017;\n",
                "\n",
                "SELECT E.BusinessEntityID,  E.JobTitle AS Information\n",
                "FROM HumanResources.Employee E\n",
                "\n",
                "UNION\n",
                "\n",
                "SELECT D.DepartmentID, D.Name AS Information\n",
                "FROM HumanResources.Department D;\n",
                ""
            ],
            "metadata": {
                "azdata_cell_guid": "02383ef2-20d0-478b-a822-13b074b4469b",
                "language": "sql"
            },
            "outputs": [
                {
                    "output_type": "display_data",
                    "data": {
                        "text/html": "(306 rows affected)"
                    },
                    "metadata": {}
                },
                {
                    "output_type": "display_data",
                    "data": {
                        "text/html": "Total execution time: 00:00:00.019"
                    },
                    "metadata": {}
                },
                {
                    "output_type": "execute_result",
                    "execution_count": 46,
                    "data": {
                        "application/vnd.dataresource+json": {
                            "schema": {
                                "fields": [
                                    {
                                        "name": "BusinessEntityID"
                                    },
                                    {
                                        "name": "Information"
                                    }
                                ]
                            },
                            "data": [
                                {
                                    "BusinessEntityID": "1",
                                    "Information": "Chief Executive Officer"
                                },
                                {
                                    "BusinessEntityID": "1",
                                    "Information": "Engineering"
                                },
                                {
                                    "BusinessEntityID": "2",
                                    "Information": "Tool Design"
                                },
                                {
                                    "BusinessEntityID": "2",
                                    "Information": "Vice President of Engineering"
                                },
                                {
                                    "BusinessEntityID": "3",
                                    "Information": "Engineering Manager"
                                },
                                {
                                    "BusinessEntityID": "3",
                                    "Information": "Sales"
                                },
                                {
                                    "BusinessEntityID": "4",
                                    "Information": "Marketing"
                                },
                                {
                                    "BusinessEntityID": "4",
                                    "Information": "Senior Tool Designer"
                                },
                                {
                                    "BusinessEntityID": "5",
                                    "Information": "Design Engineer"
                                },
                                {
                                    "BusinessEntityID": "5",
                                    "Information": "Purchasing"
                                },
                                {
                                    "BusinessEntityID": "6",
                                    "Information": "Design Engineer"
                                },
                                {
                                    "BusinessEntityID": "6",
                                    "Information": "Research and Development"
                                },
                                {
                                    "BusinessEntityID": "7",
                                    "Information": "Production"
                                },
                                {
                                    "BusinessEntityID": "7",
                                    "Information": "Research and Development Manager"
                                },
                                {
                                    "BusinessEntityID": "8",
                                    "Information": "Production Control"
                                },
                                {
                                    "BusinessEntityID": "8",
                                    "Information": "Research and Development Engineer"
                                },
                                {
                                    "BusinessEntityID": "9",
                                    "Information": "Human Resources"
                                },
                                {
                                    "BusinessEntityID": "9",
                                    "Information": "Research and Development Engineer"
                                },
                                {
                                    "BusinessEntityID": "10",
                                    "Information": "Finance"
                                },
                                {
                                    "BusinessEntityID": "10",
                                    "Information": "Research and Development Manager"
                                },
                                {
                                    "BusinessEntityID": "11",
                                    "Information": "Information Services"
                                },
                                {
                                    "BusinessEntityID": "11",
                                    "Information": "Senior Tool Designer"
                                },
                                {
                                    "BusinessEntityID": "12",
                                    "Information": "Document Control"
                                },
                                {
                                    "BusinessEntityID": "12",
                                    "Information": "Tool Designer"
                                },
                                {
                                    "BusinessEntityID": "13",
                                    "Information": "Quality Assurance"
                                },
                                {
                                    "BusinessEntityID": "13",
                                    "Information": "Tool Designer"
                                },
                                {
                                    "BusinessEntityID": "14",
                                    "Information": "Facilities and Maintenance"
                                },
                                {
                                    "BusinessEntityID": "14",
                                    "Information": "Senior Design Engineer"
                                },
                                {
                                    "BusinessEntityID": "15",
                                    "Information": "Design Engineer"
                                },
                                {
                                    "BusinessEntityID": "15",
                                    "Information": "Shipping and Receiving"
                                },
                                {
                                    "BusinessEntityID": "16",
                                    "Information": "Executive"
                                },
                                {
                                    "BusinessEntityID": "16",
                                    "Information": "Marketing Manager"
                                },
                                {
                                    "BusinessEntityID": "17",
                                    "Information": "Marketing Assistant"
                                },
                                {
                                    "BusinessEntityID": "18",
                                    "Information": "Marketing Specialist"
                                },
                                {
                                    "BusinessEntityID": "19",
                                    "Information": "Marketing Assistant"
                                },
                                {
                                    "BusinessEntityID": "20",
                                    "Information": "Marketing Assistant"
                                },
                                {
                                    "BusinessEntityID": "21",
                                    "Information": "Marketing Specialist"
                                },
                                {
                                    "BusinessEntityID": "22",
                                    "Information": "Marketing Specialist"
                                },
                                {
                                    "BusinessEntityID": "23",
                                    "Information": "Marketing Specialist"
                                },
                                {
                                    "BusinessEntityID": "24",
                                    "Information": "Marketing Specialist"
                                },
                                {
                                    "BusinessEntityID": "25",
                                    "Information": "Vice President of Production"
                                },
                                {
                                    "BusinessEntityID": "26",
                                    "Information": "Production Control Manager"
                                },
                                {
                                    "BusinessEntityID": "27",
                                    "Information": "Production Supervisor - WC60"
                                },
                                {
                                    "BusinessEntityID": "28",
                                    "Information": "Production Technician - WC60"
                                },
                                {
                                    "BusinessEntityID": "29",
                                    "Information": "Production Technician - WC60"
                                },
                                {
                                    "BusinessEntityID": "30",
                                    "Information": "Production Technician - WC60"
                                },
                                {
                                    "BusinessEntityID": "31",
                                    "Information": "Production Technician - WC60"
                                },
                                {
                                    "BusinessEntityID": "32",
                                    "Information": "Production Technician - WC60"
                                },
                                {
                                    "BusinessEntityID": "33",
                                    "Information": "Production Technician - WC60"
                                },
                                {
                                    "BusinessEntityID": "34",
                                    "Information": "Production Technician - WC60"
                                },
                                {
                                    "BusinessEntityID": "35",
                                    "Information": "Production Technician - WC60"
                                },
                                {
                                    "BusinessEntityID": "36",
                                    "Information": "Production Technician - WC60"
                                },
                                {
                                    "BusinessEntityID": "37",
                                    "Information": "Production Technician - WC60"
                                },
                                {
                                    "BusinessEntityID": "38",
                                    "Information": "Production Technician - WC60"
                                },
                                {
                                    "BusinessEntityID": "39",
                                    "Information": "Production Technician - WC60"
                                },
                                {
                                    "BusinessEntityID": "40",
                                    "Information": "Production Supervisor - WC60"
                                },
                                {
                                    "BusinessEntityID": "41",
                                    "Information": "Production Technician - WC60"
                                },
                                {
                                    "BusinessEntityID": "42",
                                    "Information": "Production Technician - WC60"
                                },
                                {
                                    "BusinessEntityID": "43",
                                    "Information": "Production Technician - WC60"
                                },
                                {
                                    "BusinessEntityID": "44",
                                    "Information": "Production Technician - WC60"
                                },
                                {
                                    "BusinessEntityID": "45",
                                    "Information": "Production Technician - WC60"
                                },
                                {
                                    "BusinessEntityID": "46",
                                    "Information": "Production Technician - WC60"
                                },
                                {
                                    "BusinessEntityID": "47",
                                    "Information": "Production Supervisor - WC10"
                                },
                                {
                                    "BusinessEntityID": "48",
                                    "Information": "Production Technician - WC10"
                                },
                                {
                                    "BusinessEntityID": "49",
                                    "Information": "Production Technician - WC10"
                                },
                                {
                                    "BusinessEntityID": "50",
                                    "Information": "Production Technician - WC10"
                                },
                                {
                                    "BusinessEntityID": "51",
                                    "Information": "Production Technician - WC10"
                                },
                                {
                                    "BusinessEntityID": "52",
                                    "Information": "Production Technician - WC10"
                                },
                                {
                                    "BusinessEntityID": "53",
                                    "Information": "Production Technician - WC10"
                                },
                                {
                                    "BusinessEntityID": "54",
                                    "Information": "Production Technician - WC10"
                                },
                                {
                                    "BusinessEntityID": "55",
                                    "Information": "Production Supervisor - WC50"
                                },
                                {
                                    "BusinessEntityID": "56",
                                    "Information": "Production Technician - WC50"
                                },
                                {
                                    "BusinessEntityID": "57",
                                    "Information": "Production Technician - WC50"
                                },
                                {
                                    "BusinessEntityID": "58",
                                    "Information": "Production Technician - WC50"
                                },
                                {
                                    "BusinessEntityID": "59",
                                    "Information": "Production Technician - WC50"
                                },
                                {
                                    "BusinessEntityID": "60",
                                    "Information": "Production Technician - WC50"
                                },
                                {
                                    "BusinessEntityID": "61",
                                    "Information": "Production Technician - WC50"
                                },
                                {
                                    "BusinessEntityID": "62",
                                    "Information": "Production Supervisor - WC60"
                                },
                                {
                                    "BusinessEntityID": "63",
                                    "Information": "Production Technician - WC60"
                                },
                                {
                                    "BusinessEntityID": "64",
                                    "Information": "Production Technician - WC60"
                                },
                                {
                                    "BusinessEntityID": "65",
                                    "Information": "Production Technician - WC60"
                                },
                                {
                                    "BusinessEntityID": "66",
                                    "Information": "Production Technician - WC60"
                                },
                                {
                                    "BusinessEntityID": "67",
                                    "Information": "Production Technician - WC60"
                                },
                                {
                                    "BusinessEntityID": "68",
                                    "Information": "Production Technician - WC60"
                                },
                                {
                                    "BusinessEntityID": "69",
                                    "Information": "Production Technician - WC60"
                                },
                                {
                                    "BusinessEntityID": "70",
                                    "Information": "Production Technician - WC60"
                                },
                                {
                                    "BusinessEntityID": "71",
                                    "Information": "Production Supervisor - WC30"
                                },
                                {
                                    "BusinessEntityID": "72",
                                    "Information": "Production Technician - WC30"
                                },
                                {
                                    "BusinessEntityID": "73",
                                    "Information": "Production Technician - WC30"
                                },
                                {
                                    "BusinessEntityID": "74",
                                    "Information": "Production Technician - WC30"
                                },
                                {
                                    "BusinessEntityID": "75",
                                    "Information": "Production Technician - WC30"
                                },
                                {
                                    "BusinessEntityID": "76",
                                    "Information": "Production Technician - WC30"
                                },
                                {
                                    "BusinessEntityID": "77",
                                    "Information": "Production Technician - WC30"
                                },
                                {
                                    "BusinessEntityID": "78",
                                    "Information": "Production Supervisor - WC40"
                                },
                                {
                                    "BusinessEntityID": "79",
                                    "Information": "Production Technician - WC40"
                                },
                                {
                                    "BusinessEntityID": "80",
                                    "Information": "Production Technician - WC40"
                                },
                                {
                                    "BusinessEntityID": "81",
                                    "Information": "Production Technician - WC40"
                                },
                                {
                                    "BusinessEntityID": "82",
                                    "Information": "Production Technician - WC40"
                                },
                                {
                                    "BusinessEntityID": "83",
                                    "Information": "Production Technician - WC40"
                                },
                                {
                                    "BusinessEntityID": "84",
                                    "Information": "Production Technician - WC40"
                                },
                                {
                                    "BusinessEntityID": "85",
                                    "Information": "Production Technician - WC40"
                                },
                                {
                                    "BusinessEntityID": "86",
                                    "Information": "Production Technician - WC40"
                                },
                                {
                                    "BusinessEntityID": "87",
                                    "Information": "Production Supervisor - WC10"
                                },
                                {
                                    "BusinessEntityID": "88",
                                    "Information": "Production Technician - WC10"
                                },
                                {
                                    "BusinessEntityID": "89",
                                    "Information": "Production Technician - WC10"
                                },
                                {
                                    "BusinessEntityID": "90",
                                    "Information": "Production Technician - WC10"
                                },
                                {
                                    "BusinessEntityID": "91",
                                    "Information": "Production Technician - WC10"
                                },
                                {
                                    "BusinessEntityID": "92",
                                    "Information": "Production Technician - WC10"
                                },
                                {
                                    "BusinessEntityID": "93",
                                    "Information": "Production Supervisor - WC50"
                                },
                                {
                                    "BusinessEntityID": "94",
                                    "Information": "Production Technician - WC50"
                                },
                                {
                                    "BusinessEntityID": "95",
                                    "Information": "Production Technician - WC50"
                                },
                                {
                                    "BusinessEntityID": "96",
                                    "Information": "Production Technician - WC50"
                                },
                                {
                                    "BusinessEntityID": "97",
                                    "Information": "Production Technician - WC50"
                                },
                                {
                                    "BusinessEntityID": "98",
                                    "Information": "Production Technician - WC50"
                                },
                                {
                                    "BusinessEntityID": "99",
                                    "Information": "Production Technician - WC50"
                                },
                                {
                                    "BusinessEntityID": "100",
                                    "Information": "Production Technician - WC50"
                                },
                                {
                                    "BusinessEntityID": "101",
                                    "Information": "Production Technician - WC50"
                                },
                                {
                                    "BusinessEntityID": "102",
                                    "Information": "Production Supervisor - WC10"
                                },
                                {
                                    "BusinessEntityID": "103",
                                    "Information": "Production Technician - WC10"
                                },
                                {
                                    "BusinessEntityID": "104",
                                    "Information": "Production Technician - WC10"
                                },
                                {
                                    "BusinessEntityID": "105",
                                    "Information": "Production Technician - WC10"
                                },
                                {
                                    "BusinessEntityID": "106",
                                    "Information": "Production Technician - WC10"
                                },
                                {
                                    "BusinessEntityID": "107",
                                    "Information": "Production Technician - WC10"
                                },
                                {
                                    "BusinessEntityID": "108",
                                    "Information": "Production Supervisor - WC50"
                                },
                                {
                                    "BusinessEntityID": "109",
                                    "Information": "Production Technician - WC50"
                                },
                                {
                                    "BusinessEntityID": "110",
                                    "Information": "Production Technician - WC50"
                                },
                                {
                                    "BusinessEntityID": "111",
                                    "Information": "Production Technician - WC50"
                                },
                                {
                                    "BusinessEntityID": "112",
                                    "Information": "Production Technician - WC50"
                                },
                                {
                                    "BusinessEntityID": "113",
                                    "Information": "Production Technician - WC50"
                                },
                                {
                                    "BusinessEntityID": "114",
                                    "Information": "Production Technician - WC50"
                                },
                                {
                                    "BusinessEntityID": "115",
                                    "Information": "Production Technician - WC50"
                                },
                                {
                                    "BusinessEntityID": "116",
                                    "Information": "Production Technician - WC50"
                                },
                                {
                                    "BusinessEntityID": "117",
                                    "Information": "Production Technician - WC50"
                                },
                                {
                                    "BusinessEntityID": "118",
                                    "Information": "Production Technician - WC50"
                                },
                                {
                                    "BusinessEntityID": "119",
                                    "Information": "Production Technician - WC50"
                                },
                                {
                                    "BusinessEntityID": "120",
                                    "Information": "Production Technician - WC50"
                                },
                                {
                                    "BusinessEntityID": "121",
                                    "Information": "Shipping and Receiving Supervisor"
                                },
                                {
                                    "BusinessEntityID": "122",
                                    "Information": "Stocker"
                                },
                                {
                                    "BusinessEntityID": "123",
                                    "Information": "Shipping and Receiving Clerk"
                                },
                                {
                                    "BusinessEntityID": "124",
                                    "Information": "Stocker"
                                },
                                {
                                    "BusinessEntityID": "125",
                                    "Information": "Shipping and Receiving Clerk"
                                },
                                {
                                    "BusinessEntityID": "126",
                                    "Information": "Stocker"
                                },
                                {
                                    "BusinessEntityID": "127",
                                    "Information": "Production Supervisor - WC40"
                                },
                                {
                                    "BusinessEntityID": "128",
                                    "Information": "Production Technician - WC40"
                                },
                                {
                                    "BusinessEntityID": "129",
                                    "Information": "Production Technician - WC40"
                                },
                                {
                                    "BusinessEntityID": "130",
                                    "Information": "Production Technician - WC40"
                                },
                                {
                                    "BusinessEntityID": "131",
                                    "Information": "Production Technician - WC40"
                                },
                                {
                                    "BusinessEntityID": "132",
                                    "Information": "Production Technician - WC40"
                                },
                                {
                                    "BusinessEntityID": "133",
                                    "Information": "Production Technician - WC40"
                                },
                                {
                                    "BusinessEntityID": "134",
                                    "Information": "Production Supervisor - WC20"
                                },
                                {
                                    "BusinessEntityID": "135",
                                    "Information": "Production Technician - WC20"
                                },
                                {
                                    "BusinessEntityID": "136",
                                    "Information": "Production Technician - WC20"
                                },
                                {
                                    "BusinessEntityID": "137",
                                    "Information": "Production Technician - WC20"
                                },
                                {
                                    "BusinessEntityID": "138",
                                    "Information": "Production Technician - WC20"
                                },
                                {
                                    "BusinessEntityID": "139",
                                    "Information": "Production Technician - WC20"
                                },
                                {
                                    "BusinessEntityID": "140",
                                    "Information": "Production Technician - WC20"
                                },
                                {
                                    "BusinessEntityID": "141",
                                    "Information": "Production Technician - WC20"
                                },
                                {
                                    "BusinessEntityID": "142",
                                    "Information": "Production Technician - WC20"
                                },
                                {
                                    "BusinessEntityID": "143",
                                    "Information": "Production Technician - WC20"
                                },
                                {
                                    "BusinessEntityID": "144",
                                    "Information": "Production Technician - WC20"
                                },
                                {
                                    "BusinessEntityID": "145",
                                    "Information": "Production Supervisor - WC30"
                                },
                                {
                                    "BusinessEntityID": "146",
                                    "Information": "Production Technician - WC30"
                                },
                                {
                                    "BusinessEntityID": "147",
                                    "Information": "Production Technician - WC30"
                                },
                                {
                                    "BusinessEntityID": "148",
                                    "Information": "Production Technician - WC30"
                                },
                                {
                                    "BusinessEntityID": "149",
                                    "Information": "Production Technician - WC30"
                                },
                                {
                                    "BusinessEntityID": "150",
                                    "Information": "Production Technician - WC30"
                                },
                                {
                                    "BusinessEntityID": "151",
                                    "Information": "Production Technician - WC30"
                                },
                                {
                                    "BusinessEntityID": "152",
                                    "Information": "Production Supervisor - WC20"
                                },
                                {
                                    "BusinessEntityID": "153",
                                    "Information": "Production Technician - WC20"
                                },
                                {
                                    "BusinessEntityID": "154",
                                    "Information": "Production Technician - WC20"
                                },
                                {
                                    "BusinessEntityID": "155",
                                    "Information": "Production Technician - WC20"
                                },
                                {
                                    "BusinessEntityID": "156",
                                    "Information": "Production Technician - WC20"
                                },
                                {
                                    "BusinessEntityID": "157",
                                    "Information": "Production Technician - WC20"
                                },
                                {
                                    "BusinessEntityID": "158",
                                    "Information": "Production Technician - WC20"
                                },
                                {
                                    "BusinessEntityID": "159",
                                    "Information": "Production Technician - WC20"
                                },
                                {
                                    "BusinessEntityID": "160",
                                    "Information": "Production Supervisor - WC45"
                                },
                                {
                                    "BusinessEntityID": "161",
                                    "Information": "Production Technician - WC45"
                                },
                                {
                                    "BusinessEntityID": "162",
                                    "Information": "Production Technician - WC45"
                                },
                                {
                                    "BusinessEntityID": "163",
                                    "Information": "Production Technician - WC45"
                                },
                                {
                                    "BusinessEntityID": "164",
                                    "Information": "Production Technician - WC45"
                                },
                                {
                                    "BusinessEntityID": "165",
                                    "Information": "Production Technician - WC45"
                                },
                                {
                                    "BusinessEntityID": "166",
                                    "Information": "Production Supervisor - WC30"
                                },
                                {
                                    "BusinessEntityID": "167",
                                    "Information": "Production Technician - WC30"
                                },
                                {
                                    "BusinessEntityID": "168",
                                    "Information": "Production Technician - WC30"
                                },
                                {
                                    "BusinessEntityID": "169",
                                    "Information": "Production Technician - WC30"
                                },
                                {
                                    "BusinessEntityID": "170",
                                    "Information": "Production Technician - WC30"
                                },
                                {
                                    "BusinessEntityID": "171",
                                    "Information": "Production Technician - WC30"
                                },
                                {
                                    "BusinessEntityID": "172",
                                    "Information": "Production Technician - WC30"
                                },
                                {
                                    "BusinessEntityID": "173",
                                    "Information": "Production Technician - WC30"
                                },
                                {
                                    "BusinessEntityID": "174",
                                    "Information": "Production Technician - WC30"
                                },
                                {
                                    "BusinessEntityID": "175",
                                    "Information": "Production Technician - WC30"
                                },
                                {
                                    "BusinessEntityID": "176",
                                    "Information": "Production Technician - WC30"
                                },
                                {
                                    "BusinessEntityID": "177",
                                    "Information": "Production Technician - WC30"
                                },
                                {
                                    "BusinessEntityID": "178",
                                    "Information": "Production Technician - WC30"
                                },
                                {
                                    "BusinessEntityID": "179",
                                    "Information": "Production Technician - WC30"
                                },
                                {
                                    "BusinessEntityID": "180",
                                    "Information": "Production Supervisor - WC20"
                                },
                                {
                                    "BusinessEntityID": "181",
                                    "Information": "Production Technician - WC20"
                                },
                                {
                                    "BusinessEntityID": "182",
                                    "Information": "Production Technician - WC20"
                                },
                                {
                                    "BusinessEntityID": "183",
                                    "Information": "Production Technician - WC20"
                                },
                                {
                                    "BusinessEntityID": "184",
                                    "Information": "Production Technician - WC20"
                                },
                                {
                                    "BusinessEntityID": "185",
                                    "Information": "Production Technician - WC20"
                                },
                                {
                                    "BusinessEntityID": "186",
                                    "Information": "Production Supervisor - WC45"
                                },
                                {
                                    "BusinessEntityID": "187",
                                    "Information": "Production Technician - WC45"
                                },
                                {
                                    "BusinessEntityID": "188",
                                    "Information": "Production Technician - WC45"
                                },
                                {
                                    "BusinessEntityID": "189",
                                    "Information": "Production Technician - WC45"
                                },
                                {
                                    "BusinessEntityID": "190",
                                    "Information": "Production Technician - WC45"
                                },
                                {
                                    "BusinessEntityID": "191",
                                    "Information": "Production Technician - WC45"
                                },
                                {
                                    "BusinessEntityID": "192",
                                    "Information": "Production Supervisor - WC40"
                                },
                                {
                                    "BusinessEntityID": "193",
                                    "Information": "Production Technician - WC40"
                                },
                                {
                                    "BusinessEntityID": "194",
                                    "Information": "Production Technician - WC40"
                                },
                                {
                                    "BusinessEntityID": "195",
                                    "Information": "Production Technician - WC40"
                                },
                                {
                                    "BusinessEntityID": "196",
                                    "Information": "Production Technician - WC40"
                                },
                                {
                                    "BusinessEntityID": "197",
                                    "Information": "Production Technician - WC40"
                                },
                                {
                                    "BusinessEntityID": "198",
                                    "Information": "Production Technician - WC40"
                                },
                                {
                                    "BusinessEntityID": "199",
                                    "Information": "Production Technician - WC40"
                                },
                                {
                                    "BusinessEntityID": "200",
                                    "Information": "Production Technician - WC40"
                                },
                                {
                                    "BusinessEntityID": "201",
                                    "Information": "Production Technician - WC40"
                                },
                                {
                                    "BusinessEntityID": "202",
                                    "Information": "Production Technician - WC40"
                                },
                                {
                                    "BusinessEntityID": "203",
                                    "Information": "Production Technician - WC40"
                                },
                                {
                                    "BusinessEntityID": "204",
                                    "Information": "Production Technician - WC40"
                                },
                                {
                                    "BusinessEntityID": "205",
                                    "Information": "Production Supervisor - WC45"
                                },
                                {
                                    "BusinessEntityID": "206",
                                    "Information": "Production Technician - WC45"
                                },
                                {
                                    "BusinessEntityID": "207",
                                    "Information": "Production Technician - WC45"
                                },
                                {
                                    "BusinessEntityID": "208",
                                    "Information": "Production Technician - WC45"
                                },
                                {
                                    "BusinessEntityID": "209",
                                    "Information": "Production Technician - WC45"
                                },
                                {
                                    "BusinessEntityID": "210",
                                    "Information": "Production Technician - WC45"
                                },
                                {
                                    "BusinessEntityID": "211",
                                    "Information": "Quality Assurance Manager"
                                },
                                {
                                    "BusinessEntityID": "212",
                                    "Information": "Quality Assurance Supervisor"
                                },
                                {
                                    "BusinessEntityID": "213",
                                    "Information": "Quality Assurance Technician"
                                },
                                {
                                    "BusinessEntityID": "214",
                                    "Information": "Quality Assurance Technician"
                                },
                                {
                                    "BusinessEntityID": "215",
                                    "Information": "Quality Assurance Technician"
                                },
                                {
                                    "BusinessEntityID": "216",
                                    "Information": "Quality Assurance Technician"
                                },
                                {
                                    "BusinessEntityID": "217",
                                    "Information": "Document Control Manager"
                                },
                                {
                                    "BusinessEntityID": "218",
                                    "Information": "Control Specialist"
                                },
                                {
                                    "BusinessEntityID": "219",
                                    "Information": "Document Control Assistant"
                                },
                                {
                                    "BusinessEntityID": "220",
                                    "Information": "Document Control Assistant"
                                },
                                {
                                    "BusinessEntityID": "221",
                                    "Information": "Control Specialist"
                                },
                                {
                                    "BusinessEntityID": "222",
                                    "Information": "Master Scheduler"
                                },
                                {
                                    "BusinessEntityID": "223",
                                    "Information": "Scheduling Assistant"
                                },
                                {
                                    "BusinessEntityID": "224",
                                    "Information": "Scheduling Assistant"
                                },
                                {
                                    "BusinessEntityID": "225",
                                    "Information": "Scheduling Assistant"
                                },
                                {
                                    "BusinessEntityID": "226",
                                    "Information": "Scheduling Assistant"
                                },
                                {
                                    "BusinessEntityID": "227",
                                    "Information": "Facilities Manager"
                                },
                                {
                                    "BusinessEntityID": "228",
                                    "Information": "Maintenance Supervisor"
                                },
                                {
                                    "BusinessEntityID": "229",
                                    "Information": "Janitor"
                                },
                                {
                                    "BusinessEntityID": "230",
                                    "Information": "Janitor"
                                },
                                {
                                    "BusinessEntityID": "231",
                                    "Information": "Janitor"
                                },
                                {
                                    "BusinessEntityID": "232",
                                    "Information": "Janitor"
                                },
                                {
                                    "BusinessEntityID": "233",
                                    "Information": "Facilities Administrative Assistant"
                                },
                                {
                                    "BusinessEntityID": "234",
                                    "Information": "Chief Financial Officer"
                                },
                                {
                                    "BusinessEntityID": "235",
                                    "Information": "Human Resources Manager"
                                },
                                {
                                    "BusinessEntityID": "236",
                                    "Information": "Human Resources Administrative Assistant"
                                },
                                {
                                    "BusinessEntityID": "237",
                                    "Information": "Human Resources Administrative Assistant"
                                },
                                {
                                    "BusinessEntityID": "238",
                                    "Information": "Recruiter"
                                },
                                {
                                    "BusinessEntityID": "239",
                                    "Information": "Benefits Specialist"
                                },
                                {
                                    "BusinessEntityID": "240",
                                    "Information": "Recruiter"
                                },
                                {
                                    "BusinessEntityID": "241",
                                    "Information": "Accounts Manager"
                                },
                                {
                                    "BusinessEntityID": "242",
                                    "Information": "Accounts Receivable Specialist"
                                },
                                {
                                    "BusinessEntityID": "243",
                                    "Information": "Accounts Receivable Specialist"
                                },
                                {
                                    "BusinessEntityID": "244",
                                    "Information": "Accounts Receivable Specialist"
                                },
                                {
                                    "BusinessEntityID": "245",
                                    "Information": "Accountant"
                                },
                                {
                                    "BusinessEntityID": "246",
                                    "Information": "Accounts Payable Specialist"
                                },
                                {
                                    "BusinessEntityID": "247",
                                    "Information": "Accounts Payable Specialist"
                                },
                                {
                                    "BusinessEntityID": "248",
                                    "Information": "Accountant"
                                },
                                {
                                    "BusinessEntityID": "249",
                                    "Information": "Finance Manager"
                                },
                                {
                                    "BusinessEntityID": "250",
                                    "Information": "Purchasing Manager"
                                },
                                {
                                    "BusinessEntityID": "251",
                                    "Information": "Buyer"
                                },
                                {
                                    "BusinessEntityID": "252",
                                    "Information": "Buyer"
                                },
                                {
                                    "BusinessEntityID": "253",
                                    "Information": "Buyer"
                                },
                                {
                                    "BusinessEntityID": "254",
                                    "Information": "Buyer"
                                },
                                {
                                    "BusinessEntityID": "255",
                                    "Information": "Buyer"
                                },
                                {
                                    "BusinessEntityID": "256",
                                    "Information": "Buyer"
                                },
                                {
                                    "BusinessEntityID": "257",
                                    "Information": "Buyer"
                                },
                                {
                                    "BusinessEntityID": "258",
                                    "Information": "Buyer"
                                },
                                {
                                    "BusinessEntityID": "259",
                                    "Information": "Buyer"
                                },
                                {
                                    "BusinessEntityID": "260",
                                    "Information": "Purchasing Assistant"
                                },
                                {
                                    "BusinessEntityID": "261",
                                    "Information": "Purchasing Assistant"
                                },
                                {
                                    "BusinessEntityID": "262",
                                    "Information": "Assistant to the Chief Financial Officer"
                                },
                                {
                                    "BusinessEntityID": "263",
                                    "Information": "Information Services Manager"
                                },
                                {
                                    "BusinessEntityID": "264",
                                    "Information": "Network Manager"
                                },
                                {
                                    "BusinessEntityID": "265",
                                    "Information": "Network Administrator"
                                },
                                {
                                    "BusinessEntityID": "266",
                                    "Information": "Network Administrator"
                                },
                                {
                                    "BusinessEntityID": "267",
                                    "Information": "Application Specialist"
                                },
                                {
                                    "BusinessEntityID": "268",
                                    "Information": "Application Specialist"
                                },
                                {
                                    "BusinessEntityID": "269",
                                    "Information": "Application Specialist"
                                },
                                {
                                    "BusinessEntityID": "270",
                                    "Information": "Database Administrator"
                                },
                                {
                                    "BusinessEntityID": "271",
                                    "Information": "Database Administrator"
                                },
                                {
                                    "BusinessEntityID": "272",
                                    "Information": "Application Specialist"
                                },
                                {
                                    "BusinessEntityID": "273",
                                    "Information": "Vice President of Sales"
                                },
                                {
                                    "BusinessEntityID": "274",
                                    "Information": "North American Sales Manager"
                                },
                                {
                                    "BusinessEntityID": "275",
                                    "Information": "Sales Representative"
                                },
                                {
                                    "BusinessEntityID": "276",
                                    "Information": "Sales Representative"
                                },
                                {
                                    "BusinessEntityID": "277",
                                    "Information": "Sales Representative"
                                },
                                {
                                    "BusinessEntityID": "278",
                                    "Information": "Sales Representative"
                                },
                                {
                                    "BusinessEntityID": "279",
                                    "Information": "Sales Representative"
                                },
                                {
                                    "BusinessEntityID": "280",
                                    "Information": "Sales Representative"
                                },
                                {
                                    "BusinessEntityID": "281",
                                    "Information": "Sales Representative"
                                },
                                {
                                    "BusinessEntityID": "282",
                                    "Information": "Sales Representative"
                                },
                                {
                                    "BusinessEntityID": "283",
                                    "Information": "Sales Representative"
                                },
                                {
                                    "BusinessEntityID": "284",
                                    "Information": "Sales Representative"
                                },
                                {
                                    "BusinessEntityID": "285",
                                    "Information": "Pacific Sales Manager"
                                },
                                {
                                    "BusinessEntityID": "286",
                                    "Information": "Sales Representative"
                                },
                                {
                                    "BusinessEntityID": "287",
                                    "Information": "European Sales Manager"
                                },
                                {
                                    "BusinessEntityID": "288",
                                    "Information": "Sales Representative"
                                },
                                {
                                    "BusinessEntityID": "289",
                                    "Information": "Sales Representative"
                                },
                                {
                                    "BusinessEntityID": "290",
                                    "Information": "Sales Representative"
                                }
                            ]
                        },
                        "text/html": "<table><tr><th>BusinessEntityID</th><th>Information</th></tr><tr><td>1</td><td>Chief Executive Officer</td></tr><tr><td>1</td><td>Engineering</td></tr><tr><td>2</td><td>Tool Design</td></tr><tr><td>2</td><td>Vice President of Engineering</td></tr><tr><td>3</td><td>Engineering Manager</td></tr><tr><td>3</td><td>Sales</td></tr><tr><td>4</td><td>Marketing</td></tr><tr><td>4</td><td>Senior Tool Designer</td></tr><tr><td>5</td><td>Design Engineer</td></tr><tr><td>5</td><td>Purchasing</td></tr><tr><td>6</td><td>Design Engineer</td></tr><tr><td>6</td><td>Research and Development</td></tr><tr><td>7</td><td>Production</td></tr><tr><td>7</td><td>Research and Development Manager</td></tr><tr><td>8</td><td>Production Control</td></tr><tr><td>8</td><td>Research and Development Engineer</td></tr><tr><td>9</td><td>Human Resources</td></tr><tr><td>9</td><td>Research and Development Engineer</td></tr><tr><td>10</td><td>Finance</td></tr><tr><td>10</td><td>Research and Development Manager</td></tr><tr><td>11</td><td>Information Services</td></tr><tr><td>11</td><td>Senior Tool Designer</td></tr><tr><td>12</td><td>Document Control</td></tr><tr><td>12</td><td>Tool Designer</td></tr><tr><td>13</td><td>Quality Assurance</td></tr><tr><td>13</td><td>Tool Designer</td></tr><tr><td>14</td><td>Facilities and Maintenance</td></tr><tr><td>14</td><td>Senior Design Engineer</td></tr><tr><td>15</td><td>Design Engineer</td></tr><tr><td>15</td><td>Shipping and Receiving</td></tr><tr><td>16</td><td>Executive</td></tr><tr><td>16</td><td>Marketing Manager</td></tr><tr><td>17</td><td>Marketing Assistant</td></tr><tr><td>18</td><td>Marketing Specialist</td></tr><tr><td>19</td><td>Marketing Assistant</td></tr><tr><td>20</td><td>Marketing Assistant</td></tr><tr><td>21</td><td>Marketing Specialist</td></tr><tr><td>22</td><td>Marketing Specialist</td></tr><tr><td>23</td><td>Marketing Specialist</td></tr><tr><td>24</td><td>Marketing Specialist</td></tr><tr><td>25</td><td>Vice President of Production</td></tr><tr><td>26</td><td>Production Control Manager</td></tr><tr><td>27</td><td>Production Supervisor - WC60</td></tr><tr><td>28</td><td>Production Technician - WC60</td></tr><tr><td>29</td><td>Production Technician - WC60</td></tr><tr><td>30</td><td>Production Technician - WC60</td></tr><tr><td>31</td><td>Production Technician - WC60</td></tr><tr><td>32</td><td>Production Technician - WC60</td></tr><tr><td>33</td><td>Production Technician - WC60</td></tr><tr><td>34</td><td>Production Technician - WC60</td></tr><tr><td>35</td><td>Production Technician - WC60</td></tr><tr><td>36</td><td>Production Technician - WC60</td></tr><tr><td>37</td><td>Production Technician - WC60</td></tr><tr><td>38</td><td>Production Technician - WC60</td></tr><tr><td>39</td><td>Production Technician - WC60</td></tr><tr><td>40</td><td>Production Supervisor - WC60</td></tr><tr><td>41</td><td>Production Technician - WC60</td></tr><tr><td>42</td><td>Production Technician - WC60</td></tr><tr><td>43</td><td>Production Technician - WC60</td></tr><tr><td>44</td><td>Production Technician - WC60</td></tr><tr><td>45</td><td>Production Technician - WC60</td></tr><tr><td>46</td><td>Production Technician - WC60</td></tr><tr><td>47</td><td>Production Supervisor - WC10</td></tr><tr><td>48</td><td>Production Technician - WC10</td></tr><tr><td>49</td><td>Production Technician - WC10</td></tr><tr><td>50</td><td>Production Technician - WC10</td></tr><tr><td>51</td><td>Production Technician - WC10</td></tr><tr><td>52</td><td>Production Technician - WC10</td></tr><tr><td>53</td><td>Production Technician - WC10</td></tr><tr><td>54</td><td>Production Technician - WC10</td></tr><tr><td>55</td><td>Production Supervisor - WC50</td></tr><tr><td>56</td><td>Production Technician - WC50</td></tr><tr><td>57</td><td>Production Technician - WC50</td></tr><tr><td>58</td><td>Production Technician - WC50</td></tr><tr><td>59</td><td>Production Technician - WC50</td></tr><tr><td>60</td><td>Production Technician - WC50</td></tr><tr><td>61</td><td>Production Technician - WC50</td></tr><tr><td>62</td><td>Production Supervisor - WC60</td></tr><tr><td>63</td><td>Production Technician - WC60</td></tr><tr><td>64</td><td>Production Technician - WC60</td></tr><tr><td>65</td><td>Production Technician - WC60</td></tr><tr><td>66</td><td>Production Technician - WC60</td></tr><tr><td>67</td><td>Production Technician - WC60</td></tr><tr><td>68</td><td>Production Technician - WC60</td></tr><tr><td>69</td><td>Production Technician - WC60</td></tr><tr><td>70</td><td>Production Technician - WC60</td></tr><tr><td>71</td><td>Production Supervisor - WC30</td></tr><tr><td>72</td><td>Production Technician - WC30</td></tr><tr><td>73</td><td>Production Technician - WC30</td></tr><tr><td>74</td><td>Production Technician - WC30</td></tr><tr><td>75</td><td>Production Technician - WC30</td></tr><tr><td>76</td><td>Production Technician - WC30</td></tr><tr><td>77</td><td>Production Technician - WC30</td></tr><tr><td>78</td><td>Production Supervisor - WC40</td></tr><tr><td>79</td><td>Production Technician - WC40</td></tr><tr><td>80</td><td>Production Technician - WC40</td></tr><tr><td>81</td><td>Production Technician - WC40</td></tr><tr><td>82</td><td>Production Technician - WC40</td></tr><tr><td>83</td><td>Production Technician - WC40</td></tr><tr><td>84</td><td>Production Technician - WC40</td></tr><tr><td>85</td><td>Production Technician - WC40</td></tr><tr><td>86</td><td>Production Technician - WC40</td></tr><tr><td>87</td><td>Production Supervisor - WC10</td></tr><tr><td>88</td><td>Production Technician - WC10</td></tr><tr><td>89</td><td>Production Technician - WC10</td></tr><tr><td>90</td><td>Production Technician - WC10</td></tr><tr><td>91</td><td>Production Technician - WC10</td></tr><tr><td>92</td><td>Production Technician - WC10</td></tr><tr><td>93</td><td>Production Supervisor - WC50</td></tr><tr><td>94</td><td>Production Technician - WC50</td></tr><tr><td>95</td><td>Production Technician - WC50</td></tr><tr><td>96</td><td>Production Technician - WC50</td></tr><tr><td>97</td><td>Production Technician - WC50</td></tr><tr><td>98</td><td>Production Technician - WC50</td></tr><tr><td>99</td><td>Production Technician - WC50</td></tr><tr><td>100</td><td>Production Technician - WC50</td></tr><tr><td>101</td><td>Production Technician - WC50</td></tr><tr><td>102</td><td>Production Supervisor - WC10</td></tr><tr><td>103</td><td>Production Technician - WC10</td></tr><tr><td>104</td><td>Production Technician - WC10</td></tr><tr><td>105</td><td>Production Technician - WC10</td></tr><tr><td>106</td><td>Production Technician - WC10</td></tr><tr><td>107</td><td>Production Technician - WC10</td></tr><tr><td>108</td><td>Production Supervisor - WC50</td></tr><tr><td>109</td><td>Production Technician - WC50</td></tr><tr><td>110</td><td>Production Technician - WC50</td></tr><tr><td>111</td><td>Production Technician - WC50</td></tr><tr><td>112</td><td>Production Technician - WC50</td></tr><tr><td>113</td><td>Production Technician - WC50</td></tr><tr><td>114</td><td>Production Technician - WC50</td></tr><tr><td>115</td><td>Production Technician - WC50</td></tr><tr><td>116</td><td>Production Technician - WC50</td></tr><tr><td>117</td><td>Production Technician - WC50</td></tr><tr><td>118</td><td>Production Technician - WC50</td></tr><tr><td>119</td><td>Production Technician - WC50</td></tr><tr><td>120</td><td>Production Technician - WC50</td></tr><tr><td>121</td><td>Shipping and Receiving Supervisor</td></tr><tr><td>122</td><td>Stocker</td></tr><tr><td>123</td><td>Shipping and Receiving Clerk</td></tr><tr><td>124</td><td>Stocker</td></tr><tr><td>125</td><td>Shipping and Receiving Clerk</td></tr><tr><td>126</td><td>Stocker</td></tr><tr><td>127</td><td>Production Supervisor - WC40</td></tr><tr><td>128</td><td>Production Technician - WC40</td></tr><tr><td>129</td><td>Production Technician - WC40</td></tr><tr><td>130</td><td>Production Technician - WC40</td></tr><tr><td>131</td><td>Production Technician - WC40</td></tr><tr><td>132</td><td>Production Technician - WC40</td></tr><tr><td>133</td><td>Production Technician - WC40</td></tr><tr><td>134</td><td>Production Supervisor - WC20</td></tr><tr><td>135</td><td>Production Technician - WC20</td></tr><tr><td>136</td><td>Production Technician - WC20</td></tr><tr><td>137</td><td>Production Technician - WC20</td></tr><tr><td>138</td><td>Production Technician - WC20</td></tr><tr><td>139</td><td>Production Technician - WC20</td></tr><tr><td>140</td><td>Production Technician - WC20</td></tr><tr><td>141</td><td>Production Technician - WC20</td></tr><tr><td>142</td><td>Production Technician - WC20</td></tr><tr><td>143</td><td>Production Technician - WC20</td></tr><tr><td>144</td><td>Production Technician - WC20</td></tr><tr><td>145</td><td>Production Supervisor - WC30</td></tr><tr><td>146</td><td>Production Technician - WC30</td></tr><tr><td>147</td><td>Production Technician - WC30</td></tr><tr><td>148</td><td>Production Technician - WC30</td></tr><tr><td>149</td><td>Production Technician - WC30</td></tr><tr><td>150</td><td>Production Technician - WC30</td></tr><tr><td>151</td><td>Production Technician - WC30</td></tr><tr><td>152</td><td>Production Supervisor - WC20</td></tr><tr><td>153</td><td>Production Technician - WC20</td></tr><tr><td>154</td><td>Production Technician - WC20</td></tr><tr><td>155</td><td>Production Technician - WC20</td></tr><tr><td>156</td><td>Production Technician - WC20</td></tr><tr><td>157</td><td>Production Technician - WC20</td></tr><tr><td>158</td><td>Production Technician - WC20</td></tr><tr><td>159</td><td>Production Technician - WC20</td></tr><tr><td>160</td><td>Production Supervisor - WC45</td></tr><tr><td>161</td><td>Production Technician - WC45</td></tr><tr><td>162</td><td>Production Technician - WC45</td></tr><tr><td>163</td><td>Production Technician - WC45</td></tr><tr><td>164</td><td>Production Technician - WC45</td></tr><tr><td>165</td><td>Production Technician - WC45</td></tr><tr><td>166</td><td>Production Supervisor - WC30</td></tr><tr><td>167</td><td>Production Technician - WC30</td></tr><tr><td>168</td><td>Production Technician - WC30</td></tr><tr><td>169</td><td>Production Technician - WC30</td></tr><tr><td>170</td><td>Production Technician - WC30</td></tr><tr><td>171</td><td>Production Technician - WC30</td></tr><tr><td>172</td><td>Production Technician - WC30</td></tr><tr><td>173</td><td>Production Technician - WC30</td></tr><tr><td>174</td><td>Production Technician - WC30</td></tr><tr><td>175</td><td>Production Technician - WC30</td></tr><tr><td>176</td><td>Production Technician - WC30</td></tr><tr><td>177</td><td>Production Technician - WC30</td></tr><tr><td>178</td><td>Production Technician - WC30</td></tr><tr><td>179</td><td>Production Technician - WC30</td></tr><tr><td>180</td><td>Production Supervisor - WC20</td></tr><tr><td>181</td><td>Production Technician - WC20</td></tr><tr><td>182</td><td>Production Technician - WC20</td></tr><tr><td>183</td><td>Production Technician - WC20</td></tr><tr><td>184</td><td>Production Technician - WC20</td></tr><tr><td>185</td><td>Production Technician - WC20</td></tr><tr><td>186</td><td>Production Supervisor - WC45</td></tr><tr><td>187</td><td>Production Technician - WC45</td></tr><tr><td>188</td><td>Production Technician - WC45</td></tr><tr><td>189</td><td>Production Technician - WC45</td></tr><tr><td>190</td><td>Production Technician - WC45</td></tr><tr><td>191</td><td>Production Technician - WC45</td></tr><tr><td>192</td><td>Production Supervisor - WC40</td></tr><tr><td>193</td><td>Production Technician - WC40</td></tr><tr><td>194</td><td>Production Technician - WC40</td></tr><tr><td>195</td><td>Production Technician - WC40</td></tr><tr><td>196</td><td>Production Technician - WC40</td></tr><tr><td>197</td><td>Production Technician - WC40</td></tr><tr><td>198</td><td>Production Technician - WC40</td></tr><tr><td>199</td><td>Production Technician - WC40</td></tr><tr><td>200</td><td>Production Technician - WC40</td></tr><tr><td>201</td><td>Production Technician - WC40</td></tr><tr><td>202</td><td>Production Technician - WC40</td></tr><tr><td>203</td><td>Production Technician - WC40</td></tr><tr><td>204</td><td>Production Technician - WC40</td></tr><tr><td>205</td><td>Production Supervisor - WC45</td></tr><tr><td>206</td><td>Production Technician - WC45</td></tr><tr><td>207</td><td>Production Technician - WC45</td></tr><tr><td>208</td><td>Production Technician - WC45</td></tr><tr><td>209</td><td>Production Technician - WC45</td></tr><tr><td>210</td><td>Production Technician - WC45</td></tr><tr><td>211</td><td>Quality Assurance Manager</td></tr><tr><td>212</td><td>Quality Assurance Supervisor</td></tr><tr><td>213</td><td>Quality Assurance Technician</td></tr><tr><td>214</td><td>Quality Assurance Technician</td></tr><tr><td>215</td><td>Quality Assurance Technician</td></tr><tr><td>216</td><td>Quality Assurance Technician</td></tr><tr><td>217</td><td>Document Control Manager</td></tr><tr><td>218</td><td>Control Specialist</td></tr><tr><td>219</td><td>Document Control Assistant</td></tr><tr><td>220</td><td>Document Control Assistant</td></tr><tr><td>221</td><td>Control Specialist</td></tr><tr><td>222</td><td>Master Scheduler</td></tr><tr><td>223</td><td>Scheduling Assistant</td></tr><tr><td>224</td><td>Scheduling Assistant</td></tr><tr><td>225</td><td>Scheduling Assistant</td></tr><tr><td>226</td><td>Scheduling Assistant</td></tr><tr><td>227</td><td>Facilities Manager</td></tr><tr><td>228</td><td>Maintenance Supervisor</td></tr><tr><td>229</td><td>Janitor</td></tr><tr><td>230</td><td>Janitor</td></tr><tr><td>231</td><td>Janitor</td></tr><tr><td>232</td><td>Janitor</td></tr><tr><td>233</td><td>Facilities Administrative Assistant</td></tr><tr><td>234</td><td>Chief Financial Officer</td></tr><tr><td>235</td><td>Human Resources Manager</td></tr><tr><td>236</td><td>Human Resources Administrative Assistant</td></tr><tr><td>237</td><td>Human Resources Administrative Assistant</td></tr><tr><td>238</td><td>Recruiter</td></tr><tr><td>239</td><td>Benefits Specialist</td></tr><tr><td>240</td><td>Recruiter</td></tr><tr><td>241</td><td>Accounts Manager</td></tr><tr><td>242</td><td>Accounts Receivable Specialist</td></tr><tr><td>243</td><td>Accounts Receivable Specialist</td></tr><tr><td>244</td><td>Accounts Receivable Specialist</td></tr><tr><td>245</td><td>Accountant</td></tr><tr><td>246</td><td>Accounts Payable Specialist</td></tr><tr><td>247</td><td>Accounts Payable Specialist</td></tr><tr><td>248</td><td>Accountant</td></tr><tr><td>249</td><td>Finance Manager</td></tr><tr><td>250</td><td>Purchasing Manager</td></tr><tr><td>251</td><td>Buyer</td></tr><tr><td>252</td><td>Buyer</td></tr><tr><td>253</td><td>Buyer</td></tr><tr><td>254</td><td>Buyer</td></tr><tr><td>255</td><td>Buyer</td></tr><tr><td>256</td><td>Buyer</td></tr><tr><td>257</td><td>Buyer</td></tr><tr><td>258</td><td>Buyer</td></tr><tr><td>259</td><td>Buyer</td></tr><tr><td>260</td><td>Purchasing Assistant</td></tr><tr><td>261</td><td>Purchasing Assistant</td></tr><tr><td>262</td><td>Assistant to the Chief Financial Officer</td></tr><tr><td>263</td><td>Information Services Manager</td></tr><tr><td>264</td><td>Network Manager</td></tr><tr><td>265</td><td>Network Administrator</td></tr><tr><td>266</td><td>Network Administrator</td></tr><tr><td>267</td><td>Application Specialist</td></tr><tr><td>268</td><td>Application Specialist</td></tr><tr><td>269</td><td>Application Specialist</td></tr><tr><td>270</td><td>Database Administrator</td></tr><tr><td>271</td><td>Database Administrator</td></tr><tr><td>272</td><td>Application Specialist</td></tr><tr><td>273</td><td>Vice President of Sales</td></tr><tr><td>274</td><td>North American Sales Manager</td></tr><tr><td>275</td><td>Sales Representative</td></tr><tr><td>276</td><td>Sales Representative</td></tr><tr><td>277</td><td>Sales Representative</td></tr><tr><td>278</td><td>Sales Representative</td></tr><tr><td>279</td><td>Sales Representative</td></tr><tr><td>280</td><td>Sales Representative</td></tr><tr><td>281</td><td>Sales Representative</td></tr><tr><td>282</td><td>Sales Representative</td></tr><tr><td>283</td><td>Sales Representative</td></tr><tr><td>284</td><td>Sales Representative</td></tr><tr><td>285</td><td>Pacific Sales Manager</td></tr><tr><td>286</td><td>Sales Representative</td></tr><tr><td>287</td><td>European Sales Manager</td></tr><tr><td>288</td><td>Sales Representative</td></tr><tr><td>289</td><td>Sales Representative</td></tr><tr><td>290</td><td>Sales Representative</td></tr></table>"
                    },
                    "metadata": {}
                }
            ],
            "execution_count": 46
        },
        {
            "cell_type": "markdown",
            "source": [
                "# Propositions and Functional Specification - 6\n",
                "\n",
                "## 1. Query Proposition\n",
                "\n",
                "The purpose of this query is to identify customers in the **AdventureWorks2017** database who have not placed any orders outside the year 2023. It uses the `EXCEPT` clause to exclude customers who have made purchases before January 1, 2023, or after December 31, 2023.\n",
                "\n",
                "## 2. Functional Specification\n",
                "\n",
                "### Objective\n",
                "Retrieve a list of customers who only have orders placed within the year 2023, excluding those who have orders outside of this time range.\n",
                "\n",
                "### Inputs\n",
                "- **Database Tables**:\n",
                "  - `Sales.Customer`: Contains customer data, including `CustomerID`.\n",
                "  - `Sales.SalesOrderHeader`: Contains sales order details, including `CustomerID` and `OrderDate`.\n",
                "\n",
                "### Outputs\n",
                "- **Column**:\n",
                "  - `CustomerID`: The unique identifier of each customer who has only made orders within the year 2023.\n",
                "\n",
                "### Query Logic\n",
                "\n",
                "1. **Main Query**:\n",
                "   - Retrieves all `CustomerID` values from the `Sales.Customer` table.\n",
                "\n",
                "2. **Subquery with `EXCEPT`**:\n",
                "   - Uses the `EXCEPT` clause to exclude customers who have placed any orders before January 1, 2023, or after December 31, 2023.\n",
                "   - The subquery joins the `Sales.Customer` table with `Sales.SalesOrderHeader` to identify customers with orders outside the specified date range.\n",
                "\n",
                "3. **Result**:\n",
                "   - Returns a list of `CustomerID`s for customers who have exclusively placed orders during the year 2023, ensuring that no orders exist outside of this time frame.\n",
                "\n",
                "### Example Usage\n",
                "This query is useful for marketing and analytics teams looking to target customers who were active only in the year 2023. It helps in identifying customers with a concentrated purchasing activity within a specific period, which can be valuable for time-bound promotional campaigns or customer retention strategies.\n",
                "\n",
                "### Edge Cases\n",
                "- Customers who have never placed any orders will be included in the result set, as they do not have any orders outside the specified date range.\n",
                "- The query assumes that the `OrderDate` column is correctly populated with valid dates, and any errors in date recording could affect the accuracy of the results.\n",
                "\n",
                "### Assumptions\n",
                "- The `OrderDate` in `Sales.SalesOrderHeader` is in the format `YYYY-MM-DD`.\n",
                "- The query is run in the context of the `AdventureWorks2017` database, where `Sales.Customer` and `Sales.SalesOrderHeader` are valid tables with the necessary relationships.\n",
                "\n",
                ""
            ],
            "metadata": {
                "azdata_cell_guid": "efef70a3-78de-447c-b9d5-cdebafbc677a"
            },
            "attachments": {}
        },
        {
            "cell_type": "code",
            "source": [
                "USE AdventureWorks2017;\n",
                "\n",
                "SELECT C.CustomerID\n",
                "FROM Sales.Customer C\n",
                "\n",
                "EXCEPT\n",
                "\n",
                "SELECT C.CustomerID\n",
                "FROM Sales.Customer C\n",
                "JOIN Sales.SalesOrderHeader SOH ON C.CustomerID = SOH.CustomerID\n",
                "WHERE SOH.OrderDate < '2023-01-01' OR SOH.OrderDate > '2023-12-31';\n",
                "\n",
                ""
            ],
            "metadata": {
                "azdata_cell_guid": "a4ed2d95-785c-4946-876f-0dd83139e338",
                "language": "sql"
            },
            "outputs": [
                {
                    "output_type": "display_data",
                    "data": {
                        "text/html": "(701 rows affected)"
                    },
                    "metadata": {}
                },
                {
                    "output_type": "display_data",
                    "data": {
                        "text/html": "Total execution time: 00:00:00.051"
                    },
                    "metadata": {}
                },
                {
                    "output_type": "execute_result",
                    "metadata": {},
                    "execution_count": 4,
                    "data": {
                        "application/vnd.dataresource+json": {
                            "schema": {
                                "fields": [
                                    {
                                        "name": "CustomerID"
                                    }
                                ]
                            },
                            "data": [
                                {
                                    "CustomerID": "1"
                                },
                                {
                                    "CustomerID": "2"
                                },
                                {
                                    "CustomerID": "7"
                                },
                                {
                                    "CustomerID": "19"
                                },
                                {
                                    "CustomerID": "20"
                                },
                                {
                                    "CustomerID": "37"
                                },
                                {
                                    "CustomerID": "38"
                                },
                                {
                                    "CustomerID": "43"
                                },
                                {
                                    "CustomerID": "55"
                                },
                                {
                                    "CustomerID": "56"
                                },
                                {
                                    "CustomerID": "73"
                                },
                                {
                                    "CustomerID": "74"
                                },
                                {
                                    "CustomerID": "91"
                                },
                                {
                                    "CustomerID": "92"
                                },
                                {
                                    "CustomerID": "109"
                                },
                                {
                                    "CustomerID": "110"
                                },
                                {
                                    "CustomerID": "115"
                                },
                                {
                                    "CustomerID": "127"
                                },
                                {
                                    "CustomerID": "128"
                                },
                                {
                                    "CustomerID": "145"
                                },
                                {
                                    "CustomerID": "146"
                                },
                                {
                                    "CustomerID": "163"
                                },
                                {
                                    "CustomerID": "164"
                                },
                                {
                                    "CustomerID": "169"
                                },
                                {
                                    "CustomerID": "181"
                                },
                                {
                                    "CustomerID": "182"
                                },
                                {
                                    "CustomerID": "199"
                                },
                                {
                                    "CustomerID": "200"
                                },
                                {
                                    "CustomerID": "217"
                                },
                                {
                                    "CustomerID": "218"
                                },
                                {
                                    "CustomerID": "235"
                                },
                                {
                                    "CustomerID": "236"
                                },
                                {
                                    "CustomerID": "253"
                                },
                                {
                                    "CustomerID": "254"
                                },
                                {
                                    "CustomerID": "271"
                                },
                                {
                                    "CustomerID": "272"
                                },
                                {
                                    "CustomerID": "289"
                                },
                                {
                                    "CustomerID": "290"
                                },
                                {
                                    "CustomerID": "293"
                                },
                                {
                                    "CustomerID": "307"
                                },
                                {
                                    "CustomerID": "308"
                                },
                                {
                                    "CustomerID": "325"
                                },
                                {
                                    "CustomerID": "326"
                                },
                                {
                                    "CustomerID": "343"
                                },
                                {
                                    "CustomerID": "344"
                                },
                                {
                                    "CustomerID": "361"
                                },
                                {
                                    "CustomerID": "362"
                                },
                                {
                                    "CustomerID": "379"
                                },
                                {
                                    "CustomerID": "380"
                                },
                                {
                                    "CustomerID": "397"
                                },
                                {
                                    "CustomerID": "398"
                                },
                                {
                                    "CustomerID": "401"
                                },
                                {
                                    "CustomerID": "415"
                                },
                                {
                                    "CustomerID": "416"
                                },
                                {
                                    "CustomerID": "433"
                                },
                                {
                                    "CustomerID": "434"
                                },
                                {
                                    "CustomerID": "438"
                                },
                                {
                                    "CustomerID": "451"
                                },
                                {
                                    "CustomerID": "452"
                                },
                                {
                                    "CustomerID": "469"
                                },
                                {
                                    "CustomerID": "470"
                                },
                                {
                                    "CustomerID": "487"
                                },
                                {
                                    "CustomerID": "488"
                                },
                                {
                                    "CustomerID": "505"
                                },
                                {
                                    "CustomerID": "506"
                                },
                                {
                                    "CustomerID": "541"
                                },
                                {
                                    "CustomerID": "542"
                                },
                                {
                                    "CustomerID": "559"
                                },
                                {
                                    "CustomerID": "560"
                                },
                                {
                                    "CustomerID": "564"
                                },
                                {
                                    "CustomerID": "577"
                                },
                                {
                                    "CustomerID": "578"
                                },
                                {
                                    "CustomerID": "595"
                                },
                                {
                                    "CustomerID": "596"
                                },
                                {
                                    "CustomerID": "601"
                                },
                                {
                                    "CustomerID": "604"
                                },
                                {
                                    "CustomerID": "605"
                                },
                                {
                                    "CustomerID": "620"
                                },
                                {
                                    "CustomerID": "621"
                                },
                                {
                                    "CustomerID": "626"
                                },
                                {
                                    "CustomerID": "644"
                                },
                                {
                                    "CustomerID": "645"
                                },
                                {
                                    "CustomerID": "650"
                                },
                                {
                                    "CustomerID": "668"
                                },
                                {
                                    "CustomerID": "669"
                                },
                                {
                                    "CustomerID": "672"
                                },
                                {
                                    "CustomerID": "673"
                                },
                                {
                                    "CustomerID": "692"
                                },
                                {
                                    "CustomerID": "693"
                                },
                                {
                                    "CustomerID": "696"
                                },
                                {
                                    "CustomerID": "697"
                                },
                                {
                                    "CustomerID": "698"
                                },
                                {
                                    "CustomerID": "35"
                                },
                                {
                                    "CustomerID": "36"
                                },
                                {
                                    "CustomerID": "53"
                                },
                                {
                                    "CustomerID": "54"
                                },
                                {
                                    "CustomerID": "71"
                                },
                                {
                                    "CustomerID": "72"
                                },
                                {
                                    "CustomerID": "89"
                                },
                                {
                                    "CustomerID": "107"
                                },
                                {
                                    "CustomerID": "108"
                                },
                                {
                                    "CustomerID": "125"
                                },
                                {
                                    "CustomerID": "126"
                                },
                                {
                                    "CustomerID": "143"
                                },
                                {
                                    "CustomerID": "144"
                                },
                                {
                                    "CustomerID": "161"
                                },
                                {
                                    "CustomerID": "162"
                                },
                                {
                                    "CustomerID": "179"
                                },
                                {
                                    "CustomerID": "215"
                                },
                                {
                                    "CustomerID": "216"
                                },
                                {
                                    "CustomerID": "233"
                                },
                                {
                                    "CustomerID": "234"
                                },
                                {
                                    "CustomerID": "251"
                                },
                                {
                                    "CustomerID": "252"
                                },
                                {
                                    "CustomerID": "269"
                                },
                                {
                                    "CustomerID": "270"
                                },
                                {
                                    "CustomerID": "305"
                                },
                                {
                                    "CustomerID": "324"
                                },
                                {
                                    "CustomerID": "341"
                                },
                                {
                                    "CustomerID": "342"
                                },
                                {
                                    "CustomerID": "359"
                                },
                                {
                                    "CustomerID": "378"
                                },
                                {
                                    "CustomerID": "396"
                                },
                                {
                                    "CustomerID": "413"
                                },
                                {
                                    "CustomerID": "414"
                                },
                                {
                                    "CustomerID": "432"
                                },
                                {
                                    "CustomerID": "450"
                                },
                                {
                                    "CustomerID": "486"
                                },
                                {
                                    "CustomerID": "503"
                                },
                                {
                                    "CustomerID": "521"
                                },
                                {
                                    "CustomerID": "522"
                                },
                                {
                                    "CustomerID": "539"
                                },
                                {
                                    "CustomerID": "540"
                                },
                                {
                                    "CustomerID": "557"
                                },
                                {
                                    "CustomerID": "558"
                                },
                                {
                                    "CustomerID": "575"
                                },
                                {
                                    "CustomerID": "576"
                                },
                                {
                                    "CustomerID": "593"
                                },
                                {
                                    "CustomerID": "594"
                                },
                                {
                                    "CustomerID": "618"
                                },
                                {
                                    "CustomerID": "619"
                                },
                                {
                                    "CustomerID": "636"
                                },
                                {
                                    "CustomerID": "642"
                                },
                                {
                                    "CustomerID": "666"
                                },
                                {
                                    "CustomerID": "667"
                                },
                                {
                                    "CustomerID": "684"
                                },
                                {
                                    "CustomerID": "690"
                                },
                                {
                                    "CustomerID": "691"
                                },
                                {
                                    "CustomerID": "18"
                                },
                                {
                                    "CustomerID": "22"
                                },
                                {
                                    "CustomerID": "39"
                                },
                                {
                                    "CustomerID": "57"
                                },
                                {
                                    "CustomerID": "58"
                                },
                                {
                                    "CustomerID": "76"
                                },
                                {
                                    "CustomerID": "79"
                                },
                                {
                                    "CustomerID": "111"
                                },
                                {
                                    "CustomerID": "129"
                                },
                                {
                                    "CustomerID": "132"
                                },
                                {
                                    "CustomerID": "147"
                                },
                                {
                                    "CustomerID": "148"
                                },
                                {
                                    "CustomerID": "149"
                                },
                                {
                                    "CustomerID": "180"
                                },
                                {
                                    "CustomerID": "183"
                                },
                                {
                                    "CustomerID": "197"
                                },
                                {
                                    "CustomerID": "198"
                                },
                                {
                                    "CustomerID": "219"
                                },
                                {
                                    "CustomerID": "220"
                                },
                                {
                                    "CustomerID": "222"
                                },
                                {
                                    "CustomerID": "223"
                                },
                                {
                                    "CustomerID": "237"
                                },
                                {
                                    "CustomerID": "238"
                                },
                                {
                                    "CustomerID": "274"
                                },
                                {
                                    "CustomerID": "287"
                                },
                                {
                                    "CustomerID": "288"
                                },
                                {
                                    "CustomerID": "306"
                                },
                                {
                                    "CustomerID": "310"
                                },
                                {
                                    "CustomerID": "323"
                                },
                                {
                                    "CustomerID": "327"
                                },
                                {
                                    "CustomerID": "346"
                                },
                                {
                                    "CustomerID": "348"
                                },
                                {
                                    "CustomerID": "360"
                                },
                                {
                                    "CustomerID": "363"
                                },
                                {
                                    "CustomerID": "364"
                                },
                                {
                                    "CustomerID": "377"
                                },
                                {
                                    "CustomerID": "381"
                                },
                                {
                                    "CustomerID": "395"
                                },
                                {
                                    "CustomerID": "400"
                                },
                                {
                                    "CustomerID": "418"
                                },
                                {
                                    "CustomerID": "431"
                                },
                                {
                                    "CustomerID": "453"
                                },
                                {
                                    "CustomerID": "454"
                                },
                                {
                                    "CustomerID": "468"
                                },
                                {
                                    "CustomerID": "472"
                                },
                                {
                                    "CustomerID": "504"
                                },
                                {
                                    "CustomerID": "523"
                                },
                                {
                                    "CustomerID": "527"
                                },
                                {
                                    "CustomerID": "543"
                                },
                                {
                                    "CustomerID": "544"
                                },
                                {
                                    "CustomerID": "546"
                                },
                                {
                                    "CustomerID": "562"
                                },
                                {
                                    "CustomerID": "579"
                                },
                                {
                                    "CustomerID": "598"
                                },
                                {
                                    "CustomerID": "606"
                                },
                                {
                                    "CustomerID": "622"
                                },
                                {
                                    "CustomerID": "623"
                                },
                                {
                                    "CustomerID": "643"
                                },
                                {
                                    "CustomerID": "646"
                                },
                                {
                                    "CustomerID": "660"
                                },
                                {
                                    "CustomerID": "670"
                                },
                                {
                                    "CustomerID": "694"
                                },
                                {
                                    "CustomerID": "695"
                                },
                                {
                                    "CustomerID": "3"
                                },
                                {
                                    "CustomerID": "4"
                                },
                                {
                                    "CustomerID": "5"
                                },
                                {
                                    "CustomerID": "6"
                                },
                                {
                                    "CustomerID": "21"
                                },
                                {
                                    "CustomerID": "23"
                                },
                                {
                                    "CustomerID": "24"
                                },
                                {
                                    "CustomerID": "25"
                                },
                                {
                                    "CustomerID": "40"
                                },
                                {
                                    "CustomerID": "41"
                                },
                                {
                                    "CustomerID": "42"
                                },
                                {
                                    "CustomerID": "59"
                                },
                                {
                                    "CustomerID": "60"
                                },
                                {
                                    "CustomerID": "61"
                                },
                                {
                                    "CustomerID": "75"
                                },
                                {
                                    "CustomerID": "77"
                                },
                                {
                                    "CustomerID": "78"
                                },
                                {
                                    "CustomerID": "93"
                                },
                                {
                                    "CustomerID": "94"
                                },
                                {
                                    "CustomerID": "95"
                                },
                                {
                                    "CustomerID": "96"
                                },
                                {
                                    "CustomerID": "97"
                                },
                                {
                                    "CustomerID": "112"
                                },
                                {
                                    "CustomerID": "113"
                                },
                                {
                                    "CustomerID": "114"
                                },
                                {
                                    "CustomerID": "130"
                                },
                                {
                                    "CustomerID": "131"
                                },
                                {
                                    "CustomerID": "133"
                                },
                                {
                                    "CustomerID": "150"
                                },
                                {
                                    "CustomerID": "151"
                                },
                                {
                                    "CustomerID": "165"
                                },
                                {
                                    "CustomerID": "166"
                                },
                                {
                                    "CustomerID": "167"
                                },
                                {
                                    "CustomerID": "168"
                                },
                                {
                                    "CustomerID": "184"
                                },
                                {
                                    "CustomerID": "185"
                                },
                                {
                                    "CustomerID": "186"
                                },
                                {
                                    "CustomerID": "187"
                                },
                                {
                                    "CustomerID": "201"
                                },
                                {
                                    "CustomerID": "202"
                                },
                                {
                                    "CustomerID": "203"
                                },
                                {
                                    "CustomerID": "204"
                                },
                                {
                                    "CustomerID": "205"
                                },
                                {
                                    "CustomerID": "221"
                                },
                                {
                                    "CustomerID": "239"
                                },
                                {
                                    "CustomerID": "240"
                                },
                                {
                                    "CustomerID": "241"
                                },
                                {
                                    "CustomerID": "255"
                                },
                                {
                                    "CustomerID": "256"
                                },
                                {
                                    "CustomerID": "257"
                                },
                                {
                                    "CustomerID": "258"
                                },
                                {
                                    "CustomerID": "259"
                                },
                                {
                                    "CustomerID": "273"
                                },
                                {
                                    "CustomerID": "275"
                                },
                                {
                                    "CustomerID": "276"
                                },
                                {
                                    "CustomerID": "277"
                                },
                                {
                                    "CustomerID": "291"
                                },
                                {
                                    "CustomerID": "292"
                                },
                                {
                                    "CustomerID": "294"
                                },
                                {
                                    "CustomerID": "295"
                                },
                                {
                                    "CustomerID": "309"
                                },
                                {
                                    "CustomerID": "311"
                                },
                                {
                                    "CustomerID": "312"
                                },
                                {
                                    "CustomerID": "313"
                                },
                                {
                                    "CustomerID": "328"
                                },
                                {
                                    "CustomerID": "329"
                                },
                                {
                                    "CustomerID": "330"
                                },
                                {
                                    "CustomerID": "331"
                                },
                                {
                                    "CustomerID": "345"
                                },
                                {
                                    "CustomerID": "347"
                                },
                                {
                                    "CustomerID": "349"
                                },
                                {
                                    "CustomerID": "365"
                                },
                                {
                                    "CustomerID": "366"
                                },
                                {
                                    "CustomerID": "367"
                                },
                                {
                                    "CustomerID": "382"
                                },
                                {
                                    "CustomerID": "383"
                                },
                                {
                                    "CustomerID": "384"
                                },
                                {
                                    "CustomerID": "385"
                                },
                                {
                                    "CustomerID": "399"
                                },
                                {
                                    "CustomerID": "402"
                                },
                                {
                                    "CustomerID": "403"
                                },
                                {
                                    "CustomerID": "417"
                                },
                                {
                                    "CustomerID": "419"
                                },
                                {
                                    "CustomerID": "420"
                                },
                                {
                                    "CustomerID": "421"
                                },
                                {
                                    "CustomerID": "435"
                                },
                                {
                                    "CustomerID": "436"
                                },
                                {
                                    "CustomerID": "437"
                                },
                                {
                                    "CustomerID": "439"
                                },
                                {
                                    "CustomerID": "455"
                                },
                                {
                                    "CustomerID": "456"
                                },
                                {
                                    "CustomerID": "457"
                                },
                                {
                                    "CustomerID": "471"
                                },
                                {
                                    "CustomerID": "473"
                                },
                                {
                                    "CustomerID": "474"
                                },
                                {
                                    "CustomerID": "475"
                                },
                                {
                                    "CustomerID": "489"
                                },
                                {
                                    "CustomerID": "490"
                                },
                                {
                                    "CustomerID": "491"
                                },
                                {
                                    "CustomerID": "492"
                                },
                                {
                                    "CustomerID": "493"
                                },
                                {
                                    "CustomerID": "507"
                                },
                                {
                                    "CustomerID": "508"
                                },
                                {
                                    "CustomerID": "509"
                                },
                                {
                                    "CustomerID": "510"
                                },
                                {
                                    "CustomerID": "511"
                                },
                                {
                                    "CustomerID": "528"
                                },
                                {
                                    "CustomerID": "529"
                                },
                                {
                                    "CustomerID": "545"
                                },
                                {
                                    "CustomerID": "547"
                                },
                                {
                                    "CustomerID": "561"
                                },
                                {
                                    "CustomerID": "563"
                                },
                                {
                                    "CustomerID": "565"
                                },
                                {
                                    "CustomerID": "580"
                                },
                                {
                                    "CustomerID": "581"
                                },
                                {
                                    "CustomerID": "582"
                                },
                                {
                                    "CustomerID": "583"
                                },
                                {
                                    "CustomerID": "597"
                                },
                                {
                                    "CustomerID": "599"
                                },
                                {
                                    "CustomerID": "600"
                                },
                                {
                                    "CustomerID": "607"
                                },
                                {
                                    "CustomerID": "608"
                                },
                                {
                                    "CustomerID": "609"
                                },
                                {
                                    "CustomerID": "610"
                                },
                                {
                                    "CustomerID": "624"
                                },
                                {
                                    "CustomerID": "625"
                                },
                                {
                                    "CustomerID": "647"
                                },
                                {
                                    "CustomerID": "648"
                                },
                                {
                                    "CustomerID": "649"
                                },
                                {
                                    "CustomerID": "671"
                                },
                                {
                                    "CustomerID": "674"
                                },
                                {
                                    "CustomerID": "8"
                                },
                                {
                                    "CustomerID": "9"
                                },
                                {
                                    "CustomerID": "17"
                                },
                                {
                                    "CustomerID": "26"
                                },
                                {
                                    "CustomerID": "27"
                                },
                                {
                                    "CustomerID": "44"
                                },
                                {
                                    "CustomerID": "45"
                                },
                                {
                                    "CustomerID": "62"
                                },
                                {
                                    "CustomerID": "63"
                                },
                                {
                                    "CustomerID": "80"
                                },
                                {
                                    "CustomerID": "81"
                                },
                                {
                                    "CustomerID": "90"
                                },
                                {
                                    "CustomerID": "98"
                                },
                                {
                                    "CustomerID": "99"
                                },
                                {
                                    "CustomerID": "116"
                                },
                                {
                                    "CustomerID": "117"
                                },
                                {
                                    "CustomerID": "134"
                                },
                                {
                                    "CustomerID": "135"
                                },
                                {
                                    "CustomerID": "152"
                                },
                                {
                                    "CustomerID": "153"
                                },
                                {
                                    "CustomerID": "170"
                                },
                                {
                                    "CustomerID": "171"
                                },
                                {
                                    "CustomerID": "188"
                                },
                                {
                                    "CustomerID": "189"
                                },
                                {
                                    "CustomerID": "206"
                                },
                                {
                                    "CustomerID": "207"
                                },
                                {
                                    "CustomerID": "224"
                                },
                                {
                                    "CustomerID": "225"
                                },
                                {
                                    "CustomerID": "242"
                                },
                                {
                                    "CustomerID": "243"
                                },
                                {
                                    "CustomerID": "260"
                                },
                                {
                                    "CustomerID": "261"
                                },
                                {
                                    "CustomerID": "278"
                                },
                                {
                                    "CustomerID": "279"
                                },
                                {
                                    "CustomerID": "296"
                                },
                                {
                                    "CustomerID": "297"
                                },
                                {
                                    "CustomerID": "314"
                                },
                                {
                                    "CustomerID": "315"
                                },
                                {
                                    "CustomerID": "332"
                                },
                                {
                                    "CustomerID": "333"
                                },
                                {
                                    "CustomerID": "350"
                                },
                                {
                                    "CustomerID": "351"
                                },
                                {
                                    "CustomerID": "368"
                                },
                                {
                                    "CustomerID": "369"
                                },
                                {
                                    "CustomerID": "386"
                                },
                                {
                                    "CustomerID": "387"
                                },
                                {
                                    "CustomerID": "404"
                                },
                                {
                                    "CustomerID": "405"
                                },
                                {
                                    "CustomerID": "422"
                                },
                                {
                                    "CustomerID": "423"
                                },
                                {
                                    "CustomerID": "440"
                                },
                                {
                                    "CustomerID": "441"
                                },
                                {
                                    "CustomerID": "449"
                                },
                                {
                                    "CustomerID": "458"
                                },
                                {
                                    "CustomerID": "459"
                                },
                                {
                                    "CustomerID": "467"
                                },
                                {
                                    "CustomerID": "476"
                                },
                                {
                                    "CustomerID": "477"
                                },
                                {
                                    "CustomerID": "485"
                                },
                                {
                                    "CustomerID": "494"
                                },
                                {
                                    "CustomerID": "495"
                                },
                                {
                                    "CustomerID": "512"
                                },
                                {
                                    "CustomerID": "513"
                                },
                                {
                                    "CustomerID": "524"
                                },
                                {
                                    "CustomerID": "525"
                                },
                                {
                                    "CustomerID": "530"
                                },
                                {
                                    "CustomerID": "531"
                                },
                                {
                                    "CustomerID": "548"
                                },
                                {
                                    "CustomerID": "549"
                                },
                                {
                                    "CustomerID": "566"
                                },
                                {
                                    "CustomerID": "567"
                                },
                                {
                                    "CustomerID": "584"
                                },
                                {
                                    "CustomerID": "585"
                                },
                                {
                                    "CustomerID": "602"
                                },
                                {
                                    "CustomerID": "603"
                                },
                                {
                                    "CustomerID": "611"
                                },
                                {
                                    "CustomerID": "612"
                                },
                                {
                                    "CustomerID": "627"
                                },
                                {
                                    "CustomerID": "628"
                                },
                                {
                                    "CustomerID": "651"
                                },
                                {
                                    "CustomerID": "652"
                                },
                                {
                                    "CustomerID": "675"
                                },
                                {
                                    "CustomerID": "676"
                                },
                                {
                                    "CustomerID": "699"
                                },
                                {
                                    "CustomerID": "700"
                                },
                                {
                                    "CustomerID": "10"
                                },
                                {
                                    "CustomerID": "11"
                                },
                                {
                                    "CustomerID": "12"
                                },
                                {
                                    "CustomerID": "28"
                                },
                                {
                                    "CustomerID": "29"
                                },
                                {
                                    "CustomerID": "30"
                                },
                                {
                                    "CustomerID": "46"
                                },
                                {
                                    "CustomerID": "47"
                                },
                                {
                                    "CustomerID": "48"
                                },
                                {
                                    "CustomerID": "64"
                                },
                                {
                                    "CustomerID": "65"
                                },
                                {
                                    "CustomerID": "66"
                                },
                                {
                                    "CustomerID": "82"
                                },
                                {
                                    "CustomerID": "83"
                                },
                                {
                                    "CustomerID": "84"
                                },
                                {
                                    "CustomerID": "100"
                                },
                                {
                                    "CustomerID": "101"
                                },
                                {
                                    "CustomerID": "102"
                                },
                                {
                                    "CustomerID": "118"
                                },
                                {
                                    "CustomerID": "119"
                                },
                                {
                                    "CustomerID": "120"
                                },
                                {
                                    "CustomerID": "136"
                                },
                                {
                                    "CustomerID": "137"
                                },
                                {
                                    "CustomerID": "138"
                                },
                                {
                                    "CustomerID": "154"
                                },
                                {
                                    "CustomerID": "155"
                                },
                                {
                                    "CustomerID": "156"
                                },
                                {
                                    "CustomerID": "172"
                                },
                                {
                                    "CustomerID": "173"
                                },
                                {
                                    "CustomerID": "174"
                                },
                                {
                                    "CustomerID": "190"
                                },
                                {
                                    "CustomerID": "191"
                                },
                                {
                                    "CustomerID": "192"
                                },
                                {
                                    "CustomerID": "208"
                                },
                                {
                                    "CustomerID": "209"
                                },
                                {
                                    "CustomerID": "210"
                                },
                                {
                                    "CustomerID": "226"
                                },
                                {
                                    "CustomerID": "227"
                                },
                                {
                                    "CustomerID": "228"
                                },
                                {
                                    "CustomerID": "244"
                                },
                                {
                                    "CustomerID": "245"
                                },
                                {
                                    "CustomerID": "246"
                                },
                                {
                                    "CustomerID": "262"
                                },
                                {
                                    "CustomerID": "263"
                                },
                                {
                                    "CustomerID": "264"
                                },
                                {
                                    "CustomerID": "280"
                                },
                                {
                                    "CustomerID": "281"
                                },
                                {
                                    "CustomerID": "282"
                                },
                                {
                                    "CustomerID": "298"
                                },
                                {
                                    "CustomerID": "299"
                                },
                                {
                                    "CustomerID": "300"
                                },
                                {
                                    "CustomerID": "316"
                                },
                                {
                                    "CustomerID": "317"
                                },
                                {
                                    "CustomerID": "318"
                                },
                                {
                                    "CustomerID": "334"
                                },
                                {
                                    "CustomerID": "335"
                                },
                                {
                                    "CustomerID": "336"
                                },
                                {
                                    "CustomerID": "352"
                                },
                                {
                                    "CustomerID": "353"
                                },
                                {
                                    "CustomerID": "354"
                                },
                                {
                                    "CustomerID": "370"
                                },
                                {
                                    "CustomerID": "371"
                                },
                                {
                                    "CustomerID": "372"
                                },
                                {
                                    "CustomerID": "388"
                                },
                                {
                                    "CustomerID": "389"
                                },
                                {
                                    "CustomerID": "390"
                                },
                                {
                                    "CustomerID": "406"
                                },
                                {
                                    "CustomerID": "407"
                                },
                                {
                                    "CustomerID": "408"
                                },
                                {
                                    "CustomerID": "424"
                                },
                                {
                                    "CustomerID": "425"
                                },
                                {
                                    "CustomerID": "426"
                                },
                                {
                                    "CustomerID": "442"
                                },
                                {
                                    "CustomerID": "443"
                                },
                                {
                                    "CustomerID": "444"
                                },
                                {
                                    "CustomerID": "460"
                                },
                                {
                                    "CustomerID": "461"
                                },
                                {
                                    "CustomerID": "462"
                                },
                                {
                                    "CustomerID": "478"
                                },
                                {
                                    "CustomerID": "479"
                                },
                                {
                                    "CustomerID": "480"
                                },
                                {
                                    "CustomerID": "496"
                                },
                                {
                                    "CustomerID": "497"
                                },
                                {
                                    "CustomerID": "498"
                                },
                                {
                                    "CustomerID": "514"
                                },
                                {
                                    "CustomerID": "515"
                                },
                                {
                                    "CustomerID": "516"
                                },
                                {
                                    "CustomerID": "526"
                                },
                                {
                                    "CustomerID": "532"
                                },
                                {
                                    "CustomerID": "533"
                                },
                                {
                                    "CustomerID": "534"
                                },
                                {
                                    "CustomerID": "550"
                                },
                                {
                                    "CustomerID": "551"
                                },
                                {
                                    "CustomerID": "552"
                                },
                                {
                                    "CustomerID": "568"
                                },
                                {
                                    "CustomerID": "569"
                                },
                                {
                                    "CustomerID": "570"
                                },
                                {
                                    "CustomerID": "586"
                                },
                                {
                                    "CustomerID": "587"
                                },
                                {
                                    "CustomerID": "588"
                                },
                                {
                                    "CustomerID": "613"
                                },
                                {
                                    "CustomerID": "629"
                                },
                                {
                                    "CustomerID": "630"
                                },
                                {
                                    "CustomerID": "631"
                                },
                                {
                                    "CustomerID": "637"
                                },
                                {
                                    "CustomerID": "653"
                                },
                                {
                                    "CustomerID": "654"
                                },
                                {
                                    "CustomerID": "655"
                                },
                                {
                                    "CustomerID": "661"
                                },
                                {
                                    "CustomerID": "677"
                                },
                                {
                                    "CustomerID": "678"
                                },
                                {
                                    "CustomerID": "679"
                                },
                                {
                                    "CustomerID": "685"
                                },
                                {
                                    "CustomerID": "701"
                                },
                                {
                                    "CustomerID": "13"
                                },
                                {
                                    "CustomerID": "31"
                                },
                                {
                                    "CustomerID": "49"
                                },
                                {
                                    "CustomerID": "67"
                                },
                                {
                                    "CustomerID": "85"
                                },
                                {
                                    "CustomerID": "103"
                                },
                                {
                                    "CustomerID": "121"
                                },
                                {
                                    "CustomerID": "139"
                                },
                                {
                                    "CustomerID": "157"
                                },
                                {
                                    "CustomerID": "175"
                                },
                                {
                                    "CustomerID": "193"
                                },
                                {
                                    "CustomerID": "211"
                                },
                                {
                                    "CustomerID": "229"
                                },
                                {
                                    "CustomerID": "247"
                                },
                                {
                                    "CustomerID": "265"
                                },
                                {
                                    "CustomerID": "283"
                                },
                                {
                                    "CustomerID": "301"
                                },
                                {
                                    "CustomerID": "319"
                                },
                                {
                                    "CustomerID": "337"
                                },
                                {
                                    "CustomerID": "355"
                                },
                                {
                                    "CustomerID": "373"
                                },
                                {
                                    "CustomerID": "391"
                                },
                                {
                                    "CustomerID": "409"
                                },
                                {
                                    "CustomerID": "427"
                                },
                                {
                                    "CustomerID": "445"
                                },
                                {
                                    "CustomerID": "463"
                                },
                                {
                                    "CustomerID": "481"
                                },
                                {
                                    "CustomerID": "499"
                                },
                                {
                                    "CustomerID": "517"
                                },
                                {
                                    "CustomerID": "535"
                                },
                                {
                                    "CustomerID": "553"
                                },
                                {
                                    "CustomerID": "571"
                                },
                                {
                                    "CustomerID": "589"
                                },
                                {
                                    "CustomerID": "614"
                                },
                                {
                                    "CustomerID": "632"
                                },
                                {
                                    "CustomerID": "638"
                                },
                                {
                                    "CustomerID": "656"
                                },
                                {
                                    "CustomerID": "662"
                                },
                                {
                                    "CustomerID": "680"
                                },
                                {
                                    "CustomerID": "686"
                                },
                                {
                                    "CustomerID": "14"
                                },
                                {
                                    "CustomerID": "32"
                                },
                                {
                                    "CustomerID": "50"
                                },
                                {
                                    "CustomerID": "68"
                                },
                                {
                                    "CustomerID": "86"
                                },
                                {
                                    "CustomerID": "104"
                                },
                                {
                                    "CustomerID": "122"
                                },
                                {
                                    "CustomerID": "140"
                                },
                                {
                                    "CustomerID": "158"
                                },
                                {
                                    "CustomerID": "176"
                                },
                                {
                                    "CustomerID": "194"
                                },
                                {
                                    "CustomerID": "212"
                                },
                                {
                                    "CustomerID": "230"
                                },
                                {
                                    "CustomerID": "248"
                                },
                                {
                                    "CustomerID": "266"
                                },
                                {
                                    "CustomerID": "284"
                                },
                                {
                                    "CustomerID": "302"
                                },
                                {
                                    "CustomerID": "320"
                                },
                                {
                                    "CustomerID": "338"
                                },
                                {
                                    "CustomerID": "356"
                                },
                                {
                                    "CustomerID": "374"
                                },
                                {
                                    "CustomerID": "392"
                                },
                                {
                                    "CustomerID": "410"
                                },
                                {
                                    "CustomerID": "428"
                                },
                                {
                                    "CustomerID": "446"
                                },
                                {
                                    "CustomerID": "464"
                                },
                                {
                                    "CustomerID": "482"
                                },
                                {
                                    "CustomerID": "500"
                                },
                                {
                                    "CustomerID": "518"
                                },
                                {
                                    "CustomerID": "536"
                                },
                                {
                                    "CustomerID": "554"
                                },
                                {
                                    "CustomerID": "572"
                                },
                                {
                                    "CustomerID": "590"
                                },
                                {
                                    "CustomerID": "615"
                                },
                                {
                                    "CustomerID": "633"
                                },
                                {
                                    "CustomerID": "639"
                                },
                                {
                                    "CustomerID": "657"
                                },
                                {
                                    "CustomerID": "663"
                                },
                                {
                                    "CustomerID": "681"
                                },
                                {
                                    "CustomerID": "687"
                                },
                                {
                                    "CustomerID": "15"
                                },
                                {
                                    "CustomerID": "33"
                                },
                                {
                                    "CustomerID": "51"
                                },
                                {
                                    "CustomerID": "69"
                                },
                                {
                                    "CustomerID": "87"
                                },
                                {
                                    "CustomerID": "105"
                                },
                                {
                                    "CustomerID": "123"
                                },
                                {
                                    "CustomerID": "141"
                                },
                                {
                                    "CustomerID": "159"
                                },
                                {
                                    "CustomerID": "177"
                                },
                                {
                                    "CustomerID": "195"
                                },
                                {
                                    "CustomerID": "213"
                                },
                                {
                                    "CustomerID": "231"
                                },
                                {
                                    "CustomerID": "249"
                                },
                                {
                                    "CustomerID": "267"
                                },
                                {
                                    "CustomerID": "285"
                                },
                                {
                                    "CustomerID": "303"
                                },
                                {
                                    "CustomerID": "321"
                                },
                                {
                                    "CustomerID": "339"
                                },
                                {
                                    "CustomerID": "357"
                                },
                                {
                                    "CustomerID": "375"
                                },
                                {
                                    "CustomerID": "393"
                                },
                                {
                                    "CustomerID": "411"
                                },
                                {
                                    "CustomerID": "429"
                                },
                                {
                                    "CustomerID": "447"
                                },
                                {
                                    "CustomerID": "465"
                                },
                                {
                                    "CustomerID": "483"
                                },
                                {
                                    "CustomerID": "501"
                                },
                                {
                                    "CustomerID": "519"
                                },
                                {
                                    "CustomerID": "537"
                                },
                                {
                                    "CustomerID": "555"
                                },
                                {
                                    "CustomerID": "573"
                                },
                                {
                                    "CustomerID": "591"
                                },
                                {
                                    "CustomerID": "616"
                                },
                                {
                                    "CustomerID": "634"
                                },
                                {
                                    "CustomerID": "640"
                                },
                                {
                                    "CustomerID": "658"
                                },
                                {
                                    "CustomerID": "664"
                                },
                                {
                                    "CustomerID": "682"
                                },
                                {
                                    "CustomerID": "688"
                                },
                                {
                                    "CustomerID": "16"
                                },
                                {
                                    "CustomerID": "34"
                                },
                                {
                                    "CustomerID": "52"
                                },
                                {
                                    "CustomerID": "70"
                                },
                                {
                                    "CustomerID": "88"
                                },
                                {
                                    "CustomerID": "106"
                                },
                                {
                                    "CustomerID": "124"
                                },
                                {
                                    "CustomerID": "142"
                                },
                                {
                                    "CustomerID": "160"
                                },
                                {
                                    "CustomerID": "178"
                                },
                                {
                                    "CustomerID": "196"
                                },
                                {
                                    "CustomerID": "214"
                                },
                                {
                                    "CustomerID": "232"
                                },
                                {
                                    "CustomerID": "250"
                                },
                                {
                                    "CustomerID": "268"
                                },
                                {
                                    "CustomerID": "286"
                                },
                                {
                                    "CustomerID": "304"
                                },
                                {
                                    "CustomerID": "322"
                                },
                                {
                                    "CustomerID": "340"
                                },
                                {
                                    "CustomerID": "358"
                                },
                                {
                                    "CustomerID": "376"
                                },
                                {
                                    "CustomerID": "394"
                                },
                                {
                                    "CustomerID": "412"
                                },
                                {
                                    "CustomerID": "430"
                                },
                                {
                                    "CustomerID": "448"
                                },
                                {
                                    "CustomerID": "466"
                                },
                                {
                                    "CustomerID": "484"
                                },
                                {
                                    "CustomerID": "502"
                                },
                                {
                                    "CustomerID": "520"
                                },
                                {
                                    "CustomerID": "538"
                                },
                                {
                                    "CustomerID": "556"
                                },
                                {
                                    "CustomerID": "574"
                                },
                                {
                                    "CustomerID": "592"
                                },
                                {
                                    "CustomerID": "617"
                                },
                                {
                                    "CustomerID": "635"
                                },
                                {
                                    "CustomerID": "641"
                                },
                                {
                                    "CustomerID": "659"
                                },
                                {
                                    "CustomerID": "665"
                                },
                                {
                                    "CustomerID": "683"
                                },
                                {
                                    "CustomerID": "689"
                                }
                            ]
                        },
                        "text/html": [
                            "<table>",
                            "<tr><th>CustomerID</th></tr>",
                            "<tr><td>1</td></tr>",
                            "<tr><td>2</td></tr>",
                            "<tr><td>7</td></tr>",
                            "<tr><td>19</td></tr>",
                            "<tr><td>20</td></tr>",
                            "<tr><td>37</td></tr>",
                            "<tr><td>38</td></tr>",
                            "<tr><td>43</td></tr>",
                            "<tr><td>55</td></tr>",
                            "<tr><td>56</td></tr>",
                            "<tr><td>73</td></tr>",
                            "<tr><td>74</td></tr>",
                            "<tr><td>91</td></tr>",
                            "<tr><td>92</td></tr>",
                            "<tr><td>109</td></tr>",
                            "<tr><td>110</td></tr>",
                            "<tr><td>115</td></tr>",
                            "<tr><td>127</td></tr>",
                            "<tr><td>128</td></tr>",
                            "<tr><td>145</td></tr>",
                            "<tr><td>146</td></tr>",
                            "<tr><td>163</td></tr>",
                            "<tr><td>164</td></tr>",
                            "<tr><td>169</td></tr>",
                            "<tr><td>181</td></tr>",
                            "<tr><td>182</td></tr>",
                            "<tr><td>199</td></tr>",
                            "<tr><td>200</td></tr>",
                            "<tr><td>217</td></tr>",
                            "<tr><td>218</td></tr>",
                            "<tr><td>235</td></tr>",
                            "<tr><td>236</td></tr>",
                            "<tr><td>253</td></tr>",
                            "<tr><td>254</td></tr>",
                            "<tr><td>271</td></tr>",
                            "<tr><td>272</td></tr>",
                            "<tr><td>289</td></tr>",
                            "<tr><td>290</td></tr>",
                            "<tr><td>293</td></tr>",
                            "<tr><td>307</td></tr>",
                            "<tr><td>308</td></tr>",
                            "<tr><td>325</td></tr>",
                            "<tr><td>326</td></tr>",
                            "<tr><td>343</td></tr>",
                            "<tr><td>344</td></tr>",
                            "<tr><td>361</td></tr>",
                            "<tr><td>362</td></tr>",
                            "<tr><td>379</td></tr>",
                            "<tr><td>380</td></tr>",
                            "<tr><td>397</td></tr>",
                            "<tr><td>398</td></tr>",
                            "<tr><td>401</td></tr>",
                            "<tr><td>415</td></tr>",
                            "<tr><td>416</td></tr>",
                            "<tr><td>433</td></tr>",
                            "<tr><td>434</td></tr>",
                            "<tr><td>438</td></tr>",
                            "<tr><td>451</td></tr>",
                            "<tr><td>452</td></tr>",
                            "<tr><td>469</td></tr>",
                            "<tr><td>470</td></tr>",
                            "<tr><td>487</td></tr>",
                            "<tr><td>488</td></tr>",
                            "<tr><td>505</td></tr>",
                            "<tr><td>506</td></tr>",
                            "<tr><td>541</td></tr>",
                            "<tr><td>542</td></tr>",
                            "<tr><td>559</td></tr>",
                            "<tr><td>560</td></tr>",
                            "<tr><td>564</td></tr>",
                            "<tr><td>577</td></tr>",
                            "<tr><td>578</td></tr>",
                            "<tr><td>595</td></tr>",
                            "<tr><td>596</td></tr>",
                            "<tr><td>601</td></tr>",
                            "<tr><td>604</td></tr>",
                            "<tr><td>605</td></tr>",
                            "<tr><td>620</td></tr>",
                            "<tr><td>621</td></tr>",
                            "<tr><td>626</td></tr>",
                            "<tr><td>644</td></tr>",
                            "<tr><td>645</td></tr>",
                            "<tr><td>650</td></tr>",
                            "<tr><td>668</td></tr>",
                            "<tr><td>669</td></tr>",
                            "<tr><td>672</td></tr>",
                            "<tr><td>673</td></tr>",
                            "<tr><td>692</td></tr>",
                            "<tr><td>693</td></tr>",
                            "<tr><td>696</td></tr>",
                            "<tr><td>697</td></tr>",
                            "<tr><td>698</td></tr>",
                            "<tr><td>35</td></tr>",
                            "<tr><td>36</td></tr>",
                            "<tr><td>53</td></tr>",
                            "<tr><td>54</td></tr>",
                            "<tr><td>71</td></tr>",
                            "<tr><td>72</td></tr>",
                            "<tr><td>89</td></tr>",
                            "<tr><td>107</td></tr>",
                            "<tr><td>108</td></tr>",
                            "<tr><td>125</td></tr>",
                            "<tr><td>126</td></tr>",
                            "<tr><td>143</td></tr>",
                            "<tr><td>144</td></tr>",
                            "<tr><td>161</td></tr>",
                            "<tr><td>162</td></tr>",
                            "<tr><td>179</td></tr>",
                            "<tr><td>215</td></tr>",
                            "<tr><td>216</td></tr>",
                            "<tr><td>233</td></tr>",
                            "<tr><td>234</td></tr>",
                            "<tr><td>251</td></tr>",
                            "<tr><td>252</td></tr>",
                            "<tr><td>269</td></tr>",
                            "<tr><td>270</td></tr>",
                            "<tr><td>305</td></tr>",
                            "<tr><td>324</td></tr>",
                            "<tr><td>341</td></tr>",
                            "<tr><td>342</td></tr>",
                            "<tr><td>359</td></tr>",
                            "<tr><td>378</td></tr>",
                            "<tr><td>396</td></tr>",
                            "<tr><td>413</td></tr>",
                            "<tr><td>414</td></tr>",
                            "<tr><td>432</td></tr>",
                            "<tr><td>450</td></tr>",
                            "<tr><td>486</td></tr>",
                            "<tr><td>503</td></tr>",
                            "<tr><td>521</td></tr>",
                            "<tr><td>522</td></tr>",
                            "<tr><td>539</td></tr>",
                            "<tr><td>540</td></tr>",
                            "<tr><td>557</td></tr>",
                            "<tr><td>558</td></tr>",
                            "<tr><td>575</td></tr>",
                            "<tr><td>576</td></tr>",
                            "<tr><td>593</td></tr>",
                            "<tr><td>594</td></tr>",
                            "<tr><td>618</td></tr>",
                            "<tr><td>619</td></tr>",
                            "<tr><td>636</td></tr>",
                            "<tr><td>642</td></tr>",
                            "<tr><td>666</td></tr>",
                            "<tr><td>667</td></tr>",
                            "<tr><td>684</td></tr>",
                            "<tr><td>690</td></tr>",
                            "<tr><td>691</td></tr>",
                            "<tr><td>18</td></tr>",
                            "<tr><td>22</td></tr>",
                            "<tr><td>39</td></tr>",
                            "<tr><td>57</td></tr>",
                            "<tr><td>58</td></tr>",
                            "<tr><td>76</td></tr>",
                            "<tr><td>79</td></tr>",
                            "<tr><td>111</td></tr>",
                            "<tr><td>129</td></tr>",
                            "<tr><td>132</td></tr>",
                            "<tr><td>147</td></tr>",
                            "<tr><td>148</td></tr>",
                            "<tr><td>149</td></tr>",
                            "<tr><td>180</td></tr>",
                            "<tr><td>183</td></tr>",
                            "<tr><td>197</td></tr>",
                            "<tr><td>198</td></tr>",
                            "<tr><td>219</td></tr>",
                            "<tr><td>220</td></tr>",
                            "<tr><td>222</td></tr>",
                            "<tr><td>223</td></tr>",
                            "<tr><td>237</td></tr>",
                            "<tr><td>238</td></tr>",
                            "<tr><td>274</td></tr>",
                            "<tr><td>287</td></tr>",
                            "<tr><td>288</td></tr>",
                            "<tr><td>306</td></tr>",
                            "<tr><td>310</td></tr>",
                            "<tr><td>323</td></tr>",
                            "<tr><td>327</td></tr>",
                            "<tr><td>346</td></tr>",
                            "<tr><td>348</td></tr>",
                            "<tr><td>360</td></tr>",
                            "<tr><td>363</td></tr>",
                            "<tr><td>364</td></tr>",
                            "<tr><td>377</td></tr>",
                            "<tr><td>381</td></tr>",
                            "<tr><td>395</td></tr>",
                            "<tr><td>400</td></tr>",
                            "<tr><td>418</td></tr>",
                            "<tr><td>431</td></tr>",
                            "<tr><td>453</td></tr>",
                            "<tr><td>454</td></tr>",
                            "<tr><td>468</td></tr>",
                            "<tr><td>472</td></tr>",
                            "<tr><td>504</td></tr>",
                            "<tr><td>523</td></tr>",
                            "<tr><td>527</td></tr>",
                            "<tr><td>543</td></tr>",
                            "<tr><td>544</td></tr>",
                            "<tr><td>546</td></tr>",
                            "<tr><td>562</td></tr>",
                            "<tr><td>579</td></tr>",
                            "<tr><td>598</td></tr>",
                            "<tr><td>606</td></tr>",
                            "<tr><td>622</td></tr>",
                            "<tr><td>623</td></tr>",
                            "<tr><td>643</td></tr>",
                            "<tr><td>646</td></tr>",
                            "<tr><td>660</td></tr>",
                            "<tr><td>670</td></tr>",
                            "<tr><td>694</td></tr>",
                            "<tr><td>695</td></tr>",
                            "<tr><td>3</td></tr>",
                            "<tr><td>4</td></tr>",
                            "<tr><td>5</td></tr>",
                            "<tr><td>6</td></tr>",
                            "<tr><td>21</td></tr>",
                            "<tr><td>23</td></tr>",
                            "<tr><td>24</td></tr>",
                            "<tr><td>25</td></tr>",
                            "<tr><td>40</td></tr>",
                            "<tr><td>41</td></tr>",
                            "<tr><td>42</td></tr>",
                            "<tr><td>59</td></tr>",
                            "<tr><td>60</td></tr>",
                            "<tr><td>61</td></tr>",
                            "<tr><td>75</td></tr>",
                            "<tr><td>77</td></tr>",
                            "<tr><td>78</td></tr>",
                            "<tr><td>93</td></tr>",
                            "<tr><td>94</td></tr>",
                            "<tr><td>95</td></tr>",
                            "<tr><td>96</td></tr>",
                            "<tr><td>97</td></tr>",
                            "<tr><td>112</td></tr>",
                            "<tr><td>113</td></tr>",
                            "<tr><td>114</td></tr>",
                            "<tr><td>130</td></tr>",
                            "<tr><td>131</td></tr>",
                            "<tr><td>133</td></tr>",
                            "<tr><td>150</td></tr>",
                            "<tr><td>151</td></tr>",
                            "<tr><td>165</td></tr>",
                            "<tr><td>166</td></tr>",
                            "<tr><td>167</td></tr>",
                            "<tr><td>168</td></tr>",
                            "<tr><td>184</td></tr>",
                            "<tr><td>185</td></tr>",
                            "<tr><td>186</td></tr>",
                            "<tr><td>187</td></tr>",
                            "<tr><td>201</td></tr>",
                            "<tr><td>202</td></tr>",
                            "<tr><td>203</td></tr>",
                            "<tr><td>204</td></tr>",
                            "<tr><td>205</td></tr>",
                            "<tr><td>221</td></tr>",
                            "<tr><td>239</td></tr>",
                            "<tr><td>240</td></tr>",
                            "<tr><td>241</td></tr>",
                            "<tr><td>255</td></tr>",
                            "<tr><td>256</td></tr>",
                            "<tr><td>257</td></tr>",
                            "<tr><td>258</td></tr>",
                            "<tr><td>259</td></tr>",
                            "<tr><td>273</td></tr>",
                            "<tr><td>275</td></tr>",
                            "<tr><td>276</td></tr>",
                            "<tr><td>277</td></tr>",
                            "<tr><td>291</td></tr>",
                            "<tr><td>292</td></tr>",
                            "<tr><td>294</td></tr>",
                            "<tr><td>295</td></tr>",
                            "<tr><td>309</td></tr>",
                            "<tr><td>311</td></tr>",
                            "<tr><td>312</td></tr>",
                            "<tr><td>313</td></tr>",
                            "<tr><td>328</td></tr>",
                            "<tr><td>329</td></tr>",
                            "<tr><td>330</td></tr>",
                            "<tr><td>331</td></tr>",
                            "<tr><td>345</td></tr>",
                            "<tr><td>347</td></tr>",
                            "<tr><td>349</td></tr>",
                            "<tr><td>365</td></tr>",
                            "<tr><td>366</td></tr>",
                            "<tr><td>367</td></tr>",
                            "<tr><td>382</td></tr>",
                            "<tr><td>383</td></tr>",
                            "<tr><td>384</td></tr>",
                            "<tr><td>385</td></tr>",
                            "<tr><td>399</td></tr>",
                            "<tr><td>402</td></tr>",
                            "<tr><td>403</td></tr>",
                            "<tr><td>417</td></tr>",
                            "<tr><td>419</td></tr>",
                            "<tr><td>420</td></tr>",
                            "<tr><td>421</td></tr>",
                            "<tr><td>435</td></tr>",
                            "<tr><td>436</td></tr>",
                            "<tr><td>437</td></tr>",
                            "<tr><td>439</td></tr>",
                            "<tr><td>455</td></tr>",
                            "<tr><td>456</td></tr>",
                            "<tr><td>457</td></tr>",
                            "<tr><td>471</td></tr>",
                            "<tr><td>473</td></tr>",
                            "<tr><td>474</td></tr>",
                            "<tr><td>475</td></tr>",
                            "<tr><td>489</td></tr>",
                            "<tr><td>490</td></tr>",
                            "<tr><td>491</td></tr>",
                            "<tr><td>492</td></tr>",
                            "<tr><td>493</td></tr>",
                            "<tr><td>507</td></tr>",
                            "<tr><td>508</td></tr>",
                            "<tr><td>509</td></tr>",
                            "<tr><td>510</td></tr>",
                            "<tr><td>511</td></tr>",
                            "<tr><td>528</td></tr>",
                            "<tr><td>529</td></tr>",
                            "<tr><td>545</td></tr>",
                            "<tr><td>547</td></tr>",
                            "<tr><td>561</td></tr>",
                            "<tr><td>563</td></tr>",
                            "<tr><td>565</td></tr>",
                            "<tr><td>580</td></tr>",
                            "<tr><td>581</td></tr>",
                            "<tr><td>582</td></tr>",
                            "<tr><td>583</td></tr>",
                            "<tr><td>597</td></tr>",
                            "<tr><td>599</td></tr>",
                            "<tr><td>600</td></tr>",
                            "<tr><td>607</td></tr>",
                            "<tr><td>608</td></tr>",
                            "<tr><td>609</td></tr>",
                            "<tr><td>610</td></tr>",
                            "<tr><td>624</td></tr>",
                            "<tr><td>625</td></tr>",
                            "<tr><td>647</td></tr>",
                            "<tr><td>648</td></tr>",
                            "<tr><td>649</td></tr>",
                            "<tr><td>671</td></tr>",
                            "<tr><td>674</td></tr>",
                            "<tr><td>8</td></tr>",
                            "<tr><td>9</td></tr>",
                            "<tr><td>17</td></tr>",
                            "<tr><td>26</td></tr>",
                            "<tr><td>27</td></tr>",
                            "<tr><td>44</td></tr>",
                            "<tr><td>45</td></tr>",
                            "<tr><td>62</td></tr>",
                            "<tr><td>63</td></tr>",
                            "<tr><td>80</td></tr>",
                            "<tr><td>81</td></tr>",
                            "<tr><td>90</td></tr>",
                            "<tr><td>98</td></tr>",
                            "<tr><td>99</td></tr>",
                            "<tr><td>116</td></tr>",
                            "<tr><td>117</td></tr>",
                            "<tr><td>134</td></tr>",
                            "<tr><td>135</td></tr>",
                            "<tr><td>152</td></tr>",
                            "<tr><td>153</td></tr>",
                            "<tr><td>170</td></tr>",
                            "<tr><td>171</td></tr>",
                            "<tr><td>188</td></tr>",
                            "<tr><td>189</td></tr>",
                            "<tr><td>206</td></tr>",
                            "<tr><td>207</td></tr>",
                            "<tr><td>224</td></tr>",
                            "<tr><td>225</td></tr>",
                            "<tr><td>242</td></tr>",
                            "<tr><td>243</td></tr>",
                            "<tr><td>260</td></tr>",
                            "<tr><td>261</td></tr>",
                            "<tr><td>278</td></tr>",
                            "<tr><td>279</td></tr>",
                            "<tr><td>296</td></tr>",
                            "<tr><td>297</td></tr>",
                            "<tr><td>314</td></tr>",
                            "<tr><td>315</td></tr>",
                            "<tr><td>332</td></tr>",
                            "<tr><td>333</td></tr>",
                            "<tr><td>350</td></tr>",
                            "<tr><td>351</td></tr>",
                            "<tr><td>368</td></tr>",
                            "<tr><td>369</td></tr>",
                            "<tr><td>386</td></tr>",
                            "<tr><td>387</td></tr>",
                            "<tr><td>404</td></tr>",
                            "<tr><td>405</td></tr>",
                            "<tr><td>422</td></tr>",
                            "<tr><td>423</td></tr>",
                            "<tr><td>440</td></tr>",
                            "<tr><td>441</td></tr>",
                            "<tr><td>449</td></tr>",
                            "<tr><td>458</td></tr>",
                            "<tr><td>459</td></tr>",
                            "<tr><td>467</td></tr>",
                            "<tr><td>476</td></tr>",
                            "<tr><td>477</td></tr>",
                            "<tr><td>485</td></tr>",
                            "<tr><td>494</td></tr>",
                            "<tr><td>495</td></tr>",
                            "<tr><td>512</td></tr>",
                            "<tr><td>513</td></tr>",
                            "<tr><td>524</td></tr>",
                            "<tr><td>525</td></tr>",
                            "<tr><td>530</td></tr>",
                            "<tr><td>531</td></tr>",
                            "<tr><td>548</td></tr>",
                            "<tr><td>549</td></tr>",
                            "<tr><td>566</td></tr>",
                            "<tr><td>567</td></tr>",
                            "<tr><td>584</td></tr>",
                            "<tr><td>585</td></tr>",
                            "<tr><td>602</td></tr>",
                            "<tr><td>603</td></tr>",
                            "<tr><td>611</td></tr>",
                            "<tr><td>612</td></tr>",
                            "<tr><td>627</td></tr>",
                            "<tr><td>628</td></tr>",
                            "<tr><td>651</td></tr>",
                            "<tr><td>652</td></tr>",
                            "<tr><td>675</td></tr>",
                            "<tr><td>676</td></tr>",
                            "<tr><td>699</td></tr>",
                            "<tr><td>700</td></tr>",
                            "<tr><td>10</td></tr>",
                            "<tr><td>11</td></tr>",
                            "<tr><td>12</td></tr>",
                            "<tr><td>28</td></tr>",
                            "<tr><td>29</td></tr>",
                            "<tr><td>30</td></tr>",
                            "<tr><td>46</td></tr>",
                            "<tr><td>47</td></tr>",
                            "<tr><td>48</td></tr>",
                            "<tr><td>64</td></tr>",
                            "<tr><td>65</td></tr>",
                            "<tr><td>66</td></tr>",
                            "<tr><td>82</td></tr>",
                            "<tr><td>83</td></tr>",
                            "<tr><td>84</td></tr>",
                            "<tr><td>100</td></tr>",
                            "<tr><td>101</td></tr>",
                            "<tr><td>102</td></tr>",
                            "<tr><td>118</td></tr>",
                            "<tr><td>119</td></tr>",
                            "<tr><td>120</td></tr>",
                            "<tr><td>136</td></tr>",
                            "<tr><td>137</td></tr>",
                            "<tr><td>138</td></tr>",
                            "<tr><td>154</td></tr>",
                            "<tr><td>155</td></tr>",
                            "<tr><td>156</td></tr>",
                            "<tr><td>172</td></tr>",
                            "<tr><td>173</td></tr>",
                            "<tr><td>174</td></tr>",
                            "<tr><td>190</td></tr>",
                            "<tr><td>191</td></tr>",
                            "<tr><td>192</td></tr>",
                            "<tr><td>208</td></tr>",
                            "<tr><td>209</td></tr>",
                            "<tr><td>210</td></tr>",
                            "<tr><td>226</td></tr>",
                            "<tr><td>227</td></tr>",
                            "<tr><td>228</td></tr>",
                            "<tr><td>244</td></tr>",
                            "<tr><td>245</td></tr>",
                            "<tr><td>246</td></tr>",
                            "<tr><td>262</td></tr>",
                            "<tr><td>263</td></tr>",
                            "<tr><td>264</td></tr>",
                            "<tr><td>280</td></tr>",
                            "<tr><td>281</td></tr>",
                            "<tr><td>282</td></tr>",
                            "<tr><td>298</td></tr>",
                            "<tr><td>299</td></tr>",
                            "<tr><td>300</td></tr>",
                            "<tr><td>316</td></tr>",
                            "<tr><td>317</td></tr>",
                            "<tr><td>318</td></tr>",
                            "<tr><td>334</td></tr>",
                            "<tr><td>335</td></tr>",
                            "<tr><td>336</td></tr>",
                            "<tr><td>352</td></tr>",
                            "<tr><td>353</td></tr>",
                            "<tr><td>354</td></tr>",
                            "<tr><td>370</td></tr>",
                            "<tr><td>371</td></tr>",
                            "<tr><td>372</td></tr>",
                            "<tr><td>388</td></tr>",
                            "<tr><td>389</td></tr>",
                            "<tr><td>390</td></tr>",
                            "<tr><td>406</td></tr>",
                            "<tr><td>407</td></tr>",
                            "<tr><td>408</td></tr>",
                            "<tr><td>424</td></tr>",
                            "<tr><td>425</td></tr>",
                            "<tr><td>426</td></tr>",
                            "<tr><td>442</td></tr>",
                            "<tr><td>443</td></tr>",
                            "<tr><td>444</td></tr>",
                            "<tr><td>460</td></tr>",
                            "<tr><td>461</td></tr>",
                            "<tr><td>462</td></tr>",
                            "<tr><td>478</td></tr>",
                            "<tr><td>479</td></tr>",
                            "<tr><td>480</td></tr>",
                            "<tr><td>496</td></tr>",
                            "<tr><td>497</td></tr>",
                            "<tr><td>498</td></tr>",
                            "<tr><td>514</td></tr>",
                            "<tr><td>515</td></tr>",
                            "<tr><td>516</td></tr>",
                            "<tr><td>526</td></tr>",
                            "<tr><td>532</td></tr>",
                            "<tr><td>533</td></tr>",
                            "<tr><td>534</td></tr>",
                            "<tr><td>550</td></tr>",
                            "<tr><td>551</td></tr>",
                            "<tr><td>552</td></tr>",
                            "<tr><td>568</td></tr>",
                            "<tr><td>569</td></tr>",
                            "<tr><td>570</td></tr>",
                            "<tr><td>586</td></tr>",
                            "<tr><td>587</td></tr>",
                            "<tr><td>588</td></tr>",
                            "<tr><td>613</td></tr>",
                            "<tr><td>629</td></tr>",
                            "<tr><td>630</td></tr>",
                            "<tr><td>631</td></tr>",
                            "<tr><td>637</td></tr>",
                            "<tr><td>653</td></tr>",
                            "<tr><td>654</td></tr>",
                            "<tr><td>655</td></tr>",
                            "<tr><td>661</td></tr>",
                            "<tr><td>677</td></tr>",
                            "<tr><td>678</td></tr>",
                            "<tr><td>679</td></tr>",
                            "<tr><td>685</td></tr>",
                            "<tr><td>701</td></tr>",
                            "<tr><td>13</td></tr>",
                            "<tr><td>31</td></tr>",
                            "<tr><td>49</td></tr>",
                            "<tr><td>67</td></tr>",
                            "<tr><td>85</td></tr>",
                            "<tr><td>103</td></tr>",
                            "<tr><td>121</td></tr>",
                            "<tr><td>139</td></tr>",
                            "<tr><td>157</td></tr>",
                            "<tr><td>175</td></tr>",
                            "<tr><td>193</td></tr>",
                            "<tr><td>211</td></tr>",
                            "<tr><td>229</td></tr>",
                            "<tr><td>247</td></tr>",
                            "<tr><td>265</td></tr>",
                            "<tr><td>283</td></tr>",
                            "<tr><td>301</td></tr>",
                            "<tr><td>319</td></tr>",
                            "<tr><td>337</td></tr>",
                            "<tr><td>355</td></tr>",
                            "<tr><td>373</td></tr>",
                            "<tr><td>391</td></tr>",
                            "<tr><td>409</td></tr>",
                            "<tr><td>427</td></tr>",
                            "<tr><td>445</td></tr>",
                            "<tr><td>463</td></tr>",
                            "<tr><td>481</td></tr>",
                            "<tr><td>499</td></tr>",
                            "<tr><td>517</td></tr>",
                            "<tr><td>535</td></tr>",
                            "<tr><td>553</td></tr>",
                            "<tr><td>571</td></tr>",
                            "<tr><td>589</td></tr>",
                            "<tr><td>614</td></tr>",
                            "<tr><td>632</td></tr>",
                            "<tr><td>638</td></tr>",
                            "<tr><td>656</td></tr>",
                            "<tr><td>662</td></tr>",
                            "<tr><td>680</td></tr>",
                            "<tr><td>686</td></tr>",
                            "<tr><td>14</td></tr>",
                            "<tr><td>32</td></tr>",
                            "<tr><td>50</td></tr>",
                            "<tr><td>68</td></tr>",
                            "<tr><td>86</td></tr>",
                            "<tr><td>104</td></tr>",
                            "<tr><td>122</td></tr>",
                            "<tr><td>140</td></tr>",
                            "<tr><td>158</td></tr>",
                            "<tr><td>176</td></tr>",
                            "<tr><td>194</td></tr>",
                            "<tr><td>212</td></tr>",
                            "<tr><td>230</td></tr>",
                            "<tr><td>248</td></tr>",
                            "<tr><td>266</td></tr>",
                            "<tr><td>284</td></tr>",
                            "<tr><td>302</td></tr>",
                            "<tr><td>320</td></tr>",
                            "<tr><td>338</td></tr>",
                            "<tr><td>356</td></tr>",
                            "<tr><td>374</td></tr>",
                            "<tr><td>392</td></tr>",
                            "<tr><td>410</td></tr>",
                            "<tr><td>428</td></tr>",
                            "<tr><td>446</td></tr>",
                            "<tr><td>464</td></tr>",
                            "<tr><td>482</td></tr>",
                            "<tr><td>500</td></tr>",
                            "<tr><td>518</td></tr>",
                            "<tr><td>536</td></tr>",
                            "<tr><td>554</td></tr>",
                            "<tr><td>572</td></tr>",
                            "<tr><td>590</td></tr>",
                            "<tr><td>615</td></tr>",
                            "<tr><td>633</td></tr>",
                            "<tr><td>639</td></tr>",
                            "<tr><td>657</td></tr>",
                            "<tr><td>663</td></tr>",
                            "<tr><td>681</td></tr>",
                            "<tr><td>687</td></tr>",
                            "<tr><td>15</td></tr>",
                            "<tr><td>33</td></tr>",
                            "<tr><td>51</td></tr>",
                            "<tr><td>69</td></tr>",
                            "<tr><td>87</td></tr>",
                            "<tr><td>105</td></tr>",
                            "<tr><td>123</td></tr>",
                            "<tr><td>141</td></tr>",
                            "<tr><td>159</td></tr>",
                            "<tr><td>177</td></tr>",
                            "<tr><td>195</td></tr>",
                            "<tr><td>213</td></tr>",
                            "<tr><td>231</td></tr>",
                            "<tr><td>249</td></tr>",
                            "<tr><td>267</td></tr>",
                            "<tr><td>285</td></tr>",
                            "<tr><td>303</td></tr>",
                            "<tr><td>321</td></tr>",
                            "<tr><td>339</td></tr>",
                            "<tr><td>357</td></tr>",
                            "<tr><td>375</td></tr>",
                            "<tr><td>393</td></tr>",
                            "<tr><td>411</td></tr>",
                            "<tr><td>429</td></tr>",
                            "<tr><td>447</td></tr>",
                            "<tr><td>465</td></tr>",
                            "<tr><td>483</td></tr>",
                            "<tr><td>501</td></tr>",
                            "<tr><td>519</td></tr>",
                            "<tr><td>537</td></tr>",
                            "<tr><td>555</td></tr>",
                            "<tr><td>573</td></tr>",
                            "<tr><td>591</td></tr>",
                            "<tr><td>616</td></tr>",
                            "<tr><td>634</td></tr>",
                            "<tr><td>640</td></tr>",
                            "<tr><td>658</td></tr>",
                            "<tr><td>664</td></tr>",
                            "<tr><td>682</td></tr>",
                            "<tr><td>688</td></tr>",
                            "<tr><td>16</td></tr>",
                            "<tr><td>34</td></tr>",
                            "<tr><td>52</td></tr>",
                            "<tr><td>70</td></tr>",
                            "<tr><td>88</td></tr>",
                            "<tr><td>106</td></tr>",
                            "<tr><td>124</td></tr>",
                            "<tr><td>142</td></tr>",
                            "<tr><td>160</td></tr>",
                            "<tr><td>178</td></tr>",
                            "<tr><td>196</td></tr>",
                            "<tr><td>214</td></tr>",
                            "<tr><td>232</td></tr>",
                            "<tr><td>250</td></tr>",
                            "<tr><td>268</td></tr>",
                            "<tr><td>286</td></tr>",
                            "<tr><td>304</td></tr>",
                            "<tr><td>322</td></tr>",
                            "<tr><td>340</td></tr>",
                            "<tr><td>358</td></tr>",
                            "<tr><td>376</td></tr>",
                            "<tr><td>394</td></tr>",
                            "<tr><td>412</td></tr>",
                            "<tr><td>430</td></tr>",
                            "<tr><td>448</td></tr>",
                            "<tr><td>466</td></tr>",
                            "<tr><td>484</td></tr>",
                            "<tr><td>502</td></tr>",
                            "<tr><td>520</td></tr>",
                            "<tr><td>538</td></tr>",
                            "<tr><td>556</td></tr>",
                            "<tr><td>574</td></tr>",
                            "<tr><td>592</td></tr>",
                            "<tr><td>617</td></tr>",
                            "<tr><td>635</td></tr>",
                            "<tr><td>641</td></tr>",
                            "<tr><td>659</td></tr>",
                            "<tr><td>665</td></tr>",
                            "<tr><td>683</td></tr>",
                            "<tr><td>689</td></tr>",
                            "</table>"
                        ]
                    }
                }
            ],
            "execution_count": 4
        },
        {
            "cell_type": "markdown",
            "source": [
                "# Propositions and Functional Specification - 7\n",
                "\n",
                "## 1. Query Proposition\n",
                "\n",
                "This query retrieves information about both employees and vendors from the **AdventureWorks2017** database, combining their data into a single result set. The query aims to identify each as either an \"Employee\" or a \"Vendor\" and includes their respective names and unique identifiers.\n",
                "\n",
                "## 2. Functional Specification\n",
                "\n",
                "### Objective\n",
                "Retrieve a list of entities (employees and vendors) from the database, displaying their `BusinessEntityID`, full name, and entity type (either \"Employee\" or \"Vendor\").\n",
                "\n",
                "### Inputs\n",
                "- **Database**: AdventureWorks2017\n",
                "- **Tables**:\n",
                "  - `Person.Person` (as E): Contains personal information of employees and other individuals, including `BusinessEntityID`, `FirstName`, and `LastName`.\n",
                "  - `HumanResources.Employee` (as HE): Contains employee-specific data, including `BusinessEntityID`.\n",
                "  - `Purchasing.Vendor` (as V): Contains vendor-specific data, including `BusinessEntityID` and `Name`.\n",
                "  - `Person.BusinessEntity` (as BE): Serves as a parent table for entities in the database.\n",
                "\n",
                "### Outputs\n",
                "- **Columns**:\n",
                "  - `BusinessEntityID`: The unique identifier for each entity (employee or vendor).\n",
                "  - `Name`: \n",
                "    - For employees, it concatenates `FirstName` and `LastName`.\n",
                "    - For vendors, it displays the `Name` as stored in the `Vendor` table.\n",
                "  - `EntityType`: \n",
                "    - Displays \"Employee\" for entities coming from the `Person.Person` and `HumanResources.Employee` join.\n",
                "    - Displays \"Vendor\" for entities coming from the `Purchasing.Vendor` join.\n",
                "\n",
                "### Query Logic\n",
                "\n",
                "1. **UNION Operation**:\n",
                "   - Combines two result sets: one for employees and one for vendors.\n",
                "   - Ensures that both sets have the same structure: `BusinessEntityID`, `Name`, and `EntityType`.\n",
                "\n",
                "2. **First SELECT Statement** (Employees):\n",
                "   - Retrieves `BusinessEntityID` and concatenates `FirstName` and `LastName` into `Name`.\n",
                "   - Assigns \"Employee\" as `EntityType`.\n",
                "   - Joins `Person.Person` with `HumanResources.Employee` using `BusinessEntityID` to filter for employees.\n",
                "\n",
                "3. **Second SELECT Statement** (Vendors):\n",
                "   - Retrieves `BusinessEntityID` and `Name` directly from the `Purchasing.Vendor` table.\n",
                "   - Assigns \"Vendor\" as `EntityType`.\n",
                "   - Joins `Purchasing.Vendor` with `Person.BusinessEntity` using `BusinessEntityID` to filter for vendors.\n",
                "\n",
                "4. **Resulting Data Set**:\n",
                "   - A unified list of both employees and vendors with their IDs, names, and entity types.\n",
                "   - The `UNION` ensures that duplicate entities (if any) are removed from the final result.\n",
                "\n",
                "### Assumptions\n",
                "- Each `BusinessEntityID` uniquely identifies either an employee or a vendor.\n",
                "- Names for employees are constructed by combining `FirstName` and `LastName`, while vendors' names are directly taken from the `Vendor` table.\n",
                "- The `UNION` is used instead of `UNION ALL` to remove any potential duplicates, ensuring unique results.\n",
                "\n",
                "### Possible Use Cases\n",
                "- Generate reports that include both employees and vendors.\n",
                "- Analyze relationships between the company’s workforce and external vendors.\n",
                "- Facilitate a unified view of business entities for administrative purposes.\n",
                ""
            ],
            "metadata": {
                "azdata_cell_guid": "054835c8-f98d-46c2-8299-7c96e59105cc"
            },
            "attachments": {}
        },
        {
            "cell_type": "code",
            "source": [
                "USE AdventureWorks2017;\n",
                "\n",
                "SELECT E.BusinessEntityID,  E.FirstName + ' ' + E.LastName AS Name, \n",
                "       'Employee' AS EntityType\n",
                "FROM Person.Person E\n",
                "JOIN HumanResources.Employee HE ON E.BusinessEntityID = HE.BusinessEntityID\n",
                "\n",
                "UNION\n",
                "\n",
                "SELECT V.BusinessEntityID, \n",
                "       V.Name AS Name, \n",
                "       'Vendor' AS EntityType\n",
                "FROM Purchasing.Vendor V\n",
                "JOIN Person.BusinessEntity BE ON V.BusinessEntityID = BE.BusinessEntityID;\n",
                ""
            ],
            "metadata": {
                "azdata_cell_guid": "8a800bc2-8e3f-46ef-8508-334fc06cdc71",
                "language": "sql"
            },
            "outputs": [
                {
                    "output_type": "display_data",
                    "data": {
                        "text/html": "(394 rows affected)"
                    },
                    "metadata": {}
                },
                {
                    "output_type": "display_data",
                    "data": {
                        "text/html": "Total execution time: 00:00:00.053"
                    },
                    "metadata": {}
                },
                {
                    "output_type": "execute_result",
                    "metadata": {},
                    "execution_count": 5,
                    "data": {
                        "application/vnd.dataresource+json": {
                            "schema": {
                                "fields": [
                                    {
                                        "name": "BusinessEntityID"
                                    },
                                    {
                                        "name": "Name"
                                    },
                                    {
                                        "name": "EntityType"
                                    }
                                ]
                            },
                            "data": [
                                {
                                    "BusinessEntityID": "1",
                                    "Name": "Ken Sánchez",
                                    "EntityType": "Employee"
                                },
                                {
                                    "BusinessEntityID": "2",
                                    "Name": "Terri Duffy",
                                    "EntityType": "Employee"
                                },
                                {
                                    "BusinessEntityID": "3",
                                    "Name": "Roberto Tamburello",
                                    "EntityType": "Employee"
                                },
                                {
                                    "BusinessEntityID": "4",
                                    "Name": "Rob Walters",
                                    "EntityType": "Employee"
                                },
                                {
                                    "BusinessEntityID": "5",
                                    "Name": "Gail Erickson",
                                    "EntityType": "Employee"
                                },
                                {
                                    "BusinessEntityID": "6",
                                    "Name": "Jossef Goldberg",
                                    "EntityType": "Employee"
                                },
                                {
                                    "BusinessEntityID": "7",
                                    "Name": "Dylan Miller",
                                    "EntityType": "Employee"
                                },
                                {
                                    "BusinessEntityID": "8",
                                    "Name": "Diane Margheim",
                                    "EntityType": "Employee"
                                },
                                {
                                    "BusinessEntityID": "9",
                                    "Name": "Gigi Matthew",
                                    "EntityType": "Employee"
                                },
                                {
                                    "BusinessEntityID": "10",
                                    "Name": "Michael Raheem",
                                    "EntityType": "Employee"
                                },
                                {
                                    "BusinessEntityID": "11",
                                    "Name": "Ovidiu Cracium",
                                    "EntityType": "Employee"
                                },
                                {
                                    "BusinessEntityID": "12",
                                    "Name": "Thierry D'Hers",
                                    "EntityType": "Employee"
                                },
                                {
                                    "BusinessEntityID": "13",
                                    "Name": "Janice Galvin",
                                    "EntityType": "Employee"
                                },
                                {
                                    "BusinessEntityID": "14",
                                    "Name": "Michael Sullivan",
                                    "EntityType": "Employee"
                                },
                                {
                                    "BusinessEntityID": "15",
                                    "Name": "Sharon Salavaria",
                                    "EntityType": "Employee"
                                },
                                {
                                    "BusinessEntityID": "16",
                                    "Name": "David Bradley",
                                    "EntityType": "Employee"
                                },
                                {
                                    "BusinessEntityID": "17",
                                    "Name": "Kevin Brown",
                                    "EntityType": "Employee"
                                },
                                {
                                    "BusinessEntityID": "18",
                                    "Name": "John Wood",
                                    "EntityType": "Employee"
                                },
                                {
                                    "BusinessEntityID": "19",
                                    "Name": "Mary Dempsey",
                                    "EntityType": "Employee"
                                },
                                {
                                    "BusinessEntityID": "20",
                                    "Name": "Wanida Benshoof",
                                    "EntityType": "Employee"
                                },
                                {
                                    "BusinessEntityID": "21",
                                    "Name": "Terry Eminhizer",
                                    "EntityType": "Employee"
                                },
                                {
                                    "BusinessEntityID": "22",
                                    "Name": "Sariya Harnpadoungsataya",
                                    "EntityType": "Employee"
                                },
                                {
                                    "BusinessEntityID": "23",
                                    "Name": "Mary Gibson",
                                    "EntityType": "Employee"
                                },
                                {
                                    "BusinessEntityID": "24",
                                    "Name": "Jill Williams",
                                    "EntityType": "Employee"
                                },
                                {
                                    "BusinessEntityID": "25",
                                    "Name": "James Hamilton",
                                    "EntityType": "Employee"
                                },
                                {
                                    "BusinessEntityID": "26",
                                    "Name": "Peter Krebs",
                                    "EntityType": "Employee"
                                },
                                {
                                    "BusinessEntityID": "27",
                                    "Name": "Jo Brown",
                                    "EntityType": "Employee"
                                },
                                {
                                    "BusinessEntityID": "28",
                                    "Name": "Guy Gilbert",
                                    "EntityType": "Employee"
                                },
                                {
                                    "BusinessEntityID": "29",
                                    "Name": "Mark McArthur",
                                    "EntityType": "Employee"
                                },
                                {
                                    "BusinessEntityID": "30",
                                    "Name": "Britta Simon",
                                    "EntityType": "Employee"
                                },
                                {
                                    "BusinessEntityID": "31",
                                    "Name": "Margie Shoop",
                                    "EntityType": "Employee"
                                },
                                {
                                    "BusinessEntityID": "32",
                                    "Name": "Rebecca Laszlo",
                                    "EntityType": "Employee"
                                },
                                {
                                    "BusinessEntityID": "33",
                                    "Name": "Annik Stahl",
                                    "EntityType": "Employee"
                                },
                                {
                                    "BusinessEntityID": "34",
                                    "Name": "Suchitra Mohan",
                                    "EntityType": "Employee"
                                },
                                {
                                    "BusinessEntityID": "35",
                                    "Name": "Brandon Heidepriem",
                                    "EntityType": "Employee"
                                },
                                {
                                    "BusinessEntityID": "36",
                                    "Name": "Jose Lugo",
                                    "EntityType": "Employee"
                                },
                                {
                                    "BusinessEntityID": "37",
                                    "Name": "Chris Okelberry",
                                    "EntityType": "Employee"
                                },
                                {
                                    "BusinessEntityID": "38",
                                    "Name": "Kim Abercrombie",
                                    "EntityType": "Employee"
                                },
                                {
                                    "BusinessEntityID": "39",
                                    "Name": "Ed Dudenhoefer",
                                    "EntityType": "Employee"
                                },
                                {
                                    "BusinessEntityID": "40",
                                    "Name": "JoLynn Dobney",
                                    "EntityType": "Employee"
                                },
                                {
                                    "BusinessEntityID": "41",
                                    "Name": "Bryan Baker",
                                    "EntityType": "Employee"
                                },
                                {
                                    "BusinessEntityID": "42",
                                    "Name": "James Kramer",
                                    "EntityType": "Employee"
                                },
                                {
                                    "BusinessEntityID": "43",
                                    "Name": "Nancy Anderson",
                                    "EntityType": "Employee"
                                },
                                {
                                    "BusinessEntityID": "44",
                                    "Name": "Simon Rapier",
                                    "EntityType": "Employee"
                                },
                                {
                                    "BusinessEntityID": "45",
                                    "Name": "Thomas Michaels",
                                    "EntityType": "Employee"
                                },
                                {
                                    "BusinessEntityID": "46",
                                    "Name": "Eugene Kogan",
                                    "EntityType": "Employee"
                                },
                                {
                                    "BusinessEntityID": "47",
                                    "Name": "Andrew Hill",
                                    "EntityType": "Employee"
                                },
                                {
                                    "BusinessEntityID": "48",
                                    "Name": "Ruth Ellerbrock",
                                    "EntityType": "Employee"
                                },
                                {
                                    "BusinessEntityID": "49",
                                    "Name": "Barry Johnson",
                                    "EntityType": "Employee"
                                },
                                {
                                    "BusinessEntityID": "50",
                                    "Name": "Sidney Higa",
                                    "EntityType": "Employee"
                                },
                                {
                                    "BusinessEntityID": "51",
                                    "Name": "Jeffrey Ford",
                                    "EntityType": "Employee"
                                },
                                {
                                    "BusinessEntityID": "52",
                                    "Name": "Doris Hartwig",
                                    "EntityType": "Employee"
                                },
                                {
                                    "BusinessEntityID": "53",
                                    "Name": "Diane Glimp",
                                    "EntityType": "Employee"
                                },
                                {
                                    "BusinessEntityID": "54",
                                    "Name": "Bonnie Kearney",
                                    "EntityType": "Employee"
                                },
                                {
                                    "BusinessEntityID": "55",
                                    "Name": "Taylor Maxwell",
                                    "EntityType": "Employee"
                                },
                                {
                                    "BusinessEntityID": "56",
                                    "Name": "Denise Smith",
                                    "EntityType": "Employee"
                                },
                                {
                                    "BusinessEntityID": "57",
                                    "Name": "Frank Miller",
                                    "EntityType": "Employee"
                                },
                                {
                                    "BusinessEntityID": "58",
                                    "Name": "Kendall Keil",
                                    "EntityType": "Employee"
                                },
                                {
                                    "BusinessEntityID": "59",
                                    "Name": "Bob Hohman",
                                    "EntityType": "Employee"
                                },
                                {
                                    "BusinessEntityID": "60",
                                    "Name": "Pete Male",
                                    "EntityType": "Employee"
                                },
                                {
                                    "BusinessEntityID": "61",
                                    "Name": "Diane Tibbott",
                                    "EntityType": "Employee"
                                },
                                {
                                    "BusinessEntityID": "62",
                                    "Name": "John Campbell",
                                    "EntityType": "Employee"
                                },
                                {
                                    "BusinessEntityID": "63",
                                    "Name": "Maciej Dusza",
                                    "EntityType": "Employee"
                                },
                                {
                                    "BusinessEntityID": "64",
                                    "Name": "Michael Zwilling",
                                    "EntityType": "Employee"
                                },
                                {
                                    "BusinessEntityID": "65",
                                    "Name": "Randy Reeves",
                                    "EntityType": "Employee"
                                },
                                {
                                    "BusinessEntityID": "66",
                                    "Name": "Karan Khanna",
                                    "EntityType": "Employee"
                                },
                                {
                                    "BusinessEntityID": "67",
                                    "Name": "Jay Adams",
                                    "EntityType": "Employee"
                                },
                                {
                                    "BusinessEntityID": "68",
                                    "Name": "Charles Fitzgerald",
                                    "EntityType": "Employee"
                                },
                                {
                                    "BusinessEntityID": "69",
                                    "Name": "Steve Masters",
                                    "EntityType": "Employee"
                                },
                                {
                                    "BusinessEntityID": "70",
                                    "Name": "David Ortiz",
                                    "EntityType": "Employee"
                                },
                                {
                                    "BusinessEntityID": "71",
                                    "Name": "Michael Ray",
                                    "EntityType": "Employee"
                                },
                                {
                                    "BusinessEntityID": "72",
                                    "Name": "Steven Selikoff",
                                    "EntityType": "Employee"
                                },
                                {
                                    "BusinessEntityID": "73",
                                    "Name": "Carole Poland",
                                    "EntityType": "Employee"
                                },
                                {
                                    "BusinessEntityID": "74",
                                    "Name": "Bjorn Rettig",
                                    "EntityType": "Employee"
                                },
                                {
                                    "BusinessEntityID": "75",
                                    "Name": "Michiko Osada",
                                    "EntityType": "Employee"
                                },
                                {
                                    "BusinessEntityID": "76",
                                    "Name": "Carol Philips",
                                    "EntityType": "Employee"
                                },
                                {
                                    "BusinessEntityID": "77",
                                    "Name": "Merav Netz",
                                    "EntityType": "Employee"
                                },
                                {
                                    "BusinessEntityID": "78",
                                    "Name": "Reuben D'sa",
                                    "EntityType": "Employee"
                                },
                                {
                                    "BusinessEntityID": "79",
                                    "Name": "Eric Brown",
                                    "EntityType": "Employee"
                                },
                                {
                                    "BusinessEntityID": "80",
                                    "Name": "Sandeep Kaliyath",
                                    "EntityType": "Employee"
                                },
                                {
                                    "BusinessEntityID": "81",
                                    "Name": "Mihail Frintu",
                                    "EntityType": "Employee"
                                },
                                {
                                    "BusinessEntityID": "82",
                                    "Name": "Jack Creasey",
                                    "EntityType": "Employee"
                                },
                                {
                                    "BusinessEntityID": "83",
                                    "Name": "Patrick Cook",
                                    "EntityType": "Employee"
                                },
                                {
                                    "BusinessEntityID": "84",
                                    "Name": "Frank Martinez",
                                    "EntityType": "Employee"
                                },
                                {
                                    "BusinessEntityID": "85",
                                    "Name": "Brian Goldstein",
                                    "EntityType": "Employee"
                                },
                                {
                                    "BusinessEntityID": "86",
                                    "Name": "Ryan Cornelsen",
                                    "EntityType": "Employee"
                                },
                                {
                                    "BusinessEntityID": "87",
                                    "Name": "Cristian Petculescu",
                                    "EntityType": "Employee"
                                },
                                {
                                    "BusinessEntityID": "88",
                                    "Name": "Betsy Stadick",
                                    "EntityType": "Employee"
                                },
                                {
                                    "BusinessEntityID": "89",
                                    "Name": "Patrick Wedge",
                                    "EntityType": "Employee"
                                },
                                {
                                    "BusinessEntityID": "90",
                                    "Name": "Danielle Tiedt",
                                    "EntityType": "Employee"
                                },
                                {
                                    "BusinessEntityID": "91",
                                    "Name": "Kimberly Zimmerman",
                                    "EntityType": "Employee"
                                },
                                {
                                    "BusinessEntityID": "92",
                                    "Name": "Tom Vande Velde",
                                    "EntityType": "Employee"
                                },
                                {
                                    "BusinessEntityID": "93",
                                    "Name": "Kok-Ho Loh",
                                    "EntityType": "Employee"
                                },
                                {
                                    "BusinessEntityID": "94",
                                    "Name": "Russell Hunter",
                                    "EntityType": "Employee"
                                },
                                {
                                    "BusinessEntityID": "95",
                                    "Name": "Jim Scardelis",
                                    "EntityType": "Employee"
                                },
                                {
                                    "BusinessEntityID": "96",
                                    "Name": "Elizabeth Keyser",
                                    "EntityType": "Employee"
                                },
                                {
                                    "BusinessEntityID": "97",
                                    "Name": "Mandar Samant",
                                    "EntityType": "Employee"
                                },
                                {
                                    "BusinessEntityID": "98",
                                    "Name": "Sameer Tejani",
                                    "EntityType": "Employee"
                                },
                                {
                                    "BusinessEntityID": "99",
                                    "Name": "Nuan Yu",
                                    "EntityType": "Employee"
                                },
                                {
                                    "BusinessEntityID": "100",
                                    "Name": "Lolan Song",
                                    "EntityType": "Employee"
                                },
                                {
                                    "BusinessEntityID": "101",
                                    "Name": "Houman Pournasseh",
                                    "EntityType": "Employee"
                                },
                                {
                                    "BusinessEntityID": "102",
                                    "Name": "Zheng Mu",
                                    "EntityType": "Employee"
                                },
                                {
                                    "BusinessEntityID": "103",
                                    "Name": "Ebru Ersan",
                                    "EntityType": "Employee"
                                },
                                {
                                    "BusinessEntityID": "104",
                                    "Name": "Mary Baker",
                                    "EntityType": "Employee"
                                },
                                {
                                    "BusinessEntityID": "105",
                                    "Name": "Kevin Homer",
                                    "EntityType": "Employee"
                                },
                                {
                                    "BusinessEntityID": "106",
                                    "Name": "John Kane",
                                    "EntityType": "Employee"
                                },
                                {
                                    "BusinessEntityID": "107",
                                    "Name": "Christopher Hill",
                                    "EntityType": "Employee"
                                },
                                {
                                    "BusinessEntityID": "108",
                                    "Name": "Jinghao Liu",
                                    "EntityType": "Employee"
                                },
                                {
                                    "BusinessEntityID": "109",
                                    "Name": "Alice Ciccu",
                                    "EntityType": "Employee"
                                },
                                {
                                    "BusinessEntityID": "110",
                                    "Name": "Jun Cao",
                                    "EntityType": "Employee"
                                },
                                {
                                    "BusinessEntityID": "111",
                                    "Name": "Suroor Fatima",
                                    "EntityType": "Employee"
                                },
                                {
                                    "BusinessEntityID": "112",
                                    "Name": "John Evans",
                                    "EntityType": "Employee"
                                },
                                {
                                    "BusinessEntityID": "113",
                                    "Name": "Linda Moschell",
                                    "EntityType": "Employee"
                                },
                                {
                                    "BusinessEntityID": "114",
                                    "Name": "Mindaugas Krapauskas",
                                    "EntityType": "Employee"
                                },
                                {
                                    "BusinessEntityID": "115",
                                    "Name": "Angela Barbariol",
                                    "EntityType": "Employee"
                                },
                                {
                                    "BusinessEntityID": "116",
                                    "Name": "Michael Patten",
                                    "EntityType": "Employee"
                                },
                                {
                                    "BusinessEntityID": "117",
                                    "Name": "Chad Niswonger",
                                    "EntityType": "Employee"
                                },
                                {
                                    "BusinessEntityID": "118",
                                    "Name": "Don Hall",
                                    "EntityType": "Employee"
                                },
                                {
                                    "BusinessEntityID": "119",
                                    "Name": "Michael Entin",
                                    "EntityType": "Employee"
                                },
                                {
                                    "BusinessEntityID": "120",
                                    "Name": "Kitti Lertpiriyasuwat",
                                    "EntityType": "Employee"
                                },
                                {
                                    "BusinessEntityID": "121",
                                    "Name": "Pilar Ackerman",
                                    "EntityType": "Employee"
                                },
                                {
                                    "BusinessEntityID": "122",
                                    "Name": "Susan Eaton",
                                    "EntityType": "Employee"
                                },
                                {
                                    "BusinessEntityID": "123",
                                    "Name": "Vamsi Kuppa",
                                    "EntityType": "Employee"
                                },
                                {
                                    "BusinessEntityID": "124",
                                    "Name": "Kim Ralls",
                                    "EntityType": "Employee"
                                },
                                {
                                    "BusinessEntityID": "125",
                                    "Name": "Matthias Berndt",
                                    "EntityType": "Employee"
                                },
                                {
                                    "BusinessEntityID": "126",
                                    "Name": "Jimmy Bischoff",
                                    "EntityType": "Employee"
                                },
                                {
                                    "BusinessEntityID": "127",
                                    "Name": "David Hamilton",
                                    "EntityType": "Employee"
                                },
                                {
                                    "BusinessEntityID": "128",
                                    "Name": "Paul Komosinski",
                                    "EntityType": "Employee"
                                },
                                {
                                    "BusinessEntityID": "129",
                                    "Name": "Gary Yukish",
                                    "EntityType": "Employee"
                                },
                                {
                                    "BusinessEntityID": "130",
                                    "Name": "Rob Caron",
                                    "EntityType": "Employee"
                                },
                                {
                                    "BusinessEntityID": "131",
                                    "Name": "Baris Cetinok",
                                    "EntityType": "Employee"
                                },
                                {
                                    "BusinessEntityID": "132",
                                    "Name": "Nicole Holliday",
                                    "EntityType": "Employee"
                                },
                                {
                                    "BusinessEntityID": "133",
                                    "Name": "Michael Rothkugel",
                                    "EntityType": "Employee"
                                },
                                {
                                    "BusinessEntityID": "134",
                                    "Name": "Eric Gubbels",
                                    "EntityType": "Employee"
                                },
                                {
                                    "BusinessEntityID": "135",
                                    "Name": "Ivo Salmre",
                                    "EntityType": "Employee"
                                },
                                {
                                    "BusinessEntityID": "136",
                                    "Name": "Sylvester Valdez",
                                    "EntityType": "Employee"
                                },
                                {
                                    "BusinessEntityID": "137",
                                    "Name": "Anibal Sousa",
                                    "EntityType": "Employee"
                                },
                                {
                                    "BusinessEntityID": "138",
                                    "Name": "Samantha Smith",
                                    "EntityType": "Employee"
                                },
                                {
                                    "BusinessEntityID": "139",
                                    "Name": "Hung-Fu Ting",
                                    "EntityType": "Employee"
                                },
                                {
                                    "BusinessEntityID": "140",
                                    "Name": "Prasanna Samarawickrama",
                                    "EntityType": "Employee"
                                },
                                {
                                    "BusinessEntityID": "141",
                                    "Name": "Min Su",
                                    "EntityType": "Employee"
                                },
                                {
                                    "BusinessEntityID": "142",
                                    "Name": "Olinda Turner",
                                    "EntityType": "Employee"
                                },
                                {
                                    "BusinessEntityID": "143",
                                    "Name": "Krishna Sunkammurali",
                                    "EntityType": "Employee"
                                },
                                {
                                    "BusinessEntityID": "144",
                                    "Name": "Paul Singh",
                                    "EntityType": "Employee"
                                },
                                {
                                    "BusinessEntityID": "145",
                                    "Name": "Cynthia Randall",
                                    "EntityType": "Employee"
                                },
                                {
                                    "BusinessEntityID": "146",
                                    "Name": "Jian Shuo Wang",
                                    "EntityType": "Employee"
                                },
                                {
                                    "BusinessEntityID": "147",
                                    "Name": "Sandra Reátegui Alayo",
                                    "EntityType": "Employee"
                                },
                                {
                                    "BusinessEntityID": "148",
                                    "Name": "Jason Watters",
                                    "EntityType": "Employee"
                                },
                                {
                                    "BusinessEntityID": "149",
                                    "Name": "Andy Ruth",
                                    "EntityType": "Employee"
                                },
                                {
                                    "BusinessEntityID": "150",
                                    "Name": "Michael Vanderhyde",
                                    "EntityType": "Employee"
                                },
                                {
                                    "BusinessEntityID": "151",
                                    "Name": "Rostislav Shabalin",
                                    "EntityType": "Employee"
                                },
                                {
                                    "BusinessEntityID": "152",
                                    "Name": "Yuhong Li",
                                    "EntityType": "Employee"
                                },
                                {
                                    "BusinessEntityID": "153",
                                    "Name": "Hanying Feng",
                                    "EntityType": "Employee"
                                },
                                {
                                    "BusinessEntityID": "154",
                                    "Name": "Raymond Sam",
                                    "EntityType": "Employee"
                                },
                                {
                                    "BusinessEntityID": "155",
                                    "Name": "Fadi Fakhouri",
                                    "EntityType": "Employee"
                                },
                                {
                                    "BusinessEntityID": "156",
                                    "Name": "Lane Sacksteder",
                                    "EntityType": "Employee"
                                },
                                {
                                    "BusinessEntityID": "157",
                                    "Name": "Linda Randall",
                                    "EntityType": "Employee"
                                },
                                {
                                    "BusinessEntityID": "158",
                                    "Name": "Shelley Dyck",
                                    "EntityType": "Employee"
                                },
                                {
                                    "BusinessEntityID": "159",
                                    "Name": "Terrence Earls",
                                    "EntityType": "Employee"
                                },
                                {
                                    "BusinessEntityID": "160",
                                    "Name": "Jeff Hay",
                                    "EntityType": "Employee"
                                },
                                {
                                    "BusinessEntityID": "161",
                                    "Name": "Kirk Koenigsbauer",
                                    "EntityType": "Employee"
                                },
                                {
                                    "BusinessEntityID": "162",
                                    "Name": "Laura Steele",
                                    "EntityType": "Employee"
                                },
                                {
                                    "BusinessEntityID": "163",
                                    "Name": "Alex Nayberg",
                                    "EntityType": "Employee"
                                },
                                {
                                    "BusinessEntityID": "164",
                                    "Name": "Andrew Cencini",
                                    "EntityType": "Employee"
                                },
                                {
                                    "BusinessEntityID": "165",
                                    "Name": "Chris Preston",
                                    "EntityType": "Employee"
                                },
                                {
                                    "BusinessEntityID": "166",
                                    "Name": "Jack Richins",
                                    "EntityType": "Employee"
                                },
                                {
                                    "BusinessEntityID": "167",
                                    "Name": "David Johnson",
                                    "EntityType": "Employee"
                                },
                                {
                                    "BusinessEntityID": "168",
                                    "Name": "Garrett Young",
                                    "EntityType": "Employee"
                                },
                                {
                                    "BusinessEntityID": "169",
                                    "Name": "Susan Metters",
                                    "EntityType": "Employee"
                                },
                                {
                                    "BusinessEntityID": "170",
                                    "Name": "George Li",
                                    "EntityType": "Employee"
                                },
                                {
                                    "BusinessEntityID": "171",
                                    "Name": "David Yalovsky",
                                    "EntityType": "Employee"
                                },
                                {
                                    "BusinessEntityID": "172",
                                    "Name": "Marc Ingle",
                                    "EntityType": "Employee"
                                },
                                {
                                    "BusinessEntityID": "173",
                                    "Name": "Eugene Zabokritski",
                                    "EntityType": "Employee"
                                },
                                {
                                    "BusinessEntityID": "174",
                                    "Name": "Benjamin Martin",
                                    "EntityType": "Employee"
                                },
                                {
                                    "BusinessEntityID": "175",
                                    "Name": "Reed Koch",
                                    "EntityType": "Employee"
                                },
                                {
                                    "BusinessEntityID": "176",
                                    "Name": "David Lawrence",
                                    "EntityType": "Employee"
                                },
                                {
                                    "BusinessEntityID": "177",
                                    "Name": "Russell King",
                                    "EntityType": "Employee"
                                },
                                {
                                    "BusinessEntityID": "178",
                                    "Name": "John Frum",
                                    "EntityType": "Employee"
                                },
                                {
                                    "BusinessEntityID": "179",
                                    "Name": "Jan Miksovsky",
                                    "EntityType": "Employee"
                                },
                                {
                                    "BusinessEntityID": "180",
                                    "Name": "Katie McAskill-White",
                                    "EntityType": "Employee"
                                },
                                {
                                    "BusinessEntityID": "181",
                                    "Name": "Michael Hines",
                                    "EntityType": "Employee"
                                },
                                {
                                    "BusinessEntityID": "182",
                                    "Name": "Nitin Mirchandani",
                                    "EntityType": "Employee"
                                },
                                {
                                    "BusinessEntityID": "183",
                                    "Name": "Barbara Decker",
                                    "EntityType": "Employee"
                                },
                                {
                                    "BusinessEntityID": "184",
                                    "Name": "John Chen",
                                    "EntityType": "Employee"
                                },
                                {
                                    "BusinessEntityID": "185",
                                    "Name": "Stefen Hesse",
                                    "EntityType": "Employee"
                                },
                                {
                                    "BusinessEntityID": "186",
                                    "Name": "Shane Kim",
                                    "EntityType": "Employee"
                                },
                                {
                                    "BusinessEntityID": "187",
                                    "Name": "Yvonne McKay",
                                    "EntityType": "Employee"
                                },
                                {
                                    "BusinessEntityID": "188",
                                    "Name": "Douglas Hite",
                                    "EntityType": "Employee"
                                },
                                {
                                    "BusinessEntityID": "189",
                                    "Name": "Janeth Esteves",
                                    "EntityType": "Employee"
                                },
                                {
                                    "BusinessEntityID": "190",
                                    "Name": "Robert Rounthwaite",
                                    "EntityType": "Employee"
                                },
                                {
                                    "BusinessEntityID": "191",
                                    "Name": "Lionel Penuchot",
                                    "EntityType": "Employee"
                                },
                                {
                                    "BusinessEntityID": "192",
                                    "Name": "Brenda Diaz",
                                    "EntityType": "Employee"
                                },
                                {
                                    "BusinessEntityID": "193",
                                    "Name": "Alejandro McGuel",
                                    "EntityType": "Employee"
                                },
                                {
                                    "BusinessEntityID": "194",
                                    "Name": "Fred Northup",
                                    "EntityType": "Employee"
                                },
                                {
                                    "BusinessEntityID": "195",
                                    "Name": "Kevin Liu",
                                    "EntityType": "Employee"
                                },
                                {
                                    "BusinessEntityID": "196",
                                    "Name": "Shammi Mohamed",
                                    "EntityType": "Employee"
                                },
                                {
                                    "BusinessEntityID": "197",
                                    "Name": "Rajesh Patel",
                                    "EntityType": "Employee"
                                },
                                {
                                    "BusinessEntityID": "198",
                                    "Name": "Lorraine Nay",
                                    "EntityType": "Employee"
                                },
                                {
                                    "BusinessEntityID": "199",
                                    "Name": "Paula Nartker",
                                    "EntityType": "Employee"
                                },
                                {
                                    "BusinessEntityID": "200",
                                    "Name": "Frank Lee",
                                    "EntityType": "Employee"
                                },
                                {
                                    "BusinessEntityID": "201",
                                    "Name": "Brian Lloyd",
                                    "EntityType": "Employee"
                                },
                                {
                                    "BusinessEntityID": "202",
                                    "Name": "Tawana Nusbaum",
                                    "EntityType": "Employee"
                                },
                                {
                                    "BusinessEntityID": "203",
                                    "Name": "Ken Myer",
                                    "EntityType": "Employee"
                                },
                                {
                                    "BusinessEntityID": "204",
                                    "Name": "Gabe Mares",
                                    "EntityType": "Employee"
                                },
                                {
                                    "BusinessEntityID": "205",
                                    "Name": "Lori Kane",
                                    "EntityType": "Employee"
                                },
                                {
                                    "BusinessEntityID": "206",
                                    "Name": "Stuart Munson",
                                    "EntityType": "Employee"
                                },
                                {
                                    "BusinessEntityID": "207",
                                    "Name": "Greg Alderson",
                                    "EntityType": "Employee"
                                },
                                {
                                    "BusinessEntityID": "208",
                                    "Name": "Scott Gode",
                                    "EntityType": "Employee"
                                },
                                {
                                    "BusinessEntityID": "209",
                                    "Name": "Kathie Flood",
                                    "EntityType": "Employee"
                                },
                                {
                                    "BusinessEntityID": "210",
                                    "Name": "Belinda Newman",
                                    "EntityType": "Employee"
                                },
                                {
                                    "BusinessEntityID": "211",
                                    "Name": "Hazem Abolrous",
                                    "EntityType": "Employee"
                                },
                                {
                                    "BusinessEntityID": "212",
                                    "Name": "Peng Wu",
                                    "EntityType": "Employee"
                                },
                                {
                                    "BusinessEntityID": "213",
                                    "Name": "Sootha Charncherngkha",
                                    "EntityType": "Employee"
                                },
                                {
                                    "BusinessEntityID": "214",
                                    "Name": "Andreas Berglund",
                                    "EntityType": "Employee"
                                },
                                {
                                    "BusinessEntityID": "215",
                                    "Name": "Mark Harrington",
                                    "EntityType": "Employee"
                                },
                                {
                                    "BusinessEntityID": "216",
                                    "Name": "Sean Alexander",
                                    "EntityType": "Employee"
                                },
                                {
                                    "BusinessEntityID": "217",
                                    "Name": "Zainal Arifin",
                                    "EntityType": "Employee"
                                },
                                {
                                    "BusinessEntityID": "218",
                                    "Name": "Tengiz Kharatishvili",
                                    "EntityType": "Employee"
                                },
                                {
                                    "BusinessEntityID": "219",
                                    "Name": "Sean Chai",
                                    "EntityType": "Employee"
                                },
                                {
                                    "BusinessEntityID": "220",
                                    "Name": "Karen Berge",
                                    "EntityType": "Employee"
                                },
                                {
                                    "BusinessEntityID": "221",
                                    "Name": "Chris Norred",
                                    "EntityType": "Employee"
                                },
                                {
                                    "BusinessEntityID": "222",
                                    "Name": "A. Scott Wright",
                                    "EntityType": "Employee"
                                },
                                {
                                    "BusinessEntityID": "223",
                                    "Name": "Sairaj Uddin",
                                    "EntityType": "Employee"
                                },
                                {
                                    "BusinessEntityID": "224",
                                    "Name": "William Vong",
                                    "EntityType": "Employee"
                                },
                                {
                                    "BusinessEntityID": "225",
                                    "Name": "Alan Brewer",
                                    "EntityType": "Employee"
                                },
                                {
                                    "BusinessEntityID": "226",
                                    "Name": "Brian LaMee",
                                    "EntityType": "Employee"
                                },
                                {
                                    "BusinessEntityID": "227",
                                    "Name": "Gary Altman",
                                    "EntityType": "Employee"
                                },
                                {
                                    "BusinessEntityID": "228",
                                    "Name": "Christian Kleinerman",
                                    "EntityType": "Employee"
                                },
                                {
                                    "BusinessEntityID": "229",
                                    "Name": "Lori Penor",
                                    "EntityType": "Employee"
                                },
                                {
                                    "BusinessEntityID": "230",
                                    "Name": "Stuart Macrae",
                                    "EntityType": "Employee"
                                },
                                {
                                    "BusinessEntityID": "231",
                                    "Name": "Jo Berry",
                                    "EntityType": "Employee"
                                },
                                {
                                    "BusinessEntityID": "232",
                                    "Name": "Pat Coleman",
                                    "EntityType": "Employee"
                                },
                                {
                                    "BusinessEntityID": "233",
                                    "Name": "Magnus Hedlund",
                                    "EntityType": "Employee"
                                },
                                {
                                    "BusinessEntityID": "234",
                                    "Name": "Laura Norman",
                                    "EntityType": "Employee"
                                },
                                {
                                    "BusinessEntityID": "235",
                                    "Name": "Paula Barreto de Mattos",
                                    "EntityType": "Employee"
                                },
                                {
                                    "BusinessEntityID": "236",
                                    "Name": "Grant Culbertson",
                                    "EntityType": "Employee"
                                },
                                {
                                    "BusinessEntityID": "237",
                                    "Name": "Hao Chen",
                                    "EntityType": "Employee"
                                },
                                {
                                    "BusinessEntityID": "238",
                                    "Name": "Vidur Luthra",
                                    "EntityType": "Employee"
                                },
                                {
                                    "BusinessEntityID": "239",
                                    "Name": "Mindy Martin",
                                    "EntityType": "Employee"
                                },
                                {
                                    "BusinessEntityID": "240",
                                    "Name": "Willis Johnson",
                                    "EntityType": "Employee"
                                },
                                {
                                    "BusinessEntityID": "241",
                                    "Name": "David Liu",
                                    "EntityType": "Employee"
                                },
                                {
                                    "BusinessEntityID": "242",
                                    "Name": "Deborah Poe",
                                    "EntityType": "Employee"
                                },
                                {
                                    "BusinessEntityID": "243",
                                    "Name": "Candy Spoon",
                                    "EntityType": "Employee"
                                },
                                {
                                    "BusinessEntityID": "244",
                                    "Name": "Bryan Walton",
                                    "EntityType": "Employee"
                                },
                                {
                                    "BusinessEntityID": "245",
                                    "Name": "Barbara Moreland",
                                    "EntityType": "Employee"
                                },
                                {
                                    "BusinessEntityID": "246",
                                    "Name": "Dragan Tomic",
                                    "EntityType": "Employee"
                                },
                                {
                                    "BusinessEntityID": "247",
                                    "Name": "Janet Sheperdigian",
                                    "EntityType": "Employee"
                                },
                                {
                                    "BusinessEntityID": "248",
                                    "Name": "Mike Seamans",
                                    "EntityType": "Employee"
                                },
                                {
                                    "BusinessEntityID": "249",
                                    "Name": "Wendy Kahn",
                                    "EntityType": "Employee"
                                },
                                {
                                    "BusinessEntityID": "250",
                                    "Name": "Sheela Word",
                                    "EntityType": "Employee"
                                },
                                {
                                    "BusinessEntityID": "251",
                                    "Name": "Mikael Sandberg",
                                    "EntityType": "Employee"
                                },
                                {
                                    "BusinessEntityID": "252",
                                    "Name": "Arvind Rao",
                                    "EntityType": "Employee"
                                },
                                {
                                    "BusinessEntityID": "253",
                                    "Name": "Linda Meisner",
                                    "EntityType": "Employee"
                                },
                                {
                                    "BusinessEntityID": "254",
                                    "Name": "Fukiko Ogisu",
                                    "EntityType": "Employee"
                                },
                                {
                                    "BusinessEntityID": "255",
                                    "Name": "Gordon Hee",
                                    "EntityType": "Employee"
                                },
                                {
                                    "BusinessEntityID": "256",
                                    "Name": "Frank Pellow",
                                    "EntityType": "Employee"
                                },
                                {
                                    "BusinessEntityID": "257",
                                    "Name": "Eric Kurjan",
                                    "EntityType": "Employee"
                                },
                                {
                                    "BusinessEntityID": "258",
                                    "Name": "Erin Hagens",
                                    "EntityType": "Employee"
                                },
                                {
                                    "BusinessEntityID": "259",
                                    "Name": "Ben Miller",
                                    "EntityType": "Employee"
                                },
                                {
                                    "BusinessEntityID": "260",
                                    "Name": "Annette Hill",
                                    "EntityType": "Employee"
                                },
                                {
                                    "BusinessEntityID": "261",
                                    "Name": "Reinout Hillmann",
                                    "EntityType": "Employee"
                                },
                                {
                                    "BusinessEntityID": "262",
                                    "Name": "David Barber",
                                    "EntityType": "Employee"
                                },
                                {
                                    "BusinessEntityID": "263",
                                    "Name": "Jean Trenary",
                                    "EntityType": "Employee"
                                },
                                {
                                    "BusinessEntityID": "264",
                                    "Name": "Stephanie Conroy",
                                    "EntityType": "Employee"
                                },
                                {
                                    "BusinessEntityID": "265",
                                    "Name": "Ashvini Sharma",
                                    "EntityType": "Employee"
                                },
                                {
                                    "BusinessEntityID": "266",
                                    "Name": "Peter Connelly",
                                    "EntityType": "Employee"
                                },
                                {
                                    "BusinessEntityID": "267",
                                    "Name": "Karen Berg",
                                    "EntityType": "Employee"
                                },
                                {
                                    "BusinessEntityID": "268",
                                    "Name": "Ramesh Meyyappan",
                                    "EntityType": "Employee"
                                },
                                {
                                    "BusinessEntityID": "269",
                                    "Name": "Dan Bacon",
                                    "EntityType": "Employee"
                                },
                                {
                                    "BusinessEntityID": "270",
                                    "Name": "François Ajenstat",
                                    "EntityType": "Employee"
                                },
                                {
                                    "BusinessEntityID": "271",
                                    "Name": "Dan Wilson",
                                    "EntityType": "Employee"
                                },
                                {
                                    "BusinessEntityID": "272",
                                    "Name": "Janaina Bueno",
                                    "EntityType": "Employee"
                                },
                                {
                                    "BusinessEntityID": "273",
                                    "Name": "Brian Welcker",
                                    "EntityType": "Employee"
                                },
                                {
                                    "BusinessEntityID": "274",
                                    "Name": "Stephen Jiang",
                                    "EntityType": "Employee"
                                },
                                {
                                    "BusinessEntityID": "275",
                                    "Name": "Michael Blythe",
                                    "EntityType": "Employee"
                                },
                                {
                                    "BusinessEntityID": "276",
                                    "Name": "Linda Mitchell",
                                    "EntityType": "Employee"
                                },
                                {
                                    "BusinessEntityID": "277",
                                    "Name": "Jillian Carson",
                                    "EntityType": "Employee"
                                },
                                {
                                    "BusinessEntityID": "278",
                                    "Name": "Garrett Vargas",
                                    "EntityType": "Employee"
                                },
                                {
                                    "BusinessEntityID": "279",
                                    "Name": "Tsvi Reiter",
                                    "EntityType": "Employee"
                                },
                                {
                                    "BusinessEntityID": "280",
                                    "Name": "Pamela Ansman-Wolfe",
                                    "EntityType": "Employee"
                                },
                                {
                                    "BusinessEntityID": "281",
                                    "Name": "Shu Ito",
                                    "EntityType": "Employee"
                                },
                                {
                                    "BusinessEntityID": "282",
                                    "Name": "José Saraiva",
                                    "EntityType": "Employee"
                                },
                                {
                                    "BusinessEntityID": "283",
                                    "Name": "David Campbell",
                                    "EntityType": "Employee"
                                },
                                {
                                    "BusinessEntityID": "284",
                                    "Name": "Tete Mensa-Annan",
                                    "EntityType": "Employee"
                                },
                                {
                                    "BusinessEntityID": "285",
                                    "Name": "Syed Abbas",
                                    "EntityType": "Employee"
                                },
                                {
                                    "BusinessEntityID": "286",
                                    "Name": "Lynn Tsoflias",
                                    "EntityType": "Employee"
                                },
                                {
                                    "BusinessEntityID": "287",
                                    "Name": "Amy Alberts",
                                    "EntityType": "Employee"
                                },
                                {
                                    "BusinessEntityID": "288",
                                    "Name": "Rachel Valdez",
                                    "EntityType": "Employee"
                                },
                                {
                                    "BusinessEntityID": "289",
                                    "Name": "Jae Pak",
                                    "EntityType": "Employee"
                                },
                                {
                                    "BusinessEntityID": "290",
                                    "Name": "Ranjit Varkey Chudukatil",
                                    "EntityType": "Employee"
                                },
                                {
                                    "BusinessEntityID": "1492",
                                    "Name": "Australia Bike Retailer",
                                    "EntityType": "Vendor"
                                },
                                {
                                    "BusinessEntityID": "1494",
                                    "Name": "Allenson Cycles",
                                    "EntityType": "Vendor"
                                },
                                {
                                    "BusinessEntityID": "1496",
                                    "Name": "Advanced Bicycles",
                                    "EntityType": "Vendor"
                                },
                                {
                                    "BusinessEntityID": "1498",
                                    "Name": "Trikes, Inc.",
                                    "EntityType": "Vendor"
                                },
                                {
                                    "BusinessEntityID": "1500",
                                    "Name": "Morgan Bike Accessories",
                                    "EntityType": "Vendor"
                                },
                                {
                                    "BusinessEntityID": "1502",
                                    "Name": "Cycling Master",
                                    "EntityType": "Vendor"
                                },
                                {
                                    "BusinessEntityID": "1504",
                                    "Name": "Chicago Rent-All",
                                    "EntityType": "Vendor"
                                },
                                {
                                    "BusinessEntityID": "1506",
                                    "Name": "Greenwood Athletic Company",
                                    "EntityType": "Vendor"
                                },
                                {
                                    "BusinessEntityID": "1508",
                                    "Name": "Compete Enterprises, Inc",
                                    "EntityType": "Vendor"
                                },
                                {
                                    "BusinessEntityID": "1510",
                                    "Name": "International",
                                    "EntityType": "Vendor"
                                },
                                {
                                    "BusinessEntityID": "1512",
                                    "Name": "Light Speed",
                                    "EntityType": "Vendor"
                                },
                                {
                                    "BusinessEntityID": "1514",
                                    "Name": "Training Systems",
                                    "EntityType": "Vendor"
                                },
                                {
                                    "BusinessEntityID": "1516",
                                    "Name": "Gardner Touring Cycles",
                                    "EntityType": "Vendor"
                                },
                                {
                                    "BusinessEntityID": "1518",
                                    "Name": "International Trek Center",
                                    "EntityType": "Vendor"
                                },
                                {
                                    "BusinessEntityID": "1520",
                                    "Name": "G & K Bicycle Corp.",
                                    "EntityType": "Vendor"
                                },
                                {
                                    "BusinessEntityID": "1522",
                                    "Name": "First National Sport Co.",
                                    "EntityType": "Vendor"
                                },
                                {
                                    "BusinessEntityID": "1524",
                                    "Name": "Recreation Place",
                                    "EntityType": "Vendor"
                                },
                                {
                                    "BusinessEntityID": "1526",
                                    "Name": "International Bicycles",
                                    "EntityType": "Vendor"
                                },
                                {
                                    "BusinessEntityID": "1528",
                                    "Name": "Image Makers Bike Center",
                                    "EntityType": "Vendor"
                                },
                                {
                                    "BusinessEntityID": "1530",
                                    "Name": "Comfort Road Bicycles",
                                    "EntityType": "Vendor"
                                },
                                {
                                    "BusinessEntityID": "1532",
                                    "Name": "Knopfler Cycles",
                                    "EntityType": "Vendor"
                                },
                                {
                                    "BusinessEntityID": "1534",
                                    "Name": "Ready Rentals",
                                    "EntityType": "Vendor"
                                },
                                {
                                    "BusinessEntityID": "1536",
                                    "Name": "Cruger Bike Company",
                                    "EntityType": "Vendor"
                                },
                                {
                                    "BusinessEntityID": "1538",
                                    "Name": "Vista Road Bikes",
                                    "EntityType": "Vendor"
                                },
                                {
                                    "BusinessEntityID": "1540",
                                    "Name": "Bergeron Off-Roads",
                                    "EntityType": "Vendor"
                                },
                                {
                                    "BusinessEntityID": "1542",
                                    "Name": "Hill's Bicycle Service",
                                    "EntityType": "Vendor"
                                },
                                {
                                    "BusinessEntityID": "1544",
                                    "Name": "Circuit Cycles",
                                    "EntityType": "Vendor"
                                },
                                {
                                    "BusinessEntityID": "1546",
                                    "Name": "Green Lake Bike Company",
                                    "EntityType": "Vendor"
                                },
                                {
                                    "BusinessEntityID": "1548",
                                    "Name": "Consumer Cycles",
                                    "EntityType": "Vendor"
                                },
                                {
                                    "BusinessEntityID": "1550",
                                    "Name": "Merit Bikes",
                                    "EntityType": "Vendor"
                                },
                                {
                                    "BusinessEntityID": "1552",
                                    "Name": "Sports House",
                                    "EntityType": "Vendor"
                                },
                                {
                                    "BusinessEntityID": "1554",
                                    "Name": "WestAmerica Bicycle Co.",
                                    "EntityType": "Vendor"
                                },
                                {
                                    "BusinessEntityID": "1556",
                                    "Name": "West Junction Cycles",
                                    "EntityType": "Vendor"
                                },
                                {
                                    "BusinessEntityID": "1558",
                                    "Name": "Marsh",
                                    "EntityType": "Vendor"
                                },
                                {
                                    "BusinessEntityID": "1560",
                                    "Name": "Capital Road Cycles",
                                    "EntityType": "Vendor"
                                },
                                {
                                    "BusinessEntityID": "1562",
                                    "Name": "Norstan Bike Hut",
                                    "EntityType": "Vendor"
                                },
                                {
                                    "BusinessEntityID": "1564",
                                    "Name": "Illinois Trek & Clothing",
                                    "EntityType": "Vendor"
                                },
                                {
                                    "BusinessEntityID": "1566",
                                    "Name": "Burnett Road Warriors",
                                    "EntityType": "Vendor"
                                },
                                {
                                    "BusinessEntityID": "1568",
                                    "Name": "Custom Frames, Inc.",
                                    "EntityType": "Vendor"
                                },
                                {
                                    "BusinessEntityID": "1570",
                                    "Name": "First Rate Bicycles",
                                    "EntityType": "Vendor"
                                },
                                {
                                    "BusinessEntityID": "1572",
                                    "Name": "National Bike Association",
                                    "EntityType": "Vendor"
                                },
                                {
                                    "BusinessEntityID": "1574",
                                    "Name": "Jeff's Sporting Goods",
                                    "EntityType": "Vendor"
                                },
                                {
                                    "BusinessEntityID": "1576",
                                    "Name": "Superior Bicycles",
                                    "EntityType": "Vendor"
                                },
                                {
                                    "BusinessEntityID": "1578",
                                    "Name": "Vision Cycles, Inc.",
                                    "EntityType": "Vendor"
                                },
                                {
                                    "BusinessEntityID": "1580",
                                    "Name": "Litware, Inc.",
                                    "EntityType": "Vendor"
                                },
                                {
                                    "BusinessEntityID": "1582",
                                    "Name": "Inner City Bikes",
                                    "EntityType": "Vendor"
                                },
                                {
                                    "BusinessEntityID": "1584",
                                    "Name": "Trey Research",
                                    "EntityType": "Vendor"
                                },
                                {
                                    "BusinessEntityID": "1586",
                                    "Name": "Mitchell Sports",
                                    "EntityType": "Vendor"
                                },
                                {
                                    "BusinessEntityID": "1588",
                                    "Name": "Signature Cycles",
                                    "EntityType": "Vendor"
                                },
                                {
                                    "BusinessEntityID": "1590",
                                    "Name": "SUPERSALES INC.",
                                    "EntityType": "Vendor"
                                },
                                {
                                    "BusinessEntityID": "1592",
                                    "Name": "Lindell",
                                    "EntityType": "Vendor"
                                },
                                {
                                    "BusinessEntityID": "1594",
                                    "Name": "Fitness Association",
                                    "EntityType": "Vendor"
                                },
                                {
                                    "BusinessEntityID": "1596",
                                    "Name": "A. Datum Corporation",
                                    "EntityType": "Vendor"
                                },
                                {
                                    "BusinessEntityID": "1598",
                                    "Name": "Continental Pro Cycles",
                                    "EntityType": "Vendor"
                                },
                                {
                                    "BusinessEntityID": "1600",
                                    "Name": "Federal Sport",
                                    "EntityType": "Vendor"
                                },
                                {
                                    "BusinessEntityID": "1602",
                                    "Name": "Beaumont Bikes",
                                    "EntityType": "Vendor"
                                },
                                {
                                    "BusinessEntityID": "1604",
                                    "Name": "Bike Satellite Inc.",
                                    "EntityType": "Vendor"
                                },
                                {
                                    "BusinessEntityID": "1606",
                                    "Name": "Northwind Traders",
                                    "EntityType": "Vendor"
                                },
                                {
                                    "BusinessEntityID": "1608",
                                    "Name": "Sport Playground",
                                    "EntityType": "Vendor"
                                },
                                {
                                    "BusinessEntityID": "1610",
                                    "Name": "Hybrid Bicycle Center",
                                    "EntityType": "Vendor"
                                },
                                {
                                    "BusinessEntityID": "1612",
                                    "Name": "Midwest Sport, Inc.",
                                    "EntityType": "Vendor"
                                },
                                {
                                    "BusinessEntityID": "1614",
                                    "Name": "Reliance Fitness, Inc.",
                                    "EntityType": "Vendor"
                                },
                                {
                                    "BusinessEntityID": "1616",
                                    "Name": "Aurora Bike Center",
                                    "EntityType": "Vendor"
                                },
                                {
                                    "BusinessEntityID": "1618",
                                    "Name": "Metro Sport Equipment",
                                    "EntityType": "Vendor"
                                },
                                {
                                    "BusinessEntityID": "1620",
                                    "Name": "Lakewood Bicycle",
                                    "EntityType": "Vendor"
                                },
                                {
                                    "BusinessEntityID": "1622",
                                    "Name": "Speed Corporation",
                                    "EntityType": "Vendor"
                                },
                                {
                                    "BusinessEntityID": "1624",
                                    "Name": "Competition Bike Training Systems",
                                    "EntityType": "Vendor"
                                },
                                {
                                    "BusinessEntityID": "1626",
                                    "Name": "Hill Bicycle Center",
                                    "EntityType": "Vendor"
                                },
                                {
                                    "BusinessEntityID": "1628",
                                    "Name": "Bicycle Specialists",
                                    "EntityType": "Vendor"
                                },
                                {
                                    "BusinessEntityID": "1630",
                                    "Name": "Indiana Bicycle Center",
                                    "EntityType": "Vendor"
                                },
                                {
                                    "BusinessEntityID": "1632",
                                    "Name": "Sport Fan Co.",
                                    "EntityType": "Vendor"
                                },
                                {
                                    "BusinessEntityID": "1634",
                                    "Name": "GMA Ski & Bike",
                                    "EntityType": "Vendor"
                                },
                                {
                                    "BusinessEntityID": "1636",
                                    "Name": "Integrated Sport Products",
                                    "EntityType": "Vendor"
                                },
                                {
                                    "BusinessEntityID": "1638",
                                    "Name": "Inline Accessories",
                                    "EntityType": "Vendor"
                                },
                                {
                                    "BusinessEntityID": "1640",
                                    "Name": "Legend Cycles",
                                    "EntityType": "Vendor"
                                },
                                {
                                    "BusinessEntityID": "1642",
                                    "Name": "Electronic Bike Co.",
                                    "EntityType": "Vendor"
                                },
                                {
                                    "BusinessEntityID": "1644",
                                    "Name": "International Sport Assoc.",
                                    "EntityType": "Vendor"
                                },
                                {
                                    "BusinessEntityID": "1646",
                                    "Name": "Electronic Bike Repair & Supplies",
                                    "EntityType": "Vendor"
                                },
                                {
                                    "BusinessEntityID": "1648",
                                    "Name": "Wide World Importers",
                                    "EntityType": "Vendor"
                                },
                                {
                                    "BusinessEntityID": "1650",
                                    "Name": "American Bicycles and Wheels",
                                    "EntityType": "Vendor"
                                },
                                {
                                    "BusinessEntityID": "1652",
                                    "Name": "Victory Bikes",
                                    "EntityType": "Vendor"
                                },
                                {
                                    "BusinessEntityID": "1654",
                                    "Name": "American Bikes",
                                    "EntityType": "Vendor"
                                },
                                {
                                    "BusinessEntityID": "1656",
                                    "Name": "Mountain Works",
                                    "EntityType": "Vendor"
                                },
                                {
                                    "BusinessEntityID": "1658",
                                    "Name": "Crowley Sport",
                                    "EntityType": "Vendor"
                                },
                                {
                                    "BusinessEntityID": "1660",
                                    "Name": "Magic Cycles",
                                    "EntityType": "Vendor"
                                },
                                {
                                    "BusinessEntityID": "1662",
                                    "Name": "Northern Bike Travel",
                                    "EntityType": "Vendor"
                                },
                                {
                                    "BusinessEntityID": "1664",
                                    "Name": "Anderson's Custom Bikes",
                                    "EntityType": "Vendor"
                                },
                                {
                                    "BusinessEntityID": "1666",
                                    "Name": "Leaf River Terrain",
                                    "EntityType": "Vendor"
                                },
                                {
                                    "BusinessEntityID": "1668",
                                    "Name": "Touring Equipment Center",
                                    "EntityType": "Vendor"
                                },
                                {
                                    "BusinessEntityID": "1670",
                                    "Name": "Holiday Skate & Cycle",
                                    "EntityType": "Vendor"
                                },
                                {
                                    "BusinessEntityID": "1672",
                                    "Name": "Expert Bike Co",
                                    "EntityType": "Vendor"
                                },
                                {
                                    "BusinessEntityID": "1674",
                                    "Name": "Varsity Sport Co.",
                                    "EntityType": "Vendor"
                                },
                                {
                                    "BusinessEntityID": "1676",
                                    "Name": "Team Athletic Co.",
                                    "EntityType": "Vendor"
                                },
                                {
                                    "BusinessEntityID": "1678",
                                    "Name": "Proseware, Inc.",
                                    "EntityType": "Vendor"
                                },
                                {
                                    "BusinessEntityID": "1680",
                                    "Name": "Jackson Authority",
                                    "EntityType": "Vendor"
                                },
                                {
                                    "BusinessEntityID": "1682",
                                    "Name": "Premier Sport, Inc.",
                                    "EntityType": "Vendor"
                                },
                                {
                                    "BusinessEntityID": "1684",
                                    "Name": "Professional Athletic Consultants",
                                    "EntityType": "Vendor"
                                },
                                {
                                    "BusinessEntityID": "1686",
                                    "Name": "Pro Sport Industries",
                                    "EntityType": "Vendor"
                                },
                                {
                                    "BusinessEntityID": "1688",
                                    "Name": "Wood Fitness",
                                    "EntityType": "Vendor"
                                },
                                {
                                    "BusinessEntityID": "1690",
                                    "Name": "Bloomington Multisport",
                                    "EntityType": "Vendor"
                                },
                                {
                                    "BusinessEntityID": "1692",
                                    "Name": "Carlson Specialties",
                                    "EntityType": "Vendor"
                                },
                                {
                                    "BusinessEntityID": "1694",
                                    "Name": "Compete, Inc.",
                                    "EntityType": "Vendor"
                                },
                                {
                                    "BusinessEntityID": "1696",
                                    "Name": "Chicago City Saddles",
                                    "EntityType": "Vendor"
                                },
                                {
                                    "BusinessEntityID": "1698",
                                    "Name": "Business Equipment Center",
                                    "EntityType": "Vendor"
                                }
                            ]
                        },
                        "text/html": [
                            "<table>",
                            "<tr><th>BusinessEntityID</th><th>Name</th><th>EntityType</th></tr>",
                            "<tr><td>1</td><td>Ken Sánchez</td><td>Employee</td></tr>",
                            "<tr><td>2</td><td>Terri Duffy</td><td>Employee</td></tr>",
                            "<tr><td>3</td><td>Roberto Tamburello</td><td>Employee</td></tr>",
                            "<tr><td>4</td><td>Rob Walters</td><td>Employee</td></tr>",
                            "<tr><td>5</td><td>Gail Erickson</td><td>Employee</td></tr>",
                            "<tr><td>6</td><td>Jossef Goldberg</td><td>Employee</td></tr>",
                            "<tr><td>7</td><td>Dylan Miller</td><td>Employee</td></tr>",
                            "<tr><td>8</td><td>Diane Margheim</td><td>Employee</td></tr>",
                            "<tr><td>9</td><td>Gigi Matthew</td><td>Employee</td></tr>",
                            "<tr><td>10</td><td>Michael Raheem</td><td>Employee</td></tr>",
                            "<tr><td>11</td><td>Ovidiu Cracium</td><td>Employee</td></tr>",
                            "<tr><td>12</td><td>Thierry D&#39;Hers</td><td>Employee</td></tr>",
                            "<tr><td>13</td><td>Janice Galvin</td><td>Employee</td></tr>",
                            "<tr><td>14</td><td>Michael Sullivan</td><td>Employee</td></tr>",
                            "<tr><td>15</td><td>Sharon Salavaria</td><td>Employee</td></tr>",
                            "<tr><td>16</td><td>David Bradley</td><td>Employee</td></tr>",
                            "<tr><td>17</td><td>Kevin Brown</td><td>Employee</td></tr>",
                            "<tr><td>18</td><td>John Wood</td><td>Employee</td></tr>",
                            "<tr><td>19</td><td>Mary Dempsey</td><td>Employee</td></tr>",
                            "<tr><td>20</td><td>Wanida Benshoof</td><td>Employee</td></tr>",
                            "<tr><td>21</td><td>Terry Eminhizer</td><td>Employee</td></tr>",
                            "<tr><td>22</td><td>Sariya Harnpadoungsataya</td><td>Employee</td></tr>",
                            "<tr><td>23</td><td>Mary Gibson</td><td>Employee</td></tr>",
                            "<tr><td>24</td><td>Jill Williams</td><td>Employee</td></tr>",
                            "<tr><td>25</td><td>James Hamilton</td><td>Employee</td></tr>",
                            "<tr><td>26</td><td>Peter Krebs</td><td>Employee</td></tr>",
                            "<tr><td>27</td><td>Jo Brown</td><td>Employee</td></tr>",
                            "<tr><td>28</td><td>Guy Gilbert</td><td>Employee</td></tr>",
                            "<tr><td>29</td><td>Mark McArthur</td><td>Employee</td></tr>",
                            "<tr><td>30</td><td>Britta Simon</td><td>Employee</td></tr>",
                            "<tr><td>31</td><td>Margie Shoop</td><td>Employee</td></tr>",
                            "<tr><td>32</td><td>Rebecca Laszlo</td><td>Employee</td></tr>",
                            "<tr><td>33</td><td>Annik Stahl</td><td>Employee</td></tr>",
                            "<tr><td>34</td><td>Suchitra Mohan</td><td>Employee</td></tr>",
                            "<tr><td>35</td><td>Brandon Heidepriem</td><td>Employee</td></tr>",
                            "<tr><td>36</td><td>Jose Lugo</td><td>Employee</td></tr>",
                            "<tr><td>37</td><td>Chris Okelberry</td><td>Employee</td></tr>",
                            "<tr><td>38</td><td>Kim Abercrombie</td><td>Employee</td></tr>",
                            "<tr><td>39</td><td>Ed Dudenhoefer</td><td>Employee</td></tr>",
                            "<tr><td>40</td><td>JoLynn Dobney</td><td>Employee</td></tr>",
                            "<tr><td>41</td><td>Bryan Baker</td><td>Employee</td></tr>",
                            "<tr><td>42</td><td>James Kramer</td><td>Employee</td></tr>",
                            "<tr><td>43</td><td>Nancy Anderson</td><td>Employee</td></tr>",
                            "<tr><td>44</td><td>Simon Rapier</td><td>Employee</td></tr>",
                            "<tr><td>45</td><td>Thomas Michaels</td><td>Employee</td></tr>",
                            "<tr><td>46</td><td>Eugene Kogan</td><td>Employee</td></tr>",
                            "<tr><td>47</td><td>Andrew Hill</td><td>Employee</td></tr>",
                            "<tr><td>48</td><td>Ruth Ellerbrock</td><td>Employee</td></tr>",
                            "<tr><td>49</td><td>Barry Johnson</td><td>Employee</td></tr>",
                            "<tr><td>50</td><td>Sidney Higa</td><td>Employee</td></tr>",
                            "<tr><td>51</td><td>Jeffrey Ford</td><td>Employee</td></tr>",
                            "<tr><td>52</td><td>Doris Hartwig</td><td>Employee</td></tr>",
                            "<tr><td>53</td><td>Diane Glimp</td><td>Employee</td></tr>",
                            "<tr><td>54</td><td>Bonnie Kearney</td><td>Employee</td></tr>",
                            "<tr><td>55</td><td>Taylor Maxwell</td><td>Employee</td></tr>",
                            "<tr><td>56</td><td>Denise Smith</td><td>Employee</td></tr>",
                            "<tr><td>57</td><td>Frank Miller</td><td>Employee</td></tr>",
                            "<tr><td>58</td><td>Kendall Keil</td><td>Employee</td></tr>",
                            "<tr><td>59</td><td>Bob Hohman</td><td>Employee</td></tr>",
                            "<tr><td>60</td><td>Pete Male</td><td>Employee</td></tr>",
                            "<tr><td>61</td><td>Diane Tibbott</td><td>Employee</td></tr>",
                            "<tr><td>62</td><td>John Campbell</td><td>Employee</td></tr>",
                            "<tr><td>63</td><td>Maciej Dusza</td><td>Employee</td></tr>",
                            "<tr><td>64</td><td>Michael Zwilling</td><td>Employee</td></tr>",
                            "<tr><td>65</td><td>Randy Reeves</td><td>Employee</td></tr>",
                            "<tr><td>66</td><td>Karan Khanna</td><td>Employee</td></tr>",
                            "<tr><td>67</td><td>Jay Adams</td><td>Employee</td></tr>",
                            "<tr><td>68</td><td>Charles Fitzgerald</td><td>Employee</td></tr>",
                            "<tr><td>69</td><td>Steve Masters</td><td>Employee</td></tr>",
                            "<tr><td>70</td><td>David Ortiz</td><td>Employee</td></tr>",
                            "<tr><td>71</td><td>Michael Ray</td><td>Employee</td></tr>",
                            "<tr><td>72</td><td>Steven Selikoff</td><td>Employee</td></tr>",
                            "<tr><td>73</td><td>Carole Poland</td><td>Employee</td></tr>",
                            "<tr><td>74</td><td>Bjorn Rettig</td><td>Employee</td></tr>",
                            "<tr><td>75</td><td>Michiko Osada</td><td>Employee</td></tr>",
                            "<tr><td>76</td><td>Carol Philips</td><td>Employee</td></tr>",
                            "<tr><td>77</td><td>Merav Netz</td><td>Employee</td></tr>",
                            "<tr><td>78</td><td>Reuben D&#39;sa</td><td>Employee</td></tr>",
                            "<tr><td>79</td><td>Eric Brown</td><td>Employee</td></tr>",
                            "<tr><td>80</td><td>Sandeep Kaliyath</td><td>Employee</td></tr>",
                            "<tr><td>81</td><td>Mihail Frintu</td><td>Employee</td></tr>",
                            "<tr><td>82</td><td>Jack Creasey</td><td>Employee</td></tr>",
                            "<tr><td>83</td><td>Patrick Cook</td><td>Employee</td></tr>",
                            "<tr><td>84</td><td>Frank Martinez</td><td>Employee</td></tr>",
                            "<tr><td>85</td><td>Brian Goldstein</td><td>Employee</td></tr>",
                            "<tr><td>86</td><td>Ryan Cornelsen</td><td>Employee</td></tr>",
                            "<tr><td>87</td><td>Cristian Petculescu</td><td>Employee</td></tr>",
                            "<tr><td>88</td><td>Betsy Stadick</td><td>Employee</td></tr>",
                            "<tr><td>89</td><td>Patrick Wedge</td><td>Employee</td></tr>",
                            "<tr><td>90</td><td>Danielle Tiedt</td><td>Employee</td></tr>",
                            "<tr><td>91</td><td>Kimberly Zimmerman</td><td>Employee</td></tr>",
                            "<tr><td>92</td><td>Tom Vande Velde</td><td>Employee</td></tr>",
                            "<tr><td>93</td><td>Kok-Ho Loh</td><td>Employee</td></tr>",
                            "<tr><td>94</td><td>Russell Hunter</td><td>Employee</td></tr>",
                            "<tr><td>95</td><td>Jim Scardelis</td><td>Employee</td></tr>",
                            "<tr><td>96</td><td>Elizabeth Keyser</td><td>Employee</td></tr>",
                            "<tr><td>97</td><td>Mandar Samant</td><td>Employee</td></tr>",
                            "<tr><td>98</td><td>Sameer Tejani</td><td>Employee</td></tr>",
                            "<tr><td>99</td><td>Nuan Yu</td><td>Employee</td></tr>",
                            "<tr><td>100</td><td>Lolan Song</td><td>Employee</td></tr>",
                            "<tr><td>101</td><td>Houman Pournasseh</td><td>Employee</td></tr>",
                            "<tr><td>102</td><td>Zheng Mu</td><td>Employee</td></tr>",
                            "<tr><td>103</td><td>Ebru Ersan</td><td>Employee</td></tr>",
                            "<tr><td>104</td><td>Mary Baker</td><td>Employee</td></tr>",
                            "<tr><td>105</td><td>Kevin Homer</td><td>Employee</td></tr>",
                            "<tr><td>106</td><td>John Kane</td><td>Employee</td></tr>",
                            "<tr><td>107</td><td>Christopher Hill</td><td>Employee</td></tr>",
                            "<tr><td>108</td><td>Jinghao Liu</td><td>Employee</td></tr>",
                            "<tr><td>109</td><td>Alice Ciccu</td><td>Employee</td></tr>",
                            "<tr><td>110</td><td>Jun Cao</td><td>Employee</td></tr>",
                            "<tr><td>111</td><td>Suroor Fatima</td><td>Employee</td></tr>",
                            "<tr><td>112</td><td>John Evans</td><td>Employee</td></tr>",
                            "<tr><td>113</td><td>Linda Moschell</td><td>Employee</td></tr>",
                            "<tr><td>114</td><td>Mindaugas Krapauskas</td><td>Employee</td></tr>",
                            "<tr><td>115</td><td>Angela Barbariol</td><td>Employee</td></tr>",
                            "<tr><td>116</td><td>Michael Patten</td><td>Employee</td></tr>",
                            "<tr><td>117</td><td>Chad Niswonger</td><td>Employee</td></tr>",
                            "<tr><td>118</td><td>Don Hall</td><td>Employee</td></tr>",
                            "<tr><td>119</td><td>Michael Entin</td><td>Employee</td></tr>",
                            "<tr><td>120</td><td>Kitti Lertpiriyasuwat</td><td>Employee</td></tr>",
                            "<tr><td>121</td><td>Pilar Ackerman</td><td>Employee</td></tr>",
                            "<tr><td>122</td><td>Susan Eaton</td><td>Employee</td></tr>",
                            "<tr><td>123</td><td>Vamsi Kuppa</td><td>Employee</td></tr>",
                            "<tr><td>124</td><td>Kim Ralls</td><td>Employee</td></tr>",
                            "<tr><td>125</td><td>Matthias Berndt</td><td>Employee</td></tr>",
                            "<tr><td>126</td><td>Jimmy Bischoff</td><td>Employee</td></tr>",
                            "<tr><td>127</td><td>David Hamilton</td><td>Employee</td></tr>",
                            "<tr><td>128</td><td>Paul Komosinski</td><td>Employee</td></tr>",
                            "<tr><td>129</td><td>Gary Yukish</td><td>Employee</td></tr>",
                            "<tr><td>130</td><td>Rob Caron</td><td>Employee</td></tr>",
                            "<tr><td>131</td><td>Baris Cetinok</td><td>Employee</td></tr>",
                            "<tr><td>132</td><td>Nicole Holliday</td><td>Employee</td></tr>",
                            "<tr><td>133</td><td>Michael Rothkugel</td><td>Employee</td></tr>",
                            "<tr><td>134</td><td>Eric Gubbels</td><td>Employee</td></tr>",
                            "<tr><td>135</td><td>Ivo Salmre</td><td>Employee</td></tr>",
                            "<tr><td>136</td><td>Sylvester Valdez</td><td>Employee</td></tr>",
                            "<tr><td>137</td><td>Anibal Sousa</td><td>Employee</td></tr>",
                            "<tr><td>138</td><td>Samantha Smith</td><td>Employee</td></tr>",
                            "<tr><td>139</td><td>Hung-Fu Ting</td><td>Employee</td></tr>",
                            "<tr><td>140</td><td>Prasanna Samarawickrama</td><td>Employee</td></tr>",
                            "<tr><td>141</td><td>Min Su</td><td>Employee</td></tr>",
                            "<tr><td>142</td><td>Olinda Turner</td><td>Employee</td></tr>",
                            "<tr><td>143</td><td>Krishna Sunkammurali</td><td>Employee</td></tr>",
                            "<tr><td>144</td><td>Paul Singh</td><td>Employee</td></tr>",
                            "<tr><td>145</td><td>Cynthia Randall</td><td>Employee</td></tr>",
                            "<tr><td>146</td><td>Jian Shuo Wang</td><td>Employee</td></tr>",
                            "<tr><td>147</td><td>Sandra Reátegui Alayo</td><td>Employee</td></tr>",
                            "<tr><td>148</td><td>Jason Watters</td><td>Employee</td></tr>",
                            "<tr><td>149</td><td>Andy Ruth</td><td>Employee</td></tr>",
                            "<tr><td>150</td><td>Michael Vanderhyde</td><td>Employee</td></tr>",
                            "<tr><td>151</td><td>Rostislav Shabalin</td><td>Employee</td></tr>",
                            "<tr><td>152</td><td>Yuhong Li</td><td>Employee</td></tr>",
                            "<tr><td>153</td><td>Hanying Feng</td><td>Employee</td></tr>",
                            "<tr><td>154</td><td>Raymond Sam</td><td>Employee</td></tr>",
                            "<tr><td>155</td><td>Fadi Fakhouri</td><td>Employee</td></tr>",
                            "<tr><td>156</td><td>Lane Sacksteder</td><td>Employee</td></tr>",
                            "<tr><td>157</td><td>Linda Randall</td><td>Employee</td></tr>",
                            "<tr><td>158</td><td>Shelley Dyck</td><td>Employee</td></tr>",
                            "<tr><td>159</td><td>Terrence Earls</td><td>Employee</td></tr>",
                            "<tr><td>160</td><td>Jeff Hay</td><td>Employee</td></tr>",
                            "<tr><td>161</td><td>Kirk Koenigsbauer</td><td>Employee</td></tr>",
                            "<tr><td>162</td><td>Laura Steele</td><td>Employee</td></tr>",
                            "<tr><td>163</td><td>Alex Nayberg</td><td>Employee</td></tr>",
                            "<tr><td>164</td><td>Andrew Cencini</td><td>Employee</td></tr>",
                            "<tr><td>165</td><td>Chris Preston</td><td>Employee</td></tr>",
                            "<tr><td>166</td><td>Jack Richins</td><td>Employee</td></tr>",
                            "<tr><td>167</td><td>David Johnson</td><td>Employee</td></tr>",
                            "<tr><td>168</td><td>Garrett Young</td><td>Employee</td></tr>",
                            "<tr><td>169</td><td>Susan Metters</td><td>Employee</td></tr>",
                            "<tr><td>170</td><td>George Li</td><td>Employee</td></tr>",
                            "<tr><td>171</td><td>David Yalovsky</td><td>Employee</td></tr>",
                            "<tr><td>172</td><td>Marc Ingle</td><td>Employee</td></tr>",
                            "<tr><td>173</td><td>Eugene Zabokritski</td><td>Employee</td></tr>",
                            "<tr><td>174</td><td>Benjamin Martin</td><td>Employee</td></tr>",
                            "<tr><td>175</td><td>Reed Koch</td><td>Employee</td></tr>",
                            "<tr><td>176</td><td>David Lawrence</td><td>Employee</td></tr>",
                            "<tr><td>177</td><td>Russell King</td><td>Employee</td></tr>",
                            "<tr><td>178</td><td>John Frum</td><td>Employee</td></tr>",
                            "<tr><td>179</td><td>Jan Miksovsky</td><td>Employee</td></tr>",
                            "<tr><td>180</td><td>Katie McAskill-White</td><td>Employee</td></tr>",
                            "<tr><td>181</td><td>Michael Hines</td><td>Employee</td></tr>",
                            "<tr><td>182</td><td>Nitin Mirchandani</td><td>Employee</td></tr>",
                            "<tr><td>183</td><td>Barbara Decker</td><td>Employee</td></tr>",
                            "<tr><td>184</td><td>John Chen</td><td>Employee</td></tr>",
                            "<tr><td>185</td><td>Stefen Hesse</td><td>Employee</td></tr>",
                            "<tr><td>186</td><td>Shane Kim</td><td>Employee</td></tr>",
                            "<tr><td>187</td><td>Yvonne McKay</td><td>Employee</td></tr>",
                            "<tr><td>188</td><td>Douglas Hite</td><td>Employee</td></tr>",
                            "<tr><td>189</td><td>Janeth Esteves</td><td>Employee</td></tr>",
                            "<tr><td>190</td><td>Robert Rounthwaite</td><td>Employee</td></tr>",
                            "<tr><td>191</td><td>Lionel Penuchot</td><td>Employee</td></tr>",
                            "<tr><td>192</td><td>Brenda Diaz</td><td>Employee</td></tr>",
                            "<tr><td>193</td><td>Alejandro McGuel</td><td>Employee</td></tr>",
                            "<tr><td>194</td><td>Fred Northup</td><td>Employee</td></tr>",
                            "<tr><td>195</td><td>Kevin Liu</td><td>Employee</td></tr>",
                            "<tr><td>196</td><td>Shammi Mohamed</td><td>Employee</td></tr>",
                            "<tr><td>197</td><td>Rajesh Patel</td><td>Employee</td></tr>",
                            "<tr><td>198</td><td>Lorraine Nay</td><td>Employee</td></tr>",
                            "<tr><td>199</td><td>Paula Nartker</td><td>Employee</td></tr>",
                            "<tr><td>200</td><td>Frank Lee</td><td>Employee</td></tr>",
                            "<tr><td>201</td><td>Brian Lloyd</td><td>Employee</td></tr>",
                            "<tr><td>202</td><td>Tawana Nusbaum</td><td>Employee</td></tr>",
                            "<tr><td>203</td><td>Ken Myer</td><td>Employee</td></tr>",
                            "<tr><td>204</td><td>Gabe Mares</td><td>Employee</td></tr>",
                            "<tr><td>205</td><td>Lori Kane</td><td>Employee</td></tr>",
                            "<tr><td>206</td><td>Stuart Munson</td><td>Employee</td></tr>",
                            "<tr><td>207</td><td>Greg Alderson</td><td>Employee</td></tr>",
                            "<tr><td>208</td><td>Scott Gode</td><td>Employee</td></tr>",
                            "<tr><td>209</td><td>Kathie Flood</td><td>Employee</td></tr>",
                            "<tr><td>210</td><td>Belinda Newman</td><td>Employee</td></tr>",
                            "<tr><td>211</td><td>Hazem Abolrous</td><td>Employee</td></tr>",
                            "<tr><td>212</td><td>Peng Wu</td><td>Employee</td></tr>",
                            "<tr><td>213</td><td>Sootha Charncherngkha</td><td>Employee</td></tr>",
                            "<tr><td>214</td><td>Andreas Berglund</td><td>Employee</td></tr>",
                            "<tr><td>215</td><td>Mark Harrington</td><td>Employee</td></tr>",
                            "<tr><td>216</td><td>Sean Alexander</td><td>Employee</td></tr>",
                            "<tr><td>217</td><td>Zainal Arifin</td><td>Employee</td></tr>",
                            "<tr><td>218</td><td>Tengiz Kharatishvili</td><td>Employee</td></tr>",
                            "<tr><td>219</td><td>Sean Chai</td><td>Employee</td></tr>",
                            "<tr><td>220</td><td>Karen Berge</td><td>Employee</td></tr>",
                            "<tr><td>221</td><td>Chris Norred</td><td>Employee</td></tr>",
                            "<tr><td>222</td><td>A. Scott Wright</td><td>Employee</td></tr>",
                            "<tr><td>223</td><td>Sairaj Uddin</td><td>Employee</td></tr>",
                            "<tr><td>224</td><td>William Vong</td><td>Employee</td></tr>",
                            "<tr><td>225</td><td>Alan Brewer</td><td>Employee</td></tr>",
                            "<tr><td>226</td><td>Brian LaMee</td><td>Employee</td></tr>",
                            "<tr><td>227</td><td>Gary Altman</td><td>Employee</td></tr>",
                            "<tr><td>228</td><td>Christian Kleinerman</td><td>Employee</td></tr>",
                            "<tr><td>229</td><td>Lori Penor</td><td>Employee</td></tr>",
                            "<tr><td>230</td><td>Stuart Macrae</td><td>Employee</td></tr>",
                            "<tr><td>231</td><td>Jo Berry</td><td>Employee</td></tr>",
                            "<tr><td>232</td><td>Pat Coleman</td><td>Employee</td></tr>",
                            "<tr><td>233</td><td>Magnus Hedlund</td><td>Employee</td></tr>",
                            "<tr><td>234</td><td>Laura Norman</td><td>Employee</td></tr>",
                            "<tr><td>235</td><td>Paula Barreto de Mattos</td><td>Employee</td></tr>",
                            "<tr><td>236</td><td>Grant Culbertson</td><td>Employee</td></tr>",
                            "<tr><td>237</td><td>Hao Chen</td><td>Employee</td></tr>",
                            "<tr><td>238</td><td>Vidur Luthra</td><td>Employee</td></tr>",
                            "<tr><td>239</td><td>Mindy Martin</td><td>Employee</td></tr>",
                            "<tr><td>240</td><td>Willis Johnson</td><td>Employee</td></tr>",
                            "<tr><td>241</td><td>David Liu</td><td>Employee</td></tr>",
                            "<tr><td>242</td><td>Deborah Poe</td><td>Employee</td></tr>",
                            "<tr><td>243</td><td>Candy Spoon</td><td>Employee</td></tr>",
                            "<tr><td>244</td><td>Bryan Walton</td><td>Employee</td></tr>",
                            "<tr><td>245</td><td>Barbara Moreland</td><td>Employee</td></tr>",
                            "<tr><td>246</td><td>Dragan Tomic</td><td>Employee</td></tr>",
                            "<tr><td>247</td><td>Janet Sheperdigian</td><td>Employee</td></tr>",
                            "<tr><td>248</td><td>Mike Seamans</td><td>Employee</td></tr>",
                            "<tr><td>249</td><td>Wendy Kahn</td><td>Employee</td></tr>",
                            "<tr><td>250</td><td>Sheela Word</td><td>Employee</td></tr>",
                            "<tr><td>251</td><td>Mikael Sandberg</td><td>Employee</td></tr>",
                            "<tr><td>252</td><td>Arvind Rao</td><td>Employee</td></tr>",
                            "<tr><td>253</td><td>Linda Meisner</td><td>Employee</td></tr>",
                            "<tr><td>254</td><td>Fukiko Ogisu</td><td>Employee</td></tr>",
                            "<tr><td>255</td><td>Gordon Hee</td><td>Employee</td></tr>",
                            "<tr><td>256</td><td>Frank Pellow</td><td>Employee</td></tr>",
                            "<tr><td>257</td><td>Eric Kurjan</td><td>Employee</td></tr>",
                            "<tr><td>258</td><td>Erin Hagens</td><td>Employee</td></tr>",
                            "<tr><td>259</td><td>Ben Miller</td><td>Employee</td></tr>",
                            "<tr><td>260</td><td>Annette Hill</td><td>Employee</td></tr>",
                            "<tr><td>261</td><td>Reinout Hillmann</td><td>Employee</td></tr>",
                            "<tr><td>262</td><td>David Barber</td><td>Employee</td></tr>",
                            "<tr><td>263</td><td>Jean Trenary</td><td>Employee</td></tr>",
                            "<tr><td>264</td><td>Stephanie Conroy</td><td>Employee</td></tr>",
                            "<tr><td>265</td><td>Ashvini Sharma</td><td>Employee</td></tr>",
                            "<tr><td>266</td><td>Peter Connelly</td><td>Employee</td></tr>",
                            "<tr><td>267</td><td>Karen Berg</td><td>Employee</td></tr>",
                            "<tr><td>268</td><td>Ramesh Meyyappan</td><td>Employee</td></tr>",
                            "<tr><td>269</td><td>Dan Bacon</td><td>Employee</td></tr>",
                            "<tr><td>270</td><td>François Ajenstat</td><td>Employee</td></tr>",
                            "<tr><td>271</td><td>Dan Wilson</td><td>Employee</td></tr>",
                            "<tr><td>272</td><td>Janaina Bueno</td><td>Employee</td></tr>",
                            "<tr><td>273</td><td>Brian Welcker</td><td>Employee</td></tr>",
                            "<tr><td>274</td><td>Stephen Jiang</td><td>Employee</td></tr>",
                            "<tr><td>275</td><td>Michael Blythe</td><td>Employee</td></tr>",
                            "<tr><td>276</td><td>Linda Mitchell</td><td>Employee</td></tr>",
                            "<tr><td>277</td><td>Jillian Carson</td><td>Employee</td></tr>",
                            "<tr><td>278</td><td>Garrett Vargas</td><td>Employee</td></tr>",
                            "<tr><td>279</td><td>Tsvi Reiter</td><td>Employee</td></tr>",
                            "<tr><td>280</td><td>Pamela Ansman-Wolfe</td><td>Employee</td></tr>",
                            "<tr><td>281</td><td>Shu Ito</td><td>Employee</td></tr>",
                            "<tr><td>282</td><td>José Saraiva</td><td>Employee</td></tr>",
                            "<tr><td>283</td><td>David Campbell</td><td>Employee</td></tr>",
                            "<tr><td>284</td><td>Tete Mensa-Annan</td><td>Employee</td></tr>",
                            "<tr><td>285</td><td>Syed Abbas</td><td>Employee</td></tr>",
                            "<tr><td>286</td><td>Lynn Tsoflias</td><td>Employee</td></tr>",
                            "<tr><td>287</td><td>Amy Alberts</td><td>Employee</td></tr>",
                            "<tr><td>288</td><td>Rachel Valdez</td><td>Employee</td></tr>",
                            "<tr><td>289</td><td>Jae Pak</td><td>Employee</td></tr>",
                            "<tr><td>290</td><td>Ranjit Varkey Chudukatil</td><td>Employee</td></tr>",
                            "<tr><td>1492</td><td>Australia Bike Retailer</td><td>Vendor</td></tr>",
                            "<tr><td>1494</td><td>Allenson Cycles</td><td>Vendor</td></tr>",
                            "<tr><td>1496</td><td>Advanced Bicycles</td><td>Vendor</td></tr>",
                            "<tr><td>1498</td><td>Trikes, Inc.</td><td>Vendor</td></tr>",
                            "<tr><td>1500</td><td>Morgan Bike Accessories</td><td>Vendor</td></tr>",
                            "<tr><td>1502</td><td>Cycling Master</td><td>Vendor</td></tr>",
                            "<tr><td>1504</td><td>Chicago Rent-All</td><td>Vendor</td></tr>",
                            "<tr><td>1506</td><td>Greenwood Athletic Company</td><td>Vendor</td></tr>",
                            "<tr><td>1508</td><td>Compete Enterprises, Inc</td><td>Vendor</td></tr>",
                            "<tr><td>1510</td><td>International</td><td>Vendor</td></tr>",
                            "<tr><td>1512</td><td>Light Speed</td><td>Vendor</td></tr>",
                            "<tr><td>1514</td><td>Training Systems</td><td>Vendor</td></tr>",
                            "<tr><td>1516</td><td>Gardner Touring Cycles</td><td>Vendor</td></tr>",
                            "<tr><td>1518</td><td>International Trek Center</td><td>Vendor</td></tr>",
                            "<tr><td>1520</td><td>G &amp; K Bicycle Corp.</td><td>Vendor</td></tr>",
                            "<tr><td>1522</td><td>First National Sport Co.</td><td>Vendor</td></tr>",
                            "<tr><td>1524</td><td>Recreation Place</td><td>Vendor</td></tr>",
                            "<tr><td>1526</td><td>International Bicycles</td><td>Vendor</td></tr>",
                            "<tr><td>1528</td><td>Image Makers Bike Center</td><td>Vendor</td></tr>",
                            "<tr><td>1530</td><td>Comfort Road Bicycles</td><td>Vendor</td></tr>",
                            "<tr><td>1532</td><td>Knopfler Cycles</td><td>Vendor</td></tr>",
                            "<tr><td>1534</td><td>Ready Rentals</td><td>Vendor</td></tr>",
                            "<tr><td>1536</td><td>Cruger Bike Company</td><td>Vendor</td></tr>",
                            "<tr><td>1538</td><td>Vista Road Bikes</td><td>Vendor</td></tr>",
                            "<tr><td>1540</td><td>Bergeron Off-Roads</td><td>Vendor</td></tr>",
                            "<tr><td>1542</td><td>Hill&#39;s Bicycle Service</td><td>Vendor</td></tr>",
                            "<tr><td>1544</td><td>Circuit Cycles</td><td>Vendor</td></tr>",
                            "<tr><td>1546</td><td>Green Lake Bike Company</td><td>Vendor</td></tr>",
                            "<tr><td>1548</td><td>Consumer Cycles</td><td>Vendor</td></tr>",
                            "<tr><td>1550</td><td>Merit Bikes</td><td>Vendor</td></tr>",
                            "<tr><td>1552</td><td>Sports House</td><td>Vendor</td></tr>",
                            "<tr><td>1554</td><td>WestAmerica Bicycle Co.</td><td>Vendor</td></tr>",
                            "<tr><td>1556</td><td>West Junction Cycles</td><td>Vendor</td></tr>",
                            "<tr><td>1558</td><td>Marsh</td><td>Vendor</td></tr>",
                            "<tr><td>1560</td><td>Capital Road Cycles</td><td>Vendor</td></tr>",
                            "<tr><td>1562</td><td>Norstan Bike Hut</td><td>Vendor</td></tr>",
                            "<tr><td>1564</td><td>Illinois Trek &amp; Clothing</td><td>Vendor</td></tr>",
                            "<tr><td>1566</td><td>Burnett Road Warriors</td><td>Vendor</td></tr>",
                            "<tr><td>1568</td><td>Custom Frames, Inc.</td><td>Vendor</td></tr>",
                            "<tr><td>1570</td><td>First Rate Bicycles</td><td>Vendor</td></tr>",
                            "<tr><td>1572</td><td>National Bike Association</td><td>Vendor</td></tr>",
                            "<tr><td>1574</td><td>Jeff&#39;s Sporting Goods</td><td>Vendor</td></tr>",
                            "<tr><td>1576</td><td>Superior Bicycles</td><td>Vendor</td></tr>",
                            "<tr><td>1578</td><td>Vision Cycles, Inc.</td><td>Vendor</td></tr>",
                            "<tr><td>1580</td><td>Litware, Inc.</td><td>Vendor</td></tr>",
                            "<tr><td>1582</td><td>Inner City Bikes</td><td>Vendor</td></tr>",
                            "<tr><td>1584</td><td>Trey Research</td><td>Vendor</td></tr>",
                            "<tr><td>1586</td><td>Mitchell Sports</td><td>Vendor</td></tr>",
                            "<tr><td>1588</td><td>Signature Cycles</td><td>Vendor</td></tr>",
                            "<tr><td>1590</td><td>SUPERSALES INC.</td><td>Vendor</td></tr>",
                            "<tr><td>1592</td><td>Lindell</td><td>Vendor</td></tr>",
                            "<tr><td>1594</td><td>Fitness Association</td><td>Vendor</td></tr>",
                            "<tr><td>1596</td><td>A. Datum Corporation</td><td>Vendor</td></tr>",
                            "<tr><td>1598</td><td>Continental Pro Cycles</td><td>Vendor</td></tr>",
                            "<tr><td>1600</td><td>Federal Sport</td><td>Vendor</td></tr>",
                            "<tr><td>1602</td><td>Beaumont Bikes</td><td>Vendor</td></tr>",
                            "<tr><td>1604</td><td>Bike Satellite Inc.</td><td>Vendor</td></tr>",
                            "<tr><td>1606</td><td>Northwind Traders</td><td>Vendor</td></tr>",
                            "<tr><td>1608</td><td>Sport Playground</td><td>Vendor</td></tr>",
                            "<tr><td>1610</td><td>Hybrid Bicycle Center</td><td>Vendor</td></tr>",
                            "<tr><td>1612</td><td>Midwest Sport, Inc.</td><td>Vendor</td></tr>",
                            "<tr><td>1614</td><td>Reliance Fitness, Inc.</td><td>Vendor</td></tr>",
                            "<tr><td>1616</td><td>Aurora Bike Center</td><td>Vendor</td></tr>",
                            "<tr><td>1618</td><td>Metro Sport Equipment</td><td>Vendor</td></tr>",
                            "<tr><td>1620</td><td>Lakewood Bicycle</td><td>Vendor</td></tr>",
                            "<tr><td>1622</td><td>Speed Corporation</td><td>Vendor</td></tr>",
                            "<tr><td>1624</td><td>Competition Bike Training Systems</td><td>Vendor</td></tr>",
                            "<tr><td>1626</td><td>Hill Bicycle Center</td><td>Vendor</td></tr>",
                            "<tr><td>1628</td><td>Bicycle Specialists</td><td>Vendor</td></tr>",
                            "<tr><td>1630</td><td>Indiana Bicycle Center</td><td>Vendor</td></tr>",
                            "<tr><td>1632</td><td>Sport Fan Co.</td><td>Vendor</td></tr>",
                            "<tr><td>1634</td><td>GMA Ski &amp; Bike</td><td>Vendor</td></tr>",
                            "<tr><td>1636</td><td>Integrated Sport Products</td><td>Vendor</td></tr>",
                            "<tr><td>1638</td><td>Inline Accessories</td><td>Vendor</td></tr>",
                            "<tr><td>1640</td><td>Legend Cycles</td><td>Vendor</td></tr>",
                            "<tr><td>1642</td><td>Electronic Bike Co.</td><td>Vendor</td></tr>",
                            "<tr><td>1644</td><td>International Sport Assoc.</td><td>Vendor</td></tr>",
                            "<tr><td>1646</td><td>Electronic Bike Repair &amp; Supplies</td><td>Vendor</td></tr>",
                            "<tr><td>1648</td><td>Wide World Importers</td><td>Vendor</td></tr>",
                            "<tr><td>1650</td><td>American Bicycles and Wheels</td><td>Vendor</td></tr>",
                            "<tr><td>1652</td><td>Victory Bikes</td><td>Vendor</td></tr>",
                            "<tr><td>1654</td><td>American Bikes</td><td>Vendor</td></tr>",
                            "<tr><td>1656</td><td>Mountain Works</td><td>Vendor</td></tr>",
                            "<tr><td>1658</td><td>Crowley Sport</td><td>Vendor</td></tr>",
                            "<tr><td>1660</td><td>Magic Cycles</td><td>Vendor</td></tr>",
                            "<tr><td>1662</td><td>Northern Bike Travel</td><td>Vendor</td></tr>",
                            "<tr><td>1664</td><td>Anderson&#39;s Custom Bikes</td><td>Vendor</td></tr>",
                            "<tr><td>1666</td><td>Leaf River Terrain</td><td>Vendor</td></tr>",
                            "<tr><td>1668</td><td>Touring Equipment Center</td><td>Vendor</td></tr>",
                            "<tr><td>1670</td><td>Holiday Skate &amp; Cycle</td><td>Vendor</td></tr>",
                            "<tr><td>1672</td><td>Expert Bike Co</td><td>Vendor</td></tr>",
                            "<tr><td>1674</td><td>Varsity Sport Co.</td><td>Vendor</td></tr>",
                            "<tr><td>1676</td><td>Team Athletic Co.</td><td>Vendor</td></tr>",
                            "<tr><td>1678</td><td>Proseware, Inc.</td><td>Vendor</td></tr>",
                            "<tr><td>1680</td><td>Jackson Authority</td><td>Vendor</td></tr>",
                            "<tr><td>1682</td><td>Premier Sport, Inc.</td><td>Vendor</td></tr>",
                            "<tr><td>1684</td><td>Professional Athletic Consultants</td><td>Vendor</td></tr>",
                            "<tr><td>1686</td><td>Pro Sport Industries</td><td>Vendor</td></tr>",
                            "<tr><td>1688</td><td>Wood Fitness</td><td>Vendor</td></tr>",
                            "<tr><td>1690</td><td>Bloomington Multisport</td><td>Vendor</td></tr>",
                            "<tr><td>1692</td><td>Carlson Specialties</td><td>Vendor</td></tr>",
                            "<tr><td>1694</td><td>Compete, Inc.</td><td>Vendor</td></tr>",
                            "<tr><td>1696</td><td>Chicago City Saddles</td><td>Vendor</td></tr>",
                            "<tr><td>1698</td><td>Business Equipment Center</td><td>Vendor</td></tr>",
                            "</table>"
                        ]
                    }
                }
            ],
            "execution_count": 5
        }
    ]
}