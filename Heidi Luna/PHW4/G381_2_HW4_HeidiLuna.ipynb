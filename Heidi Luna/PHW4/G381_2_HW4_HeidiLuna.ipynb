{
    "metadata": {
        "kernelspec": {
            "name": "SQL",
            "display_name": "SQL",
            "language": "sql"
        },
        "language_info": {
            "name": "sql",
            "version": ""
        }
    },
    "nbformat_minor": 2,
    "nbformat": 4,
    "cells": [
        {
            "cell_type": "markdown",
            "source": [
                "# Chapter 8: Data Modifications Propositions "
            ],
            "metadata": {
                "azdata_cell_guid": "fe61f36e-df4a-448b-9e27-f0e6ad663b6d"
            },
            "attachments": {}
        },
        {
            "cell_type": "markdown",
            "source": [
                "## **<u>UPDATE MODIFIER:</u>**\n",
                "\n",
                "## 1. SQL Code Explanation:\n",
                "\n",
                "This SQL script is designed to perform an update operation on a specific table in the `TSQLV4` database. Here’s a detailed breakdown:\n",
                "\n",
                "### Database Context:\n",
                "```sql\n",
                "USE TSQLV4;\n",
                "```\n",
                "\n",
                "### Update Statement:\n",
                "- UPDATE dbo.OrderDetails: Specifies the OrderDetails table in the dbo schema as the target for the update operation.\n",
                "- SET discount = discount + 0.05: This line increases the discount column’s value by 0.05 (or 5%) for each row that meets the condition defined in the WHERE clause.\n",
                "- WHERE productid = 51: Limits the update operation to rows where the productid column has a value of 51. Rows with other productid values remain unaffected.\n",
                "\n",
                ""
            ],
            "metadata": {
                "azdata_cell_guid": "f5a2f11e-fd93-47aa-a4c4-a5444bf3192d"
            },
            "attachments": {}
        },
        {
            "cell_type": "code",
            "source": [
                "USE TSQLV4;\n",
                "UPDATE dbo.OrderDetails\n",
                "  SET discount = discount + 0.05\n",
                "WHERE productid = 51;"
            ],
            "metadata": {
                "azdata_cell_guid": "156f4477-ae02-4525-bb6a-e0790710a68d",
                "language": "sql"
            },
            "outputs": [
                {
                    "output_type": "display_data",
                    "data": {
                        "text/html": "(39 rows affected)"
                    },
                    "metadata": {}
                },
                {
                    "output_type": "display_data",
                    "data": {
                        "text/html": "Total execution time: 00:00:00.003"
                    },
                    "metadata": {}
                }
            ],
            "execution_count": 3
        },
        {
            "cell_type": "markdown",
            "source": [
                "## **<u>UPDATE MODIFIER:</u>**\n",
                "\n",
                "## 2. SQL Code Explanation:\n",
                "\n",
                "This SQL script performs an update operation using a compound assignment operator on the `OrderDetails` table in the `TSQLV4` database. Here’s a detailed explanation:\n",
                "\n",
                "### Database Context:\n",
                "```sql\n",
                "USE TSQLV4;\n",
                "```\n",
                "\n",
                "### Update Statement:\n",
                "- UPDATE dbo.OrderDetails: Specifies that the update operation will be applied to the OrderDetails table in the dbo schema.\n",
                "- SET discount += 0.05: Uses the compound assignment operator += to increment the discount column by 0.05 (or 5%) for each row that meets the condition in the WHERE clause.\n",
                "The compound assignment operator += is shorthand for discount = discount + 0.05.\n",
                "- WHERE productid = 51: Applies the update only to rows where the productid column has a value of 51. Rows with other productid values remain unchanged.\n",
                ""
            ],
            "metadata": {
                "language": "sql",
                "azdata_cell_guid": "7acbda15-bb4d-42a6-8cb3-42bf7f0a676b"
            },
            "attachments": {}
        },
        {
            "cell_type": "code",
            "source": [
                "USE TSQLV4;\n",
                "UPDATE dbo.OrderDetails\n",
                "  SET discount += 0.05\n",
                "WHERE productid = 51;\n",
                "GO"
            ],
            "metadata": {
                "language": "sql",
                "azdata_cell_guid": "c6d03743-4bf3-4e67-9add-eb9a77b3aa2e",
                "tags": []
            },
            "outputs": [
                {
                    "output_type": "display_data",
                    "data": {
                        "text/html": "(39 rows affected)"
                    },
                    "metadata": {}
                },
                {
                    "output_type": "display_data",
                    "data": {
                        "text/html": "Total execution time: 00:00:00.007"
                    },
                    "metadata": {}
                }
            ],
            "execution_count": 24
        },
        {
            "cell_type": "markdown",
            "source": [
                "## **<u>UPDATE MODIFIER:</u>**\n",
                "\n",
                "## 3. SQL Code Explanation:\n",
                "\n",
                "This SQL script accomplishes several tasks: it drops the `OrderDetails` table if it exists, creates a new `OrderDetails` table with specified columns and constraints, inserts data into it from another table, and finally updates the discount for a specific product while outputting the changes.\n",
                "\n",
                "### Database Context:\n",
                "```sql\n",
                "DROP TABLE IF EXISTS dbo.OrderDetails;\n",
                "```\n",
                "### Create Table Statement:\n",
                "This statement creates a new table named OrderDetails with the following columns:\n",
                "- orderid: An integer that cannot be null.\n",
                "- productid: An integer that cannot be null.\n",
                "- unitprice: A monetary value that cannot be null, with a default value of 0.\n",
                "- qty: A small integer that cannot be null, with a default value of 1.\n",
                "- discount: A numeric value with up to 4 digits total and 3 digits after the decimal, cannot be null, with a default value of 0.\n",
                "\n",
                "### Constraints:\n",
                "- Primary Key:\n",
                "1. PK_OrderDetails: A composite primary key on (orderid, productid).\n",
                "- Check Constraints:\n",
                "1. CHK_discount: Ensures the discount value is between 0 and 1.\n",
                "2. CHK_qty: Ensures that qty is greater than 0.\n",
                "3. CHK_unitprice: Ensures that unitprice is non-negative.\n",
                "\n",
                "### Update Statement:\n",
                "This statement updates the discount column for products where productid equals 51, increasing it by 0.05.\n",
                "\n",
                "### Output Clause:\n",
                "1. The OUTPUT clause returns:\n",
                "- inserted.orderid: The orderid of the updated record.\n",
                "- inserted.productid: The productid of the updated record.\n",
                "- deleted.discount AS olddiscount: The old discount value before the update.\n",
                "- inserted.discount AS newdiscount: The new discount value after the update."
            ],
            "metadata": {
                "language": "sql",
                "azdata_cell_guid": "3e95b835-0550-4e53-9670-ac71c5333643"
            },
            "attachments": {}
        },
        {
            "cell_type": "code",
            "source": [
                "DROP TABLE IF EXISTS dbo.OrderDetails;\n",
                "\n",
                "\n",
                "CREATE TABLE dbo.OrderDetails\n",
                "(\n",
                "  orderid   INT           NOT NULL,\n",
                "  productid INT           NOT NULL,\n",
                "  unitprice MONEY         NOT NULL\n",
                "    CONSTRAINT DFT_OrderDetails_unitprice DEFAULT(0),\n",
                "  qty       SMALLINT      NOT NULL\n",
                "    CONSTRAINT DFT_OrderDetails_qty DEFAULT(1),\n",
                "  discount  NUMERIC(4, 3) NOT NULL\n",
                "    CONSTRAINT DFT_OrderDetails_discount DEFAULT(0),\n",
                "  CONSTRAINT PK_OrderDetails PRIMARY KEY(orderid, productid),\n",
                "  CONSTRAINT CHK_discount  CHECK (discount BETWEEN 0 AND 1),\n",
                "  CONSTRAINT CHK_qty  CHECK (qty > 0),\n",
                "  CONSTRAINT CHK_unitprice CHECK (unitprice >= 0)\n",
                ");\n",
                "GO\n",
                "\n",
                "\n",
                "INSERT INTO dbo.OrderDetails SELECT * FROM Sales.OrderDetails;\n",
                "\n",
                "\n",
                "UPDATE dbo.OrderDetails\n",
                "  SET discount += 0.05\n",
                "OUTPUT\n",
                "  inserted.orderid,\n",
                "  inserted.productid,\n",
                "  deleted.discount AS olddiscount,\n",
                "  inserted.discount AS newdiscount\n",
                "WHERE productid = 51;\n",
                ""
            ],
            "metadata": {
                "azdata_cell_guid": "a17826f5-704f-4b17-b8f9-d7dd6eb550b7",
                "language": "sql"
            },
            "outputs": [
                {
                    "output_type": "display_data",
                    "data": {
                        "text/html": "Commands completed successfully."
                    },
                    "metadata": {}
                },
                {
                    "output_type": "display_data",
                    "data": {
                        "text/html": "(2155 rows affected)"
                    },
                    "metadata": {}
                },
                {
                    "output_type": "display_data",
                    "data": {
                        "text/html": "(39 rows affected)"
                    },
                    "metadata": {}
                },
                {
                    "output_type": "display_data",
                    "data": {
                        "text/html": "Total execution time: 00:00:00.110"
                    },
                    "metadata": {}
                },
                {
                    "output_type": "execute_result",
                    "metadata": {},
                    "execution_count": 7,
                    "data": {
                        "application/vnd.dataresource+json": {
                            "schema": {
                                "fields": [
                                    {
                                        "name": "orderid"
                                    },
                                    {
                                        "name": "productid"
                                    },
                                    {
                                        "name": "olddiscount"
                                    },
                                    {
                                        "name": "newdiscount"
                                    }
                                ]
                            },
                            "data": [
                                {
                                    "orderid": "10249",
                                    "productid": "51",
                                    "olddiscount": "0.000",
                                    "newdiscount": "0.050"
                                },
                                {
                                    "orderid": "10250",
                                    "productid": "51",
                                    "olddiscount": "0.150",
                                    "newdiscount": "0.200"
                                },
                                {
                                    "orderid": "10291",
                                    "productid": "51",
                                    "olddiscount": "0.100",
                                    "newdiscount": "0.150"
                                },
                                {
                                    "orderid": "10335",
                                    "productid": "51",
                                    "olddiscount": "0.200",
                                    "newdiscount": "0.250"
                                },
                                {
                                    "orderid": "10362",
                                    "productid": "51",
                                    "olddiscount": "0.000",
                                    "newdiscount": "0.050"
                                },
                                {
                                    "orderid": "10397",
                                    "productid": "51",
                                    "olddiscount": "0.150",
                                    "newdiscount": "0.200"
                                },
                                {
                                    "orderid": "10472",
                                    "productid": "51",
                                    "olddiscount": "0.000",
                                    "newdiscount": "0.050"
                                },
                                {
                                    "orderid": "10484",
                                    "productid": "51",
                                    "olddiscount": "0.000",
                                    "newdiscount": "0.050"
                                },
                                {
                                    "orderid": "10486",
                                    "productid": "51",
                                    "olddiscount": "0.000",
                                    "newdiscount": "0.050"
                                },
                                {
                                    "orderid": "10537",
                                    "productid": "51",
                                    "olddiscount": "0.000",
                                    "newdiscount": "0.050"
                                },
                                {
                                    "orderid": "10549",
                                    "productid": "51",
                                    "olddiscount": "0.150",
                                    "newdiscount": "0.200"
                                },
                                {
                                    "orderid": "10555",
                                    "productid": "51",
                                    "olddiscount": "0.200",
                                    "newdiscount": "0.250"
                                },
                                {
                                    "orderid": "10558",
                                    "productid": "51",
                                    "olddiscount": "0.000",
                                    "newdiscount": "0.050"
                                },
                                {
                                    "orderid": "10561",
                                    "productid": "51",
                                    "olddiscount": "0.000",
                                    "newdiscount": "0.050"
                                },
                                {
                                    "orderid": "10567",
                                    "productid": "51",
                                    "olddiscount": "0.000",
                                    "newdiscount": "0.050"
                                },
                                {
                                    "orderid": "10634",
                                    "productid": "51",
                                    "olddiscount": "0.000",
                                    "newdiscount": "0.050"
                                },
                                {
                                    "orderid": "10663",
                                    "productid": "51",
                                    "olddiscount": "0.050",
                                    "newdiscount": "0.100"
                                },
                                {
                                    "orderid": "10665",
                                    "productid": "51",
                                    "olddiscount": "0.000",
                                    "newdiscount": "0.050"
                                },
                                {
                                    "orderid": "10709",
                                    "productid": "51",
                                    "olddiscount": "0.000",
                                    "newdiscount": "0.050"
                                },
                                {
                                    "orderid": "10716",
                                    "productid": "51",
                                    "olddiscount": "0.000",
                                    "newdiscount": "0.050"
                                },
                                {
                                    "orderid": "10731",
                                    "productid": "51",
                                    "olddiscount": "0.050",
                                    "newdiscount": "0.100"
                                },
                                {
                                    "orderid": "10762",
                                    "productid": "51",
                                    "olddiscount": "0.000",
                                    "newdiscount": "0.050"
                                },
                                {
                                    "orderid": "10776",
                                    "productid": "51",
                                    "olddiscount": "0.050",
                                    "newdiscount": "0.100"
                                },
                                {
                                    "orderid": "10800",
                                    "productid": "51",
                                    "olddiscount": "0.100",
                                    "newdiscount": "0.150"
                                },
                                {
                                    "orderid": "10802",
                                    "productid": "51",
                                    "olddiscount": "0.250",
                                    "newdiscount": "0.300"
                                },
                                {
                                    "orderid": "10821",
                                    "productid": "51",
                                    "olddiscount": "0.000",
                                    "newdiscount": "0.050"
                                },
                                {
                                    "orderid": "10843",
                                    "productid": "51",
                                    "olddiscount": "0.250",
                                    "newdiscount": "0.300"
                                },
                                {
                                    "orderid": "10860",
                                    "productid": "51",
                                    "olddiscount": "0.000",
                                    "newdiscount": "0.050"
                                },
                                {
                                    "orderid": "10870",
                                    "productid": "51",
                                    "olddiscount": "0.000",
                                    "newdiscount": "0.050"
                                },
                                {
                                    "orderid": "10948",
                                    "productid": "51",
                                    "olddiscount": "0.000",
                                    "newdiscount": "0.050"
                                },
                                {
                                    "orderid": "10956",
                                    "productid": "51",
                                    "olddiscount": "0.000",
                                    "newdiscount": "0.050"
                                },
                                {
                                    "orderid": "10965",
                                    "productid": "51",
                                    "olddiscount": "0.000",
                                    "newdiscount": "0.050"
                                },
                                {
                                    "orderid": "10977",
                                    "productid": "51",
                                    "olddiscount": "0.000",
                                    "newdiscount": "0.050"
                                },
                                {
                                    "orderid": "10995",
                                    "productid": "51",
                                    "olddiscount": "0.000",
                                    "newdiscount": "0.050"
                                },
                                {
                                    "orderid": "10999",
                                    "productid": "51",
                                    "olddiscount": "0.050",
                                    "newdiscount": "0.100"
                                },
                                {
                                    "orderid": "11021",
                                    "productid": "51",
                                    "olddiscount": "0.250",
                                    "newdiscount": "0.300"
                                },
                                {
                                    "orderid": "11026",
                                    "productid": "51",
                                    "olddiscount": "0.000",
                                    "newdiscount": "0.050"
                                },
                                {
                                    "orderid": "11045",
                                    "productid": "51",
                                    "olddiscount": "0.000",
                                    "newdiscount": "0.050"
                                },
                                {
                                    "orderid": "11055",
                                    "productid": "51",
                                    "olddiscount": "0.000",
                                    "newdiscount": "0.050"
                                }
                            ]
                        },
                        "text/html": [
                            "<table>",
                            "<tr><th>orderid</th><th>productid</th><th>olddiscount</th><th>newdiscount</th></tr>",
                            "<tr><td>10249</td><td>51</td><td>0.000</td><td>0.050</td></tr>",
                            "<tr><td>10250</td><td>51</td><td>0.150</td><td>0.200</td></tr>",
                            "<tr><td>10291</td><td>51</td><td>0.100</td><td>0.150</td></tr>",
                            "<tr><td>10335</td><td>51</td><td>0.200</td><td>0.250</td></tr>",
                            "<tr><td>10362</td><td>51</td><td>0.000</td><td>0.050</td></tr>",
                            "<tr><td>10397</td><td>51</td><td>0.150</td><td>0.200</td></tr>",
                            "<tr><td>10472</td><td>51</td><td>0.000</td><td>0.050</td></tr>",
                            "<tr><td>10484</td><td>51</td><td>0.000</td><td>0.050</td></tr>",
                            "<tr><td>10486</td><td>51</td><td>0.000</td><td>0.050</td></tr>",
                            "<tr><td>10537</td><td>51</td><td>0.000</td><td>0.050</td></tr>",
                            "<tr><td>10549</td><td>51</td><td>0.150</td><td>0.200</td></tr>",
                            "<tr><td>10555</td><td>51</td><td>0.200</td><td>0.250</td></tr>",
                            "<tr><td>10558</td><td>51</td><td>0.000</td><td>0.050</td></tr>",
                            "<tr><td>10561</td><td>51</td><td>0.000</td><td>0.050</td></tr>",
                            "<tr><td>10567</td><td>51</td><td>0.000</td><td>0.050</td></tr>",
                            "<tr><td>10634</td><td>51</td><td>0.000</td><td>0.050</td></tr>",
                            "<tr><td>10663</td><td>51</td><td>0.050</td><td>0.100</td></tr>",
                            "<tr><td>10665</td><td>51</td><td>0.000</td><td>0.050</td></tr>",
                            "<tr><td>10709</td><td>51</td><td>0.000</td><td>0.050</td></tr>",
                            "<tr><td>10716</td><td>51</td><td>0.000</td><td>0.050</td></tr>",
                            "<tr><td>10731</td><td>51</td><td>0.050</td><td>0.100</td></tr>",
                            "<tr><td>10762</td><td>51</td><td>0.000</td><td>0.050</td></tr>",
                            "<tr><td>10776</td><td>51</td><td>0.050</td><td>0.100</td></tr>",
                            "<tr><td>10800</td><td>51</td><td>0.100</td><td>0.150</td></tr>",
                            "<tr><td>10802</td><td>51</td><td>0.250</td><td>0.300</td></tr>",
                            "<tr><td>10821</td><td>51</td><td>0.000</td><td>0.050</td></tr>",
                            "<tr><td>10843</td><td>51</td><td>0.250</td><td>0.300</td></tr>",
                            "<tr><td>10860</td><td>51</td><td>0.000</td><td>0.050</td></tr>",
                            "<tr><td>10870</td><td>51</td><td>0.000</td><td>0.050</td></tr>",
                            "<tr><td>10948</td><td>51</td><td>0.000</td><td>0.050</td></tr>",
                            "<tr><td>10956</td><td>51</td><td>0.000</td><td>0.050</td></tr>",
                            "<tr><td>10965</td><td>51</td><td>0.000</td><td>0.050</td></tr>",
                            "<tr><td>10977</td><td>51</td><td>0.000</td><td>0.050</td></tr>",
                            "<tr><td>10995</td><td>51</td><td>0.000</td><td>0.050</td></tr>",
                            "<tr><td>10999</td><td>51</td><td>0.050</td><td>0.100</td></tr>",
                            "<tr><td>11021</td><td>51</td><td>0.250</td><td>0.300</td></tr>",
                            "<tr><td>11026</td><td>51</td><td>0.000</td><td>0.050</td></tr>",
                            "<tr><td>11045</td><td>51</td><td>0.000</td><td>0.050</td></tr>",
                            "<tr><td>11055</td><td>51</td><td>0.000</td><td>0.050</td></tr>",
                            "</table>"
                        ]
                    }
                }
            ],
            "execution_count": 7
        },
        {
            "cell_type": "markdown",
            "source": [
                "## **<u>SET MODIFIER:</u>**\n",
                "\n",
                "## 4. SQL Code Explanation:\n",
                "This SQL script updates the `UnitPrice` of products in the `products` table based on their category in the `categories` table. Here's a breakdown of each part:\n",
                "\n",
                "### Database Context:\n",
                "```sql\n",
                "USE TSQLV4;\n",
                "```\n",
                "\n",
                "### Update Statement with Conditional Logic:\n",
                "- UPDATE P: This initiates an update on the table alias P, which represents the products table from the production schema.\n",
                "- SET P.UnitPrice = CASE ... END: The CASE statement is used to apply different updates to P.UnitPrice based on the value of CategoryName in the joined categories table:\n",
                "- WHEN C.CategoryName = 'Electronics': If the product category is Electronics, UnitPrice is increased by 10%, calculated as P.UnitPrice * 1.10.\n",
                "- WHEN C.CategoryName = 'Clothing': If the category is Clothing, UnitPrice is increased by 15%, calculated as P.UnitPrice * 1.15.\n",
                "- WHEN C.CategoryName = 'Home': If the category is Home, UnitPrice is increased by 5%, calculated as P.UnitPrice * 1.05.\n",
                ""
            ],
            "metadata": {
                "azdata_cell_guid": "fda066a0-8bf5-4fad-99ba-1ff9917fb6b1"
            },
            "attachments": {}
        },
        {
            "cell_type": "code",
            "source": [
                "USE TSQLV4;\n",
                "UPDATE P\n",
                "SET P.UnitPrice = \n",
                "    CASE \n",
                "        WHEN C.CategoryName = 'Electronics' THEN P.UnitPrice * 1.10  -- Increase by 10% for Electronics\n",
                "        WHEN C.CategoryName = 'Clothing' THEN P.UnitPrice * 1.15      -- Increase by 15% for Clothing\n",
                "        WHEN C.CategoryName = 'Home' THEN P.UnitPrice * 1.05          -- Increase by 5% for Home\n",
                "        ELSE P.UnitPrice                                             -- No change for other categories\n",
                "    END\n",
                "FROM production.products AS P\n",
                "JOIN production.categories AS C ON P.CategoryID = C.CategoryID;"
            ],
            "metadata": {
                "azdata_cell_guid": "5cd77b1c-927f-4f89-9cd6-3edb65f51c4f",
                "language": "sql",
                "tags": []
            },
            "outputs": [
                {
                    "output_type": "display_data",
                    "data": {
                        "text/html": "(77 rows affected)"
                    },
                    "metadata": {}
                },
                {
                    "output_type": "display_data",
                    "data": {
                        "text/html": "Total execution time: 00:00:00.014"
                    },
                    "metadata": {}
                }
            ],
            "execution_count": 32
        },
        {
            "cell_type": "markdown",
            "source": [
                "## **<u>Update Join:</u>**\n",
                "\n",
                "## 5. SQL Code Explanation:\n",
                "This UPDATE statement is intended to increase the qty (quantity) by 5 for all items in the OrderDetails table where the OrderID is associated with a specific CustomerID in the Orders table. Below is an explanation of each part:\n",
                "\n",
                "### Database Context:\n",
                "```sql\n",
                "USE TSQLV4;\n",
                "```\n",
                "\n",
                "### Update Statement with Conditional Logic:\n",
                "- UPDATE OD: Begins an update on the OrderDetails table, which is aliased as OD.\n",
                "- SET OD.qty = OD.qty + 5: Sets the qty column to its current value plus 5, effectively increasing the quantity by 5 for each row that meets the criteria in the WHERE clause.\n",
                "- FROM dbo.OrderDetails AS OD JOIN dbo.Orders AS O ON OD.OrderID = O.OrderID: Joins the OrderDetails table (aliased as OD) with the Orders table (aliased as O) based on the OrderID. This allows access to both tables’ data in a single query.\n",
                "- WHERE O.custid = 123: Filters the update operation to only apply to rows where custid in the Orders table matches 123.\n",
                "Note: Replace 123 with the desired CustomerID if testing with another customer."
            ],
            "metadata": {
                "language": "sql",
                "azdata_cell_guid": "e5dad84f-a0b1-4df5-b0c7-2ddb37bb93aa"
            },
            "attachments": {}
        },
        {
            "cell_type": "code",
            "source": [
                "USE TSQLV4;\n",
                "UPDATE OD\n",
                "SET OD.qty = OD.qty + 5  -- Increase quantity by 5\n",
                "FROM dbo.OrderDetails AS OD\n",
                "JOIN dbo.Orders AS O ON OD.OrderID = O.OrderID\n",
                "WHERE O.custid= 123;  -- Replace 123 with the specific CustomerID"
            ],
            "metadata": {
                "language": "sql",
                "azdata_cell_guid": "9663a7f8-d358-4c57-ad9b-b1a1be7b9b19",
                "tags": []
            },
            "outputs": [
                {
                    "output_type": "display_data",
                    "data": {
                        "text/html": "(0 rows affected)"
                    },
                    "metadata": {}
                },
                {
                    "output_type": "display_data",
                    "data": {
                        "text/html": "Total execution time: 00:00:00.022"
                    },
                    "metadata": {}
                }
            ],
            "execution_count": 4
        },
        {
            "cell_type": "markdown",
            "source": [
                "## **<u>Update Join:</u>**\n",
                "\n",
                "## 6. SQL Code Explanation:\n",
                "This SQL script increases the `discount` by 10% for all entries in the `OrderDetails` table where the `OrderID` is associated with a specific customer (`custid = 1`). Here’s a detailed breakdown:\n",
                "\n",
                "### Database Context:\n",
                "```sql\n",
                "USE TSQLV4;\n",
                "```\n",
                "\n",
                "### Update Statement with Conditional Logic:\n",
                "- UPDATE OD: Specifies that the OrderDetails table (aliased as OD) is the target for the update operation.\n",
                "- SET discount += 0.10: Uses the compound assignment operator += to add 0.10 (or 10%) to the existing discount value for each qualifying row.\n",
                "The += operator is shorthand for discount = discount + 0.10.\n",
                "- FROM dbo.OrderDetails AS OD INNER JOIN dbo.Orders AS O ON OD.orderid = O.orderid: Joins the OrderDetails table (aliased as OD) with the Orders table (aliased as O) on the OrderID. This allows the update to apply only to rows in OrderDetails that are associated with specific orders in Orders.\n",
                "- WHERE O.custid = 1: Filters the update operation to rows where custid in the Orders table is 1. Replace 1 with another CustomerID if necessary."
            ],
            "metadata": {
                "language": "sql",
                "azdata_cell_guid": "da8c538c-bf85-47f9-b5de-fa88bee7c6d2"
            },
            "attachments": {}
        },
        {
            "cell_type": "code",
            "source": [
                "USE TSQLV4;\n",
                "UPDATE OD\n",
                "  SET discount += 0.10\n",
                "FROM dbo.OrderDetails AS OD\n",
                "  INNER JOIN dbo.Orders AS O\n",
                "    ON OD.orderid = O.orderid\n",
                "WHERE O.custid = 1;\n",
                ""
            ],
            "metadata": {
                "azdata_cell_guid": "8bd13cc4-e205-4c56-aa37-7dba519a2263",
                "language": "sql",
                "tags": []
            },
            "outputs": [
                {
                    "output_type": "display_data",
                    "data": {
                        "text/html": "(0 rows affected)"
                    },
                    "metadata": {}
                },
                {
                    "output_type": "display_data",
                    "data": {
                        "text/html": "Total execution time: 00:00:00.004"
                    },
                    "metadata": {}
                }
            ],
            "execution_count": 39
        },
        {
            "cell_type": "markdown",
            "source": [
                "## **<u>Case Modifier:</u>**\n",
                "\n",
                "## 7. SQL Code Explanation:\n",
                "This SQL script marks products as discontinued in the `products` table if they belong to a category named \"Obsolete.\" It also uses the `OUTPUT` clause to show before-and-after values of the `Discontinued` status for each updated product. Here’s a detailed breakdown\n",
                "\n",
                "### Database Context:\n",
                "```sql\n",
                "USE TSQLV4;\n",
                "```\n",
                "\n",
                "### Update Statement with Output Clause:\n",
                "1. UPDATE P: Initiates an update on the products table, which is aliased as P.\n",
                "2. SET P.Discontinued = 1: Sets the Discontinued column to 1, marking the product as discontinued for each row that matches the criteria.\n",
                "3. OUTPUT Clause: The OUTPUT clause returns information about the changes made by this UPDATE statement:\n",
                "- Deleted.Discontinued AS OldStatus: Captures the old value of Discontinued before the update.\n",
                "- Inserted.Discontinued AS NewStatus: Captures the new value of Discontinued after the update.\n",
                "- Inserted.ProductID: Shows the ProductID of each updated product, allowing you to track which products were modified.\n",
                "4. FROM production.products AS P JOIN production.categories AS C ON P.CategoryID = C.CategoryID: Joins products (aliased as P) with categories (aliased as C) on CategoryID. This join enables access to the category information for each product.\n",
                "5. WHERE C.CategoryName = 'Obsolete': Filters the update to only apply to products within the \"Obsolete\" category. If there are no products in this category, no rows will be affected."
            ],
            "metadata": {
                "azdata_cell_guid": "5ca6c915-fd66-4893-a28a-386a7a9a85dd"
            },
            "attachments": {}
        },
        {
            "cell_type": "code",
            "source": [
                "USE TSQLV4;\n",
                "UPDATE P\n",
                "SET P.Discontinued = 1  -- Mark as discontinued\n",
                "OUTPUT \n",
                "    Deleted.Discontinued AS OldStatus, \n",
                "    Inserted.Discontinued AS NewStatus,\n",
                "    Inserted.ProductID\n",
                "FROM production.products AS P\n",
                "JOIN production.categories AS C ON P.CategoryID = C.CategoryID\n",
                "WHERE C.CategoryName = 'Obsolete';  -- Update only for \"Obsolete\" category\n",
                ""
            ],
            "metadata": {
                "azdata_cell_guid": "73a69b26-957d-4690-acef-b8b17465aa47",
                "language": "sql",
                "tags": []
            },
            "outputs": [
                {
                    "output_type": "display_data",
                    "data": {
                        "text/html": "(0 rows affected)"
                    },
                    "metadata": {}
                },
                {
                    "output_type": "display_data",
                    "data": {
                        "text/html": "Total execution time: 00:00:00.074"
                    },
                    "metadata": {}
                },
                {
                    "output_type": "execute_result",
                    "metadata": {},
                    "execution_count": 5,
                    "data": {
                        "application/vnd.dataresource+json": {
                            "schema": {
                                "fields": [
                                    {
                                        "name": "OldStatus"
                                    },
                                    {
                                        "name": "NewStatus"
                                    },
                                    {
                                        "name": "ProductID"
                                    }
                                ]
                            },
                            "data": []
                        },
                        "text/html": [
                            "<table>",
                            "<tr><th>OldStatus</th><th>NewStatus</th><th>ProductID</th></tr>",
                            "</table>"
                        ]
                    }
                }
            ],
            "execution_count": 5
        },
        {
            "cell_type": "markdown",
            "source": [
                "## **<u>OUTPUT MODIFIER:</u>**\n",
                "## 8. SQL Code Explanation:\n",
                "\n",
                "This SQL script updates the `qty` (quantity) of products in the `OrderDetails` table based on specific `ProductID` values and a particular customer’s orders. Here’s a breakdown of each part:\n",
                "\n",
                "### Database Context:\n",
                "```sql\n",
                "USE TSQLV4;\n",
                "```\n",
                "### Update Statement:\n",
                "- UPDATE OD: Begins an update on the table alias OD, which represents the OrderDetails table in the dbo schema.\n",
                "- SET OD.QTY = OD.qty + CASE ... END: The CASE statement is used to adjust the qty column based on the ProductID:\n",
                "- WHEN OD.ProductID = 1: If ProductID is 1, qty is increased by 10.\n",
                "- WHEN OD.ProductID = 2: If ProductID is 2, qty is increased by 5.\n",
                "- WHEN OD.ProductID = 3: If ProductID is 3, qty is increased by 3.\n",
                "- ELSE 0: For other ProductID values, no change is made to qty.\n",
                "- FROM dbo.OrderDetails AS OD JOIN dbo.Orders AS O ON OD.OrderID = O.OrderID: Joins OrderDetails (aliased as OD) with Orders (aliased as O) on OrderID.\n",
                "This join allows access to custid in the Orders table to apply the update based on a specific customer’s orders.\n",
                "- WHERE O.custid = 123: Filters the update to apply only to orders from the customer with custid equal to 123 (replace 123 with the desired customer ID).\n",
                "\n",
                ""
            ],
            "metadata": {
                "azdata_cell_guid": "9fc2128b-6c45-4278-bdc3-459815df280c"
            },
            "attachments": {}
        },
        {
            "cell_type": "code",
            "source": [
                "USE TSQLV4;\n",
                "UPDATE OD\n",
                "SET OD.QTY = OD.qty + \n",
                "    CASE \n",
                "        WHEN OD.ProductID = 1 THEN 10   -- Increase by 10 for ProductID 1\n",
                "        WHEN OD.ProductID = 2 THEN 5    -- Increase by 5 for ProductID 2\n",
                "        WHEN OD.ProductID = 3 THEN 3    -- Increase by 3 for ProductID 3\n",
                "        ELSE 0                           -- No change for other ProductIDs\n",
                "    END\n",
                "FROM dbo.OrderDetails AS OD\n",
                "JOIN dbo.Orders AS O ON OD.OrderID = O.OrderID\n",
                "WHERE O.custid = 123;  -- Replace with the specific CustomerID\n",
                ""
            ],
            "metadata": {
                "azdata_cell_guid": "75160071-a1eb-4d02-9155-eda7df1e1952",
                "language": "sql",
                "tags": []
            },
            "outputs": [
                {
                    "output_type": "display_data",
                    "data": {
                        "text/html": "(0 rows affected)"
                    },
                    "metadata": {}
                },
                {
                    "output_type": "display_data",
                    "data": {
                        "text/html": "Total execution time: 00:00:00.019"
                    },
                    "metadata": {}
                }
            ],
            "execution_count": 6
        }
    ]
}