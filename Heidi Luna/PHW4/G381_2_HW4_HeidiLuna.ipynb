{
    "metadata": {
        "kernelspec": {
            "name": "SQL",
            "display_name": "SQL",
            "language": "sql"
        },
        "language_info": {
            "name": "sql",
            "version": ""
        }
    },
    "nbformat_minor": 2,
    "nbformat": 4,
    "cells": [
        {
            "cell_type": "markdown",
            "source": [
                "# Chapter 8: Data Modifications Propositions "
            ],
            "metadata": {
                "azdata_cell_guid": "fe61f36e-df4a-448b-9e27-f0e6ad663b6d"
            },
            "attachments": {}
        },
        {
            "cell_type": "markdown",
            "source": [
                "## **<u>UPDATE MODIFIER:</u>**\n",
                "\n",
                "## 1. SQL Code Explanation:\n",
                "\n",
                "This SQL script is designed to perform an update operation on a specific table in the `TSQLV4` database. Here’s a detailed breakdown:\n",
                "\n",
                "### Database Context:\n",
                "```sql\n",
                "USE TSQLV4;\n",
                "```\n",
                "\n",
                "### Update Statement:\n",
                "- UPDATE dbo.OrderDetails: Specifies the OrderDetails table in the dbo schema as the target for the update operation.\n",
                "- SET discount = discount + 0.05: This line increases the discount column’s value by 0.05 (or 5%) for each row that meets the condition defined in the WHERE clause.\n",
                "- WHERE productid = 51: Limits the update operation to rows where the productid column has a value of 51. Rows with other productid values remain unaffected.\n",
                "\n",
                ""
            ],
            "metadata": {
                "azdata_cell_guid": "f5a2f11e-fd93-47aa-a4c4-a5444bf3192d"
            },
            "attachments": {}
        },
        {
            "cell_type": "code",
            "source": [
                "USE TSQLV4;\n",
                "-- UPDATE examples\n",
                "UPDATE dbo.OrderDetails\n",
                "  SET discount = discount + 0.05\n",
                "WHERE productid = 51;"
            ],
            "metadata": {
                "azdata_cell_guid": "156f4477-ae02-4525-bb6a-e0790710a68d",
                "language": "sql"
            },
            "outputs": [
                {
                    "output_type": "display_data",
                    "data": {
                        "text/html": "(39 rows affected)"
                    },
                    "metadata": {}
                },
                {
                    "output_type": "display_data",
                    "data": {
                        "text/html": "Total execution time: 00:00:00.003"
                    },
                    "metadata": {}
                }
            ],
            "execution_count": 3
        },
        {
            "cell_type": "markdown",
            "source": [
                "## **<u>UPDATE MODIFIER:</u>**\n",
                "\n",
                "## 2. SQL Code Explanation:\n",
                "\n",
                "This SQL script performs an update operation using a compound assignment operator on the `OrderDetails` table in the `TSQLV4` database. Here’s a detailed explanation:\n",
                "\n",
                "### Database Context:\n",
                "```sql\n",
                "USE TSQLV4;\n",
                "```\n",
                "\n",
                "### Update Statement:\n",
                "- UPDATE dbo.OrderDetails: Specifies that the update operation will be applied to the OrderDetails table in the dbo schema.\n",
                "- SET discount += 0.05: Uses the compound assignment operator += to increment the discount column by 0.05 (or 5%) for each row that meets the condition in the WHERE clause.\n",
                "The compound assignment operator += is shorthand for discount = discount + 0.05.\n",
                "- WHERE productid = 51: Applies the update only to rows where the productid column has a value of 51. Rows with other productid values remain unchanged.\n",
                ""
            ],
            "metadata": {
                "language": "sql",
                "azdata_cell_guid": "7acbda15-bb4d-42a6-8cb3-42bf7f0a676b"
            },
            "attachments": {}
        },
        {
            "cell_type": "code",
            "source": [
                "USE TSQLV4;\n",
                "-- Compund assignment operators\n",
                "UPDATE dbo.OrderDetails\n",
                "  SET discount += 0.05\n",
                "WHERE productid = 51;\n",
                "GO"
            ],
            "metadata": {
                "language": "sql",
                "azdata_cell_guid": "c6d03743-4bf3-4e67-9add-eb9a77b3aa2e",
                "tags": []
            },
            "outputs": [
                {
                    "output_type": "display_data",
                    "data": {
                        "text/html": "(39 rows affected)"
                    },
                    "metadata": {}
                },
                {
                    "output_type": "display_data",
                    "data": {
                        "text/html": "Total execution time: 00:00:00.007"
                    },
                    "metadata": {}
                }
            ],
            "execution_count": 24
        },
        {
            "cell_type": "markdown",
            "source": [
                "## **<u>SET MODIFIER:</u>**\n",
                "\n",
                "## 3. SQL Code Explanation:\n",
                "This SQL script updates the `UnitPrice` of products in the `products` table based on their category in the `categories` table. Here's a breakdown of each part:\n",
                "\n",
                "### Database Context:\n",
                "```sql\n",
                "USE TSQLV4;\n",
                "```\n",
                "\n",
                "### Update Statement with Conditional Logic:\n",
                "- UPDATE P: This initiates an update on the table alias P, which represents the products table from the production schema.\n",
                "- SET P.UnitPrice = CASE ... END: The CASE statement is used to apply different updates to P.UnitPrice based on the value of CategoryName in the joined categories table:\n",
                "- WHEN C.CategoryName = 'Electronics': If the product category is Electronics, UnitPrice is increased by 10%, calculated as P.UnitPrice * 1.10.\n",
                "- WHEN C.CategoryName = 'Clothing': If the category is Clothing, UnitPrice is increased by 15%, calculated as P.UnitPrice * 1.15.\n",
                "- WHEN C.CategoryName = 'Home': If the category is Home, UnitPrice is increased by 5%, calculated as P.UnitPrice * 1.05.\n",
                ""
            ],
            "metadata": {
                "azdata_cell_guid": "fda066a0-8bf5-4fad-99ba-1ff9917fb6b1"
            },
            "attachments": {}
        },
        {
            "cell_type": "code",
            "source": [
                "USE TSQLV4;\n",
                "UPDATE P\n",
                "SET P.UnitPrice = \n",
                "    CASE \n",
                "        WHEN C.CategoryName = 'Electronics' THEN P.UnitPrice * 1.10  -- Increase by 10% for Electronics\n",
                "        WHEN C.CategoryName = 'Clothing' THEN P.UnitPrice * 1.15      -- Increase by 15% for Clothing\n",
                "        WHEN C.CategoryName = 'Home' THEN P.UnitPrice * 1.05          -- Increase by 5% for Home\n",
                "        ELSE P.UnitPrice                                             -- No change for other categories\n",
                "    END\n",
                "FROM production.products AS P\n",
                "JOIN production.categories AS C ON P.CategoryID = C.CategoryID;"
            ],
            "metadata": {
                "azdata_cell_guid": "5cd77b1c-927f-4f89-9cd6-3edb65f51c4f",
                "language": "sql",
                "tags": []
            },
            "outputs": [
                {
                    "output_type": "display_data",
                    "data": {
                        "text/html": "(77 rows affected)"
                    },
                    "metadata": {}
                },
                {
                    "output_type": "display_data",
                    "data": {
                        "text/html": "Total execution time: 00:00:00.014"
                    },
                    "metadata": {}
                }
            ],
            "execution_count": 32
        },
        {
            "cell_type": "markdown",
            "source": [
                "## **<u>Update Join:</u>**\n",
                "\n",
                "## 4. SQL Code Explanation:\n",
                "This UPDATE statement is intended to increase the qty (quantity) by 5 for all items in the OrderDetails table where the OrderID is associated with a specific CustomerID in the Orders table. Below is an explanation of each part:\n",
                "\n",
                "### Database Context:\n",
                "```sql\n",
                "USE TSQLV4;\n",
                "```\n",
                "\n",
                "### Update Statement with Conditional Logic:\n",
                "- UPDATE OD: Begins an update on the OrderDetails table, which is aliased as OD.\n",
                "- SET OD.qty = OD.qty + 5: Sets the qty column to its current value plus 5, effectively increasing the quantity by 5 for each row that meets the criteria in the WHERE clause.\n",
                "- FROM dbo.OrderDetails AS OD JOIN dbo.Orders AS O ON OD.OrderID = O.OrderID: Joins the OrderDetails table (aliased as OD) with the Orders table (aliased as O) based on the OrderID. This allows access to both tables’ data in a single query.\n",
                "- WHERE O.custid = 123: Filters the update operation to only apply to rows where custid in the Orders table matches 123.\n",
                "Note: Replace 123 with the desired CustomerID if testing with another customer."
            ],
            "metadata": {
                "language": "sql",
                "azdata_cell_guid": "e5dad84f-a0b1-4df5-b0c7-2ddb37bb93aa"
            },
            "attachments": {}
        },
        {
            "cell_type": "code",
            "source": [
                "USE TSQLV4;\n",
                "UPDATE OD\n",
                "SET OD.qty = OD.qty + 5  -- Increase quantity by 5\n",
                "FROM dbo.OrderDetails AS OD\n",
                "JOIN dbo.Orders AS O ON OD.OrderID = O.OrderID\n",
                "WHERE O.custid= 123;  -- Replace 123 with the specific CustomerID"
            ],
            "metadata": {
                "language": "sql",
                "azdata_cell_guid": "9663a7f8-d358-4c57-ad9b-b1a1be7b9b19",
                "tags": []
            },
            "outputs": [
                {
                    "output_type": "display_data",
                    "data": {
                        "text/html": "(0 rows affected)"
                    },
                    "metadata": {}
                },
                {
                    "output_type": "display_data",
                    "data": {
                        "text/html": "Total execution time: 00:00:00.022"
                    },
                    "metadata": {}
                }
            ],
            "execution_count": 4
        },
        {
            "cell_type": "markdown",
            "source": [
                "## **<u>Update Join:</u>**\n",
                "\n",
                "## 5. SQL Code Explanation:\n",
                "This SQL script increases the `discount` by 10% for all entries in the `OrderDetails` table where the `OrderID` is associated with a specific customer (`custid = 1`). Here’s a detailed breakdown:\n",
                "\n",
                "### Database Context:\n",
                "```sql\n",
                "USE TSQLV4;\n",
                "```\n",
                "\n",
                "### Update Statement with Conditional Logic:\n",
                "- UPDATE OD: Specifies that the OrderDetails table (aliased as OD) is the target for the update operation.\n",
                "- SET discount += 0.10: Uses the compound assignment operator += to add 0.10 (or 10%) to the existing discount value for each qualifying row.\n",
                "The += operator is shorthand for discount = discount + 0.10.\n",
                "- FROM dbo.OrderDetails AS OD INNER JOIN dbo.Orders AS O ON OD.orderid = O.orderid: Joins the OrderDetails table (aliased as OD) with the Orders table (aliased as O) on the OrderID. This allows the update to apply only to rows in OrderDetails that are associated with specific orders in Orders.\n",
                "- WHERE O.custid = 1: Filters the update operation to rows where custid in the Orders table is 1. Replace 1 with another CustomerID if necessary."
            ],
            "metadata": {
                "language": "sql",
                "azdata_cell_guid": "da8c538c-bf85-47f9-b5de-fa88bee7c6d2"
            },
            "attachments": {}
        },
        {
            "cell_type": "code",
            "source": [
                "USE TSQLV4;\n",
                "UPDATE OD\n",
                "  SET discount += 0.10\n",
                "FROM dbo.OrderDetails AS OD\n",
                "  INNER JOIN dbo.Orders AS O\n",
                "    ON OD.orderid = O.orderid\n",
                "WHERE O.custid = 1;\n",
                ""
            ],
            "metadata": {
                "azdata_cell_guid": "8bd13cc4-e205-4c56-aa37-7dba519a2263",
                "language": "sql",
                "tags": []
            },
            "outputs": [
                {
                    "output_type": "display_data",
                    "data": {
                        "text/html": "(0 rows affected)"
                    },
                    "metadata": {}
                },
                {
                    "output_type": "display_data",
                    "data": {
                        "text/html": "Total execution time: 00:00:00.004"
                    },
                    "metadata": {}
                }
            ],
            "execution_count": 39
        },
        {
            "cell_type": "markdown",
            "source": [
                "## **<u>Case Modifier:</u>**\n",
                "\n",
                "## 6. SQL Code Explanation:\n",
                "This SQL script marks products as discontinued in the `products` table if they belong to a category named \"Obsolete.\" It also uses the `OUTPUT` clause to show before-and-after values of the `Discontinued` status for each updated product. Here’s a detailed breakdown\n",
                "\n",
                "### Database Context:\n",
                "```sql\n",
                "USE TSQLV4;\n",
                "```\n",
                "\n",
                "### Update Statement with Output Clause:\n",
                "1. UPDATE P: Initiates an update on the products table, which is aliased as P.\n",
                "2. SET P.Discontinued = 1: Sets the Discontinued column to 1, marking the product as discontinued for each row that matches the criteria.\n",
                "3. OUTPUT Clause: The OUTPUT clause returns information about the changes made by this UPDATE statement:\n",
                "- Deleted.Discontinued AS OldStatus: Captures the old value of Discontinued before the update.\n",
                "- Inserted.Discontinued AS NewStatus: Captures the new value of Discontinued after the update.\n",
                "- Inserted.ProductID: Shows the ProductID of each updated product, allowing you to track which products were modified.\n",
                "4. FROM production.products AS P JOIN production.categories AS C ON P.CategoryID = C.CategoryID: Joins products (aliased as P) with categories (aliased as C) on CategoryID. This join enables access to the category information for each product.\n",
                "5. WHERE C.CategoryName = 'Obsolete': Filters the update to only apply to products within the \"Obsolete\" category. If there are no products in this category, no rows will be affected."
            ],
            "metadata": {
                "azdata_cell_guid": "5ca6c915-fd66-4893-a28a-386a7a9a85dd"
            },
            "attachments": {}
        },
        {
            "cell_type": "code",
            "source": [
                "USE TSQLV4;\n",
                "UPDATE P\n",
                "SET P.Discontinued = 1  -- Mark as discontinued\n",
                "OUTPUT \n",
                "    Deleted.Discontinued AS OldStatus, \n",
                "    Inserted.Discontinued AS NewStatus,\n",
                "    Inserted.ProductID\n",
                "FROM production.products AS P\n",
                "JOIN production.categories AS C ON P.CategoryID = C.CategoryID\n",
                "WHERE C.CategoryName = 'Obsolete';  -- Update only for \"Obsolete\" category\n",
                ""
            ],
            "metadata": {
                "azdata_cell_guid": "73a69b26-957d-4690-acef-b8b17465aa47",
                "language": "sql",
                "tags": []
            },
            "outputs": [
                {
                    "output_type": "display_data",
                    "data": {
                        "text/html": "(0 rows affected)"
                    },
                    "metadata": {}
                },
                {
                    "output_type": "display_data",
                    "data": {
                        "text/html": "Total execution time: 00:00:00.074"
                    },
                    "metadata": {}
                },
                {
                    "output_type": "execute_result",
                    "metadata": {},
                    "execution_count": 5,
                    "data": {
                        "application/vnd.dataresource+json": {
                            "schema": {
                                "fields": [
                                    {
                                        "name": "OldStatus"
                                    },
                                    {
                                        "name": "NewStatus"
                                    },
                                    {
                                        "name": "ProductID"
                                    }
                                ]
                            },
                            "data": []
                        },
                        "text/html": [
                            "<table>",
                            "<tr><th>OldStatus</th><th>NewStatus</th><th>ProductID</th></tr>",
                            "</table>"
                        ]
                    }
                }
            ],
            "execution_count": 5
        },
        {
            "cell_type": "markdown",
            "source": [
                "## **<u>OUTPUT MODIFIER:</u>**\n",
                "## 7. SQL Code Explanation:\n",
                "\n",
                "This SQL script updates the `qty` (quantity) of products in the `OrderDetails` table based on specific `ProductID` values and a particular customer’s orders. Here’s a breakdown of each part:\n",
                "\n",
                "### Database Context:\n",
                "```sql\n",
                "USE TSQLV4;\n",
                "```\n",
                "### Update Statement:\n",
                "- UPDATE OD: Begins an update on the table alias OD, which represents the OrderDetails table in the dbo schema.\n",
                "- SET OD.QTY = OD.qty + CASE ... END: The CASE statement is used to adjust the qty column based on the ProductID:\n",
                "- WHEN OD.ProductID = 1: If ProductID is 1, qty is increased by 10.\n",
                "- WHEN OD.ProductID = 2: If ProductID is 2, qty is increased by 5.\n",
                "- WHEN OD.ProductID = 3: If ProductID is 3, qty is increased by 3.\n",
                "- ELSE 0: For other ProductID values, no change is made to qty.\n",
                "- FROM dbo.OrderDetails AS OD JOIN dbo.Orders AS O ON OD.OrderID = O.OrderID: Joins OrderDetails (aliased as OD) with Orders (aliased as O) on OrderID.\n",
                "This join allows access to custid in the Orders table to apply the update based on a specific customer’s orders.\n",
                "- WHERE O.custid = 123: Filters the update to apply only to orders from the customer with custid equal to 123 (replace 123 with the desired customer ID).\n",
                "\n",
                ""
            ],
            "metadata": {
                "azdata_cell_guid": "9fc2128b-6c45-4278-bdc3-459815df280c"
            },
            "attachments": {}
        },
        {
            "cell_type": "code",
            "source": [
                "USE TSQLV4;\n",
                "UPDATE OD\n",
                "SET OD.QTY = OD.qty + \n",
                "    CASE \n",
                "        WHEN OD.ProductID = 1 THEN 10   -- Increase by 10 for ProductID 1\n",
                "        WHEN OD.ProductID = 2 THEN 5    -- Increase by 5 for ProductID 2\n",
                "        WHEN OD.ProductID = 3 THEN 3    -- Increase by 3 for ProductID 3\n",
                "        ELSE 0                           -- No change for other ProductIDs\n",
                "    END\n",
                "FROM dbo.OrderDetails AS OD\n",
                "JOIN dbo.Orders AS O ON OD.OrderID = O.OrderID\n",
                "WHERE O.custid = 123;  -- Replace with the specific CustomerID\n",
                ""
            ],
            "metadata": {
                "azdata_cell_guid": "75160071-a1eb-4d02-9155-eda7df1e1952",
                "language": "sql",
                "tags": []
            },
            "outputs": [
                {
                    "output_type": "display_data",
                    "data": {
                        "text/html": "(0 rows affected)"
                    },
                    "metadata": {}
                },
                {
                    "output_type": "display_data",
                    "data": {
                        "text/html": "Total execution time: 00:00:00.019"
                    },
                    "metadata": {}
                }
            ],
            "execution_count": 6
        }
    ]
}