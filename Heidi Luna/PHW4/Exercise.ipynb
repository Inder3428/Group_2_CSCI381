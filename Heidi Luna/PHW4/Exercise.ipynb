{
    "metadata": {
        "kernelspec": {
            "name": "SQL",
            "display_name": "SQL",
            "language": "sql"
        },
        "language_info": {
            "name": "sql",
            "version": ""
        }
    },
    "nbformat_minor": 2,
    "nbformat": 4,
    "cells": [
        {
            "cell_type": "markdown",
            "source": [
                "# Chapter 8: Data Modification \n",
                "### <u>Exercise 5:</u>\n",
                "Update in the dbo.Orders table all orders placed by UK customers and set their shipcountry, shipregion, shipcity values to the country, region, city values of the corresponding customers from dbo.Customers"
            ],
            "metadata": {
                "azdata_cell_guid": "ce27d0ab-3114-46a3-ab22-2b5326fb9de8"
            },
            "attachments": {}
        },
        {
            "cell_type": "code",
            "source": [
                "-- Drop tables if they exist for a clean start\n",
                "DROP TABLE IF EXISTS dbo.Orders;\n",
                "DROP TABLE IF EXISTS dbo.Customers;\n",
                "\n",
                "-- Create the Customers table\n",
                "CREATE TABLE dbo.Customers\n",
                "(\n",
                "  custid      INT          NOT NULL PRIMARY KEY,\n",
                "  companyname NVARCHAR(40) NOT NULL,\n",
                "  country     NVARCHAR(15) NOT NULL,\n",
                "  region      NVARCHAR(15) NULL,\n",
                "  city        NVARCHAR(15) NOT NULL  \n",
                ");\n",
                "\n",
                "-- Create the Orders table\n",
                "CREATE TABLE dbo.Orders\n",
                "(\n",
                "    orderid     INT NOT NULL PRIMARY KEY,\n",
                "    custid      INT NOT NULL,\n",
                "    shipcountry  NVARCHAR(15) NULL,\n",
                "    shipregion   NVARCHAR(15) NULL,\n",
                "    shipcity     NVARCHAR(15) NULL\n",
                ");\n",
                "\n",
                "\n",
                "UPDATE O\n",
                "SET O.shipcountry = C.country,\n",
                "    O.shipregion = C.region,\n",
                "    O.shipcity = C.city\n",
                "FROM dbo.Orders AS O\n",
                "INNER JOIN dbo.Customers AS C\n",
                "ON O.custid = C.custid\n",
                "WHERE C.country = N'UK';\n",
                ""
            ],
            "metadata": {
                "azdata_cell_guid": "19524897-992b-45ee-bcd9-c451d93e5adb",
                "language": "sql"
            },
            "outputs": [
                {
                    "output_type": "display_data",
                    "data": {
                        "text/html": "(0 rows affected)"
                    },
                    "metadata": {}
                },
                {
                    "output_type": "display_data",
                    "data": {
                        "text/html": "Total execution time: 00:00:00.038"
                    },
                    "metadata": {}
                }
            ],
            "execution_count": 3
        }
    ]
}